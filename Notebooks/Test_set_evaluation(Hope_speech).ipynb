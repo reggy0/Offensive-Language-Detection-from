{
  "nbformat": 4,
  "nbformat_minor": 0,
  "metadata": {
    "colab": {
      "name": "Test_set_evaluation(Hope_speech).ipynb",
      "provenance": [],
      "collapsed_sections": [],
      "authorship_tag": "ABX9TyO420JlhjN4LwKYXP7+Agoa",
      "include_colab_link": true
    },
    "kernelspec": {
      "name": "python3",
      "display_name": "Python 3"
    }
  },
  "cells": [
    {
      "cell_type": "markdown",
      "metadata": {
        "id": "view-in-github",
        "colab_type": "text"
      },
      "source": [
        "<a href=\"https://colab.research.google.com/github/eftekhar-hossain/CUET_NLP-EACL_2021/blob/main/Test_set_evaluation(Hope_speech).ipynb\" target=\"_parent\"><img src=\"https://colab.research.google.com/assets/colab-badge.svg\" alt=\"Open In Colab\"/></a>"
      ]
    },
    {
      "cell_type": "code",
      "metadata": {
        "colab": {
          "base_uri": "https://localhost:8080/"
        },
        "id": "Ho5pN8cGHeNv",
        "outputId": "ebbf13d1-78f4-4ceb-ebc7-b05f65fc8a64"
      },
      "source": [
        "from google.colab import drive\n",
        "drive.mount('/content/drive')"
      ],
      "execution_count": null,
      "outputs": [
        {
          "output_type": "stream",
          "text": [
            "Mounted at /content/drive\n"
          ],
          "name": "stdout"
        }
      ]
    },
    {
      "cell_type": "markdown",
      "metadata": {
        "id": "dCBbjQpQH0pK"
      },
      "source": [
        "#Libraries"
      ]
    },
    {
      "cell_type": "code",
      "metadata": {
        "colab": {
          "base_uri": "https://localhost:8080/"
        },
        "id": "KG_t2DJmH9Ja",
        "outputId": "e6566baf-cd0c-4d5f-ba1f-4bfbdc6cb1a5"
      },
      "source": [
        "%%time\n",
        "import numpy as np\n",
        "import matplotlib.pyplot as plt\n",
        "%matplotlib inline\n",
        "import pandas as pd\n",
        "import seaborn as sns\n",
        "from sklearn.metrics import confusion_matrix\n",
        "from sklearn.metrics import classification_report \n",
        "from sklearn.model_selection import train_test_split\n",
        "from sklearn.metrics import accuracy_score,precision_score,recall_score,f1_score,roc_auc_score\n",
        "from sklearn.metrics import average_precision_score,roc_auc_score, roc_curve, precision_recall_curve\n",
        "from sklearn.preprocessing import LabelEncoder\n",
        "from sklearn.metrics import plot_confusion_matrix\n",
        "np.random.seed(42)\n",
        "import warnings\n",
        "warnings.filterwarnings('ignore')\n",
        "### Pretrained Word Embeddings\n",
        "result_path = \"/content/drive/MyDrive/Colab Notebooks/NLP Projects/EACL 2021- Shared Tasks/Hope Speech/Evaluation/\"\n",
        "folder_path = \"/content/drive/MyDrive/Colab Notebooks/NLP Projects/EACL 2021- Shared Tasks/Hope Speech/\"\n"
      ],
      "execution_count": null,
      "outputs": [
        {
          "output_type": "stream",
          "text": [
            "CPU times: user 411 ms, sys: 200 ms, total: 611 ms\n",
            "Wall time: 995 ms\n"
          ],
          "name": "stdout"
        }
      ]
    },
    {
      "cell_type": "markdown",
      "metadata": {
        "id": "x7__OAXaJ6f2"
      },
      "source": [
        "#Evaluation Metrices"
      ]
    },
    {
      "cell_type": "code",
      "metadata": {
        "id": "lAlhCFocJ95t"
      },
      "source": [
        "def print_metrices(true,pred):\n",
        "    print(confusion_matrix(true,pred))\n",
        "    print(classification_report(true,pred))\n",
        "    print(\"Accuracy : \",round(accuracy_score(true,pred),3))\n",
        "    print(\"Precison : \",round(precision_score(true,pred, average = 'weighted'),3))\n",
        "    print(\"Recall : \",round(recall_score(true,pred,  average = 'weighted'),3))\n",
        "    print(\"F1 : \",round(f1_score(true,pred,  average = 'weighted'),3))"
      ],
      "execution_count": null,
      "outputs": []
    },
    {
      "cell_type": "code",
      "metadata": {
        "id": "0O5J1MBcLtqO"
      },
      "source": [
        "def con_mat(true,pred,class_names,language):\n",
        "  \n",
        "  cm = confusion_matrix(true,pred)\n",
        "  #sns.set()\n",
        "  plt.figure(figsize =(5, 3))\n",
        "  ax = plt.subplot()\n",
        "  sns.heatmap(cm, annot=True,fmt=\"d\",cmap='Greens', ax = ax,annot_kws={\"size\": 12}) #annot=True to annotate cells\n",
        "  # labels, title and ticks\n",
        "  ax.set_xlabel('Predicted labels')\n",
        "  ax.set_ylabel('True labels') \n",
        "  #ax.set_title('Confusion Matrix') \n",
        "  ax.xaxis.set_ticklabels(class_names, rotation=45); ax.yaxis.set_ticklabels(class_names, rotation=45);\n",
        "  ax.xaxis.tick_top()\n",
        "  plt.savefig(f\"{language}.png\",bbox_inches='tight',dpi =600)"
      ],
      "execution_count": null,
      "outputs": []
    },
    {
      "cell_type": "markdown",
      "metadata": {
        "id": "PYYkW1tfIha5"
      },
      "source": [
        "# Tamil Result"
      ]
    },
    {
      "cell_type": "code",
      "metadata": {
        "id": "pODfSt8nIc1y"
      },
      "source": [
        "### Actual Test labels\n",
        "actual_labels = pd.read_csv(result_path+'tamil_hope_test.csv',delimiter=';')\n",
        "actual_labels  = actual_labels.drop(columns='Unnamed: 2')\n",
        "actual_labels "
      ],
      "execution_count": null,
      "outputs": []
    },
    {
      "cell_type": "code",
      "metadata": {
        "colab": {
          "base_uri": "https://localhost:8080/"
        },
        "id": "9EY2ShJs20CM",
        "outputId": "b82d2ce0-3e03-47d8-9943-b6fd69950612"
      },
      "source": [
        "actual_labels['label'].value_counts()"
      ],
      "execution_count": null,
      "outputs": [
        {
          "output_type": "execute_result",
          "data": {
            "text/plain": [
              "Non_hope_speech    946\n",
              "Hope_speech        815\n",
              "not-Tamil          259\n",
              "Name: label, dtype: int64"
            ]
          },
          "metadata": {
            "tags": []
          },
          "execution_count": 29
        }
      ]
    },
    {
      "cell_type": "code",
      "metadata": {
        "id": "COT7Xf41JA3D",
        "colab": {
          "base_uri": "https://localhost:8080/"
        },
        "outputId": "887a3636-7dfc-4bae-8e6b-0c5a1507d8ba"
      },
      "source": [
        "### Predicted Labels for all the models\n",
        "predicted_labels = pd.read_excel(result_path +'test_predictions_ta.xlsx')\n",
        "model_names = predicted_labels.columns.values.tolist()\n",
        "model_names= model_names[1:]\n",
        "model_names\n"
      ],
      "execution_count": null,
      "outputs": [
        {
          "output_type": "execute_result",
          "data": {
            "text/plain": [
              "['xlm-r',\n",
              " 'm-bert',\n",
              " 'indic-bert',\n",
              " 'cnn-bilstm',\n",
              " 'cnn-bilstm-fas',\n",
              " 'LR',\n",
              " 'SVM',\n",
              " 'Ensemble']"
            ]
          },
          "metadata": {
            "tags": []
          },
          "execution_count": 10
        }
      ]
    },
    {
      "cell_type": "code",
      "metadata": {
        "colab": {
          "base_uri": "https://localhost:8080/"
        },
        "id": "s3Pvi2qGKblD",
        "outputId": "e164b170-addf-4372-ca5a-bb5669b3d7f3"
      },
      "source": [
        "for i in model_names:\n",
        "  print(\"Model Name: ----> \",i,\"\\n\")\n",
        "  print_metrices(actual_labels['label'],predicted_labels[i])\n",
        "  print('\\n')"
      ],
      "execution_count": null,
      "outputs": [
        {
          "output_type": "stream",
          "text": [
            "Model Name: ---->  xlm-r \n",
            "\n",
            "[[372 362  81]\n",
            " [217 653  76]\n",
            " [ 26  28 205]]\n",
            "                 precision    recall  f1-score   support\n",
            "\n",
            "    Hope_speech       0.60      0.46      0.52       815\n",
            "Non_hope_speech       0.63      0.69      0.66       946\n",
            "      not-Tamil       0.57      0.79      0.66       259\n",
            "\n",
            "       accuracy                           0.61      2020\n",
            "      macro avg       0.60      0.65      0.61      2020\n",
            "   weighted avg       0.61      0.61      0.60      2020\n",
            "\n",
            "Accuracy :  0.609\n",
            "Precison :  0.61\n",
            "Recall :  0.609\n",
            "F1 :  0.602\n",
            "\n",
            "\n",
            "Model Name: ---->  m-bert \n",
            "\n",
            "[[402 352  61]\n",
            " [268 633  45]\n",
            " [ 45  56 158]]\n",
            "                 precision    recall  f1-score   support\n",
            "\n",
            "    Hope_speech       0.56      0.49      0.53       815\n",
            "Non_hope_speech       0.61      0.67      0.64       946\n",
            "      not-Tamil       0.60      0.61      0.60       259\n",
            "\n",
            "       accuracy                           0.59      2020\n",
            "      macro avg       0.59      0.59      0.59      2020\n",
            "   weighted avg       0.59      0.59      0.59      2020\n",
            "\n",
            "Accuracy :  0.591\n",
            "Precison :  0.588\n",
            "Recall :  0.591\n",
            "F1 :  0.588\n",
            "\n",
            "\n",
            "Model Name: ---->  indic-bert \n",
            "\n",
            "[[312 423  80]\n",
            " [187 684  75]\n",
            " [ 25  35 199]]\n",
            "                 precision    recall  f1-score   support\n",
            "\n",
            "    Hope_speech       0.60      0.38      0.47       815\n",
            "Non_hope_speech       0.60      0.72      0.66       946\n",
            "      not-Tamil       0.56      0.77      0.65       259\n",
            "\n",
            "       accuracy                           0.59      2020\n",
            "      macro avg       0.59      0.62      0.59      2020\n",
            "   weighted avg       0.59      0.59      0.58      2020\n",
            "\n",
            "Accuracy :  0.592\n",
            "Precison :  0.593\n",
            "Recall :  0.592\n",
            "F1 :  0.578\n",
            "\n",
            "\n",
            "Model Name: ---->  cnn-bilstm \n",
            "\n",
            "[[291 387 137]\n",
            " [195 645 106]\n",
            " [ 22  43 194]]\n",
            "                 precision    recall  f1-score   support\n",
            "\n",
            "    Hope_speech       0.57      0.36      0.44       815\n",
            "Non_hope_speech       0.60      0.68      0.64       946\n",
            "      not-Tamil       0.44      0.75      0.56       259\n",
            "\n",
            "       accuracy                           0.56      2020\n",
            "      macro avg       0.54      0.60      0.55      2020\n",
            "   weighted avg       0.57      0.56      0.55      2020\n",
            "\n",
            "Accuracy :  0.559\n",
            "Precison :  0.569\n",
            "Recall :  0.559\n",
            "F1 :  0.548\n",
            "\n",
            "\n",
            "Model Name: ---->  cnn-bilstm-fas \n",
            "\n",
            "[[257 421 137]\n",
            " [165 669 112]\n",
            " [ 35  24 200]]\n",
            "                 precision    recall  f1-score   support\n",
            "\n",
            "    Hope_speech       0.56      0.32      0.40       815\n",
            "Non_hope_speech       0.60      0.71      0.65       946\n",
            "      not-Tamil       0.45      0.77      0.56       259\n",
            "\n",
            "       accuracy                           0.56      2020\n",
            "      macro avg       0.54      0.60      0.54      2020\n",
            "   weighted avg       0.57      0.56      0.54      2020\n",
            "\n",
            "Accuracy :  0.557\n",
            "Precison :  0.565\n",
            "Recall :  0.557\n",
            "F1 :  0.54\n",
            "\n",
            "\n",
            "Model Name: ---->  LR \n",
            "\n",
            "[[383 317 115]\n",
            " [279 576  91]\n",
            " [ 29  52 178]]\n",
            "                 precision    recall  f1-score   support\n",
            "\n",
            "    Hope_speech       0.55      0.47      0.51       815\n",
            "Non_hope_speech       0.61      0.61      0.61       946\n",
            "      not-Tamil       0.46      0.69      0.55       259\n",
            "\n",
            "       accuracy                           0.56      2020\n",
            "      macro avg       0.54      0.59      0.56      2020\n",
            "   weighted avg       0.57      0.56      0.56      2020\n",
            "\n",
            "Accuracy :  0.563\n",
            "Precison :  0.569\n",
            "Recall :  0.563\n",
            "F1 :  0.562\n",
            "\n",
            "\n",
            "Model Name: ---->  SVM \n",
            "\n",
            "[[316 379 120]\n",
            " [199 646 101]\n",
            " [ 19  43 197]]\n",
            "                 precision    recall  f1-score   support\n",
            "\n",
            "    Hope_speech       0.59      0.39      0.47       815\n",
            "Non_hope_speech       0.60      0.68      0.64       946\n",
            "      not-Tamil       0.47      0.76      0.58       259\n",
            "\n",
            "       accuracy                           0.57      2020\n",
            "      macro avg       0.56      0.61      0.56      2020\n",
            "   weighted avg       0.58      0.57      0.56      2020\n",
            "\n",
            "Accuracy :  0.574\n",
            "Precison :  0.582\n",
            "Recall :  0.574\n",
            "F1 :  0.564\n",
            "\n",
            "\n",
            "Model Name: ---->  Ensemble \n",
            "\n",
            "[[328 410  77]\n",
            " [190 693  63]\n",
            " [ 42  59 158]]\n",
            "                 precision    recall  f1-score   support\n",
            "\n",
            "    Hope_speech       0.59      0.40      0.48       815\n",
            "Non_hope_speech       0.60      0.73      0.66       946\n",
            "      not-Tamil       0.53      0.61      0.57       259\n",
            "\n",
            "       accuracy                           0.58      2020\n",
            "      macro avg       0.57      0.58      0.57      2020\n",
            "   weighted avg       0.58      0.58      0.57      2020\n",
            "\n",
            "Accuracy :  0.584\n",
            "Precison :  0.584\n",
            "Recall :  0.584\n",
            "F1 :  0.573\n",
            "\n",
            "\n"
          ],
          "name": "stdout"
        }
      ]
    },
    {
      "cell_type": "code",
      "metadata": {
        "colab": {
          "base_uri": "https://localhost:8080/",
          "height": 255
        },
        "id": "XGM4pLkrL-U-",
        "outputId": "355754b9-2a22-4633-e2c6-f146be87bc8b"
      },
      "source": [
        "con_mat(actual_labels['label'],predicted_labels['xlm-r'],class_names=['Hope','Not Hope','nT'],language='tamil')"
      ],
      "execution_count": null,
      "outputs": [
        {
          "output_type": "display_data",
          "data": {
            "image/png": "[encoded data removed]",
            "text/plain": [
              "<Figure size 360x216 with 2 Axes>"
            ]
          },
          "metadata": {
            "tags": [],
            "needs_background": "light"
          }
        }
      ]
    },
    {
      "cell_type": "markdown",
      "metadata": {
        "id": "jVyTQzv0y11X"
      },
      "source": [
        "# Malayalam Result"
      ]
    },
    {
      "cell_type": "code",
      "metadata": {
        "id": "XN9R3NnNy11t"
      },
      "source": [
        "### Actual Test labels\n",
        "actual_labels_mal = pd.read_csv(result_path+'malayalam_hope_test.csv',delimiter=';')\n",
        "actual_labels_mal  = actual_labels_mal.drop(columns='Unnamed: 2')\n",
        "actual_labels_mal['label'] = actual_labels_mal['label'].replace({'not-Malayalam':'not-malayalam'}) \n",
        "actual_labels_mal"
      ],
      "execution_count": null,
      "outputs": []
    },
    {
      "cell_type": "code",
      "metadata": {
        "colab": {
          "base_uri": "https://localhost:8080/"
        },
        "id": "raKMDVrS3GwY",
        "outputId": "9d9f52fd-70d7-4c8a-ef90-74328cabfa32"
      },
      "source": [
        "actual_labels_mal['label'].value_counts()"
      ],
      "execution_count": null,
      "outputs": [
        {
          "output_type": "execute_result",
          "data": {
            "text/plain": [
              "Non_hope_speech    776\n",
              "Hope_speech        194\n",
              "not-malayalam      101\n",
              "Name: label, dtype: int64"
            ]
          },
          "metadata": {
            "tags": []
          },
          "execution_count": 31
        }
      ]
    },
    {
      "cell_type": "code",
      "metadata": {
        "colab": {
          "base_uri": "https://localhost:8080/"
        },
        "id": "yv2GlBZqy11v",
        "outputId": "ab9c2d36-7fac-4fa3-afa2-efa1c404c1b7"
      },
      "source": [
        "### Predicted Labels for all the models\n",
        "predicted_labels_mal = pd.read_excel(result_path +'test_predictions_mal.xlsx')\n",
        "model_names = predicted_labels_mal.columns.values.tolist()\n",
        "model_names= model_names[1:]\n",
        "model_names\n"
      ],
      "execution_count": null,
      "outputs": [
        {
          "output_type": "execute_result",
          "data": {
            "text/plain": [
              "['xlm-r',\n",
              " 'xlnet',\n",
              " 'm-bert',\n",
              " 'indic-bert',\n",
              " 'cnn-bilstm',\n",
              " 'cnn-bilstm-fas',\n",
              " 'LR',\n",
              " 'SVM',\n",
              " 'Ensemble']"
            ]
          },
          "metadata": {
            "tags": []
          },
          "execution_count": 15
        }
      ]
    },
    {
      "cell_type": "code",
      "metadata": {
        "colab": {
          "base_uri": "https://localhost:8080/"
        },
        "id": "glhXU4jYy11w",
        "outputId": "4bb18d47-3955-4e2b-d52d-cfbbb8168863"
      },
      "source": [
        "for i in model_names:\n",
        "  print(\"Model Name: ----> \",i,\"\\n\")\n",
        "  print_metrices(actual_labels_mal['label'],predicted_labels_mal[i])\n",
        "  print('\\n')"
      ],
      "execution_count": null,
      "outputs": [
        {
          "output_type": "stream",
          "text": [
            "Model Name: ---->  xlm-r \n",
            "\n",
            "[[143  47   4]\n",
            " [ 76 688  12]\n",
            " [  5  15  81]]\n",
            "                 precision    recall  f1-score   support\n",
            "\n",
            "    Hope_speech       0.64      0.74      0.68       194\n",
            "Non_hope_speech       0.92      0.89      0.90       776\n",
            "  not-malayalam       0.84      0.80      0.82       101\n",
            "\n",
            "       accuracy                           0.85      1071\n",
            "      macro avg       0.80      0.81      0.80      1071\n",
            "   weighted avg       0.86      0.85      0.85      1071\n",
            "\n",
            "Accuracy :  0.852\n",
            "Precison :  0.859\n",
            "Recall :  0.852\n",
            "F1 :  0.854\n",
            "\n",
            "\n",
            "Model Name: ---->  xlnet \n",
            "\n",
            "[[ 66 123   5]\n",
            " [ 52 718   6]\n",
            " [  5  26  70]]\n",
            "                 precision    recall  f1-score   support\n",
            "\n",
            "    Hope_speech       0.54      0.34      0.42       194\n",
            "Non_hope_speech       0.83      0.93      0.87       776\n",
            "  not-malayalam       0.86      0.69      0.77       101\n",
            "\n",
            "       accuracy                           0.80      1071\n",
            "      macro avg       0.74      0.65      0.69      1071\n",
            "   weighted avg       0.78      0.80      0.78      1071\n",
            "\n",
            "Accuracy :  0.797\n",
            "Precison :  0.779\n",
            "Recall :  0.797\n",
            "F1 :  0.781\n",
            "\n",
            "\n",
            "Model Name: ---->  m-bert \n",
            "\n",
            "[[ 68 120   6]\n",
            " [ 34 737   5]\n",
            " [  2  23  76]]\n",
            "                 precision    recall  f1-score   support\n",
            "\n",
            "    Hope_speech       0.65      0.35      0.46       194\n",
            "Non_hope_speech       0.84      0.95      0.89       776\n",
            "  not-malayalam       0.87      0.75      0.81       101\n",
            "\n",
            "       accuracy                           0.82      1071\n",
            "      macro avg       0.79      0.68      0.72      1071\n",
            "   weighted avg       0.81      0.82      0.80      1071\n",
            "\n",
            "Accuracy :  0.823\n",
            "Precison :  0.808\n",
            "Recall :  0.823\n",
            "F1 :  0.804\n",
            "\n",
            "\n",
            "Model Name: ---->  indic-bert \n",
            "\n",
            "[[116  70   8]\n",
            " [ 61 710   5]\n",
            " [  4  21  76]]\n",
            "                 precision    recall  f1-score   support\n",
            "\n",
            "    Hope_speech       0.64      0.60      0.62       194\n",
            "Non_hope_speech       0.89      0.91      0.90       776\n",
            "  not-malayalam       0.85      0.75      0.80       101\n",
            "\n",
            "       accuracy                           0.84      1071\n",
            "      macro avg       0.79      0.76      0.77      1071\n",
            "   weighted avg       0.84      0.84      0.84      1071\n",
            "\n",
            "Accuracy :  0.842\n",
            "Precison :  0.839\n",
            "Recall :  0.842\n",
            "F1 :  0.84\n",
            "\n",
            "\n",
            "Model Name: ---->  cnn-bilstm \n",
            "\n",
            "[[ 85  90  19]\n",
            " [ 30 687  59]\n",
            " [  0  20  81]]\n",
            "                 precision    recall  f1-score   support\n",
            "\n",
            "    Hope_speech       0.74      0.44      0.55       194\n",
            "Non_hope_speech       0.86      0.89      0.87       776\n",
            "  not-malayalam       0.51      0.80      0.62       101\n",
            "\n",
            "       accuracy                           0.80      1071\n",
            "      macro avg       0.70      0.71      0.68      1071\n",
            "   weighted avg       0.81      0.80      0.79      1071\n",
            "\n",
            "Accuracy :  0.796\n",
            "Precison :  0.806\n",
            "Recall :  0.796\n",
            "F1 :  0.791\n",
            "\n",
            "\n",
            "Model Name: ---->  cnn-bilstm-fas \n",
            "\n",
            "[[ 96  86  12]\n",
            " [ 49 676  51]\n",
            " [  5  24  72]]\n",
            "                 precision    recall  f1-score   support\n",
            "\n",
            "    Hope_speech       0.64      0.49      0.56       194\n",
            "Non_hope_speech       0.86      0.87      0.87       776\n",
            "  not-malayalam       0.53      0.71      0.61       101\n",
            "\n",
            "       accuracy                           0.79      1071\n",
            "      macro avg       0.68      0.69      0.68      1071\n",
            "   weighted avg       0.79      0.79      0.79      1071\n",
            "\n",
            "Accuracy :  0.788\n",
            "Precison :  0.789\n",
            "Recall :  0.788\n",
            "F1 :  0.786\n",
            "\n",
            "\n",
            "Model Name: ---->  LR \n",
            "\n",
            "[[134  44  16]\n",
            " [ 96 650  30]\n",
            " [  4  26  71]]\n",
            "                 precision    recall  f1-score   support\n",
            "\n",
            "    Hope_speech       0.57      0.69      0.63       194\n",
            "Non_hope_speech       0.90      0.84      0.87       776\n",
            "  not-malayalam       0.61      0.70      0.65       101\n",
            "\n",
            "       accuracy                           0.80      1071\n",
            "      macro avg       0.69      0.74      0.72      1071\n",
            "   weighted avg       0.82      0.80      0.80      1071\n",
            "\n",
            "Accuracy :  0.798\n",
            "Precison :  0.815\n",
            "Recall :  0.798\n",
            "F1 :  0.804\n",
            "\n",
            "\n",
            "Model Name: ---->  SVM \n",
            "\n",
            "[[136  47  11]\n",
            " [ 87 658  31]\n",
            " [  2  27  72]]\n",
            "                 precision    recall  f1-score   support\n",
            "\n",
            "    Hope_speech       0.60      0.70      0.65       194\n",
            "Non_hope_speech       0.90      0.85      0.87       776\n",
            "  not-malayalam       0.63      0.71      0.67       101\n",
            "\n",
            "       accuracy                           0.81      1071\n",
            "      macro avg       0.71      0.75      0.73      1071\n",
            "   weighted avg       0.82      0.81      0.81      1071\n",
            "\n",
            "Accuracy :  0.809\n",
            "Precison :  0.82\n",
            "Recall :  0.809\n",
            "F1 :  0.813\n",
            "\n",
            "\n",
            "Model Name: ---->  Ensemble \n",
            "\n",
            "[[ 76 109   9]\n",
            " [ 26 733  17]\n",
            " [  3  38  60]]\n",
            "                 precision    recall  f1-score   support\n",
            "\n",
            "    Hope_speech       0.72      0.39      0.51       194\n",
            "Non_hope_speech       0.83      0.94      0.89       776\n",
            "  not-malayalam       0.70      0.59      0.64       101\n",
            "\n",
            "       accuracy                           0.81      1071\n",
            "      macro avg       0.75      0.64      0.68      1071\n",
            "   weighted avg       0.80      0.81      0.79      1071\n",
            "\n",
            "Accuracy :  0.811\n",
            "Precison :  0.8\n",
            "Recall :  0.811\n",
            "F1 :  0.794\n",
            "\n",
            "\n"
          ],
          "name": "stdout"
        }
      ]
    },
    {
      "cell_type": "code",
      "metadata": {
        "colab": {
          "base_uri": "https://localhost:8080/",
          "height": 255
        },
        "id": "a2yxvtiOy11x",
        "outputId": "54fc49cb-8e2f-4842-f03b-233dd72e0c08"
      },
      "source": [
        "con_mat(actual_labels_mal['label'],predicted_labels_mal['xlm-r'],class_names=['Hope','Not Hope','nM'],language='mal')"
      ],
      "execution_count": null,
      "outputs": [
        {
          "output_type": "display_data",
          "data": {
            "image/png": "[encoded data removed]",
            "text/plain": [
              "<Figure size 360x216 with 2 Axes>"
            ]
          },
          "metadata": {
            "tags": [],
            "needs_background": "light"
          }
        }
      ]
    },
    {
      "cell_type": "markdown",
      "metadata": {
        "id": "ud-ZIaqC1Nv2"
      },
      "source": [
        "# English Result"
      ]
    },
    {
      "cell_type": "code",
      "metadata": {
        "id": "4K05IEXV1Nv7"
      },
      "source": [
        "### Actual Test labels\n",
        "actual_labels_en = pd.read_csv(result_path+'english_hope_test.csv',delimiter=';')\n",
        "actual_labels_en  = actual_labels_en.drop(columns='Unnamed: 2')\n",
        "#actual_labels_mal['label'] = actual_labels['label'].replace({'not-Malayalam':'not-malayalam'}) \n",
        "actual_labels_en"
      ],
      "execution_count": null,
      "outputs": []
    },
    {
      "cell_type": "code",
      "metadata": {
        "colab": {
          "base_uri": "https://localhost:8080/"
        },
        "id": "2ElHptYZ3f2p",
        "outputId": "6a4706f0-fc43-4066-f4b5-41e60e2b4ac4"
      },
      "source": [
        "actual_labels_en['label'].value_counts()"
      ],
      "execution_count": null,
      "outputs": [
        {
          "output_type": "execute_result",
          "data": {
            "text/plain": [
              "Non_hope_speech    2593\n",
              "Hope_speech         250\n",
              "not-English           3\n",
              "Name: label, dtype: int64"
            ]
          },
          "metadata": {
            "tags": []
          },
          "execution_count": 33
        }
      ]
    },
    {
      "cell_type": "code",
      "metadata": {
        "colab": {
          "base_uri": "https://localhost:8080/"
        },
        "id": "LAYPo-Hn1Nv-",
        "outputId": "7ecb3eff-9f80-4c7e-a650-a0739062c206"
      },
      "source": [
        "### Predicted Labels for all the models\n",
        "predicted_labels_en = pd.read_excel(result_path +'test_predictions_english.xlsx')\n",
        "model_names = predicted_labels_en.columns.values.tolist()\n",
        "model_names= model_names[1:]\n",
        "model_names\n"
      ],
      "execution_count": null,
      "outputs": [
        {
          "output_type": "execute_result",
          "data": {
            "text/plain": [
              "['bert',\n",
              " 'xlnet',\n",
              " 'xlm-r',\n",
              " 'distillbert',\n",
              " 'roberta',\n",
              " 'cnn-bilstm',\n",
              " 'cnn-bi-fas',\n",
              " 'LR',\n",
              " 'SVM',\n",
              " 'Ensemble']"
            ]
          },
          "metadata": {
            "tags": []
          },
          "execution_count": 24
        }
      ]
    },
    {
      "cell_type": "code",
      "metadata": {
        "colab": {
          "base_uri": "https://localhost:8080/"
        },
        "id": "8ZXcchOj1NwA",
        "outputId": "21a41110-b2a9-496c-eba8-2e5efebc066f"
      },
      "source": [
        "for i in model_names:\n",
        "  print(\"Model Name: ----> \",i,\"\\n\")\n",
        "  print_metrices(actual_labels_en['label'],predicted_labels_en[i])\n",
        "  print('\\n')"
      ],
      "execution_count": null,
      "outputs": [
        {
          "output_type": "stream",
          "text": [
            "Model Name: ---->  bert \n",
            "\n",
            "[[ 157   93    0]\n",
            " [ 112 2481    0]\n",
            " [   0    3    0]]\n",
            "                 precision    recall  f1-score   support\n",
            "\n",
            "    Hope_speech       0.58      0.63      0.61       250\n",
            "Non_hope_speech       0.96      0.96      0.96      2593\n",
            "    not-English       0.00      0.00      0.00         3\n",
            "\n",
            "       accuracy                           0.93      2846\n",
            "      macro avg       0.52      0.53      0.52      2846\n",
            "   weighted avg       0.93      0.93      0.93      2846\n",
            "\n",
            "Accuracy :  0.927\n",
            "Precison :  0.928\n",
            "Recall :  0.927\n",
            "F1 :  0.928\n",
            "\n",
            "\n",
            "Model Name: ---->  xlnet \n",
            "\n",
            "[[ 163   87    0]\n",
            " [ 111 2482    0]\n",
            " [   0    3    0]]\n",
            "                 precision    recall  f1-score   support\n",
            "\n",
            "    Hope_speech       0.59      0.65      0.62       250\n",
            "Non_hope_speech       0.97      0.96      0.96      2593\n",
            "    not-English       0.00      0.00      0.00         3\n",
            "\n",
            "       accuracy                           0.93      2846\n",
            "      macro avg       0.52      0.54      0.53      2846\n",
            "   weighted avg       0.93      0.93      0.93      2846\n",
            "\n",
            "Accuracy :  0.929\n",
            "Precison :  0.931\n",
            "Recall :  0.929\n",
            "F1 :  0.93\n",
            "\n",
            "\n",
            "Model Name: ---->  xlm-r \n",
            "\n",
            "[[ 151   99    0]\n",
            " [  93 2500    0]\n",
            " [   0    3    0]]\n",
            "                 precision    recall  f1-score   support\n",
            "\n",
            "    Hope_speech       0.62      0.60      0.61       250\n",
            "Non_hope_speech       0.96      0.96      0.96      2593\n",
            "    not-English       0.00      0.00      0.00         3\n",
            "\n",
            "       accuracy                           0.93      2846\n",
            "      macro avg       0.53      0.52      0.52      2846\n",
            "   weighted avg       0.93      0.93      0.93      2846\n",
            "\n",
            "Accuracy :  0.931\n",
            "Precison :  0.93\n",
            "Recall :  0.931\n",
            "F1 :  0.931\n",
            "\n",
            "\n",
            "Model Name: ---->  distillbert \n",
            "\n",
            "[[ 139  111    0]\n",
            " [  84 2509    0]\n",
            " [   0    3    0]]\n",
            "                 precision    recall  f1-score   support\n",
            "\n",
            "    Hope_speech       0.62      0.56      0.59       250\n",
            "Non_hope_speech       0.96      0.97      0.96      2593\n",
            "    not-English       0.00      0.00      0.00         3\n",
            "\n",
            "       accuracy                           0.93      2846\n",
            "      macro avg       0.53      0.51      0.52      2846\n",
            "   weighted avg       0.93      0.93      0.93      2846\n",
            "\n",
            "Accuracy :  0.93\n",
            "Precison :  0.926\n",
            "Recall :  0.93\n",
            "F1 :  0.928\n",
            "\n",
            "\n",
            "Model Name: ---->  roberta \n",
            "\n",
            "[[ 158   92    0]\n",
            " [ 109 2484    0]\n",
            " [   0    3    0]]\n",
            "                 precision    recall  f1-score   support\n",
            "\n",
            "    Hope_speech       0.59      0.63      0.61       250\n",
            "Non_hope_speech       0.96      0.96      0.96      2593\n",
            "    not-English       0.00      0.00      0.00         3\n",
            "\n",
            "       accuracy                           0.93      2846\n",
            "      macro avg       0.52      0.53      0.52      2846\n",
            "   weighted avg       0.93      0.93      0.93      2846\n",
            "\n",
            "Accuracy :  0.928\n",
            "Precison :  0.93\n",
            "Recall :  0.928\n",
            "F1 :  0.929\n",
            "\n",
            "\n",
            "Model Name: ---->  cnn-bilstm \n",
            "\n",
            "[[ 136  114    0]\n",
            " [ 182 2404    7]\n",
            " [   0    3    0]]\n",
            "                 precision    recall  f1-score   support\n",
            "\n",
            "    Hope_speech       0.43      0.54      0.48       250\n",
            "Non_hope_speech       0.95      0.93      0.94      2593\n",
            "    not-English       0.00      0.00      0.00         3\n",
            "\n",
            "       accuracy                           0.89      2846\n",
            "      macro avg       0.46      0.49      0.47      2846\n",
            "   weighted avg       0.91      0.89      0.90      2846\n",
            "\n",
            "Accuracy :  0.892\n",
            "Precison :  0.906\n",
            "Recall :  0.892\n",
            "F1 :  0.899\n",
            "\n",
            "\n",
            "Model Name: ---->  cnn-bi-fas \n",
            "\n",
            "[[ 101  149    0]\n",
            " [ 125 2457   11]\n",
            " [   0    2    1]]\n",
            "                 precision    recall  f1-score   support\n",
            "\n",
            "    Hope_speech       0.45      0.40      0.42       250\n",
            "Non_hope_speech       0.94      0.95      0.94      2593\n",
            "    not-English       0.08      0.33      0.13         3\n",
            "\n",
            "       accuracy                           0.90      2846\n",
            "      macro avg       0.49      0.56      0.50      2846\n",
            "   weighted avg       0.90      0.90      0.90      2846\n",
            "\n",
            "Accuracy :  0.899\n",
            "Precison :  0.898\n",
            "Recall :  0.899\n",
            "F1 :  0.898\n",
            "\n",
            "\n",
            "Model Name: ---->  LR \n",
            "\n",
            "[[ 174   76    0]\n",
            " [ 291 2298    4]\n",
            " [   0    2    1]]\n",
            "                 precision    recall  f1-score   support\n",
            "\n",
            "    Hope_speech       0.37      0.70      0.49       250\n",
            "Non_hope_speech       0.97      0.89      0.92      2593\n",
            "    not-English       0.20      0.33      0.25         3\n",
            "\n",
            "       accuracy                           0.87      2846\n",
            "      macro avg       0.51      0.64      0.55      2846\n",
            "   weighted avg       0.91      0.87      0.89      2846\n",
            "\n",
            "Accuracy :  0.869\n",
            "Precison :  0.914\n",
            "Recall :  0.869\n",
            "F1 :  0.886\n",
            "\n",
            "\n",
            "Model Name: ---->  SVM \n",
            "\n",
            "[[ 170   79    1]\n",
            " [ 261 2326    6]\n",
            " [   0    2    1]]\n",
            "                 precision    recall  f1-score   support\n",
            "\n",
            "    Hope_speech       0.39      0.68      0.50       250\n",
            "Non_hope_speech       0.97      0.90      0.93      2593\n",
            "    not-English       0.12      0.33      0.18         3\n",
            "\n",
            "       accuracy                           0.88      2846\n",
            "      macro avg       0.50      0.64      0.54      2846\n",
            "   weighted avg       0.92      0.88      0.89      2846\n",
            "\n",
            "Accuracy :  0.877\n",
            "Precison :  0.915\n",
            "Recall :  0.877\n",
            "F1 :  0.892\n",
            "\n",
            "\n",
            "Model Name: ---->  Ensemble \n",
            "\n",
            "[[  68  182    0]\n",
            " [  42 2550    1]\n",
            " [   0    3    0]]\n",
            "                 precision    recall  f1-score   support\n",
            "\n",
            "    Hope_speech       0.62      0.27      0.38       250\n",
            "Non_hope_speech       0.93      0.98      0.96      2593\n",
            "    not-English       0.00      0.00      0.00         3\n",
            "\n",
            "       accuracy                           0.92      2846\n",
            "      macro avg       0.52      0.42      0.44      2846\n",
            "   weighted avg       0.90      0.92      0.91      2846\n",
            "\n",
            "Accuracy :  0.92\n",
            "Precison :  0.904\n",
            "Recall :  0.92\n",
            "F1 :  0.905\n",
            "\n",
            "\n"
          ],
          "name": "stdout"
        }
      ]
    },
    {
      "cell_type": "code",
      "metadata": {
        "colab": {
          "base_uri": "https://localhost:8080/",
          "height": 255
        },
        "id": "UoPzzFnX4ayY",
        "outputId": "97e5a873-8fd5-4249-ec37-310d4b01eadb"
      },
      "source": [
        "con_mat(actual_labels_en['label'],predicted_labels_en['xlm-r'],class_names=['Hope','Not Hope','nE'],language='en')"
      ],
      "execution_count": null,
      "outputs": [
        {
          "output_type": "display_data",
          "data": {
            "image/png": "[encoded data removed]",
            "text/plain": [
              "<Figure size 360x216 with 2 Axes>"
            ]
          },
          "metadata": {
            "tags": [],
            "needs_background": "light"
          }
        }
      ]
    },
    {
      "cell_type": "code",
      "metadata": {
        "colab": {
          "base_uri": "https://localhost:8080/",
          "height": 237
        },
        "id": "gdvbam1RATXX",
        "outputId": "f0c8ff68-da75-4ee7-88cd-694af5b4591d"
      },
      "source": [
        "con_mat(actual_labels_en['label'],predicted_labels_en['xlm-r'],class_names=['HS','NHS','nE'],language='en')"
      ],
      "execution_count": null,
      "outputs": [
        {
          "output_type": "display_data",
          "data": {
            "image/png": "[encoded data removed]",
            "text/plain": [
              "<Figure size 360x216 with 2 Axes>"
            ]
          },
          "metadata": {
            "tags": [],
            "needs_background": "light"
          }
        }
      ]
    },
    {
      "cell_type": "code",
      "metadata": {
        "id": "zRlT2Rzt1NwC"
      },
      "source": [
        "bert_models = ['xlm-r', 'xlnet','bert','distillbert','roberta']\n",
        "for i in bert_models:\n",
        "  print(f\"Model-----> {i}\")\n",
        "  con_mat(actual_labels_en['label'],predicted_labels_en[i],class_names=['HS','NHS','nE'],language='en')\n",
        "  print('\\n')"
      ],
      "execution_count": null,
      "outputs": []
    }
  ]
}
