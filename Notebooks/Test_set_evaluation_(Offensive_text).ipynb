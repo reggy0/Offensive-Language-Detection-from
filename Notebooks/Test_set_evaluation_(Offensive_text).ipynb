{
  "nbformat": 4,
  "nbformat_minor": 0,
  "metadata": {
    "colab": {
      "name": "Test_set_evaluation (Offensive_text).ipynb",
      "provenance": [],
      "collapsed_sections": [],
      "authorship_tag": "ABX9TyOcsO8cQtFKism685KBC1VA",
      "include_colab_link": true
    },
    "kernelspec": {
      "name": "python3",
      "display_name": "Python 3"
    }
  },
  "cells": [
    {
      "cell_type": "markdown",
      "metadata": {
        "id": "view-in-github",
        "colab_type": "text"
      },
      "source": [
        "<a href=\"https://colab.research.google.com/github/eftekhar-hossain/CUET_NLP-EACL_2021/blob/main/Test_set_evaluation_(Offensive_text).ipynb\" target=\"_parent\"><img src=\"https://colab.research.google.com/assets/colab-badge.svg\" alt=\"Open In Colab\"/></a>"
      ]
    },
    {
      "cell_type": "code",
      "metadata": {
        "colab": {
          "base_uri": "https://localhost:8080/"
        },
        "id": "Ho5pN8cGHeNv",
        "outputId": "b4848335-5610-4f1d-853d-2b8ccd1c7516"
      },
      "source": [
        "from google.colab import drive\n",
        "drive.mount('/content/drive')"
      ],
      "execution_count": null,
      "outputs": [
        {
          "output_type": "stream",
          "text": [
            "Mounted at /content/drive\n"
          ],
          "name": "stdout"
        }
      ]
    },
    {
      "cell_type": "markdown",
      "metadata": {
        "id": "dCBbjQpQH0pK"
      },
      "source": [
        "#Libraries"
      ]
    },
    {
      "cell_type": "code",
      "metadata": {
        "colab": {
          "base_uri": "https://localhost:8080/"
        },
        "id": "KG_t2DJmH9Ja",
        "outputId": "d44558a1-e589-4c84-c992-ef0f1e3da022"
      },
      "source": [
        "%%time\n",
        "import numpy as np\n",
        "import matplotlib.pyplot as plt\n",
        "%matplotlib inline\n",
        "import pandas as pd\n",
        "import seaborn as sns\n",
        "from sklearn.metrics import confusion_matrix\n",
        "from sklearn.metrics import classification_report \n",
        "from sklearn.model_selection import train_test_split\n",
        "from sklearn.metrics import accuracy_score,precision_score,recall_score,f1_score,roc_auc_score\n",
        "from sklearn.metrics import average_precision_score,roc_auc_score, roc_curve, precision_recall_curve\n",
        "from sklearn.preprocessing import LabelEncoder\n",
        "from sklearn.metrics import plot_confusion_matrix\n",
        "np.random.seed(42)\n",
        "import warnings\n",
        "warnings.filterwarnings('ignore')\n",
        "### Pretrained Word Embeddings\n",
        "result_path = \"/content/drive/MyDrive/Colab Notebooks/NLP Projects/EACL 2021- Shared Tasks/Offensive Language/Test Set Evaluation/\"\n",
        "folder_path = \"/content/drive/MyDrive/Colab Notebooks/NLP Projects/EACL 2021- Shared Tasks/Offensive Language/\"\n"
      ],
      "execution_count": null,
      "outputs": [
        {
          "output_type": "stream",
          "text": [
            "CPU times: user 402 ms, sys: 183 ms, total: 585 ms\n",
            "Wall time: 964 ms\n"
          ],
          "name": "stdout"
        }
      ]
    },
    {
      "cell_type": "markdown",
      "metadata": {
        "id": "x7__OAXaJ6f2"
      },
      "source": [
        "#Evaluation Metrices"
      ]
    },
    {
      "cell_type": "code",
      "metadata": {
        "id": "lAlhCFocJ95t"
      },
      "source": [
        "def print_metrices(true,pred,class_names):\n",
        "    print(confusion_matrix(true,pred))\n",
        "    print(classification_report(true,pred))\n",
        "    print(\"Accuracy : \",accuracy_score(true,pred))\n",
        "    print(\"Precison : \",precision_score(true,pred, average = 'weighted'))\n",
        "    print(\"Recall : \",recall_score(true,pred,  average = 'weighted'))\n",
        "    print(\"F1 : \",f1_score(true,pred,  average = 'weighted'))"
      ],
      "execution_count": null,
      "outputs": []
    },
    {
      "cell_type": "code",
      "metadata": {
        "id": "0O5J1MBcLtqO"
      },
      "source": [
        "def con_mat(true,pred,class_names,language):\n",
        "  \n",
        "  cm = confusion_matrix(true,pred)\n",
        "  #sns.set()\n",
        "  plt.figure(figsize =(5, 3))\n",
        "  ax = plt.subplot()\n",
        "  sns.heatmap(cm, annot=True,fmt=\"d\",cmap='Blues', ax = ax,annot_kws={\"size\": 12}) #annot=True to annotate cells\n",
        "  # labels, title and ticks\n",
        "  ax.set_xlabel('Predicted labels')\n",
        "  ax.set_ylabel('True labels') \n",
        "  #ax.set_title('Confusion Matrix') \n",
        "  ax.xaxis.set_ticklabels(class_names, rotation=45); ax.yaxis.set_ticklabels(class_names, rotation=45);\n",
        "  ax.xaxis.tick_top()\n",
        "  plt.savefig(f\"{language}.png\",bbox_inches='tight',dpi =600)"
      ],
      "execution_count": null,
      "outputs": []
    },
    {
      "cell_type": "markdown",
      "metadata": {
        "id": "PYYkW1tfIha5"
      },
      "source": [
        "# Tamil Result"
      ]
    },
    {
      "cell_type": "code",
      "metadata": {
        "id": "pODfSt8nIc1y"
      },
      "source": [
        "### Actual Test labels\n",
        "actual_labels = pd.read_csv(result_path+'tamil_offensive_full_test_with_labels.csv',delimiter='\\t',header = None)\n",
        "actual_labels  = actual_labels.drop(columns=2)\n",
        "actual_labels  = actual_labels.rename(columns={0:'text',1:'label'})\n",
        "actual_labels "
      ],
      "execution_count": null,
      "outputs": []
    },
    {
      "cell_type": "code",
      "metadata": {
        "colab": {
          "base_uri": "https://localhost:8080/"
        },
        "id": "ZOj5IVSWbUZ4",
        "outputId": "50970966-7095-4e65-c4f7-bf997e8c9a88"
      },
      "source": [
        "actual_labels['label'].value_counts()"
      ],
      "execution_count": null,
      "outputs": [
        {
          "output_type": "execute_result",
          "data": {
            "text/plain": [
              "Not_offensive                           3190\n",
              "Offensive_Untargetede                    368\n",
              "Offensive_Targeted_Insult_Individual     315\n",
              "Offensive_Targeted_Insult_Group          288\n",
              "not-Tamil                                160\n",
              "Offensive_Targeted_Insult_Other           71\n",
              "Name: label, dtype: int64"
            ]
          },
          "metadata": {
            "tags": []
          },
          "execution_count": 4
        }
      ]
    },
    {
      "cell_type": "code",
      "metadata": {
        "id": "COT7Xf41JA3D"
      },
      "source": [
        "### Predicted Labels for all the models\n",
        "predicted_labels = pd.read_excel(result_path +'tamil-test-predictions.xlsx')\n",
        "model_names = predicted_labels.columns.values.tolist()\n",
        "model_names= model_names[1:]\n",
        "model_names\n"
      ],
      "execution_count": null,
      "outputs": []
    },
    {
      "cell_type": "code",
      "metadata": {
        "colab": {
          "base_uri": "https://localhost:8080/"
        },
        "id": "s3Pvi2qGKblD",
        "outputId": "b206b506-f5af-4005-f69e-9b81f9d78d16"
      },
      "source": [
        "for i in model_names:\n",
        "  print(\"Model Name: ----> \",i,\"\\n\")\n",
        "  print_metrices(actual_labels['label'],predicted_labels[i],classes)\n",
        "  print('\\n')"
      ],
      "execution_count": null,
      "outputs": [
        {
          "output_type": "stream",
          "text": [
            "Model Name: ---->  xlm-4 \n",
            "\n",
            "[[2984   64   65    0   63   14]\n",
            " [ 146   77   24    0   40    1]\n",
            " [ 128   33  123    0   31    0]\n",
            " [  38    9    9    0   15    0]\n",
            " [ 165   44   33    0  123    3]\n",
            " [  28    1    2    0    3  126]]\n",
            "                                      precision    recall  f1-score   support\n",
            "\n",
            "                       Not_offensive       0.86      0.94      0.89      3190\n",
            "     Offensive_Targeted_Insult_Group       0.34      0.27      0.30       288\n",
            "Offensive_Targeted_Insult_Individual       0.48      0.39      0.43       315\n",
            "     Offensive_Targeted_Insult_Other       0.00      0.00      0.00        71\n",
            "               Offensive_Untargetede       0.45      0.33      0.38       368\n",
            "                           not-Tamil       0.88      0.79      0.83       160\n",
            "\n",
            "                            accuracy                           0.78      4392\n",
            "                           macro avg       0.50      0.45      0.47      4392\n",
            "                        weighted avg       0.75      0.78      0.76      4392\n",
            "\n",
            "Accuracy :  0.781648451730419\n",
            "Precison :  0.7471504146572456\n",
            "Recall :  0.781648451730419\n",
            "F1 :  0.7617256668218702\n",
            "\n",
            "\n",
            "Model Name: ---->  m-bert-cw \n",
            "\n",
            "[[2984   64   65    0   63   14]\n",
            " [ 146   77   24    0   40    1]\n",
            " [ 128   33  123    0   31    0]\n",
            " [  38    9    9    0   15    0]\n",
            " [ 165   44   33    0  123    3]\n",
            " [  28    1    2    0    3  126]]\n",
            "                                      precision    recall  f1-score   support\n",
            "\n",
            "                       Not_offensive       0.86      0.94      0.89      3190\n",
            "     Offensive_Targeted_Insult_Group       0.34      0.27      0.30       288\n",
            "Offensive_Targeted_Insult_Individual       0.48      0.39      0.43       315\n",
            "     Offensive_Targeted_Insult_Other       0.00      0.00      0.00        71\n",
            "               Offensive_Untargetede       0.45      0.33      0.38       368\n",
            "                           not-Tamil       0.88      0.79      0.83       160\n",
            "\n",
            "                            accuracy                           0.78      4392\n",
            "                           macro avg       0.50      0.45      0.47      4392\n",
            "                        weighted avg       0.75      0.78      0.76      4392\n",
            "\n",
            "Accuracy :  0.781648451730419\n",
            "Precison :  0.7471504146572456\n",
            "Recall :  0.781648451730419\n",
            "F1 :  0.7617256668218702\n",
            "\n",
            "\n",
            "Model Name: ---->  m-bert \n",
            "\n",
            "[[2978   58   64    0   80   10]\n",
            " [ 148   70   21    0   48    1]\n",
            " [ 140   39  103    0   33    0]\n",
            " [  41   13    5    0   11    1]\n",
            " [ 149   42   26    0  148    3]\n",
            " [  29    1    7    0    2  121]]\n",
            "                                      precision    recall  f1-score   support\n",
            "\n",
            "                       Not_offensive       0.85      0.93      0.89      3190\n",
            "     Offensive_Targeted_Insult_Group       0.31      0.24      0.27       288\n",
            "Offensive_Targeted_Insult_Individual       0.46      0.33      0.38       315\n",
            "     Offensive_Targeted_Insult_Other       0.00      0.00      0.00        71\n",
            "               Offensive_Untargetede       0.46      0.40      0.43       368\n",
            "                           not-Tamil       0.89      0.76      0.82       160\n",
            "\n",
            "                            accuracy                           0.78      4392\n",
            "                           macro avg       0.50      0.44      0.47      4392\n",
            "                        weighted avg       0.74      0.78      0.76      4392\n",
            "\n",
            "Accuracy :  0.7786885245901639\n",
            "Precison :  0.7448492984728176\n",
            "Recall :  0.7786885245901639\n",
            "F1 :  0.7590879210343185\n",
            "\n",
            "\n",
            "Model Name: ---->  indic-bert \n",
            "\n",
            "[[2978   58   64    0   80   10]\n",
            " [ 148   70   21    0   48    1]\n",
            " [ 140   39  103    0   33    0]\n",
            " [  41   13    5    0   11    1]\n",
            " [ 149   42   26    0  148    3]\n",
            " [  29    1    7    0    2  121]]\n",
            "                                      precision    recall  f1-score   support\n",
            "\n",
            "                       Not_offensive       0.85      0.93      0.89      3190\n",
            "     Offensive_Targeted_Insult_Group       0.31      0.24      0.27       288\n",
            "Offensive_Targeted_Insult_Individual       0.46      0.33      0.38       315\n",
            "     Offensive_Targeted_Insult_Other       0.00      0.00      0.00        71\n",
            "               Offensive_Untargetede       0.46      0.40      0.43       368\n",
            "                           not-Tamil       0.89      0.76      0.82       160\n",
            "\n",
            "                            accuracy                           0.78      4392\n",
            "                           macro avg       0.50      0.44      0.47      4392\n",
            "                        weighted avg       0.74      0.78      0.76      4392\n",
            "\n",
            "Accuracy :  0.7786885245901639\n",
            "Precison :  0.7448492984728176\n",
            "Recall :  0.7786885245901639\n",
            "F1 :  0.7590879210343185\n",
            "\n",
            "\n",
            "Model Name: ---->  cnn-lstm \n",
            "\n",
            "[[2695  170  113    5  177   30]\n",
            " [ 116   98   29    2   42    1]\n",
            " [ 114   40  119    1   41    0]\n",
            " [  34   16    3    4   14    0]\n",
            " [ 132   56   50    3  122    5]\n",
            " [  28    2    4    0    3  123]]\n",
            "                                      precision    recall  f1-score   support\n",
            "\n",
            "                       Not_offensive       0.86      0.84      0.85      3190\n",
            "     Offensive_Targeted_Insult_Group       0.26      0.34      0.29       288\n",
            "Offensive_Targeted_Insult_Individual       0.37      0.38      0.38       315\n",
            "     Offensive_Targeted_Insult_Other       0.27      0.06      0.09        71\n",
            "               Offensive_Untargetede       0.31      0.33      0.32       368\n",
            "                           not-Tamil       0.77      0.77      0.77       160\n",
            "\n",
            "                            accuracy                           0.72      4392\n",
            "                           macro avg       0.47      0.45      0.45      4392\n",
            "                        weighted avg       0.73      0.72      0.72      4392\n",
            "\n",
            "Accuracy :  0.7197176684881603\n",
            "Precison :  0.7293576013805998\n",
            "Recall :  0.7197176684881603\n",
            "F1 :  0.7229223570005167\n",
            "\n",
            "\n",
            "Model Name: ---->  cnn-lstm-fastext \n",
            "\n",
            "[[2517  181  198   19  212   63]\n",
            " [ 118   73   50    3   42    2]\n",
            " [ 118   41  106    3   44    3]\n",
            " [  32   15    7    3   13    1]\n",
            " [ 140   33   58    6  122    9]\n",
            " [  35    2    3    0    7  113]]\n",
            "                                      precision    recall  f1-score   support\n",
            "\n",
            "                       Not_offensive       0.85      0.79      0.82      3190\n",
            "     Offensive_Targeted_Insult_Group       0.21      0.25      0.23       288\n",
            "Offensive_Targeted_Insult_Individual       0.25      0.34      0.29       315\n",
            "     Offensive_Targeted_Insult_Other       0.09      0.04      0.06        71\n",
            "               Offensive_Untargetede       0.28      0.33      0.30       368\n",
            "                           not-Tamil       0.59      0.71      0.64       160\n",
            "\n",
            "                            accuracy                           0.67      4392\n",
            "                           macro avg       0.38      0.41      0.39      4392\n",
            "                        weighted avg       0.70      0.67      0.68      4392\n",
            "\n",
            "Accuracy :  0.6680327868852459\n",
            "Precison :  0.6957196746969244\n",
            "Recall :  0.6680327868852459\n",
            "F1 :  0.679957793669447\n",
            "\n",
            "\n",
            "Model Name: ---->  LR \n",
            "\n",
            "[[2283  302  228   42  279   56]\n",
            " [  42  130   41   14   59    2]\n",
            " [  54   52  137    7   63    2]\n",
            " [  15   18   11    5   21    1]\n",
            " [  55   58   65   15  171    4]\n",
            " [  18    4    4    0    3  131]]\n",
            "                                      precision    recall  f1-score   support\n",
            "\n",
            "                       Not_offensive       0.93      0.72      0.81      3190\n",
            "     Offensive_Targeted_Insult_Group       0.23      0.45      0.31       288\n",
            "Offensive_Targeted_Insult_Individual       0.28      0.43      0.34       315\n",
            "     Offensive_Targeted_Insult_Other       0.06      0.07      0.06        71\n",
            "               Offensive_Untargetede       0.29      0.46      0.35       368\n",
            "                           not-Tamil       0.67      0.82      0.74       160\n",
            "\n",
            "                            accuracy                           0.65      4392\n",
            "                           macro avg       0.41      0.49      0.44      4392\n",
            "                        weighted avg       0.76      0.65      0.69      4392\n",
            "\n",
            "Accuracy :  0.6505009107468124\n",
            "Precison :  0.7568429979048159\n",
            "Recall :  0.6505009107468124\n",
            "F1 :  0.6883745524898254\n",
            "\n",
            "\n",
            "Model Name: ---->  SVM \n",
            "\n",
            "[[2449  248  189    8  265   31]\n",
            " [  63  116   43    7   59    0]\n",
            " [  80   51  127    3   52    2]\n",
            " [  22   15    9    5   20    0]\n",
            " [  87   53   54    7  164    3]\n",
            " [  29    5    1    0    3  122]]\n",
            "                                      precision    recall  f1-score   support\n",
            "\n",
            "                       Not_offensive       0.90      0.77      0.83      3190\n",
            "     Offensive_Targeted_Insult_Group       0.24      0.40      0.30       288\n",
            "Offensive_Targeted_Insult_Individual       0.30      0.40      0.34       315\n",
            "     Offensive_Targeted_Insult_Other       0.17      0.07      0.10        71\n",
            "               Offensive_Untargetede       0.29      0.45      0.35       368\n",
            "                           not-Tamil       0.77      0.76      0.77       160\n",
            "\n",
            "                            accuracy                           0.68      4392\n",
            "                           macro avg       0.44      0.48      0.45      4392\n",
            "                        weighted avg       0.74      0.68      0.70      4392\n",
            "\n",
            "Accuracy :  0.6791894353369763\n",
            "Precison :  0.7439117245772019\n",
            "Recall :  0.6791894353369763\n",
            "F1 :  0.7042938258878572\n",
            "\n",
            "\n",
            "Model Name: ---->  ensemble \n",
            "\n",
            "[[2986   60   41    3   94    6]\n",
            " [ 170   58   15    2   43    0]\n",
            " [ 175   21   84    0   35    0]\n",
            " [  49    4    2    1   15    0]\n",
            " [ 228   19   20    2   98    1]\n",
            " [  61    0    1    0    2   96]]\n",
            "                                      precision    recall  f1-score   support\n",
            "\n",
            "                       Not_offensive       0.81      0.94      0.87      3190\n",
            "     Offensive_Targeted_Insult_Group       0.36      0.20      0.26       288\n",
            "Offensive_Targeted_Insult_Individual       0.52      0.27      0.35       315\n",
            "     Offensive_Targeted_Insult_Other       0.12      0.01      0.03        71\n",
            "               Offensive_Untargetede       0.34      0.27      0.30       368\n",
            "                           not-Tamil       0.93      0.60      0.73       160\n",
            "\n",
            "                            accuracy                           0.76      4392\n",
            "                           macro avg       0.51      0.38      0.42      4392\n",
            "                        weighted avg       0.72      0.76      0.73      4392\n",
            "\n",
            "Accuracy :  0.7566029143897997\n",
            "Precison :  0.7161361663914314\n",
            "Recall :  0.7566029143897997\n",
            "F1 :  0.7265814817234908\n",
            "\n",
            "\n",
            "Model Name: ---->  cnn-attn \n",
            "\n",
            "[[2801  101  114    0  130   44]\n",
            " [ 131   71   52    0   30    4]\n",
            " [ 132   37   88    0   53    5]\n",
            " [  36    9    7    0   18    1]\n",
            " [ 151   38   49    0  122    8]\n",
            " [  31    3    3    0    3  120]]\n",
            "                                      precision    recall  f1-score   support\n",
            "\n",
            "                       Not_offensive       0.85      0.88      0.87      3190\n",
            "     Offensive_Targeted_Insult_Group       0.27      0.25      0.26       288\n",
            "Offensive_Targeted_Insult_Individual       0.28      0.28      0.28       315\n",
            "     Offensive_Targeted_Insult_Other       0.00      0.00      0.00        71\n",
            "               Offensive_Untargetede       0.34      0.33      0.34       368\n",
            "                           not-Tamil       0.66      0.75      0.70       160\n",
            "\n",
            "                            accuracy                           0.73      4392\n",
            "                           macro avg       0.40      0.41      0.41      4392\n",
            "                        weighted avg       0.71      0.73      0.72      4392\n",
            "\n",
            "Accuracy :  0.7290528233151184\n",
            "Precison :  0.7107473165391662\n",
            "Recall :  0.7290528233151184\n",
            "F1 :  0.7196108342713239\n",
            "\n",
            "\n"
          ],
          "name": "stdout"
        }
      ]
    },
    {
      "cell_type": "code",
      "metadata": {
        "colab": {
          "base_uri": "https://localhost:8080/",
          "height": 247
        },
        "id": "XGM4pLkrL-U-",
        "outputId": "cc56f988-eb3c-4f53-ea96-3a3649e5455c"
      },
      "source": [
        "con_mat(actual_labels['label'],predicted_labels['xlm-4'],class_names=['NF','OTIG','OTII','OTIO','OU','NT'],language='tamil')"
      ],
      "execution_count": null,
      "outputs": [
        {
          "output_type": "display_data",
          "data": {
            "image/png": "[encoded data removed]",
            "text/plain": [
              "<Figure size 360x216 with 2 Axes>"
            ]
          },
          "metadata": {
            "tags": []
          }
        }
      ]
    },
    {
      "cell_type": "markdown",
      "metadata": {
        "id": "F0dnsmSvOU09"
      },
      "source": [
        "#Malayalam Result"
      ]
    },
    {
      "cell_type": "code",
      "metadata": {
        "id": "rkFnXMkiOhQ9"
      },
      "source": [
        "### Actual Test labels\n",
        "actual_labels_mala = pd.read_csv(result_path+'mal_full_offensive_test_with_labels.csv',delimiter='\\t',header = None)\n",
        "actual_labels_mala  = actual_labels_mala.drop(columns=2)\n",
        "actual_labels_mala  = actual_labels_mala.rename(columns={0:'text',1:'label'})\n",
        "classes = np.unique(actual_labels_mala.label)\n",
        "actual_labels_mala"
      ],
      "execution_count": null,
      "outputs": []
    },
    {
      "cell_type": "code",
      "metadata": {
        "colab": {
          "base_uri": "https://localhost:8080/"
        },
        "id": "ywwHDEApcJxQ",
        "outputId": "a58010f6-aed9-41cb-9393-e785af9a8100"
      },
      "source": [
        "actual_labels_mala['label'].value_counts()"
      ],
      "execution_count": null,
      "outputs": [
        {
          "output_type": "execute_result",
          "data": {
            "text/plain": [
              "Not_offensive                           1765\n",
              "not-malayalam                            157\n",
              "Offensive_Untargetede                     29\n",
              "Offensive_Targeted_Insult_Individual      27\n",
              "Offensive_Targeted_Insult_Group           23\n",
              "Name: label, dtype: int64"
            ]
          },
          "metadata": {
            "tags": []
          },
          "execution_count": 6
        }
      ]
    },
    {
      "cell_type": "code",
      "metadata": {
        "colab": {
          "base_uri": "https://localhost:8080/"
        },
        "id": "5iCtHKyhOhRB",
        "outputId": "78c5a461-8de2-4ad5-ae1b-ce607cc5e1d5"
      },
      "source": [
        "### Predicted Labels for all the models\n",
        "predicted_labels_mala = pd.read_excel(result_path +'mala-test-predictions.xlsx')\n",
        "model_names = predicted_labels_mala.columns.values.tolist()\n",
        "model_names= model_names[1:]\n",
        "model_names\n"
      ],
      "execution_count": null,
      "outputs": [
        {
          "output_type": "execute_result",
          "data": {
            "text/plain": [
              "['xlm-4',\n",
              " 'm-bert-cw',\n",
              " 'indic-bert',\n",
              " 'indic-bert-cw',\n",
              " 'cnn-lstm-fasttext',\n",
              " 'cnn-lstm',\n",
              " 'LR',\n",
              " 'SVM',\n",
              " 'ensemble',\n",
              " 'cnn-attn']"
            ]
          },
          "metadata": {
            "tags": []
          },
          "execution_count": 66
        }
      ]
    },
    {
      "cell_type": "code",
      "metadata": {
        "colab": {
          "base_uri": "https://localhost:8080/"
        },
        "id": "-Fcp5BdkOhRC",
        "outputId": "085ecc89-5048-49f4-9a3a-51acb70e66d5"
      },
      "source": [
        "for i in model_names:\n",
        "  print(\"Model Name: ----> \",i,\"\\n\")\n",
        "  print_metrices(actual_labels_mala['label'],predicted_labels_mala[i],classes)\n",
        "  print('\\n')"
      ],
      "execution_count": null,
      "outputs": [
        {
          "output_type": "stream",
          "text": [
            "Model Name: ---->  xlm-4 \n",
            "\n",
            "[[1733    0    0   12   20]\n",
            " [  15    0    0    8    0]\n",
            " [  24    0    0    2    1]\n",
            " [  15    0    0   14    0]\n",
            " [  17    0    0    0  140]]\n",
            "                                      precision    recall  f1-score   support\n",
            "\n",
            "                       Not_offensive       0.96      0.98      0.97      1765\n",
            "     Offensive_Targeted_Insult_Group       0.00      0.00      0.00        23\n",
            "Offensive_Targeted_Insult_Individual       0.00      0.00      0.00        27\n",
            "               Offensive_Untargetede       0.39      0.48      0.43        29\n",
            "                       not-malayalam       0.87      0.89      0.88       157\n",
            "\n",
            "                            accuracy                           0.94      2001\n",
            "                           macro avg       0.44      0.47      0.46      2001\n",
            "                        weighted avg       0.92      0.94      0.93      2001\n",
            "\n",
            "Accuracy :  0.9430284857571214\n",
            "Precison :  0.9212066163432738\n",
            "Recall :  0.9430284857571214\n",
            "F1 :  0.931931066507557\n",
            "\n",
            "\n",
            "Model Name: ---->  m-bert-cw \n",
            "\n",
            "[[1565   11   63   34   92]\n",
            " [   3   15    2    3    0]\n",
            " [   7    1   18    1    0]\n",
            " [   3    0    1   25    0]\n",
            " [  10    0    0    0  147]]\n",
            "                                      precision    recall  f1-score   support\n",
            "\n",
            "                       Not_offensive       0.99      0.89      0.93      1765\n",
            "     Offensive_Targeted_Insult_Group       0.56      0.65      0.60        23\n",
            "Offensive_Targeted_Insult_Individual       0.21      0.67      0.32        27\n",
            "               Offensive_Untargetede       0.40      0.86      0.54        29\n",
            "                       not-malayalam       0.62      0.94      0.74       157\n",
            "\n",
            "                            accuracy                           0.88      2001\n",
            "                           macro avg       0.55      0.80      0.63      2001\n",
            "                        weighted avg       0.93      0.88      0.90      2001\n",
            "\n",
            "Accuracy :  0.8845577211394303\n",
            "Precison :  0.9325700550288859\n",
            "Recall :  0.8845577211394303\n",
            "F1 :  0.9007957567859062\n",
            "\n",
            "\n",
            "Model Name: ---->  indic-bert \n",
            "\n",
            "[[1730    0    0   15   20]\n",
            " [  13    0    2    8    0]\n",
            " [  22    0    2    3    0]\n",
            " [  13    0    0   16    0]\n",
            " [  19    0    0    0  138]]\n",
            "                                      precision    recall  f1-score   support\n",
            "\n",
            "                       Not_offensive       0.96      0.98      0.97      1765\n",
            "     Offensive_Targeted_Insult_Group       0.00      0.00      0.00        23\n",
            "Offensive_Targeted_Insult_Individual       0.50      0.07      0.13        27\n",
            "               Offensive_Untargetede       0.38      0.55      0.45        29\n",
            "                       not-malayalam       0.87      0.88      0.88       157\n",
            "\n",
            "                            accuracy                           0.94      2001\n",
            "                           macro avg       0.54      0.50      0.49      2001\n",
            "                        weighted avg       0.93      0.94      0.93      2001\n",
            "\n",
            "Accuracy :  0.9425287356321839\n",
            "Precison :  0.9299686661352133\n",
            "Recall :  0.9425287356321839\n",
            "F1 :  0.9338202737793686\n",
            "\n",
            "\n",
            "Model Name: ---->  indic-bert-cw \n",
            "\n",
            "[[1631    2   60   49   23]\n",
            " [   8    9    1    5    0]\n",
            " [   9    0   15    1    2]\n",
            " [   5    2    1   21    0]\n",
            " [  12    0    1    0  144]]\n",
            "                                      precision    recall  f1-score   support\n",
            "\n",
            "                       Not_offensive       0.98      0.92      0.95      1765\n",
            "     Offensive_Targeted_Insult_Group       0.69      0.39      0.50        23\n",
            "Offensive_Targeted_Insult_Individual       0.19      0.56      0.29        27\n",
            "               Offensive_Untargetede       0.28      0.72      0.40        29\n",
            "                       not-malayalam       0.85      0.92      0.88       157\n",
            "\n",
            "                            accuracy                           0.91      2001\n",
            "                           macro avg       0.60      0.70      0.60      2001\n",
            "                        weighted avg       0.95      0.91      0.92      2001\n",
            "\n",
            "Accuracy :  0.9095452273863068\n",
            "Precison :  0.9454580951509612\n",
            "Recall :  0.9095452273863068\n",
            "F1 :  0.9235705610322419\n",
            "\n",
            "\n",
            "Model Name: ---->  cnn-lstm-fasttext \n",
            "\n",
            "[[1669   42   21    7   26]\n",
            " [   9    0    1    2   11]\n",
            " [   7    0   17    0    3]\n",
            " [   8    0    2   12    7]\n",
            " [  24  130    1    0    2]]\n",
            "                                      precision    recall  f1-score   support\n",
            "\n",
            "                       Not_offensive       0.97      0.95      0.96      1765\n",
            "     Offensive_Targeted_Insult_Group       0.00      0.00      0.00        23\n",
            "Offensive_Targeted_Insult_Individual       0.40      0.63      0.49        27\n",
            "               Offensive_Untargetede       0.57      0.41      0.48        29\n",
            "                       not-malayalam       0.04      0.01      0.02       157\n",
            "\n",
            "                            accuracy                           0.85      2001\n",
            "                           macro avg       0.40      0.40      0.39      2001\n",
            "                        weighted avg       0.87      0.85      0.86      2001\n",
            "\n",
            "Accuracy :  0.8495752123938031\n",
            "Precison :  0.874345970965167\n",
            "Recall :  0.8495752123938031\n",
            "F1 :  0.8607098243320397\n",
            "\n",
            "\n",
            "Model Name: ---->  cnn-lstm \n",
            "\n",
            "[[1708   30   10    9    8]\n",
            " [  13    0    1    0    9]\n",
            " [  13    0   14    0    0]\n",
            " [  16    0    1   11    1]\n",
            " [  26  131    0    0    0]]\n",
            "                                      precision    recall  f1-score   support\n",
            "\n",
            "                       Not_offensive       0.96      0.97      0.96      1765\n",
            "     Offensive_Targeted_Insult_Group       0.00      0.00      0.00        23\n",
            "Offensive_Targeted_Insult_Individual       0.54      0.52      0.53        27\n",
            "               Offensive_Untargetede       0.55      0.38      0.45        29\n",
            "                       not-malayalam       0.00      0.00      0.00       157\n",
            "\n",
            "                            accuracy                           0.87      2001\n",
            "                           macro avg       0.41      0.37      0.39      2001\n",
            "                        weighted avg       0.86      0.87      0.86      2001\n",
            "\n",
            "Accuracy :  0.8660669665167416\n",
            "Precison :  0.8635230548274027\n",
            "Recall :  0.8660669665167416\n",
            "F1 :  0.8645570781111406\n",
            "\n",
            "\n",
            "Model Name: ---->  LR \n",
            "\n",
            "[[1633   91    6   27    8]\n",
            " [   6    0    3    2   12]\n",
            " [   7    0   17    0    3]\n",
            " [   4    0    1   24    0]\n",
            " [  14  143    0    0    0]]\n",
            "                                      precision    recall  f1-score   support\n",
            "\n",
            "                       Not_offensive       0.98      0.93      0.95      1765\n",
            "     Offensive_Targeted_Insult_Group       0.00      0.00      0.00        23\n",
            "Offensive_Targeted_Insult_Individual       0.63      0.63      0.63        27\n",
            "               Offensive_Untargetede       0.45      0.83      0.59        29\n",
            "                       not-malayalam       0.00      0.00      0.00       157\n",
            "\n",
            "                            accuracy                           0.84      2001\n",
            "                           macro avg       0.41      0.48      0.43      2001\n",
            "                        weighted avg       0.88      0.84      0.86      2001\n",
            "\n",
            "Accuracy :  0.8365817091454273\n",
            "Precison :  0.8806848900023863\n",
            "Recall :  0.8365817091454273\n",
            "F1 :  0.8571089733426752\n",
            "\n",
            "\n",
            "Model Name: ---->  SVM \n",
            "\n",
            "[[1711   49    0    2    3]\n",
            " [  11    0    0    2   10]\n",
            " [   7    0   18    0    2]\n",
            " [   9    0    0   20    0]\n",
            " [  19  138    0    0    0]]\n",
            "                                      precision    recall  f1-score   support\n",
            "\n",
            "                       Not_offensive       0.97      0.97      0.97      1765\n",
            "     Offensive_Targeted_Insult_Group       0.00      0.00      0.00        23\n",
            "Offensive_Targeted_Insult_Individual       1.00      0.67      0.80        27\n",
            "               Offensive_Untargetede       0.83      0.69      0.75        29\n",
            "                       not-malayalam       0.00      0.00      0.00       157\n",
            "\n",
            "                            accuracy                           0.87      2001\n",
            "                           macro avg       0.56      0.47      0.51      2001\n",
            "                        weighted avg       0.88      0.87      0.88      2001\n",
            "\n",
            "Accuracy :  0.8740629685157422\n",
            "Precison :  0.884536341201435\n",
            "Recall :  0.8740629685157422\n",
            "F1 :  0.878747236690977\n",
            "\n",
            "\n",
            "Model Name: ---->  ensemble \n",
            "\n",
            "[[1753   11    0    0    1]\n",
            " [  13    0    0    0   10]\n",
            " [  12    0   15    0    0]\n",
            " [  12    0    0   17    0]\n",
            " [  35  122    0    0    0]]\n",
            "                                      precision    recall  f1-score   support\n",
            "\n",
            "                       Not_offensive       0.96      0.99      0.98      1765\n",
            "     Offensive_Targeted_Insult_Group       0.00      0.00      0.00        23\n",
            "Offensive_Targeted_Insult_Individual       1.00      0.56      0.71        27\n",
            "               Offensive_Untargetede       1.00      0.59      0.74        29\n",
            "                       not-malayalam       0.00      0.00      0.00       157\n",
            "\n",
            "                            accuracy                           0.89      2001\n",
            "                           macro avg       0.59      0.43      0.49      2001\n",
            "                        weighted avg       0.88      0.89      0.88      2001\n",
            "\n",
            "Accuracy :  0.8920539730134932\n",
            "Precison :  0.8752459386744984\n",
            "Recall :  0.8920539730134932\n",
            "F1 :  0.8817703382084628\n",
            "\n",
            "\n",
            "Model Name: ---->  cnn-attn \n",
            "\n",
            "[[1714   27    7    9    8]\n",
            " [  10    1    1    1   10]\n",
            " [   7    1   14    3    2]\n",
            " [   8    0   10    8    3]\n",
            " [  35  122    0    0    0]]\n",
            "                                      precision    recall  f1-score   support\n",
            "\n",
            "                       Not_offensive       0.97      0.97      0.97      1765\n",
            "     Offensive_Targeted_Insult_Group       0.01      0.04      0.01        23\n",
            "Offensive_Targeted_Insult_Individual       0.44      0.52      0.47        27\n",
            "               Offensive_Untargetede       0.38      0.28      0.32        29\n",
            "                       not-malayalam       0.00      0.00      0.00       157\n",
            "\n",
            "                            accuracy                           0.87      2001\n",
            "                           macro avg       0.36      0.36      0.35      2001\n",
            "                        weighted avg       0.86      0.87      0.87      2001\n",
            "\n",
            "Accuracy :  0.8680659670164917\n",
            "Precison :  0.8637265536090483\n",
            "Recall :  0.8680659670164917\n",
            "F1 :  0.8655667509762816\n",
            "\n",
            "\n"
          ],
          "name": "stdout"
        }
      ]
    },
    {
      "cell_type": "code",
      "metadata": {
        "colab": {
          "base_uri": "https://localhost:8080/",
          "height": 247
        },
        "id": "aFyTfrkRQyrG",
        "outputId": "9661efb1-d827-4a26-8a7c-bddf61806aed"
      },
      "source": [
        "con_mat(actual_labels_mala['label'],predicted_labels_mala['indic-bert'],class_names=['NF','OTIG','OTII','OU','NM'],language='mala')"
      ],
      "execution_count": null,
      "outputs": [
        {
          "output_type": "display_data",
          "data": {
            "image/png": "[encoded data removed]",
            "text/plain": [
              "<Figure size 360x216 with 2 Axes>"
            ]
          },
          "metadata": {
            "tags": []
          }
        }
      ]
    },
    {
      "cell_type": "markdown",
      "metadata": {
        "id": "tST-UCFPRhkV"
      },
      "source": [
        "#Kannada Result"
      ]
    },
    {
      "cell_type": "code",
      "metadata": {
        "id": "lzkIBJ7uRon8"
      },
      "source": [
        "### Actual Test labels\n",
        "actual_labels_kan = pd.read_excel(result_path+'kannada_offensive_test_with_labels.xlsx')\n",
        "classes = np.unique(actual_labels_kan.Label)\n",
        "actual_labels_kan"
      ],
      "execution_count": null,
      "outputs": []
    },
    {
      "cell_type": "code",
      "metadata": {
        "colab": {
          "base_uri": "https://localhost:8080/"
        },
        "id": "jeya48WJcpNG",
        "outputId": "2c7cf43b-ac5f-4cb9-e2d1-bbd22c2c5e15"
      },
      "source": [
        "actual_labels_kan['Label'].value_counts()"
      ],
      "execution_count": null,
      "outputs": [
        {
          "output_type": "execute_result",
          "data": {
            "text/plain": [
              "Not_offensive                           427\n",
              "not-Kannada                             185\n",
              "Offensive_Targeted_Insult_Individual     75\n",
              "Offensive_Targeted_Insult_Group          44\n",
              "Offensive_Untargetede                    33\n",
              "Offensive_Targeted_Insult_Other          14\n",
              "Name: Label, dtype: int64"
            ]
          },
          "metadata": {
            "tags": []
          },
          "execution_count": 9
        }
      ]
    },
    {
      "cell_type": "code",
      "metadata": {
        "colab": {
          "base_uri": "https://localhost:8080/"
        },
        "id": "bzTFT5dURon_",
        "outputId": "91eddfc0-70d3-45bf-a1ee-b4f0b87f327e"
      },
      "source": [
        "### Predicted Labels for all the models\n",
        "predicted_labels_kan = pd.read_excel(result_path +'kannada-test-predictions.xlsx')\n",
        "model_names = predicted_labels_kan.columns.values.tolist()\n",
        "model_names= model_names[1:]\n",
        "model_names\n"
      ],
      "execution_count": null,
      "outputs": [
        {
          "output_type": "execute_result",
          "data": {
            "text/plain": [
              "['xlm-r',\n",
              " 'm-bert',\n",
              " 'indic-bert',\n",
              " 'lstm',\n",
              " 'lstm-fattext',\n",
              " 'LR',\n",
              " 'SVM',\n",
              " 'ensemle',\n",
              " 'lstm-attn']"
            ]
          },
          "metadata": {
            "tags": []
          },
          "execution_count": 69
        }
      ]
    },
    {
      "cell_type": "code",
      "metadata": {
        "colab": {
          "base_uri": "https://localhost:8080/"
        },
        "id": "1Ni6vJf8RooC",
        "outputId": "fcceb73b-f95b-47c7-ff84-e8b5abce3de4"
      },
      "source": [
        "for i in model_names:\n",
        "  print(\"Model Name: ----> \",i,\"\\n\")\n",
        "  print_metrices(actual_labels_kan['Label'],predicted_labels_kan[i],classes)\n",
        "  print('\\n')"
      ],
      "execution_count": null,
      "outputs": [
        {
          "output_type": "stream",
          "text": [
            "Model Name: ---->  xlm-r \n",
            "\n",
            "[[308  20  20   2  19  58]\n",
            " [ 14  17   5   3   1   4]\n",
            " [ 18   3  50   0   3   1]\n",
            " [  6   3   1   1   2   1]\n",
            " [ 18   2   5   0   7   1]\n",
            " [ 15   3   1   1   0 165]]\n",
            "                                      precision    recall  f1-score   support\n",
            "\n",
            "                       Not_offensive       0.81      0.72      0.76       427\n",
            "     Offensive_Targeted_Insult_Group       0.35      0.39      0.37        44\n",
            "Offensive_Targeted_Insult_Individual       0.61      0.67      0.64        75\n",
            "     Offensive_Targeted_Insult_Other       0.14      0.07      0.10        14\n",
            "               Offensive_Untargetede       0.22      0.21      0.22        33\n",
            "                         not-Kannada       0.72      0.89      0.80       185\n",
            "\n",
            "                            accuracy                           0.70       778\n",
            "                           macro avg       0.48      0.49      0.48       778\n",
            "                        weighted avg       0.71      0.70      0.70       778\n",
            "\n",
            "Accuracy :  0.7043701799485861\n",
            "Precison :  0.7072739042699699\n",
            "Recall :  0.7043701799485861\n",
            "F1 :  0.7017011071207095\n",
            "\n",
            "\n",
            "Model Name: ---->  m-bert \n",
            "\n",
            "[[363  10  10   0   1  43]\n",
            " [ 22  15   4   0   0   3]\n",
            " [ 24   3  45   0   2   1]\n",
            " [  6   4   2   0   1   1]\n",
            " [ 24   2   2   0   1   4]\n",
            " [ 34   0   2   0   0 149]]\n",
            "                                      precision    recall  f1-score   support\n",
            "\n",
            "                       Not_offensive       0.77      0.85      0.81       427\n",
            "     Offensive_Targeted_Insult_Group       0.44      0.34      0.38        44\n",
            "Offensive_Targeted_Insult_Individual       0.69      0.60      0.64        75\n",
            "     Offensive_Targeted_Insult_Other       0.00      0.00      0.00        14\n",
            "               Offensive_Untargetede       0.20      0.03      0.05        33\n",
            "                         not-Kannada       0.74      0.81      0.77       185\n",
            "\n",
            "                            accuracy                           0.74       778\n",
            "                           macro avg       0.47      0.44      0.44       778\n",
            "                        weighted avg       0.70      0.74      0.71       778\n",
            "\n",
            "Accuracy :  0.7365038560411311\n",
            "Precison :  0.6976501536377262\n",
            "Recall :  0.7365038560411311\n",
            "F1 :  0.7122682591339121\n",
            "\n",
            "\n",
            "Model Name: ---->  indic-bert \n",
            "\n",
            "[[355   2  19   0   0  51]\n",
            " [ 20   8  11   0   0   5]\n",
            " [ 24   1  49   0   0   1]\n",
            " [ 10   1   2   0   0   1]\n",
            " [ 26   2   3   0   0   2]\n",
            " [ 22   0   1   0   0 162]]\n",
            "                                      precision    recall  f1-score   support\n",
            "\n",
            "                       Not_offensive       0.78      0.83      0.80       427\n",
            "     Offensive_Targeted_Insult_Group       0.57      0.18      0.28        44\n",
            "Offensive_Targeted_Insult_Individual       0.58      0.65      0.61        75\n",
            "     Offensive_Targeted_Insult_Other       0.00      0.00      0.00        14\n",
            "               Offensive_Untargetede       0.00      0.00      0.00        33\n",
            "                         not-Kannada       0.73      0.88      0.80       185\n",
            "\n",
            "                            accuracy                           0.74       778\n",
            "                           macro avg       0.44      0.42      0.41       778\n",
            "                        weighted avg       0.69      0.74      0.70       778\n",
            "\n",
            "Accuracy :  0.7377892030848329\n",
            "Precison :  0.6877557759784962\n",
            "Recall :  0.7377892030848329\n",
            "F1 :  0.704756615674798\n",
            "\n",
            "\n",
            "Model Name: ---->  lstm \n",
            "\n",
            "[[284  81  27  14   8  13]\n",
            " [ 21   7   7   1   7   1]\n",
            " [ 14   4  50   3   3   1]\n",
            " [  8   1   2   0   1   2]\n",
            " [ 14   6   6   3   3   1]\n",
            " [ 26 149   8   2   0   0]]\n",
            "                                      precision    recall  f1-score   support\n",
            "\n",
            "                       Not_offensive       0.77      0.67      0.72       427\n",
            "     Offensive_Targeted_Insult_Group       0.03      0.16      0.05        44\n",
            "Offensive_Targeted_Insult_Individual       0.50      0.67      0.57        75\n",
            "     Offensive_Targeted_Insult_Other       0.00      0.00      0.00        14\n",
            "               Offensive_Untargetede       0.14      0.09      0.11        33\n",
            "                         not-Kannada       0.00      0.00      0.00       185\n",
            "\n",
            "                            accuracy                           0.44       778\n",
            "                           macro avg       0.24      0.26      0.24       778\n",
            "                        weighted avg       0.48      0.44      0.46       778\n",
            "\n",
            "Accuracy :  0.442159383033419\n",
            "Precison :  0.4802987830270471\n",
            "Recall :  0.442159383033419\n",
            "F1 :  0.45504844354380464\n",
            "\n",
            "\n",
            "Model Name: ---->  lstm-fattext \n",
            "\n",
            "[[305  69  17  19  11   6]\n",
            " [ 26   4   5   1   6   2]\n",
            " [ 27   5  34   0   6   3]\n",
            " [  8   3   0   0   1   2]\n",
            " [ 22   5   0   3   2   1]\n",
            " [ 50 122   4   3   1   5]]\n",
            "                                      precision    recall  f1-score   support\n",
            "\n",
            "                       Not_offensive       0.70      0.71      0.71       427\n",
            "     Offensive_Targeted_Insult_Group       0.02      0.09      0.03        44\n",
            "Offensive_Targeted_Insult_Individual       0.57      0.45      0.50        75\n",
            "     Offensive_Targeted_Insult_Other       0.00      0.00      0.00        14\n",
            "               Offensive_Untargetede       0.07      0.06      0.07        33\n",
            "                         not-Kannada       0.26      0.03      0.05       185\n",
            "\n",
            "                            accuracy                           0.45       778\n",
            "                           macro avg       0.27      0.22      0.23       778\n",
            "                        weighted avg       0.50      0.45      0.45       778\n",
            "\n",
            "Accuracy :  0.4498714652956298\n",
            "Precison :  0.5036182409579896\n",
            "Recall :  0.4498714652956298\n",
            "F1 :  0.4518825422992552\n",
            "\n",
            "\n",
            "Model Name: ---->  LR \n",
            "\n",
            "[[283  90  13  12  22   7]\n",
            " [ 12   5   8   0  18   1]\n",
            " [ 11   4  50   2   7   1]\n",
            " [  7   1   2   1   2   1]\n",
            " [ 16   5   6   2   4   0]\n",
            " [ 25 147   5   2   5   1]]\n",
            "                                      precision    recall  f1-score   support\n",
            "\n",
            "                       Not_offensive       0.80      0.66      0.72       427\n",
            "     Offensive_Targeted_Insult_Group       0.02      0.11      0.03        44\n",
            "Offensive_Targeted_Insult_Individual       0.60      0.67      0.63        75\n",
            "     Offensive_Targeted_Insult_Other       0.05      0.07      0.06        14\n",
            "               Offensive_Untargetede       0.07      0.12      0.09        33\n",
            "                         not-Kannada       0.09      0.01      0.01       185\n",
            "\n",
            "                            accuracy                           0.44       778\n",
            "                           macro avg       0.27      0.27      0.26       778\n",
            "                        weighted avg       0.52      0.44      0.47       778\n",
            "\n",
            "Accuracy :  0.442159383033419\n",
            "Precison :  0.5227577327383425\n",
            "Recall :  0.442159383033419\n",
            "F1 :  0.4675393589896518\n",
            "\n",
            "\n",
            "Model Name: ---->  SVM \n",
            "\n",
            "[[318  82   9   6  10   2]\n",
            " [ 25   5   6   1   7   0]\n",
            " [ 18   6  45   2   3   1]\n",
            " [  8   2   1   1   1   1]\n",
            " [ 22   5   3   1   2   0]\n",
            " [ 32 150   3   0   0   0]]\n",
            "                                      precision    recall  f1-score   support\n",
            "\n",
            "                       Not_offensive       0.75      0.74      0.75       427\n",
            "     Offensive_Targeted_Insult_Group       0.02      0.11      0.03        44\n",
            "Offensive_Targeted_Insult_Individual       0.67      0.60      0.63        75\n",
            "     Offensive_Targeted_Insult_Other       0.09      0.07      0.08        14\n",
            "               Offensive_Untargetede       0.09      0.06      0.07        33\n",
            "                         not-Kannada       0.00      0.00      0.00       185\n",
            "\n",
            "                            accuracy                           0.48       778\n",
            "                           macro avg       0.27      0.27      0.26       778\n",
            "                        weighted avg       0.48      0.48      0.48       778\n",
            "\n",
            "Accuracy :  0.4768637532133676\n",
            "Precison :  0.48380786506048634\n",
            "Recall :  0.4768637532133676\n",
            "F1 :  0.4781560711470945\n",
            "\n",
            "\n",
            "Model Name: ---->  ensemle \n",
            "\n",
            "[[357  61   2   3   3   1]\n",
            " [ 30   4   4   0   6   0]\n",
            " [ 34   3  37   1   0   0]\n",
            " [ 12   0   0   0   1   1]\n",
            " [ 27   5   1   0   0   0]\n",
            " [ 50 132   2   0   1   0]]\n",
            "                                      precision    recall  f1-score   support\n",
            "\n",
            "                       Not_offensive       0.70      0.84      0.76       427\n",
            "     Offensive_Targeted_Insult_Group       0.02      0.09      0.03        44\n",
            "Offensive_Targeted_Insult_Individual       0.80      0.49      0.61        75\n",
            "     Offensive_Targeted_Insult_Other       0.00      0.00      0.00        14\n",
            "               Offensive_Untargetede       0.00      0.00      0.00        33\n",
            "                         not-Kannada       0.00      0.00      0.00       185\n",
            "\n",
            "                            accuracy                           0.51       778\n",
            "                           macro avg       0.25      0.24      0.23       778\n",
            "                        weighted avg       0.46      0.51      0.48       778\n",
            "\n",
            "Accuracy :  0.5115681233933161\n",
            "Precison :  0.46283370635204063\n",
            "Recall :  0.5115681233933161\n",
            "F1 :  0.4789950610177201\n",
            "\n",
            "\n",
            "Model Name: ---->  lstm-attn \n",
            "\n",
            "[[308  89   1   4  25   0]\n",
            " [ 20   6   7   3   6   2]\n",
            " [ 19   5  37   2  12   0]\n",
            " [  5   3   3   0   3   0]\n",
            " [ 18   6   3   1   5   0]\n",
            " [ 36 142   2   4   1   0]]\n",
            "                                      precision    recall  f1-score   support\n",
            "\n",
            "                       Not_offensive       0.76      0.72      0.74       427\n",
            "     Offensive_Targeted_Insult_Group       0.02      0.14      0.04        44\n",
            "Offensive_Targeted_Insult_Individual       0.70      0.49      0.58        75\n",
            "     Offensive_Targeted_Insult_Other       0.00      0.00      0.00        14\n",
            "               Offensive_Untargetede       0.10      0.15      0.12        33\n",
            "                         not-Kannada       0.00      0.00      0.00       185\n",
            "\n",
            "                            accuracy                           0.46       778\n",
            "                           macro avg       0.26      0.25      0.25       778\n",
            "                        weighted avg       0.49      0.46      0.47       778\n",
            "\n",
            "Accuracy :  0.45758354755784064\n",
            "Precison :  0.4890930524428773\n",
            "Recall :  0.45758354755784064\n",
            "F1 :  0.4688897999126015\n",
            "\n",
            "\n"
          ],
          "name": "stdout"
        }
      ]
    },
    {
      "cell_type": "code",
      "metadata": {
        "colab": {
          "base_uri": "https://localhost:8080/",
          "height": 247
        },
        "id": "F_Yr16wtRrVa",
        "outputId": "7e790026-4c55-419d-8bd7-15719172dbd0"
      },
      "source": [
        "con_mat(actual_labels_kan['Label'],predicted_labels_kan['m-bert'],class_names=['NF','OTIG','OTII','OTIO','OU','NK'],language='kannada')"
      ],
      "execution_count": null,
      "outputs": [
        {
          "output_type": "display_data",
          "data": {
            "image/png": "[encoded data removed]",
            "text/plain": [
              "<Figure size 360x216 with 2 Axes>"
            ]
          },
          "metadata": {
            "tags": []
          }
        }
      ]
    }
  ]
}
