{
  "nbformat": 4,
  "nbformat_minor": 0,
  "metadata": {
    "colab": {
      "name": "Offensive_text_detection (EACL-2021).ipynb",
      "provenance": [],
      "collapsed_sections": [],
      "machine_shape": "hm",
      "include_colab_link": true
    },
    "kernelspec": {
      "display_name": "Python 3",
      "name": "python3"
    },
    "widgets": {
      "application/vnd.jupyter.widget-state+json": {
        "1069a1f1b531404c9f6f80173144b9f7": {
          "model_module": "@jupyter-widgets/controls",
          "model_name": "HBoxModel",
          "state": {
            "_view_name": "HBoxView",
            "_dom_classes": [],
            "_model_name": "HBoxModel",
            "_view_module": "@jupyter-widgets/controls",
            "_model_module_version": "1.5.0",
            "_view_count": null,
            "_view_module_version": "1.5.0",
            "box_style": "",
            "layout": "IPY_MODEL_3a99e8ba0bf2421894f31abba77d40de",
            "_model_module": "@jupyter-widgets/controls",
            "children": [
              "IPY_MODEL_953f914426604f3590fd9ce687682e25",
              "IPY_MODEL_c49bcb459e224b00a74516a894480cdb"
            ]
          }
        },
        "3a99e8ba0bf2421894f31abba77d40de": {
          "model_module": "@jupyter-widgets/base",
          "model_name": "LayoutModel",
          "state": {
            "_view_name": "LayoutView",
            "grid_template_rows": null,
            "right": null,
            "justify_content": null,
            "_view_module": "@jupyter-widgets/base",
            "overflow": null,
            "_model_module_version": "1.2.0",
            "_view_count": null,
            "flex_flow": null,
            "width": null,
            "min_width": null,
            "border": null,
            "align_items": null,
            "bottom": null,
            "_model_module": "@jupyter-widgets/base",
            "top": null,
            "grid_column": null,
            "overflow_y": null,
            "overflow_x": null,
            "grid_auto_flow": null,
            "grid_area": null,
            "grid_template_columns": null,
            "flex": null,
            "_model_name": "LayoutModel",
            "justify_items": null,
            "grid_row": null,
            "max_height": null,
            "align_content": null,
            "visibility": null,
            "align_self": null,
            "height": null,
            "min_height": null,
            "padding": null,
            "grid_auto_rows": null,
            "grid_gap": null,
            "max_width": null,
            "order": null,
            "_view_module_version": "1.2.0",
            "grid_template_areas": null,
            "object_position": null,
            "object_fit": null,
            "grid_auto_columns": null,
            "margin": null,
            "display": null,
            "left": null
          }
        },
        "953f914426604f3590fd9ce687682e25": {
          "model_module": "@jupyter-widgets/controls",
          "model_name": "FloatProgressModel",
          "state": {
            "_view_name": "ProgressView",
            "style": "IPY_MODEL_ca314dabc8684109833bff941048cff0",
            "_dom_classes": [],
            "description": "Downloading: 100%",
            "_model_name": "FloatProgressModel",
            "bar_style": "success",
            "max": 995526,
            "_view_module": "@jupyter-widgets/controls",
            "_model_module_version": "1.5.0",
            "value": 995526,
            "_view_count": null,
            "_view_module_version": "1.5.0",
            "orientation": "horizontal",
            "min": 0,
            "description_tooltip": null,
            "_model_module": "@jupyter-widgets/controls",
            "layout": "IPY_MODEL_5f80903e3cc049568fd6a528806eeaf3"
          }
        },
        "c49bcb459e224b00a74516a894480cdb": {
          "model_module": "@jupyter-widgets/controls",
          "model_name": "HTMLModel",
          "state": {
            "_view_name": "HTMLView",
            "style": "IPY_MODEL_605f4f7a418f430ba55c794fdbb98008",
            "_dom_classes": [],
            "description": "",
            "_model_name": "HTMLModel",
            "placeholder": "​",
            "_view_module": "@jupyter-widgets/controls",
            "_model_module_version": "1.5.0",
            "value": " 996k/996k [00:01&lt;00:00, 650kB/s]",
            "_view_count": null,
            "_view_module_version": "1.5.0",
            "description_tooltip": null,
            "_model_module": "@jupyter-widgets/controls",
            "layout": "IPY_MODEL_114a256b98ab4fa8ae2edb90aefbfcdb"
          }
        },
        "ca314dabc8684109833bff941048cff0": {
          "model_module": "@jupyter-widgets/controls",
          "model_name": "ProgressStyleModel",
          "state": {
            "_view_name": "StyleView",
            "_model_name": "ProgressStyleModel",
            "description_width": "initial",
            "_view_module": "@jupyter-widgets/base",
            "_model_module_version": "1.5.0",
            "_view_count": null,
            "_view_module_version": "1.2.0",
            "bar_color": null,
            "_model_module": "@jupyter-widgets/controls"
          }
        },
        "5f80903e3cc049568fd6a528806eeaf3": {
          "model_module": "@jupyter-widgets/base",
          "model_name": "LayoutModel",
          "state": {
            "_view_name": "LayoutView",
            "grid_template_rows": null,
            "right": null,
            "justify_content": null,
            "_view_module": "@jupyter-widgets/base",
            "overflow": null,
            "_model_module_version": "1.2.0",
            "_view_count": null,
            "flex_flow": null,
            "width": null,
            "min_width": null,
            "border": null,
            "align_items": null,
            "bottom": null,
            "_model_module": "@jupyter-widgets/base",
            "top": null,
            "grid_column": null,
            "overflow_y": null,
            "overflow_x": null,
            "grid_auto_flow": null,
            "grid_area": null,
            "grid_template_columns": null,
            "flex": null,
            "_model_name": "LayoutModel",
            "justify_items": null,
            "grid_row": null,
            "max_height": null,
            "align_content": null,
            "visibility": null,
            "align_self": null,
            "height": null,
            "min_height": null,
            "padding": null,
            "grid_auto_rows": null,
            "grid_gap": null,
            "max_width": null,
            "order": null,
            "_view_module_version": "1.2.0",
            "grid_template_areas": null,
            "object_position": null,
            "object_fit": null,
            "grid_auto_columns": null,
            "margin": null,
            "display": null,
            "left": null
          }
        },
        "605f4f7a418f430ba55c794fdbb98008": {
          "model_module": "@jupyter-widgets/controls",
          "model_name": "DescriptionStyleModel",
          "state": {
            "_view_name": "StyleView",
            "_model_name": "DescriptionStyleModel",
            "description_width": "",
            "_view_module": "@jupyter-widgets/base",
            "_model_module_version": "1.5.0",
            "_view_count": null,
            "_view_module_version": "1.2.0",
            "_model_module": "@jupyter-widgets/controls"
          }
        },
        "114a256b98ab4fa8ae2edb90aefbfcdb": {
          "model_module": "@jupyter-widgets/base",
          "model_name": "LayoutModel",
          "state": {
            "_view_name": "LayoutView",
            "grid_template_rows": null,
            "right": null,
            "justify_content": null,
            "_view_module": "@jupyter-widgets/base",
            "overflow": null,
            "_model_module_version": "1.2.0",
            "_view_count": null,
            "flex_flow": null,
            "width": null,
            "min_width": null,
            "border": null,
            "align_items": null,
            "bottom": null,
            "_model_module": "@jupyter-widgets/base",
            "top": null,
            "grid_column": null,
            "overflow_y": null,
            "overflow_x": null,
            "grid_auto_flow": null,
            "grid_area": null,
            "grid_template_columns": null,
            "flex": null,
            "_model_name": "LayoutModel",
            "justify_items": null,
            "grid_row": null,
            "max_height": null,
            "align_content": null,
            "visibility": null,
            "align_self": null,
            "height": null,
            "min_height": null,
            "padding": null,
            "grid_auto_rows": null,
            "grid_gap": null,
            "max_width": null,
            "order": null,
            "_view_module_version": "1.2.0",
            "grid_template_areas": null,
            "object_position": null,
            "object_fit": null,
            "grid_auto_columns": null,
            "margin": null,
            "display": null,
            "left": null
          }
        },
        "2cb7274319154957bc2ff547b821ade1": {
          "model_module": "@jupyter-widgets/controls",
          "model_name": "HBoxModel",
          "state": {
            "_view_name": "HBoxView",
            "_dom_classes": [],
            "_model_name": "HBoxModel",
            "_view_module": "@jupyter-widgets/controls",
            "_model_module_version": "1.5.0",
            "_view_count": null,
            "_view_module_version": "1.5.0",
            "box_style": "",
            "layout": "IPY_MODEL_5a5c8e2b99f84cd5b76112f28d969391",
            "_model_module": "@jupyter-widgets/controls",
            "children": [
              "IPY_MODEL_8ab22b5bf5d44aaa98e4c5270b345fe4",
              "IPY_MODEL_5fc25cf0f4a04be096e645419bbcc869"
            ]
          }
        },
        "5a5c8e2b99f84cd5b76112f28d969391": {
          "model_module": "@jupyter-widgets/base",
          "model_name": "LayoutModel",
          "state": {
            "_view_name": "LayoutView",
            "grid_template_rows": null,
            "right": null,
            "justify_content": null,
            "_view_module": "@jupyter-widgets/base",
            "overflow": null,
            "_model_module_version": "1.2.0",
            "_view_count": null,
            "flex_flow": null,
            "width": null,
            "min_width": null,
            "border": null,
            "align_items": null,
            "bottom": null,
            "_model_module": "@jupyter-widgets/base",
            "top": null,
            "grid_column": null,
            "overflow_y": null,
            "overflow_x": null,
            "grid_auto_flow": null,
            "grid_area": null,
            "grid_template_columns": null,
            "flex": null,
            "_model_name": "LayoutModel",
            "justify_items": null,
            "grid_row": null,
            "max_height": null,
            "align_content": null,
            "visibility": null,
            "align_self": null,
            "height": null,
            "min_height": null,
            "padding": null,
            "grid_auto_rows": null,
            "grid_gap": null,
            "max_width": null,
            "order": null,
            "_view_module_version": "1.2.0",
            "grid_template_areas": null,
            "object_position": null,
            "object_fit": null,
            "grid_auto_columns": null,
            "margin": null,
            "display": null,
            "left": null
          }
        },
        "8ab22b5bf5d44aaa98e4c5270b345fe4": {
          "model_module": "@jupyter-widgets/controls",
          "model_name": "FloatProgressModel",
          "state": {
            "_view_name": "ProgressView",
            "style": "IPY_MODEL_9f0b0a1888a546ac8d17c97fccf29959",
            "_dom_classes": [],
            "description": "Downloading: 100%",
            "_model_name": "FloatProgressModel",
            "bar_style": "success",
            "max": 1961828,
            "_view_module": "@jupyter-widgets/controls",
            "_model_module_version": "1.5.0",
            "value": 1961828,
            "_view_count": null,
            "_view_module_version": "1.5.0",
            "orientation": "horizontal",
            "min": 0,
            "description_tooltip": null,
            "_model_module": "@jupyter-widgets/controls",
            "layout": "IPY_MODEL_a3e9fed4b82e47049053d31dc284afb4"
          }
        },
        "5fc25cf0f4a04be096e645419bbcc869": {
          "model_module": "@jupyter-widgets/controls",
          "model_name": "HTMLModel",
          "state": {
            "_view_name": "HTMLView",
            "style": "IPY_MODEL_90561208a3cb48a29f5dc739b59dc6bb",
            "_dom_classes": [],
            "description": "",
            "_model_name": "HTMLModel",
            "placeholder": "​",
            "_view_module": "@jupyter-widgets/controls",
            "_model_module_version": "1.5.0",
            "value": " 1.96M/1.96M [00:00&lt;00:00, 3.44MB/s]",
            "_view_count": null,
            "_view_module_version": "1.5.0",
            "description_tooltip": null,
            "_model_module": "@jupyter-widgets/controls",
            "layout": "IPY_MODEL_7b296d6e230f4917bca707a1b944ded4"
          }
        },
        "9f0b0a1888a546ac8d17c97fccf29959": {
          "model_module": "@jupyter-widgets/controls",
          "model_name": "ProgressStyleModel",
          "state": {
            "_view_name": "StyleView",
            "_model_name": "ProgressStyleModel",
            "description_width": "initial",
            "_view_module": "@jupyter-widgets/base",
            "_model_module_version": "1.5.0",
            "_view_count": null,
            "_view_module_version": "1.2.0",
            "bar_color": null,
            "_model_module": "@jupyter-widgets/controls"
          }
        },
        "a3e9fed4b82e47049053d31dc284afb4": {
          "model_module": "@jupyter-widgets/base",
          "model_name": "LayoutModel",
          "state": {
            "_view_name": "LayoutView",
            "grid_template_rows": null,
            "right": null,
            "justify_content": null,
            "_view_module": "@jupyter-widgets/base",
            "overflow": null,
            "_model_module_version": "1.2.0",
            "_view_count": null,
            "flex_flow": null,
            "width": null,
            "min_width": null,
            "border": null,
            "align_items": null,
            "bottom": null,
            "_model_module": "@jupyter-widgets/base",
            "top": null,
            "grid_column": null,
            "overflow_y": null,
            "overflow_x": null,
            "grid_auto_flow": null,
            "grid_area": null,
            "grid_template_columns": null,
            "flex": null,
            "_model_name": "LayoutModel",
            "justify_items": null,
            "grid_row": null,
            "max_height": null,
            "align_content": null,
            "visibility": null,
            "align_self": null,
            "height": null,
            "min_height": null,
            "padding": null,
            "grid_auto_rows": null,
            "grid_gap": null,
            "max_width": null,
            "order": null,
            "_view_module_version": "1.2.0",
            "grid_template_areas": null,
            "object_position": null,
            "object_fit": null,
            "grid_auto_columns": null,
            "margin": null,
            "display": null,
            "left": null
          }
        },
        "90561208a3cb48a29f5dc739b59dc6bb": {
          "model_module": "@jupyter-widgets/controls",
          "model_name": "DescriptionStyleModel",
          "state": {
            "_view_name": "StyleView",
            "_model_name": "DescriptionStyleModel",
            "description_width": "",
            "_view_module": "@jupyter-widgets/base",
            "_model_module_version": "1.5.0",
            "_view_count": null,
            "_view_module_version": "1.2.0",
            "_model_module": "@jupyter-widgets/controls"
          }
        },
        "7b296d6e230f4917bca707a1b944ded4": {
          "model_module": "@jupyter-widgets/base",
          "model_name": "LayoutModel",
          "state": {
            "_view_name": "LayoutView",
            "grid_template_rows": null,
            "right": null,
            "justify_content": null,
            "_view_module": "@jupyter-widgets/base",
            "overflow": null,
            "_model_module_version": "1.2.0",
            "_view_count": null,
            "flex_flow": null,
            "width": null,
            "min_width": null,
            "border": null,
            "align_items": null,
            "bottom": null,
            "_model_module": "@jupyter-widgets/base",
            "top": null,
            "grid_column": null,
            "overflow_y": null,
            "overflow_x": null,
            "grid_auto_flow": null,
            "grid_area": null,
            "grid_template_columns": null,
            "flex": null,
            "_model_name": "LayoutModel",
            "justify_items": null,
            "grid_row": null,
            "max_height": null,
            "align_content": null,
            "visibility": null,
            "align_self": null,
            "height": null,
            "min_height": null,
            "padding": null,
            "grid_auto_rows": null,
            "grid_gap": null,
            "max_width": null,
            "order": null,
            "_view_module_version": "1.2.0",
            "grid_template_areas": null,
            "object_position": null,
            "object_fit": null,
            "grid_auto_columns": null,
            "margin": null,
            "display": null,
            "left": null
          }
        },
        "00e083ecae094d87b2577f9c1d78671f": {
          "model_module": "@jupyter-widgets/controls",
          "model_name": "HBoxModel",
          "state": {
            "_view_name": "HBoxView",
            "_dom_classes": [],
            "_model_name": "HBoxModel",
            "_view_module": "@jupyter-widgets/controls",
            "_model_module_version": "1.5.0",
            "_view_count": null,
            "_view_module_version": "1.5.0",
            "box_style": "",
            "layout": "IPY_MODEL_e37fed77261b40d39458e372b96e7705",
            "_model_module": "@jupyter-widgets/controls",
            "children": [
              "IPY_MODEL_438ed78624e24f498e1135b579df39e3",
              "IPY_MODEL_aafc6326fbca486ebbbabc0c34dd740e"
            ]
          }
        },
        "e37fed77261b40d39458e372b96e7705": {
          "model_module": "@jupyter-widgets/base",
          "model_name": "LayoutModel",
          "state": {
            "_view_name": "LayoutView",
            "grid_template_rows": null,
            "right": null,
            "justify_content": null,
            "_view_module": "@jupyter-widgets/base",
            "overflow": null,
            "_model_module_version": "1.2.0",
            "_view_count": null,
            "flex_flow": null,
            "width": null,
            "min_width": null,
            "border": null,
            "align_items": null,
            "bottom": null,
            "_model_module": "@jupyter-widgets/base",
            "top": null,
            "grid_column": null,
            "overflow_y": null,
            "overflow_x": null,
            "grid_auto_flow": null,
            "grid_area": null,
            "grid_template_columns": null,
            "flex": null,
            "_model_name": "LayoutModel",
            "justify_items": null,
            "grid_row": null,
            "max_height": null,
            "align_content": null,
            "visibility": null,
            "align_self": null,
            "height": null,
            "min_height": null,
            "padding": null,
            "grid_auto_rows": null,
            "grid_gap": null,
            "max_width": null,
            "order": null,
            "_view_module_version": "1.2.0",
            "grid_template_areas": null,
            "object_position": null,
            "object_fit": null,
            "grid_auto_columns": null,
            "margin": null,
            "display": null,
            "left": null
          }
        },
        "438ed78624e24f498e1135b579df39e3": {
          "model_module": "@jupyter-widgets/controls",
          "model_name": "FloatProgressModel",
          "state": {
            "_view_name": "ProgressView",
            "style": "IPY_MODEL_a32e791851ff4aca9a57134f47864b65",
            "_dom_classes": [],
            "description": "Downloading: 100%",
            "_model_name": "FloatProgressModel",
            "bar_style": "success",
            "max": 1083389348,
            "_view_module": "@jupyter-widgets/controls",
            "_model_module_version": "1.5.0",
            "value": 1083389348,
            "_view_count": null,
            "_view_module_version": "1.5.0",
            "orientation": "horizontal",
            "min": 0,
            "description_tooltip": null,
            "_model_module": "@jupyter-widgets/controls",
            "layout": "IPY_MODEL_d6c87efef9aa455ca77e18a3ddff0acf"
          }
        },
        "aafc6326fbca486ebbbabc0c34dd740e": {
          "model_module": "@jupyter-widgets/controls",
          "model_name": "HTMLModel",
          "state": {
            "_view_name": "HTMLView",
            "style": "IPY_MODEL_6211b78b028049c89bd25a847f7ebf14",
            "_dom_classes": [],
            "description": "",
            "_model_name": "HTMLModel",
            "placeholder": "​",
            "_view_module": "@jupyter-widgets/controls",
            "_model_module_version": "1.5.0",
            "value": " 1.08G/1.08G [00:28&lt;00:00, 38.2MB/s]",
            "_view_count": null,
            "_view_module_version": "1.5.0",
            "description_tooltip": null,
            "_model_module": "@jupyter-widgets/controls",
            "layout": "IPY_MODEL_e8b6f35489684b359ea216f5095d657c"
          }
        },
        "a32e791851ff4aca9a57134f47864b65": {
          "model_module": "@jupyter-widgets/controls",
          "model_name": "ProgressStyleModel",
          "state": {
            "_view_name": "StyleView",
            "_model_name": "ProgressStyleModel",
            "description_width": "initial",
            "_view_module": "@jupyter-widgets/base",
            "_model_module_version": "1.5.0",
            "_view_count": null,
            "_view_module_version": "1.2.0",
            "bar_color": null,
            "_model_module": "@jupyter-widgets/controls"
          }
        },
        "d6c87efef9aa455ca77e18a3ddff0acf": {
          "model_module": "@jupyter-widgets/base",
          "model_name": "LayoutModel",
          "state": {
            "_view_name": "LayoutView",
            "grid_template_rows": null,
            "right": null,
            "justify_content": null,
            "_view_module": "@jupyter-widgets/base",
            "overflow": null,
            "_model_module_version": "1.2.0",
            "_view_count": null,
            "flex_flow": null,
            "width": null,
            "min_width": null,
            "border": null,
            "align_items": null,
            "bottom": null,
            "_model_module": "@jupyter-widgets/base",
            "top": null,
            "grid_column": null,
            "overflow_y": null,
            "overflow_x": null,
            "grid_auto_flow": null,
            "grid_area": null,
            "grid_template_columns": null,
            "flex": null,
            "_model_name": "LayoutModel",
            "justify_items": null,
            "grid_row": null,
            "max_height": null,
            "align_content": null,
            "visibility": null,
            "align_self": null,
            "height": null,
            "min_height": null,
            "padding": null,
            "grid_auto_rows": null,
            "grid_gap": null,
            "max_width": null,
            "order": null,
            "_view_module_version": "1.2.0",
            "grid_template_areas": null,
            "object_position": null,
            "object_fit": null,
            "grid_auto_columns": null,
            "margin": null,
            "display": null,
            "left": null
          }
        },
        "6211b78b028049c89bd25a847f7ebf14": {
          "model_module": "@jupyter-widgets/controls",
          "model_name": "DescriptionStyleModel",
          "state": {
            "_view_name": "StyleView",
            "_model_name": "DescriptionStyleModel",
            "description_width": "",
            "_view_module": "@jupyter-widgets/base",
            "_model_module_version": "1.5.0",
            "_view_count": null,
            "_view_module_version": "1.2.0",
            "_model_module": "@jupyter-widgets/controls"
          }
        },
        "e8b6f35489684b359ea216f5095d657c": {
          "model_module": "@jupyter-widgets/base",
          "model_name": "LayoutModel",
          "state": {
            "_view_name": "LayoutView",
            "grid_template_rows": null,
            "right": null,
            "justify_content": null,
            "_view_module": "@jupyter-widgets/base",
            "overflow": null,
            "_model_module_version": "1.2.0",
            "_view_count": null,
            "flex_flow": null,
            "width": null,
            "min_width": null,
            "border": null,
            "align_items": null,
            "bottom": null,
            "_model_module": "@jupyter-widgets/base",
            "top": null,
            "grid_column": null,
            "overflow_y": null,
            "overflow_x": null,
            "grid_auto_flow": null,
            "grid_area": null,
            "grid_template_columns": null,
            "flex": null,
            "_model_name": "LayoutModel",
            "justify_items": null,
            "grid_row": null,
            "max_height": null,
            "align_content": null,
            "visibility": null,
            "align_self": null,
            "height": null,
            "min_height": null,
            "padding": null,
            "grid_auto_rows": null,
            "grid_gap": null,
            "max_width": null,
            "order": null,
            "_view_module_version": "1.2.0",
            "grid_template_areas": null,
            "object_position": null,
            "object_fit": null,
            "grid_auto_columns": null,
            "margin": null,
            "display": null,
            "left": null
          }
        },
        "ee4728065d9a43088c21d00bde58c50c": {
          "model_module": "@jupyter-widgets/controls",
          "model_name": "HBoxModel",
          "state": {
            "_view_name": "HBoxView",
            "_dom_classes": [],
            "_model_name": "HBoxModel",
            "_view_module": "@jupyter-widgets/controls",
            "_model_module_version": "1.5.0",
            "_view_count": null,
            "_view_module_version": "1.5.0",
            "box_style": "",
            "layout": "IPY_MODEL_05a24c48ef9f4455afddfb7e18a044bf",
            "_model_module": "@jupyter-widgets/controls",
            "children": [
              "IPY_MODEL_f910c7f706554009ab1e1297d89658e7",
              "IPY_MODEL_1f35deed70b44b5e9e98fd324b19a79e"
            ]
          }
        },
        "05a24c48ef9f4455afddfb7e18a044bf": {
          "model_module": "@jupyter-widgets/base",
          "model_name": "LayoutModel",
          "state": {
            "_view_name": "LayoutView",
            "grid_template_rows": null,
            "right": null,
            "justify_content": null,
            "_view_module": "@jupyter-widgets/base",
            "overflow": null,
            "_model_module_version": "1.2.0",
            "_view_count": null,
            "flex_flow": null,
            "width": null,
            "min_width": null,
            "border": null,
            "align_items": null,
            "bottom": null,
            "_model_module": "@jupyter-widgets/base",
            "top": null,
            "grid_column": null,
            "overflow_y": null,
            "overflow_x": null,
            "grid_auto_flow": null,
            "grid_area": null,
            "grid_template_columns": null,
            "flex": null,
            "_model_name": "LayoutModel",
            "justify_items": null,
            "grid_row": null,
            "max_height": null,
            "align_content": null,
            "visibility": null,
            "align_self": null,
            "height": null,
            "min_height": null,
            "padding": null,
            "grid_auto_rows": null,
            "grid_gap": null,
            "max_width": null,
            "order": null,
            "_view_module_version": "1.2.0",
            "grid_template_areas": null,
            "object_position": null,
            "object_fit": null,
            "grid_auto_columns": null,
            "margin": null,
            "display": null,
            "left": null
          }
        },
        "f910c7f706554009ab1e1297d89658e7": {
          "model_module": "@jupyter-widgets/controls",
          "model_name": "FloatProgressModel",
          "state": {
            "_view_name": "ProgressView",
            "style": "IPY_MODEL_d258fb2b5e9a4431b1ca28663e901e27",
            "_dom_classes": [],
            "description": "Downloading: 100%",
            "_model_name": "FloatProgressModel",
            "bar_style": "success",
            "max": 625,
            "_view_module": "@jupyter-widgets/controls",
            "_model_module_version": "1.5.0",
            "value": 625,
            "_view_count": null,
            "_view_module_version": "1.5.0",
            "orientation": "horizontal",
            "min": 0,
            "description_tooltip": null,
            "_model_module": "@jupyter-widgets/controls",
            "layout": "IPY_MODEL_569c4b10116c45b3b7ea9f828e0d81e4"
          }
        },
        "1f35deed70b44b5e9e98fd324b19a79e": {
          "model_module": "@jupyter-widgets/controls",
          "model_name": "HTMLModel",
          "state": {
            "_view_name": "HTMLView",
            "style": "IPY_MODEL_3dc4ba2f680f4c6b8c661c9efe509d0d",
            "_dom_classes": [],
            "description": "",
            "_model_name": "HTMLModel",
            "placeholder": "​",
            "_view_module": "@jupyter-widgets/controls",
            "_model_module_version": "1.5.0",
            "value": " 625/625 [00:03&lt;00:00, 192B/s]",
            "_view_count": null,
            "_view_module_version": "1.5.0",
            "description_tooltip": null,
            "_model_module": "@jupyter-widgets/controls",
            "layout": "IPY_MODEL_ed91baabaa1d4ea19f423910ec100928"
          }
        },
        "d258fb2b5e9a4431b1ca28663e901e27": {
          "model_module": "@jupyter-widgets/controls",
          "model_name": "ProgressStyleModel",
          "state": {
            "_view_name": "StyleView",
            "_model_name": "ProgressStyleModel",
            "description_width": "initial",
            "_view_module": "@jupyter-widgets/base",
            "_model_module_version": "1.5.0",
            "_view_count": null,
            "_view_module_version": "1.2.0",
            "bar_color": null,
            "_model_module": "@jupyter-widgets/controls"
          }
        },
        "569c4b10116c45b3b7ea9f828e0d81e4": {
          "model_module": "@jupyter-widgets/base",
          "model_name": "LayoutModel",
          "state": {
            "_view_name": "LayoutView",
            "grid_template_rows": null,
            "right": null,
            "justify_content": null,
            "_view_module": "@jupyter-widgets/base",
            "overflow": null,
            "_model_module_version": "1.2.0",
            "_view_count": null,
            "flex_flow": null,
            "width": null,
            "min_width": null,
            "border": null,
            "align_items": null,
            "bottom": null,
            "_model_module": "@jupyter-widgets/base",
            "top": null,
            "grid_column": null,
            "overflow_y": null,
            "overflow_x": null,
            "grid_auto_flow": null,
            "grid_area": null,
            "grid_template_columns": null,
            "flex": null,
            "_model_name": "LayoutModel",
            "justify_items": null,
            "grid_row": null,
            "max_height": null,
            "align_content": null,
            "visibility": null,
            "align_self": null,
            "height": null,
            "min_height": null,
            "padding": null,
            "grid_auto_rows": null,
            "grid_gap": null,
            "max_width": null,
            "order": null,
            "_view_module_version": "1.2.0",
            "grid_template_areas": null,
            "object_position": null,
            "object_fit": null,
            "grid_auto_columns": null,
            "margin": null,
            "display": null,
            "left": null
          }
        },
        "3dc4ba2f680f4c6b8c661c9efe509d0d": {
          "model_module": "@jupyter-widgets/controls",
          "model_name": "DescriptionStyleModel",
          "state": {
            "_view_name": "StyleView",
            "_model_name": "DescriptionStyleModel",
            "description_width": "",
            "_view_module": "@jupyter-widgets/base",
            "_model_module_version": "1.5.0",
            "_view_count": null,
            "_view_module_version": "1.2.0",
            "_model_module": "@jupyter-widgets/controls"
          }
        },
        "ed91baabaa1d4ea19f423910ec100928": {
          "model_module": "@jupyter-widgets/base",
          "model_name": "LayoutModel",
          "state": {
            "_view_name": "LayoutView",
            "grid_template_rows": null,
            "right": null,
            "justify_content": null,
            "_view_module": "@jupyter-widgets/base",
            "overflow": null,
            "_model_module_version": "1.2.0",
            "_view_count": null,
            "flex_flow": null,
            "width": null,
            "min_width": null,
            "border": null,
            "align_items": null,
            "bottom": null,
            "_model_module": "@jupyter-widgets/base",
            "top": null,
            "grid_column": null,
            "overflow_y": null,
            "overflow_x": null,
            "grid_auto_flow": null,
            "grid_area": null,
            "grid_template_columns": null,
            "flex": null,
            "_model_name": "LayoutModel",
            "justify_items": null,
            "grid_row": null,
            "max_height": null,
            "align_content": null,
            "visibility": null,
            "align_self": null,
            "height": null,
            "min_height": null,
            "padding": null,
            "grid_auto_rows": null,
            "grid_gap": null,
            "max_width": null,
            "order": null,
            "_view_module_version": "1.2.0",
            "grid_template_areas": null,
            "object_position": null,
            "object_fit": null,
            "grid_auto_columns": null,
            "margin": null,
            "display": null,
            "left": null
          }
        },
        "ff1658ec56054a9e9c6b57ed5453214f": {
          "model_module": "@jupyter-widgets/controls",
          "model_name": "HBoxModel",
          "state": {
            "_view_name": "HBoxView",
            "_dom_classes": [],
            "_model_name": "HBoxModel",
            "_view_module": "@jupyter-widgets/controls",
            "_model_module_version": "1.5.0",
            "_view_count": null,
            "_view_module_version": "1.5.0",
            "box_style": "",
            "layout": "IPY_MODEL_0f7857f9f5264372b927bc95a01b0216",
            "_model_module": "@jupyter-widgets/controls",
            "children": [
              "IPY_MODEL_ad06101d9953427f842a31e8d7a8cc40",
              "IPY_MODEL_2bb808105e4040ad80e3206336b87d8d"
            ]
          }
        },
        "0f7857f9f5264372b927bc95a01b0216": {
          "model_module": "@jupyter-widgets/base",
          "model_name": "LayoutModel",
          "state": {
            "_view_name": "LayoutView",
            "grid_template_rows": null,
            "right": null,
            "justify_content": null,
            "_view_module": "@jupyter-widgets/base",
            "overflow": null,
            "_model_module_version": "1.2.0",
            "_view_count": null,
            "flex_flow": null,
            "width": null,
            "min_width": null,
            "border": null,
            "align_items": null,
            "bottom": null,
            "_model_module": "@jupyter-widgets/base",
            "top": null,
            "grid_column": null,
            "overflow_y": null,
            "overflow_x": null,
            "grid_auto_flow": null,
            "grid_area": null,
            "grid_template_columns": null,
            "flex": null,
            "_model_name": "LayoutModel",
            "justify_items": null,
            "grid_row": null,
            "max_height": null,
            "align_content": null,
            "visibility": null,
            "align_self": null,
            "height": null,
            "min_height": null,
            "padding": null,
            "grid_auto_rows": null,
            "grid_gap": null,
            "max_width": null,
            "order": null,
            "_view_module_version": "1.2.0",
            "grid_template_areas": null,
            "object_position": null,
            "object_fit": null,
            "grid_auto_columns": null,
            "margin": null,
            "display": null,
            "left": null
          }
        },
        "ad06101d9953427f842a31e8d7a8cc40": {
          "model_module": "@jupyter-widgets/controls",
          "model_name": "FloatProgressModel",
          "state": {
            "_view_name": "ProgressView",
            "style": "IPY_MODEL_95e8cfc8106a4b91a0ae124d52e90044",
            "_dom_classes": [],
            "description": "Downloading: 100%",
            "_model_name": "FloatProgressModel",
            "bar_style": "success",
            "max": 995526,
            "_view_module": "@jupyter-widgets/controls",
            "_model_module_version": "1.5.0",
            "value": 995526,
            "_view_count": null,
            "_view_module_version": "1.5.0",
            "orientation": "horizontal",
            "min": 0,
            "description_tooltip": null,
            "_model_module": "@jupyter-widgets/controls",
            "layout": "IPY_MODEL_194b861177224f5d8994f8c98b46c993"
          }
        },
        "2bb808105e4040ad80e3206336b87d8d": {
          "model_module": "@jupyter-widgets/controls",
          "model_name": "HTMLModel",
          "state": {
            "_view_name": "HTMLView",
            "style": "IPY_MODEL_db9260d5d27d44ca9ad2687abfff7f00",
            "_dom_classes": [],
            "description": "",
            "_model_name": "HTMLModel",
            "placeholder": "​",
            "_view_module": "@jupyter-widgets/controls",
            "_model_module_version": "1.5.0",
            "value": " 996k/996k [00:00&lt;00:00, 1.18MB/s]",
            "_view_count": null,
            "_view_module_version": "1.5.0",
            "description_tooltip": null,
            "_model_module": "@jupyter-widgets/controls",
            "layout": "IPY_MODEL_b68d927b28bd45d7940624620158969f"
          }
        },
        "95e8cfc8106a4b91a0ae124d52e90044": {
          "model_module": "@jupyter-widgets/controls",
          "model_name": "ProgressStyleModel",
          "state": {
            "_view_name": "StyleView",
            "_model_name": "ProgressStyleModel",
            "description_width": "initial",
            "_view_module": "@jupyter-widgets/base",
            "_model_module_version": "1.5.0",
            "_view_count": null,
            "_view_module_version": "1.2.0",
            "bar_color": null,
            "_model_module": "@jupyter-widgets/controls"
          }
        },
        "194b861177224f5d8994f8c98b46c993": {
          "model_module": "@jupyter-widgets/base",
          "model_name": "LayoutModel",
          "state": {
            "_view_name": "LayoutView",
            "grid_template_rows": null,
            "right": null,
            "justify_content": null,
            "_view_module": "@jupyter-widgets/base",
            "overflow": null,
            "_model_module_version": "1.2.0",
            "_view_count": null,
            "flex_flow": null,
            "width": null,
            "min_width": null,
            "border": null,
            "align_items": null,
            "bottom": null,
            "_model_module": "@jupyter-widgets/base",
            "top": null,
            "grid_column": null,
            "overflow_y": null,
            "overflow_x": null,
            "grid_auto_flow": null,
            "grid_area": null,
            "grid_template_columns": null,
            "flex": null,
            "_model_name": "LayoutModel",
            "justify_items": null,
            "grid_row": null,
            "max_height": null,
            "align_content": null,
            "visibility": null,
            "align_self": null,
            "height": null,
            "min_height": null,
            "padding": null,
            "grid_auto_rows": null,
            "grid_gap": null,
            "max_width": null,
            "order": null,
            "_view_module_version": "1.2.0",
            "grid_template_areas": null,
            "object_position": null,
            "object_fit": null,
            "grid_auto_columns": null,
            "margin": null,
            "display": null,
            "left": null
          }
        },
        "db9260d5d27d44ca9ad2687abfff7f00": {
          "model_module": "@jupyter-widgets/controls",
          "model_name": "DescriptionStyleModel",
          "state": {
            "_view_name": "StyleView",
            "_model_name": "DescriptionStyleModel",
            "description_width": "",
            "_view_module": "@jupyter-widgets/base",
            "_model_module_version": "1.5.0",
            "_view_count": null,
            "_view_module_version": "1.2.0",
            "_model_module": "@jupyter-widgets/controls"
          }
        },
        "b68d927b28bd45d7940624620158969f": {
          "model_module": "@jupyter-widgets/base",
          "model_name": "LayoutModel",
          "state": {
            "_view_name": "LayoutView",
            "grid_template_rows": null,
            "right": null,
            "justify_content": null,
            "_view_module": "@jupyter-widgets/base",
            "overflow": null,
            "_model_module_version": "1.2.0",
            "_view_count": null,
            "flex_flow": null,
            "width": null,
            "min_width": null,
            "border": null,
            "align_items": null,
            "bottom": null,
            "_model_module": "@jupyter-widgets/base",
            "top": null,
            "grid_column": null,
            "overflow_y": null,
            "overflow_x": null,
            "grid_auto_flow": null,
            "grid_area": null,
            "grid_template_columns": null,
            "flex": null,
            "_model_name": "LayoutModel",
            "justify_items": null,
            "grid_row": null,
            "max_height": null,
            "align_content": null,
            "visibility": null,
            "align_self": null,
            "height": null,
            "min_height": null,
            "padding": null,
            "grid_auto_rows": null,
            "grid_gap": null,
            "max_width": null,
            "order": null,
            "_view_module_version": "1.2.0",
            "grid_template_areas": null,
            "object_position": null,
            "object_fit": null,
            "grid_auto_columns": null,
            "margin": null,
            "display": null,
            "left": null
          }
        },
        "a2589e3b8e2a4cecb7553d116b3481ed": {
          "model_module": "@jupyter-widgets/controls",
          "model_name": "HBoxModel",
          "state": {
            "_view_name": "HBoxView",
            "_dom_classes": [],
            "_model_name": "HBoxModel",
            "_view_module": "@jupyter-widgets/controls",
            "_model_module_version": "1.5.0",
            "_view_count": null,
            "_view_module_version": "1.5.0",
            "box_style": "",
            "layout": "IPY_MODEL_2b80cd21fad14e54b8e4ce905e5ec51e",
            "_model_module": "@jupyter-widgets/controls",
            "children": [
              "IPY_MODEL_032e69f4d4d44da784603ea00c53d16f",
              "IPY_MODEL_bdb3d0bbd25a45f6a89d83ceef268b8a"
            ]
          }
        },
        "2b80cd21fad14e54b8e4ce905e5ec51e": {
          "model_module": "@jupyter-widgets/base",
          "model_name": "LayoutModel",
          "state": {
            "_view_name": "LayoutView",
            "grid_template_rows": null,
            "right": null,
            "justify_content": null,
            "_view_module": "@jupyter-widgets/base",
            "overflow": null,
            "_model_module_version": "1.2.0",
            "_view_count": null,
            "flex_flow": null,
            "width": null,
            "min_width": null,
            "border": null,
            "align_items": null,
            "bottom": null,
            "_model_module": "@jupyter-widgets/base",
            "top": null,
            "grid_column": null,
            "overflow_y": null,
            "overflow_x": null,
            "grid_auto_flow": null,
            "grid_area": null,
            "grid_template_columns": null,
            "flex": null,
            "_model_name": "LayoutModel",
            "justify_items": null,
            "grid_row": null,
            "max_height": null,
            "align_content": null,
            "visibility": null,
            "align_self": null,
            "height": null,
            "min_height": null,
            "padding": null,
            "grid_auto_rows": null,
            "grid_gap": null,
            "max_width": null,
            "order": null,
            "_view_module_version": "1.2.0",
            "grid_template_areas": null,
            "object_position": null,
            "object_fit": null,
            "grid_auto_columns": null,
            "margin": null,
            "display": null,
            "left": null
          }
        },
        "032e69f4d4d44da784603ea00c53d16f": {
          "model_module": "@jupyter-widgets/controls",
          "model_name": "FloatProgressModel",
          "state": {
            "_view_name": "ProgressView",
            "style": "IPY_MODEL_13df2039d08b48a689b2337d07bdc771",
            "_dom_classes": [],
            "description": "Downloading: 100%",
            "_model_name": "FloatProgressModel",
            "bar_style": "success",
            "max": 1961828,
            "_view_module": "@jupyter-widgets/controls",
            "_model_module_version": "1.5.0",
            "value": 1961828,
            "_view_count": null,
            "_view_module_version": "1.5.0",
            "orientation": "horizontal",
            "min": 0,
            "description_tooltip": null,
            "_model_module": "@jupyter-widgets/controls",
            "layout": "IPY_MODEL_31b6464219084e1aa36e2d82cb22d1cf"
          }
        },
        "bdb3d0bbd25a45f6a89d83ceef268b8a": {
          "model_module": "@jupyter-widgets/controls",
          "model_name": "HTMLModel",
          "state": {
            "_view_name": "HTMLView",
            "style": "IPY_MODEL_b8432be1d33d4aeba506578b0d71624f",
            "_dom_classes": [],
            "description": "",
            "_model_name": "HTMLModel",
            "placeholder": "​",
            "_view_module": "@jupyter-widgets/controls",
            "_model_module_version": "1.5.0",
            "value": " 1.96M/1.96M [00:00&lt;00:00, 6.16MB/s]",
            "_view_count": null,
            "_view_module_version": "1.5.0",
            "description_tooltip": null,
            "_model_module": "@jupyter-widgets/controls",
            "layout": "IPY_MODEL_10fce2f22b6a43249b710f931d478a39"
          }
        },
        "13df2039d08b48a689b2337d07bdc771": {
          "model_module": "@jupyter-widgets/controls",
          "model_name": "ProgressStyleModel",
          "state": {
            "_view_name": "StyleView",
            "_model_name": "ProgressStyleModel",
            "description_width": "initial",
            "_view_module": "@jupyter-widgets/base",
            "_model_module_version": "1.5.0",
            "_view_count": null,
            "_view_module_version": "1.2.0",
            "bar_color": null,
            "_model_module": "@jupyter-widgets/controls"
          }
        },
        "31b6464219084e1aa36e2d82cb22d1cf": {
          "model_module": "@jupyter-widgets/base",
          "model_name": "LayoutModel",
          "state": {
            "_view_name": "LayoutView",
            "grid_template_rows": null,
            "right": null,
            "justify_content": null,
            "_view_module": "@jupyter-widgets/base",
            "overflow": null,
            "_model_module_version": "1.2.0",
            "_view_count": null,
            "flex_flow": null,
            "width": null,
            "min_width": null,
            "border": null,
            "align_items": null,
            "bottom": null,
            "_model_module": "@jupyter-widgets/base",
            "top": null,
            "grid_column": null,
            "overflow_y": null,
            "overflow_x": null,
            "grid_auto_flow": null,
            "grid_area": null,
            "grid_template_columns": null,
            "flex": null,
            "_model_name": "LayoutModel",
            "justify_items": null,
            "grid_row": null,
            "max_height": null,
            "align_content": null,
            "visibility": null,
            "align_self": null,
            "height": null,
            "min_height": null,
            "padding": null,
            "grid_auto_rows": null,
            "grid_gap": null,
            "max_width": null,
            "order": null,
            "_view_module_version": "1.2.0",
            "grid_template_areas": null,
            "object_position": null,
            "object_fit": null,
            "grid_auto_columns": null,
            "margin": null,
            "display": null,
            "left": null
          }
        },
        "b8432be1d33d4aeba506578b0d71624f": {
          "model_module": "@jupyter-widgets/controls",
          "model_name": "DescriptionStyleModel",
          "state": {
            "_view_name": "StyleView",
            "_model_name": "DescriptionStyleModel",
            "description_width": "",
            "_view_module": "@jupyter-widgets/base",
            "_model_module_version": "1.5.0",
            "_view_count": null,
            "_view_module_version": "1.2.0",
            "_model_module": "@jupyter-widgets/controls"
          }
        },
        "10fce2f22b6a43249b710f931d478a39": {
          "model_module": "@jupyter-widgets/base",
          "model_name": "LayoutModel",
          "state": {
            "_view_name": "LayoutView",
            "grid_template_rows": null,
            "right": null,
            "justify_content": null,
            "_view_module": "@jupyter-widgets/base",
            "overflow": null,
            "_model_module_version": "1.2.0",
            "_view_count": null,
            "flex_flow": null,
            "width": null,
            "min_width": null,
            "border": null,
            "align_items": null,
            "bottom": null,
            "_model_module": "@jupyter-widgets/base",
            "top": null,
            "grid_column": null,
            "overflow_y": null,
            "overflow_x": null,
            "grid_auto_flow": null,
            "grid_area": null,
            "grid_template_columns": null,
            "flex": null,
            "_model_name": "LayoutModel",
            "justify_items": null,
            "grid_row": null,
            "max_height": null,
            "align_content": null,
            "visibility": null,
            "align_self": null,
            "height": null,
            "min_height": null,
            "padding": null,
            "grid_auto_rows": null,
            "grid_gap": null,
            "max_width": null,
            "order": null,
            "_view_module_version": "1.2.0",
            "grid_template_areas": null,
            "object_position": null,
            "object_fit": null,
            "grid_auto_columns": null,
            "margin": null,
            "display": null,
            "left": null
          }
        },
        "d4568328a3c34134ac22cd298a9bb6bc": {
          "model_module": "@jupyter-widgets/controls",
          "model_name": "HBoxModel",
          "state": {
            "_view_name": "HBoxView",
            "_dom_classes": [],
            "_model_name": "HBoxModel",
            "_view_module": "@jupyter-widgets/controls",
            "_model_module_version": "1.5.0",
            "_view_count": null,
            "_view_module_version": "1.5.0",
            "box_style": "",
            "layout": "IPY_MODEL_e82acb6fb1b74ad5a1bb4a64f0301fe3",
            "_model_module": "@jupyter-widgets/controls",
            "children": [
              "IPY_MODEL_6fb6d5d37bf543a18646f164db370b4a",
              "IPY_MODEL_256882158bc1460ab6cab82dc7538d77"
            ]
          }
        },
        "e82acb6fb1b74ad5a1bb4a64f0301fe3": {
          "model_module": "@jupyter-widgets/base",
          "model_name": "LayoutModel",
          "state": {
            "_view_name": "LayoutView",
            "grid_template_rows": null,
            "right": null,
            "justify_content": null,
            "_view_module": "@jupyter-widgets/base",
            "overflow": null,
            "_model_module_version": "1.2.0",
            "_view_count": null,
            "flex_flow": null,
            "width": null,
            "min_width": null,
            "border": null,
            "align_items": null,
            "bottom": null,
            "_model_module": "@jupyter-widgets/base",
            "top": null,
            "grid_column": null,
            "overflow_y": null,
            "overflow_x": null,
            "grid_auto_flow": null,
            "grid_area": null,
            "grid_template_columns": null,
            "flex": null,
            "_model_name": "LayoutModel",
            "justify_items": null,
            "grid_row": null,
            "max_height": null,
            "align_content": null,
            "visibility": null,
            "align_self": null,
            "height": null,
            "min_height": null,
            "padding": null,
            "grid_auto_rows": null,
            "grid_gap": null,
            "max_width": null,
            "order": null,
            "_view_module_version": "1.2.0",
            "grid_template_areas": null,
            "object_position": null,
            "object_fit": null,
            "grid_auto_columns": null,
            "margin": null,
            "display": null,
            "left": null
          }
        },
        "6fb6d5d37bf543a18646f164db370b4a": {
          "model_module": "@jupyter-widgets/controls",
          "model_name": "FloatProgressModel",
          "state": {
            "_view_name": "ProgressView",
            "style": "IPY_MODEL_9842a7f7b1e241dfbc10f7072eef2bcc",
            "_dom_classes": [],
            "description": "Downloading: 100%",
            "_model_name": "FloatProgressModel",
            "bar_style": "success",
            "max": 1083389348,
            "_view_module": "@jupyter-widgets/controls",
            "_model_module_version": "1.5.0",
            "value": 1083389348,
            "_view_count": null,
            "_view_module_version": "1.5.0",
            "orientation": "horizontal",
            "min": 0,
            "description_tooltip": null,
            "_model_module": "@jupyter-widgets/controls",
            "layout": "IPY_MODEL_c9a64eeb742a4d1c94d18e55d079e7a0"
          }
        },
        "256882158bc1460ab6cab82dc7538d77": {
          "model_module": "@jupyter-widgets/controls",
          "model_name": "HTMLModel",
          "state": {
            "_view_name": "HTMLView",
            "style": "IPY_MODEL_5af946e7163f44de8d93ed398e63e8c8",
            "_dom_classes": [],
            "description": "",
            "_model_name": "HTMLModel",
            "placeholder": "​",
            "_view_module": "@jupyter-widgets/controls",
            "_model_module_version": "1.5.0",
            "value": " 1.08G/1.08G [00:18&lt;00:00, 57.8MB/s]",
            "_view_count": null,
            "_view_module_version": "1.5.0",
            "description_tooltip": null,
            "_model_module": "@jupyter-widgets/controls",
            "layout": "IPY_MODEL_8d0efa2a84ba4c7289e10ff29b7ad288"
          }
        },
        "9842a7f7b1e241dfbc10f7072eef2bcc": {
          "model_module": "@jupyter-widgets/controls",
          "model_name": "ProgressStyleModel",
          "state": {
            "_view_name": "StyleView",
            "_model_name": "ProgressStyleModel",
            "description_width": "initial",
            "_view_module": "@jupyter-widgets/base",
            "_model_module_version": "1.5.0",
            "_view_count": null,
            "_view_module_version": "1.2.0",
            "bar_color": null,
            "_model_module": "@jupyter-widgets/controls"
          }
        },
        "c9a64eeb742a4d1c94d18e55d079e7a0": {
          "model_module": "@jupyter-widgets/base",
          "model_name": "LayoutModel",
          "state": {
            "_view_name": "LayoutView",
            "grid_template_rows": null,
            "right": null,
            "justify_content": null,
            "_view_module": "@jupyter-widgets/base",
            "overflow": null,
            "_model_module_version": "1.2.0",
            "_view_count": null,
            "flex_flow": null,
            "width": null,
            "min_width": null,
            "border": null,
            "align_items": null,
            "bottom": null,
            "_model_module": "@jupyter-widgets/base",
            "top": null,
            "grid_column": null,
            "overflow_y": null,
            "overflow_x": null,
            "grid_auto_flow": null,
            "grid_area": null,
            "grid_template_columns": null,
            "flex": null,
            "_model_name": "LayoutModel",
            "justify_items": null,
            "grid_row": null,
            "max_height": null,
            "align_content": null,
            "visibility": null,
            "align_self": null,
            "height": null,
            "min_height": null,
            "padding": null,
            "grid_auto_rows": null,
            "grid_gap": null,
            "max_width": null,
            "order": null,
            "_view_module_version": "1.2.0",
            "grid_template_areas": null,
            "object_position": null,
            "object_fit": null,
            "grid_auto_columns": null,
            "margin": null,
            "display": null,
            "left": null
          }
        },
        "5af946e7163f44de8d93ed398e63e8c8": {
          "model_module": "@jupyter-widgets/controls",
          "model_name": "DescriptionStyleModel",
          "state": {
            "_view_name": "StyleView",
            "_model_name": "DescriptionStyleModel",
            "description_width": "",
            "_view_module": "@jupyter-widgets/base",
            "_model_module_version": "1.5.0",
            "_view_count": null,
            "_view_module_version": "1.2.0",
            "_model_module": "@jupyter-widgets/controls"
          }
        },
        "8d0efa2a84ba4c7289e10ff29b7ad288": {
          "model_module": "@jupyter-widgets/base",
          "model_name": "LayoutModel",
          "state": {
            "_view_name": "LayoutView",
            "grid_template_rows": null,
            "right": null,
            "justify_content": null,
            "_view_module": "@jupyter-widgets/base",
            "overflow": null,
            "_model_module_version": "1.2.0",
            "_view_count": null,
            "flex_flow": null,
            "width": null,
            "min_width": null,
            "border": null,
            "align_items": null,
            "bottom": null,
            "_model_module": "@jupyter-widgets/base",
            "top": null,
            "grid_column": null,
            "overflow_y": null,
            "overflow_x": null,
            "grid_auto_flow": null,
            "grid_area": null,
            "grid_template_columns": null,
            "flex": null,
            "_model_name": "LayoutModel",
            "justify_items": null,
            "grid_row": null,
            "max_height": null,
            "align_content": null,
            "visibility": null,
            "align_self": null,
            "height": null,
            "min_height": null,
            "padding": null,
            "grid_auto_rows": null,
            "grid_gap": null,
            "max_width": null,
            "order": null,
            "_view_module_version": "1.2.0",
            "grid_template_areas": null,
            "object_position": null,
            "object_fit": null,
            "grid_auto_columns": null,
            "margin": null,
            "display": null,
            "left": null
          }
        },
        "622228ef77304d27baf3533d30d99701": {
          "model_module": "@jupyter-widgets/controls",
          "model_name": "HBoxModel",
          "state": {
            "_view_name": "HBoxView",
            "_dom_classes": [],
            "_model_name": "HBoxModel",
            "_view_module": "@jupyter-widgets/controls",
            "_model_module_version": "1.5.0",
            "_view_count": null,
            "_view_module_version": "1.5.0",
            "box_style": "",
            "layout": "IPY_MODEL_1fff3c72a9744e558c27cbaa5aca999a",
            "_model_module": "@jupyter-widgets/controls",
            "children": [
              "IPY_MODEL_a6e5ec9d461e413586a0042ecd9ffb68",
              "IPY_MODEL_9fdf63e1d3cc49fb80b12368cd1cd587"
            ]
          }
        },
        "1fff3c72a9744e558c27cbaa5aca999a": {
          "model_module": "@jupyter-widgets/base",
          "model_name": "LayoutModel",
          "state": {
            "_view_name": "LayoutView",
            "grid_template_rows": null,
            "right": null,
            "justify_content": null,
            "_view_module": "@jupyter-widgets/base",
            "overflow": null,
            "_model_module_version": "1.2.0",
            "_view_count": null,
            "flex_flow": null,
            "width": null,
            "min_width": null,
            "border": null,
            "align_items": null,
            "bottom": null,
            "_model_module": "@jupyter-widgets/base",
            "top": null,
            "grid_column": null,
            "overflow_y": null,
            "overflow_x": null,
            "grid_auto_flow": null,
            "grid_area": null,
            "grid_template_columns": null,
            "flex": null,
            "_model_name": "LayoutModel",
            "justify_items": null,
            "grid_row": null,
            "max_height": null,
            "align_content": null,
            "visibility": null,
            "align_self": null,
            "height": null,
            "min_height": null,
            "padding": null,
            "grid_auto_rows": null,
            "grid_gap": null,
            "max_width": null,
            "order": null,
            "_view_module_version": "1.2.0",
            "grid_template_areas": null,
            "object_position": null,
            "object_fit": null,
            "grid_auto_columns": null,
            "margin": null,
            "display": null,
            "left": null
          }
        },
        "a6e5ec9d461e413586a0042ecd9ffb68": {
          "model_module": "@jupyter-widgets/controls",
          "model_name": "FloatProgressModel",
          "state": {
            "_view_name": "ProgressView",
            "style": "IPY_MODEL_80fe591a0e9f4fcba3cfc4a4a3392d0f",
            "_dom_classes": [],
            "description": "Downloading: 100%",
            "_model_name": "FloatProgressModel",
            "bar_style": "success",
            "max": 512,
            "_view_module": "@jupyter-widgets/controls",
            "_model_module_version": "1.5.0",
            "value": 512,
            "_view_count": null,
            "_view_module_version": "1.5.0",
            "orientation": "horizontal",
            "min": 0,
            "description_tooltip": null,
            "_model_module": "@jupyter-widgets/controls",
            "layout": "IPY_MODEL_a97fb64554cf4558a412d5c4f8c9ce01"
          }
        },
        "9fdf63e1d3cc49fb80b12368cd1cd587": {
          "model_module": "@jupyter-widgets/controls",
          "model_name": "HTMLModel",
          "state": {
            "_view_name": "HTMLView",
            "style": "IPY_MODEL_24c2b702d799484183396245afce92c2",
            "_dom_classes": [],
            "description": "",
            "_model_name": "HTMLModel",
            "placeholder": "​",
            "_view_module": "@jupyter-widgets/controls",
            "_model_module_version": "1.5.0",
            "value": " 512/512 [00:04&lt;00:00, 116B/s]",
            "_view_count": null,
            "_view_module_version": "1.5.0",
            "description_tooltip": null,
            "_model_module": "@jupyter-widgets/controls",
            "layout": "IPY_MODEL_a76ef6c228ee4fbe87e90d9252706af9"
          }
        },
        "80fe591a0e9f4fcba3cfc4a4a3392d0f": {
          "model_module": "@jupyter-widgets/controls",
          "model_name": "ProgressStyleModel",
          "state": {
            "_view_name": "StyleView",
            "_model_name": "ProgressStyleModel",
            "description_width": "initial",
            "_view_module": "@jupyter-widgets/base",
            "_model_module_version": "1.5.0",
            "_view_count": null,
            "_view_module_version": "1.2.0",
            "bar_color": null,
            "_model_module": "@jupyter-widgets/controls"
          }
        },
        "a97fb64554cf4558a412d5c4f8c9ce01": {
          "model_module": "@jupyter-widgets/base",
          "model_name": "LayoutModel",
          "state": {
            "_view_name": "LayoutView",
            "grid_template_rows": null,
            "right": null,
            "justify_content": null,
            "_view_module": "@jupyter-widgets/base",
            "overflow": null,
            "_model_module_version": "1.2.0",
            "_view_count": null,
            "flex_flow": null,
            "width": null,
            "min_width": null,
            "border": null,
            "align_items": null,
            "bottom": null,
            "_model_module": "@jupyter-widgets/base",
            "top": null,
            "grid_column": null,
            "overflow_y": null,
            "overflow_x": null,
            "grid_auto_flow": null,
            "grid_area": null,
            "grid_template_columns": null,
            "flex": null,
            "_model_name": "LayoutModel",
            "justify_items": null,
            "grid_row": null,
            "max_height": null,
            "align_content": null,
            "visibility": null,
            "align_self": null,
            "height": null,
            "min_height": null,
            "padding": null,
            "grid_auto_rows": null,
            "grid_gap": null,
            "max_width": null,
            "order": null,
            "_view_module_version": "1.2.0",
            "grid_template_areas": null,
            "object_position": null,
            "object_fit": null,
            "grid_auto_columns": null,
            "margin": null,
            "display": null,
            "left": null
          }
        },
        "24c2b702d799484183396245afce92c2": {
          "model_module": "@jupyter-widgets/controls",
          "model_name": "DescriptionStyleModel",
          "state": {
            "_view_name": "StyleView",
            "_model_name": "DescriptionStyleModel",
            "description_width": "",
            "_view_module": "@jupyter-widgets/base",
            "_model_module_version": "1.5.0",
            "_view_count": null,
            "_view_module_version": "1.2.0",
            "_model_module": "@jupyter-widgets/controls"
          }
        },
        "a76ef6c228ee4fbe87e90d9252706af9": {
          "model_module": "@jupyter-widgets/base",
          "model_name": "LayoutModel",
          "state": {
            "_view_name": "LayoutView",
            "grid_template_rows": null,
            "right": null,
            "justify_content": null,
            "_view_module": "@jupyter-widgets/base",
            "overflow": null,
            "_model_module_version": "1.2.0",
            "_view_count": null,
            "flex_flow": null,
            "width": null,
            "min_width": null,
            "border": null,
            "align_items": null,
            "bottom": null,
            "_model_module": "@jupyter-widgets/base",
            "top": null,
            "grid_column": null,
            "overflow_y": null,
            "overflow_x": null,
            "grid_auto_flow": null,
            "grid_area": null,
            "grid_template_columns": null,
            "flex": null,
            "_model_name": "LayoutModel",
            "justify_items": null,
            "grid_row": null,
            "max_height": null,
            "align_content": null,
            "visibility": null,
            "align_self": null,
            "height": null,
            "min_height": null,
            "padding": null,
            "grid_auto_rows": null,
            "grid_gap": null,
            "max_width": null,
            "order": null,
            "_view_module_version": "1.2.0",
            "grid_template_areas": null,
            "object_position": null,
            "object_fit": null,
            "grid_auto_columns": null,
            "margin": null,
            "display": null,
            "left": null
          }
        },
        "bb17db701fe74ee6b04d8a5eef01fa6d": {
          "model_module": "@jupyter-widgets/controls",
          "model_name": "HBoxModel",
          "state": {
            "_view_name": "HBoxView",
            "_dom_classes": [],
            "_model_name": "HBoxModel",
            "_view_module": "@jupyter-widgets/controls",
            "_model_module_version": "1.5.0",
            "_view_count": null,
            "_view_module_version": "1.5.0",
            "box_style": "",
            "layout": "IPY_MODEL_f50a33cb411f492391bd38c87f84d407",
            "_model_module": "@jupyter-widgets/controls",
            "children": [
              "IPY_MODEL_40ef2f8aa7e54f92b8bcb909b17f92b3",
              "IPY_MODEL_cead1f1dad434f02986909e196dbf2f7"
            ]
          }
        },
        "f50a33cb411f492391bd38c87f84d407": {
          "model_module": "@jupyter-widgets/base",
          "model_name": "LayoutModel",
          "state": {
            "_view_name": "LayoutView",
            "grid_template_rows": null,
            "right": null,
            "justify_content": null,
            "_view_module": "@jupyter-widgets/base",
            "overflow": null,
            "_model_module_version": "1.2.0",
            "_view_count": null,
            "flex_flow": null,
            "width": null,
            "min_width": null,
            "border": null,
            "align_items": null,
            "bottom": null,
            "_model_module": "@jupyter-widgets/base",
            "top": null,
            "grid_column": null,
            "overflow_y": null,
            "overflow_x": null,
            "grid_auto_flow": null,
            "grid_area": null,
            "grid_template_columns": null,
            "flex": null,
            "_model_name": "LayoutModel",
            "justify_items": null,
            "grid_row": null,
            "max_height": null,
            "align_content": null,
            "visibility": null,
            "align_self": null,
            "height": null,
            "min_height": null,
            "padding": null,
            "grid_auto_rows": null,
            "grid_gap": null,
            "max_width": null,
            "order": null,
            "_view_module_version": "1.2.0",
            "grid_template_areas": null,
            "object_position": null,
            "object_fit": null,
            "grid_auto_columns": null,
            "margin": null,
            "display": null,
            "left": null
          }
        },
        "40ef2f8aa7e54f92b8bcb909b17f92b3": {
          "model_module": "@jupyter-widgets/controls",
          "model_name": "FloatProgressModel",
          "state": {
            "_view_name": "ProgressView",
            "style": "IPY_MODEL_cae7dcd99c874c7e8f7cb7f6c4f2c3b2",
            "_dom_classes": [],
            "description": "Downloading: 100%",
            "_model_name": "FloatProgressModel",
            "bar_style": "success",
            "max": 512,
            "_view_module": "@jupyter-widgets/controls",
            "_model_module_version": "1.5.0",
            "value": 512,
            "_view_count": null,
            "_view_module_version": "1.5.0",
            "orientation": "horizontal",
            "min": 0,
            "description_tooltip": null,
            "_model_module": "@jupyter-widgets/controls",
            "layout": "IPY_MODEL_574d4a8afc544881a11dbde450887436"
          }
        },
        "cead1f1dad434f02986909e196dbf2f7": {
          "model_module": "@jupyter-widgets/controls",
          "model_name": "HTMLModel",
          "state": {
            "_view_name": "HTMLView",
            "style": "IPY_MODEL_15088fbf8b03485d9c28bfa067816c15",
            "_dom_classes": [],
            "description": "",
            "_model_name": "HTMLModel",
            "placeholder": "​",
            "_view_module": "@jupyter-widgets/controls",
            "_model_module_version": "1.5.0",
            "value": " 512/512 [00:00&lt;00:00, 776B/s]",
            "_view_count": null,
            "_view_module_version": "1.5.0",
            "description_tooltip": null,
            "_model_module": "@jupyter-widgets/controls",
            "layout": "IPY_MODEL_60d5a6a4b1b94b0fb0fc5e23d8cd9454"
          }
        },
        "cae7dcd99c874c7e8f7cb7f6c4f2c3b2": {
          "model_module": "@jupyter-widgets/controls",
          "model_name": "ProgressStyleModel",
          "state": {
            "_view_name": "StyleView",
            "_model_name": "ProgressStyleModel",
            "description_width": "initial",
            "_view_module": "@jupyter-widgets/base",
            "_model_module_version": "1.5.0",
            "_view_count": null,
            "_view_module_version": "1.2.0",
            "bar_color": null,
            "_model_module": "@jupyter-widgets/controls"
          }
        },
        "574d4a8afc544881a11dbde450887436": {
          "model_module": "@jupyter-widgets/base",
          "model_name": "LayoutModel",
          "state": {
            "_view_name": "LayoutView",
            "grid_template_rows": null,
            "right": null,
            "justify_content": null,
            "_view_module": "@jupyter-widgets/base",
            "overflow": null,
            "_model_module_version": "1.2.0",
            "_view_count": null,
            "flex_flow": null,
            "width": null,
            "min_width": null,
            "border": null,
            "align_items": null,
            "bottom": null,
            "_model_module": "@jupyter-widgets/base",
            "top": null,
            "grid_column": null,
            "overflow_y": null,
            "overflow_x": null,
            "grid_auto_flow": null,
            "grid_area": null,
            "grid_template_columns": null,
            "flex": null,
            "_model_name": "LayoutModel",
            "justify_items": null,
            "grid_row": null,
            "max_height": null,
            "align_content": null,
            "visibility": null,
            "align_self": null,
            "height": null,
            "min_height": null,
            "padding": null,
            "grid_auto_rows": null,
            "grid_gap": null,
            "max_width": null,
            "order": null,
            "_view_module_version": "1.2.0",
            "grid_template_areas": null,
            "object_position": null,
            "object_fit": null,
            "grid_auto_columns": null,
            "margin": null,
            "display": null,
            "left": null
          }
        },
        "15088fbf8b03485d9c28bfa067816c15": {
          "model_module": "@jupyter-widgets/controls",
          "model_name": "DescriptionStyleModel",
          "state": {
            "_view_name": "StyleView",
            "_model_name": "DescriptionStyleModel",
            "description_width": "",
            "_view_module": "@jupyter-widgets/base",
            "_model_module_version": "1.5.0",
            "_view_count": null,
            "_view_module_version": "1.2.0",
            "_model_module": "@jupyter-widgets/controls"
          }
        },
        "60d5a6a4b1b94b0fb0fc5e23d8cd9454": {
          "model_module": "@jupyter-widgets/base",
          "model_name": "LayoutModel",
          "state": {
            "_view_name": "LayoutView",
            "grid_template_rows": null,
            "right": null,
            "justify_content": null,
            "_view_module": "@jupyter-widgets/base",
            "overflow": null,
            "_model_module_version": "1.2.0",
            "_view_count": null,
            "flex_flow": null,
            "width": null,
            "min_width": null,
            "border": null,
            "align_items": null,
            "bottom": null,
            "_model_module": "@jupyter-widgets/base",
            "top": null,
            "grid_column": null,
            "overflow_y": null,
            "overflow_x": null,
            "grid_auto_flow": null,
            "grid_area": null,
            "grid_template_columns": null,
            "flex": null,
            "_model_name": "LayoutModel",
            "justify_items": null,
            "grid_row": null,
            "max_height": null,
            "align_content": null,
            "visibility": null,
            "align_self": null,
            "height": null,
            "min_height": null,
            "padding": null,
            "grid_auto_rows": null,
            "grid_gap": null,
            "max_width": null,
            "order": null,
            "_view_module_version": "1.2.0",
            "grid_template_areas": null,
            "object_position": null,
            "object_fit": null,
            "grid_auto_columns": null,
            "margin": null,
            "display": null,
            "left": null
          }
        },
        "168dfab2e72f4773827d2bca5da6a821": {
          "model_module": "@jupyter-widgets/controls",
          "model_name": "HBoxModel",
          "state": {
            "_view_name": "HBoxView",
            "_dom_classes": [],
            "_model_name": "HBoxModel",
            "_view_module": "@jupyter-widgets/controls",
            "_model_module_version": "1.5.0",
            "_view_count": null,
            "_view_module_version": "1.5.0",
            "box_style": "",
            "layout": "IPY_MODEL_85a4e95aa4364e7a9548a3323469ccab",
            "_model_module": "@jupyter-widgets/controls",
            "children": [
              "IPY_MODEL_3a7cbf5ead7f479bade5fc07aaeff23e",
              "IPY_MODEL_86d26430c6734d35948d3f3c3c643c3f"
            ]
          }
        },
        "85a4e95aa4364e7a9548a3323469ccab": {
          "model_module": "@jupyter-widgets/base",
          "model_name": "LayoutModel",
          "state": {
            "_view_name": "LayoutView",
            "grid_template_rows": null,
            "right": null,
            "justify_content": null,
            "_view_module": "@jupyter-widgets/base",
            "overflow": null,
            "_model_module_version": "1.2.0",
            "_view_count": null,
            "flex_flow": null,
            "width": null,
            "min_width": null,
            "border": null,
            "align_items": null,
            "bottom": null,
            "_model_module": "@jupyter-widgets/base",
            "top": null,
            "grid_column": null,
            "overflow_y": null,
            "overflow_x": null,
            "grid_auto_flow": null,
            "grid_area": null,
            "grid_template_columns": null,
            "flex": null,
            "_model_name": "LayoutModel",
            "justify_items": null,
            "grid_row": null,
            "max_height": null,
            "align_content": null,
            "visibility": null,
            "align_self": null,
            "height": null,
            "min_height": null,
            "padding": null,
            "grid_auto_rows": null,
            "grid_gap": null,
            "max_width": null,
            "order": null,
            "_view_module_version": "1.2.0",
            "grid_template_areas": null,
            "object_position": null,
            "object_fit": null,
            "grid_auto_columns": null,
            "margin": null,
            "display": null,
            "left": null
          }
        },
        "3a7cbf5ead7f479bade5fc07aaeff23e": {
          "model_module": "@jupyter-widgets/controls",
          "model_name": "FloatProgressModel",
          "state": {
            "_view_name": "ProgressView",
            "style": "IPY_MODEL_22e3a9518e8c4b829f4c8b2b5a22012c",
            "_dom_classes": [],
            "description": "Downloading: 100%",
            "_model_name": "FloatProgressModel",
            "bar_style": "success",
            "max": 5069051,
            "_view_module": "@jupyter-widgets/controls",
            "_model_module_version": "1.5.0",
            "value": 5069051,
            "_view_count": null,
            "_view_module_version": "1.5.0",
            "orientation": "horizontal",
            "min": 0,
            "description_tooltip": null,
            "_model_module": "@jupyter-widgets/controls",
            "layout": "IPY_MODEL_6e676c54207f4ecba30a1e3cea5ce2db"
          }
        },
        "86d26430c6734d35948d3f3c3c643c3f": {
          "model_module": "@jupyter-widgets/controls",
          "model_name": "HTMLModel",
          "state": {
            "_view_name": "HTMLView",
            "style": "IPY_MODEL_016f46d5ad014a6fa3e4a3cd884fd77d",
            "_dom_classes": [],
            "description": "",
            "_model_name": "HTMLModel",
            "placeholder": "​",
            "_view_module": "@jupyter-widgets/controls",
            "_model_module_version": "1.5.0",
            "value": " 5.07M/5.07M [00:02&lt;00:00, 1.96MB/s]",
            "_view_count": null,
            "_view_module_version": "1.5.0",
            "description_tooltip": null,
            "_model_module": "@jupyter-widgets/controls",
            "layout": "IPY_MODEL_37817bbdee2a431ba51a6ee970597162"
          }
        },
        "22e3a9518e8c4b829f4c8b2b5a22012c": {
          "model_module": "@jupyter-widgets/controls",
          "model_name": "ProgressStyleModel",
          "state": {
            "_view_name": "StyleView",
            "_model_name": "ProgressStyleModel",
            "description_width": "initial",
            "_view_module": "@jupyter-widgets/base",
            "_model_module_version": "1.5.0",
            "_view_count": null,
            "_view_module_version": "1.2.0",
            "bar_color": null,
            "_model_module": "@jupyter-widgets/controls"
          }
        },
        "6e676c54207f4ecba30a1e3cea5ce2db": {
          "model_module": "@jupyter-widgets/base",
          "model_name": "LayoutModel",
          "state": {
            "_view_name": "LayoutView",
            "grid_template_rows": null,
            "right": null,
            "justify_content": null,
            "_view_module": "@jupyter-widgets/base",
            "overflow": null,
            "_model_module_version": "1.2.0",
            "_view_count": null,
            "flex_flow": null,
            "width": null,
            "min_width": null,
            "border": null,
            "align_items": null,
            "bottom": null,
            "_model_module": "@jupyter-widgets/base",
            "top": null,
            "grid_column": null,
            "overflow_y": null,
            "overflow_x": null,
            "grid_auto_flow": null,
            "grid_area": null,
            "grid_template_columns": null,
            "flex": null,
            "_model_name": "LayoutModel",
            "justify_items": null,
            "grid_row": null,
            "max_height": null,
            "align_content": null,
            "visibility": null,
            "align_self": null,
            "height": null,
            "min_height": null,
            "padding": null,
            "grid_auto_rows": null,
            "grid_gap": null,
            "max_width": null,
            "order": null,
            "_view_module_version": "1.2.0",
            "grid_template_areas": null,
            "object_position": null,
            "object_fit": null,
            "grid_auto_columns": null,
            "margin": null,
            "display": null,
            "left": null
          }
        },
        "016f46d5ad014a6fa3e4a3cd884fd77d": {
          "model_module": "@jupyter-widgets/controls",
          "model_name": "DescriptionStyleModel",
          "state": {
            "_view_name": "StyleView",
            "_model_name": "DescriptionStyleModel",
            "description_width": "",
            "_view_module": "@jupyter-widgets/base",
            "_model_module_version": "1.5.0",
            "_view_count": null,
            "_view_module_version": "1.2.0",
            "_model_module": "@jupyter-widgets/controls"
          }
        },
        "37817bbdee2a431ba51a6ee970597162": {
          "model_module": "@jupyter-widgets/base",
          "model_name": "LayoutModel",
          "state": {
            "_view_name": "LayoutView",
            "grid_template_rows": null,
            "right": null,
            "justify_content": null,
            "_view_module": "@jupyter-widgets/base",
            "overflow": null,
            "_model_module_version": "1.2.0",
            "_view_count": null,
            "flex_flow": null,
            "width": null,
            "min_width": null,
            "border": null,
            "align_items": null,
            "bottom": null,
            "_model_module": "@jupyter-widgets/base",
            "top": null,
            "grid_column": null,
            "overflow_y": null,
            "overflow_x": null,
            "grid_auto_flow": null,
            "grid_area": null,
            "grid_template_columns": null,
            "flex": null,
            "_model_name": "LayoutModel",
            "justify_items": null,
            "grid_row": null,
            "max_height": null,
            "align_content": null,
            "visibility": null,
            "align_self": null,
            "height": null,
            "min_height": null,
            "padding": null,
            "grid_auto_rows": null,
            "grid_gap": null,
            "max_width": null,
            "order": null,
            "_view_module_version": "1.2.0",
            "grid_template_areas": null,
            "object_position": null,
            "object_fit": null,
            "grid_auto_columns": null,
            "margin": null,
            "display": null,
            "left": null
          }
        },
        "ddeb4082fa3e4540b6ece3114d3b8dd9": {
          "model_module": "@jupyter-widgets/controls",
          "model_name": "HBoxModel",
          "state": {
            "_view_name": "HBoxView",
            "_dom_classes": [],
            "_model_name": "HBoxModel",
            "_view_module": "@jupyter-widgets/controls",
            "_model_module_version": "1.5.0",
            "_view_count": null,
            "_view_module_version": "1.5.0",
            "box_style": "",
            "layout": "IPY_MODEL_ee016d5f9bfd46acb55d066c8f0c6263",
            "_model_module": "@jupyter-widgets/controls",
            "children": [
              "IPY_MODEL_b6c89ab1ed644a51b6efdd408ad7743f",
              "IPY_MODEL_30c8abe0b2d347ac8c52f3e9eb9f0614"
            ]
          }
        },
        "ee016d5f9bfd46acb55d066c8f0c6263": {
          "model_module": "@jupyter-widgets/base",
          "model_name": "LayoutModel",
          "state": {
            "_view_name": "LayoutView",
            "grid_template_rows": null,
            "right": null,
            "justify_content": null,
            "_view_module": "@jupyter-widgets/base",
            "overflow": null,
            "_model_module_version": "1.2.0",
            "_view_count": null,
            "flex_flow": null,
            "width": null,
            "min_width": null,
            "border": null,
            "align_items": null,
            "bottom": null,
            "_model_module": "@jupyter-widgets/base",
            "top": null,
            "grid_column": null,
            "overflow_y": null,
            "overflow_x": null,
            "grid_auto_flow": null,
            "grid_area": null,
            "grid_template_columns": null,
            "flex": null,
            "_model_name": "LayoutModel",
            "justify_items": null,
            "grid_row": null,
            "max_height": null,
            "align_content": null,
            "visibility": null,
            "align_self": null,
            "height": null,
            "min_height": null,
            "padding": null,
            "grid_auto_rows": null,
            "grid_gap": null,
            "max_width": null,
            "order": null,
            "_view_module_version": "1.2.0",
            "grid_template_areas": null,
            "object_position": null,
            "object_fit": null,
            "grid_auto_columns": null,
            "margin": null,
            "display": null,
            "left": null
          }
        },
        "b6c89ab1ed644a51b6efdd408ad7743f": {
          "model_module": "@jupyter-widgets/controls",
          "model_name": "FloatProgressModel",
          "state": {
            "_view_name": "ProgressView",
            "style": "IPY_MODEL_8e352e9d075848edb0580b48c76450a2",
            "_dom_classes": [],
            "description": "Downloading: 100%",
            "_model_name": "FloatProgressModel",
            "bar_style": "success",
            "max": 1885418496,
            "_view_module": "@jupyter-widgets/controls",
            "_model_module_version": "1.5.0",
            "value": 1885418496,
            "_view_count": null,
            "_view_module_version": "1.5.0",
            "orientation": "horizontal",
            "min": 0,
            "description_tooltip": null,
            "_model_module": "@jupyter-widgets/controls",
            "layout": "IPY_MODEL_c964982bd4a44c9296710eb1ebb74fc9"
          }
        },
        "30c8abe0b2d347ac8c52f3e9eb9f0614": {
          "model_module": "@jupyter-widgets/controls",
          "model_name": "HTMLModel",
          "state": {
            "_view_name": "HTMLView",
            "style": "IPY_MODEL_6803db202e5d47768a9191ec5d7b6eef",
            "_dom_classes": [],
            "description": "",
            "_model_name": "HTMLModel",
            "placeholder": "​",
            "_view_module": "@jupyter-widgets/controls",
            "_model_module_version": "1.5.0",
            "value": " 1.89G/1.89G [08:46&lt;00:00, 3.58MB/s]",
            "_view_count": null,
            "_view_module_version": "1.5.0",
            "description_tooltip": null,
            "_model_module": "@jupyter-widgets/controls",
            "layout": "IPY_MODEL_dcd5f71710124d4ab739f08551b30579"
          }
        },
        "8e352e9d075848edb0580b48c76450a2": {
          "model_module": "@jupyter-widgets/controls",
          "model_name": "ProgressStyleModel",
          "state": {
            "_view_name": "StyleView",
            "_model_name": "ProgressStyleModel",
            "description_width": "initial",
            "_view_module": "@jupyter-widgets/base",
            "_model_module_version": "1.5.0",
            "_view_count": null,
            "_view_module_version": "1.2.0",
            "bar_color": null,
            "_model_module": "@jupyter-widgets/controls"
          }
        },
        "c964982bd4a44c9296710eb1ebb74fc9": {
          "model_module": "@jupyter-widgets/base",
          "model_name": "LayoutModel",
          "state": {
            "_view_name": "LayoutView",
            "grid_template_rows": null,
            "right": null,
            "justify_content": null,
            "_view_module": "@jupyter-widgets/base",
            "overflow": null,
            "_model_module_version": "1.2.0",
            "_view_count": null,
            "flex_flow": null,
            "width": null,
            "min_width": null,
            "border": null,
            "align_items": null,
            "bottom": null,
            "_model_module": "@jupyter-widgets/base",
            "top": null,
            "grid_column": null,
            "overflow_y": null,
            "overflow_x": null,
            "grid_auto_flow": null,
            "grid_area": null,
            "grid_template_columns": null,
            "flex": null,
            "_model_name": "LayoutModel",
            "justify_items": null,
            "grid_row": null,
            "max_height": null,
            "align_content": null,
            "visibility": null,
            "align_self": null,
            "height": null,
            "min_height": null,
            "padding": null,
            "grid_auto_rows": null,
            "grid_gap": null,
            "max_width": null,
            "order": null,
            "_view_module_version": "1.2.0",
            "grid_template_areas": null,
            "object_position": null,
            "object_fit": null,
            "grid_auto_columns": null,
            "margin": null,
            "display": null,
            "left": null
          }
        },
        "6803db202e5d47768a9191ec5d7b6eef": {
          "model_module": "@jupyter-widgets/controls",
          "model_name": "DescriptionStyleModel",
          "state": {
            "_view_name": "StyleView",
            "_model_name": "DescriptionStyleModel",
            "description_width": "",
            "_view_module": "@jupyter-widgets/base",
            "_model_module_version": "1.5.0",
            "_view_count": null,
            "_view_module_version": "1.2.0",
            "_model_module": "@jupyter-widgets/controls"
          }
        },
        "dcd5f71710124d4ab739f08551b30579": {
          "model_module": "@jupyter-widgets/base",
          "model_name": "LayoutModel",
          "state": {
            "_view_name": "LayoutView",
            "grid_template_rows": null,
            "right": null,
            "justify_content": null,
            "_view_module": "@jupyter-widgets/base",
            "overflow": null,
            "_model_module_version": "1.2.0",
            "_view_count": null,
            "flex_flow": null,
            "width": null,
            "min_width": null,
            "border": null,
            "align_items": null,
            "bottom": null,
            "_model_module": "@jupyter-widgets/base",
            "top": null,
            "grid_column": null,
            "overflow_y": null,
            "overflow_x": null,
            "grid_auto_flow": null,
            "grid_area": null,
            "grid_template_columns": null,
            "flex": null,
            "_model_name": "LayoutModel",
            "justify_items": null,
            "grid_row": null,
            "max_height": null,
            "align_content": null,
            "visibility": null,
            "align_self": null,
            "height": null,
            "min_height": null,
            "padding": null,
            "grid_auto_rows": null,
            "grid_gap": null,
            "max_width": null,
            "order": null,
            "_view_module_version": "1.2.0",
            "grid_template_areas": null,
            "object_position": null,
            "object_fit": null,
            "grid_auto_columns": null,
            "margin": null,
            "display": null,
            "left": null
          }
        }
      }
    },
    "accelerator": "GPU"
  },
  "cells": [
    {
      "cell_type": "markdown",
      "metadata": {
        "id": "view-in-github",
        "colab_type": "text"
      },
      "source": [
        "<a href=\"https://colab.research.google.com/github/eftekhar-hossain/CUET_NLP-EACL_2021/blob/main/Offensive_text_detection_(EACL_2021).ipynb\" target=\"_parent\"><img src=\"https://colab.research.google.com/assets/colab-badge.svg\" alt=\"Open In Colab\"/></a>"
      ]
    },
    {
      "cell_type": "code",
      "metadata": {
        "colab": {
          "base_uri": "https://localhost:8080/"
        },
        "id": "W22pgNdhtl9w",
        "outputId": "8e935a2a-f5d5-4575-be21-818a0220fda9"
      },
      "source": [
        "from google.colab import drive\n",
        "drive.mount('/content/drive')"
      ],
      "execution_count": null,
      "outputs": [
        {
          "output_type": "stream",
          "text": [
            "Mounted at /content/drive\n"
          ],
          "name": "stdout"
        }
      ]
    },
    {
      "cell_type": "markdown",
      "metadata": {
        "id": "3RGfBZxTtw-Q"
      },
      "source": [
        "## Libraries"
      ]
    },
    {
      "cell_type": "code",
      "metadata": {
        "colab": {
          "base_uri": "https://localhost:8080/"
        },
        "id": "-5Vq3O8ytuHT",
        "outputId": "a237c546-b9b7-4d3b-b563-3a1aae7e0878"
      },
      "source": [
        "%%time\n",
        "import os\n",
        "from glob import glob\n",
        "import numpy as np\n",
        "import matplotlib.pyplot as plt\n",
        "%matplotlib inline\n",
        "import pandas as pd\n",
        "import seaborn as sns\n",
        "import re\n",
        "import nltk\n",
        "import json\n",
        "from sklearn.preprocessing import MultiLabelBinarizer\n",
        "from sklearn.metrics import confusion_matrix\n",
        "from sklearn.metrics import classification_report \n",
        "from sklearn.model_selection import train_test_split\n",
        "from sklearn.linear_model import LogisticRegression\n",
        "from sklearn.tree import DecisionTreeClassifier\n",
        "from sklearn.ensemble import RandomForestClassifier\n",
        "from sklearn.linear_model import SGDClassifier\n",
        "from sklearn.naive_bayes import MultinomialNB\n",
        "from sklearn.ensemble import VotingClassifier\n",
        "from sklearn.ensemble import BaggingClassifier\n",
        "from sklearn.ensemble import AdaBoostClassifier, RandomForestClassifier, ExtraTreesClassifier\n",
        "from sklearn.svm import SVC\n",
        "from sklearn.metrics import accuracy_score,precision_score,recall_score,f1_score,roc_auc_score\n",
        "from sklearn.metrics import average_precision_score,roc_auc_score, roc_curve, precision_recall_curve\n",
        "from sklearn.preprocessing import LabelEncoder\n",
        "from sklearn.feature_extraction.text import TfidfVectorizer\n",
        "np.random.seed(42)\n",
        "import nltk\n",
        "nltk.download('punkt')\n",
        "from nltk.corpus import stopwords\n",
        "from nltk.tokenize import word_tokenize\n",
        "from nltk.tokenize import ToktokTokenizer\n",
        "import nltk, string, re, spacy,unicodedata, random\n",
        "from bs4 import BeautifulSoup\n",
        "import warnings\n",
        "warnings.filterwarnings('ignore')\n",
        "### Pretrained Word Embeddings\n",
        "pretrained_path = \"/content/drive/MyDrive/Colab Notebooks/PreTrained Wordembeddings/\"\n",
        "dataset_path = \"/content/drive/MyDrive/Colab Notebooks/NLP Projects/EACL 2021- Shared Tasks/Offensive Language/Dataset/\"\n",
        "folder_path = \"/content/drive/MyDrive/Colab Notebooks/NLP Projects/EACL 2021- Shared Tasks/Offensive Language/\""
      ],
      "execution_count": null,
      "outputs": [
        {
          "output_type": "stream",
          "text": [
            "[nltk_data] Downloading package punkt to /root/nltk_data...\n",
            "[nltk_data]   Unzipping tokenizers/punkt.zip.\n",
            "CPU times: user 1.17 s, sys: 545 ms, total: 1.71 s\n",
            "Wall time: 5.01 s\n"
          ],
          "name": "stdout"
        }
      ]
    },
    {
      "cell_type": "markdown",
      "metadata": {
        "id": "--DoUyA6RTqr"
      },
      "source": [
        "# Tamil Offensive Dataset "
      ]
    },
    {
      "cell_type": "code",
      "metadata": {
        "colab": {
          "base_uri": "https://localhost:8080/"
        },
        "id": "uSbF0MyuQ7eY",
        "outputId": "e60010c2-8ed3-4b4f-e5ad-6c474e813f6e"
      },
      "source": [
        "%%time\n",
        "train_data = pd.read_csv(dataset_path + \"tamil_offensive_full_train.csv\",delimiter='\\t',header = None)\n",
        "valid_data = pd.read_csv(dataset_path + \"tamil_offensive_full_dev.csv\",delimiter='\\t',header = None)\n",
        "test_data = pd.read_csv(dataset_path + \"tamil_offensive_full_test.csv\",delimiter='\\t',header = None)"
      ],
      "execution_count": null,
      "outputs": [
        {
          "output_type": "stream",
          "text": [
            "CPU times: user 89.1 ms, sys: 18.4 ms, total: 107 ms\n",
            "Wall time: 2.78 s\n"
          ],
          "name": "stdout"
        }
      ]
    },
    {
      "cell_type": "code",
      "metadata": {
        "id": "TH0vUxuWKnpK"
      },
      "source": [
        "train_data = train_data.drop(columns=2)\n",
        "train_data = train_data.rename(columns={0:'text',1:'label'})\n",
        "valid_data = valid_data.drop(columns=2)\n",
        "valid_data = valid_data.rename(columns={0:'text',1:'label'})\n",
        "test_data = test_data.rename(columns={0:'text'})"
      ],
      "execution_count": null,
      "outputs": []
    },
    {
      "cell_type": "code",
      "metadata": {
        "colab": {
          "base_uri": "https://localhost:8080/"
        },
        "id": "y-gUjCuCv_sd",
        "outputId": "385ffa5f-7234-45d2-b68d-e44e6fa94b6b"
      },
      "source": [
        "train_data['label'].value_counts()"
      ],
      "execution_count": null,
      "outputs": [
        {
          "output_type": "execute_result",
          "data": {
            "text/plain": [
              "Not_offensive                           25425\n",
              "Offensive_Untargetede                    2906\n",
              "Offensive_Targeted_Insult_Group          2557\n",
              "Offensive_Targeted_Insult_Individual     2343\n",
              "not-Tamil                                1454\n",
              "Offensive_Targeted_Insult_Other           454\n",
              "Name: label, dtype: int64"
            ]
          },
          "metadata": {
            "tags": []
          },
          "execution_count": 5
        }
      ]
    },
    {
      "cell_type": "code",
      "metadata": {
        "colab": {
          "base_uri": "https://localhost:8080/"
        },
        "id": "HzAtuhHiXGwg",
        "outputId": "6d348fda-00be-414f-f364-e9d6e576763c"
      },
      "source": [
        "valid_data['label'].value_counts()"
      ],
      "execution_count": null,
      "outputs": [
        {
          "output_type": "execute_result",
          "data": {
            "text/plain": [
              "Not_offensive                           3193\n",
              "Offensive_Untargetede                    356\n",
              "Offensive_Targeted_Insult_Individual     307\n",
              "Offensive_Targeted_Insult_Group          295\n",
              "not-Tamil                                172\n",
              "Offensive_Targeted_Insult_Other           65\n",
              "Name: label, dtype: int64"
            ]
          },
          "metadata": {
            "tags": []
          },
          "execution_count": 6
        }
      ]
    },
    {
      "cell_type": "code",
      "metadata": {
        "id": "u6VETpldasP4"
      },
      "source": [
        "train_data['enc_label'] = train_data['label'].replace({'Not_offensive':0, 'Offensive_Untargetede':1,'Offensive_Targeted_Insult_Group':2\n",
        "                                                       ,'Offensive_Targeted_Insult_Individual':3,'not-Tamil':4,'Offensive_Targeted_Insult_Other':5\n",
        "                                                       })\n",
        "valid_data['enc_label'] = valid_data['label'].replace({'Not_offensive':0, 'Offensive_Untargetede':1,'Offensive_Targeted_Insult_Group':2\n",
        "                                                       ,'Offensive_Targeted_Insult_Individual':3,'not-Tamil':4,'Offensive_Targeted_Insult_Other':5\n",
        "                                                       })"
      ],
      "execution_count": null,
      "outputs": []
    },
    {
      "cell_type": "code",
      "metadata": {
        "id": "XrgHJ9SILI1y"
      },
      "source": [
        "train_data"
      ],
      "execution_count": null,
      "outputs": []
    },
    {
      "cell_type": "code",
      "metadata": {
        "id": "NFJ8nlGOKCpd"
      },
      "source": [
        "train_data['text'].tolist()"
      ],
      "execution_count": null,
      "outputs": []
    },
    {
      "cell_type": "code",
      "metadata": {
        "colab": {
          "base_uri": "https://localhost:8080/"
        },
        "id": "9TfIkWutmRU2",
        "outputId": "5ddba570-6723-4995-e801-75782fe8349a"
      },
      "source": [
        "train_data['enc_label'].value_counts()"
      ],
      "execution_count": null,
      "outputs": [
        {
          "output_type": "execute_result",
          "data": {
            "text/plain": [
              "0    25425\n",
              "1     2906\n",
              "2     2557\n",
              "3     2343\n",
              "4     1454\n",
              "5      454\n",
              "Name: enc_label, dtype: int64"
            ]
          },
          "metadata": {
            "tags": []
          },
          "execution_count": 9
        }
      ]
    },
    {
      "cell_type": "code",
      "metadata": {
        "colab": {
          "base_uri": "https://localhost:8080/"
        },
        "id": "WPfTo7b4Laft",
        "outputId": "5f8d9ba5-a856-4a49-96e4-d41235a9181a"
      },
      "source": [
        "valid_data['enc_label'].value_counts()"
      ],
      "execution_count": null,
      "outputs": [
        {
          "output_type": "execute_result",
          "data": {
            "text/plain": [
              "0    3193\n",
              "1     356\n",
              "3     307\n",
              "2     295\n",
              "4     172\n",
              "5      65\n",
              "Name: enc_label, dtype: int64"
            ]
          },
          "metadata": {
            "tags": []
          },
          "execution_count": 10
        }
      ]
    },
    {
      "cell_type": "code",
      "metadata": {
        "colab": {
          "base_uri": "https://localhost:8080/"
        },
        "id": "2MvUxuK8RePu",
        "outputId": "12b929b3-9d3f-444d-d2d2-25f9935de13c"
      },
      "source": [
        "print(\"Size of the training data ==> \", train_data.shape)\n",
        "print(\"Size of the validation data ==>\", valid_data.shape)\n",
        "print(\"Size of the Test data ==>\", test_data.shape)"
      ],
      "execution_count": null,
      "outputs": [
        {
          "output_type": "stream",
          "text": [
            "Size of the training data ==>  (35139, 3)\n",
            "Size of the validation data ==> (4388, 3)\n",
            "Size of the Test data ==> (4392, 1)\n"
          ],
          "name": "stdout"
        }
      ]
    },
    {
      "cell_type": "markdown",
      "metadata": {
        "id": "XTK4XFXfjxLJ"
      },
      "source": [
        "## One Hot Encoding"
      ]
    },
    {
      "cell_type": "code",
      "metadata": {
        "id": "65uobCUfiwSq"
      },
      "source": [
        "import pandas as pd\n",
        "from sklearn.preprocessing import OneHotEncoder"
      ],
      "execution_count": null,
      "outputs": []
    },
    {
      "cell_type": "code",
      "metadata": {
        "id": "fiq_DHChi0UV"
      },
      "source": [
        "encoder=OneHotEncoder(sparse=False)\n",
        "\n",
        "encoded_labels = pd.DataFrame (encoder.fit_transform(train_data[['label']]))\n",
        "\n",
        "encoded_labels .columns = encoder.get_feature_names(['label'])\n",
        "\n",
        "train_data= pd.concat([train_data, encoded_labels ], axis=1)"
      ],
      "execution_count": null,
      "outputs": []
    },
    {
      "cell_type": "code",
      "metadata": {
        "colab": {
          "base_uri": "https://localhost:8080/"
        },
        "id": "Q8giM5zXw-SQ",
        "outputId": "2899d2fa-f7a9-4e7d-8504-8a297864ec1b"
      },
      "source": [
        "train_data.columns"
      ],
      "execution_count": null,
      "outputs": [
        {
          "output_type": "execute_result",
          "data": {
            "text/plain": [
              "Index(['text', 'label', 'enc_label', 'label_Not_offensive',\n",
              "       'label_Offensive_Targeted_Insult_Group',\n",
              "       'label_Offensive_Targeted_Insult_Individual',\n",
              "       'label_Offensive_Targeted_Insult_Other', 'label_Offensive_Untargetede',\n",
              "       'label_not-Tamil'],\n",
              "      dtype='object')"
            ]
          },
          "metadata": {
            "tags": []
          },
          "execution_count": 15
        }
      ]
    },
    {
      "cell_type": "code",
      "metadata": {
        "id": "gML6kds4jS3R"
      },
      "source": [
        "train_data = train_data.rename(columns={'label_Not_offensive':'Not_offensive','label_Offensive_Targeted_Insult_Group':'Offensive_Targeted_Insult_Group',\n",
        "                                        'label_Offensive_Targeted_Insult_Individual':'Offensive_Targeted_Insult_Individual',\n",
        "                                        'label_Offensive_Targeted_Insult_Other':'Offensive_Targeted_Insult_Other',\n",
        "                                        'label_Offensive_Untargetede':'Offensive_Untargetede',\n",
        "                                        'label_not-Tamil':'not-Tamil'})\n",
        "train_data"
      ],
      "execution_count": null,
      "outputs": []
    },
    {
      "cell_type": "markdown",
      "metadata": {
        "id": "BTBBSPxAMtWF"
      },
      "source": [
        "## Cleaning"
      ]
    },
    {
      "cell_type": "code",
      "metadata": {
        "id": "w7lEBJuYfZzY"
      },
      "source": [
        "'''\n",
        "Text Cleaning\n",
        "'''\n",
        "def text_cleaning(row):\n",
        "  # to remove HTML tags\n",
        "  text = BeautifulSoup(row, 'html.parser').get_text()\n",
        "  d = re.sub(r'(https|http)?:\\/\\/(\\w|\\.|\\/|\\?|\\=|\\&|\\%)*\\b', '', text, flags=re.MULTILINE) #This line is for removing url\n",
        "  post = d.replace('\\n', '')\n",
        "  post = post.replace('—', ' ')\n",
        "  # to remove accented characters\n",
        "  new_text = unicodedata.normalize('NFKD', post).encode('ascii', 'ignore').decode('utf-8', 'ignore')\n",
        "  # to remove special characters and numbers\n",
        "  # define the pattern to keep\n",
        "  #pat = r'[^a-zA-z0-9.,!?/:;\\\"\\'\\s]' \n",
        "  #text = re.sub(pat, '', new_text)\n",
        "  #to remove punctuation\n",
        "  text = ''.join([c for c in text if c not in string.punctuation])\n",
        "  # to remove special characters\n",
        "  pattern = r'^\\s*|\\s\\s*'\n",
        "  text = re.sub(pattern, ' ', text).strip()\n",
        "  # convert into lower case\n",
        "  text = text.lower() \n",
        "  # Stopword Removing\n",
        "  tokenizer = ToktokTokenizer()\n",
        "  # convert sentence into token of words\n",
        "  tokens = tokenizer.tokenize(text)\n",
        "  tokens = [token.strip() for token in tokens]\n",
        " \n",
        "\n",
        "  return text\n",
        "\n"
      ],
      "execution_count": null,
      "outputs": []
    },
    {
      "cell_type": "code",
      "metadata": {
        "id": "_K13k7oBgBHm",
        "colab": {
          "base_uri": "https://localhost:8080/"
        },
        "outputId": "4ad9af33-c19c-4835-96b3-4e1c789018fa"
      },
      "source": [
        "#removing URLs and Punctuations\n",
        "#train_data['cleaned'] = train_data['tweet'].apply(remove_url)\n",
        "#Removing punctuations\n",
        "train_data['cleaned'] = train_data['text'].apply(text_cleaning)\n",
        "valid_data['cleaned'] = valid_data['text'].apply(text_cleaning)\n",
        "test_data['cleaned'] = test_data['text'].apply(text_cleaning)\n",
        "\n",
        "\n",
        "## Data samples after cleaning\n",
        "print(\"Data samples after cleaning:\\n\")\n",
        "for i in range(10):\n",
        "  print(\"Original Data:===\\n\",train_data.text[i],\"\\nCleaned Data:===\\n\",train_data.cleaned[i],)"
      ],
      "execution_count": null,
      "outputs": [
        {
          "output_type": "stream",
          "text": [
            "Data samples after cleaning:\n",
            "\n",
            "Original Data:===\n",
            " movie vara level la Erika poguthu \n",
            "Cleaned Data:===\n",
            " movie vara level la erika poguthu\n",
            "Original Data:===\n",
            " I love Ajith Kumar Vivegam movie inki mjy bht achi lgi \n",
            "Cleaned Data:===\n",
            " i love ajith kumar vivegam movie inki mjy bht achi lgi\n",
            "Original Data:===\n",
            " Padam nalla comedy padama irukum polaye.. \n",
            "Cleaned Data:===\n",
            " padam nalla comedy padama irukum polaye\n",
            "Original Data:===\n",
            " karthick subburaj anne .... intha padam vetri adaya unagalukku ennudaya valthukkal... \n",
            "Cleaned Data:===\n",
            " karthick subburaj anne intha padam vetri adaya unagalukku ennudaya valthukkal\n",
            "Original Data:===\n",
            " கவுண்டர் தேவர்.சார்பாக வெற்றி பெற வாழ்த்துக்கள் 🦁 \n",
            "Cleaned Data:===\n",
            " கவுண்டர் தேவர்சார்பாக வெற்றி பெற வாழ்த்துக்கள் 🦁\n",
            "Original Data:===\n",
            " ippo intha trailer ah parkuravana oru like podunga \n",
            "Cleaned Data:===\n",
            " ippo intha trailer ah parkuravana oru like podunga\n",
            "Original Data:===\n",
            " En thalaivan yogi babu irukkaar. Padam vera level laa irukkum \n",
            "Cleaned Data:===\n",
            " en thalaivan yogi babu irukkaar padam vera level laa irukkum\n",
            "Original Data:===\n",
            " Nerkonda parvai...  Sema sema sema trailer \n",
            "Cleaned Data:===\n",
            " nerkonda parvai sema sema sema trailer\n",
            "Original Data:===\n",
            " ஏய் இது 96 யார் ஏமாத்தறீங்க? செம பின்னிட்டீங்க \n",
            "Cleaned Data:===\n",
            " ஏய் இது 96 யார் ஏமாத்தறீங்க செம பின்னிட்டீங்க\n",
            "Original Data:===\n",
            " படம் கண்டிப்பாக வெற்றி பெற வேண்டும் செம்ம vara level \n",
            "Cleaned Data:===\n",
            " படம் கண்டிப்பாக வெற்றி பெற வேண்டும் செம்ம vara level\n"
          ],
          "name": "stdout"
        }
      ]
    },
    {
      "cell_type": "code",
      "metadata": {
        "colab": {
          "base_uri": "https://localhost:8080/"
        },
        "id": "IiR_GFR6beGK",
        "outputId": "35a51d44-d90a-409f-8e1f-f37c115d73a4"
      },
      "source": [
        "valid_data['cleaned'].shape"
      ],
      "execution_count": null,
      "outputs": [
        {
          "output_type": "execute_result",
          "data": {
            "text/plain": [
              "(2843,)"
            ]
          },
          "metadata": {
            "tags": []
          },
          "execution_count": 97
        }
      ]
    },
    {
      "cell_type": "markdown",
      "metadata": {
        "id": "18fS4grzgl34"
      },
      "source": [
        "## Data Statistics"
      ]
    },
    {
      "cell_type": "code",
      "metadata": {
        "id": "4i1QXObtglD9"
      },
      "source": [
        "def char_length(row):\n",
        "    return len(row.split())"
      ],
      "execution_count": null,
      "outputs": []
    },
    {
      "cell_type": "code",
      "metadata": {
        "colab": {
          "base_uri": "https://localhost:8080/"
        },
        "id": "YoSEKMunxvDk",
        "outputId": "316e87b3-08e6-4e23-81f2-aa8c293b97bd"
      },
      "source": [
        "train_data.columns"
      ],
      "execution_count": null,
      "outputs": [
        {
          "output_type": "execute_result",
          "data": {
            "text/plain": [
              "Index(['text', 'label', 'enc_label', 'Not_offensive',\n",
              "       'Offensive_Targeted_Insult_Group',\n",
              "       'Offensive_Targeted_Insult_Individual',\n",
              "       'Offensive_Targeted_Insult_Other', 'Offensive_Untargetede', 'not-Tamil',\n",
              "       'cleaned'],\n",
              "      dtype='object')"
            ]
          },
          "metadata": {
            "tags": []
          },
          "execution_count": 20
        }
      ]
    },
    {
      "cell_type": "code",
      "metadata": {
        "id": "wV6WYK5lg1Kj"
      },
      "source": [
        "lables = ['Not_offensive','Offensive_Targeted_Insult_Group','Offensive_Targeted_Insult_Individual',\n",
        "       'Offensive_Targeted_Insult_Other', 'Offensive_Untargetede', 'not-Tamil']\n",
        "\n",
        "# Count number of unique words in each set\n",
        "def dataset_statistics(dataset):\n",
        "  for l in lables:\n",
        "    word_list = [word.strip() for t in list(dataset[dataset[l]==1.0].cleaned) for word in t.strip().split()]\n",
        "    print(f\"\\nClass Name:--> {l} \") \n",
        "    print(\"Number of Words:{}\".format(len(word_list))) \n",
        "    print(\"Number of Unique Words:{}\".format(len(np.unique(word_list)))) \n",
        "    print(\"Maximum post length: {}\".format(max(dataset[dataset[l]==1.0].cleaned.apply(char_length))))\n",
        "    print(\"Average Words in texts: {}\".format(np.mean(dataset[dataset[l]==1.0].cleaned.apply(char_length))))\n",
        "    "
      ],
      "execution_count": null,
      "outputs": []
    },
    {
      "cell_type": "code",
      "metadata": {
        "colab": {
          "base_uri": "https://localhost:8080/"
        },
        "id": "tjHq1Xshk6kp",
        "outputId": "185eda55-920d-4a5a-8812-9b1455159901"
      },
      "source": [
        "dataset_statistics(train_data)"
      ],
      "execution_count": null,
      "outputs": [
        {
          "output_type": "stream",
          "text": [
            "\n",
            "Class Name:--> Not_offensive \n",
            "Number of Words:248076\n",
            "Number of Unique Words:48547\n",
            "Maximum post length: 87\n",
            "Average Words in texts: 9.75716814159292\n",
            "\n",
            "Class Name:--> Offensive_Targeted_Insult_Group \n",
            "Number of Words:38199\n",
            "Number of Unique Words:15949\n",
            "Maximum post length: 125\n",
            "Average Words in texts: 14.938991005084082\n",
            "\n",
            "Class Name:--> Offensive_Targeted_Insult_Individual \n",
            "Number of Words:25558\n",
            "Number of Unique Words:10472\n",
            "Maximum post length: 73\n",
            "Average Words in texts: 10.9082373026035\n",
            "\n",
            "Class Name:--> Offensive_Targeted_Insult_Other \n",
            "Number of Words:5103\n",
            "Number of Unique Words:3063\n",
            "Maximum post length: 59\n",
            "Average Words in texts: 11.240088105726873\n",
            "\n",
            "Class Name:--> Offensive_Untargetede \n",
            "Number of Words:28946\n",
            "Number of Unique Words:10940\n",
            "Maximum post length: 54\n",
            "Average Words in texts: 9.960770818995183\n",
            "\n",
            "Class Name:--> not-Tamil \n",
            "Number of Words:14511\n",
            "Number of Unique Words:5427\n",
            "Maximum post length: 73\n",
            "Average Words in texts: 9.980055020632737\n"
          ],
          "name": "stdout"
        }
      ]
    },
    {
      "cell_type": "markdown",
      "metadata": {
        "id": "U0XSSvE0laRF"
      },
      "source": [
        "## Tweets length per class"
      ]
    },
    {
      "cell_type": "code",
      "metadata": {
        "id": "fKF_L3wUlbTu"
      },
      "source": [
        "def comments_length_per_class(dataset,set_name):\n",
        "  label = dataset[['Not_offensive','Offensive_Targeted_Insult_Group','Offensive_Targeted_Insult_Individual',\n",
        "       'Offensive_Targeted_Insult_Other', 'Offensive_Untargetede', 'not-Tamil']]\n",
        "  label = label.values\n",
        "  comment = dataset['cleaned']\n",
        "  comment = comment.values\n",
        "  y = np.zeros(label.shape)\n",
        "  for ix in range(comment.shape[0]):\n",
        "      l = len(comment[ix].split())\n",
        "      if label[ix][0] :\n",
        "          y[ix][0] = l\n",
        "      if label[ix][1] :\n",
        "          y[ix][1] = l\n",
        "  #color = ['red','green','blue','yellow','chartreuse'] \n",
        "  labelsplt = ['Not_offensive','Offensive_Targeted_Insult_Group','Offensive_Targeted_Insult_Individual',\n",
        "       'Offensive_Targeted_Insult_Other', 'Offensive_Untargetede', 'not-Tamil']\n",
        "  color = ['red','green','blue','yellow','chartreuse','magenta']    \n",
        "  bins = [1,5,10,15,20,25,30]   \n",
        "  plt.figure(figsize=(5,3)) \n",
        "  #plt.title ('Tweets Length Distribution Per Class')\n",
        "  plt.hist(y,bins = bins,label = labelsplt,color = color)\n",
        "  plt.axis([0, 80, 0, 1000])\n",
        "  plt.xlabel('Length of texts')\n",
        "  plt.ylabel('Number of texts') \n",
        "  plt.legend()\n",
        "  #plt.savefig(path+'real-fake_no_title.png',dpi = 600,bbox_inches ='tight')\n",
        "  #plt.grid(True)\n",
        "  plt.show()"
      ],
      "execution_count": null,
      "outputs": []
    },
    {
      "cell_type": "code",
      "metadata": {
        "colab": {
          "base_uri": "https://localhost:8080/",
          "height": 229
        },
        "id": "xLQ1Ur8imPUo",
        "outputId": "dc735fd5-5c42-4768-d3d6-fe25c4f39db8"
      },
      "source": [
        "comments_length_per_class(train_data,'Training')"
      ],
      "execution_count": null,
      "outputs": [
        {
          "output_type": "display_data",
          "data": {
            "image/png": "[encoded data removed]",
            "text/plain": [
              "<Figure size 360x216 with 1 Axes>"
            ]
          },
          "metadata": {
            "tags": [],
            "needs_background": "light"
          }
        }
      ]
    },
    {
      "cell_type": "markdown",
      "metadata": {
        "id": "NK_3w_XBWwsi"
      },
      "source": [
        "##Ktrain -BERT\n",
        "\n",
        "1. [Text Classification Using Transformers](https://nbviewer.jupyter.org/github/amaiya/ktrain/blob/master/tutorials/tutorial-A3-hugging_face_transformers.ipynb)\n",
        "\n",
        "2. [Related Article](https://towardsdatascience.com/text-classification-with-hugging-face-transformers-in-tensorflow-2-without-tears-ee50e4f3e7ed)\n",
        "\n",
        "3. [Ktrain](https://github.com/amaiya/ktrain)"
      ]
    },
    {
      "cell_type": "code",
      "metadata": {
        "id": "zNs9BhqZWzGI"
      },
      "source": [
        "pip install ktrain"
      ],
      "execution_count": null,
      "outputs": []
    },
    {
      "cell_type": "code",
      "metadata": {
        "id": "UaoB6ezlX7TX"
      },
      "source": [
        "%reload_ext autoreload\n",
        "%autoreload 2\n",
        "%matplotlib inline\n",
        "import os\n",
        "os.environ[\"CUDA_DEVICE_ORDER\"] = \"PCI_BUS_ID\"\n",
        "os.environ[\"CUDA_VISIBLE_DEVICES\"] = \"0\" "
      ],
      "execution_count": null,
      "outputs": []
    },
    {
      "cell_type": "code",
      "metadata": {
        "id": "Hp4TYcYBYg2X"
      },
      "source": [
        "import ktrain\n",
        "from ktrain import text"
      ],
      "execution_count": null,
      "outputs": []
    },
    {
      "cell_type": "code",
      "metadata": {
        "colab": {
          "base_uri": "https://localhost:8080/"
        },
        "id": "AWgAjwzGaA8m",
        "outputId": "69487804-19e5-4c11-f00f-0240314a239a"
      },
      "source": [
        "train_data['label'].value_counts()"
      ],
      "execution_count": null,
      "outputs": [
        {
          "output_type": "execute_result",
          "data": {
            "text/plain": [
              "Not_offensive                           25425\n",
              "Offensive_Untargetede                    2906\n",
              "Offensive_Targeted_Insult_Group          2557\n",
              "Offensive_Targeted_Insult_Individual     2343\n",
              "not-Tamil                                1454\n",
              "Offensive_Targeted_Insult_Other           454\n",
              "Name: label, dtype: int64"
            ]
          },
          "metadata": {
            "tags": []
          },
          "execution_count": 12
        }
      ]
    },
    {
      "cell_type": "code",
      "metadata": {
        "id": "l0zeYGHvVJNQ"
      },
      "source": [
        "valid_data['label'].value_counts()"
      ],
      "execution_count": null,
      "outputs": []
    },
    {
      "cell_type": "code",
      "metadata": {
        "id": "GLyjsx4gYvxH"
      },
      "source": [
        "categories = ['Not_offensive','Offensive_Targeted_Insult_Group','Offensive_Targeted_Insult_Individual',\n",
        "       'Offensive_Targeted_Insult_Other', 'Offensive_Untargetede', 'not-Tamil']"
      ],
      "execution_count": null,
      "outputs": []
    },
    {
      "cell_type": "code",
      "metadata": {
        "id": "-4HGz1jYZHId"
      },
      "source": [
        "X_train = train_data['text'].tolist()\n",
        "y_train = train_data['label'].tolist()\n",
        "\n",
        "X_valid = valid_data['text'].tolist()\n",
        "y_valid = valid_data['label'].tolist()\n",
        "\n",
        "X_test = test_data['text'].tolist()\n",
        "#y_test = test_data['label'].tolist()"
      ],
      "execution_count": null,
      "outputs": []
    },
    {
      "cell_type": "code",
      "metadata": {
        "id": "1gZnpqzW8uyY"
      },
      "source": [
        "# 'bert-base-uncased'\n",
        "# 'bert-base-multilingual-cased'\n",
        "# 'distilbert-base-uncased'\n",
        "# 'albert-base-v2'\n",
        "# 'roberta-base'\n",
        "# 'xlm-roberta-base'\n",
        "# 'xlnet-base-cased'\n"
      ],
      "execution_count": null,
      "outputs": []
    },
    {
      "cell_type": "code",
      "metadata": {
        "id": "TiovCPiuZbMw"
      },
      "source": [
        "model_name = 'bert-base-multilingual-cased'\n",
        "trans = text.Transformer(model_name,maxlen=50,class_names=categories)"
      ],
      "execution_count": null,
      "outputs": []
    },
    {
      "cell_type": "code",
      "metadata": {
        "colab": {
          "base_uri": "https://localhost:8080/",
          "height": 336,
          "referenced_widgets": [
            "1069a1f1b531404c9f6f80173144b9f7",
            "3a99e8ba0bf2421894f31abba77d40de",
            "953f914426604f3590fd9ce687682e25",
            "c49bcb459e224b00a74516a894480cdb",
            "ca314dabc8684109833bff941048cff0",
            "5f80903e3cc049568fd6a528806eeaf3",
            "605f4f7a418f430ba55c794fdbb98008",
            "114a256b98ab4fa8ae2edb90aefbfcdb",
            "2cb7274319154957bc2ff547b821ade1",
            "5a5c8e2b99f84cd5b76112f28d969391",
            "8ab22b5bf5d44aaa98e4c5270b345fe4",
            "5fc25cf0f4a04be096e645419bbcc869",
            "9f0b0a1888a546ac8d17c97fccf29959",
            "a3e9fed4b82e47049053d31dc284afb4",
            "90561208a3cb48a29f5dc739b59dc6bb",
            "7b296d6e230f4917bca707a1b944ded4"
          ]
        },
        "id": "eD8q8WsUaTEV",
        "outputId": "a0e34b63-e374-4a4d-97d4-6299a6586f31"
      },
      "source": [
        "train = trans.preprocess_train(X_train,y_train)\n",
        "valid = trans.preprocess_test(X_valid,y_valid)\n",
        "#test = trans.preprocess_test(X_test,y_test)"
      ],
      "execution_count": null,
      "outputs": [
        {
          "output_type": "stream",
          "text": [
            "preprocessing train...\n",
            "language: id\n",
            "train sequence lengths:\n",
            "\tmean : 10\n",
            "\t95percentile : 22\n",
            "\t99percentile : 43\n"
          ],
          "name": "stdout"
        },
        {
          "output_type": "display_data",
          "data": {
            "application/vnd.jupyter.widget-view+json": {
              "model_id": "1069a1f1b531404c9f6f80173144b9f7",
              "version_minor": 0,
              "version_major": 2
            },
            "text/plain": [
              "HBox(children=(FloatProgress(value=0.0, description='Downloading', max=995526.0, style=ProgressStyle(descripti…"
            ]
          },
          "metadata": {
            "tags": []
          }
        },
        {
          "output_type": "stream",
          "text": [
            "\n"
          ],
          "name": "stdout"
        },
        {
          "output_type": "display_data",
          "data": {
            "application/vnd.jupyter.widget-view+json": {
              "model_id": "2cb7274319154957bc2ff547b821ade1",
              "version_minor": 0,
              "version_major": 2
            },
            "text/plain": [
              "HBox(children=(FloatProgress(value=0.0, description='Downloading', max=1961828.0, style=ProgressStyle(descript…"
            ]
          },
          "metadata": {
            "tags": []
          }
        },
        {
          "output_type": "stream",
          "text": [
            "\n"
          ],
          "name": "stdout"
        },
        {
          "output_type": "display_data",
          "data": {
            "text/html": [
              ""
            ],
            "text/plain": [
              "<IPython.core.display.HTML object>"
            ]
          },
          "metadata": {
            "tags": []
          }
        },
        {
          "output_type": "stream",
          "text": [
            "Is Multi-Label? False\n",
            "preprocessing test...\n",
            "language: id\n",
            "test sequence lengths:\n",
            "\tmean : 10\n",
            "\t95percentile : 22\n",
            "\t99percentile : 44\n"
          ],
          "name": "stdout"
        },
        {
          "output_type": "display_data",
          "data": {
            "text/html": [
              ""
            ],
            "text/plain": [
              "<IPython.core.display.HTML object>"
            ]
          },
          "metadata": {
            "tags": []
          }
        }
      ]
    },
    {
      "cell_type": "code",
      "metadata": {
        "id": "7LJsU69na9vf",
        "colab": {
          "base_uri": "https://localhost:8080/",
          "height": 66,
          "referenced_widgets": [
            "00e083ecae094d87b2577f9c1d78671f",
            "e37fed77261b40d39458e372b96e7705",
            "438ed78624e24f498e1135b579df39e3",
            "aafc6326fbca486ebbbabc0c34dd740e",
            "a32e791851ff4aca9a57134f47864b65",
            "d6c87efef9aa455ca77e18a3ddff0acf",
            "6211b78b028049c89bd25a847f7ebf14",
            "e8b6f35489684b359ea216f5095d657c"
          ]
        },
        "outputId": "4e6abdac-9ae9-4fda-af1d-729d3f4ad797"
      },
      "source": [
        "model = trans.get_classifier()"
      ],
      "execution_count": null,
      "outputs": [
        {
          "output_type": "display_data",
          "data": {
            "application/vnd.jupyter.widget-view+json": {
              "model_id": "00e083ecae094d87b2577f9c1d78671f",
              "version_minor": 0,
              "version_major": 2
            },
            "text/plain": [
              "HBox(children=(FloatProgress(value=0.0, description='Downloading', max=1083389348.0, style=ProgressStyle(descr…"
            ]
          },
          "metadata": {
            "tags": []
          }
        },
        {
          "output_type": "stream",
          "text": [
            "\n"
          ],
          "name": "stdout"
        }
      ]
    },
    {
      "cell_type": "code",
      "metadata": {
        "id": "29ZEKw4KbCST"
      },
      "source": [
        "learner = ktrain.get_learner(model, train_data=train,val_data=valid, batch_size=12)"
      ],
      "execution_count": null,
      "outputs": []
    },
    {
      "cell_type": "code",
      "metadata": {
        "id": "WTZgIo9zbUQJ",
        "colab": {
          "base_uri": "https://localhost:8080/"
        },
        "outputId": "9975c8ca-7f89-4b02-c450-56da7d666cad"
      },
      "source": [
        "#learner.lr_find(show_plot = True,max_epochs=10)"
      ],
      "execution_count": null,
      "outputs": [
        {
          "output_type": "stream",
          "text": [
            "simulating training for different learning rates... this may take a few moments...\n"
          ],
          "name": "stdout"
        }
      ]
    },
    {
      "cell_type": "code",
      "metadata": {
        "id": "HuruNAjypteg",
        "colab": {
          "base_uri": "https://localhost:8080/"
        },
        "outputId": "fcf9feb3-8cb3-4ae3-d5f4-4beec1b15f56"
      },
      "source": [
        "from sklearn.utils import class_weight\n",
        "class_weights = class_weight.compute_class_weight('balanced'\n",
        "                                               ,np.unique(train_data['label'])\n",
        "                                               ,train_data['label'])\n",
        "\n",
        "weight = {i : class_weights[i] for i in range(6)}\n",
        "weight"
      ],
      "execution_count": null,
      "outputs": [
        {
          "output_type": "execute_result",
          "data": {
            "text/plain": [
              "{0: 0.2303441494591937,\n",
              " 1: 2.2903793508017207,\n",
              " 2: 2.4995731967562955,\n",
              " 3: 12.89977973568282,\n",
              " 4: 2.0153131452167927,\n",
              " 5: 4.027854195323246}"
            ]
          },
          "metadata": {
            "tags": []
          },
          "execution_count": 37
        }
      ]
    },
    {
      "cell_type": "code",
      "metadata": {
        "id": "I3GtXXJabhTC"
      },
      "source": [
        "learner.fit_onecycle(2e-5,15,class_weight=weight)     #2e-5        "
      ],
      "execution_count": null,
      "outputs": []
    },
    {
      "cell_type": "code",
      "metadata": {
        "colab": {
          "base_uri": "https://localhost:8080/"
        },
        "id": "E539KiPKcmGQ",
        "outputId": "36ba5c42-2fd3-4738-8e03-acb45764e256"
      },
      "source": [
        "learner.validate(class_names=categories)"
      ],
      "execution_count": null,
      "outputs": [
        {
          "output_type": "stream",
          "text": [
            "                                      precision    recall  f1-score   support\n",
            "\n",
            "                       Not_offensive       0.87      0.86      0.87      3193\n",
            "     Offensive_Targeted_Insult_Group       0.29      0.34      0.31       295\n",
            "Offensive_Targeted_Insult_Individual       0.39      0.36      0.37       307\n",
            "     Offensive_Targeted_Insult_Other       0.03      0.02      0.02        65\n",
            "               Offensive_Untargetede       0.34      0.38      0.36       356\n",
            "                           not-Tamil       0.79      0.87      0.83       172\n",
            "\n",
            "                            accuracy                           0.74      4388\n",
            "                           macro avg       0.45      0.47      0.46      4388\n",
            "                        weighted avg       0.74      0.74      0.74      4388\n",
            "\n"
          ],
          "name": "stdout"
        },
        {
          "output_type": "execute_result",
          "data": {
            "text/plain": [
              "array([[2755,  150,   96,    8,  150,   34],\n",
              "       [ 112,  100,   21,    6,   56,    0],\n",
              "       [ 113,   36,  109,    4,   43,    2],\n",
              "       [  35,   10,    6,    1,   12,    1],\n",
              "       [ 122,   42,   42,   10,  136,    4],\n",
              "       [  15,    2,    2,    0,    3,  150]])"
            ]
          },
          "metadata": {
            "tags": []
          },
          "execution_count": 39
        }
      ]
    },
    {
      "cell_type": "code",
      "metadata": {
        "id": "6WQiJCJiNpBQ"
      },
      "source": [
        "predictor = ktrain.get_predictor(learner.model, preproc=trans)"
      ],
      "execution_count": null,
      "outputs": []
    },
    {
      "cell_type": "code",
      "metadata": {
        "id": "bbN5u6hJdt88"
      },
      "source": [
        "# Save and load the model\n",
        "predictor.save(folder_path+'Transformers_Models'+'/ta_offensive_m-bert_cw_predictor')"
      ],
      "execution_count": null,
      "outputs": []
    },
    {
      "cell_type": "code",
      "metadata": {
        "id": "9hZt-1TDnmpp"
      },
      "source": [
        "predictor = ktrain.load_predictor(folder_path+'Transformers_Models'+'/ta_offensive_m-bert_predictor')"
      ],
      "execution_count": null,
      "outputs": []
    },
    {
      "cell_type": "code",
      "metadata": {
        "id": "ulHcjrQiN8yR"
      },
      "source": [
        "y_pred = predictor.predict(X_test)\n",
        "y_pred"
      ],
      "execution_count": null,
      "outputs": []
    },
    {
      "cell_type": "code",
      "metadata": {
        "id": "YLLoTYtSSUuE"
      },
      "source": [
        "test_data['id'] = test_data.index+1"
      ],
      "execution_count": null,
      "outputs": []
    },
    {
      "cell_type": "code",
      "metadata": {
        "id": "I1-twJC6TvNP",
        "colab": {
          "base_uri": "https://localhost:8080/",
          "height": 407
        },
        "outputId": "4e613969-113e-4155-b28b-c08180a4aaf2"
      },
      "source": [
        "run = pd.DataFrame(test_data['id'])\n",
        "run['text'] = test_data['text']\n",
        "run['label'] = y_pred\n",
        "run"
      ],
      "execution_count": null,
      "outputs": [
        {
          "output_type": "execute_result",
          "data": {
            "text/html": [
              "<div>\n",
              "<style scoped>\n",
              "    .dataframe tbody tr th:only-of-type {\n",
              "        vertical-align: middle;\n",
              "    }\n",
              "\n",
              "    .dataframe tbody tr th {\n",
              "        vertical-align: top;\n",
              "    }\n",
              "\n",
              "    .dataframe thead th {\n",
              "        text-align: right;\n",
              "    }\n",
              "</style>\n",
              "<table border=\"1\" class=\"dataframe\">\n",
              "  <thead>\n",
              "    <tr style=\"text-align: right;\">\n",
              "      <th></th>\n",
              "      <th>id</th>\n",
              "      <th>text</th>\n",
              "      <th>label</th>\n",
              "    </tr>\n",
              "  </thead>\n",
              "  <tbody>\n",
              "    <tr>\n",
              "      <th>0</th>\n",
              "      <td>1</td>\n",
              "      <td>14.12.2018 epo trailer pathutu irken ... Semay...</td>\n",
              "      <td>Not_offensive</td>\n",
              "    </tr>\n",
              "    <tr>\n",
              "      <th>1</th>\n",
              "      <td>2</td>\n",
              "      <td>Paka thana poro movie la Enna irukunu</td>\n",
              "      <td>Offensive_Targeted_Insult_Other</td>\n",
              "    </tr>\n",
              "    <tr>\n",
              "      <th>2</th>\n",
              "      <td>3</td>\n",
              "      <td>“U kena tunggu lebih lama lagi untuk tahu saya...</td>\n",
              "      <td>not-Tamil</td>\n",
              "    </tr>\n",
              "    <tr>\n",
              "      <th>3</th>\n",
              "      <td>4</td>\n",
              "      <td>Suriya anna vera level anna mass</td>\n",
              "      <td>Not_offensive</td>\n",
              "    </tr>\n",
              "    <tr>\n",
              "      <th>4</th>\n",
              "      <td>5</td>\n",
              "      <td>suma kaththaatha da sound over a pooda kudaath...</td>\n",
              "      <td>Offensive_Targeted_Insult_Individual</td>\n",
              "    </tr>\n",
              "    <tr>\n",
              "      <th>...</th>\n",
              "      <td>...</td>\n",
              "      <td>...</td>\n",
              "      <td>...</td>\n",
              "    </tr>\n",
              "    <tr>\n",
              "      <th>4387</th>\n",
              "      <td>4388</td>\n",
              "      <td>மண்ணு பொண்ணு ரெண்டுமே ஒன்னு அதுல எவன் கைய வச்ச...</td>\n",
              "      <td>Offensive_Targeted_Insult_Group</td>\n",
              "    </tr>\n",
              "    <tr>\n",
              "      <th>4388</th>\n",
              "      <td>4389</td>\n",
              "      <td>Babu mele ko ye song sunke kuch yesa feel hua ...</td>\n",
              "      <td>not-Tamil</td>\n",
              "    </tr>\n",
              "    <tr>\n",
              "      <th>4389</th>\n",
              "      <td>4390</td>\n",
              "      <td>asuran= aadukalam+pudupettai+ wada chennai..ye...</td>\n",
              "      <td>Not_offensive</td>\n",
              "    </tr>\n",
              "    <tr>\n",
              "      <th>4390</th>\n",
              "      <td>4391</td>\n",
              "      <td>Vijay's all movies look like same.</td>\n",
              "      <td>Not_offensive</td>\n",
              "    </tr>\n",
              "    <tr>\n",
              "      <th>4391</th>\n",
              "      <td>4392</td>\n",
              "      <td>Eh Idhu 96, yaara emathuringa.. Bangam ji Bang...</td>\n",
              "      <td>Not_offensive</td>\n",
              "    </tr>\n",
              "  </tbody>\n",
              "</table>\n",
              "<p>4392 rows × 3 columns</p>\n",
              "</div>"
            ],
            "text/plain": [
              "        id  ...                                 label\n",
              "0        1  ...                         Not_offensive\n",
              "1        2  ...       Offensive_Targeted_Insult_Other\n",
              "2        3  ...                             not-Tamil\n",
              "3        4  ...                         Not_offensive\n",
              "4        5  ...  Offensive_Targeted_Insult_Individual\n",
              "...    ...  ...                                   ...\n",
              "4387  4388  ...       Offensive_Targeted_Insult_Group\n",
              "4388  4389  ...                             not-Tamil\n",
              "4389  4390  ...                         Not_offensive\n",
              "4390  4391  ...                         Not_offensive\n",
              "4391  4392  ...                         Not_offensive\n",
              "\n",
              "[4392 rows x 3 columns]"
            ]
          },
          "metadata": {
            "tags": []
          },
          "execution_count": 28
        }
      ]
    },
    {
      "cell_type": "code",
      "metadata": {
        "colab": {
          "base_uri": "https://localhost:8080/"
        },
        "id": "Z1adtVqKVRXj",
        "outputId": "141b8feb-0887-46f9-9ad4-5e3c0f685338"
      },
      "source": [
        "run['label'].value_counts()"
      ],
      "execution_count": null,
      "outputs": [
        {
          "output_type": "execute_result",
          "data": {
            "text/plain": [
              "Not_offensive                           3119\n",
              "Offensive_Untargetede                    399\n",
              "Offensive_Targeted_Insult_Group          382\n",
              "Offensive_Targeted_Insult_Individual     318\n",
              "not-Tamil                                159\n",
              "Offensive_Targeted_Insult_Other           15\n",
              "Name: label, dtype: int64"
            ]
          },
          "metadata": {
            "tags": []
          },
          "execution_count": 29
        }
      ]
    },
    {
      "cell_type": "code",
      "metadata": {
        "id": "uJFoJD_9Oi0X"
      },
      "source": [
        "run.to_csv(folder_path +'tamil_off_indic-bert_cw.csv',index = False)"
      ],
      "execution_count": null,
      "outputs": []
    },
    {
      "cell_type": "markdown",
      "metadata": {
        "id": "C5sfJRzPI7hD"
      },
      "source": [
        "##Machine Learning"
      ]
    },
    {
      "cell_type": "code",
      "metadata": {
        "id": "Qc403in7I-IV"
      },
      "source": [
        "def print_metrices(true,pred):\n",
        "    print(confusion_matrix(true,pred))\n",
        "    print(classification_report(true,pred,))\n",
        "    print(\"Accuracy : \",accuracy_score(true,pred))\n",
        "    print(\"Precison : \",precision_score(true,pred, average = 'weighted'))\n",
        "    print(\"Recall : \",recall_score(true,pred,  average = 'weighted'))\n",
        "    print(\"F1 : \",f1_score(true,pred,  average = 'weighted'))"
      ],
      "execution_count": null,
      "outputs": []
    },
    {
      "cell_type": "code",
      "metadata": {
        "colab": {
          "base_uri": "https://localhost:8080/"
        },
        "id": "lfyg_pWqJ0Gh",
        "outputId": "5f0c25db-dc67-49af-e6e1-fe1695ff7136"
      },
      "source": [
        "## TF-IDF\n",
        "from sklearn.feature_extraction.text import TfidfVectorizer\n",
        "from sklearn import metrics\n",
        "#use_idf=True,tokenizer=lambda x: x.split()\n",
        "vectorizer = TfidfVectorizer(tokenizer=lambda x: x.split())\n",
        "vectorised_posts = vectorizer.fit_transform(train_data['cleaned'])\n",
        "vectorized_train_posts = vectorizer.transform(train_data['cleaned'])\n",
        "vectorized_valid_posts = vectorizer.transform(valid_data['cleaned'])\n",
        "vectorized_test_posts = vectorizer.transform(test_data['cleaned'])\n",
        "\n",
        "print(\"Feature Size: \", vectorized_train_posts.shape[1])\n",
        "#vectorizer.vocabulary_"
      ],
      "execution_count": null,
      "outputs": [
        {
          "output_type": "stream",
          "text": [
            "Feature Size:  71644\n"
          ],
          "name": "stdout"
        }
      ]
    },
    {
      "cell_type": "code",
      "metadata": {
        "colab": {
          "base_uri": "https://localhost:8080/"
        },
        "id": "qmcicn6RWf2s",
        "outputId": "1eab2f47-621f-4242-9602-98ec13c8524c"
      },
      "source": [
        "vectorized_valid_posts.shape"
      ],
      "execution_count": null,
      "outputs": [
        {
          "output_type": "execute_result",
          "data": {
            "text/plain": [
              "(2843, 30528)"
            ]
          },
          "metadata": {
            "tags": []
          },
          "execution_count": 274
        }
      ]
    },
    {
      "cell_type": "code",
      "metadata": {
        "colab": {
          "base_uri": "https://localhost:8080/"
        },
        "id": "o4oV_l2-QO8t",
        "outputId": "fef96dd7-f41b-4cf4-e23b-299f083ad55c"
      },
      "source": [
        "valid_data['enc_label'].value_counts()"
      ],
      "execution_count": null,
      "outputs": [
        {
          "output_type": "execute_result",
          "data": {
            "text/plain": [
              "0    3193\n",
              "1     356\n",
              "3     307\n",
              "2     295\n",
              "4     172\n",
              "5      65\n",
              "Name: enc_label, dtype: int64"
            ]
          },
          "metadata": {
            "tags": []
          },
          "execution_count": 54
        }
      ]
    },
    {
      "cell_type": "code",
      "metadata": {
        "id": "Tcqr_Mkvabtt"
      },
      "source": [
        "labels = ['Not_offensive', 'Offensive_Untargetede','Offensive_Targeted_Insult_Group'\n",
        "                                                       ,'Offensive_Targeted_Insult_Individual','not-Tamil','Offensive_Targeted_Insult_Other']\n",
        "def actual_label(row):\n",
        "    return labels[row]"
      ],
      "execution_count": null,
      "outputs": []
    },
    {
      "cell_type": "markdown",
      "metadata": {
        "id": "fPpcTikIUabS"
      },
      "source": [
        "###LR"
      ]
    },
    {
      "cell_type": "code",
      "metadata": {
        "colab": {
          "base_uri": "https://localhost:8080/"
        },
        "id": "oSGDM10iOSxR",
        "outputId": "9b0d9748-f8b1-456a-b372-b0a18156bbda"
      },
      "source": [
        "# After Tunning\n",
        "# Optimum C = 100 \n",
        "lr = LogisticRegression(C=10,class_weight='balanced')\n",
        "lr.fit(vectorized_train_posts,train_data['enc_label'])\n",
        "y_pred = lr.predict(vectorized_valid_posts)\n",
        "print_metrices(y_pred,valid_data['enc_label'])"
      ],
      "execution_count": null,
      "outputs": [
        {
          "output_type": "stream",
          "text": [
            "[[2291  242  312  241   55   52]\n",
            " [  68  172   40   55    6   15]\n",
            " [  42   59  143   40    3    8]\n",
            " [  35   68   44  144    7    9]\n",
            " [  18    7    1    6  139    1]\n",
            " [  11   31   10    7    2    4]]\n",
            "              precision    recall  f1-score   support\n",
            "\n",
            "           0       0.93      0.72      0.81      3193\n",
            "           1       0.30      0.48      0.37       356\n",
            "           2       0.26      0.48      0.34       295\n",
            "           3       0.29      0.47      0.36       307\n",
            "           4       0.66      0.81      0.72       172\n",
            "           5       0.04      0.06      0.05        65\n",
            "\n",
            "    accuracy                           0.66      4388\n",
            "   macro avg       0.41      0.50      0.44      4388\n",
            "weighted avg       0.76      0.66      0.70      4388\n",
            "\n",
            "Accuracy :  0.6592980856882407\n",
            "Precison :  0.6205682353463898\n",
            "Recall :  0.6592980856882407\n",
            "F1 :  0.6223750903258926\n"
          ],
          "name": "stdout"
        }
      ]
    },
    {
      "cell_type": "code",
      "metadata": {
        "id": "2TuzJomyY5IG"
      },
      "source": [
        "test_pred = lr.predict(vectorized_test_posts).tolist()\n",
        "test_data['id'] = test_data.index + 1"
      ],
      "execution_count": null,
      "outputs": []
    },
    {
      "cell_type": "code",
      "metadata": {
        "colab": {
          "base_uri": "https://localhost:8080/",
          "height": 407
        },
        "id": "i4Sr5XK_Z9-b",
        "outputId": "d50ed8a3-18ca-4944-fe88-486097948979"
      },
      "source": [
        "run = pd.DataFrame(test_data['id'])\n",
        "run['text'] = test_data['text']\n",
        "run['label'] = test_pred\n",
        "run['label'] = run['label'].apply(actual_label)\n",
        "run "
      ],
      "execution_count": null,
      "outputs": [
        {
          "output_type": "execute_result",
          "data": {
            "text/html": [
              "<div>\n",
              "<style scoped>\n",
              "    .dataframe tbody tr th:only-of-type {\n",
              "        vertical-align: middle;\n",
              "    }\n",
              "\n",
              "    .dataframe tbody tr th {\n",
              "        vertical-align: top;\n",
              "    }\n",
              "\n",
              "    .dataframe thead th {\n",
              "        text-align: right;\n",
              "    }\n",
              "</style>\n",
              "<table border=\"1\" class=\"dataframe\">\n",
              "  <thead>\n",
              "    <tr style=\"text-align: right;\">\n",
              "      <th></th>\n",
              "      <th>id</th>\n",
              "      <th>text</th>\n",
              "      <th>label</th>\n",
              "    </tr>\n",
              "  </thead>\n",
              "  <tbody>\n",
              "    <tr>\n",
              "      <th>0</th>\n",
              "      <td>1</td>\n",
              "      <td>14.12.2018 epo trailer pathutu irken ... Semay...</td>\n",
              "      <td>Not_offensive</td>\n",
              "    </tr>\n",
              "    <tr>\n",
              "      <th>1</th>\n",
              "      <td>2</td>\n",
              "      <td>Paka thana poro movie la Enna irukunu</td>\n",
              "      <td>Offensive_Untargetede</td>\n",
              "    </tr>\n",
              "    <tr>\n",
              "      <th>2</th>\n",
              "      <td>3</td>\n",
              "      <td>“U kena tunggu lebih lama lagi untuk tahu saya...</td>\n",
              "      <td>not-Tamil</td>\n",
              "    </tr>\n",
              "    <tr>\n",
              "      <th>3</th>\n",
              "      <td>4</td>\n",
              "      <td>Suriya anna vera level anna mass</td>\n",
              "      <td>Not_offensive</td>\n",
              "    </tr>\n",
              "    <tr>\n",
              "      <th>4</th>\n",
              "      <td>5</td>\n",
              "      <td>suma kaththaatha da sound over a pooda kudaath...</td>\n",
              "      <td>Offensive_Targeted_Insult_Individual</td>\n",
              "    </tr>\n",
              "    <tr>\n",
              "      <th>...</th>\n",
              "      <td>...</td>\n",
              "      <td>...</td>\n",
              "      <td>...</td>\n",
              "    </tr>\n",
              "    <tr>\n",
              "      <th>4387</th>\n",
              "      <td>4388</td>\n",
              "      <td>மண்ணு பொண்ணு ரெண்டுமே ஒன்னு அதுல எவன் கைய வச்ச...</td>\n",
              "      <td>Not_offensive</td>\n",
              "    </tr>\n",
              "    <tr>\n",
              "      <th>4388</th>\n",
              "      <td>4389</td>\n",
              "      <td>Babu mele ko ye song sunke kuch yesa feel hua ...</td>\n",
              "      <td>not-Tamil</td>\n",
              "    </tr>\n",
              "    <tr>\n",
              "      <th>4389</th>\n",
              "      <td>4390</td>\n",
              "      <td>asuran= aadukalam+pudupettai+ wada chennai..ye...</td>\n",
              "      <td>Offensive_Untargetede</td>\n",
              "    </tr>\n",
              "    <tr>\n",
              "      <th>4390</th>\n",
              "      <td>4391</td>\n",
              "      <td>Vijay's all movies look like same.</td>\n",
              "      <td>Not_offensive</td>\n",
              "    </tr>\n",
              "    <tr>\n",
              "      <th>4391</th>\n",
              "      <td>4392</td>\n",
              "      <td>Eh Idhu 96, yaara emathuringa.. Bangam ji Bang...</td>\n",
              "      <td>Offensive_Targeted_Insult_Individual</td>\n",
              "    </tr>\n",
              "  </tbody>\n",
              "</table>\n",
              "<p>4392 rows × 3 columns</p>\n",
              "</div>"
            ],
            "text/plain": [
              "        id  ...                                 label\n",
              "0        1  ...                         Not_offensive\n",
              "1        2  ...                 Offensive_Untargetede\n",
              "2        3  ...                             not-Tamil\n",
              "3        4  ...                         Not_offensive\n",
              "4        5  ...  Offensive_Targeted_Insult_Individual\n",
              "...    ...  ...                                   ...\n",
              "4387  4388  ...                         Not_offensive\n",
              "4388  4389  ...                             not-Tamil\n",
              "4389  4390  ...                 Offensive_Untargetede\n",
              "4390  4391  ...                         Not_offensive\n",
              "4391  4392  ...  Offensive_Targeted_Insult_Individual\n",
              "\n",
              "[4392 rows x 3 columns]"
            ]
          },
          "metadata": {
            "tags": []
          },
          "execution_count": 81
        }
      ]
    },
    {
      "cell_type": "code",
      "metadata": {
        "id": "ECDhJfh6cL8f"
      },
      "source": [
        "run.to_csv(folder_path +'tamil_off_lr.csv',index = False)"
      ],
      "execution_count": null,
      "outputs": []
    },
    {
      "cell_type": "markdown",
      "metadata": {
        "id": "ebdGBQu0UdXL"
      },
      "source": [
        "###SVM"
      ]
    },
    {
      "cell_type": "code",
      "metadata": {
        "colab": {
          "base_uri": "https://localhost:8080/"
        },
        "id": "OGh7KDdRPd06",
        "outputId": "3397e6d9-5c9d-482a-900e-35d1c55533c3"
      },
      "source": [
        "## SVM\n",
        "from sklearn.svm import SVC\n",
        "svc =  SVC(kernel='linear' C = 5,random_state=1234,class_weight='balanced')\n",
        "svc.fit(vectorized_train_posts,train_data['enc_label'])\n",
        "y_pred = svc.predict(vectorized_valid_posts)\n",
        "print_metrices(y_pred,valid_data['enc_label'])"
      ],
      "execution_count": null,
      "outputs": [
        {
          "output_type": "stream",
          "text": [
            "[[2493  213  242  197   40    8]\n",
            " [  81  163   52   52    4    4]\n",
            " [  61   59  130   41    2    2]\n",
            " [  56   66   40  140    3    2]\n",
            " [  34    4    0    3  131    0]\n",
            " [  20   27   12    4    0    2]]\n",
            "              precision    recall  f1-score   support\n",
            "\n",
            "           0       0.91      0.78      0.84      3193\n",
            "           1       0.31      0.46      0.37       356\n",
            "           2       0.27      0.44      0.34       295\n",
            "           3       0.32      0.46      0.38       307\n",
            "           4       0.73      0.76      0.74       172\n",
            "           5       0.11      0.03      0.05        65\n",
            "\n",
            "    accuracy                           0.70      4388\n",
            "   macro avg       0.44      0.49      0.45      4388\n",
            "weighted avg       0.76      0.70      0.72      4388\n",
            "\n",
            "Accuracy :  0.6971285323609845\n",
            "Precison :  0.6685259989818864\n",
            "Recall :  0.6971285323609845\n",
            "F1 :  0.6745771763163315\n"
          ],
          "name": "stdout"
        }
      ]
    },
    {
      "cell_type": "code",
      "metadata": {
        "id": "gHhDysIpdwHE"
      },
      "source": [
        "test_pred = svc.predict(vectorized_test_posts).tolist()\n",
        "test_data['id'] = test_data.index + 1"
      ],
      "execution_count": null,
      "outputs": []
    },
    {
      "cell_type": "code",
      "metadata": {
        "colab": {
          "base_uri": "https://localhost:8080/",
          "height": 407
        },
        "id": "UitzjiNaY3PA",
        "outputId": "fc5d61bb-8193-4bd2-fd22-31b491b81830"
      },
      "source": [
        "run = pd.DataFrame(test_data['id'])\n",
        "run['text'] = test_data['text']\n",
        "run['label'] = test_pred\n",
        "run['label'] = run['label'].apply(actual_label)\n",
        "run "
      ],
      "execution_count": null,
      "outputs": [
        {
          "output_type": "execute_result",
          "data": {
            "text/html": [
              "<div>\n",
              "<style scoped>\n",
              "    .dataframe tbody tr th:only-of-type {\n",
              "        vertical-align: middle;\n",
              "    }\n",
              "\n",
              "    .dataframe tbody tr th {\n",
              "        vertical-align: top;\n",
              "    }\n",
              "\n",
              "    .dataframe thead th {\n",
              "        text-align: right;\n",
              "    }\n",
              "</style>\n",
              "<table border=\"1\" class=\"dataframe\">\n",
              "  <thead>\n",
              "    <tr style=\"text-align: right;\">\n",
              "      <th></th>\n",
              "      <th>id</th>\n",
              "      <th>text</th>\n",
              "      <th>label</th>\n",
              "    </tr>\n",
              "  </thead>\n",
              "  <tbody>\n",
              "    <tr>\n",
              "      <th>0</th>\n",
              "      <td>1</td>\n",
              "      <td>14.12.2018 epo trailer pathutu irken ... Semay...</td>\n",
              "      <td>Not_offensive</td>\n",
              "    </tr>\n",
              "    <tr>\n",
              "      <th>1</th>\n",
              "      <td>2</td>\n",
              "      <td>Paka thana poro movie la Enna irukunu</td>\n",
              "      <td>Not_offensive</td>\n",
              "    </tr>\n",
              "    <tr>\n",
              "      <th>2</th>\n",
              "      <td>3</td>\n",
              "      <td>“U kena tunggu lebih lama lagi untuk tahu saya...</td>\n",
              "      <td>not-Tamil</td>\n",
              "    </tr>\n",
              "    <tr>\n",
              "      <th>3</th>\n",
              "      <td>4</td>\n",
              "      <td>Suriya anna vera level anna mass</td>\n",
              "      <td>Not_offensive</td>\n",
              "    </tr>\n",
              "    <tr>\n",
              "      <th>4</th>\n",
              "      <td>5</td>\n",
              "      <td>suma kaththaatha da sound over a pooda kudaath...</td>\n",
              "      <td>Offensive_Targeted_Insult_Individual</td>\n",
              "    </tr>\n",
              "    <tr>\n",
              "      <th>...</th>\n",
              "      <td>...</td>\n",
              "      <td>...</td>\n",
              "      <td>...</td>\n",
              "    </tr>\n",
              "    <tr>\n",
              "      <th>4387</th>\n",
              "      <td>4388</td>\n",
              "      <td>மண்ணு பொண்ணு ரெண்டுமே ஒன்னு அதுல எவன் கைய வச்ச...</td>\n",
              "      <td>Offensive_Targeted_Insult_Group</td>\n",
              "    </tr>\n",
              "    <tr>\n",
              "      <th>4388</th>\n",
              "      <td>4389</td>\n",
              "      <td>Babu mele ko ye song sunke kuch yesa feel hua ...</td>\n",
              "      <td>not-Tamil</td>\n",
              "    </tr>\n",
              "    <tr>\n",
              "      <th>4389</th>\n",
              "      <td>4390</td>\n",
              "      <td>asuran= aadukalam+pudupettai+ wada chennai..ye...</td>\n",
              "      <td>Offensive_Untargetede</td>\n",
              "    </tr>\n",
              "    <tr>\n",
              "      <th>4390</th>\n",
              "      <td>4391</td>\n",
              "      <td>Vijay's all movies look like same.</td>\n",
              "      <td>Not_offensive</td>\n",
              "    </tr>\n",
              "    <tr>\n",
              "      <th>4391</th>\n",
              "      <td>4392</td>\n",
              "      <td>Eh Idhu 96, yaara emathuringa.. Bangam ji Bang...</td>\n",
              "      <td>Offensive_Targeted_Insult_Individual</td>\n",
              "    </tr>\n",
              "  </tbody>\n",
              "</table>\n",
              "<p>4392 rows × 3 columns</p>\n",
              "</div>"
            ],
            "text/plain": [
              "        id  ...                                 label\n",
              "0        1  ...                         Not_offensive\n",
              "1        2  ...                         Not_offensive\n",
              "2        3  ...                             not-Tamil\n",
              "3        4  ...                         Not_offensive\n",
              "4        5  ...  Offensive_Targeted_Insult_Individual\n",
              "...    ...  ...                                   ...\n",
              "4387  4388  ...       Offensive_Targeted_Insult_Group\n",
              "4388  4389  ...                             not-Tamil\n",
              "4389  4390  ...                 Offensive_Untargetede\n",
              "4390  4391  ...                         Not_offensive\n",
              "4391  4392  ...  Offensive_Targeted_Insult_Individual\n",
              "\n",
              "[4392 rows x 3 columns]"
            ]
          },
          "metadata": {
            "tags": []
          },
          "execution_count": 76
        }
      ]
    },
    {
      "cell_type": "code",
      "metadata": {
        "id": "cZzUGXTbeVPM"
      },
      "source": [
        "run.to_csv(folder_path +'tamil_off_svm.csv',index = False)"
      ],
      "execution_count": null,
      "outputs": []
    },
    {
      "cell_type": "markdown",
      "metadata": {
        "id": "lExxwweUT8dq"
      },
      "source": [
        "###Ensemble Approach()"
      ]
    },
    {
      "cell_type": "code",
      "metadata": {
        "id": "-CKk1VIMVB0B"
      },
      "source": [
        "LogReg_clf = LogisticRegression(class_weight='balanced')\n",
        "DTree_clf = DecisionTreeClassifier(class_weight='balanced')\n",
        "rt_clf =   RandomForestClassifier(class_weight='balanced')\n",
        "SVC_clf = SVC(class_weight='balanced')\n",
        "\n",
        "\n",
        "voting_clf = VotingClassifier(estimators=[('SVC', SVC_clf), ('DTree', DTree_clf), ('LogReg', LogReg_clf),('RF', rt_clf)], voting='hard')\n",
        "voting_clf.fit(vectorized_train_posts, train_data['enc_label'])\n",
        "preds = voting_clf.predict(vectorized_valid_posts)\n",
        "\n"
      ],
      "execution_count": null,
      "outputs": []
    },
    {
      "cell_type": "code",
      "metadata": {
        "colab": {
          "base_uri": "https://localhost:8080/"
        },
        "id": "7_J90GJlbdn0",
        "outputId": "9082f3a1-c50f-4ab8-f05d-098a4d12db48"
      },
      "source": [
        "print_metrices(valid_data['enc_label'],preds)"
      ],
      "execution_count": null,
      "outputs": [
        {
          "output_type": "stream",
          "text": [
            "[[2945   88   91   53   16    0]\n",
            " [ 199  110   22   21    3    1]\n",
            " [ 169   39   73   11    1    2]\n",
            " [ 174   39   20   72    1    1]\n",
            " [  56    2    0    0  114    0]\n",
            " [  43   15    5    2    0    0]]\n",
            "              precision    recall  f1-score   support\n",
            "\n",
            "           0       0.82      0.92      0.87      3193\n",
            "           1       0.38      0.31      0.34       356\n",
            "           2       0.35      0.25      0.29       295\n",
            "           3       0.45      0.23      0.31       307\n",
            "           4       0.84      0.66      0.74       172\n",
            "           5       0.00      0.00      0.00        65\n",
            "\n",
            "    accuracy                           0.76      4388\n",
            "   macro avg       0.47      0.40      0.42      4388\n",
            "weighted avg       0.72      0.76      0.73      4388\n",
            "\n",
            "Accuracy :  0.7552415679124886\n",
            "Precison :  0.7160952198857428\n",
            "Recall :  0.7552415679124886\n",
            "F1 :  0.7298705505654587\n"
          ],
          "name": "stdout"
        }
      ]
    },
    {
      "cell_type": "code",
      "metadata": {
        "id": "z5_jkWB7cjYO"
      },
      "source": [
        "test_pred = voting_clf.predict(vectorized_test_posts).tolist()\n",
        "test_data['id'] = test_data.index + 1"
      ],
      "execution_count": null,
      "outputs": []
    },
    {
      "cell_type": "code",
      "metadata": {
        "id": "zmaV5r-8cw6Q"
      },
      "source": [
        "run = pd.DataFrame(test_data['id'])\n",
        "run['text'] = test_data['text']\n",
        "run['label'] = test_pred\n",
        "run['label'] = run['label'].apply(actual_label)\n",
        "run "
      ],
      "execution_count": null,
      "outputs": []
    },
    {
      "cell_type": "code",
      "metadata": {
        "id": "H8OGFtalc6je"
      },
      "source": [
        "run.to_csv(folder_path +'tamil_off_voting.csv',index = False)"
      ],
      "execution_count": null,
      "outputs": []
    },
    {
      "cell_type": "markdown",
      "metadata": {
        "id": "1AJyuIwIgxii"
      },
      "source": [
        "##Deep Learning"
      ]
    },
    {
      "cell_type": "code",
      "metadata": {
        "id": "i5TpNyugpd1D",
        "colab": {
          "base_uri": "https://localhost:8080/"
        },
        "outputId": "84279b66-ce77-4cca-f293-4b2332b24b09"
      },
      "source": [
        "import tensorflow as tf\n",
        "from tensorflow import keras\n",
        "from tensorflow.keras.preprocessing.sequence import pad_sequences\n",
        "from tensorflow.keras.preprocessing.text import Tokenizer\n",
        "from tensorflow.keras import regularizers\n",
        "from tensorflow.keras.layers import LSTM,GRU\n",
        "from tensorflow.keras.models import load_model\n",
        "print(\"Tensorflow Version:--\",tf.version.VERSION)\n",
        "print(\"Keras Version:---\",keras.__version__)"
      ],
      "execution_count": null,
      "outputs": [
        {
          "output_type": "stream",
          "text": [
            "Tensorflow Version:-- 2.4.0\n",
            "Keras Version:--- 2.4.0\n"
          ],
          "name": "stdout"
        }
      ]
    },
    {
      "cell_type": "markdown",
      "metadata": {
        "id": "CXf5We5KPE-X"
      },
      "source": [
        "###Tokenization"
      ]
    },
    {
      "cell_type": "code",
      "metadata": {
        "id": "5kyFGfjdPHEy"
      },
      "source": [
        "tokenizer = Tokenizer(num_words = 20000,filters='!\"#$%&()*+,-./:;<=>?@[\\\\]^_`{|}~\\t\\n-', \n",
        "                      split=' ', char_level=False, oov_token='<oov>', document_count=0)\n",
        "tokenizer.fit_on_texts(train_data['text'])  \n",
        "word_index = tokenizer.word_index\n",
        "vocab_size = len(word_index)+1"
      ],
      "execution_count": null,
      "outputs": []
    },
    {
      "cell_type": "code",
      "metadata": {
        "colab": {
          "base_uri": "https://localhost:8080/"
        },
        "id": "-YVS-R9RPVdf",
        "outputId": "92258db2-c534-4b18-c70f-6739c79f8a0e"
      },
      "source": [
        "print(vocab_size)"
      ],
      "execution_count": null,
      "outputs": [
        {
          "output_type": "stream",
          "text": [
            "68068\n"
          ],
          "name": "stdout"
        }
      ]
    },
    {
      "cell_type": "code",
      "metadata": {
        "colab": {
          "base_uri": "https://localhost:8080/"
        },
        "id": "7vLiDPxWPY21",
        "outputId": "401fa0da-37a3-4c7e-e04e-c07318237c38"
      },
      "source": [
        "max_len = 50\n",
        "# Training Sequences\n",
        "train_sequences = tokenizer.texts_to_sequences(train_data['text'])\n",
        "print(len(tokenizer.word_index))\n",
        "train_pad_sequences =  keras.preprocessing.sequence.pad_sequences(train_sequences, value=0.0, padding='post', maxlen= max_len)\n",
        "print(\"Number of Training Sequences :\" ,train_pad_sequences.shape)\n",
        "\n",
        "# Validation Sequences\n",
        "validation_sequences = tokenizer.texts_to_sequences(valid_data['text'])\n",
        "validation_pad_sequences =  keras.preprocessing.sequence.pad_sequences(validation_sequences, value=0.0, padding='post', maxlen= max_len)\n",
        "print(\"Number of Validation Sequences :\" ,validation_pad_sequences.shape)"
      ],
      "execution_count": null,
      "outputs": [
        {
          "output_type": "stream",
          "text": [
            "68067\n",
            "Number of Training Sequences : (35139, 50)\n",
            "Number of Validation Sequences : (4388, 50)\n"
          ],
          "name": "stdout"
        }
      ]
    },
    {
      "cell_type": "code",
      "metadata": {
        "colab": {
          "base_uri": "https://localhost:8080/"
        },
        "id": "khkBl8tcPsqW",
        "outputId": "22de7369-9b87-42cc-c39c-b906c9298a15"
      },
      "source": [
        "# Test Sequences\n",
        "test_sequences = tokenizer.texts_to_sequences(test_data['text'])\n",
        "test_pad_sequences =  keras.preprocessing.sequence.pad_sequences(test_sequences, value=0.0, padding='post', maxlen= max_len)\n",
        "print(\"Number of Test Sequences :\" ,test_pad_sequences.shape)"
      ],
      "execution_count": null,
      "outputs": [
        {
          "output_type": "stream",
          "text": [
            "Number of Test Sequences : (4392, 50)\n"
          ],
          "name": "stdout"
        }
      ]
    },
    {
      "cell_type": "code",
      "metadata": {
        "id": "bnX012TgR_NQ"
      },
      "source": [
        "from sklearn.utils import class_weight\n",
        "class_weights = class_weight.compute_class_weight('balanced'\n",
        "                                               ,np.unique(train_data['enc_label'])\n",
        "                                               ,train_data['enc_label'])\n",
        "\n",
        "weight = {i : class_weights[i] for i in range(6)}"
      ],
      "execution_count": null,
      "outputs": []
    },
    {
      "cell_type": "code",
      "metadata": {
        "colab": {
          "base_uri": "https://localhost:8080/"
        },
        "id": "syh-qxHeSI2E",
        "outputId": "80d26571-df03-4f9b-c30b-0208b12ec977"
      },
      "source": [
        "weight"
      ],
      "execution_count": null,
      "outputs": [
        {
          "output_type": "execute_result",
          "data": {
            "text/plain": [
              "{0: 0.2303441494591937,\n",
              " 1: 2.0153131452167927,\n",
              " 2: 2.2903793508017207,\n",
              " 3: 2.4995731967562955,\n",
              " 4: 4.027854195323246,\n",
              " 5: 12.89977973568282}"
            ]
          },
          "metadata": {
            "tags": []
          },
          "execution_count": 21
        }
      ]
    },
    {
      "cell_type": "code",
      "metadata": {
        "colab": {
          "base_uri": "https://localhost:8080/"
        },
        "id": "4aOqjsp_P8ux",
        "outputId": "1504d957-46a7-4a2e-9bdf-3f103f5223a2"
      },
      "source": [
        "num_classes = 6\n",
        "\n",
        "accuracy_threshold = 0.99\n",
        "\n",
        "class myCallback(keras.callbacks.Callback):\n",
        "  def on_epoch_end(self, epoch, logs={}):\n",
        "      if(logs.get('accuracy')>accuracy_threshold):\n",
        "        print(\"\\nReached %2.2f%% accuracy so we will stop trianing\" % (accuracy_threshold*100))\n",
        "        self.model.stop_training = True\n",
        "\n",
        "acc_callback = myCallback()\n",
        "# Saved the Best Model\n",
        "filepath = folder_path+\"ta_off_BiLSTMModel.h5\"\n",
        "checkpoint = keras.callbacks.ModelCheckpoint(filepath, monitor='val_accuracy', verbose=2, save_best_only=True, \n",
        "                                             save_weights_only=False, mode='max')\n",
        "# callback list\n",
        "callback_list = [acc_callback, checkpoint] \n",
        "model = tf.keras.models.Sequential([\n",
        "tf.keras.layers.Embedding(vocab_size, 100, input_length = max_len),\n",
        "#tf.keras.layers.Conv1D(128, 5, activation='relu'),\n",
        "#tf.keras.layers.MaxPooling1D(5),\n",
        "tf.keras.layers.Bidirectional(LSTM(units = 100,return_sequences=True,dropout = 0.2)),\n",
        "tf.keras.layers.Flatten(),\n",
        "tf.keras.layers.Dense(6 , activation='softmax')])\n",
        "\n",
        "model.summary()\n"
      ],
      "execution_count": null,
      "outputs": [
        {
          "output_type": "stream",
          "text": [
            "Model: \"sequential_3\"\n",
            "_________________________________________________________________\n",
            "Layer (type)                 Output Shape              Param #   \n",
            "=================================================================\n",
            "embedding_3 (Embedding)      (None, 50, 100)           6806800   \n",
            "_________________________________________________________________\n",
            "bidirectional_3 (Bidirection (None, 50, 200)           160800    \n",
            "_________________________________________________________________\n",
            "flatten_3 (Flatten)          (None, 10000)             0         \n",
            "_________________________________________________________________\n",
            "dense_3 (Dense)              (None, 6)                 60006     \n",
            "=================================================================\n",
            "Total params: 7,027,606\n",
            "Trainable params: 7,027,606\n",
            "Non-trainable params: 0\n",
            "_________________________________________________________________\n"
          ],
          "name": "stdout"
        }
      ]
    },
    {
      "cell_type": "code",
      "metadata": {
        "colab": {
          "base_uri": "https://localhost:8080/"
        },
        "id": "6as2S3GlQKqe",
        "outputId": "45ce211b-3d43-44c2-a2bd-b595f1891166"
      },
      "source": [
        "model.compile(optimizer=keras.optimizers.Adam(learning_rate=0.001),\n",
        "    loss='sparse_categorical_crossentropy',\n",
        "    metrics=['accuracy'])\n",
        "   \n",
        "history = model.fit(train_pad_sequences,\n",
        "    train_data['enc_label'],\n",
        "    epochs=15,\n",
        "    batch_size = 64,\n",
        "    validation_split = 0.2,\n",
        "    verbose =1,\n",
        "    callbacks = callback_list,\n",
        "    class_weight = weight)"
      ],
      "execution_count": null,
      "outputs": [
        {
          "output_type": "stream",
          "text": [
            "Epoch 1/15\n",
            "440/440 [==============================] - 29s 57ms/step - loss: 0.0732 - accuracy: 0.9553 - val_loss: 1.7788 - val_accuracy: 0.6682\n",
            "\n",
            "Epoch 00001: val_accuracy did not improve from 0.68099\n",
            "Epoch 2/15\n",
            "440/440 [==============================] - 24s 54ms/step - loss: 0.0592 - accuracy: 0.9647 - val_loss: 2.2006 - val_accuracy: 0.6389\n",
            "\n",
            "Epoch 00002: val_accuracy did not improve from 0.68099\n",
            "Epoch 3/15\n",
            "440/440 [==============================] - 24s 54ms/step - loss: 0.0589 - accuracy: 0.9660 - val_loss: 2.2342 - val_accuracy: 0.6330\n",
            "\n",
            "Epoch 00003: val_accuracy did not improve from 0.68099\n",
            "Epoch 4/15\n",
            "440/440 [==============================] - 24s 55ms/step - loss: 0.0458 - accuracy: 0.9715 - val_loss: 2.2371 - val_accuracy: 0.6938\n",
            "\n",
            "Epoch 00004: val_accuracy improved from 0.68099 to 0.69380, saving model to /content/drive/MyDrive/Colab Notebooks/NLP Projects/EACL 2021- Shared Tasks/Offensive Language/ta_off_BiLSTMModel.h5\n",
            "Epoch 5/15\n",
            "440/440 [==============================] - 24s 54ms/step - loss: 0.0491 - accuracy: 0.9729 - val_loss: 2.3602 - val_accuracy: 0.6372\n",
            "\n",
            "Epoch 00005: val_accuracy did not improve from 0.69380\n",
            "Epoch 6/15\n",
            "440/440 [==============================] - 24s 54ms/step - loss: 0.0289 - accuracy: 0.9813 - val_loss: 2.3856 - val_accuracy: 0.6753\n",
            "\n",
            "Epoch 00006: val_accuracy did not improve from 0.69380\n",
            "Epoch 7/15\n",
            "440/440 [==============================] - 24s 55ms/step - loss: 0.0264 - accuracy: 0.9859 - val_loss: 2.6132 - val_accuracy: 0.6729\n",
            "\n",
            "Epoch 00007: val_accuracy did not improve from 0.69380\n",
            "Epoch 8/15\n",
            "440/440 [==============================] - 21s 48ms/step - loss: 0.0190 - accuracy: 0.9864 - val_loss: 2.8044 - val_accuracy: 0.6702\n",
            "\n",
            "Epoch 00008: val_accuracy did not improve from 0.69380\n",
            "Epoch 9/15\n",
            "440/440 [==============================] - 21s 47ms/step - loss: 0.0313 - accuracy: 0.9838 - val_loss: 2.4490 - val_accuracy: 0.6811\n",
            "\n",
            "Epoch 00009: val_accuracy did not improve from 0.69380\n",
            "Epoch 10/15\n",
            "440/440 [==============================] - 21s 47ms/step - loss: 0.0276 - accuracy: 0.9842 - val_loss: 2.5423 - val_accuracy: 0.6658\n",
            "\n",
            "Epoch 00010: val_accuracy did not improve from 0.69380\n",
            "Epoch 11/15\n",
            "440/440 [==============================] - 21s 47ms/step - loss: 0.0256 - accuracy: 0.9858 - val_loss: 2.6400 - val_accuracy: 0.6625\n",
            "\n",
            "Epoch 00011: val_accuracy did not improve from 0.69380\n",
            "Epoch 12/15\n",
            "440/440 [==============================] - 21s 48ms/step - loss: 0.0178 - accuracy: 0.9894 - val_loss: 2.9097 - val_accuracy: 0.6937\n",
            "\n",
            "Epoch 00012: val_accuracy did not improve from 0.69380\n",
            "Epoch 13/15\n",
            "440/440 [==============================] - 21s 48ms/step - loss: 0.0168 - accuracy: 0.9924 - val_loss: 3.0250 - val_accuracy: 0.6720\n",
            "\n",
            "Reached 99.00% accuracy so we will stop trianing\n",
            "\n",
            "Epoch 00013: val_accuracy did not improve from 0.69380\n"
          ],
          "name": "stdout"
        }
      ]
    },
    {
      "cell_type": "code",
      "metadata": {
        "colab": {
          "base_uri": "https://localhost:8080/"
        },
        "id": "o9qscQW0Qwyi",
        "outputId": "da2083e9-d4d6-460b-8bfa-918e51347366"
      },
      "source": [
        "# Load the saved model\n",
        "model = load_model(folder_path+'ta_off_BiLSTMModel.h5')\n",
        "# prediction\n",
        "y_pred = np.argmax(model.predict(validation_pad_sequences), axis=-1)\n",
        "\n",
        "print(\"F1-Score:\",f1_score(valid_data['enc_label'],y_pred,average = 'weighted')*100)\n",
        "print(\"Accuracy:\",accuracy_score(valid_data['enc_label'],y_pred)*100)"
      ],
      "execution_count": null,
      "outputs": [
        {
          "output_type": "stream",
          "text": [
            "F1-Score: 69.53583165889337\n",
            "Accuracy: 68.23154056517777\n"
          ],
          "name": "stdout"
        }
      ]
    },
    {
      "cell_type": "code",
      "metadata": {
        "colab": {
          "base_uri": "https://localhost:8080/"
        },
        "id": "qoGa_8AQRM6d",
        "outputId": "30b82cf8-53e9-4d61-b1f8-cb11b28b1b00"
      },
      "source": [
        "from sklearn.metrics import classification_report\n",
        "\n",
        "#Show precision and recall per genre\n",
        "print_metrices(valid_data['enc_label'],y_pred)"
      ],
      "execution_count": null,
      "outputs": [
        {
          "output_type": "stream",
          "text": [
            "[[2587  170  175  171   42   48]\n",
            " [ 120  112   49   51    6   18]\n",
            " [ 117   52   72   37    4   13]\n",
            " [ 109   52   34  101    2    9]\n",
            " [  36    8    2    4  121    1]\n",
            " [  28   21    6    8    1    1]]\n",
            "              precision    recall  f1-score   support\n",
            "\n",
            "           0       0.86      0.81      0.84      3193\n",
            "           1       0.27      0.31      0.29       356\n",
            "           2       0.21      0.24      0.23       295\n",
            "           3       0.27      0.33      0.30       307\n",
            "           4       0.69      0.70      0.70       172\n",
            "           5       0.01      0.02      0.01        65\n",
            "\n",
            "    accuracy                           0.68      4388\n",
            "   macro avg       0.39      0.40      0.39      4388\n",
            "weighted avg       0.71      0.68      0.70      4388\n",
            "\n",
            "Accuracy :  0.6823154056517776\n",
            "Precison :  0.7104439921907858\n",
            "Recall :  0.6823154056517776\n",
            "F1 :  0.6953583165889338\n"
          ],
          "name": "stdout"
        }
      ]
    },
    {
      "cell_type": "markdown",
      "metadata": {
        "id": "sEWrIcO1b9_e"
      },
      "source": [
        "### Test Set Prediction"
      ]
    },
    {
      "cell_type": "code",
      "metadata": {
        "id": "sAqBgbWjbsCd"
      },
      "source": [
        "test_pred = np.argmax(model.predict(test_pad_sequences), axis=-1).tolist()\n",
        "test_pred"
      ],
      "execution_count": null,
      "outputs": []
    },
    {
      "cell_type": "code",
      "metadata": {
        "id": "5D0g-swwcFaw"
      },
      "source": [
        "test_data['id'] = test_data.index + 1\n",
        "run = pd.DataFrame(test_data['id'])\n",
        "run['text'] = test_data['text']\n",
        "run['label'] = test_pred\n",
        "run['label'] = run['label'].apply(actual_label)\n",
        "run "
      ],
      "execution_count": null,
      "outputs": []
    },
    {
      "cell_type": "code",
      "metadata": {
        "id": "B7XdPCZncdBl"
      },
      "source": [
        "run.to_csv(folder_path +'tamil_bilstm.csv',index = False)"
      ],
      "execution_count": null,
      "outputs": []
    },
    {
      "cell_type": "markdown",
      "metadata": {
        "id": "Yes-jndhdBiE"
      },
      "source": [
        "##Pretrained Embedding"
      ]
    },
    {
      "cell_type": "code",
      "metadata": {
        "id": "jAcmiVc4dExB"
      },
      "source": [
        "from urllib.request import urlopen\n",
        "import gzip\n",
        "\n",
        "# get the vectors\n",
        "file = gzip.open(urlopen('https://dl.fbaipublicfiles.com/fasttext/vectors-crawl/cc.ta.300.vec.gz'))"
      ],
      "execution_count": null,
      "outputs": []
    },
    {
      "cell_type": "code",
      "metadata": {
        "id": "eYWbt5l4dnbh"
      },
      "source": [
        "vocab_and_vectors = {}\n",
        "# put words as dict indexes and vectors as words values\n",
        "for line in file:\n",
        "  values = line.split()\n",
        "  word = values [0].decode('utf-8')\n",
        "  vector = np.asarray(values[1:], dtype='float32')\n",
        "  vocab_and_vectors[word] = vector"
      ],
      "execution_count": null,
      "outputs": []
    },
    {
      "cell_type": "code",
      "metadata": {
        "id": "VT5mMnIUeamd"
      },
      "source": [
        "embedding_matrix = np.zeros((vocab_size, 300))\n",
        "for word, i in word_index.items():\n",
        "  embedding_vector = vocab_and_vectors.get(word)\n",
        "  # words that cannot be found will be set to 0\n",
        "  if embedding_vector is not None:\n",
        "    embedding_matrix[i] = embedding_vector"
      ],
      "execution_count": null,
      "outputs": []
    },
    {
      "cell_type": "markdown",
      "metadata": {
        "id": "sHauacrrgpgU"
      },
      "source": [
        "###Model Defination"
      ]
    },
    {
      "cell_type": "code",
      "metadata": {
        "colab": {
          "base_uri": "https://localhost:8080/"
        },
        "id": "sts-Fhj4fikw",
        "outputId": "4821b9f5-d755-41a4-bee9-5abb6fbd007c"
      },
      "source": [
        "num_classes = 6\n",
        "\n",
        "accuracy_threshold = 0.99\n",
        "\n",
        "class myCallback(keras.callbacks.Callback):\n",
        "  def on_epoch_end(self, epoch, logs={}):\n",
        "      if(logs.get('accuracy')>accuracy_threshold):\n",
        "        print(\"\\nReached %2.2f%% accuracy so we will stop trianing\" % (accuracy_threshold*100))\n",
        "        self.model.stop_training = True\n",
        "\n",
        "acc_callback = myCallback()\n",
        "# Saved the Best Model\n",
        "filepath = folder_path+\"prt_ta-off-BiLSTMModel.h5\"\n",
        "checkpoint = keras.callbacks.ModelCheckpoint(filepath, monitor='val_accuracy', verbose=2, save_best_only=True, \n",
        "                                             save_weights_only=False, mode='max')\n",
        "# callback list\n",
        "callback_list = [acc_callback, checkpoint] \n",
        "model = tf.keras.models.Sequential([\n",
        "tf.keras.layers.Embedding(vocab_size, 300,weights=[embedding_matrix],trainable=False, input_length = max_len),\n",
        "#tf.keras.layers.Conv1D(128, 5, activation='relu'),\n",
        "#tf.keras.layers.MaxPooling1D(5),\n",
        "tf.keras.layers.Bidirectional(LSTM(units = 200,return_sequences=True,dropout = 0.2)),\n",
        "tf.keras.layers.Flatten(),\n",
        "tf.keras.layers.Dense(6 , activation='softmax')])\n",
        "\n",
        "model.summary()\n"
      ],
      "execution_count": null,
      "outputs": [
        {
          "output_type": "stream",
          "text": [
            "Model: \"sequential\"\n",
            "_________________________________________________________________\n",
            "Layer (type)                 Output Shape              Param #   \n",
            "=================================================================\n",
            "embedding (Embedding)        (None, 50, 300)           20420400  \n",
            "_________________________________________________________________\n",
            "conv1d (Conv1D)              (None, 46, 128)           192128    \n",
            "_________________________________________________________________\n",
            "max_pooling1d (MaxPooling1D) (None, 9, 128)            0         \n",
            "_________________________________________________________________\n",
            "bidirectional (Bidirectional (None, 9, 400)            526400    \n",
            "_________________________________________________________________\n",
            "flatten (Flatten)            (None, 3600)              0         \n",
            "_________________________________________________________________\n",
            "dense (Dense)                (None, 6)                 21606     \n",
            "=================================================================\n",
            "Total params: 21,160,534\n",
            "Trainable params: 740,134\n",
            "Non-trainable params: 20,420,400\n",
            "_________________________________________________________________\n"
          ],
          "name": "stdout"
        }
      ]
    },
    {
      "cell_type": "code",
      "metadata": {
        "colab": {
          "base_uri": "https://localhost:8080/"
        },
        "id": "ENpZL7LIf5Pu",
        "outputId": "a1e1dc93-a5ce-4832-e633-a9f16d894d38"
      },
      "source": [
        "model.compile(optimizer=keras.optimizers.Adam(learning_rate=0.001),\n",
        "    loss='sparse_categorical_crossentropy',\n",
        "    metrics=['accuracy'])\n",
        "   \n",
        "history = model.fit(train_pad_sequences,\n",
        "    train_data['enc_label'],\n",
        "    epochs=50,\n",
        "    batch_size = 64,\n",
        "    validation_split = 0.2,\n",
        "    verbose =1,\n",
        "    callbacks = callback_list,\n",
        "    class_weight = weight)"
      ],
      "execution_count": null,
      "outputs": [
        {
          "output_type": "stream",
          "text": [
            "Epoch 1/50\n",
            "440/440 [==============================] - 15s 12ms/step - loss: 1.6029 - accuracy: 0.3156 - val_loss: 1.3520 - val_accuracy: 0.5063\n",
            "\n",
            "Epoch 00001: val_accuracy improved from -inf to 0.50626, saving model to /content/drive/MyDrive/Colab Notebooks/NLP Projects/EACL 2021- Shared Tasks/Offensive Language/prt_ta-off-BiLSTMModel.h5\n",
            "Epoch 2/50\n",
            "440/440 [==============================] - 4s 9ms/step - loss: 1.4173 - accuracy: 0.4732 - val_loss: 1.5165 - val_accuracy: 0.4190\n",
            "\n",
            "Epoch 00002: val_accuracy did not improve from 0.50626\n",
            "Epoch 3/50\n",
            "440/440 [==============================] - 4s 9ms/step - loss: 1.3274 - accuracy: 0.5002 - val_loss: 1.4796 - val_accuracy: 0.4225\n",
            "\n",
            "Epoch 00003: val_accuracy did not improve from 0.50626\n",
            "Epoch 4/50\n",
            "440/440 [==============================] - 4s 9ms/step - loss: 1.2147 - accuracy: 0.5229 - val_loss: 1.2941 - val_accuracy: 0.5087\n",
            "\n",
            "Epoch 00004: val_accuracy improved from 0.50626 to 0.50868, saving model to /content/drive/MyDrive/Colab Notebooks/NLP Projects/EACL 2021- Shared Tasks/Offensive Language/prt_ta-off-BiLSTMModel.h5\n",
            "Epoch 5/50\n",
            "440/440 [==============================] - 4s 9ms/step - loss: 1.1071 - accuracy: 0.5385 - val_loss: 1.6429 - val_accuracy: 0.3873\n",
            "\n",
            "Epoch 00005: val_accuracy did not improve from 0.50868\n",
            "Epoch 6/50\n",
            "440/440 [==============================] - 4s 10ms/step - loss: 0.9954 - accuracy: 0.5588 - val_loss: 1.2369 - val_accuracy: 0.5134\n",
            "\n",
            "Epoch 00006: val_accuracy improved from 0.50868 to 0.51338, saving model to /content/drive/MyDrive/Colab Notebooks/NLP Projects/EACL 2021- Shared Tasks/Offensive Language/prt_ta-off-BiLSTMModel.h5\n",
            "Epoch 7/50\n",
            "440/440 [==============================] - 5s 10ms/step - loss: 0.8893 - accuracy: 0.5829 - val_loss: 1.2085 - val_accuracy: 0.5384\n",
            "\n",
            "Epoch 00007: val_accuracy improved from 0.51338 to 0.53842, saving model to /content/drive/MyDrive/Colab Notebooks/NLP Projects/EACL 2021- Shared Tasks/Offensive Language/prt_ta-off-BiLSTMModel.h5\n",
            "Epoch 8/50\n",
            "440/440 [==============================] - 4s 10ms/step - loss: 0.8171 - accuracy: 0.6053 - val_loss: 1.3156 - val_accuracy: 0.4933\n",
            "\n",
            "Epoch 00008: val_accuracy did not improve from 0.53842\n",
            "Epoch 9/50\n",
            "440/440 [==============================] - 4s 9ms/step - loss: 0.7151 - accuracy: 0.6233 - val_loss: 1.3197 - val_accuracy: 0.4906\n",
            "\n",
            "Epoch 00009: val_accuracy did not improve from 0.53842\n",
            "Epoch 10/50\n",
            "440/440 [==============================] - 4s 9ms/step - loss: 0.7013 - accuracy: 0.6308 - val_loss: 1.4797 - val_accuracy: 0.4579\n",
            "\n",
            "Epoch 00010: val_accuracy did not improve from 0.53842\n",
            "Epoch 11/50\n",
            "440/440 [==============================] - 4s 10ms/step - loss: 0.6270 - accuracy: 0.6484 - val_loss: 1.3350 - val_accuracy: 0.5332\n",
            "\n",
            "Epoch 00011: val_accuracy did not improve from 0.53842\n",
            "Epoch 12/50\n",
            "440/440 [==============================] - 4s 10ms/step - loss: 0.5698 - accuracy: 0.6733 - val_loss: 1.2576 - val_accuracy: 0.5619\n",
            "\n",
            "Epoch 00012: val_accuracy improved from 0.53842 to 0.56190, saving model to /content/drive/MyDrive/Colab Notebooks/NLP Projects/EACL 2021- Shared Tasks/Offensive Language/prt_ta-off-BiLSTMModel.h5\n",
            "Epoch 13/50\n",
            "440/440 [==============================] - 4s 9ms/step - loss: 0.5437 - accuracy: 0.6803 - val_loss: 1.3566 - val_accuracy: 0.5250\n",
            "\n",
            "Epoch 00013: val_accuracy did not improve from 0.56190\n",
            "Epoch 14/50\n",
            "440/440 [==============================] - 4s 9ms/step - loss: 0.5106 - accuracy: 0.7023 - val_loss: 1.3397 - val_accuracy: 0.5566\n",
            "\n",
            "Epoch 00014: val_accuracy did not improve from 0.56190\n",
            "Epoch 15/50\n",
            "440/440 [==============================] - 4s 9ms/step - loss: 0.4716 - accuracy: 0.7094 - val_loss: 1.3474 - val_accuracy: 0.5393\n",
            "\n",
            "Epoch 00015: val_accuracy did not improve from 0.56190\n",
            "Epoch 16/50\n",
            "440/440 [==============================] - 4s 9ms/step - loss: 0.4496 - accuracy: 0.7234 - val_loss: 1.4256 - val_accuracy: 0.5600\n",
            "\n",
            "Epoch 00016: val_accuracy did not improve from 0.56190\n",
            "Epoch 17/50\n",
            "440/440 [==============================] - 4s 9ms/step - loss: 0.4365 - accuracy: 0.7307 - val_loss: 1.3667 - val_accuracy: 0.5753\n",
            "\n",
            "Epoch 00017: val_accuracy improved from 0.56190 to 0.57527, saving model to /content/drive/MyDrive/Colab Notebooks/NLP Projects/EACL 2021- Shared Tasks/Offensive Language/prt_ta-off-BiLSTMModel.h5\n",
            "Epoch 18/50\n",
            "440/440 [==============================] - 4s 9ms/step - loss: 0.3896 - accuracy: 0.7477 - val_loss: 1.3416 - val_accuracy: 0.5822\n",
            "\n",
            "Epoch 00018: val_accuracy improved from 0.57527 to 0.58224, saving model to /content/drive/MyDrive/Colab Notebooks/NLP Projects/EACL 2021- Shared Tasks/Offensive Language/prt_ta-off-BiLSTMModel.h5\n",
            "Epoch 19/50\n",
            "440/440 [==============================] - 4s 9ms/step - loss: 0.3901 - accuracy: 0.7522 - val_loss: 1.4002 - val_accuracy: 0.5764\n",
            "\n",
            "Epoch 00019: val_accuracy did not improve from 0.58224\n",
            "Epoch 20/50\n",
            "440/440 [==============================] - 4s 9ms/step - loss: 0.3430 - accuracy: 0.7693 - val_loss: 1.3932 - val_accuracy: 0.5956\n",
            "\n",
            "Epoch 00020: val_accuracy improved from 0.58224 to 0.59562, saving model to /content/drive/MyDrive/Colab Notebooks/NLP Projects/EACL 2021- Shared Tasks/Offensive Language/prt_ta-off-BiLSTMModel.h5\n",
            "Epoch 21/50\n",
            "440/440 [==============================] - 4s 9ms/step - loss: 0.3229 - accuracy: 0.7724 - val_loss: 1.3502 - val_accuracy: 0.6439\n",
            "\n",
            "Epoch 00021: val_accuracy improved from 0.59562 to 0.64385, saving model to /content/drive/MyDrive/Colab Notebooks/NLP Projects/EACL 2021- Shared Tasks/Offensive Language/prt_ta-off-BiLSTMModel.h5\n",
            "Epoch 22/50\n",
            "440/440 [==============================] - 4s 9ms/step - loss: 0.3172 - accuracy: 0.7773 - val_loss: 1.4079 - val_accuracy: 0.6052\n",
            "\n",
            "Epoch 00022: val_accuracy did not improve from 0.64385\n",
            "Epoch 23/50\n",
            "440/440 [==============================] - 4s 9ms/step - loss: 0.3559 - accuracy: 0.7750 - val_loss: 1.3967 - val_accuracy: 0.5995\n",
            "\n",
            "Epoch 00023: val_accuracy did not improve from 0.64385\n",
            "Epoch 24/50\n",
            "440/440 [==============================] - 4s 9ms/step - loss: 0.2919 - accuracy: 0.7963 - val_loss: 1.5706 - val_accuracy: 0.5655\n",
            "\n",
            "Epoch 00024: val_accuracy did not improve from 0.64385\n",
            "Epoch 25/50\n",
            "440/440 [==============================] - 4s 9ms/step - loss: 0.2886 - accuracy: 0.7961 - val_loss: 1.5304 - val_accuracy: 0.5916\n",
            "\n",
            "Epoch 00025: val_accuracy did not improve from 0.64385\n",
            "Epoch 26/50\n",
            "440/440 [==============================] - 4s 9ms/step - loss: 0.2891 - accuracy: 0.8064 - val_loss: 1.5750 - val_accuracy: 0.5902\n",
            "\n",
            "Epoch 00026: val_accuracy did not improve from 0.64385\n",
            "Epoch 27/50\n",
            "440/440 [==============================] - 4s 9ms/step - loss: 0.2544 - accuracy: 0.8100 - val_loss: 1.4684 - val_accuracy: 0.6077\n",
            "\n",
            "Epoch 00027: val_accuracy did not improve from 0.64385\n",
            "Epoch 28/50\n",
            "440/440 [==============================] - 4s 9ms/step - loss: 0.2725 - accuracy: 0.8168 - val_loss: 1.6150 - val_accuracy: 0.5925\n",
            "\n",
            "Epoch 00028: val_accuracy did not improve from 0.64385\n",
            "Epoch 29/50\n",
            "440/440 [==============================] - 4s 9ms/step - loss: 0.2820 - accuracy: 0.8081 - val_loss: 1.5968 - val_accuracy: 0.5982\n",
            "\n",
            "Epoch 00029: val_accuracy did not improve from 0.64385\n",
            "Epoch 30/50\n",
            "440/440 [==============================] - 4s 9ms/step - loss: 0.2670 - accuracy: 0.8147 - val_loss: 1.6073 - val_accuracy: 0.5986\n",
            "\n",
            "Epoch 00030: val_accuracy did not improve from 0.64385\n",
            "Epoch 31/50\n",
            "440/440 [==============================] - 4s 9ms/step - loss: 0.2276 - accuracy: 0.8266 - val_loss: 1.6310 - val_accuracy: 0.5936\n",
            "\n",
            "Epoch 00031: val_accuracy did not improve from 0.64385\n",
            "Epoch 32/50\n",
            "440/440 [==============================] - 4s 9ms/step - loss: 0.2157 - accuracy: 0.8401 - val_loss: 1.5744 - val_accuracy: 0.6323\n",
            "\n",
            "Epoch 00032: val_accuracy did not improve from 0.64385\n",
            "Epoch 33/50\n",
            "440/440 [==============================] - 4s 9ms/step - loss: 0.2721 - accuracy: 0.8196 - val_loss: 1.6228 - val_accuracy: 0.6137\n",
            "\n",
            "Epoch 00033: val_accuracy did not improve from 0.64385\n",
            "Epoch 34/50\n",
            "440/440 [==============================] - 4s 9ms/step - loss: 0.2146 - accuracy: 0.8348 - val_loss: 1.5751 - val_accuracy: 0.6182\n",
            "\n",
            "Epoch 00034: val_accuracy did not improve from 0.64385\n",
            "Epoch 35/50\n",
            "440/440 [==============================] - 4s 9ms/step - loss: 0.2313 - accuracy: 0.8368 - val_loss: 1.5726 - val_accuracy: 0.6107\n",
            "\n",
            "Epoch 00035: val_accuracy did not improve from 0.64385\n",
            "Epoch 36/50\n",
            "440/440 [==============================] - 4s 9ms/step - loss: 0.1952 - accuracy: 0.8510 - val_loss: 1.6366 - val_accuracy: 0.6242\n",
            "\n",
            "Epoch 00036: val_accuracy did not improve from 0.64385\n",
            "Epoch 37/50\n",
            "440/440 [==============================] - 4s 9ms/step - loss: 0.2075 - accuracy: 0.8472 - val_loss: 1.6796 - val_accuracy: 0.6071\n",
            "\n",
            "Epoch 00037: val_accuracy did not improve from 0.64385\n",
            "Epoch 38/50\n",
            "440/440 [==============================] - 4s 9ms/step - loss: 0.1899 - accuracy: 0.8545 - val_loss: 1.6421 - val_accuracy: 0.6305\n",
            "\n",
            "Epoch 00038: val_accuracy did not improve from 0.64385\n",
            "Epoch 39/50\n",
            "440/440 [==============================] - 4s 9ms/step - loss: 0.1741 - accuracy: 0.8570 - val_loss: 1.6742 - val_accuracy: 0.6359\n",
            "\n",
            "Epoch 00039: val_accuracy did not improve from 0.64385\n",
            "Epoch 40/50\n",
            "440/440 [==============================] - 4s 9ms/step - loss: 0.1951 - accuracy: 0.8542 - val_loss: 1.6508 - val_accuracy: 0.6419\n",
            "\n",
            "Epoch 00040: val_accuracy did not improve from 0.64385\n",
            "Epoch 41/50\n",
            "440/440 [==============================] - 4s 9ms/step - loss: 0.1658 - accuracy: 0.8750 - val_loss: 1.6692 - val_accuracy: 0.6474\n",
            "\n",
            "Epoch 00041: val_accuracy improved from 0.64385 to 0.64741, saving model to /content/drive/MyDrive/Colab Notebooks/NLP Projects/EACL 2021- Shared Tasks/Offensive Language/prt_ta-off-BiLSTMModel.h5\n",
            "Epoch 42/50\n",
            "440/440 [==============================] - 4s 9ms/step - loss: 0.1660 - accuracy: 0.8709 - val_loss: 1.7227 - val_accuracy: 0.6579\n",
            "\n",
            "Epoch 00042: val_accuracy improved from 0.64741 to 0.65794, saving model to /content/drive/MyDrive/Colab Notebooks/NLP Projects/EACL 2021- Shared Tasks/Offensive Language/prt_ta-off-BiLSTMModel.h5\n",
            "Epoch 43/50\n",
            "440/440 [==============================] - 4s 9ms/step - loss: 0.1731 - accuracy: 0.8691 - val_loss: 1.7971 - val_accuracy: 0.6015\n",
            "\n",
            "Epoch 00043: val_accuracy did not improve from 0.65794\n",
            "Epoch 44/50\n",
            "440/440 [==============================] - 4s 9ms/step - loss: 0.1819 - accuracy: 0.8672 - val_loss: 1.7352 - val_accuracy: 0.6599\n",
            "\n",
            "Epoch 00044: val_accuracy improved from 0.65794 to 0.65993, saving model to /content/drive/MyDrive/Colab Notebooks/NLP Projects/EACL 2021- Shared Tasks/Offensive Language/prt_ta-off-BiLSTMModel.h5\n",
            "Epoch 45/50\n",
            "440/440 [==============================] - 4s 9ms/step - loss: 0.1727 - accuracy: 0.8702 - val_loss: 1.7534 - val_accuracy: 0.6143\n",
            "\n",
            "Epoch 00045: val_accuracy did not improve from 0.65993\n",
            "Epoch 46/50\n",
            "440/440 [==============================] - 4s 9ms/step - loss: 0.1846 - accuracy: 0.8665 - val_loss: 1.7089 - val_accuracy: 0.6366\n",
            "\n",
            "Epoch 00046: val_accuracy did not improve from 0.65993\n",
            "Epoch 47/50\n",
            "440/440 [==============================] - 4s 9ms/step - loss: 0.1408 - accuracy: 0.8846 - val_loss: 1.7976 - val_accuracy: 0.6437\n",
            "\n",
            "Epoch 00047: val_accuracy did not improve from 0.65993\n",
            "Epoch 48/50\n",
            "440/440 [==============================] - 4s 9ms/step - loss: 0.1413 - accuracy: 0.8890 - val_loss: 1.8125 - val_accuracy: 0.6409\n",
            "\n",
            "Epoch 00048: val_accuracy did not improve from 0.65993\n",
            "Epoch 49/50\n",
            "440/440 [==============================] - 4s 9ms/step - loss: 0.1661 - accuracy: 0.8736 - val_loss: 1.7888 - val_accuracy: 0.6383\n",
            "\n",
            "Epoch 00049: val_accuracy did not improve from 0.65993\n",
            "Epoch 50/50\n",
            "440/440 [==============================] - 4s 9ms/step - loss: 0.1513 - accuracy: 0.8851 - val_loss: 1.8359 - val_accuracy: 0.6178\n",
            "\n",
            "Epoch 00050: val_accuracy did not improve from 0.65993\n"
          ],
          "name": "stdout"
        }
      ]
    },
    {
      "cell_type": "code",
      "metadata": {
        "colab": {
          "base_uri": "https://localhost:8080/"
        },
        "id": "TgrSeRfGiAod",
        "outputId": "f4f032c1-6e51-4b27-f2a2-219f00520dcb"
      },
      "source": [
        "# Load the saved model\n",
        "model = load_model(folder_path+'prt_ta-off-BiLSTMModel.h5')\n",
        "# prediction\n",
        "y_pred = np.argmax(model.predict(validation_pad_sequences), axis=-1)\n",
        "print_metrices(y_pred,valid_data['enc_label'])\n"
      ],
      "execution_count": null,
      "outputs": [
        {
          "output_type": "stream",
          "text": [
            "[[2516  149  114  135   28   32]\n",
            " [ 200  102   50   42    5   13]\n",
            " [ 176   47   79   31    2    7]\n",
            " [ 211   44   37   91   10    9]\n",
            " [  68    7    6    4  127    3]\n",
            " [  22    7    9    4    0    1]]\n",
            "              precision    recall  f1-score   support\n",
            "\n",
            "           0       0.79      0.85      0.82      2974\n",
            "           1       0.29      0.25      0.27       412\n",
            "           2       0.27      0.23      0.25       342\n",
            "           3       0.30      0.23      0.26       402\n",
            "           4       0.74      0.59      0.66       215\n",
            "           5       0.02      0.02      0.02        43\n",
            "\n",
            "    accuracy                           0.66      4388\n",
            "   macro avg       0.40      0.36      0.38      4388\n",
            "weighted avg       0.65      0.66      0.65      4388\n",
            "\n",
            "Accuracy :  0.6645396536007293\n",
            "Precison :  0.6453136493694644\n",
            "Recall :  0.6645396536007293\n",
            "F1 :  0.6531494649694097\n"
          ],
          "name": "stdout"
        }
      ]
    },
    {
      "cell_type": "code",
      "metadata": {
        "id": "7AVKKkQ6jrxJ"
      },
      "source": [
        "test_pred = np.argmax(model.predict(test_pad_sequences), axis=-1).tolist()\n",
        "test_pred"
      ],
      "execution_count": null,
      "outputs": []
    },
    {
      "cell_type": "code",
      "metadata": {
        "id": "ZsEJYlejjy4W"
      },
      "source": [
        "test_data['id'] = test_data.index + 1\n",
        "run = pd.DataFrame(test_data['id'])\n",
        "run['text'] = test_data['text']\n",
        "run['label'] = test_pred\n",
        "run['label'] = run['label'].apply(actual_label)\n",
        "run "
      ],
      "execution_count": null,
      "outputs": []
    },
    {
      "cell_type": "code",
      "metadata": {
        "id": "bnnMrEvDj8u_"
      },
      "source": [
        "run.to_csv(folder_path +'tamil_cnn+bilstm+fasttext.csv',index = False)"
      ],
      "execution_count": null,
      "outputs": []
    },
    {
      "cell_type": "code",
      "metadata": {
        "id": "HcjfVA1XB_rw"
      },
      "source": [
        ""
      ],
      "execution_count": null,
      "outputs": []
    },
    {
      "cell_type": "markdown",
      "metadata": {
        "id": "2klq8bLhCAiK"
      },
      "source": [
        "## Attention"
      ]
    },
    {
      "cell_type": "code",
      "metadata": {
        "id": "7W75ZLzsCAiL"
      },
      "source": [
        "import tensorflow as tf\n",
        "import tensorflow.keras as keras\n",
        "from tensorflow.keras.preprocessing.text import Tokenizer\n",
        "from tensorflow.keras.preprocessing.sequence import pad_sequences\n",
        "from tensorflow.keras.layers import Concatenate, Dense, Input, LSTM, Embedding, Dropout, Activation, GRU, Flatten\n",
        "from tensorflow.keras.layers import Bidirectional, GlobalMaxPool1D\n",
        "from tensorflow.keras.models import Model, Sequential\n",
        "from tensorflow.keras.layers import Convolution1D\n",
        "from tensorflow.keras import initializers, regularizers, constraints, optimizers, layers\n",
        "from tensorflow.keras.layers import Add, BatchNormalization, Activation, Dropout"
      ],
      "execution_count": null,
      "outputs": []
    },
    {
      "cell_type": "code",
      "metadata": {
        "id": "nc3GnrESCAiM"
      },
      "source": [
        "MAX_FEATURES = 10000\n",
        "EMBED_SIZE = 128\n",
        "tokenizer = Tokenizer(num_words=MAX_FEATURES)\n",
        "tokenizer.fit_on_texts(train_data['cleaned'])\n",
        "list_tokenized_train = tokenizer.texts_to_sequences(train_data['cleaned'])\n",
        "list_tokenized_val = tokenizer.texts_to_sequences(valid_data['cleaned'])  \n",
        "list_tokenized_test = tokenizer.texts_to_sequences(test_data['cleaned'])  \n",
        "RNN_CELL_SIZE = 100\n",
        "  \n",
        "MAX_LEN = 70  \n",
        "X_train = pad_sequences(list_tokenized_train, maxlen=MAX_LEN)\n",
        "y_train = train_data['enc_label']\n",
        "X_val = pad_sequences(list_tokenized_val, maxlen=MAX_LEN)\n",
        "y_val = valid_data['enc_label']\n",
        "X_test = pad_sequences(list_tokenized_test, maxlen=MAX_LEN)"
      ],
      "execution_count": null,
      "outputs": []
    },
    {
      "cell_type": "code",
      "metadata": {
        "id": "T1WNEh22CAiN"
      },
      "source": [
        "class Attention(tf.keras.Model):\n",
        "    def __init__(self, units):\n",
        "        super(Attention, self).__init__()\n",
        "        self.W1 = tf.keras.layers.Dense(units)\n",
        "        self.W2 = tf.keras.layers.Dense(units)\n",
        "        self.V = tf.keras.layers.Dense(1)\n",
        "\n",
        "    def call(self, features, hidden):\n",
        "        # hidden shape == (batch_size, hidden size)\n",
        "        # hidden_with_time_axis shape == (batch_size, 1, hidden size)\n",
        "        # we are doing this to perform addition to calculate the score\n",
        "        hidden_with_time_axis = tf.expand_dims(hidden, 1)\n",
        "          \n",
        "        # score shape == (batch_size, max_length, 1)\n",
        "        # we get 1 at the last axis because we are applying score to self.V\n",
        "        # the shape of the tensor before applying self.V is (batch_size, max_length, units)\n",
        "        score = tf.nn.tanh(\n",
        "            self.W1(features) + self.W2(hidden_with_time_axis))\n",
        "        # attention_weights shape == (batch_size, max_length, 1)\n",
        "        attention_weights = tf.nn.softmax(self.V(score), axis=1)\n",
        "          \n",
        "        # context_vector shape after sum == (batch_size, hidden_size)\n",
        "        context_vector = attention_weights * features\n",
        "        context_vector = tf.reduce_sum(context_vector, axis=1)\n",
        "        return context_vector, attention_weights"
      ],
      "execution_count": null,
      "outputs": []
    },
    {
      "cell_type": "code",
      "metadata": {
        "id": "-jHXaIqTCAiO"
      },
      "source": [
        "sequence_input = Input(shape=(MAX_LEN,), dtype=\"int32\")\n",
        "embedded_sequences = Embedding(MAX_FEATURES, EMBED_SIZE)(sequence_input)"
      ],
      "execution_count": null,
      "outputs": []
    },
    {
      "cell_type": "code",
      "metadata": {
        "id": "cjUQlv4FCAiO"
      },
      "source": [
        "#conv = Convolution1D(128,5,activation='relu')(embedded_sequences)\n",
        "#pol = GlobalMaxPool1D()(conv)\n",
        "\n",
        "lstm = Bidirectional(LSTM(64, return_sequences = True), name=\"bi_lstm_0\")(embedded_sequences)\n",
        "\n",
        "# Getting our LSTM outputs\n",
        "(lstm, forward_h, forward_c, backward_h, backward_c) = Bidirectional(LSTM(64, return_sequences=True, return_state=True), name=\"bi_lstm_1\")(lstm)"
      ],
      "execution_count": null,
      "outputs": []
    },
    {
      "cell_type": "code",
      "metadata": {
        "id": "bwMHE_t4CAiO"
      },
      "source": [
        "state_h = Concatenate()([forward_h, backward_h])\n",
        "state_c = Concatenate()([forward_c, backward_c])\n",
        "context_vector, attention_weights = Attention(20)(lstm, state_h)\n",
        "dense1 = Dense(20, activation=\"relu\")(context_vector)\n",
        "dropout = Dropout(0.1)(dense1)\n",
        "output = Dense(6, activation=\"softmax\")(dropout)\n",
        "  \n",
        "model = keras.Model(inputs=sequence_input, outputs=output)"
      ],
      "execution_count": null,
      "outputs": []
    },
    {
      "cell_type": "code",
      "metadata": {
        "id": "y2HFGtX0CAiP"
      },
      "source": [
        "model.compile(loss='sparse_categorical_crossentropy',\n",
        "              optimizer= keras.optimizers.Adam(learning_rate = 0.001),\n",
        "              metrics=['accuracy'])"
      ],
      "execution_count": null,
      "outputs": []
    },
    {
      "cell_type": "code",
      "metadata": {
        "colab": {
          "base_uri": "https://localhost:8080/"
        },
        "id": "wQ3bAUwoCAiP",
        "outputId": "f9b099b7-7ddf-4f6a-c33f-98b1300ca60a"
      },
      "source": [
        "BATCH_SIZE = 64\n",
        "EPOCHS = 5\n",
        "history = model.fit(X_train,y_train,\n",
        "                    batch_size=BATCH_SIZE,\n",
        "                    epochs=EPOCHS,\n",
        "                    validation_split=0.10)"
      ],
      "execution_count": null,
      "outputs": [
        {
          "output_type": "stream",
          "text": [
            "Epoch 1/5\n",
            "495/495 [==============================] - 23s 31ms/step - loss: 1.0296 - accuracy: 0.7096 - val_loss: 0.7643 - val_accuracy: 0.7555\n",
            "Epoch 2/5\n",
            "495/495 [==============================] - 14s 28ms/step - loss: 0.6933 - accuracy: 0.7652 - val_loss: 0.6951 - val_accuracy: 0.7649\n",
            "Epoch 3/5\n",
            "495/495 [==============================] - 14s 28ms/step - loss: 0.5546 - accuracy: 0.8089 - val_loss: 0.7114 - val_accuracy: 0.7547\n",
            "Epoch 4/5\n",
            "495/495 [==============================] - 14s 28ms/step - loss: 0.4588 - accuracy: 0.8436 - val_loss: 0.7764 - val_accuracy: 0.7544\n",
            "Epoch 5/5\n",
            "495/495 [==============================] - 14s 27ms/step - loss: 0.3769 - accuracy: 0.8759 - val_loss: 0.8670 - val_accuracy: 0.7325\n"
          ],
          "name": "stdout"
        }
      ]
    },
    {
      "cell_type": "code",
      "metadata": {
        "colab": {
          "base_uri": "https://localhost:8080/"
        },
        "id": "cFu41694CAiR",
        "outputId": "911f853c-db83-4e92-8755-d0435a87b4fb"
      },
      "source": [
        "prediction = np.argmax(model.predict(X_val),axis = -1)\n",
        "print_metrices(valid_data['enc_label'],prediction)"
      ],
      "execution_count": null,
      "outputs": [
        {
          "output_type": "stream",
          "text": [
            "[[2784  114  114  131   50    0]\n",
            " [ 135  124   32   52   13    0]\n",
            " [ 143   38   62   44    8    0]\n",
            " [ 120   58   41   78   10    0]\n",
            " [  36    2    0    0  134    0]\n",
            " [  31   17    5    9    3    0]]\n",
            "              precision    recall  f1-score   support\n",
            "\n",
            "           0       0.86      0.87      0.86      3193\n",
            "           1       0.35      0.35      0.35       356\n",
            "           2       0.24      0.21      0.23       295\n",
            "           3       0.25      0.25      0.25       307\n",
            "           4       0.61      0.78      0.69       172\n",
            "           5       0.00      0.00      0.00        65\n",
            "\n",
            "    accuracy                           0.73      4388\n",
            "   macro avg       0.39      0.41      0.40      4388\n",
            "weighted avg       0.71      0.73      0.72      4388\n",
            "\n",
            "Accuracy :  0.7251595259799453\n",
            "Precison :  0.7099048289183952\n",
            "Recall :  0.7251595259799453\n",
            "F1 :  0.7170167238900832\n"
          ],
          "name": "stdout"
        }
      ]
    },
    {
      "cell_type": "code",
      "metadata": {
        "id": "WD9ymyhFCAiS"
      },
      "source": [
        "test_pred = np.argmax(model.predict(X_test), axis=-1).tolist()\n",
        "test_data['id'] = test_data.index + 1\n",
        "run = pd.DataFrame(test_data['id'])\n",
        "run['text'] = test_data['text']\n",
        "run['label'] = test_pred\n",
        "run['label'] = run['label'].apply(actual_label)\n",
        "run "
      ],
      "execution_count": null,
      "outputs": []
    },
    {
      "cell_type": "code",
      "metadata": {
        "id": "TARjSps3IKjk"
      },
      "source": [
        "run['label'].value_counts()"
      ],
      "execution_count": null,
      "outputs": []
    },
    {
      "cell_type": "code",
      "metadata": {
        "id": "62kzYDSNCAiS"
      },
      "source": [
        "run.to_csv(folder_path +'NLP@CUET_tamil-10.csv',index = False)"
      ],
      "execution_count": null,
      "outputs": []
    },
    {
      "cell_type": "markdown",
      "metadata": {
        "id": "nEx5y_hd5jz4"
      },
      "source": [
        "# Malaylam Dataset "
      ]
    },
    {
      "cell_type": "code",
      "metadata": {
        "colab": {
          "base_uri": "https://localhost:8080/"
        },
        "id": "MA7sCQIq5jz6",
        "outputId": "55267c9d-0cd6-42ef-b968-7a959658df5a"
      },
      "source": [
        "%%time\n",
        "train_data = pd.read_csv(dataset_path + \"mal_full_offensive_train.csv\",delimiter='\\t',header = None)\n",
        "valid_data = pd.read_csv(dataset_path + \"mal_full_offensive_dev.csv\",delimiter='\\t',header = None)\n",
        "test_data = pd.read_csv(dataset_path + \"mal_full_offensive_test.csv\",delimiter='\\t',header = None)"
      ],
      "execution_count": null,
      "outputs": [
        {
          "output_type": "stream",
          "text": [
            "CPU times: user 40.4 ms, sys: 4.78 ms, total: 45.1 ms\n",
            "Wall time: 1.59 s\n"
          ],
          "name": "stdout"
        }
      ]
    },
    {
      "cell_type": "code",
      "metadata": {
        "id": "VWg7xsse5jz7"
      },
      "source": [
        "train_data = train_data.drop(columns=2)\n",
        "train_data = train_data.rename(columns={0:'text',1:'label'})\n",
        "valid_data = valid_data.drop(columns=2)\n",
        "valid_data = valid_data.rename(columns={0:'text',1:'label'})\n",
        "test_data = test_data.rename(columns={0:'text'})"
      ],
      "execution_count": null,
      "outputs": []
    },
    {
      "cell_type": "code",
      "metadata": {
        "id": "BTF67Kxl6oIv",
        "colab": {
          "base_uri": "https://localhost:8080/"
        },
        "outputId": "3852849c-2c64-428c-e5ca-7fab90edd9d2"
      },
      "source": [
        "train_data['label'].value_counts()"
      ],
      "execution_count": null,
      "outputs": [
        {
          "output_type": "execute_result",
          "data": {
            "text/plain": [
              "Not_offensive                           14153\n",
              "not-malayalam                            1287\n",
              "Offensive_Targeted_Insult_Individual      239\n",
              "Offensive_Untargetede                     191\n",
              "Offensive_Targeted_Insult_Group           140\n",
              "Name: label, dtype: int64"
            ]
          },
          "metadata": {
            "tags": []
          },
          "execution_count": 9
        }
      ]
    },
    {
      "cell_type": "code",
      "metadata": {
        "colab": {
          "base_uri": "https://localhost:8080/"
        },
        "id": "RZgLJkSgYSGK",
        "outputId": "e33aabdc-7b82-4e16-f8c0-8fce6ac53a05"
      },
      "source": [
        "valid_data['label'].value_counts()"
      ],
      "execution_count": null,
      "outputs": [
        {
          "output_type": "execute_result",
          "data": {
            "text/plain": [
              "Not_offensive                           1779\n",
              "not-malayalam                            163\n",
              "Offensive_Targeted_Insult_Individual      24\n",
              "Offensive_Untargetede                     20\n",
              "Offensive_Targeted_Insult_Group           13\n",
              "Name: label, dtype: int64"
            ]
          },
          "metadata": {
            "tags": []
          },
          "execution_count": 10
        }
      ]
    },
    {
      "cell_type": "code",
      "metadata": {
        "id": "aromaY7U5jz8"
      },
      "source": [
        "train_data['enc_label'] = train_data['label'].replace({'Not_offensive':0, 'not-malayalam':1,'Offensive_Targeted_Insult_Individual':2\n",
        "                                                       ,'Offensive_Untargetede':3,'Offensive_Targeted_Insult_Group':4\n",
        "                                                       })\n",
        "valid_data['enc_label'] = valid_data['label'].replace({'Not_offensive':0, 'not-malayalam':1,'Offensive_Targeted_Insult_Individual':2\n",
        "                                                       ,'Offensive_Untargetede':3,'Offensive_Targeted_Insult_Group':4\n",
        "                                                       })"
      ],
      "execution_count": null,
      "outputs": []
    },
    {
      "cell_type": "code",
      "metadata": {
        "id": "lWsqKIUu5jz8",
        "colab": {
          "base_uri": "https://localhost:8080/",
          "height": 419
        },
        "outputId": "06aa52d2-e7d9-4a85-ea5c-047d54a5bf24"
      },
      "source": [
        "train_data"
      ],
      "execution_count": null,
      "outputs": [
        {
          "output_type": "execute_result",
          "data": {
            "text/html": [
              "<div>\n",
              "<style scoped>\n",
              "    .dataframe tbody tr th:only-of-type {\n",
              "        vertical-align: middle;\n",
              "    }\n",
              "\n",
              "    .dataframe tbody tr th {\n",
              "        vertical-align: top;\n",
              "    }\n",
              "\n",
              "    .dataframe thead th {\n",
              "        text-align: right;\n",
              "    }\n",
              "</style>\n",
              "<table border=\"1\" class=\"dataframe\">\n",
              "  <thead>\n",
              "    <tr style=\"text-align: right;\">\n",
              "      <th></th>\n",
              "      <th>text</th>\n",
              "      <th>label</th>\n",
              "      <th>enc_label</th>\n",
              "    </tr>\n",
              "  </thead>\n",
              "  <tbody>\n",
              "    <tr>\n",
              "      <th>0</th>\n",
              "      <td>പലദേശം. പല ഭാഷ ഒരേ ഒരു രാജാവ്  അല്ലാതെ  സ്വന്ത...</td>\n",
              "      <td>Not_offensive</td>\n",
              "      <td>0</td>\n",
              "    </tr>\n",
              "    <tr>\n",
              "      <th>1</th>\n",
              "      <td>ഈ ഓണം ഏട്ടനും പിള്ളേർക്ക് ഉള്ളതാണ് എന്ന് ഉള്ളവ...</td>\n",
              "      <td>Not_offensive</td>\n",
              "      <td>0</td>\n",
              "    </tr>\n",
              "    <tr>\n",
              "      <th>2</th>\n",
              "      <td>ആരണ്ട ആരണ്ട തലുണ്ടാകാണാ ആരണ്ട ഞാൻ ആണ്ട ഞാൻ ആണ്...</td>\n",
              "      <td>Not_offensive</td>\n",
              "      <td>0</td>\n",
              "    </tr>\n",
              "    <tr>\n",
              "      <th>3</th>\n",
              "      <td>Sushin syam  Shaiju khalid  Midhun manual</td>\n",
              "      <td>Not_offensive</td>\n",
              "      <td>0</td>\n",
              "    </tr>\n",
              "    <tr>\n",
              "      <th>4</th>\n",
              "      <td>J A K E S.   B EJ O Y !!!</td>\n",
              "      <td>Not_offensive</td>\n",
              "      <td>0</td>\n",
              "    </tr>\n",
              "    <tr>\n",
              "      <th>...</th>\n",
              "      <td>...</td>\n",
              "      <td>...</td>\n",
              "      <td>...</td>\n",
              "    </tr>\n",
              "    <tr>\n",
              "      <th>16005</th>\n",
              "      <td>കട്ട ലാലേട്ടൻ ഫാൻസിന് ദൈവത്തെ ഓർത്ത് അമിത പ്രത...</td>\n",
              "      <td>Not_offensive</td>\n",
              "      <td>0</td>\n",
              "    </tr>\n",
              "    <tr>\n",
              "      <th>16006</th>\n",
              "      <td>ente mammookka ningal puliyalla oru simhama......</td>\n",
              "      <td>Not_offensive</td>\n",
              "      <td>0</td>\n",
              "    </tr>\n",
              "    <tr>\n",
              "      <th>16007</th>\n",
              "      <td>Lucifer mass dialogues Ellam onnu comment chey...</td>\n",
              "      <td>Not_offensive</td>\n",
              "      <td>0</td>\n",
              "    </tr>\n",
              "    <tr>\n",
              "      <th>16008</th>\n",
              "      <td>Like from Madurai (Tamil nadu) ....</td>\n",
              "      <td>not-malayalam</td>\n",
              "      <td>1</td>\n",
              "    </tr>\n",
              "    <tr>\n",
              "      <th>16009</th>\n",
              "      <td>അടിമകൾ ആയി ജീവിച്ചു മാറിക്കയല്ല ചാവേറായി ചാവാറ...</td>\n",
              "      <td>Not_offensive</td>\n",
              "      <td>0</td>\n",
              "    </tr>\n",
              "  </tbody>\n",
              "</table>\n",
              "<p>16010 rows × 3 columns</p>\n",
              "</div>"
            ],
            "text/plain": [
              "                                                    text  ... enc_label\n",
              "0      പലദേശം. പല ഭാഷ ഒരേ ഒരു രാജാവ്  അല്ലാതെ  സ്വന്ത...  ...         0\n",
              "1      ഈ ഓണം ഏട്ടനും പിള്ളേർക്ക് ഉള്ളതാണ് എന്ന് ഉള്ളവ...  ...         0\n",
              "2      ആരണ്ട ആരണ്ട തലുണ്ടാകാണാ ആരണ്ട ഞാൻ ആണ്ട ഞാൻ ആണ്...  ...         0\n",
              "3              Sushin syam  Shaiju khalid  Midhun manual  ...         0\n",
              "4                              J A K E S.   B EJ O Y !!!  ...         0\n",
              "...                                                  ...  ...       ...\n",
              "16005  കട്ട ലാലേട്ടൻ ഫാൻസിന് ദൈവത്തെ ഓർത്ത് അമിത പ്രത...  ...         0\n",
              "16006  ente mammookka ningal puliyalla oru simhama......  ...         0\n",
              "16007  Lucifer mass dialogues Ellam onnu comment chey...  ...         0\n",
              "16008                Like from Madurai (Tamil nadu) ....  ...         1\n",
              "16009  അടിമകൾ ആയി ജീവിച്ചു മാറിക്കയല്ല ചാവേറായി ചാവാറ...  ...         0\n",
              "\n",
              "[16010 rows x 3 columns]"
            ]
          },
          "metadata": {
            "tags": []
          },
          "execution_count": 12
        }
      ]
    },
    {
      "cell_type": "code",
      "metadata": {
        "id": "bHhVGuZC5jz9"
      },
      "source": [
        "train_data['text'].tolist()"
      ],
      "execution_count": null,
      "outputs": []
    },
    {
      "cell_type": "code",
      "metadata": {
        "colab": {
          "base_uri": "https://localhost:8080/"
        },
        "id": "5avB-UT95jz-",
        "outputId": "793f05bc-9e5d-4750-ee6d-7169fa389534"
      },
      "source": [
        "train_data['enc_label'].value_counts()"
      ],
      "execution_count": null,
      "outputs": [
        {
          "output_type": "execute_result",
          "data": {
            "text/plain": [
              "0    14153\n",
              "1     1287\n",
              "2      239\n",
              "3      191\n",
              "4      140\n",
              "Name: enc_label, dtype: int64"
            ]
          },
          "metadata": {
            "tags": []
          },
          "execution_count": 104
        }
      ]
    },
    {
      "cell_type": "code",
      "metadata": {
        "colab": {
          "base_uri": "https://localhost:8080/"
        },
        "id": "iRWQ71955jz_",
        "outputId": "35908876-3b5c-4a6e-9c38-fdb918cfc06f"
      },
      "source": [
        "valid_data['enc_label'].value_counts()"
      ],
      "execution_count": null,
      "outputs": [
        {
          "output_type": "execute_result",
          "data": {
            "text/plain": [
              "0    1779\n",
              "1     163\n",
              "2      24\n",
              "3      20\n",
              "4      13\n",
              "Name: enc_label, dtype: int64"
            ]
          },
          "metadata": {
            "tags": []
          },
          "execution_count": 105
        }
      ]
    },
    {
      "cell_type": "code",
      "metadata": {
        "colab": {
          "base_uri": "https://localhost:8080/"
        },
        "id": "TZd6Bfhg5jz_",
        "outputId": "89a11e43-d4f4-4e68-b070-452e77ea2303"
      },
      "source": [
        "print(\"Size of the training data ==> \", train_data.shape)\n",
        "print(\"Size of the validation data ==>\", valid_data.shape)\n",
        "print(\"Size of the Test data ==>\", test_data.shape)"
      ],
      "execution_count": null,
      "outputs": [
        {
          "output_type": "stream",
          "text": [
            "Size of the training data ==>  (16010, 3)\n",
            "Size of the validation data ==> (1999, 3)\n",
            "Size of the Test data ==> (2001, 1)\n"
          ],
          "name": "stdout"
        }
      ]
    },
    {
      "cell_type": "markdown",
      "metadata": {
        "id": "GT5ZJUtQ5j0A"
      },
      "source": [
        "## One Hot Encoding"
      ]
    },
    {
      "cell_type": "code",
      "metadata": {
        "id": "_QNf7eTG5j0A"
      },
      "source": [
        "import pandas as pd\n",
        "from sklearn.preprocessing import OneHotEncoder"
      ],
      "execution_count": null,
      "outputs": []
    },
    {
      "cell_type": "code",
      "metadata": {
        "id": "-ZCuxD8V5j0B"
      },
      "source": [
        "encoder=OneHotEncoder(sparse=False)\n",
        "\n",
        "encoded_labels = pd.DataFrame (encoder.fit_transform(train_data[['label']]))\n",
        "\n",
        "encoded_labels .columns = encoder.get_feature_names(['label'])\n",
        "\n",
        "train_data= pd.concat([train_data, encoded_labels ], axis=1)"
      ],
      "execution_count": null,
      "outputs": []
    },
    {
      "cell_type": "code",
      "metadata": {
        "colab": {
          "base_uri": "https://localhost:8080/"
        },
        "id": "412Ww432ZCHQ",
        "outputId": "05736cc9-f647-447e-9ce5-44c099402b3d"
      },
      "source": [
        "train_data.columns"
      ],
      "execution_count": null,
      "outputs": [
        {
          "output_type": "execute_result",
          "data": {
            "text/plain": [
              "Index(['text', 'label', 'enc_label', 'label_Not_offensive',\n",
              "       'label_Offensive_Targeted_Insult_Group',\n",
              "       'label_Offensive_Targeted_Insult_Individual',\n",
              "       'label_Offensive_Untargetede', 'label_not-malayalam'],\n",
              "      dtype='object')"
            ]
          },
          "metadata": {
            "tags": []
          },
          "execution_count": 109
        }
      ]
    },
    {
      "cell_type": "code",
      "metadata": {
        "id": "3OsooT245j0B"
      },
      "source": [
        "train_data = train_data.rename(columns={'label_Not_offensive':'Not_offensive','label_Offensive_Targeted_Insult_Group':'Offensive_Targeted_Insult_Group',\n",
        "       'label_Offensive_Targeted_Insult_Individual':'Offensive_Targeted_Insult_Individual',\n",
        "       'label_Offensive_Untargetede':'Offensive_Untargetede', 'label_not-malayalam':'not-malayalam'})\n",
        "train_data"
      ],
      "execution_count": null,
      "outputs": []
    },
    {
      "cell_type": "markdown",
      "metadata": {
        "id": "4k-zEqP85j0C"
      },
      "source": [
        "## Cleaning"
      ]
    },
    {
      "cell_type": "code",
      "metadata": {
        "id": "_f9lhcKC5j0C"
      },
      "source": [
        "'''\n",
        "Text Cleaning\n",
        "'''\n",
        "def text_cleaning(row):\n",
        "  # to remove HTML tags\n",
        "  text = BeautifulSoup(row, 'html.parser').get_text()\n",
        "  d = re.sub(r'(https|http)?:\\/\\/(\\w|\\.|\\/|\\?|\\=|\\&|\\%)*\\b', '', text, flags=re.MULTILINE) #This line is for removing url\n",
        "  post = d.replace('\\n', '')\n",
        "  post = post.replace('—', ' ')\n",
        "  # to remove accented characters\n",
        "  new_text = unicodedata.normalize('NFKD', post).encode('ascii', 'ignore').decode('utf-8', 'ignore')\n",
        "  #to remove punctuation\n",
        "  text = ''.join([c for c in text if c not in string.punctuation])\n",
        "  # to remove special characters\n",
        "  pattern = r'^\\s*|\\s\\s*'\n",
        "  text = re.sub(pattern, ' ', text).strip()\n",
        "  # convert into lower case\n",
        "  text = text.lower() \n",
        "  # Stopword Removing\n",
        "  tokenizer = ToktokTokenizer()\n",
        "  # convert sentence into token of words\n",
        "  tokens = tokenizer.tokenize(text)\n",
        "  tokens = [token.strip() for token in tokens]\n",
        " \n",
        "\n",
        "  return text\n",
        "\n"
      ],
      "execution_count": null,
      "outputs": []
    },
    {
      "cell_type": "code",
      "metadata": {
        "colab": {
          "base_uri": "https://localhost:8080/"
        },
        "id": "mH5l-uWX5j0D",
        "outputId": "474c438c-c1dd-4931-fb62-84635f0517fd"
      },
      "source": [
        "#removing URLs and Punctuations\n",
        "#train_data['cleaned'] = train_data['tweet'].apply(remove_url)\n",
        "#Removing punctuations\n",
        "train_data['cleaned'] = train_data['text'].apply(text_cleaning)\n",
        "valid_data['cleaned'] = valid_data['text'].apply(text_cleaning)\n",
        "test_data['cleaned'] = test_data['text'].apply(text_cleaning)\n",
        "\n",
        "\n",
        "## Data samples after cleaning\n",
        "print(\"Data samples after cleaning:\\n\")\n",
        "for i in range(10):\n",
        "  print(\"Original Data:===\\n\",train_data.text[i],\"\\nCleaned Data:===\\n\",train_data.cleaned[i],)"
      ],
      "execution_count": null,
      "outputs": [
        {
          "output_type": "stream",
          "text": [
            "Data samples after cleaning:\n",
            "\n",
            "Original Data:===\n",
            " പലദേശം. പല ഭാഷ ഒരേ ഒരു രാജാവ്  അല്ലാതെ  സ്വന്തം രാജവയത് അല്ല \n",
            "Cleaned Data:===\n",
            " പലദേശം പല ഭാഷ ഒരേ ഒരു രാജാവ് അല്ലാതെ സ്വന്തം രാജവയത് അല്ല\n",
            "Original Data:===\n",
            " ഈ ഓണം ഏട്ടനും പിള്ളേർക്ക് ഉള്ളതാണ് എന്ന് ഉള്ളവർ ലൈക്‌ അടി \n",
            "Cleaned Data:===\n",
            " ഈ ഓണം ഏട്ടനും പിള്ളേർക്ക് ഉള്ളതാണ് എന്ന് ഉള്ളവർ ലൈക്‌ അടി\n",
            "Original Data:===\n",
            " ആരണ്ട ആരണ്ട തലുണ്ടാകാണാ ആരണ്ട ഞാൻ ആണ്ട ഞാൻ ആണ്ട ഞാൻ Royal Mech ആടാ  ആരണ്ട ആരണ്ട മീശ പിരിക്കുന്ന ആരണ്ട ഞാൻ ആണ്ട ഞാൻ ആണ്ട ഞാൻ royal Mech ആടാ \n",
            "Cleaned Data:===\n",
            " ആരണ്ട ആരണ്ട തലുണ്ടാകാണാ ആരണ്ട ഞാൻ ആണ്ട ഞാൻ ആണ്ട ഞാൻ royal mech ആടാ ആരണ്ട ആരണ്ട മീശ പിരിക്കുന്ന ആരണ്ട ഞാൻ ആണ്ട ഞാൻ ആണ്ട ഞാൻ royal mech ആടാ\n",
            "Original Data:===\n",
            " Sushin syam  Shaiju khalid  Midhun manual \n",
            "Cleaned Data:===\n",
            " sushin syam shaiju khalid midhun manual\n",
            "Original Data:===\n",
            " J A K E S.   B EJ O Y !!! \n",
            "Cleaned Data:===\n",
            " j a k e s b ej o y\n",
            "Original Data:===\n",
            " Pwoli item padam kananda ennu karuthiyatha pakshe ini kaanum \n",
            "Cleaned Data:===\n",
            " pwoli item padam kananda ennu karuthiyatha pakshe ini kaanum\n",
            "Original Data:===\n",
            " Oru ratchasan feel kittitu ullalo. Bgm athra adipoliyano \n",
            "Cleaned Data:===\n",
            " oru ratchasan feel kittitu ullalo bgm athra adipoliyano\n",
            "Original Data:===\n",
            " Super casting \n",
            "Cleaned Data:===\n",
            " super casting\n",
            "Original Data:===\n",
            " ഷൈലോക്ക് ന്റെ നല്ല ടീസർ ആയിട്ട് പോലും ട്രോളി നടന്ന ലാലേട്ടൻ ഫാൻസിന് കിട്ടിയൊരു നല്ലൊരു തിരിച്ചടി തന്നെ ആയിരിന്നു ബിഗ് ബ്രദർ ന്റെ ട്രെയ്‌ലർ \n",
            "Cleaned Data:===\n",
            " ഷൈലോക്ക് ന്റെ നല്ല ടീസർ ആയിട്ട് പോലും ട്രോളി നടന്ന ലാലേട്ടൻ ഫാൻസിന് കിട്ടിയൊരു നല്ലൊരു തിരിച്ചടി തന്നെ ആയിരിന്നു ബിഗ് ബ്രദർ ന്റെ ട്രെയ്‌ലർ\n",
            "Original Data:===\n",
            " ന്റമ്മോ ഇജ്ജാതി trailor.. Uffftrailor ethegilum.. Padam. Pwoliyo pwoli \n",
            "Cleaned Data:===\n",
            " ന്റമ്മോ ഇജ്ജാതി trailor uffftrailor ethegilum padam pwoliyo pwoli\n"
          ],
          "name": "stdout"
        }
      ]
    },
    {
      "cell_type": "code",
      "metadata": {
        "colab": {
          "base_uri": "https://localhost:8080/"
        },
        "id": "fHeDYWEL5j0D",
        "outputId": "35a51d44-d90a-409f-8e1f-f37c115d73a4"
      },
      "source": [
        "valid_data['cleaned'].shape"
      ],
      "execution_count": null,
      "outputs": [
        {
          "output_type": "execute_result",
          "data": {
            "text/plain": [
              "(2843,)"
            ]
          },
          "metadata": {
            "tags": []
          },
          "execution_count": 97
        }
      ]
    },
    {
      "cell_type": "markdown",
      "metadata": {
        "id": "Gk37oS215j0E"
      },
      "source": [
        "## Data Statistics"
      ]
    },
    {
      "cell_type": "code",
      "metadata": {
        "id": "gwd-WgU-5j0E"
      },
      "source": [
        "def char_length(row):\n",
        "    return len(row.split())"
      ],
      "execution_count": null,
      "outputs": []
    },
    {
      "cell_type": "code",
      "metadata": {
        "id": "ixkIr27W5j0F"
      },
      "source": [
        "lables = ['Not_offensive','Offensive_Targeted_Insult_Group', 'Offensive_Targeted_Insult_Individual', \n",
        "          'Offensive_Untargetede',\n",
        "          'not-malayalam']\n",
        "\n",
        "# Count number of unique words in each set\n",
        "def dataset_statistics(dataset):\n",
        "  for l in lables:\n",
        "    word_list = [word.strip() for t in list(dataset[dataset[l]==1.0].cleaned) for word in t.strip().split()]\n",
        "    print(f\"\\nClass Name:--> {l} \") \n",
        "    print(\"Number of Words:{}\".format(len(word_list))) \n",
        "    print(\"Number of Unique Words:{}\".format(len(np.unique(word_list)))) \n",
        "    print(\"Maximum post length: {}\".format(max(dataset[dataset[l]==1.0].cleaned.apply(char_length))))\n",
        "    print(\"Average Words in texts: {}\".format(np.mean(dataset[dataset[l]==1.0].cleaned.apply(char_length))))\n",
        "    "
      ],
      "execution_count": null,
      "outputs": []
    },
    {
      "cell_type": "code",
      "metadata": {
        "id": "rhz4Lfzt8caP"
      },
      "source": [
        "train_data"
      ],
      "execution_count": null,
      "outputs": []
    },
    {
      "cell_type": "code",
      "metadata": {
        "colab": {
          "base_uri": "https://localhost:8080/"
        },
        "id": "K-cSSNa55j0F",
        "outputId": "d9649ff7-0753-440f-d446-063977e24960"
      },
      "source": [
        "dataset_statistics(train_data)"
      ],
      "execution_count": null,
      "outputs": [
        {
          "output_type": "stream",
          "text": [
            "\n",
            "Class Name:--> Not_offensive \n",
            "Number of Words:128830\n",
            "Number of Unique Words:30002\n",
            "Maximum post length: 186\n",
            "Average Words in texts: 9.102663746202218\n",
            "\n",
            "Class Name:--> Offensive_Targeted_Insult_Group \n",
            "Number of Words:1292\n",
            "Number of Unique Words:746\n",
            "Maximum post length: 26\n",
            "Average Words in texts: 9.228571428571428\n",
            "\n",
            "Class Name:--> Offensive_Targeted_Insult_Individual \n",
            "Number of Words:2886\n",
            "Number of Unique Words:1526\n",
            "Maximum post length: 55\n",
            "Average Words in texts: 12.07531380753138\n",
            "\n",
            "Class Name:--> Offensive_Untargetede \n",
            "Number of Words:1874\n",
            "Number of Unique Words:1152\n",
            "Maximum post length: 55\n",
            "Average Words in texts: 9.811518324607329\n",
            "\n",
            "Class Name:--> not-malayalam \n",
            "Number of Words:9136\n",
            "Number of Unique Words:2208\n",
            "Maximum post length: 24\n",
            "Average Words in texts: 7.098679098679098\n"
          ],
          "name": "stdout"
        }
      ]
    },
    {
      "cell_type": "markdown",
      "metadata": {
        "id": "HlbmP2vr5j0G"
      },
      "source": [
        "## Tweets length per class"
      ]
    },
    {
      "cell_type": "code",
      "metadata": {
        "id": "aO9bpAaY5j0G"
      },
      "source": [
        "def comments_length_per_class(dataset,set_name):\n",
        "  label = dataset[['Not_offensive',\n",
        "       'Offensive_Targeted_Insult_Group',\n",
        "       'Offensive_Targeted_Insult_Individual', 'Offensive_Untargetede',\n",
        "       'not-malayalam']]\n",
        "  label = label.values\n",
        "  comment = dataset['cleaned']\n",
        "  comment = comment.values\n",
        "  y = np.zeros(label.shape)\n",
        "  for ix in range(comment.shape[0]):\n",
        "      l = len(comment[ix].split())\n",
        "      if label[ix][0] :\n",
        "          y[ix][0] = l\n",
        "      if label[ix][1] :\n",
        "          y[ix][1] = l\n",
        "  #color = ['red','green','blue','yellow','chartreuse'] \n",
        "  labelsplt = ['Not_offensive',\n",
        "       'Offensive_Targeted_Insult_Group',\n",
        "       'Offensive_Targeted_Insult_Individual', 'Offensive_Untargetede',\n",
        "       'not-malayalam']\n",
        "  color = ['green','red','yellow']    \n",
        "  bins = [1,20,40,60,80]   \n",
        "  plt.figure(figsize=(5,3)) \n",
        "  #plt.title ('Tweets Length Distribution Per Class')\n",
        "  plt.hist(y,bins = bins,label = labelsplt,color = color)\n",
        "  plt.axis([0, 80, 0, 17000])\n",
        "  plt.xlabel('Length of texts')\n",
        "  plt.ylabel('Number of texts') \n",
        "  plt.legend()\n",
        "  #plt.savefig(path+'real-fake_no_title.png',dpi = 600,bbox_inches ='tight')\n",
        "  #plt.grid(True)\n",
        "  plt.show()"
      ],
      "execution_count": null,
      "outputs": []
    },
    {
      "cell_type": "code",
      "metadata": {
        "colab": {
          "base_uri": "https://localhost:8080/",
          "height": 225
        },
        "id": "MjWnQYa_5j0H",
        "outputId": "5c00e770-0312-4e95-accd-5cce790a10c1"
      },
      "source": [
        "comments_length_per_class(OH_X_train,'Training')"
      ],
      "execution_count": null,
      "outputs": [
        {
          "output_type": "display_data",
          "data": {
            "image/png": "[encoded data removed]",
            "text/plain": [
              "<Figure size 360x216 with 1 Axes>"
            ]
          },
          "metadata": {
            "tags": [],
            "needs_background": "light"
          }
        }
      ]
    },
    {
      "cell_type": "markdown",
      "metadata": {
        "id": "eDhJ_ulc5j0H"
      },
      "source": [
        "##Ktrain -BERT\n",
        "\n",
        "1. [Text Classification Using Transformers](https://nbviewer.jupyter.org/github/amaiya/ktrain/blob/master/tutorials/tutorial-A3-hugging_face_transformers.ipynb)\n",
        "\n",
        "2. [Related Article](https://towardsdatascience.com/text-classification-with-hugging-face-transformers-in-tensorflow-2-without-tears-ee50e4f3e7ed)\n",
        "\n",
        "3. [Ktrain](https://github.com/amaiya/ktrain)"
      ]
    },
    {
      "cell_type": "code",
      "metadata": {
        "id": "SavvuaBm5j0I"
      },
      "source": [
        "pip install ktrain"
      ],
      "execution_count": null,
      "outputs": []
    },
    {
      "cell_type": "code",
      "metadata": {
        "id": "titrxsEE5j0I"
      },
      "source": [
        "%reload_ext autoreload\n",
        "%autoreload 2\n",
        "%matplotlib inline\n",
        "import os\n",
        "os.environ[\"CUDA_DEVICE_ORDER\"] = \"PCI_BUS_ID\"\n",
        "os.environ[\"CUDA_VISIBLE_DEVICES\"] = \"0\""
      ],
      "execution_count": null,
      "outputs": []
    },
    {
      "cell_type": "code",
      "metadata": {
        "id": "gSD43daT5j0I"
      },
      "source": [
        "import ktrain\n",
        "from ktrain import text"
      ],
      "execution_count": null,
      "outputs": []
    },
    {
      "cell_type": "code",
      "metadata": {
        "colab": {
          "base_uri": "https://localhost:8080/"
        },
        "id": "8Zyob8h45j0J",
        "outputId": "121e21b0-b864-4e19-dd68-2669861bab52"
      },
      "source": [
        "train_data['label'].value_counts()"
      ],
      "execution_count": null,
      "outputs": [
        {
          "output_type": "execute_result",
          "data": {
            "text/plain": [
              "Not_offensive                           14153\n",
              "not-malayalam                            1287\n",
              "Offensive_Targeted_Insult_Individual      239\n",
              "Offensive_Untargetede                     191\n",
              "Offensive_Targeted_Insult_Group           140\n",
              "Name: label, dtype: int64"
            ]
          },
          "metadata": {
            "tags": []
          },
          "execution_count": 22
        }
      ]
    },
    {
      "cell_type": "code",
      "metadata": {
        "colab": {
          "base_uri": "https://localhost:8080/"
        },
        "id": "SskDgTc75j0J",
        "outputId": "504d0df5-db91-4a56-9171-6984a649d226"
      },
      "source": [
        "valid_data['label'].value_counts()"
      ],
      "execution_count": null,
      "outputs": [
        {
          "output_type": "execute_result",
          "data": {
            "text/plain": [
              "Not_offensive                           1779\n",
              "not-malayalam                            163\n",
              "Offensive_Targeted_Insult_Individual      24\n",
              "Offensive_Untargetede                     20\n",
              "Offensive_Targeted_Insult_Group           13\n",
              "Name: label, dtype: int64"
            ]
          },
          "metadata": {
            "tags": []
          },
          "execution_count": 23
        }
      ]
    },
    {
      "cell_type": "code",
      "metadata": {
        "id": "KMhmXN0u5j0K"
      },
      "source": [
        "categories = ['Not_offensive',\n",
        "       'Offensive_Targeted_Insult_Group',\n",
        "       'Offensive_Targeted_Insult_Individual', 'Offensive_Untargetede',\n",
        "       'not-malayalam']"
      ],
      "execution_count": null,
      "outputs": []
    },
    {
      "cell_type": "code",
      "metadata": {
        "id": "0YcKPdU05j0K"
      },
      "source": [
        "X_train = train_data['text'].tolist()\n",
        "y_train = train_data['label'].tolist()\n",
        "\n",
        "X_valid = valid_data['text'].tolist()\n",
        "y_valid = valid_data['label'].tolist()\n",
        "\n",
        "X_test = test_data['text'].tolist()\n",
        "#y_test = test_data['label'].tolist()"
      ],
      "execution_count": null,
      "outputs": []
    },
    {
      "cell_type": "code",
      "metadata": {
        "id": "UN1r3b4y3xqF",
        "colab": {
          "base_uri": "https://localhost:8080/"
        },
        "outputId": "ded1b39d-23cd-4744-cd85-502ee23825e3"
      },
      "source": [
        "np.unique(y_train)"
      ],
      "execution_count": null,
      "outputs": [
        {
          "output_type": "execute_result",
          "data": {
            "text/plain": [
              "array(['Not_offensive', 'Offensive_Targeted_Insult_Group',\n",
              "       'Offensive_Targeted_Insult_Individual', 'Offensive_Untargetede',\n",
              "       'not-malayalam'], dtype='<U36')"
            ]
          },
          "metadata": {
            "tags": []
          },
          "execution_count": 26
        }
      ]
    },
    {
      "cell_type": "code",
      "metadata": {
        "id": "V4QSMWzg5j0M"
      },
      "source": [
        "# 'bert-base-uncased'\n",
        "# 'bert-base-multilingual-cased'\n",
        "# 'distilbert-base-uncased'\n",
        "# 'ai4bharat/indic-bert'\n",
        "# 'albert-base-v2'\n",
        "# 'xlm-roberta-base'\n",
        "# 'xlnet-base-cased'\n"
      ],
      "execution_count": null,
      "outputs": []
    },
    {
      "cell_type": "code",
      "metadata": {
        "id": "vaFGPCb45j0M",
        "colab": {
          "base_uri": "https://localhost:8080/",
          "height": 66,
          "referenced_widgets": [
            "ee4728065d9a43088c21d00bde58c50c",
            "05a24c48ef9f4455afddfb7e18a044bf",
            "f910c7f706554009ab1e1297d89658e7",
            "1f35deed70b44b5e9e98fd324b19a79e",
            "d258fb2b5e9a4431b1ca28663e901e27",
            "569c4b10116c45b3b7ea9f828e0d81e4",
            "3dc4ba2f680f4c6b8c661c9efe509d0d",
            "ed91baabaa1d4ea19f423910ec100928"
          ]
        },
        "outputId": "46e56438-aba8-417e-b333-e8a9b7d8d23b"
      },
      "source": [
        "model_name = 'bert-base-multilingual-cased'\n",
        "trans = text.Transformer(model_name,maxlen=50,class_names=categories)"
      ],
      "execution_count": null,
      "outputs": [
        {
          "output_type": "display_data",
          "data": {
            "application/vnd.jupyter.widget-view+json": {
              "model_id": "ee4728065d9a43088c21d00bde58c50c",
              "version_minor": 0,
              "version_major": 2
            },
            "text/plain": [
              "HBox(children=(FloatProgress(value=0.0, description='Downloading', max=625.0, style=ProgressStyle(description_…"
            ]
          },
          "metadata": {
            "tags": []
          }
        },
        {
          "output_type": "stream",
          "text": [
            "\n"
          ],
          "name": "stdout"
        }
      ]
    },
    {
      "cell_type": "code",
      "metadata": {
        "colab": {
          "base_uri": "https://localhost:8080/",
          "height": 336,
          "referenced_widgets": [
            "ff1658ec56054a9e9c6b57ed5453214f",
            "0f7857f9f5264372b927bc95a01b0216",
            "ad06101d9953427f842a31e8d7a8cc40",
            "2bb808105e4040ad80e3206336b87d8d",
            "95e8cfc8106a4b91a0ae124d52e90044",
            "194b861177224f5d8994f8c98b46c993",
            "db9260d5d27d44ca9ad2687abfff7f00",
            "b68d927b28bd45d7940624620158969f",
            "a2589e3b8e2a4cecb7553d116b3481ed",
            "2b80cd21fad14e54b8e4ce905e5ec51e",
            "032e69f4d4d44da784603ea00c53d16f",
            "bdb3d0bbd25a45f6a89d83ceef268b8a",
            "13df2039d08b48a689b2337d07bdc771",
            "31b6464219084e1aa36e2d82cb22d1cf",
            "b8432be1d33d4aeba506578b0d71624f",
            "10fce2f22b6a43249b710f931d478a39"
          ]
        },
        "id": "5RF8qowF5j0N",
        "outputId": "2aeb88a6-1459-4f23-aed6-07ca24619384"
      },
      "source": [
        "train = trans.preprocess_train(X_train,y_train)\n",
        "valid = trans.preprocess_test(X_valid,y_valid)\n",
        "#test = trans.preprocess_test(X_test,y_test)\n"
      ],
      "execution_count": null,
      "outputs": [
        {
          "output_type": "stream",
          "text": [
            "preprocessing train...\n",
            "language: ml\n",
            "train sequence lengths:\n",
            "\tmean : 9\n",
            "\t95percentile : 18\n",
            "\t99percentile : 31\n"
          ],
          "name": "stdout"
        },
        {
          "output_type": "display_data",
          "data": {
            "application/vnd.jupyter.widget-view+json": {
              "model_id": "ff1658ec56054a9e9c6b57ed5453214f",
              "version_minor": 0,
              "version_major": 2
            },
            "text/plain": [
              "HBox(children=(FloatProgress(value=0.0, description='Downloading', max=995526.0, style=ProgressStyle(descripti…"
            ]
          },
          "metadata": {
            "tags": []
          }
        },
        {
          "output_type": "stream",
          "text": [
            "\n"
          ],
          "name": "stdout"
        },
        {
          "output_type": "display_data",
          "data": {
            "application/vnd.jupyter.widget-view+json": {
              "model_id": "a2589e3b8e2a4cecb7553d116b3481ed",
              "version_minor": 0,
              "version_major": 2
            },
            "text/plain": [
              "HBox(children=(FloatProgress(value=0.0, description='Downloading', max=1961828.0, style=ProgressStyle(descript…"
            ]
          },
          "metadata": {
            "tags": []
          }
        },
        {
          "output_type": "stream",
          "text": [
            "\n"
          ],
          "name": "stdout"
        },
        {
          "output_type": "display_data",
          "data": {
            "text/html": [
              ""
            ],
            "text/plain": [
              "<IPython.core.display.HTML object>"
            ]
          },
          "metadata": {
            "tags": []
          }
        },
        {
          "output_type": "stream",
          "text": [
            "Is Multi-Label? False\n",
            "preprocessing test...\n",
            "language: ml\n",
            "test sequence lengths:\n",
            "\tmean : 9\n",
            "\t95percentile : 18\n",
            "\t99percentile : 34\n"
          ],
          "name": "stdout"
        },
        {
          "output_type": "display_data",
          "data": {
            "text/html": [
              ""
            ],
            "text/plain": [
              "<IPython.core.display.HTML object>"
            ]
          },
          "metadata": {
            "tags": []
          }
        }
      ]
    },
    {
      "cell_type": "code",
      "metadata": {
        "id": "VzL-41wy5j0N",
        "colab": {
          "base_uri": "https://localhost:8080/",
          "height": 66,
          "referenced_widgets": [
            "d4568328a3c34134ac22cd298a9bb6bc",
            "e82acb6fb1b74ad5a1bb4a64f0301fe3",
            "6fb6d5d37bf543a18646f164db370b4a",
            "256882158bc1460ab6cab82dc7538d77",
            "9842a7f7b1e241dfbc10f7072eef2bcc",
            "c9a64eeb742a4d1c94d18e55d079e7a0",
            "5af946e7163f44de8d93ed398e63e8c8",
            "8d0efa2a84ba4c7289e10ff29b7ad288"
          ]
        },
        "outputId": "92b54eba-48bc-49eb-e293-9972bc14fa9e"
      },
      "source": [
        "model = trans.get_classifier()"
      ],
      "execution_count": null,
      "outputs": [
        {
          "output_type": "display_data",
          "data": {
            "application/vnd.jupyter.widget-view+json": {
              "model_id": "d4568328a3c34134ac22cd298a9bb6bc",
              "version_minor": 0,
              "version_major": 2
            },
            "text/plain": [
              "HBox(children=(FloatProgress(value=0.0, description='Downloading', max=1083389348.0, style=ProgressStyle(descr…"
            ]
          },
          "metadata": {
            "tags": []
          }
        },
        {
          "output_type": "stream",
          "text": [
            "\n"
          ],
          "name": "stdout"
        }
      ]
    },
    {
      "cell_type": "code",
      "metadata": {
        "id": "0JcHqHUy5j0O"
      },
      "source": [
        "learner = ktrain.get_learner(model, train_data=train,val_data=valid, batch_size=12)"
      ],
      "execution_count": null,
      "outputs": []
    },
    {
      "cell_type": "code",
      "metadata": {
        "colab": {
          "base_uri": "https://localhost:8080/"
        },
        "id": "iNrexAhH5j0O",
        "outputId": "9975c8ca-7f89-4b02-c450-56da7d666cad"
      },
      "source": [
        "learner.lr_find(show_plot = True,max_epochs=10)"
      ],
      "execution_count": null,
      "outputs": [
        {
          "output_type": "stream",
          "text": [
            "simulating training for different learning rates... this may take a few moments...\n"
          ],
          "name": "stdout"
        }
      ]
    },
    {
      "cell_type": "code",
      "metadata": {
        "id": "1vG8uJlSA1sK"
      },
      "source": [
        "from sklearn.utils import class_weight\n",
        "class_weights = class_weight.compute_class_weight('balanced'\n",
        "                                               ,np.unique(y_train)\n",
        "                                               ,y_train)\n",
        "\n"
      ],
      "execution_count": null,
      "outputs": []
    },
    {
      "cell_type": "code",
      "metadata": {
        "colab": {
          "base_uri": "https://localhost:8080/"
        },
        "id": "qpXzOL325j0P",
        "outputId": "10af6f5d-aa59-4e5e-f12c-6b2eed250841"
      },
      "source": [
        "learner.fit_onecycle(2e-5,15,class_weight=weight)  # 2e-5"
      ],
      "execution_count": null,
      "outputs": [
        {
          "output_type": "stream",
          "text": [
            "\n",
            "\n",
            "begin training using onecycle policy with max lr of 2e-05...\n",
            "Epoch 1/15\n",
            "1335/1335 [==============================] - 193s 130ms/step - loss: 1.4821 - accuracy: 0.1510 - val_loss: 1.3608 - val_accuracy: 0.3922\n",
            "Epoch 2/15\n",
            "1335/1335 [==============================] - 173s 127ms/step - loss: 1.1713 - accuracy: 0.4621 - val_loss: 1.0955 - val_accuracy: 0.6168\n",
            "Epoch 3/15\n",
            "1335/1335 [==============================] - 172s 127ms/step - loss: 0.8826 - accuracy: 0.5973 - val_loss: 1.2728 - val_accuracy: 0.4387\n",
            "Epoch 4/15\n",
            "1335/1335 [==============================] - 172s 127ms/step - loss: 0.6490 - accuracy: 0.6805 - val_loss: 0.8215 - val_accuracy: 0.7109\n",
            "Epoch 5/15\n",
            "1335/1335 [==============================] - 172s 127ms/step - loss: 0.4574 - accuracy: 0.7726 - val_loss: 0.7739 - val_accuracy: 0.7089\n",
            "Epoch 6/15\n",
            "1335/1335 [==============================] - 172s 127ms/step - loss: 0.3841 - accuracy: 0.8020 - val_loss: 0.3573 - val_accuracy: 0.8984\n",
            "Epoch 7/15\n",
            "1335/1335 [==============================] - 172s 127ms/step - loss: 0.2815 - accuracy: 0.8469 - val_loss: 0.6152 - val_accuracy: 0.7899\n",
            "Epoch 8/15\n",
            "1335/1335 [==============================] - 172s 127ms/step - loss: 0.2517 - accuracy: 0.8587 - val_loss: 0.4138 - val_accuracy: 0.8754\n",
            "Epoch 9/15\n",
            "1335/1335 [==============================] - 173s 128ms/step - loss: 0.2557 - accuracy: 0.8611 - val_loss: 0.7449 - val_accuracy: 0.7834\n",
            "Epoch 10/15\n",
            "1335/1335 [==============================] - 173s 128ms/step - loss: 0.2197 - accuracy: 0.8698 - val_loss: 0.2798 - val_accuracy: 0.9285\n",
            "Epoch 11/15\n",
            "1335/1335 [==============================] - 175s 129ms/step - loss: 0.0589 - accuracy: 0.9581 - val_loss: 0.3008 - val_accuracy: 0.9135\n",
            "Epoch 12/15\n",
            "1335/1335 [==============================] - 174s 128ms/step - loss: 0.0693 - accuracy: 0.9478 - val_loss: 0.2767 - val_accuracy: 0.9415\n",
            "Epoch 13/15\n",
            "1335/1335 [==============================] - 175s 129ms/step - loss: 0.0490 - accuracy: 0.9642 - val_loss: 0.2486 - val_accuracy: 0.9485\n",
            "Epoch 14/15\n",
            "1335/1335 [==============================] - 175s 129ms/step - loss: 0.0245 - accuracy: 0.9824 - val_loss: 0.2718 - val_accuracy: 0.9410\n",
            "Epoch 15/15\n",
            "1335/1335 [==============================] - 174s 129ms/step - loss: 0.0157 - accuracy: 0.9862 - val_loss: 0.2427 - val_accuracy: 0.9510\n"
          ],
          "name": "stdout"
        },
        {
          "output_type": "execute_result",
          "data": {
            "text/plain": [
              "<tensorflow.python.keras.callbacks.History at 0x7f61d5d60400>"
            ]
          },
          "metadata": {
            "tags": []
          },
          "execution_count": 17
        }
      ]
    },
    {
      "cell_type": "code",
      "metadata": {
        "colab": {
          "base_uri": "https://localhost:8080/"
        },
        "id": "9D4TZNWu5j0P",
        "outputId": "042568d3-ef65-45ce-bcd1-852483b81bae"
      },
      "source": [
        "learner.validate(class_names=categories)"
      ],
      "execution_count": null,
      "outputs": [
        {
          "output_type": "stream",
          "text": [
            "                                      precision    recall  f1-score   support\n",
            "\n",
            "                       Not_offensive       0.98      0.97      0.97      1779\n",
            "     Offensive_Targeted_Insult_Group       0.53      0.62      0.57        13\n",
            "Offensive_Targeted_Insult_Individual       0.61      0.58      0.60        24\n",
            "               Offensive_Untargetede       0.46      0.60      0.52        20\n",
            "                       not-malayalam       0.81      0.92      0.86       163\n",
            "\n",
            "                            accuracy                           0.95      1999\n",
            "                           macro avg       0.68      0.74      0.70      1999\n",
            "                        weighted avg       0.95      0.95      0.95      1999\n",
            "\n"
          ],
          "name": "stdout"
        },
        {
          "output_type": "execute_result",
          "data": {
            "text/plain": [
              "array([[1717,    6,    8,   13,   35],\n",
              "       [   4,    8,    0,    1,    0],\n",
              "       [  10,    0,   14,    0,    0],\n",
              "       [   6,    1,    1,   12,    0],\n",
              "       [  13,    0,    0,    0,  150]])"
            ]
          },
          "metadata": {
            "tags": []
          },
          "execution_count": 18
        }
      ]
    },
    {
      "cell_type": "code",
      "metadata": {
        "id": "kGlEnGMKFmwp"
      },
      "source": [
        "learner.save_model(folder_path+'Transformers_Models'+'/ml_off_m-bert_cw_learner')\n",
        "# train further here"
      ],
      "execution_count": null,
      "outputs": []
    },
    {
      "cell_type": "code",
      "metadata": {
        "id": "koHbk5hhFrHM"
      },
      "source": [
        "learner.load_model(folder_path+'Transformers_Models'+'/ml_off_xlm-r_learner')"
      ],
      "execution_count": null,
      "outputs": []
    },
    {
      "cell_type": "code",
      "metadata": {
        "id": "shRnhvhU5j0Q"
      },
      "source": [
        "predictor = ktrain.get_predictor(learner.model, preproc=trans)"
      ],
      "execution_count": null,
      "outputs": []
    },
    {
      "cell_type": "code",
      "metadata": {
        "id": "YnQmts_15j0R"
      },
      "source": [
        "# Save and load the model\n",
        "#predictor.save(folder_path+'Transformers_Models'+'/ml_off_xlm-r_predictor')\n",
        "#predictor = ktrain.load_predictor(folder_path+'Transformers_Models'+'/ml_xlm-r_predictor')"
      ],
      "execution_count": null,
      "outputs": []
    },
    {
      "cell_type": "code",
      "metadata": {
        "id": "LpZwyzKl5j0S"
      },
      "source": [
        "y_pred = predictor.predict(X_test)\n",
        "y_pred"
      ],
      "execution_count": null,
      "outputs": []
    },
    {
      "cell_type": "code",
      "metadata": {
        "id": "DlweX0yG5j0T"
      },
      "source": [
        "test_data['id'] = test_data.index+1"
      ],
      "execution_count": null,
      "outputs": []
    },
    {
      "cell_type": "code",
      "metadata": {
        "id": "g6fyhMih5j0T"
      },
      "source": [
        "run = pd.DataFrame(test_data['id'])\n",
        "run['text'] = test_data['text']\n",
        "run['label'] = y_pred\n",
        "run"
      ],
      "execution_count": null,
      "outputs": []
    },
    {
      "cell_type": "code",
      "metadata": {
        "colab": {
          "base_uri": "https://localhost:8080/"
        },
        "id": "Ufz_tBe-p_g6",
        "outputId": "033f05bc-cdab-4e58-8c13-a2eb5c0b3f33"
      },
      "source": [
        "run['label'].value_counts()"
      ],
      "execution_count": null,
      "outputs": [
        {
          "output_type": "execute_result",
          "data": {
            "text/plain": [
              "Not_offensive                           1588\n",
              "not-malayalam                            239\n",
              "Offensive_Targeted_Insult_Individual      84\n",
              "Offensive_Untargetede                     63\n",
              "Offensive_Targeted_Insult_Group           27\n",
              "Name: label, dtype: int64"
            ]
          },
          "metadata": {
            "tags": []
          },
          "execution_count": 65
        }
      ]
    },
    {
      "cell_type": "code",
      "metadata": {
        "colab": {
          "base_uri": "https://localhost:8080/"
        },
        "id": "E-7UWw2VqSCs",
        "outputId": "5e30ce8b-3a04-4dc7-920f-eab279379666"
      },
      "source": [
        "run['label'].value_counts()"
      ],
      "execution_count": null,
      "outputs": [
        {
          "output_type": "execute_result",
          "data": {
            "text/plain": [
              "Not_offensive            1804\n",
              "not-malayalam             161\n",
              "Offensive_Untargetede      36\n",
              "Name: label, dtype: int64"
            ]
          },
          "metadata": {
            "tags": []
          },
          "execution_count": 140
        }
      ]
    },
    {
      "cell_type": "code",
      "metadata": {
        "id": "f2yHOGiu5j0T"
      },
      "source": [
        "run.to_csv(folder_path +'malayalam_off_m-bert_cw.csv',index = False)"
      ],
      "execution_count": null,
      "outputs": []
    },
    {
      "cell_type": "code",
      "metadata": {
        "colab": {
          "base_uri": "https://localhost:8080/"
        },
        "id": "HA9tbtcwTzgu",
        "outputId": "a0cdd956-7276-4057-85bd-5157b8e42933"
      },
      "source": [
        "%%time\n",
        "predictor = ktrain.load_predictor(folder_path+'Transformers_Models'+'/ml_off_indic-bert_cw_predictor')"
      ],
      "execution_count": null,
      "outputs": [
        {
          "output_type": "stream",
          "text": [
            "CPU times: user 562 ms, sys: 80.6 ms, total: 642 ms\n",
            "Wall time: 2.6 s\n"
          ],
          "name": "stdout"
        }
      ]
    },
    {
      "cell_type": "code",
      "metadata": {
        "id": "aoOf4wicVK0S"
      },
      "source": [
        "vv = predictor.predict(X_valid)"
      ],
      "execution_count": null,
      "outputs": []
    },
    {
      "cell_type": "code",
      "metadata": {
        "colab": {
          "base_uri": "https://localhost:8080/"
        },
        "id": "uKMQUOR0VU-C",
        "outputId": "853972f1-af9c-49ad-fad4-a9095df2b436"
      },
      "source": [
        "print(vv)"
      ],
      "execution_count": null,
      "outputs": [
        {
          "output_type": "stream",
          "text": [
            "['Not_offensive', 'Not_offensive', 'Not_offensive', 'Not_offensive', 'Not_offensive', 'not-malayalam', 'Not_offensive', 'Not_offensive', 'Not_offensive', 'Not_offensive', 'Not_offensive', 'Not_offensive', 'Not_offensive', 'Not_offensive', 'Not_offensive', 'Not_offensive', 'Not_offensive', 'Not_offensive', 'Not_offensive', 'Not_offensive', 'Not_offensive', 'Not_offensive', 'Not_offensive', 'Not_offensive', 'Not_offensive', 'Not_offensive', 'Not_offensive', 'Not_offensive', 'Not_offensive', 'Not_offensive', 'Not_offensive', 'Not_offensive', 'not-malayalam', 'Not_offensive', 'Not_offensive', 'Not_offensive', 'Not_offensive', 'Not_offensive', 'Not_offensive', 'Not_offensive', 'Not_offensive', 'Not_offensive', 'not-malayalam', 'Not_offensive', 'Not_offensive', 'Not_offensive', 'not-malayalam', 'Not_offensive', 'Offensive_Targeted_Insult_Individual', 'Not_offensive', 'Not_offensive', 'Not_offensive', 'Not_offensive', 'Not_offensive', 'Not_offensive', 'not-malayalam', 'Not_offensive', 'Not_offensive', 'Not_offensive', 'Not_offensive', 'Not_offensive', 'not-malayalam', 'Not_offensive', 'Not_offensive', 'Not_offensive', 'Not_offensive', 'Not_offensive', 'Not_offensive', 'Not_offensive', 'Not_offensive', 'Not_offensive', 'Not_offensive', 'Not_offensive', 'Not_offensive', 'Not_offensive', 'Not_offensive', 'Not_offensive', 'Not_offensive', 'Not_offensive', 'Not_offensive', 'Not_offensive', 'Not_offensive', 'Offensive_Untargetede', 'Not_offensive', 'Not_offensive', 'not-malayalam', 'Not_offensive', 'Not_offensive', 'not-malayalam', 'Not_offensive', 'Not_offensive', 'Not_offensive', 'Not_offensive', 'Not_offensive', 'Not_offensive', 'Not_offensive', 'Not_offensive', 'Not_offensive', 'Not_offensive', 'Not_offensive', 'Not_offensive', 'Not_offensive', 'Not_offensive', 'Not_offensive', 'Not_offensive', 'Not_offensive', 'Not_offensive', 'Not_offensive', 'Not_offensive', 'Not_offensive', 'Not_offensive', 'Not_offensive', 'Not_offensive', 'Not_offensive', 'Not_offensive', 'Not_offensive', 'Not_offensive', 'Not_offensive', 'Not_offensive', 'Not_offensive', 'Not_offensive', 'Not_offensive', 'Not_offensive', 'Not_offensive', 'Not_offensive', 'not-malayalam', 'Not_offensive', 'Not_offensive', 'not-malayalam', 'Offensive_Untargetede', 'Not_offensive', 'Not_offensive', 'Not_offensive', 'Not_offensive', 'Not_offensive', 'Not_offensive', 'not-malayalam', 'Not_offensive', 'Not_offensive', 'Not_offensive', 'Not_offensive', 'Not_offensive', 'Not_offensive', 'Not_offensive', 'Not_offensive', 'Not_offensive', 'Not_offensive', 'not-malayalam', 'Not_offensive', 'Not_offensive', 'Not_offensive', 'Not_offensive', 'Not_offensive', 'Not_offensive', 'Not_offensive', 'Not_offensive', 'Not_offensive', 'Not_offensive', 'Not_offensive', 'Not_offensive', 'Not_offensive', 'Not_offensive', 'Not_offensive', 'Not_offensive', 'Not_offensive', 'Not_offensive', 'Not_offensive', 'Not_offensive', 'Not_offensive', 'Not_offensive', 'Not_offensive', 'Not_offensive', 'Not_offensive', 'Not_offensive', 'Not_offensive', 'Not_offensive', 'Not_offensive', 'Not_offensive', 'Not_offensive', 'Not_offensive', 'Not_offensive', 'Not_offensive', 'Not_offensive', 'not-malayalam', 'Not_offensive', 'not-malayalam', 'Not_offensive', 'Not_offensive', 'Not_offensive', 'Not_offensive', 'Not_offensive', 'Not_offensive', 'Not_offensive', 'Not_offensive', 'Not_offensive', 'Not_offensive', 'Not_offensive', 'Not_offensive', 'Not_offensive', 'Not_offensive', 'Not_offensive', 'Not_offensive', 'Not_offensive', 'Not_offensive', 'Not_offensive', 'Not_offensive', 'Offensive_Untargetede', 'Not_offensive', 'Not_offensive', 'Not_offensive', 'Not_offensive', 'Not_offensive', 'Not_offensive', 'Not_offensive', 'Not_offensive', 'Not_offensive', 'Not_offensive', 'Not_offensive', 'Not_offensive', 'Not_offensive', 'Not_offensive', 'Not_offensive', 'Not_offensive', 'Not_offensive', 'Not_offensive', 'Not_offensive', 'Not_offensive', 'Not_offensive', 'Not_offensive', 'Not_offensive', 'Offensive_Untargetede', 'Not_offensive', 'Not_offensive', 'not-malayalam', 'Not_offensive', 'Not_offensive', 'Not_offensive', 'Not_offensive', 'Not_offensive', 'Not_offensive', 'Not_offensive', 'Not_offensive', 'Not_offensive', 'Not_offensive', 'Not_offensive', 'Not_offensive', 'Not_offensive', 'Not_offensive', 'Not_offensive', 'Not_offensive', 'Not_offensive', 'Not_offensive', 'Not_offensive', 'Not_offensive', 'Not_offensive', 'not-malayalam', 'Not_offensive', 'Not_offensive', 'Not_offensive', 'Not_offensive', 'Not_offensive', 'Not_offensive', 'Not_offensive', 'Not_offensive', 'Not_offensive', 'Not_offensive', 'Not_offensive', 'Not_offensive', 'Not_offensive', 'Not_offensive', 'Not_offensive', 'Not_offensive', 'Not_offensive', 'Not_offensive', 'Not_offensive', 'Not_offensive', 'Not_offensive', 'Not_offensive', 'Not_offensive', 'Not_offensive', 'Not_offensive', 'Not_offensive', 'Not_offensive', 'Not_offensive', 'Not_offensive', 'Not_offensive', 'Not_offensive', 'Not_offensive', 'Not_offensive', 'Not_offensive', 'Not_offensive', 'Not_offensive', 'Not_offensive', 'Not_offensive', 'Not_offensive', 'Not_offensive', 'Not_offensive', 'Not_offensive', 'Not_offensive', 'Not_offensive', 'Not_offensive', 'Not_offensive', 'Not_offensive', 'Not_offensive', 'Not_offensive', 'Not_offensive', 'Not_offensive', 'Not_offensive', 'Not_offensive', 'Not_offensive', 'Not_offensive', 'Not_offensive', 'Not_offensive', 'Not_offensive', 'Not_offensive', 'Not_offensive', 'not-malayalam', 'Not_offensive', 'Not_offensive', 'not-malayalam', 'not-malayalam', 'Not_offensive', 'Not_offensive', 'Not_offensive', 'Not_offensive', 'Not_offensive', 'not-malayalam', 'Not_offensive', 'Not_offensive', 'Not_offensive', 'Offensive_Untargetede', 'Offensive_Targeted_Insult_Individual', 'Not_offensive', 'Not_offensive', 'Not_offensive', 'Not_offensive', 'Not_offensive', 'Not_offensive', 'Not_offensive', 'Not_offensive', 'Not_offensive', 'Not_offensive', 'Not_offensive', 'Not_offensive', 'not-malayalam', 'Not_offensive', 'Not_offensive', 'not-malayalam', 'not-malayalam', 'Not_offensive', 'Not_offensive', 'Not_offensive', 'Not_offensive', 'not-malayalam', 'Not_offensive', 'Not_offensive', 'Not_offensive', 'not-malayalam', 'Not_offensive', 'Not_offensive', 'Not_offensive', 'Not_offensive', 'Not_offensive', 'Not_offensive', 'Not_offensive', 'Not_offensive', 'Not_offensive', 'Not_offensive', 'Not_offensive', 'Not_offensive', 'Not_offensive', 'Not_offensive', 'not-malayalam', 'Not_offensive', 'Not_offensive', 'Not_offensive', 'Not_offensive', 'Not_offensive', 'Not_offensive', 'Not_offensive', 'Not_offensive', 'Not_offensive', 'Not_offensive', 'Not_offensive', 'Not_offensive', 'Not_offensive', 'Not_offensive', 'Not_offensive', 'Not_offensive', 'not-malayalam', 'Not_offensive', 'Not_offensive', 'Not_offensive', 'Not_offensive', 'not-malayalam', 'Not_offensive', 'not-malayalam', 'Not_offensive', 'Not_offensive', 'Not_offensive', 'Not_offensive', 'Not_offensive', 'Not_offensive', 'Not_offensive', 'Not_offensive', 'Not_offensive', 'Not_offensive', 'Not_offensive', 'Not_offensive', 'Not_offensive', 'Not_offensive', 'Not_offensive', 'Not_offensive', 'Not_offensive', 'Not_offensive', 'Not_offensive', 'Not_offensive', 'Not_offensive', 'Not_offensive', 'Not_offensive', 'Not_offensive', 'Not_offensive', 'Not_offensive', 'Not_offensive', 'Not_offensive', 'not-malayalam', 'Not_offensive', 'Offensive_Untargetede', 'Not_offensive', 'Not_offensive', 'Not_offensive', 'Not_offensive', 'Not_offensive', 'Not_offensive', 'Not_offensive', 'Offensive_Untargetede', 'Not_offensive', 'Not_offensive', 'Not_offensive', 'Not_offensive', 'Not_offensive', 'Not_offensive', 'not-malayalam', 'Not_offensive', 'Not_offensive', 'Not_offensive', 'Not_offensive', 'Not_offensive', 'Not_offensive', 'not-malayalam', 'not-malayalam', 'Not_offensive', 'Not_offensive', 'Not_offensive', 'Not_offensive', 'Not_offensive', 'Not_offensive', 'Not_offensive', 'Not_offensive', 'Not_offensive', 'Not_offensive', 'Not_offensive', 'Not_offensive', 'not-malayalam', 'Not_offensive', 'Not_offensive', 'Not_offensive', 'Not_offensive', 'Not_offensive', 'Not_offensive', 'Not_offensive', 'Not_offensive', 'Not_offensive', 'Not_offensive', 'Not_offensive', 'Not_offensive', 'Not_offensive', 'Not_offensive', 'Not_offensive', 'Not_offensive', 'Not_offensive', 'Not_offensive', 'Not_offensive', 'Not_offensive', 'Not_offensive', 'Not_offensive', 'Not_offensive', 'Not_offensive', 'Not_offensive', 'Not_offensive', 'not-malayalam', 'Not_offensive', 'Not_offensive', 'Not_offensive', 'Not_offensive', 'not-malayalam', 'Not_offensive', 'Not_offensive', 'Offensive_Untargetede', 'not-malayalam', 'Not_offensive', 'Not_offensive', 'Not_offensive', 'Not_offensive', 'Not_offensive', 'Not_offensive', 'Not_offensive', 'Not_offensive', 'Not_offensive', 'Not_offensive', 'Not_offensive', 'Not_offensive', 'Not_offensive', 'Not_offensive', 'Not_offensive', 'Offensive_Targeted_Insult_Individual', 'Not_offensive', 'not-malayalam', 'Not_offensive', 'Not_offensive', 'not-malayalam', 'Not_offensive', 'Not_offensive', 'Not_offensive', 'Not_offensive', 'Not_offensive', 'Not_offensive', 'Not_offensive', 'Not_offensive', 'Not_offensive', 'Not_offensive', 'Not_offensive', 'Not_offensive', 'Not_offensive', 'Not_offensive', 'Not_offensive', 'Not_offensive', 'Not_offensive', 'Not_offensive', 'Not_offensive', 'Not_offensive', 'Not_offensive', 'Not_offensive', 'Not_offensive', 'Not_offensive', 'Not_offensive', 'Not_offensive', 'Not_offensive', 'Not_offensive', 'Not_offensive', 'Not_offensive', 'Not_offensive', 'Not_offensive', 'Not_offensive', 'Not_offensive', 'not-malayalam', 'Not_offensive', 'Not_offensive', 'Not_offensive', 'Not_offensive', 'Not_offensive', 'Not_offensive', 'Not_offensive', 'Not_offensive', 'Not_offensive', 'Not_offensive', 'not-malayalam', 'not-malayalam', 'Not_offensive', 'Not_offensive', 'Not_offensive', 'Not_offensive', 'Not_offensive', 'Not_offensive', 'Not_offensive', 'Not_offensive', 'not-malayalam', 'Not_offensive', 'not-malayalam', 'Not_offensive', 'Not_offensive', 'Not_offensive', 'Not_offensive', 'Not_offensive', 'Not_offensive', 'Not_offensive', 'Not_offensive', 'Not_offensive', 'Not_offensive', 'Offensive_Untargetede', 'Not_offensive', 'not-malayalam', 'Not_offensive', 'Not_offensive', 'Not_offensive', 'Not_offensive', 'Not_offensive', 'Not_offensive', 'Not_offensive', 'Not_offensive', 'Not_offensive', 'Not_offensive', 'Not_offensive', 'Not_offensive', 'Not_offensive', 'Not_offensive', 'Not_offensive', 'not-malayalam', 'Not_offensive', 'Not_offensive', 'Not_offensive', 'Not_offensive', 'Not_offensive', 'Not_offensive', 'Not_offensive', 'Not_offensive', 'Not_offensive', 'Not_offensive', 'Not_offensive', 'Not_offensive', 'Not_offensive', 'Not_offensive', 'Not_offensive', 'Not_offensive', 'Not_offensive', 'Not_offensive', 'Not_offensive', 'Not_offensive', 'Not_offensive', 'Not_offensive', 'Not_offensive', 'Not_offensive', 'Not_offensive', 'Not_offensive', 'Offensive_Targeted_Insult_Individual', 'Not_offensive', 'Not_offensive', 'Offensive_Untargetede', 'Not_offensive', 'Not_offensive', 'Offensive_Untargetede', 'not-malayalam', 'Not_offensive', 'Not_offensive', 'Not_offensive', 'not-malayalam', 'Not_offensive', 'Not_offensive', 'Not_offensive', 'Not_offensive', 'Not_offensive', 'Not_offensive', 'Not_offensive', 'not-malayalam', 'Offensive_Untargetede', 'Not_offensive', 'Not_offensive', 'Not_offensive', 'not-malayalam', 'Offensive_Untargetede', 'Not_offensive', 'Not_offensive', 'Not_offensive', 'Not_offensive', 'Not_offensive', 'Not_offensive', 'not-malayalam', 'Not_offensive', 'Not_offensive', 'Not_offensive', 'Not_offensive', 'Not_offensive', 'Not_offensive', 'Not_offensive', 'Not_offensive', 'Not_offensive', 'Not_offensive', 'Not_offensive', 'Not_offensive', 'Not_offensive', 'not-malayalam', 'Not_offensive', 'not-malayalam', 'Not_offensive', 'Not_offensive', 'Not_offensive', 'Not_offensive', 'Not_offensive', 'Not_offensive', 'Not_offensive', 'Not_offensive', 'Not_offensive', 'Not_offensive', 'Not_offensive', 'Not_offensive', 'Not_offensive', 'Not_offensive', 'Not_offensive', 'Not_offensive', 'Not_offensive', 'Not_offensive', 'Not_offensive', 'not-malayalam', 'Not_offensive', 'Not_offensive', 'not-malayalam', 'Not_offensive', 'Not_offensive', 'Not_offensive', 'Not_offensive', 'Not_offensive', 'Not_offensive', 'Not_offensive', 'Not_offensive', 'Not_offensive', 'Not_offensive', 'Not_offensive', 'Not_offensive', 'Not_offensive', 'not-malayalam', 'Not_offensive', 'Not_offensive', 'Not_offensive', 'Not_offensive', 'Not_offensive', 'not-malayalam', 'Not_offensive', 'Not_offensive', 'Not_offensive', 'Not_offensive', 'Not_offensive', 'Not_offensive', 'Not_offensive', 'Not_offensive', 'Not_offensive', 'Offensive_Untargetede', 'Not_offensive', 'Not_offensive', 'Not_offensive', 'Not_offensive', 'Not_offensive', 'Not_offensive', 'Not_offensive', 'Offensive_Untargetede', 'not-malayalam', 'Not_offensive', 'Not_offensive', 'Not_offensive', 'Not_offensive', 'Not_offensive', 'Not_offensive', 'Not_offensive', 'Not_offensive', 'not-malayalam', 'Not_offensive', 'Not_offensive', 'Not_offensive', 'Not_offensive', 'Not_offensive', 'Not_offensive', 'Offensive_Targeted_Insult_Individual', 'Not_offensive', 'Not_offensive', 'not-malayalam', 'Offensive_Untargetede', 'Not_offensive', 'Not_offensive', 'Not_offensive', 'Not_offensive', 'Not_offensive', 'Not_offensive', 'Not_offensive', 'Not_offensive', 'Not_offensive', 'Not_offensive', 'Not_offensive', 'not-malayalam', 'Not_offensive', 'Not_offensive', 'Not_offensive', 'Not_offensive', 'Not_offensive', 'Not_offensive', 'Not_offensive', 'Not_offensive', 'Not_offensive', 'not-malayalam', 'Not_offensive', 'Not_offensive', 'Not_offensive', 'Not_offensive', 'Not_offensive', 'not-malayalam', 'Not_offensive', 'Not_offensive', 'Not_offensive', 'Not_offensive', 'not-malayalam', 'Not_offensive', 'not-malayalam', 'Not_offensive', 'Not_offensive', 'Not_offensive', 'Not_offensive', 'not-malayalam', 'Not_offensive', 'Not_offensive', 'Not_offensive', 'Not_offensive', 'Not_offensive', 'Not_offensive', 'Not_offensive', 'Not_offensive', 'Not_offensive', 'Not_offensive', 'Not_offensive', 'Not_offensive', 'Not_offensive', 'Not_offensive', 'Not_offensive', 'Not_offensive', 'Not_offensive', 'Not_offensive', 'Not_offensive', 'Not_offensive', 'Not_offensive', 'Not_offensive', 'Not_offensive', 'Not_offensive', 'Not_offensive', 'Not_offensive', 'Not_offensive', 'Not_offensive', 'not-malayalam', 'Not_offensive', 'Not_offensive', 'Not_offensive', 'Not_offensive', 'Not_offensive', 'Not_offensive', 'Not_offensive', 'Not_offensive', 'Not_offensive', 'Not_offensive', 'Not_offensive', 'Not_offensive', 'Not_offensive', 'Not_offensive', 'Not_offensive', 'Not_offensive', 'Not_offensive', 'Not_offensive', 'Not_offensive', 'Not_offensive', 'not-malayalam', 'Not_offensive', 'not-malayalam', 'Not_offensive', 'Not_offensive', 'Not_offensive', 'Not_offensive', 'Not_offensive', 'Not_offensive', 'Not_offensive', 'Not_offensive', 'Offensive_Targeted_Insult_Individual', 'Not_offensive', 'not-malayalam', 'Not_offensive', 'Not_offensive', 'Not_offensive', 'Not_offensive', 'Not_offensive', 'Not_offensive', 'not-malayalam', 'Not_offensive', 'Offensive_Untargetede', 'not-malayalam', 'Not_offensive', 'Not_offensive', 'Not_offensive', 'Not_offensive', 'not-malayalam', 'Not_offensive', 'Not_offensive', 'Not_offensive', 'Not_offensive', 'Not_offensive', 'Not_offensive', 'Not_offensive', 'Not_offensive', 'Not_offensive', 'Not_offensive', 'Not_offensive', 'Not_offensive', 'Not_offensive', 'not-malayalam', 'Not_offensive', 'Not_offensive', 'Not_offensive', 'Not_offensive', 'Not_offensive', 'Not_offensive', 'Not_offensive', 'Not_offensive', 'not-malayalam', 'Not_offensive', 'Not_offensive', 'Not_offensive', 'Not_offensive', 'Not_offensive', 'not-malayalam', 'Not_offensive', 'Not_offensive', 'Not_offensive', 'Not_offensive', 'Not_offensive', 'Not_offensive', 'Not_offensive', 'Not_offensive', 'Not_offensive', 'Not_offensive', 'not-malayalam', 'Not_offensive', 'Not_offensive', 'Not_offensive', 'Not_offensive', 'Not_offensive', 'not-malayalam', 'Not_offensive', 'Not_offensive', 'Not_offensive', 'Not_offensive', 'Not_offensive', 'Not_offensive', 'Not_offensive', 'Not_offensive', 'Not_offensive', 'Not_offensive', 'Not_offensive', 'Not_offensive', 'Not_offensive', 'Not_offensive', 'Not_offensive', 'Not_offensive', 'Not_offensive', 'Not_offensive', 'Not_offensive', 'Not_offensive', 'Not_offensive', 'not-malayalam', 'Not_offensive', 'Not_offensive', 'not-malayalam', 'Not_offensive', 'not-malayalam', 'Not_offensive', 'Not_offensive', 'Not_offensive', 'Not_offensive', 'Not_offensive', 'Not_offensive', 'Not_offensive', 'Not_offensive', 'Not_offensive', 'Not_offensive', 'Not_offensive', 'Not_offensive', 'Not_offensive', 'Not_offensive', 'Not_offensive', 'Offensive_Untargetede', 'Not_offensive', 'Not_offensive', 'Offensive_Untargetede', 'Not_offensive', 'not-malayalam', 'Not_offensive', 'Not_offensive', 'not-malayalam', 'Not_offensive', 'not-malayalam', 'Not_offensive', 'Not_offensive', 'Not_offensive', 'Not_offensive', 'Not_offensive', 'not-malayalam', 'Not_offensive', 'Not_offensive', 'Not_offensive', 'Not_offensive', 'Not_offensive', 'Offensive_Untargetede', 'Offensive_Targeted_Insult_Individual', 'Not_offensive', 'Not_offensive', 'Not_offensive', 'not-malayalam', 'Not_offensive', 'Not_offensive', 'Not_offensive', 'Not_offensive', 'Not_offensive', 'Not_offensive', 'Not_offensive', 'Not_offensive', 'Not_offensive', 'Not_offensive', 'Not_offensive', 'Not_offensive', 'Not_offensive', 'Not_offensive', 'Not_offensive', 'Not_offensive', 'Not_offensive', 'not-malayalam', 'Not_offensive', 'Not_offensive', 'Not_offensive', 'Not_offensive', 'Not_offensive', 'not-malayalam', 'Not_offensive', 'not-malayalam', 'Not_offensive', 'Not_offensive', 'Not_offensive', 'Not_offensive', 'Not_offensive', 'Not_offensive', 'Not_offensive', 'Not_offensive', 'Not_offensive', 'Not_offensive', 'Not_offensive', 'Not_offensive', 'Not_offensive', 'Not_offensive', 'Not_offensive', 'Not_offensive', 'Not_offensive', 'Not_offensive', 'Not_offensive', 'Not_offensive', 'Not_offensive', 'Not_offensive', 'Not_offensive', 'Not_offensive', 'Not_offensive', 'Not_offensive', 'Not_offensive', 'Not_offensive', 'Offensive_Untargetede', 'Not_offensive', 'Not_offensive', 'not-malayalam', 'Not_offensive', 'Not_offensive', 'Not_offensive', 'Not_offensive', 'not-malayalam', 'Not_offensive', 'Not_offensive', 'Not_offensive', 'Not_offensive', 'Not_offensive', 'Not_offensive', 'not-malayalam', 'Not_offensive', 'Not_offensive', 'Not_offensive', 'Not_offensive', 'Not_offensive', 'Not_offensive', 'Not_offensive', 'Not_offensive', 'Not_offensive', 'Not_offensive', 'Not_offensive', 'Not_offensive', 'Not_offensive', 'Not_offensive', 'not-malayalam', 'Not_offensive', 'Not_offensive', 'Not_offensive', 'Not_offensive', 'Not_offensive', 'Not_offensive', 'Not_offensive', 'not-malayalam', 'Not_offensive', 'Not_offensive', 'Not_offensive', 'Not_offensive', 'Not_offensive', 'Not_offensive', 'Not_offensive', 'Not_offensive', 'Offensive_Untargetede', 'Not_offensive', 'Not_offensive', 'Not_offensive', 'Not_offensive', 'Not_offensive', 'Offensive_Untargetede', 'Not_offensive', 'Not_offensive', 'Not_offensive', 'Not_offensive', 'Not_offensive', 'Not_offensive', 'Not_offensive', 'Not_offensive', 'Offensive_Untargetede', 'Not_offensive', 'Not_offensive', 'Not_offensive', 'Not_offensive', 'Not_offensive', 'Not_offensive', 'not-malayalam', 'Offensive_Untargetede', 'not-malayalam', 'Not_offensive', 'Not_offensive', 'Not_offensive', 'Not_offensive', 'Not_offensive', 'Not_offensive', 'Not_offensive', 'Not_offensive', 'Not_offensive', 'Not_offensive', 'Not_offensive', 'Not_offensive', 'Not_offensive', 'Not_offensive', 'Not_offensive', 'Not_offensive', 'Not_offensive', 'Not_offensive', 'Not_offensive', 'Not_offensive', 'Not_offensive', 'Not_offensive', 'Not_offensive', 'Not_offensive', 'Not_offensive', 'Not_offensive', 'Not_offensive', 'Not_offensive', 'Not_offensive', 'Not_offensive', 'Not_offensive', 'Not_offensive', 'Not_offensive', 'Offensive_Untargetede', 'Not_offensive', 'Not_offensive', 'Not_offensive', 'Not_offensive', 'Not_offensive', 'Not_offensive', 'Not_offensive', 'Not_offensive', 'Not_offensive', 'Not_offensive', 'Not_offensive', 'Not_offensive', 'Not_offensive', 'Not_offensive', 'Not_offensive', 'not-malayalam', 'Not_offensive', 'not-malayalam', 'Not_offensive', 'Not_offensive', 'Not_offensive', 'Not_offensive', 'Not_offensive', 'Not_offensive', 'Not_offensive', 'Not_offensive', 'Not_offensive', 'Not_offensive', 'Not_offensive', 'Not_offensive', 'Not_offensive', 'Not_offensive', 'Not_offensive', 'Not_offensive', 'Not_offensive', 'Not_offensive', 'Not_offensive', 'Not_offensive', 'Not_offensive', 'Not_offensive', 'Not_offensive', 'Not_offensive', 'Not_offensive', 'Not_offensive', 'Not_offensive', 'not-malayalam', 'Not_offensive', 'not-malayalam', 'Not_offensive', 'Not_offensive', 'Not_offensive', 'Not_offensive', 'not-malayalam', 'Not_offensive', 'Not_offensive', 'Not_offensive', 'Not_offensive', 'Not_offensive', 'Not_offensive', 'not-malayalam', 'Not_offensive', 'Not_offensive', 'Not_offensive', 'Not_offensive', 'Not_offensive', 'Not_offensive', 'Not_offensive', 'Not_offensive', 'Not_offensive', 'Not_offensive', 'Not_offensive', 'Not_offensive', 'Not_offensive', 'Not_offensive', 'not-malayalam', 'Not_offensive', 'Not_offensive', 'Offensive_Untargetede', 'Not_offensive', 'Not_offensive', 'Not_offensive', 'Not_offensive', 'Not_offensive', 'Not_offensive', 'Not_offensive', 'Not_offensive', 'Offensive_Targeted_Insult_Individual', 'not-malayalam', 'Not_offensive', 'Not_offensive', 'Not_offensive', 'Not_offensive', 'Not_offensive', 'Not_offensive', 'Not_offensive', 'not-malayalam', 'Not_offensive', 'Not_offensive', 'Not_offensive', 'Not_offensive', 'Not_offensive', 'Not_offensive', 'Not_offensive', 'Not_offensive', 'Not_offensive', 'Not_offensive', 'Not_offensive', 'Not_offensive', 'Not_offensive', 'Not_offensive', 'not-malayalam', 'Not_offensive', 'Not_offensive', 'Not_offensive', 'Not_offensive', 'Not_offensive', 'Not_offensive', 'Not_offensive', 'Not_offensive', 'Not_offensive', 'Not_offensive', 'not-malayalam', 'Not_offensive', 'Not_offensive', 'Not_offensive', 'Not_offensive', 'Not_offensive', 'Not_offensive', 'Not_offensive', 'Not_offensive', 'Not_offensive', 'not-malayalam', 'Not_offensive', 'Not_offensive', 'Not_offensive', 'not-malayalam', 'not-malayalam', 'Not_offensive', 'Not_offensive', 'not-malayalam', 'Not_offensive', 'Not_offensive', 'Not_offensive', 'Not_offensive', 'Not_offensive', 'not-malayalam', 'Not_offensive', 'Not_offensive', 'Not_offensive', 'Not_offensive', 'Not_offensive', 'Not_offensive', 'Not_offensive', 'Not_offensive', 'Not_offensive', 'Not_offensive', 'Not_offensive', 'Not_offensive', 'Not_offensive', 'Not_offensive', 'Not_offensive', 'Not_offensive', 'not-malayalam', 'Not_offensive', 'Not_offensive', 'Not_offensive', 'not-malayalam', 'Not_offensive', 'Not_offensive', 'Not_offensive', 'Not_offensive', 'Offensive_Untargetede', 'Not_offensive', 'Not_offensive', 'Not_offensive', 'Not_offensive', 'Not_offensive', 'Not_offensive', 'Not_offensive', 'Not_offensive', 'Not_offensive', 'Not_offensive', 'Not_offensive', 'Not_offensive', 'Not_offensive', 'not-malayalam', 'Not_offensive', 'not-malayalam', 'Not_offensive', 'Not_offensive', 'Not_offensive', 'Not_offensive', 'Not_offensive', 'Not_offensive', 'Not_offensive', 'Not_offensive', 'Not_offensive', 'Not_offensive', 'Not_offensive', 'Not_offensive', 'Not_offensive', 'Not_offensive', 'Not_offensive', 'Not_offensive', 'Not_offensive', 'Not_offensive', 'Not_offensive', 'Not_offensive', 'not-malayalam', 'not-malayalam', 'Not_offensive', 'Not_offensive', 'Not_offensive', 'Not_offensive', 'Not_offensive', 'Not_offensive', 'Not_offensive', 'Not_offensive', 'Not_offensive', 'Not_offensive', 'Not_offensive', 'Not_offensive', 'Not_offensive', 'Not_offensive', 'Not_offensive', 'Not_offensive', 'Not_offensive', 'Not_offensive', 'Not_offensive', 'Not_offensive', 'Not_offensive', 'Not_offensive', 'Not_offensive', 'not-malayalam', 'not-malayalam', 'Not_offensive', 'Not_offensive', 'Not_offensive', 'Not_offensive', 'Not_offensive', 'Not_offensive', 'Not_offensive', 'Not_offensive', 'Not_offensive', 'Not_offensive', 'not-malayalam', 'not-malayalam', 'Not_offensive', 'Not_offensive', 'Not_offensive', 'Not_offensive', 'Not_offensive', 'Not_offensive', 'not-malayalam', 'not-malayalam', 'Not_offensive', 'Not_offensive', 'Not_offensive', 'Not_offensive', 'not-malayalam', 'Not_offensive', 'not-malayalam', 'Not_offensive', 'Not_offensive', 'Not_offensive', 'Not_offensive', 'Not_offensive', 'Not_offensive', 'Not_offensive', 'Not_offensive', 'Not_offensive', 'Not_offensive', 'Not_offensive', 'not-malayalam', 'not-malayalam', 'Not_offensive', 'Not_offensive', 'Not_offensive', 'Not_offensive', 'Not_offensive', 'Not_offensive', 'Not_offensive', 'Not_offensive', 'Not_offensive', 'not-malayalam', 'Not_offensive', 'Not_offensive', 'Not_offensive', 'Not_offensive', 'Not_offensive', 'not-malayalam', 'Not_offensive', 'Not_offensive', 'Not_offensive', 'Not_offensive', 'Not_offensive', 'Not_offensive', 'Not_offensive', 'Not_offensive', 'Not_offensive', 'Not_offensive', 'Not_offensive', 'Not_offensive', 'Not_offensive', 'Not_offensive', 'Not_offensive', 'Not_offensive', 'Not_offensive', 'Not_offensive', 'Not_offensive', 'Not_offensive', 'Not_offensive', 'Not_offensive', 'Not_offensive', 'Not_offensive', 'Not_offensive', 'Not_offensive', 'Not_offensive', 'Not_offensive', 'Not_offensive', 'Not_offensive', 'not-malayalam', 'Not_offensive', 'not-malayalam', 'Not_offensive', 'Not_offensive', 'Not_offensive', 'Not_offensive', 'Not_offensive', 'Not_offensive', 'Not_offensive', 'Not_offensive', 'Not_offensive', 'Not_offensive', 'Not_offensive', 'Not_offensive', 'Not_offensive', 'not-malayalam', 'Not_offensive', 'Not_offensive', 'Not_offensive', 'Not_offensive', 'Not_offensive', 'Not_offensive', 'Not_offensive', 'Not_offensive', 'Not_offensive', 'Offensive_Untargetede', 'Not_offensive', 'Not_offensive', 'Not_offensive', 'not-malayalam', 'Not_offensive', 'Not_offensive', 'Not_offensive', 'Not_offensive', 'Not_offensive', 'Not_offensive', 'Not_offensive', 'Not_offensive', 'Not_offensive', 'Not_offensive', 'Not_offensive', 'Not_offensive', 'Not_offensive', 'not-malayalam', 'Not_offensive', 'Not_offensive', 'Not_offensive', 'Not_offensive', 'Not_offensive', 'Not_offensive', 'Not_offensive', 'Not_offensive', 'Not_offensive', 'Not_offensive', 'Not_offensive', 'Not_offensive', 'Not_offensive', 'Not_offensive', 'Not_offensive', 'Not_offensive', 'Not_offensive', 'Not_offensive', 'Not_offensive', 'not-malayalam', 'Not_offensive', 'Not_offensive', 'Not_offensive', 'Not_offensive', 'Not_offensive', 'not-malayalam', 'Not_offensive', 'Not_offensive', 'Not_offensive', 'Not_offensive', 'Not_offensive', 'Not_offensive', 'Not_offensive', 'Not_offensive', 'Not_offensive', 'Not_offensive', 'Not_offensive', 'Not_offensive', 'Not_offensive', 'Not_offensive', 'Not_offensive', 'Not_offensive', 'Not_offensive', 'Not_offensive', 'Not_offensive', 'Not_offensive', 'Not_offensive', 'Not_offensive', 'Not_offensive', 'Not_offensive', 'Not_offensive', 'Not_offensive', 'Not_offensive', 'Not_offensive', 'Not_offensive', 'Not_offensive', 'Not_offensive', 'Not_offensive', 'Not_offensive', 'Not_offensive', 'Not_offensive', 'Not_offensive', 'not-malayalam', 'Not_offensive', 'Not_offensive', 'not-malayalam', 'Not_offensive', 'Not_offensive', 'Not_offensive', 'Not_offensive', 'Not_offensive', 'Not_offensive', 'Not_offensive', 'Not_offensive', 'Not_offensive', 'Not_offensive', 'Not_offensive', 'Not_offensive', 'Not_offensive', 'Not_offensive', 'Not_offensive', 'Not_offensive', 'Not_offensive', 'Not_offensive', 'Not_offensive', 'Not_offensive', 'Not_offensive', 'Not_offensive', 'Not_offensive', 'Not_offensive', 'Not_offensive', 'Not_offensive', 'Not_offensive', 'Not_offensive', 'Not_offensive', 'Not_offensive', 'Not_offensive', 'Not_offensive', 'Not_offensive', 'Not_offensive', 'Not_offensive', 'Not_offensive', 'Not_offensive', 'Not_offensive', 'Not_offensive', 'Not_offensive', 'Not_offensive', 'Not_offensive', 'Not_offensive', 'Not_offensive', 'Not_offensive', 'Not_offensive', 'Not_offensive', 'Not_offensive', 'Not_offensive', 'Not_offensive', 'Not_offensive', 'Not_offensive', 'Not_offensive', 'Not_offensive', 'Not_offensive', 'Not_offensive', 'not-malayalam', 'Not_offensive', 'not-malayalam', 'Not_offensive', 'not-malayalam', 'Not_offensive', 'Not_offensive', 'Not_offensive', 'Not_offensive', 'Not_offensive', 'Not_offensive', 'Not_offensive', 'not-malayalam', 'Not_offensive', 'Not_offensive', 'Not_offensive', 'Not_offensive', 'Not_offensive', 'not-malayalam', 'Not_offensive', 'not-malayalam', 'Not_offensive', 'Not_offensive', 'Not_offensive', 'Not_offensive', 'Not_offensive', 'Not_offensive', 'Not_offensive', 'Not_offensive', 'Not_offensive', 'Not_offensive', 'Not_offensive', 'Not_offensive', 'not-malayalam', 'Not_offensive', 'not-malayalam', 'Not_offensive', 'Not_offensive', 'Not_offensive', 'Offensive_Untargetede', 'Not_offensive', 'Not_offensive', 'Not_offensive', 'Not_offensive', 'not-malayalam', 'Not_offensive', 'Not_offensive', 'Not_offensive', 'Not_offensive', 'Not_offensive', 'Not_offensive', 'Not_offensive', 'Not_offensive', 'Not_offensive', 'Not_offensive', 'Not_offensive', 'Not_offensive', 'Not_offensive', 'Not_offensive', 'Not_offensive', 'Not_offensive', 'Not_offensive', 'Not_offensive', 'Not_offensive', 'Not_offensive', 'Not_offensive', 'Not_offensive', 'not-malayalam', 'not-malayalam', 'Not_offensive', 'Not_offensive', 'Not_offensive', 'Not_offensive', 'Not_offensive', 'Not_offensive', 'Not_offensive', 'Not_offensive', 'Not_offensive', 'Not_offensive', 'Not_offensive', 'Not_offensive', 'Not_offensive', 'Not_offensive', 'Not_offensive', 'Not_offensive', 'Not_offensive', 'Not_offensive', 'Not_offensive', 'Not_offensive', 'Not_offensive', 'Not_offensive', 'Not_offensive', 'Not_offensive', 'Not_offensive', 'Not_offensive', 'Not_offensive', 'Not_offensive', 'Not_offensive', 'Not_offensive', 'Not_offensive', 'Not_offensive', 'Not_offensive', 'Not_offensive', 'Not_offensive', 'Not_offensive', 'Not_offensive', 'not-malayalam', 'Not_offensive', 'Not_offensive', 'Not_offensive', 'Not_offensive', 'Not_offensive', 'Not_offensive', 'Not_offensive', 'Not_offensive', 'Not_offensive', 'not-malayalam', 'Not_offensive', 'not-malayalam', 'Not_offensive', 'Not_offensive', 'Not_offensive', 'not-malayalam', 'Not_offensive', 'Not_offensive', 'Not_offensive', 'Not_offensive', 'Not_offensive', 'Not_offensive', 'Not_offensive', 'Not_offensive', 'Not_offensive', 'Not_offensive', 'Not_offensive', 'Not_offensive', 'Not_offensive', 'Not_offensive', 'Not_offensive', 'Not_offensive', 'Not_offensive', 'Not_offensive', 'Not_offensive', 'Not_offensive', 'Not_offensive', 'Not_offensive', 'Not_offensive', 'Not_offensive', 'Not_offensive', 'Not_offensive', 'Not_offensive', 'Not_offensive', 'Not_offensive', 'Not_offensive', 'Not_offensive', 'Not_offensive', 'Not_offensive', 'Not_offensive', 'Not_offensive', 'Not_offensive', 'Not_offensive', 'Not_offensive', 'Not_offensive', 'not-malayalam', 'Not_offensive', 'Not_offensive', 'Not_offensive', 'Not_offensive', 'not-malayalam', 'Not_offensive', 'Not_offensive', 'Not_offensive', 'Not_offensive', 'Not_offensive', 'Not_offensive', 'Not_offensive', 'Not_offensive', 'Not_offensive', 'Not_offensive', 'Not_offensive', 'Not_offensive', 'not-malayalam', 'Not_offensive', 'Not_offensive', 'not-malayalam', 'Offensive_Untargetede', 'Not_offensive', 'Not_offensive', 'Not_offensive', 'Not_offensive', 'Not_offensive', 'Not_offensive', 'Not_offensive', 'Not_offensive', 'Not_offensive', 'Not_offensive', 'Not_offensive', 'Not_offensive', 'Not_offensive', 'Not_offensive', 'Not_offensive', 'Not_offensive', 'Not_offensive', 'Not_offensive', 'Not_offensive', 'Not_offensive', 'Not_offensive', 'Not_offensive', 'Not_offensive', 'Offensive_Untargetede', 'Not_offensive', 'Not_offensive', 'Not_offensive', 'Not_offensive', 'Not_offensive', 'Not_offensive', 'Not_offensive', 'not-malayalam', 'Not_offensive', 'Not_offensive', 'not-malayalam', 'Not_offensive', 'not-malayalam', 'Not_offensive', 'Not_offensive', 'Not_offensive', 'Not_offensive', 'Not_offensive', 'Not_offensive', 'Not_offensive', 'Not_offensive', 'Not_offensive', 'not-malayalam', 'Not_offensive', 'Not_offensive', 'not-malayalam', 'Offensive_Untargetede', 'Not_offensive', 'Not_offensive', 'Not_offensive', 'Not_offensive', 'Not_offensive', 'Not_offensive', 'Not_offensive', 'Not_offensive', 'Not_offensive', 'not-malayalam', 'Offensive_Untargetede', 'Not_offensive', 'Not_offensive', 'Not_offensive', 'Offensive_Untargetede', 'Not_offensive', 'Not_offensive', 'Not_offensive', 'Not_offensive', 'Not_offensive', 'Not_offensive', 'Not_offensive', 'Not_offensive', 'Not_offensive', 'Not_offensive', 'Not_offensive', 'Not_offensive', 'Offensive_Untargetede', 'Not_offensive', 'Not_offensive', 'Not_offensive', 'Not_offensive', 'Not_offensive', 'Not_offensive', 'Not_offensive', 'Offensive_Untargetede', 'Not_offensive', 'Not_offensive', 'Not_offensive', 'not-malayalam', 'Offensive_Untargetede', 'Not_offensive', 'Not_offensive', 'Not_offensive', 'Not_offensive', 'Not_offensive', 'Not_offensive', 'Not_offensive', 'Not_offensive', 'Not_offensive', 'Not_offensive', 'Not_offensive', 'Not_offensive', 'Not_offensive', 'Not_offensive', 'Not_offensive', 'Not_offensive', 'Not_offensive', 'Not_offensive', 'Not_offensive', 'not-malayalam', 'Not_offensive', 'Not_offensive', 'Not_offensive', 'Not_offensive', 'Not_offensive', 'Not_offensive', 'Not_offensive', 'Not_offensive', 'Not_offensive', 'Not_offensive', 'Not_offensive', 'Not_offensive', 'Not_offensive', 'Not_offensive', 'Not_offensive', 'Not_offensive', 'Not_offensive', 'Not_offensive', 'Not_offensive', 'Not_offensive', 'Not_offensive', 'Not_offensive', 'Not_offensive', 'Not_offensive', 'Not_offensive', 'Not_offensive', 'Not_offensive', 'Not_offensive', 'Not_offensive', 'Not_offensive', 'Not_offensive', 'Not_offensive', 'Not_offensive', 'Not_offensive', 'Not_offensive', 'Not_offensive', 'Not_offensive', 'Not_offensive', 'Not_offensive', 'Not_offensive', 'Not_offensive', 'Not_offensive', 'Not_offensive', 'Not_offensive', 'Not_offensive', 'Not_offensive', 'Not_offensive', 'Not_offensive', 'Not_offensive', 'Not_offensive', 'Not_offensive', 'Not_offensive', 'Not_offensive', 'Not_offensive', 'Not_offensive']\n"
          ],
          "name": "stdout"
        }
      ]
    },
    {
      "cell_type": "code",
      "metadata": {
        "id": "VPGfprOJVhHu"
      },
      "source": [
        "tt = pd.DataFrame(valid_data.index+1, columns=['id']) \n",
        "tt['label']=vv\n",
        "tt\n",
        "tt.to_excel(folder_path+'ml_off_indic-bert_cw_predictor.xlsx', index= False)"
      ],
      "execution_count": null,
      "outputs": []
    },
    {
      "cell_type": "code",
      "metadata": {
        "id": "Lmax_y-6XXAn"
      },
      "source": [
        "xlmr_val = pd.read_excel(folder_path+'off-ml-xlmr.xlsx')\n",
        "indic_bert = pd.read_excel(folder_path+'ml_off_indic-bert_predictor.xlsx')\n",
        "indic_bert_cw = pd.read_excel(folder_path+'ml_off_indic-bert_cw_predictor.xlsx')"
      ],
      "execution_count": null,
      "outputs": []
    },
    {
      "cell_type": "code",
      "metadata": {
        "colab": {
          "base_uri": "https://localhost:8080/"
        },
        "id": "8RAGR7HEX5sn",
        "outputId": "cf1b828d-d5ba-4d54-86ed-87c48409c058"
      },
      "source": [
        "print(classification_report(valid_data['label'], xlmr_val['label']))\n",
        "print(classification_report(valid_data['label'], indic_bert['label']))\n",
        "print(classification_report(valid_data['label'], indic_bert_cw['label']))\n",
        "print(classification_report(valid_data['label'], result['id4']))\n"
      ],
      "execution_count": null,
      "outputs": [
        {
          "output_type": "stream",
          "text": [
            "                                      precision    recall  f1-score   support\n",
            "\n",
            "                       Not_offensive       0.97      0.98      0.97      1779\n",
            "     Offensive_Targeted_Insult_Group       0.00      0.00      0.00        13\n",
            "Offensive_Targeted_Insult_Individual       0.00      0.00      0.00        24\n",
            "               Offensive_Untargetede       0.32      0.60      0.42        20\n",
            "                       not-malayalam       0.87      0.91      0.89       163\n",
            "\n",
            "                            accuracy                           0.95      1999\n",
            "                           macro avg       0.43      0.50      0.46      1999\n",
            "                        weighted avg       0.94      0.95      0.94      1999\n",
            "\n",
            "                                      precision    recall  f1-score   support\n",
            "\n",
            "                       Not_offensive       0.98      0.93      0.96      1779\n",
            "     Offensive_Targeted_Insult_Group       0.60      0.69      0.64        13\n",
            "Offensive_Targeted_Insult_Individual       0.22      0.54      0.31        24\n",
            "               Offensive_Untargetede       0.21      0.65      0.32        20\n",
            "                       not-malayalam       0.85      0.90      0.87       163\n",
            "\n",
            "                            accuracy                           0.92      1999\n",
            "                           macro avg       0.57      0.74      0.62      1999\n",
            "                        weighted avg       0.95      0.92      0.93      1999\n",
            "\n",
            "                                      precision    recall  f1-score   support\n",
            "\n",
            "                       Not_offensive       0.97      0.98      0.98      1779\n",
            "     Offensive_Targeted_Insult_Group       0.00      0.00      0.00        13\n",
            "Offensive_Targeted_Insult_Individual       0.50      0.17      0.25        24\n",
            "               Offensive_Untargetede       0.24      0.45      0.31        20\n",
            "                       not-malayalam       0.87      0.88      0.88       163\n",
            "\n",
            "                            accuracy                           0.95      1999\n",
            "                           macro avg       0.52      0.50      0.48      1999\n",
            "                        weighted avg       0.95      0.95      0.95      1999\n",
            "\n",
            "                                      precision    recall  f1-score   support\n",
            "\n",
            "                       Not_offensive       0.98      0.97      0.97      1779\n",
            "     Offensive_Targeted_Insult_Group       0.00      0.00      0.00        13\n",
            "Offensive_Targeted_Insult_Individual       0.50      0.17      0.25        24\n",
            "               Offensive_Untargetede       0.23      0.50      0.32        20\n",
            "                       not-malayalam       0.85      0.90      0.88       163\n",
            "\n",
            "                            accuracy                           0.95      1999\n",
            "                           macro avg       0.51      0.51      0.48      1999\n",
            "                        weighted avg       0.95      0.95      0.95      1999\n",
            "\n"
          ],
          "name": "stdout"
        }
      ]
    },
    {
      "cell_type": "code",
      "metadata": {
        "colab": {
          "base_uri": "https://localhost:8080/",
          "height": 419
        },
        "id": "ehZwPSLYaRPL",
        "outputId": "2a49b37b-6fc6-4759-9ab8-f88113cb0b91"
      },
      "source": [
        "result = pd.DataFrame(columns=['id1', 'id2', 'id3'])\n",
        "result['id1']=xlmr_val['label']\n",
        "result['id2']=indic_bert['label']\n",
        "result['id3'] =indic_bert_cw['label']\n",
        "result['id4'] = result['id2']\n",
        "result"
      ],
      "execution_count": null,
      "outputs": [
        {
          "output_type": "execute_result",
          "data": {
            "text/html": [
              "<div>\n",
              "<style scoped>\n",
              "    .dataframe tbody tr th:only-of-type {\n",
              "        vertical-align: middle;\n",
              "    }\n",
              "\n",
              "    .dataframe tbody tr th {\n",
              "        vertical-align: top;\n",
              "    }\n",
              "\n",
              "    .dataframe thead th {\n",
              "        text-align: right;\n",
              "    }\n",
              "</style>\n",
              "<table border=\"1\" class=\"dataframe\">\n",
              "  <thead>\n",
              "    <tr style=\"text-align: right;\">\n",
              "      <th></th>\n",
              "      <th>id1</th>\n",
              "      <th>id2</th>\n",
              "      <th>id3</th>\n",
              "      <th>id4</th>\n",
              "    </tr>\n",
              "  </thead>\n",
              "  <tbody>\n",
              "    <tr>\n",
              "      <th>0</th>\n",
              "      <td>Not_offensive</td>\n",
              "      <td>Not_offensive</td>\n",
              "      <td>Not_offensive</td>\n",
              "      <td>Not_offensive</td>\n",
              "    </tr>\n",
              "    <tr>\n",
              "      <th>1</th>\n",
              "      <td>Not_offensive</td>\n",
              "      <td>Not_offensive</td>\n",
              "      <td>Not_offensive</td>\n",
              "      <td>Not_offensive</td>\n",
              "    </tr>\n",
              "    <tr>\n",
              "      <th>2</th>\n",
              "      <td>Not_offensive</td>\n",
              "      <td>Not_offensive</td>\n",
              "      <td>Not_offensive</td>\n",
              "      <td>Not_offensive</td>\n",
              "    </tr>\n",
              "    <tr>\n",
              "      <th>3</th>\n",
              "      <td>Not_offensive</td>\n",
              "      <td>Not_offensive</td>\n",
              "      <td>Not_offensive</td>\n",
              "      <td>Not_offensive</td>\n",
              "    </tr>\n",
              "    <tr>\n",
              "      <th>4</th>\n",
              "      <td>Not_offensive</td>\n",
              "      <td>Not_offensive</td>\n",
              "      <td>Not_offensive</td>\n",
              "      <td>Not_offensive</td>\n",
              "    </tr>\n",
              "    <tr>\n",
              "      <th>...</th>\n",
              "      <td>...</td>\n",
              "      <td>...</td>\n",
              "      <td>...</td>\n",
              "      <td>...</td>\n",
              "    </tr>\n",
              "    <tr>\n",
              "      <th>1994</th>\n",
              "      <td>Not_offensive</td>\n",
              "      <td>Not_offensive</td>\n",
              "      <td>Not_offensive</td>\n",
              "      <td>Not_offensive</td>\n",
              "    </tr>\n",
              "    <tr>\n",
              "      <th>1995</th>\n",
              "      <td>Not_offensive</td>\n",
              "      <td>Not_offensive</td>\n",
              "      <td>Not_offensive</td>\n",
              "      <td>Not_offensive</td>\n",
              "    </tr>\n",
              "    <tr>\n",
              "      <th>1996</th>\n",
              "      <td>Not_offensive</td>\n",
              "      <td>Not_offensive</td>\n",
              "      <td>Not_offensive</td>\n",
              "      <td>Not_offensive</td>\n",
              "    </tr>\n",
              "    <tr>\n",
              "      <th>1997</th>\n",
              "      <td>Not_offensive</td>\n",
              "      <td>Not_offensive</td>\n",
              "      <td>Not_offensive</td>\n",
              "      <td>Not_offensive</td>\n",
              "    </tr>\n",
              "    <tr>\n",
              "      <th>1998</th>\n",
              "      <td>Not_offensive</td>\n",
              "      <td>Not_offensive</td>\n",
              "      <td>Not_offensive</td>\n",
              "      <td>Not_offensive</td>\n",
              "    </tr>\n",
              "  </tbody>\n",
              "</table>\n",
              "<p>1999 rows × 4 columns</p>\n",
              "</div>"
            ],
            "text/plain": [
              "                id1            id2            id3            id4\n",
              "0     Not_offensive  Not_offensive  Not_offensive  Not_offensive\n",
              "1     Not_offensive  Not_offensive  Not_offensive  Not_offensive\n",
              "2     Not_offensive  Not_offensive  Not_offensive  Not_offensive\n",
              "3     Not_offensive  Not_offensive  Not_offensive  Not_offensive\n",
              "4     Not_offensive  Not_offensive  Not_offensive  Not_offensive\n",
              "...             ...            ...            ...            ...\n",
              "1994  Not_offensive  Not_offensive  Not_offensive  Not_offensive\n",
              "1995  Not_offensive  Not_offensive  Not_offensive  Not_offensive\n",
              "1996  Not_offensive  Not_offensive  Not_offensive  Not_offensive\n",
              "1997  Not_offensive  Not_offensive  Not_offensive  Not_offensive\n",
              "1998  Not_offensive  Not_offensive  Not_offensive  Not_offensive\n",
              "\n",
              "[1999 rows x 4 columns]"
            ]
          },
          "metadata": {
            "tags": []
          },
          "execution_count": 115
        }
      ]
    },
    {
      "cell_type": "code",
      "metadata": {
        "id": "FLZxwYtxdwnA"
      },
      "source": [
        "c=0\n",
        "for i in range(len(valid_data)):\n",
        "   \n",
        "    if (result['id1'][i]==result['id2'][i]):\n",
        "        result['id4'][i] = result['id1'][i]\n",
        "    elif(result['id1'][i]==result['id3'][i]):\n",
        "        result['id4'][i] = result['id1'][i]\n",
        "    elif(result['id2'][i]==result['id3'][i]):\n",
        "         result['id4'][i] = result['id2'][i]"
      ],
      "execution_count": null,
      "outputs": []
    },
    {
      "cell_type": "code",
      "metadata": {
        "colab": {
          "base_uri": "https://localhost:8080/"
        },
        "id": "BIPLlwZde3JE",
        "outputId": "cbb470dc-c77e-4e51-d7a6-18dad78f4a82"
      },
      "source": [
        "result['id1'].value_counts()\n"
      ],
      "execution_count": null,
      "outputs": [
        {
          "output_type": "execute_result",
          "data": {
            "text/plain": [
              "Not_offensive            1792\n",
              "not-malayalam             170\n",
              "Offensive_Untargetede      37\n",
              "Name: id1, dtype: int64"
            ]
          },
          "metadata": {
            "tags": []
          },
          "execution_count": 109
        }
      ]
    },
    {
      "cell_type": "code",
      "metadata": {
        "colab": {
          "base_uri": "https://localhost:8080/"
        },
        "id": "89IQ8V9hjw6-",
        "outputId": "4a6ac8ad-50fb-4f1b-edaf-139ca03180dd"
      },
      "source": [
        "result['id4'].value_counts()"
      ],
      "execution_count": null,
      "outputs": [
        {
          "output_type": "execute_result",
          "data": {
            "text/plain": [
              "Not_offensive                           1776\n",
              "not-malayalam                            172\n",
              "Offensive_Untargetede                     43\n",
              "Offensive_Targeted_Insult_Individual       8\n",
              "Name: id4, dtype: int64"
            ]
          },
          "metadata": {
            "tags": []
          },
          "execution_count": 110
        }
      ]
    },
    {
      "cell_type": "code",
      "metadata": {
        "colab": {
          "base_uri": "https://localhost:8080/"
        },
        "id": "CvBnmI2bk3YH",
        "outputId": "5163f8f2-8503-43f1-8d06-a34538a96ce8"
      },
      "source": [
        "print(classification_report(valid_data['label'], result['id4']))"
      ],
      "execution_count": null,
      "outputs": [
        {
          "output_type": "stream",
          "text": [
            "                                      precision    recall  f1-score   support\n",
            "\n",
            "                       Not_offensive       0.98      0.97      0.97      1779\n",
            "     Offensive_Targeted_Insult_Group       0.00      0.00      0.00        13\n",
            "Offensive_Targeted_Insult_Individual       0.50      0.17      0.25        24\n",
            "               Offensive_Untargetede       0.23      0.50      0.32        20\n",
            "                       not-malayalam       0.85      0.90      0.88       163\n",
            "\n",
            "                            accuracy                           0.95      1999\n",
            "                           macro avg       0.51      0.51      0.48      1999\n",
            "                        weighted avg       0.95      0.95      0.95      1999\n",
            "\n"
          ],
          "name": "stdout"
        }
      ]
    },
    {
      "cell_type": "markdown",
      "metadata": {
        "id": "JLH5SfbL5j0U"
      },
      "source": [
        "##Machine Learning"
      ]
    },
    {
      "cell_type": "code",
      "metadata": {
        "id": "4z5cbE275j0U"
      },
      "source": [
        "def print_metrices(true,pred):\n",
        "    print(confusion_matrix(true,pred))\n",
        "    print(classification_report(true,pred))\n",
        "    print(\"Accuracy : \",accuracy_score(true,pred))\n",
        "    print(\"Precison : \",precision_score(true,pred, average = 'weighted'))\n",
        "    print(\"Recall : \",recall_score(true,pred,  average = 'weighted'))\n",
        "    print(\"F1 : \",f1_score(true,pred,  average = 'weighted'))"
      ],
      "execution_count": null,
      "outputs": []
    },
    {
      "cell_type": "code",
      "metadata": {
        "colab": {
          "base_uri": "https://localhost:8080/"
        },
        "id": "oSDfrpdp5j0X",
        "outputId": "92f5a0b4-b087-45b7-8b15-0ebcaa4cbce7"
      },
      "source": [
        "## TF-IDF\n",
        "from sklearn.feature_extraction.text import TfidfVectorizer\n",
        "from sklearn import metrics\n",
        "#use_idf=True,tokenizer=lambda x: x.split()\n",
        "vectorizer = TfidfVectorizer(tokenizer=lambda x: x.split())\n",
        "vectorised_posts = vectorizer.fit_transform(train_data['cleaned'])\n",
        "vectorized_train_posts = vectorizer.transform(train_data['cleaned'])\n",
        "vectorized_valid_posts = vectorizer.transform(valid_data['cleaned'])\n",
        "vectorized_test_posts = vectorizer.transform(test_data['cleaned'])\n",
        "\n",
        "print(\"Feature Size: \", vectorized_train_posts.shape[1])\n",
        "#vectorizer.vocabulary_"
      ],
      "execution_count": null,
      "outputs": [
        {
          "output_type": "stream",
          "text": [
            "Feature Size:  32597\n"
          ],
          "name": "stdout"
        }
      ]
    },
    {
      "cell_type": "code",
      "metadata": {
        "colab": {
          "base_uri": "https://localhost:8080/"
        },
        "id": "lg0HJXw65j0Y",
        "outputId": "b10c7306-5f10-4f3c-94cf-ac281a9ce2ca"
      },
      "source": [
        "vectorized_valid_posts.shape"
      ],
      "execution_count": null,
      "outputs": [
        {
          "output_type": "execute_result",
          "data": {
            "text/plain": [
              "(2843, 20798)"
            ]
          },
          "metadata": {
            "tags": []
          },
          "execution_count": 86
        }
      ]
    },
    {
      "cell_type": "code",
      "metadata": {
        "colab": {
          "base_uri": "https://localhost:8080/"
        },
        "id": "ybY3X2s65j0Y",
        "outputId": "56f86518-d721-4705-90b1-64ea9f082bb0"
      },
      "source": [
        "valid_data['label'].value_counts()"
      ],
      "execution_count": null,
      "outputs": [
        {
          "output_type": "execute_result",
          "data": {
            "text/plain": [
              "Not_offensive                           1779\n",
              "not-malayalam                            163\n",
              "Offensive_Targeted_Insult_Individual      24\n",
              "Offensive_Untargetede                     20\n",
              "Offensive_Targeted_Insult_Group           13\n",
              "Name: label, dtype: int64"
            ]
          },
          "metadata": {
            "tags": []
          },
          "execution_count": 24
        }
      ]
    },
    {
      "cell_type": "code",
      "metadata": {
        "id": "EJVfyq9o5j0Z"
      },
      "source": [
        "labels = ['Not_offensive',\n",
        "       'Offensive_Targeted_Insult_Group',\n",
        "       'Offensive_Targeted_Insult_Individual', 'Offensive_Untargetede',\n",
        "       'not-malayalam']\n",
        "def actual_label(row):\n",
        "    return labels[row]"
      ],
      "execution_count": null,
      "outputs": []
    },
    {
      "cell_type": "markdown",
      "metadata": {
        "id": "ilK0ABMUx1y4"
      },
      "source": [
        "### Logistic Regression"
      ]
    },
    {
      "cell_type": "code",
      "metadata": {
        "colab": {
          "base_uri": "https://localhost:8080/"
        },
        "id": "yAah06GQ5j0Z",
        "outputId": "6fd610da-4e1d-4add-95df-357bdb8d9666"
      },
      "source": [
        "# After Tunning\n",
        "# Optimum C = 100 \n",
        "lr = LogisticRegression(class_weight='balanced')\n",
        "lr.fit(vectorized_train_posts,train_data['enc_label'])\n",
        "y_pred = lr.predict(vectorized_valid_posts)\n",
        "print_metrices(valid_data['enc_label'],y_pred)"
      ],
      "execution_count": null,
      "outputs": [
        {
          "output_type": "stream",
          "text": [
            "[[1654   87    6   24    8]\n",
            " [  14  149    0    0    0]\n",
            " [  12    0   12    0    0]\n",
            " [   7    0    0   12    1]\n",
            " [   2    0    1    2    8]]\n",
            "              precision    recall  f1-score   support\n",
            "\n",
            "           0       0.98      0.93      0.95      1779\n",
            "           1       0.63      0.91      0.75       163\n",
            "           2       0.63      0.50      0.56        24\n",
            "           3       0.32      0.60      0.41        20\n",
            "           4       0.47      0.62      0.53        13\n",
            "\n",
            "    accuracy                           0.92      1999\n",
            "   macro avg       0.61      0.71      0.64      1999\n",
            "weighted avg       0.94      0.92      0.92      1999\n",
            "\n",
            "Accuracy :  0.9179589794897449\n",
            "Precison :  0.936787063200354\n",
            "Recall :  0.9179589794897449\n",
            "F1 :  0.9240959319874745\n"
          ],
          "name": "stdout"
        }
      ]
    },
    {
      "cell_type": "code",
      "metadata": {
        "id": "GNYaiBe45j0Z"
      },
      "source": [
        "test_pred = lr.predict(vectorized_test_posts).tolist()\n",
        "test_data['id'] = test_data.index + 1"
      ],
      "execution_count": null,
      "outputs": []
    },
    {
      "cell_type": "code",
      "metadata": {
        "id": "IsXFr3JS5j0a"
      },
      "source": [
        "run = pd.DataFrame(test_data['id'])\n",
        "run['text'] = test_data['text']\n",
        "run['label'] = test_pred\n",
        "run['label'] = run['label'].apply(actual_label)\n",
        "run "
      ],
      "execution_count": null,
      "outputs": []
    },
    {
      "cell_type": "code",
      "metadata": {
        "id": "wctd2gvq5j0a"
      },
      "source": [
        "run.to_csv(folder_path +'malayalam_off_lr.csv',index = False)"
      ],
      "execution_count": null,
      "outputs": []
    },
    {
      "cell_type": "markdown",
      "metadata": {
        "id": "iHhUORa_yFaZ"
      },
      "source": [
        "### SVM"
      ]
    },
    {
      "cell_type": "code",
      "metadata": {
        "colab": {
          "base_uri": "https://localhost:8080/"
        },
        "id": "YQvn8JMl5j0a",
        "outputId": "d6367c3a-fcdb-4120-d64e-12d1443b77d2"
      },
      "source": [
        "## SVM\n",
        "from sklearn.svm import SVC\n",
        "svc =  SVC(kernel='linear' ,random_state=1234,class_weight='balanced',C =5)\n",
        "svc.fit(vectorized_train_posts,train_data['enc_label'])\n",
        "y_pred = svc.predict(vectorized_valid_posts)\n",
        "print_metrices(valid_data['enc_label'],y_pred)"
      ],
      "execution_count": null,
      "outputs": [
        {
          "output_type": "stream",
          "text": [
            "[[1723   49    2    3    2]\n",
            " [  24  139    0    0    0]\n",
            " [  12    0   12    0    0]\n",
            " [   7    0    0   12    1]\n",
            " [   5    0    0    0    8]]\n",
            "              precision    recall  f1-score   support\n",
            "\n",
            "           0       0.97      0.97      0.97      1779\n",
            "           1       0.74      0.85      0.79       163\n",
            "           2       0.86      0.50      0.63        24\n",
            "           3       0.80      0.60      0.69        20\n",
            "           4       0.73      0.62      0.67        13\n",
            "\n",
            "    accuracy                           0.95      1999\n",
            "   macro avg       0.82      0.71      0.75      1999\n",
            "weighted avg       0.95      0.95      0.95      1999\n",
            "\n",
            "Accuracy :  0.9474737368684342\n",
            "Precison :  0.9491371209710723\n",
            "Recall :  0.9474737368684342\n",
            "F1 :  0.9472343067128154\n"
          ],
          "name": "stdout"
        }
      ]
    },
    {
      "cell_type": "code",
      "metadata": {
        "id": "AafeB09b5j0b"
      },
      "source": [
        "test_pred = svc.predict(vectorized_test_posts).tolist()\n",
        "test_data['id'] = test_data.index + 1"
      ],
      "execution_count": null,
      "outputs": []
    },
    {
      "cell_type": "code",
      "metadata": {
        "colab": {
          "base_uri": "https://localhost:8080/",
          "height": 419
        },
        "id": "MAZAxlI55j0b",
        "outputId": "bbe39bbe-acab-4bde-8d8d-677264ef32ce"
      },
      "source": [
        "run = pd.DataFrame(test_data['id'])\n",
        "run['text'] = test_data['text']\n",
        "run['label'] = test_pred\n",
        "run['label'] = run['label'].apply(actual_label)\n",
        "run "
      ],
      "execution_count": null,
      "outputs": [
        {
          "output_type": "execute_result",
          "data": {
            "text/html": [
              "<div>\n",
              "<style scoped>\n",
              "    .dataframe tbody tr th:only-of-type {\n",
              "        vertical-align: middle;\n",
              "    }\n",
              "\n",
              "    .dataframe tbody tr th {\n",
              "        vertical-align: top;\n",
              "    }\n",
              "\n",
              "    .dataframe thead th {\n",
              "        text-align: right;\n",
              "    }\n",
              "</style>\n",
              "<table border=\"1\" class=\"dataframe\">\n",
              "  <thead>\n",
              "    <tr style=\"text-align: right;\">\n",
              "      <th></th>\n",
              "      <th>id</th>\n",
              "      <th>text</th>\n",
              "      <th>label</th>\n",
              "    </tr>\n",
              "  </thead>\n",
              "  <tbody>\n",
              "    <tr>\n",
              "      <th>0</th>\n",
              "      <td>1</td>\n",
              "      <td>അപ്പൊ ഇതൊരൊന്നൊരാ മൊതലാണല്ലേ  Suraj ആണ് നടൻ ന്...</td>\n",
              "      <td>Not_offensive</td>\n",
              "    </tr>\n",
              "    <tr>\n",
              "      <th>1</th>\n",
              "      <td>2</td>\n",
              "      <td>എന്ത് ഊള എഡിറ്റിംഗ് ആടോ ഇത് ഒരുമാതിരി vivo vid...</td>\n",
              "      <td>Not_offensive</td>\n",
              "    </tr>\n",
              "    <tr>\n",
              "      <th>2</th>\n",
              "      <td>3</td>\n",
              "      <td>Fefka ee padam release cheyyan samadhicho?</td>\n",
              "      <td>Not_offensive</td>\n",
              "    </tr>\n",
              "    <tr>\n",
              "      <th>3</th>\n",
              "      <td>4</td>\n",
              "      <td>അആഹാ.. സംഗീതം ജെക്‌സ് ബിജോയ് ആണ് അപ്പൊ പൊട്ടലു...</td>\n",
              "      <td>Not_offensive</td>\n",
              "    </tr>\n",
              "    <tr>\n",
              "      <th>4</th>\n",
              "      <td>5</td>\n",
              "      <td>Ravile thane views likes ethra ayyi enn nokan ...</td>\n",
              "      <td>Not_offensive</td>\n",
              "    </tr>\n",
              "    <tr>\n",
              "      <th>...</th>\n",
              "      <td>...</td>\n",
              "      <td>...</td>\n",
              "      <td>...</td>\n",
              "    </tr>\n",
              "    <tr>\n",
              "      <th>1996</th>\n",
              "      <td>1997</td>\n",
              "      <td>Swargatthil ninnu purathaakkappetta daivatthin...</td>\n",
              "      <td>Not_offensive</td>\n",
              "    </tr>\n",
              "    <tr>\n",
              "      <th>1997</th>\n",
              "      <td>1998</td>\n",
              "      <td>Ivide Palakkad Jayettan Fans club nnu ashamsak...</td>\n",
              "      <td>Not_offensive</td>\n",
              "    </tr>\n",
              "    <tr>\n",
              "      <th>1998</th>\n",
              "      <td>1999</td>\n",
              "      <td>ഈ പടത്തിന് വെയിറ്റ് ചെയ്യുന്ന മമ്മൂക്ക ഫാൻസും</td>\n",
              "      <td>Not_offensive</td>\n",
              "    </tr>\n",
              "    <tr>\n",
              "      <th>1999</th>\n",
              "      <td>2000</td>\n",
              "      <td>കട്ട ലാലേട്ടൻ ഫാൻസ് ഒരു ലൈക് തന്നിട്ട് പോവാമോ ...</td>\n",
              "      <td>Not_offensive</td>\n",
              "    </tr>\n",
              "    <tr>\n",
              "      <th>2000</th>\n",
              "      <td>2001</td>\n",
              "      <td>Koora padam urappa kandal aryam.. Hello</td>\n",
              "      <td>Not_offensive</td>\n",
              "    </tr>\n",
              "  </tbody>\n",
              "</table>\n",
              "<p>2001 rows × 3 columns</p>\n",
              "</div>"
            ],
            "text/plain": [
              "        id                                               text          label\n",
              "0        1  അപ്പൊ ഇതൊരൊന്നൊരാ മൊതലാണല്ലേ  Suraj ആണ് നടൻ ന്...  Not_offensive\n",
              "1        2  എന്ത് ഊള എഡിറ്റിംഗ് ആടോ ഇത് ഒരുമാതിരി vivo vid...  Not_offensive\n",
              "2        3         Fefka ee padam release cheyyan samadhicho?  Not_offensive\n",
              "3        4  അആഹാ.. സംഗീതം ജെക്‌സ് ബിജോയ് ആണ് അപ്പൊ പൊട്ടലു...  Not_offensive\n",
              "4        5  Ravile thane views likes ethra ayyi enn nokan ...  Not_offensive\n",
              "...    ...                                                ...            ...\n",
              "1996  1997  Swargatthil ninnu purathaakkappetta daivatthin...  Not_offensive\n",
              "1997  1998  Ivide Palakkad Jayettan Fans club nnu ashamsak...  Not_offensive\n",
              "1998  1999      ഈ പടത്തിന് വെയിറ്റ് ചെയ്യുന്ന മമ്മൂക്ക ഫാൻസും  Not_offensive\n",
              "1999  2000  കട്ട ലാലേട്ടൻ ഫാൻസ് ഒരു ലൈക് തന്നിട്ട് പോവാമോ ...  Not_offensive\n",
              "2000  2001            Koora padam urappa kandal aryam.. Hello  Not_offensive\n",
              "\n",
              "[2001 rows x 3 columns]"
            ]
          },
          "metadata": {
            "tags": []
          },
          "execution_count": 40
        }
      ]
    },
    {
      "cell_type": "code",
      "metadata": {
        "colab": {
          "base_uri": "https://localhost:8080/"
        },
        "id": "3kI_zTSA4LoN",
        "outputId": "35a78b15-c406-49e0-8aca-37e01e6b6669"
      },
      "source": [
        "run['label'].value_counts()"
      ],
      "execution_count": null,
      "outputs": [
        {
          "output_type": "execute_result",
          "data": {
            "text/plain": [
              "Not_offensive                           1757\n",
              "Offensive_Targeted_Insult_Group          187\n",
              "Offensive_Untargetede                     24\n",
              "Offensive_Targeted_Insult_Individual      18\n",
              "not-malayalam                             15\n",
              "Name: label, dtype: int64"
            ]
          },
          "metadata": {
            "tags": []
          },
          "execution_count": 41
        }
      ]
    },
    {
      "cell_type": "code",
      "metadata": {
        "id": "XnNipbnG5j0b"
      },
      "source": [
        "run.to_csv(folder_path +'malayalam_off_svm.csv',index = False)"
      ],
      "execution_count": null,
      "outputs": []
    },
    {
      "cell_type": "markdown",
      "metadata": {
        "id": "YMCJd1G3yH3V"
      },
      "source": [
        "### Ensemble Appraoch (Majority Voting)"
      ]
    },
    {
      "cell_type": "code",
      "metadata": {
        "colab": {
          "base_uri": "https://localhost:8080/"
        },
        "id": "hr9ugX5zyKvZ",
        "outputId": "0c02936a-9814-4bc1-e930-239844d2485c"
      },
      "source": [
        "\n",
        "LogReg_clf = LogisticRegression(class_weight='balanced')\n",
        "DTree_clf = DecisionTreeClassifier(class_weight='balanced',)\n",
        "rt_clf =   RandomForestClassifier(class_weight='balanced')\n",
        "SVC_clf = SVC(C = 5,class_weight='balanced')\n",
        "\n",
        "\n",
        "voting_clf = VotingClassifier(estimators=[('SVC', SVC_clf), ('DTree', DTree_clf), ('LogReg', LogReg_clf),('RF', rt_clf)], voting='hard')\n",
        "voting_clf.fit(vectorized_train_posts, train_data['enc_label'])\n",
        "preds = voting_clf.predict(vectorized_valid_posts)\n",
        "print_metrices(valid_data['enc_label'], preds)\n"
      ],
      "execution_count": null,
      "outputs": [
        {
          "output_type": "stream",
          "text": [
            "[[1765   12    1    0    1]\n",
            " [  36  127    0    0    0]\n",
            " [  12    0   12    0    0]\n",
            " [  10    0    0   10    0]\n",
            " [   6    0    0    0    7]]\n",
            "              precision    recall  f1-score   support\n",
            "\n",
            "           0       0.97      0.99      0.98      1779\n",
            "           1       0.91      0.78      0.84       163\n",
            "           2       0.92      0.50      0.65        24\n",
            "           3       1.00      0.50      0.67        20\n",
            "           4       0.88      0.54      0.67        13\n",
            "\n",
            "    accuracy                           0.96      1999\n",
            "   macro avg       0.94      0.66      0.76      1999\n",
            "weighted avg       0.96      0.96      0.96      1999\n",
            "\n",
            "Accuracy :  0.9609804902451226\n",
            "Precison :  0.9600832884680645\n",
            "Recall :  0.9609804902451226\n",
            "F1 :  0.9580794139226035\n"
          ],
          "name": "stdout"
        }
      ]
    },
    {
      "cell_type": "code",
      "metadata": {
        "id": "GuZRIIiU5EmO"
      },
      "source": [
        "test_pred = voting_clf.predict(vectorized_test_posts).tolist()\n",
        "test_data['id'] = test_data.index + 1"
      ],
      "execution_count": null,
      "outputs": []
    },
    {
      "cell_type": "code",
      "metadata": {
        "colab": {
          "base_uri": "https://localhost:8080/",
          "height": 419
        },
        "id": "8mz9I3gf5ZNq",
        "outputId": "51b3ac91-d6cc-4e0f-93df-c88c72ab1e87"
      },
      "source": [
        "run = pd.DataFrame(test_data['id'])\n",
        "run['text'] = test_data['text']\n",
        "run['label'] = test_pred\n",
        "run['label'] = run['label'].apply(actual_label)\n",
        "run "
      ],
      "execution_count": null,
      "outputs": [
        {
          "output_type": "execute_result",
          "data": {
            "text/html": [
              "<div>\n",
              "<style scoped>\n",
              "    .dataframe tbody tr th:only-of-type {\n",
              "        vertical-align: middle;\n",
              "    }\n",
              "\n",
              "    .dataframe tbody tr th {\n",
              "        vertical-align: top;\n",
              "    }\n",
              "\n",
              "    .dataframe thead th {\n",
              "        text-align: right;\n",
              "    }\n",
              "</style>\n",
              "<table border=\"1\" class=\"dataframe\">\n",
              "  <thead>\n",
              "    <tr style=\"text-align: right;\">\n",
              "      <th></th>\n",
              "      <th>id</th>\n",
              "      <th>text</th>\n",
              "      <th>label</th>\n",
              "    </tr>\n",
              "  </thead>\n",
              "  <tbody>\n",
              "    <tr>\n",
              "      <th>0</th>\n",
              "      <td>1</td>\n",
              "      <td>അപ്പൊ ഇതൊരൊന്നൊരാ മൊതലാണല്ലേ  Suraj ആണ് നടൻ ന്...</td>\n",
              "      <td>Not_offensive</td>\n",
              "    </tr>\n",
              "    <tr>\n",
              "      <th>1</th>\n",
              "      <td>2</td>\n",
              "      <td>എന്ത് ഊള എഡിറ്റിംഗ് ആടോ ഇത് ഒരുമാതിരി vivo vid...</td>\n",
              "      <td>Not_offensive</td>\n",
              "    </tr>\n",
              "    <tr>\n",
              "      <th>2</th>\n",
              "      <td>3</td>\n",
              "      <td>Fefka ee padam release cheyyan samadhicho?</td>\n",
              "      <td>Not_offensive</td>\n",
              "    </tr>\n",
              "    <tr>\n",
              "      <th>3</th>\n",
              "      <td>4</td>\n",
              "      <td>അആഹാ.. സംഗീതം ജെക്‌സ് ബിജോയ് ആണ് അപ്പൊ പൊട്ടലു...</td>\n",
              "      <td>Not_offensive</td>\n",
              "    </tr>\n",
              "    <tr>\n",
              "      <th>4</th>\n",
              "      <td>5</td>\n",
              "      <td>Ravile thane views likes ethra ayyi enn nokan ...</td>\n",
              "      <td>Not_offensive</td>\n",
              "    </tr>\n",
              "    <tr>\n",
              "      <th>...</th>\n",
              "      <td>...</td>\n",
              "      <td>...</td>\n",
              "      <td>...</td>\n",
              "    </tr>\n",
              "    <tr>\n",
              "      <th>1996</th>\n",
              "      <td>1997</td>\n",
              "      <td>Swargatthil ninnu purathaakkappetta daivatthin...</td>\n",
              "      <td>Not_offensive</td>\n",
              "    </tr>\n",
              "    <tr>\n",
              "      <th>1997</th>\n",
              "      <td>1998</td>\n",
              "      <td>Ivide Palakkad Jayettan Fans club nnu ashamsak...</td>\n",
              "      <td>Not_offensive</td>\n",
              "    </tr>\n",
              "    <tr>\n",
              "      <th>1998</th>\n",
              "      <td>1999</td>\n",
              "      <td>ഈ പടത്തിന് വെയിറ്റ് ചെയ്യുന്ന മമ്മൂക്ക ഫാൻസും</td>\n",
              "      <td>Not_offensive</td>\n",
              "    </tr>\n",
              "    <tr>\n",
              "      <th>1999</th>\n",
              "      <td>2000</td>\n",
              "      <td>കട്ട ലാലേട്ടൻ ഫാൻസ് ഒരു ലൈക് തന്നിട്ട് പോവാമോ ...</td>\n",
              "      <td>Not_offensive</td>\n",
              "    </tr>\n",
              "    <tr>\n",
              "      <th>2000</th>\n",
              "      <td>2001</td>\n",
              "      <td>Koora padam urappa kandal aryam.. Hello</td>\n",
              "      <td>Not_offensive</td>\n",
              "    </tr>\n",
              "  </tbody>\n",
              "</table>\n",
              "<p>2001 rows × 3 columns</p>\n",
              "</div>"
            ],
            "text/plain": [
              "        id                                               text          label\n",
              "0        1  അപ്പൊ ഇതൊരൊന്നൊരാ മൊതലാണല്ലേ  Suraj ആണ് നടൻ ന്...  Not_offensive\n",
              "1        2  എന്ത് ഊള എഡിറ്റിംഗ് ആടോ ഇത് ഒരുമാതിരി vivo vid...  Not_offensive\n",
              "2        3         Fefka ee padam release cheyyan samadhicho?  Not_offensive\n",
              "3        4  അആഹാ.. സംഗീതം ജെക്‌സ് ബിജോയ് ആണ് അപ്പൊ പൊട്ടലു...  Not_offensive\n",
              "4        5  Ravile thane views likes ethra ayyi enn nokan ...  Not_offensive\n",
              "...    ...                                                ...            ...\n",
              "1996  1997  Swargatthil ninnu purathaakkappetta daivatthin...  Not_offensive\n",
              "1997  1998  Ivide Palakkad Jayettan Fans club nnu ashamsak...  Not_offensive\n",
              "1998  1999      ഈ പടത്തിന് വെയിറ്റ് ചെയ്യുന്ന മമ്മൂക്ക ഫാൻസും  Not_offensive\n",
              "1999  2000  കട്ട ലാലേട്ടൻ ഫാൻസ് ഒരു ലൈക് തന്നിട്ട് പോവാമോ ...  Not_offensive\n",
              "2000  2001            Koora padam urappa kandal aryam.. Hello  Not_offensive\n",
              "\n",
              "[2001 rows x 3 columns]"
            ]
          },
          "metadata": {
            "tags": []
          },
          "execution_count": 45
        }
      ]
    },
    {
      "cell_type": "code",
      "metadata": {
        "colab": {
          "base_uri": "https://localhost:8080/"
        },
        "id": "C9JHgwVst_nT",
        "outputId": "654f1625-d366-4314-ec81-fd20b1504557"
      },
      "source": [
        "run['label'].value_counts()"
      ],
      "execution_count": null,
      "outputs": [
        {
          "output_type": "execute_result",
          "data": {
            "text/plain": [
              "Not_offensive                           1825\n",
              "Offensive_Targeted_Insult_Group          133\n",
              "Offensive_Untargetede                     17\n",
              "Offensive_Targeted_Insult_Individual      15\n",
              "not-malayalam                             11\n",
              "Name: label, dtype: int64"
            ]
          },
          "metadata": {
            "tags": []
          },
          "execution_count": 46
        }
      ]
    },
    {
      "cell_type": "code",
      "metadata": {
        "id": "a3KraTbp5eHB"
      },
      "source": [
        "run.to_csv(folder_path +'malayalam_off_voting.csv',index = False)"
      ],
      "execution_count": null,
      "outputs": []
    },
    {
      "cell_type": "markdown",
      "metadata": {
        "id": "RazOzsyM5j0c"
      },
      "source": [
        "##Deep Learning"
      ]
    },
    {
      "cell_type": "code",
      "metadata": {
        "colab": {
          "base_uri": "https://localhost:8080/"
        },
        "id": "YMGWSL9M5j0c",
        "outputId": "9be068ef-12ea-46f5-c163-857c40f777c2"
      },
      "source": [
        "import tensorflow as tf\n",
        "from tensorflow import keras\n",
        "from tensorflow.keras.preprocessing.sequence import pad_sequences\n",
        "from tensorflow.keras.preprocessing.text import Tokenizer\n",
        "from tensorflow.keras import regularizers\n",
        "from tensorflow.keras.layers import LSTM,GRU\n",
        "from tensorflow.keras.models import load_model\n",
        "print(\"Tensorflow Version:--\",tf.version.VERSION)\n",
        "print(\"Keras Version:---\",keras.__version__)"
      ],
      "execution_count": null,
      "outputs": [
        {
          "output_type": "stream",
          "text": [
            "Tensorflow Version:-- 2.4.0\n",
            "Keras Version:--- 2.4.0\n"
          ],
          "name": "stdout"
        }
      ]
    },
    {
      "cell_type": "markdown",
      "metadata": {
        "id": "BeKaLLXs5j0c"
      },
      "source": [
        "###Tokenization"
      ]
    },
    {
      "cell_type": "code",
      "metadata": {
        "id": "0zLqmKVR5j0d"
      },
      "source": [
        "tokenizer = Tokenizer(num_words = 10000,filters='!\"#$%&()*+,-./:;<=>?@[\\\\]^_`{|}~\\t\\n-', \n",
        "                      split=' ', char_level=False, oov_token='<oov>', document_count=0)\n",
        "tokenizer.fit_on_texts(train_data['text'])  \n",
        "vocab_size = len(tokenizer.word_index)+1"
      ],
      "execution_count": null,
      "outputs": []
    },
    {
      "cell_type": "code",
      "metadata": {
        "colab": {
          "base_uri": "https://localhost:8080/"
        },
        "id": "bi3qgrR-5j0d",
        "outputId": "73b0ffc3-840c-45fe-a148-1b8088b10d90"
      },
      "source": [
        "print(vocab_size)"
      ],
      "execution_count": null,
      "outputs": [
        {
          "output_type": "stream",
          "text": [
            "31746\n"
          ],
          "name": "stdout"
        }
      ]
    },
    {
      "cell_type": "code",
      "metadata": {
        "colab": {
          "base_uri": "https://localhost:8080/"
        },
        "id": "vTtNAzs35j0d",
        "outputId": "77828ea8-05e0-45e8-eb7c-d5b6a88c24a7"
      },
      "source": [
        "max_len = 50\n",
        "# Training Sequences\n",
        "train_sequences = tokenizer.texts_to_sequences(train_data['text'])\n",
        "print(len(tokenizer.word_index))\n",
        "train_pad_sequences =  keras.preprocessing.sequence.pad_sequences(train_sequences, value=0.0, padding='post', maxlen= max_len)\n",
        "print(\"Number of Training Sequences :\" ,train_pad_sequences.shape)\n",
        "\n",
        "# Validation Sequences\n",
        "validation_sequences = tokenizer.texts_to_sequences(valid_data['text'])\n",
        "validation_pad_sequences =  keras.preprocessing.sequence.pad_sequences(validation_sequences, value=0.0, padding='post', maxlen= max_len)\n",
        "print(\"Number of Validation Sequences :\" ,validation_pad_sequences.shape)"
      ],
      "execution_count": null,
      "outputs": [
        {
          "output_type": "stream",
          "text": [
            "31745\n",
            "Number of Training Sequences : (16010, 50)\n",
            "Number of Validation Sequences : (1999, 50)\n"
          ],
          "name": "stdout"
        }
      ]
    },
    {
      "cell_type": "code",
      "metadata": {
        "colab": {
          "base_uri": "https://localhost:8080/"
        },
        "id": "LBgHv9GE5j0e",
        "outputId": "49f20f69-bc48-432b-df49-9e1f49193c3c"
      },
      "source": [
        "# Test Sequences\n",
        "test_sequences = tokenizer.texts_to_sequences(test_data['text'])\n",
        "test_pad_sequences =  keras.preprocessing.sequence.pad_sequences(test_sequences, value=0.0, padding='post', maxlen= max_len)\n",
        "print(\"Number of Test Sequences :\" ,test_pad_sequences.shape)"
      ],
      "execution_count": null,
      "outputs": [
        {
          "output_type": "stream",
          "text": [
            "Number of Test Sequences : (2001, 50)\n"
          ],
          "name": "stdout"
        }
      ]
    },
    {
      "cell_type": "code",
      "metadata": {
        "id": "asyckOEV5j0e"
      },
      "source": [
        "from sklearn.utils import class_weight\n",
        "class_weights = class_weight.compute_class_weight('balanced'\n",
        "                                               ,np.unique(train_data['enc_label'])\n",
        "                                               ,train_data['enc_label'])\n",
        "\n",
        "weight = {i : class_weights[i] for i in range(5)}"
      ],
      "execution_count": null,
      "outputs": []
    },
    {
      "cell_type": "code",
      "metadata": {
        "colab": {
          "base_uri": "https://localhost:8080/"
        },
        "id": "PGW1N23s5j0e",
        "outputId": "b13fb2ed-44ba-4e8b-d688-a7953d5261e2"
      },
      "source": [
        "weight"
      ],
      "execution_count": null,
      "outputs": [
        {
          "output_type": "execute_result",
          "data": {
            "text/plain": [
              "{0: 0.22624178619373983,\n",
              " 1: 2.487956487956488,\n",
              " 2: 13.397489539748953,\n",
              " 3: 16.76439790575916,\n",
              " 4: 22.87142857142857}"
            ]
          },
          "metadata": {
            "tags": []
          },
          "execution_count": 27
        }
      ]
    },
    {
      "cell_type": "code",
      "metadata": {
        "colab": {
          "base_uri": "https://localhost:8080/"
        },
        "id": "Z7cfxG0U5j0f",
        "outputId": "dd3c29c2-2821-4a89-d1de-21073a004463"
      },
      "source": [
        "num_classes = 5\n",
        "\n",
        "accuracy_threshold = 0.99\n",
        "\n",
        "class myCallback(keras.callbacks.Callback):\n",
        "  def on_epoch_end(self, epoch, logs={}):\n",
        "      if(logs.get('accuracy')>accuracy_threshold):\n",
        "        print(\"\\nReached %2.2f%% accuracy so we will stop trianing\" % (accuracy_threshold*100))\n",
        "        self.model.stop_training = True\n",
        "\n",
        "acc_callback = myCallback()\n",
        "# Saved the Best Model\n",
        "filepath = folder_path+\"ml_off_BiLSTMModel.h5\"\n",
        "checkpoint = keras.callbacks.ModelCheckpoint(filepath, monitor='val_accuracy', verbose=2, save_best_only=True, \n",
        "                                             save_weights_only=False, mode='max')\n",
        "# callback list\n",
        "callback_list = [acc_callback, checkpoint] \n",
        "model = tf.keras.models.Sequential([\n",
        "tf.keras.layers.Embedding(10000, 100, input_length = max_len),\n",
        "tf.keras.layers.Conv1D(128, 5, activation='relu'),\n",
        "tf.keras.layers.MaxPooling1D(5),\n",
        "tf.keras.layers.Bidirectional(LSTM(units = 32,return_sequences=True,dropout = 0.2)),\n",
        "tf.keras.layers.Flatten(),\n",
        "tf.keras.layers.Dense(5 , activation='softmax')])\n",
        "\n",
        "model.summary()\n"
      ],
      "execution_count": null,
      "outputs": [
        {
          "output_type": "stream",
          "text": [
            "Model: \"sequential_8\"\n",
            "_________________________________________________________________\n",
            "Layer (type)                 Output Shape              Param #   \n",
            "=================================================================\n",
            "embedding_8 (Embedding)      (None, 50, 100)           1000000   \n",
            "_________________________________________________________________\n",
            "conv1d_2 (Conv1D)            (None, 46, 128)           64128     \n",
            "_________________________________________________________________\n",
            "max_pooling1d_2 (MaxPooling1 (None, 9, 128)            0         \n",
            "_________________________________________________________________\n",
            "bidirectional_8 (Bidirection (None, 9, 64)             41216     \n",
            "_________________________________________________________________\n",
            "flatten_8 (Flatten)          (None, 576)               0         \n",
            "_________________________________________________________________\n",
            "dense_8 (Dense)              (None, 5)                 2885      \n",
            "=================================================================\n",
            "Total params: 1,108,229\n",
            "Trainable params: 1,108,229\n",
            "Non-trainable params: 0\n",
            "_________________________________________________________________\n"
          ],
          "name": "stdout"
        }
      ]
    },
    {
      "cell_type": "code",
      "metadata": {
        "colab": {
          "base_uri": "https://localhost:8080/"
        },
        "id": "RQjB-Ilx5j0f",
        "outputId": "ec5cfee7-5242-42f6-e7eb-1b7b822dbc76"
      },
      "source": [
        "model.compile(optimizer=keras.optimizers.Adam(learning_rate=0.001),\n",
        "    loss='sparse_categorical_crossentropy',\n",
        "    metrics=['accuracy'])\n",
        "   \n",
        "history = model.fit(train_pad_sequences,\n",
        "    train_data['enc_label'],\n",
        "    epochs=15,\n",
        "    batch_size = 32,\n",
        "    validation_split = 0.2,\n",
        "    verbose =1,\n",
        "    callbacks = callback_list,\n",
        "    class_weight = weight)"
      ],
      "execution_count": null,
      "outputs": [
        {
          "output_type": "stream",
          "text": [
            "Epoch 1/15\n",
            "401/401 [==============================] - 8s 12ms/step - loss: 1.4113 - accuracy: 0.2546 - val_loss: 1.1415 - val_accuracy: 0.5999\n",
            "\n",
            "Epoch 00001: val_accuracy improved from -inf to 0.59994, saving model to /content/drive/MyDrive/Colab Notebooks/NLP Projects/EACL 2021- Shared Tasks/Offensive Language/ml_off_BiLSTMModel.h5\n",
            "Epoch 2/15\n",
            "401/401 [==============================] - 4s 10ms/step - loss: 0.7912 - accuracy: 0.8119 - val_loss: 0.6015 - val_accuracy: 0.8051\n",
            "\n",
            "Epoch 00002: val_accuracy improved from 0.59994 to 0.80512, saving model to /content/drive/MyDrive/Colab Notebooks/NLP Projects/EACL 2021- Shared Tasks/Offensive Language/ml_off_BiLSTMModel.h5\n",
            "Epoch 3/15\n",
            "401/401 [==============================] - 4s 10ms/step - loss: 0.3511 - accuracy: 0.9070 - val_loss: 0.5352 - val_accuracy: 0.8345\n",
            "\n",
            "Epoch 00003: val_accuracy improved from 0.80512 to 0.83448, saving model to /content/drive/MyDrive/Colab Notebooks/NLP Projects/EACL 2021- Shared Tasks/Offensive Language/ml_off_BiLSTMModel.h5\n",
            "Epoch 4/15\n",
            "401/401 [==============================] - 4s 10ms/step - loss: 0.1521 - accuracy: 0.9403 - val_loss: 0.4668 - val_accuracy: 0.8944\n",
            "\n",
            "Epoch 00004: val_accuracy improved from 0.83448 to 0.89444, saving model to /content/drive/MyDrive/Colab Notebooks/NLP Projects/EACL 2021- Shared Tasks/Offensive Language/ml_off_BiLSTMModel.h5\n",
            "Epoch 5/15\n",
            "401/401 [==============================] - 4s 11ms/step - loss: 0.0523 - accuracy: 0.9663 - val_loss: 0.4437 - val_accuracy: 0.9113\n",
            "\n",
            "Epoch 00005: val_accuracy improved from 0.89444 to 0.91131, saving model to /content/drive/MyDrive/Colab Notebooks/NLP Projects/EACL 2021- Shared Tasks/Offensive Language/ml_off_BiLSTMModel.h5\n",
            "Epoch 6/15\n",
            "401/401 [==============================] - 4s 10ms/step - loss: 0.0486 - accuracy: 0.9720 - val_loss: 0.9814 - val_accuracy: 0.7536\n",
            "\n",
            "Epoch 00006: val_accuracy did not improve from 0.91131\n",
            "Epoch 7/15\n",
            "401/401 [==============================] - 4s 10ms/step - loss: 0.0372 - accuracy: 0.9673 - val_loss: 0.5528 - val_accuracy: 0.8944\n",
            "\n",
            "Epoch 00007: val_accuracy did not improve from 0.91131\n",
            "Epoch 8/15\n",
            "401/401 [==============================] - 4s 10ms/step - loss: 0.0216 - accuracy: 0.9768 - val_loss: 0.5531 - val_accuracy: 0.8948\n",
            "\n",
            "Epoch 00008: val_accuracy did not improve from 0.91131\n",
            "Epoch 9/15\n",
            "401/401 [==============================] - 4s 10ms/step - loss: 0.0181 - accuracy: 0.9876 - val_loss: 0.5892 - val_accuracy: 0.8863\n",
            "\n",
            "Epoch 00009: val_accuracy did not improve from 0.91131\n",
            "Epoch 10/15\n",
            "401/401 [==============================] - 4s 10ms/step - loss: 0.0151 - accuracy: 0.9862 - val_loss: 0.5323 - val_accuracy: 0.9207\n",
            "\n",
            "Epoch 00010: val_accuracy improved from 0.91131 to 0.92067, saving model to /content/drive/MyDrive/Colab Notebooks/NLP Projects/EACL 2021- Shared Tasks/Offensive Language/ml_off_BiLSTMModel.h5\n",
            "Epoch 11/15\n",
            "401/401 [==============================] - 4s 10ms/step - loss: 0.0098 - accuracy: 0.9933 - val_loss: 0.5528 - val_accuracy: 0.9169\n",
            "\n",
            "Reached 99.00% accuracy so we will stop trianing\n",
            "\n",
            "Epoch 00011: val_accuracy did not improve from 0.92067\n"
          ],
          "name": "stdout"
        }
      ]
    },
    {
      "cell_type": "code",
      "metadata": {
        "colab": {
          "base_uri": "https://localhost:8080/"
        },
        "id": "BiIYJ8d75j0f",
        "outputId": "680ce965-3852-4f73-f8f8-6a900eff1cdc"
      },
      "source": [
        "# Load the saved model\n",
        "model = load_model(folder_path+'ml_off_BiLSTMModel.h5')\n",
        "# prediction\n",
        "y_pred = np.argmax(model.predict(validation_pad_sequences), axis=-1)\n",
        "print_metrices(valid_data['enc_label'],y_pred)\n"
      ],
      "execution_count": null,
      "outputs": [
        {
          "output_type": "stream",
          "text": [
            "[[1676   53   23    8   19]\n",
            " [  31  127    0    0    5]\n",
            " [  10    1   12    0    1]\n",
            " [  10    0    1    8    1]\n",
            " [   3    0    0    2    8]]\n",
            "              precision    recall  f1-score   support\n",
            "\n",
            "           0       0.97      0.94      0.96      1779\n",
            "           1       0.70      0.78      0.74       163\n",
            "           2       0.33      0.50      0.40        24\n",
            "           3       0.44      0.40      0.42        20\n",
            "           4       0.24      0.62      0.34        13\n",
            "\n",
            "    accuracy                           0.92      1999\n",
            "   macro avg       0.54      0.65      0.57      1999\n",
            "weighted avg       0.93      0.92      0.92      1999\n",
            "\n",
            "Accuracy :  0.9159579789894947\n",
            "Precison :  0.929358878637004\n",
            "Recall :  0.9159579789894947\n",
            "F1 :  0.9215633088849647\n"
          ],
          "name": "stdout"
        }
      ]
    },
    {
      "cell_type": "markdown",
      "metadata": {
        "id": "TJHlxYQX5j0g"
      },
      "source": [
        "### Test Set Prediction"
      ]
    },
    {
      "cell_type": "code",
      "metadata": {
        "id": "wl8m9TGF5j0h"
      },
      "source": [
        "test_pred = np.argmax(model.predict(test_pad_sequences), axis=-1).tolist()\n"
      ],
      "execution_count": null,
      "outputs": []
    },
    {
      "cell_type": "code",
      "metadata": {
        "id": "iE1S2Qtb5j0h",
        "colab": {
          "base_uri": "https://localhost:8080/",
          "height": 419
        },
        "outputId": "1565cfe2-d600-427e-989f-d950a260107d"
      },
      "source": [
        "test_data['id'] = test_data.index + 1\n",
        "run = pd.DataFrame(test_data['id'])\n",
        "run['text'] = test_data['text']\n",
        "run['label'] = test_pred\n",
        "run['label'] = run['label'].apply(actual_label)\n",
        "run "
      ],
      "execution_count": null,
      "outputs": [
        {
          "output_type": "execute_result",
          "data": {
            "text/html": [
              "<div>\n",
              "<style scoped>\n",
              "    .dataframe tbody tr th:only-of-type {\n",
              "        vertical-align: middle;\n",
              "    }\n",
              "\n",
              "    .dataframe tbody tr th {\n",
              "        vertical-align: top;\n",
              "    }\n",
              "\n",
              "    .dataframe thead th {\n",
              "        text-align: right;\n",
              "    }\n",
              "</style>\n",
              "<table border=\"1\" class=\"dataframe\">\n",
              "  <thead>\n",
              "    <tr style=\"text-align: right;\">\n",
              "      <th></th>\n",
              "      <th>id</th>\n",
              "      <th>text</th>\n",
              "      <th>label</th>\n",
              "    </tr>\n",
              "  </thead>\n",
              "  <tbody>\n",
              "    <tr>\n",
              "      <th>0</th>\n",
              "      <td>1</td>\n",
              "      <td>അപ്പൊ ഇതൊരൊന്നൊരാ മൊതലാണല്ലേ  Suraj ആണ് നടൻ ന്...</td>\n",
              "      <td>Not_offensive</td>\n",
              "    </tr>\n",
              "    <tr>\n",
              "      <th>1</th>\n",
              "      <td>2</td>\n",
              "      <td>എന്ത് ഊള എഡിറ്റിംഗ് ആടോ ഇത് ഒരുമാതിരി vivo vid...</td>\n",
              "      <td>Not_offensive</td>\n",
              "    </tr>\n",
              "    <tr>\n",
              "      <th>2</th>\n",
              "      <td>3</td>\n",
              "      <td>Fefka ee padam release cheyyan samadhicho?</td>\n",
              "      <td>Offensive_Targeted_Insult_Individual</td>\n",
              "    </tr>\n",
              "    <tr>\n",
              "      <th>3</th>\n",
              "      <td>4</td>\n",
              "      <td>അആഹാ.. സംഗീതം ജെക്‌സ് ബിജോയ് ആണ് അപ്പൊ പൊട്ടലു...</td>\n",
              "      <td>Not_offensive</td>\n",
              "    </tr>\n",
              "    <tr>\n",
              "      <th>4</th>\n",
              "      <td>5</td>\n",
              "      <td>Ravile thane views likes ethra ayyi enn nokan ...</td>\n",
              "      <td>Not_offensive</td>\n",
              "    </tr>\n",
              "    <tr>\n",
              "      <th>...</th>\n",
              "      <td>...</td>\n",
              "      <td>...</td>\n",
              "      <td>...</td>\n",
              "    </tr>\n",
              "    <tr>\n",
              "      <th>1996</th>\n",
              "      <td>1997</td>\n",
              "      <td>Swargatthil ninnu purathaakkappetta daivatthin...</td>\n",
              "      <td>Not_offensive</td>\n",
              "    </tr>\n",
              "    <tr>\n",
              "      <th>1997</th>\n",
              "      <td>1998</td>\n",
              "      <td>Ivide Palakkad Jayettan Fans club nnu ashamsak...</td>\n",
              "      <td>Not_offensive</td>\n",
              "    </tr>\n",
              "    <tr>\n",
              "      <th>1998</th>\n",
              "      <td>1999</td>\n",
              "      <td>ഈ പടത്തിന് വെയിറ്റ് ചെയ്യുന്ന മമ്മൂക്ക ഫാൻസും</td>\n",
              "      <td>Not_offensive</td>\n",
              "    </tr>\n",
              "    <tr>\n",
              "      <th>1999</th>\n",
              "      <td>2000</td>\n",
              "      <td>കട്ട ലാലേട്ടൻ ഫാൻസ് ഒരു ലൈക് തന്നിട്ട് പോവാമോ ...</td>\n",
              "      <td>Not_offensive</td>\n",
              "    </tr>\n",
              "    <tr>\n",
              "      <th>2000</th>\n",
              "      <td>2001</td>\n",
              "      <td>Koora padam urappa kandal aryam.. Hello</td>\n",
              "      <td>Not_offensive</td>\n",
              "    </tr>\n",
              "  </tbody>\n",
              "</table>\n",
              "<p>2001 rows × 3 columns</p>\n",
              "</div>"
            ],
            "text/plain": [
              "        id  ...                                 label\n",
              "0        1  ...                         Not_offensive\n",
              "1        2  ...                         Not_offensive\n",
              "2        3  ...  Offensive_Targeted_Insult_Individual\n",
              "3        4  ...                         Not_offensive\n",
              "4        5  ...                         Not_offensive\n",
              "...    ...  ...                                   ...\n",
              "1996  1997  ...                         Not_offensive\n",
              "1997  1998  ...                         Not_offensive\n",
              "1998  1999  ...                         Not_offensive\n",
              "1999  2000  ...                         Not_offensive\n",
              "2000  2001  ...                         Not_offensive\n",
              "\n",
              "[2001 rows x 3 columns]"
            ]
          },
          "metadata": {
            "tags": []
          },
          "execution_count": 60
        }
      ]
    },
    {
      "cell_type": "code",
      "metadata": {
        "id": "Q0UX6NBR5j0h"
      },
      "source": [
        "run.to_csv(folder_path +'malayalam_off_cnn+bilstm.csv',index = False)"
      ],
      "execution_count": null,
      "outputs": []
    },
    {
      "cell_type": "markdown",
      "metadata": {
        "id": "g5xzpO-OLJmU"
      },
      "source": [
        "##Pretrained Word Embedding (Fasttext)"
      ]
    },
    {
      "cell_type": "code",
      "metadata": {
        "id": "6WXPy-wlNO1r"
      },
      "source": [
        "from urllib.request import urlopen\n",
        "import gzip\n",
        "\n",
        "# get the vectors\n",
        "file = gzip.open(urlopen('https://dl.fbaipublicfiles.com/fasttext/vectors-crawl/cc.ml.300.vec.gz'))"
      ],
      "execution_count": null,
      "outputs": []
    },
    {
      "cell_type": "code",
      "metadata": {
        "id": "XCxzGVFhTi9V"
      },
      "source": [
        "tokenizer = Tokenizer(num_words = 40000,filters='!\"#$%&()*+,-./:;<=>?@[\\\\]^_`{|}~\\t\\n-', \n",
        "                      split=' ', char_level=False, oov_token='<oov>', document_count=0)\n",
        "tokenizer.fit_on_texts(train_data['text'])  \n",
        "word_index = tokenizer.word_index\n",
        "vocab_size = len(word_index )+1"
      ],
      "execution_count": null,
      "outputs": []
    },
    {
      "cell_type": "code",
      "metadata": {
        "id": "iuqeUe2lNkEr"
      },
      "source": [
        "vocab_and_vectors = {}\n",
        "# put words as dict indexes and vectors as words values\n",
        "for line in file:\n",
        "  values = line.split()\n",
        "  word = values [0].decode('utf-8')\n",
        "  vector = np.asarray(values[1:], dtype='float32')\n",
        "  vocab_and_vectors[word] = vector"
      ],
      "execution_count": null,
      "outputs": []
    },
    {
      "cell_type": "code",
      "metadata": {
        "id": "QGNh555jNmcY"
      },
      "source": [
        "embedding_matrix = np.zeros((vocab_size, 300))\n",
        "for word, i in word_index.items():\n",
        "  embedding_vector = vocab_and_vectors.get(word)\n",
        "  # words that cannot be found will be set to 0\n",
        "  if embedding_vector is not None:\n",
        "    embedding_matrix[i] = embedding_vector"
      ],
      "execution_count": null,
      "outputs": []
    },
    {
      "cell_type": "code",
      "metadata": {
        "colab": {
          "base_uri": "https://localhost:8080/"
        },
        "id": "Q7FtAhL6Lee1",
        "outputId": "8d07f70a-03f1-49d4-a473-92bed9e276bc"
      },
      "source": [
        "max_len = 50\n",
        "# Training Sequences\n",
        "train_sequences = tokenizer.texts_to_sequences(train_data['text'])\n",
        "print(len(tokenizer.word_index))\n",
        "train_pad_sequences =  keras.preprocessing.sequence.pad_sequences(train_sequences, value=0.0, padding='post', maxlen= max_len)\n",
        "print(\"Number of Training Sequences :\" ,train_pad_sequences.shape)\n",
        "\n",
        "# Validation Sequences\n",
        "validation_sequences = tokenizer.texts_to_sequences(valid_data['text'])\n",
        "validation_pad_sequences =  keras.preprocessing.sequence.pad_sequences(validation_sequences, value=0.0, padding='post', maxlen= max_len)\n",
        "print(\"Number of Validation Sequences :\" ,validation_pad_sequences.shape)"
      ],
      "execution_count": null,
      "outputs": [
        {
          "output_type": "stream",
          "text": [
            "31745\n",
            "Number of Training Sequences : (16010, 50)\n",
            "Number of Validation Sequences : (1999, 50)\n"
          ],
          "name": "stdout"
        }
      ]
    },
    {
      "cell_type": "code",
      "metadata": {
        "colab": {
          "base_uri": "https://localhost:8080/"
        },
        "id": "Gyg3KMmLLfad",
        "outputId": "50f3d62f-b1ee-4fe2-a8a0-59e2de9f5988"
      },
      "source": [
        "# Test Sequences\n",
        "test_sequences = tokenizer.texts_to_sequences(test_data['text'])\n",
        "test_pad_sequences =  keras.preprocessing.sequence.pad_sequences(test_sequences, value=0.0, padding='post', maxlen= max_len)\n",
        "print(\"Number of Test Sequences :\" ,test_pad_sequences.shape)"
      ],
      "execution_count": null,
      "outputs": [
        {
          "output_type": "stream",
          "text": [
            "Number of Test Sequences : (2001, 50)\n"
          ],
          "name": "stdout"
        }
      ]
    },
    {
      "cell_type": "code",
      "metadata": {
        "id": "ZDWWTEyrLlwg"
      },
      "source": [
        "from sklearn.utils import class_weight\n",
        "class_weights = class_weight.compute_class_weight('balanced'\n",
        "                                               ,np.unique(train_data['enc_label'])\n",
        "                                               ,train_data['enc_label'])\n",
        "\n",
        "weight = {i : class_weights[i] for i in range(5)}"
      ],
      "execution_count": null,
      "outputs": []
    },
    {
      "cell_type": "markdown",
      "metadata": {
        "id": "ZjpNj-UzLqNF"
      },
      "source": [
        "#### Model Defination"
      ]
    },
    {
      "cell_type": "code",
      "metadata": {
        "colab": {
          "base_uri": "https://localhost:8080/"
        },
        "id": "5-jh6iM_LorH",
        "outputId": "983f9f00-40aa-40b1-a06a-4cac456fe713"
      },
      "source": [
        "num_classes = 5\n",
        "\n",
        "accuracy_threshold = 0.99\n",
        "\n",
        "class myCallback(keras.callbacks.Callback):\n",
        "  def on_epoch_end(self, epoch, logs={}):\n",
        "      if(logs.get('accuracy')>accuracy_threshold):\n",
        "        print(\"\\nReached %2.2f%% accuracy so we will stop trianing\" % (accuracy_threshold*100))\n",
        "        self.model.stop_training = True\n",
        "\n",
        "acc_callback = myCallback()\n",
        "# Saved the Best Model\n",
        "filepath = folder_path+\"prt_ml_off_BiLSTMModel.h5\"\n",
        "checkpoint = keras.callbacks.ModelCheckpoint(filepath, monitor='val_accuracy', verbose=2, save_best_only=True, \n",
        "                                             save_weights_only=False, mode='max')\n",
        "# callback list\n",
        "callback_list = [acc_callback, checkpoint] \n",
        "model = tf.keras.models.Sequential([\n",
        "tf.keras.layers.Embedding(vocab_size, 300,weights=[embedding_matrix],trainable=False, input_length = max_len),\n",
        "tf.keras.layers.Conv1D(128, 5, activation='relu'),\n",
        "tf.keras.layers.MaxPooling1D(5),\n",
        "tf.keras.layers.Bidirectional(LSTM(units = 128,return_sequences=True,dropout = 0.2)),\n",
        "tf.keras.layers.Flatten(),\n",
        "tf.keras.layers.Dense(5, activation='softmax')])\n",
        "\n",
        "model.summary()\n"
      ],
      "execution_count": null,
      "outputs": [
        {
          "output_type": "stream",
          "text": [
            "Model: \"sequential\"\n",
            "_________________________________________________________________\n",
            "Layer (type)                 Output Shape              Param #   \n",
            "=================================================================\n",
            "embedding (Embedding)        (None, 50, 300)           9523800   \n",
            "_________________________________________________________________\n",
            "conv1d (Conv1D)              (None, 46, 128)           192128    \n",
            "_________________________________________________________________\n",
            "max_pooling1d (MaxPooling1D) (None, 9, 128)            0         \n",
            "_________________________________________________________________\n",
            "bidirectional (Bidirectional (None, 9, 256)            263168    \n",
            "_________________________________________________________________\n",
            "flatten (Flatten)            (None, 2304)              0         \n",
            "_________________________________________________________________\n",
            "dense (Dense)                (None, 5)                 11525     \n",
            "=================================================================\n",
            "Total params: 9,990,621\n",
            "Trainable params: 466,821\n",
            "Non-trainable params: 9,523,800\n",
            "_________________________________________________________________\n"
          ],
          "name": "stdout"
        }
      ]
    },
    {
      "cell_type": "code",
      "metadata": {
        "colab": {
          "base_uri": "https://localhost:8080/"
        },
        "id": "cTxxLkVmLvbB",
        "outputId": "d05a14da-8e5a-40d0-fa28-7986b6654f32"
      },
      "source": [
        "model.compile(optimizer=keras.optimizers.Adam(learning_rate=0.001),\n",
        "    loss='sparse_categorical_crossentropy',\n",
        "    metrics=['accuracy'])\n",
        "   \n",
        "history = model.fit(train_pad_sequences,\n",
        "    train_data['enc_label'],\n",
        "    epochs=200,\n",
        "    batch_size = 32,\n",
        "    validation_split = 0.2,\n",
        "    verbose =1,\n",
        "    callbacks = callback_list,\n",
        "    class_weight = weight)"
      ],
      "execution_count": null,
      "outputs": [
        {
          "output_type": "stream",
          "text": [
            "Epoch 1/200\n",
            "401/401 [==============================] - 15s 12ms/step - loss: 1.4598 - accuracy: 0.2291 - val_loss: 1.3354 - val_accuracy: 0.3773\n",
            "\n",
            "Epoch 00001: val_accuracy improved from -inf to 0.37726, saving model to /content/drive/MyDrive/Colab Notebooks/NLP Projects/EACL 2021- Shared Tasks/Offensive Language/prt_ml_off_BiLSTMModel.h5\n",
            "Epoch 2/200\n",
            "401/401 [==============================] - 4s 9ms/step - loss: 1.1580 - accuracy: 0.4677 - val_loss: 0.8681 - val_accuracy: 0.6861\n",
            "\n",
            "Epoch 00002: val_accuracy improved from 0.37726 to 0.68613, saving model to /content/drive/MyDrive/Colab Notebooks/NLP Projects/EACL 2021- Shared Tasks/Offensive Language/prt_ml_off_BiLSTMModel.h5\n",
            "Epoch 3/200\n",
            "401/401 [==============================] - 4s 9ms/step - loss: 0.8581 - accuracy: 0.5510 - val_loss: 0.9560 - val_accuracy: 0.6109\n",
            "\n",
            "Epoch 00003: val_accuracy did not improve from 0.68613\n",
            "Epoch 4/200\n",
            "401/401 [==============================] - 4s 9ms/step - loss: 0.5573 - accuracy: 0.6254 - val_loss: 0.8880 - val_accuracy: 0.6115\n",
            "\n",
            "Epoch 00004: val_accuracy did not improve from 0.68613\n",
            "Epoch 5/200\n",
            "401/401 [==============================] - 4s 9ms/step - loss: 0.4556 - accuracy: 0.7104 - val_loss: 0.7435 - val_accuracy: 0.6993\n",
            "\n",
            "Epoch 00005: val_accuracy improved from 0.68613 to 0.69925, saving model to /content/drive/MyDrive/Colab Notebooks/NLP Projects/EACL 2021- Shared Tasks/Offensive Language/prt_ml_off_BiLSTMModel.h5\n",
            "Epoch 6/200\n",
            "401/401 [==============================] - 4s 9ms/step - loss: 0.3403 - accuracy: 0.7946 - val_loss: 0.7042 - val_accuracy: 0.7245\n",
            "\n",
            "Epoch 00006: val_accuracy improved from 0.69925 to 0.72455, saving model to /content/drive/MyDrive/Colab Notebooks/NLP Projects/EACL 2021- Shared Tasks/Offensive Language/prt_ml_off_BiLSTMModel.h5\n",
            "Epoch 7/200\n",
            "401/401 [==============================] - 4s 9ms/step - loss: 0.2848 - accuracy: 0.8033 - val_loss: 0.4680 - val_accuracy: 0.8289\n",
            "\n",
            "Epoch 00007: val_accuracy improved from 0.72455 to 0.82886, saving model to /content/drive/MyDrive/Colab Notebooks/NLP Projects/EACL 2021- Shared Tasks/Offensive Language/prt_ml_off_BiLSTMModel.h5\n",
            "Epoch 8/200\n",
            "401/401 [==============================] - 4s 9ms/step - loss: 0.2070 - accuracy: 0.8559 - val_loss: 0.5805 - val_accuracy: 0.7876\n",
            "\n",
            "Epoch 00008: val_accuracy did not improve from 0.82886\n",
            "Epoch 9/200\n",
            "401/401 [==============================] - 4s 9ms/step - loss: 0.1730 - accuracy: 0.8681 - val_loss: 0.4314 - val_accuracy: 0.8598\n",
            "\n",
            "Epoch 00009: val_accuracy improved from 0.82886 to 0.85978, saving model to /content/drive/MyDrive/Colab Notebooks/NLP Projects/EACL 2021- Shared Tasks/Offensive Language/prt_ml_off_BiLSTMModel.h5\n",
            "Epoch 10/200\n",
            "401/401 [==============================] - 4s 9ms/step - loss: 0.1620 - accuracy: 0.8797 - val_loss: 0.6021 - val_accuracy: 0.8257\n",
            "\n",
            "Epoch 00010: val_accuracy did not improve from 0.85978\n",
            "Epoch 11/200\n",
            "401/401 [==============================] - 4s 9ms/step - loss: 0.1967 - accuracy: 0.8495 - val_loss: 0.5146 - val_accuracy: 0.8326\n",
            "\n",
            "Epoch 00011: val_accuracy did not improve from 0.85978\n",
            "Epoch 12/200\n",
            "401/401 [==============================] - 4s 9ms/step - loss: 0.1460 - accuracy: 0.8841 - val_loss: 0.4353 - val_accuracy: 0.8704\n",
            "\n",
            "Epoch 00012: val_accuracy improved from 0.85978 to 0.87039, saving model to /content/drive/MyDrive/Colab Notebooks/NLP Projects/EACL 2021- Shared Tasks/Offensive Language/prt_ml_off_BiLSTMModel.h5\n",
            "Epoch 13/200\n",
            "401/401 [==============================] - 4s 9ms/step - loss: 0.1551 - accuracy: 0.8813 - val_loss: 0.6248 - val_accuracy: 0.7898\n",
            "\n",
            "Epoch 00013: val_accuracy did not improve from 0.87039\n",
            "Epoch 14/200\n",
            "401/401 [==============================] - 4s 9ms/step - loss: 0.1285 - accuracy: 0.8994 - val_loss: 0.4519 - val_accuracy: 0.8885\n",
            "\n",
            "Epoch 00014: val_accuracy improved from 0.87039 to 0.88851, saving model to /content/drive/MyDrive/Colab Notebooks/NLP Projects/EACL 2021- Shared Tasks/Offensive Language/prt_ml_off_BiLSTMModel.h5\n",
            "Epoch 15/200\n",
            "401/401 [==============================] - 4s 9ms/step - loss: 0.1199 - accuracy: 0.9142 - val_loss: 0.4260 - val_accuracy: 0.8745\n",
            "\n",
            "Epoch 00015: val_accuracy did not improve from 0.88851\n",
            "Epoch 16/200\n",
            "401/401 [==============================] - 4s 9ms/step - loss: 0.0758 - accuracy: 0.9351 - val_loss: 0.4028 - val_accuracy: 0.8985\n",
            "\n",
            "Epoch 00016: val_accuracy improved from 0.88851 to 0.89850, saving model to /content/drive/MyDrive/Colab Notebooks/NLP Projects/EACL 2021- Shared Tasks/Offensive Language/prt_ml_off_BiLSTMModel.h5\n",
            "Epoch 17/200\n",
            "401/401 [==============================] - 4s 9ms/step - loss: 0.0893 - accuracy: 0.9325 - val_loss: 0.4120 - val_accuracy: 0.9047\n",
            "\n",
            "Epoch 00017: val_accuracy improved from 0.89850 to 0.90475, saving model to /content/drive/MyDrive/Colab Notebooks/NLP Projects/EACL 2021- Shared Tasks/Offensive Language/prt_ml_off_BiLSTMModel.h5\n",
            "Epoch 18/200\n",
            "401/401 [==============================] - 4s 9ms/step - loss: 0.0787 - accuracy: 0.9381 - val_loss: 0.4141 - val_accuracy: 0.8935\n",
            "\n",
            "Epoch 00018: val_accuracy did not improve from 0.90475\n",
            "Epoch 19/200\n",
            "401/401 [==============================] - 4s 9ms/step - loss: 0.1022 - accuracy: 0.9181 - val_loss: 0.4493 - val_accuracy: 0.8738\n",
            "\n",
            "Epoch 00019: val_accuracy did not improve from 0.90475\n",
            "Epoch 20/200\n",
            "401/401 [==============================] - 4s 9ms/step - loss: 0.1012 - accuracy: 0.9324 - val_loss: 0.5164 - val_accuracy: 0.8398\n",
            "\n",
            "Epoch 00020: val_accuracy did not improve from 0.90475\n",
            "Epoch 21/200\n",
            "401/401 [==============================] - 4s 9ms/step - loss: 0.0760 - accuracy: 0.9344 - val_loss: 0.4930 - val_accuracy: 0.8704\n",
            "\n",
            "Epoch 00021: val_accuracy did not improve from 0.90475\n",
            "Epoch 22/200\n",
            "401/401 [==============================] - 4s 9ms/step - loss: 0.0589 - accuracy: 0.9451 - val_loss: 0.4942 - val_accuracy: 0.8807\n",
            "\n",
            "Epoch 00022: val_accuracy did not improve from 0.90475\n",
            "Epoch 23/200\n",
            "401/401 [==============================] - 3s 9ms/step - loss: 0.0654 - accuracy: 0.9484 - val_loss: 0.4919 - val_accuracy: 0.8732\n",
            "\n",
            "Epoch 00023: val_accuracy did not improve from 0.90475\n",
            "Epoch 24/200\n",
            "401/401 [==============================] - 4s 9ms/step - loss: 0.0744 - accuracy: 0.9412 - val_loss: 0.4297 - val_accuracy: 0.8910\n",
            "\n",
            "Epoch 00024: val_accuracy did not improve from 0.90475\n",
            "Epoch 25/200\n",
            "401/401 [==============================] - 4s 9ms/step - loss: 0.0615 - accuracy: 0.9397 - val_loss: 0.4248 - val_accuracy: 0.9072\n",
            "\n",
            "Epoch 00025: val_accuracy improved from 0.90475 to 0.90725, saving model to /content/drive/MyDrive/Colab Notebooks/NLP Projects/EACL 2021- Shared Tasks/Offensive Language/prt_ml_off_BiLSTMModel.h5\n",
            "Epoch 26/200\n",
            "401/401 [==============================] - 4s 9ms/step - loss: 0.0650 - accuracy: 0.9508 - val_loss: 0.4630 - val_accuracy: 0.8857\n",
            "\n",
            "Epoch 00026: val_accuracy did not improve from 0.90725\n",
            "Epoch 27/200\n",
            "401/401 [==============================] - 3s 9ms/step - loss: 0.0467 - accuracy: 0.9580 - val_loss: 0.6856 - val_accuracy: 0.8210\n",
            "\n",
            "Epoch 00027: val_accuracy did not improve from 0.90725\n",
            "Epoch 28/200\n",
            "401/401 [==============================] - 4s 9ms/step - loss: 0.0651 - accuracy: 0.9442 - val_loss: 0.5600 - val_accuracy: 0.8576\n",
            "\n",
            "Epoch 00028: val_accuracy did not improve from 0.90725\n",
            "Epoch 29/200\n",
            "401/401 [==============================] - 4s 9ms/step - loss: 0.0395 - accuracy: 0.9626 - val_loss: 0.7072 - val_accuracy: 0.8385\n",
            "\n",
            "Epoch 00029: val_accuracy did not improve from 0.90725\n",
            "Epoch 30/200\n",
            "401/401 [==============================] - 4s 9ms/step - loss: 0.0460 - accuracy: 0.9593 - val_loss: 0.4605 - val_accuracy: 0.9044\n",
            "\n",
            "Epoch 00030: val_accuracy did not improve from 0.90725\n",
            "Epoch 31/200\n",
            "401/401 [==============================] - 4s 9ms/step - loss: 0.0586 - accuracy: 0.9480 - val_loss: 0.5053 - val_accuracy: 0.8985\n",
            "\n",
            "Epoch 00031: val_accuracy did not improve from 0.90725\n",
            "Epoch 32/200\n",
            "401/401 [==============================] - 4s 9ms/step - loss: 0.0633 - accuracy: 0.9525 - val_loss: 0.4295 - val_accuracy: 0.9066\n",
            "\n",
            "Epoch 00032: val_accuracy did not improve from 0.90725\n",
            "Epoch 33/200\n",
            "401/401 [==============================] - 4s 9ms/step - loss: 0.0430 - accuracy: 0.9632 - val_loss: 0.4523 - val_accuracy: 0.8985\n",
            "\n",
            "Epoch 00033: val_accuracy did not improve from 0.90725\n",
            "Epoch 34/200\n",
            "401/401 [==============================] - 4s 9ms/step - loss: 0.0288 - accuracy: 0.9709 - val_loss: 0.5128 - val_accuracy: 0.9013\n",
            "\n",
            "Epoch 00034: val_accuracy did not improve from 0.90725\n",
            "Epoch 35/200\n",
            "401/401 [==============================] - 4s 9ms/step - loss: 0.0284 - accuracy: 0.9745 - val_loss: 0.4872 - val_accuracy: 0.9085\n",
            "\n",
            "Epoch 00035: val_accuracy improved from 0.90725 to 0.90849, saving model to /content/drive/MyDrive/Colab Notebooks/NLP Projects/EACL 2021- Shared Tasks/Offensive Language/prt_ml_off_BiLSTMModel.h5\n",
            "Epoch 36/200\n",
            "401/401 [==============================] - 4s 9ms/step - loss: 0.0357 - accuracy: 0.9701 - val_loss: 0.4569 - val_accuracy: 0.9119\n",
            "\n",
            "Epoch 00036: val_accuracy improved from 0.90849 to 0.91193, saving model to /content/drive/MyDrive/Colab Notebooks/NLP Projects/EACL 2021- Shared Tasks/Offensive Language/prt_ml_off_BiLSTMModel.h5\n",
            "Epoch 37/200\n",
            "401/401 [==============================] - 4s 9ms/step - loss: 0.0508 - accuracy: 0.9608 - val_loss: 0.4496 - val_accuracy: 0.9107\n",
            "\n",
            "Epoch 00037: val_accuracy did not improve from 0.91193\n",
            "Epoch 38/200\n",
            "401/401 [==============================] - 4s 9ms/step - loss: 0.0447 - accuracy: 0.9689 - val_loss: 0.5932 - val_accuracy: 0.8751\n",
            "\n",
            "Epoch 00038: val_accuracy did not improve from 0.91193\n",
            "Epoch 39/200\n",
            "401/401 [==============================] - 3s 9ms/step - loss: 0.0391 - accuracy: 0.9623 - val_loss: 0.4451 - val_accuracy: 0.9169\n",
            "\n",
            "Epoch 00039: val_accuracy improved from 0.91193 to 0.91693, saving model to /content/drive/MyDrive/Colab Notebooks/NLP Projects/EACL 2021- Shared Tasks/Offensive Language/prt_ml_off_BiLSTMModel.h5\n",
            "Epoch 40/200\n",
            "401/401 [==============================] - 4s 9ms/step - loss: 0.0341 - accuracy: 0.9724 - val_loss: 0.6314 - val_accuracy: 0.8645\n",
            "\n",
            "Epoch 00040: val_accuracy did not improve from 0.91693\n",
            "Epoch 41/200\n",
            "401/401 [==============================] - 4s 9ms/step - loss: 0.0369 - accuracy: 0.9665 - val_loss: 0.4796 - val_accuracy: 0.9110\n",
            "\n",
            "Epoch 00041: val_accuracy did not improve from 0.91693\n",
            "Epoch 42/200\n",
            "401/401 [==============================] - 4s 9ms/step - loss: 0.0387 - accuracy: 0.9648 - val_loss: 0.4866 - val_accuracy: 0.9213\n",
            "\n",
            "Epoch 00042: val_accuracy improved from 0.91693 to 0.92130, saving model to /content/drive/MyDrive/Colab Notebooks/NLP Projects/EACL 2021- Shared Tasks/Offensive Language/prt_ml_off_BiLSTMModel.h5\n",
            "Epoch 43/200\n",
            "401/401 [==============================] - 4s 9ms/step - loss: 0.0333 - accuracy: 0.9718 - val_loss: 0.4665 - val_accuracy: 0.9216\n",
            "\n",
            "Epoch 00043: val_accuracy improved from 0.92130 to 0.92161, saving model to /content/drive/MyDrive/Colab Notebooks/NLP Projects/EACL 2021- Shared Tasks/Offensive Language/prt_ml_off_BiLSTMModel.h5\n",
            "Epoch 44/200\n",
            "401/401 [==============================] - 4s 9ms/step - loss: 0.0257 - accuracy: 0.9789 - val_loss: 0.5483 - val_accuracy: 0.9044\n",
            "\n",
            "Epoch 00044: val_accuracy did not improve from 0.92161\n",
            "Epoch 45/200\n",
            "401/401 [==============================] - 4s 9ms/step - loss: 0.0322 - accuracy: 0.9719 - val_loss: 0.5175 - val_accuracy: 0.9038\n",
            "\n",
            "Epoch 00045: val_accuracy did not improve from 0.92161\n",
            "Epoch 46/200\n",
            "401/401 [==============================] - 4s 9ms/step - loss: 0.0354 - accuracy: 0.9681 - val_loss: 0.4873 - val_accuracy: 0.9104\n",
            "\n",
            "Epoch 00046: val_accuracy did not improve from 0.92161\n",
            "Epoch 47/200\n",
            "401/401 [==============================] - 4s 9ms/step - loss: 0.0343 - accuracy: 0.9739 - val_loss: 0.4657 - val_accuracy: 0.9113\n",
            "\n",
            "Epoch 00047: val_accuracy did not improve from 0.92161\n",
            "Epoch 48/200\n",
            "401/401 [==============================] - 4s 9ms/step - loss: 0.0296 - accuracy: 0.9721 - val_loss: 0.5425 - val_accuracy: 0.9051\n",
            "\n",
            "Epoch 00048: val_accuracy did not improve from 0.92161\n",
            "Epoch 49/200\n",
            "401/401 [==============================] - 4s 9ms/step - loss: 0.0393 - accuracy: 0.9701 - val_loss: 0.5246 - val_accuracy: 0.9007\n",
            "\n",
            "Epoch 00049: val_accuracy did not improve from 0.92161\n",
            "Epoch 50/200\n",
            "401/401 [==============================] - 4s 9ms/step - loss: 0.0448 - accuracy: 0.9674 - val_loss: 0.5095 - val_accuracy: 0.9091\n",
            "\n",
            "Epoch 00050: val_accuracy did not improve from 0.92161\n",
            "Epoch 51/200\n",
            "401/401 [==============================] - 4s 9ms/step - loss: 0.0481 - accuracy: 0.9632 - val_loss: 0.6663 - val_accuracy: 0.8757\n",
            "\n",
            "Epoch 00051: val_accuracy did not improve from 0.92161\n",
            "Epoch 52/200\n",
            "401/401 [==============================] - 4s 10ms/step - loss: 0.0366 - accuracy: 0.9660 - val_loss: 0.4569 - val_accuracy: 0.9154\n",
            "\n",
            "Epoch 00052: val_accuracy did not improve from 0.92161\n",
            "Epoch 53/200\n",
            "401/401 [==============================] - 4s 10ms/step - loss: 0.0247 - accuracy: 0.9774 - val_loss: 0.4769 - val_accuracy: 0.9204\n",
            "\n",
            "Epoch 00053: val_accuracy did not improve from 0.92161\n",
            "Epoch 54/200\n",
            "401/401 [==============================] - 4s 10ms/step - loss: 0.0248 - accuracy: 0.9776 - val_loss: 0.5307 - val_accuracy: 0.9072\n",
            "\n",
            "Epoch 00054: val_accuracy did not improve from 0.92161\n",
            "Epoch 55/200\n",
            "401/401 [==============================] - 4s 9ms/step - loss: 0.0229 - accuracy: 0.9804 - val_loss: 0.5328 - val_accuracy: 0.9304\n",
            "\n",
            "Epoch 00055: val_accuracy improved from 0.92161 to 0.93036, saving model to /content/drive/MyDrive/Colab Notebooks/NLP Projects/EACL 2021- Shared Tasks/Offensive Language/prt_ml_off_BiLSTMModel.h5\n",
            "Epoch 56/200\n",
            "401/401 [==============================] - 4s 9ms/step - loss: 0.0163 - accuracy: 0.9854 - val_loss: 0.5212 - val_accuracy: 0.9129\n",
            "\n",
            "Epoch 00056: val_accuracy did not improve from 0.93036\n",
            "Epoch 57/200\n",
            "401/401 [==============================] - 4s 9ms/step - loss: 0.0209 - accuracy: 0.9817 - val_loss: 0.5071 - val_accuracy: 0.9104\n",
            "\n",
            "Epoch 00057: val_accuracy did not improve from 0.93036\n",
            "Epoch 58/200\n",
            "401/401 [==============================] - 4s 9ms/step - loss: 0.0303 - accuracy: 0.9742 - val_loss: 0.5267 - val_accuracy: 0.9066\n",
            "\n",
            "Epoch 00058: val_accuracy did not improve from 0.93036\n",
            "Epoch 59/200\n",
            "401/401 [==============================] - 4s 9ms/step - loss: 0.0595 - accuracy: 0.9698 - val_loss: 0.4900 - val_accuracy: 0.9113\n",
            "\n",
            "Epoch 00059: val_accuracy did not improve from 0.93036\n",
            "Epoch 60/200\n",
            "401/401 [==============================] - 4s 9ms/step - loss: 0.0288 - accuracy: 0.9732 - val_loss: 0.5846 - val_accuracy: 0.8754\n",
            "\n",
            "Epoch 00060: val_accuracy did not improve from 0.93036\n",
            "Epoch 61/200\n",
            "401/401 [==============================] - 4s 9ms/step - loss: 0.0404 - accuracy: 0.9614 - val_loss: 0.4982 - val_accuracy: 0.9176\n",
            "\n",
            "Epoch 00061: val_accuracy did not improve from 0.93036\n",
            "Epoch 62/200\n",
            "401/401 [==============================] - 4s 9ms/step - loss: 0.0209 - accuracy: 0.9806 - val_loss: 0.5248 - val_accuracy: 0.9210\n",
            "\n",
            "Epoch 00062: val_accuracy did not improve from 0.93036\n",
            "Epoch 63/200\n",
            "401/401 [==============================] - 4s 10ms/step - loss: 0.1834 - accuracy: 0.9484 - val_loss: 0.4497 - val_accuracy: 0.9266\n",
            "\n",
            "Epoch 00063: val_accuracy did not improve from 0.93036\n",
            "Epoch 64/200\n",
            "401/401 [==============================] - 4s 9ms/step - loss: 0.0408 - accuracy: 0.9771 - val_loss: 0.4809 - val_accuracy: 0.9110\n",
            "\n",
            "Epoch 00064: val_accuracy did not improve from 0.93036\n",
            "Epoch 65/200\n",
            "401/401 [==============================] - 4s 9ms/step - loss: 0.0196 - accuracy: 0.9818 - val_loss: 0.4865 - val_accuracy: 0.9035\n",
            "\n",
            "Epoch 00065: val_accuracy did not improve from 0.93036\n",
            "Epoch 66/200\n",
            "401/401 [==============================] - 4s 9ms/step - loss: 0.0232 - accuracy: 0.9773 - val_loss: 0.4685 - val_accuracy: 0.9094\n",
            "\n",
            "Epoch 00066: val_accuracy did not improve from 0.93036\n",
            "Epoch 67/200\n",
            "401/401 [==============================] - 4s 9ms/step - loss: 0.0287 - accuracy: 0.9725 - val_loss: 0.4859 - val_accuracy: 0.9210\n",
            "\n",
            "Epoch 00067: val_accuracy did not improve from 0.93036\n",
            "Epoch 68/200\n",
            "401/401 [==============================] - 4s 9ms/step - loss: 0.0239 - accuracy: 0.9818 - val_loss: 0.4913 - val_accuracy: 0.9219\n",
            "\n",
            "Epoch 00068: val_accuracy did not improve from 0.93036\n",
            "Epoch 69/200\n",
            "401/401 [==============================] - 4s 9ms/step - loss: 0.0249 - accuracy: 0.9809 - val_loss: 0.5068 - val_accuracy: 0.9147\n",
            "\n",
            "Epoch 00069: val_accuracy did not improve from 0.93036\n",
            "Epoch 70/200\n",
            "401/401 [==============================] - 4s 9ms/step - loss: 0.0367 - accuracy: 0.9708 - val_loss: 0.5437 - val_accuracy: 0.9057\n",
            "\n",
            "Epoch 00070: val_accuracy did not improve from 0.93036\n",
            "Epoch 71/200\n",
            "401/401 [==============================] - 4s 9ms/step - loss: 0.0761 - accuracy: 0.9652 - val_loss: 0.4919 - val_accuracy: 0.9191\n",
            "\n",
            "Epoch 00071: val_accuracy did not improve from 0.93036\n",
            "Epoch 72/200\n",
            "401/401 [==============================] - 4s 9ms/step - loss: 0.0332 - accuracy: 0.9770 - val_loss: 0.4791 - val_accuracy: 0.9157\n",
            "\n",
            "Epoch 00072: val_accuracy did not improve from 0.93036\n",
            "Epoch 73/200\n",
            "401/401 [==============================] - 4s 9ms/step - loss: 0.0235 - accuracy: 0.9794 - val_loss: 0.4889 - val_accuracy: 0.9157\n",
            "\n",
            "Epoch 00073: val_accuracy did not improve from 0.93036\n",
            "Epoch 74/200\n",
            "401/401 [==============================] - 4s 9ms/step - loss: 0.0246 - accuracy: 0.9767 - val_loss: 0.4881 - val_accuracy: 0.9197\n",
            "\n",
            "Epoch 00074: val_accuracy did not improve from 0.93036\n",
            "Epoch 75/200\n",
            "401/401 [==============================] - 4s 9ms/step - loss: 0.0173 - accuracy: 0.9831 - val_loss: 0.5295 - val_accuracy: 0.9157\n",
            "\n",
            "Epoch 00075: val_accuracy did not improve from 0.93036\n",
            "Epoch 76/200\n",
            "401/401 [==============================] - 4s 9ms/step - loss: 0.0189 - accuracy: 0.9851 - val_loss: 0.5258 - val_accuracy: 0.9250\n",
            "\n",
            "Epoch 00076: val_accuracy did not improve from 0.93036\n",
            "Epoch 77/200\n",
            "401/401 [==============================] - 4s 9ms/step - loss: 0.0118 - accuracy: 0.9885 - val_loss: 0.5688 - val_accuracy: 0.9135\n",
            "\n",
            "Epoch 00077: val_accuracy did not improve from 0.93036\n",
            "Epoch 78/200\n",
            "401/401 [==============================] - 4s 9ms/step - loss: 0.0260 - accuracy: 0.9788 - val_loss: 0.5084 - val_accuracy: 0.9254\n",
            "\n",
            "Epoch 00078: val_accuracy did not improve from 0.93036\n",
            "Epoch 79/200\n",
            "401/401 [==============================] - 4s 9ms/step - loss: 0.0212 - accuracy: 0.9837 - val_loss: 0.5534 - val_accuracy: 0.9188\n",
            "\n",
            "Epoch 00079: val_accuracy did not improve from 0.93036\n",
            "Epoch 80/200\n",
            "401/401 [==============================] - 4s 9ms/step - loss: 0.0226 - accuracy: 0.9786 - val_loss: 0.5289 - val_accuracy: 0.9151\n",
            "\n",
            "Epoch 00080: val_accuracy did not improve from 0.93036\n",
            "Epoch 81/200\n",
            "401/401 [==============================] - 4s 9ms/step - loss: 0.0297 - accuracy: 0.9755 - val_loss: 0.6676 - val_accuracy: 0.8707\n",
            "\n",
            "Epoch 00081: val_accuracy did not improve from 0.93036\n",
            "Epoch 82/200\n",
            "401/401 [==============================] - 3s 9ms/step - loss: 0.0489 - accuracy: 0.9716 - val_loss: 0.5612 - val_accuracy: 0.9044\n",
            "\n",
            "Epoch 00082: val_accuracy did not improve from 0.93036\n",
            "Epoch 83/200\n",
            "401/401 [==============================] - 4s 9ms/step - loss: 0.0202 - accuracy: 0.9791 - val_loss: 0.5558 - val_accuracy: 0.9197\n",
            "\n",
            "Epoch 00083: val_accuracy did not improve from 0.93036\n",
            "Epoch 84/200\n",
            "401/401 [==============================] - 4s 9ms/step - loss: 0.0177 - accuracy: 0.9838 - val_loss: 0.5840 - val_accuracy: 0.9122\n",
            "\n",
            "Epoch 00084: val_accuracy did not improve from 0.93036\n",
            "Epoch 85/200\n",
            "401/401 [==============================] - 4s 9ms/step - loss: 0.0176 - accuracy: 0.9831 - val_loss: 0.5925 - val_accuracy: 0.9219\n",
            "\n",
            "Epoch 00085: val_accuracy did not improve from 0.93036\n",
            "Epoch 86/200\n",
            "401/401 [==============================] - 4s 9ms/step - loss: 0.0180 - accuracy: 0.9866 - val_loss: 0.6127 - val_accuracy: 0.9225\n",
            "\n",
            "Epoch 00086: val_accuracy did not improve from 0.93036\n",
            "Epoch 87/200\n",
            "401/401 [==============================] - 4s 9ms/step - loss: 0.0105 - accuracy: 0.9895 - val_loss: 0.6596 - val_accuracy: 0.9141\n",
            "\n",
            "Epoch 00087: val_accuracy did not improve from 0.93036\n",
            "Epoch 88/200\n",
            "401/401 [==============================] - 4s 9ms/step - loss: 0.0317 - accuracy: 0.9756 - val_loss: 0.5617 - val_accuracy: 0.9216\n",
            "\n",
            "Epoch 00088: val_accuracy did not improve from 0.93036\n",
            "Epoch 89/200\n",
            "401/401 [==============================] - 4s 9ms/step - loss: 0.0355 - accuracy: 0.9735 - val_loss: 0.5513 - val_accuracy: 0.9129\n",
            "\n",
            "Epoch 00089: val_accuracy did not improve from 0.93036\n",
            "Epoch 90/200\n",
            "401/401 [==============================] - 4s 9ms/step - loss: 0.0121 - accuracy: 0.9858 - val_loss: 0.5689 - val_accuracy: 0.9154\n",
            "\n",
            "Epoch 00090: val_accuracy did not improve from 0.93036\n",
            "Epoch 91/200\n",
            "401/401 [==============================] - 4s 9ms/step - loss: 0.0139 - accuracy: 0.9838 - val_loss: 0.6243 - val_accuracy: 0.9238\n",
            "\n",
            "Epoch 00091: val_accuracy did not improve from 0.93036\n",
            "Epoch 92/200\n",
            "401/401 [==============================] - 4s 9ms/step - loss: 0.0202 - accuracy: 0.9813 - val_loss: 0.6324 - val_accuracy: 0.9197\n",
            "\n",
            "Epoch 00092: val_accuracy did not improve from 0.93036\n",
            "Epoch 93/200\n",
            "401/401 [==============================] - 4s 9ms/step - loss: 0.0259 - accuracy: 0.9820 - val_loss: 0.5773 - val_accuracy: 0.9210\n",
            "\n",
            "Epoch 00093: val_accuracy did not improve from 0.93036\n",
            "Epoch 94/200\n",
            "401/401 [==============================] - 4s 9ms/step - loss: 0.0203 - accuracy: 0.9833 - val_loss: 0.5402 - val_accuracy: 0.9216\n",
            "\n",
            "Epoch 00094: val_accuracy did not improve from 0.93036\n",
            "Epoch 95/200\n",
            "401/401 [==============================] - 4s 9ms/step - loss: 0.0254 - accuracy: 0.9821 - val_loss: 0.5757 - val_accuracy: 0.9001\n",
            "\n",
            "Epoch 00095: val_accuracy did not improve from 0.93036\n",
            "Epoch 96/200\n",
            "401/401 [==============================] - 4s 9ms/step - loss: 0.0211 - accuracy: 0.9797 - val_loss: 0.5793 - val_accuracy: 0.9157\n",
            "\n",
            "Epoch 00096: val_accuracy did not improve from 0.93036\n",
            "Epoch 97/200\n",
            "401/401 [==============================] - 4s 9ms/step - loss: 0.0240 - accuracy: 0.9812 - val_loss: 0.5861 - val_accuracy: 0.9210\n",
            "\n",
            "Epoch 00097: val_accuracy did not improve from 0.93036\n",
            "Epoch 98/200\n",
            "401/401 [==============================] - 4s 9ms/step - loss: 0.0214 - accuracy: 0.9818 - val_loss: 0.6145 - val_accuracy: 0.9229\n",
            "\n",
            "Epoch 00098: val_accuracy did not improve from 0.93036\n",
            "Epoch 99/200\n",
            "401/401 [==============================] - 4s 9ms/step - loss: 0.0247 - accuracy: 0.9779 - val_loss: 0.5541 - val_accuracy: 0.9107\n",
            "\n",
            "Epoch 00099: val_accuracy did not improve from 0.93036\n",
            "Epoch 100/200\n",
            "401/401 [==============================] - 4s 9ms/step - loss: 0.0214 - accuracy: 0.9818 - val_loss: 0.5575 - val_accuracy: 0.9200\n",
            "\n",
            "Epoch 00100: val_accuracy did not improve from 0.93036\n",
            "Epoch 101/200\n",
            "401/401 [==============================] - 4s 9ms/step - loss: 0.0197 - accuracy: 0.9860 - val_loss: 0.5467 - val_accuracy: 0.9266\n",
            "\n",
            "Epoch 00101: val_accuracy did not improve from 0.93036\n",
            "Epoch 102/200\n",
            "401/401 [==============================] - 4s 9ms/step - loss: 0.0195 - accuracy: 0.9852 - val_loss: 0.5685 - val_accuracy: 0.9119\n",
            "\n",
            "Epoch 00102: val_accuracy did not improve from 0.93036\n",
            "Epoch 103/200\n",
            "401/401 [==============================] - 4s 9ms/step - loss: 0.0182 - accuracy: 0.9842 - val_loss: 0.5705 - val_accuracy: 0.9229\n",
            "\n",
            "Epoch 00103: val_accuracy did not improve from 0.93036\n",
            "Epoch 104/200\n",
            "401/401 [==============================] - 4s 9ms/step - loss: 0.0182 - accuracy: 0.9853 - val_loss: 0.5884 - val_accuracy: 0.9207\n",
            "\n",
            "Epoch 00104: val_accuracy did not improve from 0.93036\n",
            "Epoch 105/200\n",
            "401/401 [==============================] - 4s 9ms/step - loss: 0.0122 - accuracy: 0.9894 - val_loss: 0.6169 - val_accuracy: 0.9229\n",
            "\n",
            "Epoch 00105: val_accuracy did not improve from 0.93036\n",
            "Epoch 106/200\n",
            "401/401 [==============================] - 4s 9ms/step - loss: 0.0154 - accuracy: 0.9855 - val_loss: 0.5656 - val_accuracy: 0.9250\n",
            "\n",
            "Epoch 00106: val_accuracy did not improve from 0.93036\n",
            "Epoch 107/200\n",
            "401/401 [==============================] - 4s 9ms/step - loss: 0.0234 - accuracy: 0.9819 - val_loss: 0.6159 - val_accuracy: 0.9129\n",
            "\n",
            "Epoch 00107: val_accuracy did not improve from 0.93036\n",
            "Epoch 108/200\n",
            "401/401 [==============================] - 4s 9ms/step - loss: 0.0300 - accuracy: 0.9684 - val_loss: 0.8033 - val_accuracy: 0.8535\n",
            "\n",
            "Epoch 00108: val_accuracy did not improve from 0.93036\n",
            "Epoch 109/200\n",
            "401/401 [==============================] - 4s 9ms/step - loss: 0.0326 - accuracy: 0.9693 - val_loss: 0.5783 - val_accuracy: 0.9260\n",
            "\n",
            "Epoch 00109: val_accuracy did not improve from 0.93036\n",
            "Epoch 110/200\n",
            "401/401 [==============================] - 4s 9ms/step - loss: 0.0127 - accuracy: 0.9840 - val_loss: 0.5548 - val_accuracy: 0.9247\n",
            "\n",
            "Epoch 00110: val_accuracy did not improve from 0.93036\n",
            "Epoch 111/200\n",
            "401/401 [==============================] - 4s 9ms/step - loss: 0.0139 - accuracy: 0.9859 - val_loss: 0.5522 - val_accuracy: 0.9288\n",
            "\n",
            "Epoch 00111: val_accuracy did not improve from 0.93036\n",
            "Epoch 112/200\n",
            "401/401 [==============================] - 4s 9ms/step - loss: 0.0167 - accuracy: 0.9847 - val_loss: 0.6139 - val_accuracy: 0.9194\n",
            "\n",
            "Epoch 00112: val_accuracy did not improve from 0.93036\n",
            "Epoch 113/200\n",
            "401/401 [==============================] - 4s 9ms/step - loss: 0.0141 - accuracy: 0.9858 - val_loss: 0.6291 - val_accuracy: 0.9213\n",
            "\n",
            "Epoch 00113: val_accuracy did not improve from 0.93036\n",
            "Epoch 114/200\n",
            "401/401 [==============================] - 4s 9ms/step - loss: 0.0122 - accuracy: 0.9865 - val_loss: 0.6987 - val_accuracy: 0.9200\n",
            "\n",
            "Epoch 00114: val_accuracy did not improve from 0.93036\n",
            "Epoch 115/200\n",
            "401/401 [==============================] - 4s 9ms/step - loss: 0.0136 - accuracy: 0.9883 - val_loss: 0.6543 - val_accuracy: 0.9269\n",
            "\n",
            "Epoch 00115: val_accuracy did not improve from 0.93036\n",
            "Epoch 116/200\n",
            "401/401 [==============================] - 4s 9ms/step - loss: 0.0144 - accuracy: 0.9871 - val_loss: 0.6130 - val_accuracy: 0.9213\n",
            "\n",
            "Epoch 00116: val_accuracy did not improve from 0.93036\n",
            "Epoch 117/200\n",
            "401/401 [==============================] - 4s 9ms/step - loss: 0.0104 - accuracy: 0.9883 - val_loss: 0.8098 - val_accuracy: 0.8782\n",
            "\n",
            "Epoch 00117: val_accuracy did not improve from 0.93036\n",
            "Epoch 118/200\n",
            "401/401 [==============================] - 4s 9ms/step - loss: 0.0243 - accuracy: 0.9784 - val_loss: 0.6179 - val_accuracy: 0.9072\n",
            "\n",
            "Epoch 00118: val_accuracy did not improve from 0.93036\n",
            "Epoch 119/200\n",
            "401/401 [==============================] - 4s 9ms/step - loss: 0.0498 - accuracy: 0.9746 - val_loss: 0.5824 - val_accuracy: 0.9107\n",
            "\n",
            "Epoch 00119: val_accuracy did not improve from 0.93036\n",
            "Epoch 120/200\n",
            "401/401 [==============================] - 4s 9ms/step - loss: 0.0331 - accuracy: 0.9759 - val_loss: 0.6685 - val_accuracy: 0.9032\n",
            "\n",
            "Epoch 00120: val_accuracy did not improve from 0.93036\n",
            "Epoch 121/200\n",
            "401/401 [==============================] - 4s 9ms/step - loss: 0.0241 - accuracy: 0.9757 - val_loss: 0.5335 - val_accuracy: 0.9151\n",
            "\n",
            "Epoch 00121: val_accuracy did not improve from 0.93036\n",
            "Epoch 122/200\n",
            "401/401 [==============================] - 4s 9ms/step - loss: 0.0218 - accuracy: 0.9786 - val_loss: 0.5724 - val_accuracy: 0.9213\n",
            "\n",
            "Epoch 00122: val_accuracy did not improve from 0.93036\n",
            "Epoch 123/200\n",
            "401/401 [==============================] - 4s 9ms/step - loss: 0.0109 - accuracy: 0.9880 - val_loss: 0.5794 - val_accuracy: 0.9247\n",
            "\n",
            "Epoch 00123: val_accuracy did not improve from 0.93036\n",
            "Epoch 124/200\n",
            "401/401 [==============================] - 4s 9ms/step - loss: 0.0127 - accuracy: 0.9887 - val_loss: 0.6307 - val_accuracy: 0.9188\n",
            "\n",
            "Epoch 00124: val_accuracy did not improve from 0.93036\n",
            "Epoch 125/200\n",
            "401/401 [==============================] - 4s 9ms/step - loss: 0.0141 - accuracy: 0.9862 - val_loss: 0.7109 - val_accuracy: 0.8960\n",
            "\n",
            "Epoch 00125: val_accuracy did not improve from 0.93036\n",
            "Epoch 126/200\n",
            "401/401 [==============================] - 4s 9ms/step - loss: 0.0166 - accuracy: 0.9820 - val_loss: 0.5642 - val_accuracy: 0.9247\n",
            "\n",
            "Epoch 00126: val_accuracy did not improve from 0.93036\n",
            "Epoch 127/200\n",
            "401/401 [==============================] - 4s 9ms/step - loss: 0.0224 - accuracy: 0.9830 - val_loss: 0.5552 - val_accuracy: 0.9122\n",
            "\n",
            "Epoch 00127: val_accuracy did not improve from 0.93036\n",
            "Epoch 128/200\n",
            "401/401 [==============================] - 4s 9ms/step - loss: 0.0166 - accuracy: 0.9870 - val_loss: 0.6002 - val_accuracy: 0.9141\n",
            "\n",
            "Epoch 00128: val_accuracy did not improve from 0.93036\n",
            "Epoch 129/200\n",
            "401/401 [==============================] - 4s 9ms/step - loss: 0.0116 - accuracy: 0.9857 - val_loss: 0.6074 - val_accuracy: 0.9254\n",
            "\n",
            "Epoch 00129: val_accuracy did not improve from 0.93036\n",
            "Epoch 130/200\n",
            "401/401 [==============================] - 4s 9ms/step - loss: 0.0137 - accuracy: 0.9883 - val_loss: 0.6083 - val_accuracy: 0.9247\n",
            "\n",
            "Epoch 00130: val_accuracy did not improve from 0.93036\n",
            "Epoch 131/200\n",
            "401/401 [==============================] - 4s 9ms/step - loss: 0.0136 - accuracy: 0.9898 - val_loss: 0.6834 - val_accuracy: 0.9044\n",
            "\n",
            "Epoch 00131: val_accuracy did not improve from 0.93036\n",
            "Epoch 132/200\n",
            "401/401 [==============================] - 4s 9ms/step - loss: 0.0241 - accuracy: 0.9792 - val_loss: 0.6088 - val_accuracy: 0.9101\n",
            "\n",
            "Epoch 00132: val_accuracy did not improve from 0.93036\n",
            "Epoch 133/200\n",
            "401/401 [==============================] - 4s 9ms/step - loss: 0.0189 - accuracy: 0.9802 - val_loss: 0.6372 - val_accuracy: 0.9207\n",
            "\n",
            "Epoch 00133: val_accuracy did not improve from 0.93036\n",
            "Epoch 134/200\n",
            "401/401 [==============================] - 4s 9ms/step - loss: 0.0281 - accuracy: 0.9788 - val_loss: 0.6211 - val_accuracy: 0.9222\n",
            "\n",
            "Epoch 00134: val_accuracy did not improve from 0.93036\n",
            "Epoch 135/200\n",
            "401/401 [==============================] - 4s 9ms/step - loss: 0.0507 - accuracy: 0.9756 - val_loss: 0.6054 - val_accuracy: 0.9122\n",
            "\n",
            "Epoch 00135: val_accuracy did not improve from 0.93036\n",
            "Epoch 136/200\n",
            "401/401 [==============================] - 4s 9ms/step - loss: 0.0159 - accuracy: 0.9835 - val_loss: 0.6057 - val_accuracy: 0.9072\n",
            "\n",
            "Epoch 00136: val_accuracy did not improve from 0.93036\n",
            "Epoch 137/200\n",
            "401/401 [==============================] - 4s 9ms/step - loss: 0.0164 - accuracy: 0.9829 - val_loss: 0.6140 - val_accuracy: 0.9225\n",
            "\n",
            "Epoch 00137: val_accuracy did not improve from 0.93036\n",
            "Epoch 138/200\n",
            "401/401 [==============================] - 4s 10ms/step - loss: 0.0132 - accuracy: 0.9875 - val_loss: 0.6424 - val_accuracy: 0.9222\n",
            "\n",
            "Epoch 00138: val_accuracy did not improve from 0.93036\n",
            "Epoch 139/200\n",
            "401/401 [==============================] - 4s 10ms/step - loss: 0.0152 - accuracy: 0.9884 - val_loss: 0.6801 - val_accuracy: 0.9176\n",
            "\n",
            "Epoch 00139: val_accuracy did not improve from 0.93036\n",
            "Epoch 140/200\n",
            "401/401 [==============================] - 4s 10ms/step - loss: 0.0194 - accuracy: 0.9851 - val_loss: 0.6409 - val_accuracy: 0.9179\n",
            "\n",
            "Epoch 00140: val_accuracy did not improve from 0.93036\n",
            "Epoch 141/200\n",
            "401/401 [==============================] - 4s 9ms/step - loss: 0.0295 - accuracy: 0.9771 - val_loss: 0.6516 - val_accuracy: 0.9129\n",
            "\n",
            "Epoch 00141: val_accuracy did not improve from 0.93036\n",
            "Epoch 142/200\n",
            "401/401 [==============================] - 4s 9ms/step - loss: 0.0340 - accuracy: 0.9748 - val_loss: 0.6018 - val_accuracy: 0.9241\n",
            "\n",
            "Epoch 00142: val_accuracy did not improve from 0.93036\n",
            "Epoch 143/200\n",
            "401/401 [==============================] - 4s 9ms/step - loss: 0.0158 - accuracy: 0.9862 - val_loss: 0.6226 - val_accuracy: 0.9216\n",
            "\n",
            "Epoch 00143: val_accuracy did not improve from 0.93036\n",
            "Epoch 144/200\n",
            "401/401 [==============================] - 4s 9ms/step - loss: 0.0158 - accuracy: 0.9831 - val_loss: 0.5877 - val_accuracy: 0.9176\n",
            "\n",
            "Epoch 00144: val_accuracy did not improve from 0.93036\n",
            "Epoch 145/200\n",
            "401/401 [==============================] - 4s 9ms/step - loss: 0.0141 - accuracy: 0.9866 - val_loss: 0.6093 - val_accuracy: 0.9172\n",
            "\n",
            "Epoch 00145: val_accuracy did not improve from 0.93036\n",
            "Epoch 146/200\n",
            "401/401 [==============================] - 4s 9ms/step - loss: 0.0206 - accuracy: 0.9807 - val_loss: 0.6033 - val_accuracy: 0.9163\n",
            "\n",
            "Epoch 00146: val_accuracy did not improve from 0.93036\n",
            "Epoch 147/200\n",
            "401/401 [==============================] - 4s 9ms/step - loss: 0.0210 - accuracy: 0.9823 - val_loss: 0.5934 - val_accuracy: 0.9219\n",
            "\n",
            "Epoch 00147: val_accuracy did not improve from 0.93036\n",
            "Epoch 148/200\n",
            "401/401 [==============================] - 4s 10ms/step - loss: 0.0195 - accuracy: 0.9802 - val_loss: 0.6265 - val_accuracy: 0.9166\n",
            "\n",
            "Epoch 00148: val_accuracy did not improve from 0.93036\n",
            "Epoch 149/200\n",
            "401/401 [==============================] - 4s 9ms/step - loss: 0.0390 - accuracy: 0.9792 - val_loss: 0.5766 - val_accuracy: 0.9254\n",
            "\n",
            "Epoch 00149: val_accuracy did not improve from 0.93036\n",
            "Epoch 150/200\n",
            "401/401 [==============================] - 4s 9ms/step - loss: 0.0105 - accuracy: 0.9880 - val_loss: 0.5851 - val_accuracy: 0.9244\n",
            "\n",
            "Epoch 00150: val_accuracy did not improve from 0.93036\n",
            "Epoch 151/200\n",
            "401/401 [==============================] - 4s 9ms/step - loss: 0.0161 - accuracy: 0.9833 - val_loss: 0.6059 - val_accuracy: 0.9238\n",
            "\n",
            "Epoch 00151: val_accuracy did not improve from 0.93036\n",
            "Epoch 152/200\n",
            "401/401 [==============================] - 4s 9ms/step - loss: 0.0149 - accuracy: 0.9880 - val_loss: 0.6553 - val_accuracy: 0.9257\n",
            "\n",
            "Epoch 00152: val_accuracy did not improve from 0.93036\n",
            "Epoch 153/200\n",
            "401/401 [==============================] - 4s 9ms/step - loss: 0.0365 - accuracy: 0.9767 - val_loss: 0.6091 - val_accuracy: 0.9263\n",
            "\n",
            "Epoch 00153: val_accuracy did not improve from 0.93036\n",
            "Epoch 154/200\n",
            "401/401 [==============================] - 4s 9ms/step - loss: 0.0261 - accuracy: 0.9790 - val_loss: 0.5674 - val_accuracy: 0.9257\n",
            "\n",
            "Epoch 00154: val_accuracy did not improve from 0.93036\n",
            "Epoch 155/200\n",
            "401/401 [==============================] - 4s 9ms/step - loss: 0.0167 - accuracy: 0.9855 - val_loss: 0.6154 - val_accuracy: 0.9132\n",
            "\n",
            "Epoch 00155: val_accuracy did not improve from 0.93036\n",
            "Epoch 156/200\n",
            "401/401 [==============================] - 4s 9ms/step - loss: 0.0163 - accuracy: 0.9843 - val_loss: 0.5973 - val_accuracy: 0.9238\n",
            "\n",
            "Epoch 00156: val_accuracy did not improve from 0.93036\n",
            "Epoch 157/200\n",
            "401/401 [==============================] - 4s 9ms/step - loss: 0.0123 - accuracy: 0.9871 - val_loss: 0.5784 - val_accuracy: 0.9257\n",
            "\n",
            "Epoch 00157: val_accuracy did not improve from 0.93036\n",
            "Epoch 158/200\n",
            "401/401 [==============================] - 4s 9ms/step - loss: 0.0238 - accuracy: 0.9832 - val_loss: 0.6080 - val_accuracy: 0.9272\n",
            "\n",
            "Epoch 00158: val_accuracy did not improve from 0.93036\n",
            "Epoch 159/200\n",
            "401/401 [==============================] - 4s 9ms/step - loss: 0.0159 - accuracy: 0.9874 - val_loss: 0.6083 - val_accuracy: 0.9229\n",
            "\n",
            "Epoch 00159: val_accuracy did not improve from 0.93036\n",
            "Epoch 160/200\n",
            "401/401 [==============================] - 4s 9ms/step - loss: 0.0161 - accuracy: 0.9854 - val_loss: 0.5798 - val_accuracy: 0.9247\n",
            "\n",
            "Epoch 00160: val_accuracy did not improve from 0.93036\n",
            "Epoch 161/200\n",
            "401/401 [==============================] - 4s 9ms/step - loss: 0.0144 - accuracy: 0.9865 - val_loss: 0.5807 - val_accuracy: 0.9235\n",
            "\n",
            "Epoch 00161: val_accuracy did not improve from 0.93036\n",
            "Epoch 162/200\n",
            "401/401 [==============================] - 4s 9ms/step - loss: 0.0122 - accuracy: 0.9882 - val_loss: 0.5788 - val_accuracy: 0.9235\n",
            "\n",
            "Epoch 00162: val_accuracy did not improve from 0.93036\n",
            "Epoch 163/200\n",
            "401/401 [==============================] - 4s 9ms/step - loss: 0.0160 - accuracy: 0.9859 - val_loss: 0.6193 - val_accuracy: 0.9229\n",
            "\n",
            "Epoch 00163: val_accuracy did not improve from 0.93036\n",
            "Epoch 164/200\n",
            "401/401 [==============================] - 4s 9ms/step - loss: 0.0188 - accuracy: 0.9842 - val_loss: 0.6274 - val_accuracy: 0.9269\n",
            "\n",
            "Epoch 00164: val_accuracy did not improve from 0.93036\n",
            "Epoch 165/200\n",
            "401/401 [==============================] - 4s 9ms/step - loss: 0.0143 - accuracy: 0.9903 - val_loss: 0.6652 - val_accuracy: 0.9266\n",
            "\n",
            "Epoch 00165: val_accuracy did not improve from 0.93036\n",
            "Epoch 166/200\n",
            "401/401 [==============================] - 4s 9ms/step - loss: 0.0114 - accuracy: 0.9890 - val_loss: 0.6050 - val_accuracy: 0.9138\n",
            "\n",
            "Epoch 00166: val_accuracy did not improve from 0.93036\n",
            "Epoch 167/200\n",
            "401/401 [==============================] - 4s 9ms/step - loss: 0.0205 - accuracy: 0.9815 - val_loss: 0.5627 - val_accuracy: 0.9191\n",
            "\n",
            "Epoch 00167: val_accuracy did not improve from 0.93036\n",
            "Epoch 168/200\n",
            "401/401 [==============================] - 4s 9ms/step - loss: 0.0268 - accuracy: 0.9799 - val_loss: 0.6134 - val_accuracy: 0.9200\n",
            "\n",
            "Epoch 00168: val_accuracy did not improve from 0.93036\n",
            "Epoch 169/200\n",
            "401/401 [==============================] - 4s 9ms/step - loss: 0.0212 - accuracy: 0.9831 - val_loss: 0.6286 - val_accuracy: 0.9197\n",
            "\n",
            "Epoch 00169: val_accuracy did not improve from 0.93036\n",
            "Epoch 170/200\n",
            "401/401 [==============================] - 4s 9ms/step - loss: 0.0145 - accuracy: 0.9852 - val_loss: 0.6402 - val_accuracy: 0.9266\n",
            "\n",
            "Epoch 00170: val_accuracy did not improve from 0.93036\n",
            "Epoch 171/200\n",
            "401/401 [==============================] - 4s 9ms/step - loss: 0.0119 - accuracy: 0.9876 - val_loss: 0.5617 - val_accuracy: 0.9216\n",
            "\n",
            "Epoch 00171: val_accuracy did not improve from 0.93036\n",
            "Epoch 172/200\n",
            "401/401 [==============================] - 4s 9ms/step - loss: 0.0273 - accuracy: 0.9838 - val_loss: 0.5499 - val_accuracy: 0.9191\n",
            "\n",
            "Epoch 00172: val_accuracy did not improve from 0.93036\n",
            "Epoch 173/200\n",
            "401/401 [==============================] - 4s 9ms/step - loss: 0.0206 - accuracy: 0.9830 - val_loss: 0.5379 - val_accuracy: 0.9110\n",
            "\n",
            "Epoch 00173: val_accuracy did not improve from 0.93036\n",
            "Epoch 174/200\n",
            "401/401 [==============================] - 4s 9ms/step - loss: 0.0160 - accuracy: 0.9815 - val_loss: 0.5650 - val_accuracy: 0.9182\n",
            "\n",
            "Epoch 00174: val_accuracy did not improve from 0.93036\n",
            "Epoch 175/200\n",
            "401/401 [==============================] - 4s 9ms/step - loss: 0.0127 - accuracy: 0.9859 - val_loss: 0.6205 - val_accuracy: 0.9229\n",
            "\n",
            "Epoch 00175: val_accuracy did not improve from 0.93036\n",
            "Epoch 176/200\n",
            "401/401 [==============================] - 4s 9ms/step - loss: 0.0164 - accuracy: 0.9849 - val_loss: 0.5986 - val_accuracy: 0.9119\n",
            "\n",
            "Epoch 00176: val_accuracy did not improve from 0.93036\n",
            "Epoch 177/200\n",
            "401/401 [==============================] - 4s 9ms/step - loss: 0.0129 - accuracy: 0.9880 - val_loss: 0.6298 - val_accuracy: 0.9166\n",
            "\n",
            "Epoch 00177: val_accuracy did not improve from 0.93036\n",
            "Epoch 178/200\n",
            "401/401 [==============================] - 4s 9ms/step - loss: 0.0129 - accuracy: 0.9841 - val_loss: 0.6213 - val_accuracy: 0.9213\n",
            "\n",
            "Epoch 00178: val_accuracy did not improve from 0.93036\n",
            "Epoch 179/200\n",
            "401/401 [==============================] - 4s 9ms/step - loss: 0.0137 - accuracy: 0.9874 - val_loss: 0.6739 - val_accuracy: 0.9219\n",
            "\n",
            "Epoch 00179: val_accuracy did not improve from 0.93036\n",
            "Epoch 180/200\n",
            "401/401 [==============================] - 4s 9ms/step - loss: 0.0156 - accuracy: 0.9872 - val_loss: 0.6251 - val_accuracy: 0.9250\n",
            "\n",
            "Epoch 00180: val_accuracy did not improve from 0.93036\n",
            "Epoch 181/200\n",
            "401/401 [==============================] - 4s 9ms/step - loss: 0.0129 - accuracy: 0.9880 - val_loss: 0.6474 - val_accuracy: 0.9222\n",
            "\n",
            "Epoch 00181: val_accuracy did not improve from 0.93036\n",
            "Epoch 182/200\n",
            "401/401 [==============================] - 4s 9ms/step - loss: 0.0087 - accuracy: 0.9904 - val_loss: 0.6898 - val_accuracy: 0.9235\n",
            "\n",
            "Epoch 00182: val_accuracy did not improve from 0.93036\n",
            "Epoch 183/200\n",
            "401/401 [==============================] - 4s 9ms/step - loss: 0.0101 - accuracy: 0.9906 - val_loss: 0.6702 - val_accuracy: 0.9197\n",
            "\n",
            "Reached 99.00% accuracy so we will stop trianing\n",
            "\n",
            "Epoch 00183: val_accuracy did not improve from 0.93036\n"
          ],
          "name": "stdout"
        }
      ]
    },
    {
      "cell_type": "code",
      "metadata": {
        "colab": {
          "base_uri": "https://localhost:8080/"
        },
        "id": "FqcGyIPgRxDf",
        "outputId": "ffe64723-ddcd-4849-fdf7-ffdfbfad7b2a"
      },
      "source": [
        "# Load the saved model\n",
        "model = load_model(folder_path+'prt_ml_off_BiLSTMModel.h5')\n",
        "# prediction\n",
        "y_pred = np.argmax(model.predict(validation_pad_sequences), axis=-1)\n",
        "print_metrices(valid_data['enc_label'],y_pred)\n"
      ],
      "execution_count": null,
      "outputs": [
        {
          "output_type": "stream",
          "text": [
            "[[1705   48   13    9    4]\n",
            " [  30  131    0    0    2]\n",
            " [  11    0   13    0    0]\n",
            " [  13    0    1    6    0]\n",
            " [   7    0    0    0    6]]\n",
            "              precision    recall  f1-score   support\n",
            "\n",
            "           0       0.97      0.96      0.96      1779\n",
            "           1       0.73      0.80      0.77       163\n",
            "           2       0.48      0.54      0.51        24\n",
            "           3       0.40      0.30      0.34        20\n",
            "           4       0.50      0.46      0.48        13\n",
            "\n",
            "    accuracy                           0.93      1999\n",
            "   macro avg       0.62      0.61      0.61      1999\n",
            "weighted avg       0.93      0.93      0.93      1999\n",
            "\n",
            "Accuracy :  0.9309654827413707\n",
            "Precison :  0.9319144677219902\n",
            "Recall :  0.9309654827413707\n",
            "F1 :  0.9311937219955937\n"
          ],
          "name": "stdout"
        }
      ]
    },
    {
      "cell_type": "code",
      "metadata": {
        "id": "S2ka0hgqTOnq"
      },
      "source": [
        "test_pred = np.argmax(model.predict(test_pad_sequences), axis=-1).tolist()\n"
      ],
      "execution_count": null,
      "outputs": []
    },
    {
      "cell_type": "code",
      "metadata": {
        "id": "OjFB39pSTFjA"
      },
      "source": [
        "test_data['id'] = test_data.index + 1\n",
        "run = pd.DataFrame(test_data['id'])\n",
        "run['text'] = test_data['text']\n",
        "run['label'] = test_pred\n",
        "run['label'] = run['label'].apply(actual_label)\n",
        "run \n"
      ],
      "execution_count": null,
      "outputs": []
    },
    {
      "cell_type": "code",
      "metadata": {
        "id": "I3KusxYGTREr"
      },
      "source": [
        "run.to_csv(folder_path + 'malayalam_off_cnn+bilstm+fasttext.csv',index = False)"
      ],
      "execution_count": null,
      "outputs": []
    },
    {
      "cell_type": "markdown",
      "metadata": {
        "id": "eFf9eRR8BXQM"
      },
      "source": [
        "## Attention"
      ]
    },
    {
      "cell_type": "code",
      "metadata": {
        "id": "ADrRaC4qBXQN"
      },
      "source": [
        "import tensorflow as tf\n",
        "import tensorflow.keras as keras\n",
        "from tensorflow.keras.preprocessing.text import Tokenizer\n",
        "from tensorflow.keras.preprocessing.sequence import pad_sequences\n",
        "from tensorflow.keras.layers import Concatenate, Dense, Input, LSTM, Embedding, Dropout, Activation, GRU, Flatten\n",
        "from tensorflow.keras.layers import Bidirectional, GlobalMaxPool1D\n",
        "from tensorflow.keras.models import Model, Sequential\n",
        "from tensorflow.keras.layers import Convolution1D\n",
        "from tensorflow.keras import initializers, regularizers, constraints, optimizers, layers\n",
        "from tensorflow.keras.layers import Add, BatchNormalization, Activation, Dropout"
      ],
      "execution_count": null,
      "outputs": []
    },
    {
      "cell_type": "code",
      "metadata": {
        "id": "MPqScy-UBXQN"
      },
      "source": [
        "MAX_FEATURES = 10000\n",
        "EMBED_SIZE = 128\n",
        "tokenizer = Tokenizer(num_words=MAX_FEATURES)\n",
        "tokenizer.fit_on_texts(train_data['cleaned'])\n",
        "list_tokenized_train = tokenizer.texts_to_sequences(train_data['cleaned'])\n",
        "list_tokenized_val = tokenizer.texts_to_sequences(valid_data['cleaned'])  \n",
        "list_tokenized_test = tokenizer.texts_to_sequences(test_data['cleaned'])  \n",
        "RNN_CELL_SIZE = 100\n",
        "  \n",
        "MAX_LEN = 200  \n",
        "X_train = pad_sequences(list_tokenized_train, maxlen=MAX_LEN)\n",
        "y_train = train_data['enc_label']\n",
        "X_val = pad_sequences(list_tokenized_val, maxlen=MAX_LEN)\n",
        "y_val = valid_data['enc_label']\n",
        "X_test = pad_sequences(list_tokenized_test, maxlen=MAX_LEN)"
      ],
      "execution_count": null,
      "outputs": []
    },
    {
      "cell_type": "code",
      "metadata": {
        "id": "D_-qYMR2BXQO"
      },
      "source": [
        "class Attention(tf.keras.Model):\n",
        "    def __init__(self, units):\n",
        "        super(Attention, self).__init__()\n",
        "        self.W1 = tf.keras.layers.Dense(units)\n",
        "        self.W2 = tf.keras.layers.Dense(units)\n",
        "        self.V = tf.keras.layers.Dense(1)\n",
        "\n",
        "    def call(self, features, hidden):\n",
        "        # hidden shape == (batch_size, hidden size)\n",
        "        # hidden_with_time_axis shape == (batch_size, 1, hidden size)\n",
        "        # we are doing this to perform addition to calculate the score\n",
        "        hidden_with_time_axis = tf.expand_dims(hidden, 1)\n",
        "          \n",
        "        # score shape == (batch_size, max_length, 1)\n",
        "        # we get 1 at the last axis because we are applying score to self.V\n",
        "        # the shape of the tensor before applying self.V is (batch_size, max_length, units)\n",
        "        score = tf.nn.tanh(\n",
        "            self.W1(features) + self.W2(hidden_with_time_axis))\n",
        "        # attention_weights shape == (batch_size, max_length, 1)\n",
        "        attention_weights = tf.nn.softmax(self.V(score), axis=1)\n",
        "          \n",
        "        # context_vector shape after sum == (batch_size, hidden_size)\n",
        "        context_vector = attention_weights * features\n",
        "        context_vector = tf.reduce_sum(context_vector, axis=1)\n",
        "        return context_vector, attention_weights"
      ],
      "execution_count": null,
      "outputs": []
    },
    {
      "cell_type": "code",
      "metadata": {
        "id": "-TxiIJRbBXQP"
      },
      "source": [
        "sequence_input = Input(shape=(MAX_LEN,), dtype=\"int32\")\n",
        "embedded_sequences = Embedding(MAX_FEATURES, EMBED_SIZE)(sequence_input)"
      ],
      "execution_count": null,
      "outputs": []
    },
    {
      "cell_type": "code",
      "metadata": {
        "id": "4OOG91brBXQP"
      },
      "source": [
        "#conv = Convolution1D(128,5,activation='relu')(embedded_sequences)\n",
        "#pol = GlobalMaxPool1D()(conv)\n",
        "\n",
        "lstm = Bidirectional(LSTM(64, return_sequences = True), name=\"bi_lstm_0\")(embedded_sequences)\n",
        "\n",
        "# Getting our LSTM outputs\n",
        "(lstm, forward_h, forward_c, backward_h, backward_c) = Bidirectional(LSTM(64, return_sequences=True, return_state=True), name=\"bi_lstm_1\")(lstm)"
      ],
      "execution_count": null,
      "outputs": []
    },
    {
      "cell_type": "code",
      "metadata": {
        "id": "63wJ48BUBXQQ"
      },
      "source": [
        "state_h = Concatenate()([forward_h, backward_h])\n",
        "state_c = Concatenate()([forward_c, backward_c])\n",
        "context_vector, attention_weights = Attention(20)(lstm, state_h)\n",
        "dense1 = Dense(20, activation=\"relu\")(context_vector)\n",
        "dropout = Dropout(0.1)(dense1)\n",
        "output = Dense(6, activation=\"softmax\")(dropout)\n",
        "  \n",
        "model = keras.Model(inputs=sequence_input, outputs=output)"
      ],
      "execution_count": null,
      "outputs": []
    },
    {
      "cell_type": "code",
      "metadata": {
        "id": "4hXy7HG9BXQQ"
      },
      "source": [
        "model.compile(loss='sparse_categorical_crossentropy',\n",
        "              optimizer= keras.optimizers.Adam(learning_rate = 0.001),\n",
        "              metrics=['accuracy'])"
      ],
      "execution_count": null,
      "outputs": []
    },
    {
      "cell_type": "code",
      "metadata": {
        "colab": {
          "base_uri": "https://localhost:8080/"
        },
        "id": "tdgWe5veBXQR",
        "outputId": "64a77e68-6074-4490-869d-1dfe0ad47da0"
      },
      "source": [
        "BATCH_SIZE = 64\n",
        "EPOCHS = 6\n",
        "history = model.fit(X_train,y_train,\n",
        "                    batch_size=BATCH_SIZE,\n",
        "                    epochs=EPOCHS,\n",
        "                    validation_split=0.10)"
      ],
      "execution_count": null,
      "outputs": [
        {
          "output_type": "stream",
          "text": [
            "Epoch 1/6\n",
            "226/226 [==============================] - 22s 67ms/step - loss: 0.6966 - accuracy: 0.8489 - val_loss: 0.3314 - val_accuracy: 0.9107\n",
            "Epoch 2/6\n",
            "226/226 [==============================] - 13s 56ms/step - loss: 0.2657 - accuracy: 0.9311 - val_loss: 0.3315 - val_accuracy: 0.9225\n",
            "Epoch 3/6\n",
            "226/226 [==============================] - 13s 56ms/step - loss: 0.1868 - accuracy: 0.9453 - val_loss: 0.2832 - val_accuracy: 0.9257\n",
            "Epoch 4/6\n",
            "226/226 [==============================] - 13s 56ms/step - loss: 0.1140 - accuracy: 0.9614 - val_loss: 0.2758 - val_accuracy: 0.9313\n",
            "Epoch 5/6\n",
            "226/226 [==============================] - 13s 56ms/step - loss: 0.0878 - accuracy: 0.9685 - val_loss: 0.3018 - val_accuracy: 0.9300\n",
            "Epoch 6/6\n",
            "226/226 [==============================] - 13s 57ms/step - loss: 0.0851 - accuracy: 0.9703 - val_loss: 0.3172 - val_accuracy: 0.9307\n"
          ],
          "name": "stdout"
        }
      ]
    },
    {
      "cell_type": "code",
      "metadata": {
        "colab": {
          "base_uri": "https://localhost:8080/"
        },
        "id": "pfwlBLOmBXQS",
        "outputId": "4bfca69f-425c-4aad-d600-85da9c9dbfdf"
      },
      "source": [
        "prediction = np.argmax(model.predict(X_val),axis = -1)\n",
        "print_metrices(valid_data['enc_label'],prediction)"
      ],
      "execution_count": null,
      "outputs": [
        {
          "output_type": "stream",
          "text": [
            "[[1715   35   14    8    7]\n",
            " [  46  117    0    0    0]\n",
            " [  12    0   10    2    0]\n",
            " [   9    0    5    5    1]\n",
            " [   2    0    1    3    7]]\n",
            "              precision    recall  f1-score   support\n",
            "\n",
            "           0       0.96      0.96      0.96      1779\n",
            "           1       0.77      0.72      0.74       163\n",
            "           2       0.33      0.42      0.37        24\n",
            "           3       0.28      0.25      0.26        20\n",
            "           4       0.47      0.54      0.50        13\n",
            "\n",
            "    accuracy                           0.93      1999\n",
            "   macro avg       0.56      0.58      0.57      1999\n",
            "weighted avg       0.93      0.93      0.93      1999\n",
            "\n",
            "Accuracy :  0.927463731865933\n",
            "Precison :  0.9281054092724383\n",
            "Recall :  0.927463731865933\n",
            "F1 :  0.9276293553302132\n"
          ],
          "name": "stdout"
        }
      ]
    },
    {
      "cell_type": "code",
      "metadata": {
        "colab": {
          "base_uri": "https://localhost:8080/",
          "height": 407
        },
        "id": "BgDLkHuoBXQS",
        "outputId": "19c37079-b6f2-4718-f170-c9b68de6806f"
      },
      "source": [
        "test_pred = np.argmax(model.predict(X_test), axis=-1).tolist()\n",
        "test_data['id'] = test_data.index + 1\n",
        "run = pd.DataFrame(test_data['id'])\n",
        "run['text'] = test_data['text']\n",
        "run['label'] = test_pred\n",
        "run['label'] = run['label'].apply(actual_label)\n",
        "run "
      ],
      "execution_count": null,
      "outputs": [
        {
          "output_type": "execute_result",
          "data": {
            "text/html": [
              "<div>\n",
              "<style scoped>\n",
              "    .dataframe tbody tr th:only-of-type {\n",
              "        vertical-align: middle;\n",
              "    }\n",
              "\n",
              "    .dataframe tbody tr th {\n",
              "        vertical-align: top;\n",
              "    }\n",
              "\n",
              "    .dataframe thead th {\n",
              "        text-align: right;\n",
              "    }\n",
              "</style>\n",
              "<table border=\"1\" class=\"dataframe\">\n",
              "  <thead>\n",
              "    <tr style=\"text-align: right;\">\n",
              "      <th></th>\n",
              "      <th>id</th>\n",
              "      <th>text</th>\n",
              "      <th>label</th>\n",
              "    </tr>\n",
              "  </thead>\n",
              "  <tbody>\n",
              "    <tr>\n",
              "      <th>0</th>\n",
              "      <td>1</td>\n",
              "      <td>അപ്പൊ ഇതൊരൊന്നൊരാ മൊതലാണല്ലേ  Suraj ആണ് നടൻ ന്...</td>\n",
              "      <td>Not_offensive</td>\n",
              "    </tr>\n",
              "    <tr>\n",
              "      <th>1</th>\n",
              "      <td>2</td>\n",
              "      <td>എന്ത് ഊള എഡിറ്റിംഗ് ആടോ ഇത് ഒരുമാതിരി vivo vid...</td>\n",
              "      <td>Not_offensive</td>\n",
              "    </tr>\n",
              "    <tr>\n",
              "      <th>2</th>\n",
              "      <td>3</td>\n",
              "      <td>Fefka ee padam release cheyyan samadhicho?</td>\n",
              "      <td>Offensive_Targeted_Insult_Individual</td>\n",
              "    </tr>\n",
              "    <tr>\n",
              "      <th>3</th>\n",
              "      <td>4</td>\n",
              "      <td>അആഹാ.. സംഗീതം ജെക്‌സ് ബിജോയ് ആണ് അപ്പൊ പൊട്ടലു...</td>\n",
              "      <td>Not_offensive</td>\n",
              "    </tr>\n",
              "    <tr>\n",
              "      <th>4</th>\n",
              "      <td>5</td>\n",
              "      <td>Ravile thane views likes ethra ayyi enn nokan ...</td>\n",
              "      <td>Not_offensive</td>\n",
              "    </tr>\n",
              "    <tr>\n",
              "      <th>...</th>\n",
              "      <td>...</td>\n",
              "      <td>...</td>\n",
              "      <td>...</td>\n",
              "    </tr>\n",
              "    <tr>\n",
              "      <th>1996</th>\n",
              "      <td>1997</td>\n",
              "      <td>Swargatthil ninnu purathaakkappetta daivatthin...</td>\n",
              "      <td>Not_offensive</td>\n",
              "    </tr>\n",
              "    <tr>\n",
              "      <th>1997</th>\n",
              "      <td>1998</td>\n",
              "      <td>Ivide Palakkad Jayettan Fans club nnu ashamsak...</td>\n",
              "      <td>Not_offensive</td>\n",
              "    </tr>\n",
              "    <tr>\n",
              "      <th>1998</th>\n",
              "      <td>1999</td>\n",
              "      <td>ഈ പടത്തിന് വെയിറ്റ് ചെയ്യുന്ന മമ്മൂക്ക ഫാൻസും</td>\n",
              "      <td>Not_offensive</td>\n",
              "    </tr>\n",
              "    <tr>\n",
              "      <th>1999</th>\n",
              "      <td>2000</td>\n",
              "      <td>കട്ട ലാലേട്ടൻ ഫാൻസ് ഒരു ലൈക് തന്നിട്ട് പോവാമോ ...</td>\n",
              "      <td>Not_offensive</td>\n",
              "    </tr>\n",
              "    <tr>\n",
              "      <th>2000</th>\n",
              "      <td>2001</td>\n",
              "      <td>Koora padam urappa kandal aryam.. Hello</td>\n",
              "      <td>Not_offensive</td>\n",
              "    </tr>\n",
              "  </tbody>\n",
              "</table>\n",
              "<p>2001 rows × 3 columns</p>\n",
              "</div>"
            ],
            "text/plain": [
              "        id  ...                                 label\n",
              "0        1  ...                         Not_offensive\n",
              "1        2  ...                         Not_offensive\n",
              "2        3  ...  Offensive_Targeted_Insult_Individual\n",
              "3        4  ...                         Not_offensive\n",
              "4        5  ...                         Not_offensive\n",
              "...    ...  ...                                   ...\n",
              "1996  1997  ...                         Not_offensive\n",
              "1997  1998  ...                         Not_offensive\n",
              "1998  1999  ...                         Not_offensive\n",
              "1999  2000  ...                         Not_offensive\n",
              "2000  2001  ...                         Not_offensive\n",
              "\n",
              "[2001 rows x 3 columns]"
            ]
          },
          "metadata": {
            "tags": []
          },
          "execution_count": 123
        }
      ]
    },
    {
      "cell_type": "code",
      "metadata": {
        "id": "MPJIDDg_BXQT"
      },
      "source": [
        "run.to_csv(folder_path +'NLP@CUET_malayalam-10.csv',index = False)"
      ],
      "execution_count": null,
      "outputs": []
    },
    {
      "cell_type": "markdown",
      "metadata": {
        "id": "b5RDRp3fD3FR"
      },
      "source": [
        "# Kannada Dataset "
      ]
    },
    {
      "cell_type": "code",
      "metadata": {
        "colab": {
          "base_uri": "https://localhost:8080/"
        },
        "id": "VSmTmMfND3FT",
        "outputId": "0bd36927-0c52-479b-9775-083301a2076e"
      },
      "source": [
        "%%time\n",
        "train_data = pd.read_csv(dataset_path + \"kannada_offensive_train.csv\",delimiter='\\t',header = None)\n",
        "valid_data = pd.read_csv(dataset_path + \"kannada_offensive_dev.csv\",delimiter='\\t',header = None)\n",
        "test_data = pd.read_csv(dataset_path + \"kannada_offensive_test.csv\",delimiter='\\t',header = None)"
      ],
      "execution_count": null,
      "outputs": [
        {
          "output_type": "stream",
          "text": [
            "CPU times: user 20.7 ms, sys: 784 µs, total: 21.5 ms\n",
            "Wall time: 1.26 s\n"
          ],
          "name": "stdout"
        }
      ]
    },
    {
      "cell_type": "code",
      "metadata": {
        "id": "PzZpmQCUD3FY"
      },
      "source": [
        "train_data = train_data.rename(columns={0:'text',1:'label'})\n",
        "valid_data = valid_data.rename(columns={0:'text',1:'label'})\n",
        "test_data = test_data.rename(columns={0:'text'})"
      ],
      "execution_count": null,
      "outputs": []
    },
    {
      "cell_type": "code",
      "metadata": {
        "id": "1xPtYU7_SEYw",
        "colab": {
          "base_uri": "https://localhost:8080/"
        },
        "outputId": "d469e103-b7af-4064-805b-d9c1c4932f0c"
      },
      "source": [
        "train_data['label'].value_counts()"
      ],
      "execution_count": null,
      "outputs": [
        {
          "output_type": "execute_result",
          "data": {
            "text/plain": [
              "Not_offensive                           3544\n",
              "not-Kannada                             1522\n",
              "Offensive_Targeted_Insult_Individual     487\n",
              "Offensive_Targeted_Insult_Group          329\n",
              "Offensive_Untargetede                    212\n",
              "Offensive_Targeted_Insult_Other          123\n",
              "Name: label, dtype: int64"
            ]
          },
          "metadata": {
            "tags": []
          },
          "execution_count": 13
        }
      ]
    },
    {
      "cell_type": "code",
      "metadata": {
        "colab": {
          "base_uri": "https://localhost:8080/"
        },
        "id": "Z6eQYMDAahJN",
        "outputId": "44621504-fa99-489d-ad19-23716a1a720f"
      },
      "source": [
        "valid_data['label'].value_counts()"
      ],
      "execution_count": null,
      "outputs": [
        {
          "output_type": "execute_result",
          "data": {
            "text/plain": [
              "Not_offensive                           426\n",
              "not-Kannada                             191\n",
              "Offensive_Targeted_Insult_Individual     66\n",
              "Offensive_Targeted_Insult_Group          45\n",
              "Offensive_Untargetede                    33\n",
              "Offensive_Targeted_Insult_Other          16\n",
              "Name: label, dtype: int64"
            ]
          },
          "metadata": {
            "tags": []
          },
          "execution_count": 14
        }
      ]
    },
    {
      "cell_type": "code",
      "metadata": {
        "id": "9hHhW5MeD3Fa"
      },
      "source": [
        "train_data['enc_label'] = train_data['label'].replace({'Not_offensive':0, 'not-Kannada':1,'Offensive_Targeted_Insult_Individual':2\n",
        "                                                       ,'Offensive_Untargetede':3,'Offensive_Targeted_Insult_Group':4,\n",
        "                                                       'Offensive_Targeted_Insult_Other':5\n",
        "                                                       })\n",
        "valid_data['enc_label'] = valid_data['label'].replace({'Not_offensive':0, 'not-Kannada':1,'Offensive_Targeted_Insult_Individual':2\n",
        "                                                       ,'Offensive_Untargetede':3,'Offensive_Targeted_Insult_Group':4,\n",
        "                                                       'Offensive_Targeted_Insult_Other':5\n",
        "                                                       })"
      ],
      "execution_count": null,
      "outputs": []
    },
    {
      "cell_type": "code",
      "metadata": {
        "id": "P-AOBKrMD3Fb"
      },
      "source": [
        "train_data"
      ],
      "execution_count": null,
      "outputs": []
    },
    {
      "cell_type": "code",
      "metadata": {
        "id": "zefNJEAHD3Fc"
      },
      "source": [
        "train_data['text'].tolist()"
      ],
      "execution_count": null,
      "outputs": []
    },
    {
      "cell_type": "code",
      "metadata": {
        "id": "FzSAACuBD3Fd",
        "colab": {
          "base_uri": "https://localhost:8080/"
        },
        "outputId": "c7884921-6c94-41f4-a13f-878027c9130a"
      },
      "source": [
        "train_data['enc_label'].value_counts()"
      ],
      "execution_count": null,
      "outputs": [
        {
          "output_type": "execute_result",
          "data": {
            "text/plain": [
              "0    3544\n",
              "1    1522\n",
              "2     487\n",
              "4     329\n",
              "3     212\n",
              "5     123\n",
              "Name: enc_label, dtype: int64"
            ]
          },
          "metadata": {
            "tags": []
          },
          "execution_count": 8
        }
      ]
    },
    {
      "cell_type": "code",
      "metadata": {
        "colab": {
          "base_uri": "https://localhost:8080/"
        },
        "id": "8C-KY5asD3Fe",
        "outputId": "43f0fbc8-3d93-4baf-e56c-d37ea9c93652"
      },
      "source": [
        "valid_data['enc_label'].value_counts()"
      ],
      "execution_count": null,
      "outputs": [
        {
          "output_type": "execute_result",
          "data": {
            "text/plain": [
              "0    426\n",
              "1    191\n",
              "2     66\n",
              "4     45\n",
              "3     33\n",
              "5     16\n",
              "Name: enc_label, dtype: int64"
            ]
          },
          "metadata": {
            "tags": []
          },
          "execution_count": 39
        }
      ]
    },
    {
      "cell_type": "code",
      "metadata": {
        "colab": {
          "base_uri": "https://localhost:8080/"
        },
        "id": "WSRgGgolD3Fg",
        "outputId": "31ccc3b1-b2c1-4106-8a6b-391fc0a1d1e5"
      },
      "source": [
        "print(\"Size of the training data ==> \", train_data.shape)\n",
        "print(\"Size of the validation data ==>\", valid_data.shape)\n",
        "print(\"Size of the Test data ==>\", test_data.shape)"
      ],
      "execution_count": null,
      "outputs": [
        {
          "output_type": "stream",
          "text": [
            "Size of the training data ==>  (6217, 3)\n",
            "Size of the validation data ==> (777, 3)\n",
            "Size of the Test data ==> (778, 1)\n"
          ],
          "name": "stdout"
        }
      ]
    },
    {
      "cell_type": "markdown",
      "metadata": {
        "id": "0RT7INF1D3Fh"
      },
      "source": [
        "## One Hot Encoding"
      ]
    },
    {
      "cell_type": "code",
      "metadata": {
        "id": "jdZhShf9D3Fi"
      },
      "source": [
        "import pandas as pd\n",
        "from sklearn.preprocessing import OneHotEncoder"
      ],
      "execution_count": null,
      "outputs": []
    },
    {
      "cell_type": "code",
      "metadata": {
        "id": "GSOFjE7GD3Fj"
      },
      "source": [
        "encoder=OneHotEncoder(sparse=False)\n",
        "\n",
        "encoded_labels = pd.DataFrame (encoder.fit_transform(train_data[['label']]))\n",
        "\n",
        "encoded_labels .columns = encoder.get_feature_names(['label'])\n",
        "\n",
        "train_data= pd.concat([train_data, encoded_labels ], axis=1)"
      ],
      "execution_count": null,
      "outputs": []
    },
    {
      "cell_type": "code",
      "metadata": {
        "id": "TQMHlutUD3Fk"
      },
      "source": [
        "train_data = train_data.rename(columns={'label_Not_offensive':'Not_offensive','label_Offensive_Targeted_Insult_Group':'Offensive_Targeted_Insult_Group',\n",
        "                                        'label_Offensive_Targeted_Insult_Individual':'Offensive_Targeted_Insult_Individual',\n",
        "                                        'label_Offensive_Targeted_Insult_Other':'Offensive_Targeted_Insult_Other',\n",
        "                                        'label_Offensive_Untargetede':'Offensive_Untargetede',\n",
        "                                        'label_not-Kannada':'not-Kannada'})\n",
        "train_data"
      ],
      "execution_count": null,
      "outputs": []
    },
    {
      "cell_type": "markdown",
      "metadata": {
        "id": "c__rlUF3D3Fl"
      },
      "source": [
        "## Cleaning"
      ]
    },
    {
      "cell_type": "code",
      "metadata": {
        "id": "kam2V5U3D3Fm"
      },
      "source": [
        "'''\n",
        "Text Cleaning\n",
        "'''\n",
        "def text_cleaning(row):\n",
        "  # to remove HTML tags\n",
        "  text = BeautifulSoup(row, 'html.parser').get_text()\n",
        "  d = re.sub(r'(https|http)?:\\/\\/(\\w|\\.|\\/|\\?|\\=|\\&|\\%)*\\b', '', text, flags=re.MULTILINE) #This line is for removing url\n",
        "  post = d.replace('\\n', '')\n",
        "  post = post.replace('—', ' ')\n",
        "  # to remove accented characters\n",
        "  new_text = unicodedata.normalize('NFKD', post).encode('ascii', 'ignore').decode('utf-8', 'ignore')\n",
        "  # to remove special characters and numbers\n",
        "  # define the pattern to keep\n",
        "  #pat = r'[^a-zA-z0-9.,!?/:;\\\"\\'\\s]' \n",
        "  #text = re.sub(pat, '', new_text)\n",
        "  #to remove punctuation\n",
        "  text = ''.join([c for c in text if c not in string.punctuation])\n",
        "  # to remove special characters\n",
        "  pattern = r'^\\s*|\\s\\s*'\n",
        "  text = re.sub(pattern, ' ', text).strip()\n",
        "  # convert into lower case\n",
        "  text = text.lower() \n",
        "  # Stopword Removing\n",
        "  tokenizer = ToktokTokenizer()\n",
        "  # convert sentence into token of words\n",
        "  tokens = tokenizer.tokenize(text)\n",
        "  tokens = [token.strip() for token in tokens]\n",
        "  # check in lowercase \n",
        "  #t = [token for token in tokens if token.lower() not in stopword_list]\n",
        "  #text = ' '.join(t) \n",
        "  # Stemming\n",
        "  #t = [stemming.stem(token) for token in tokens ]\n",
        "  #text = ' '.join(t) \n",
        "\n",
        "  return text\n",
        "\n"
      ],
      "execution_count": null,
      "outputs": []
    },
    {
      "cell_type": "code",
      "metadata": {
        "id": "ei7uqZ61D3Fn"
      },
      "source": [
        "#removing URLs and Punctuations\n",
        "#train_data['cleaned'] = train_data['tweet'].apply(remove_url)\n",
        "#Removing punctuations\n",
        "train_data['cleaned'] = train_data['text'].apply(text_cleaning)\n",
        "valid_data['cleaned'] = valid_data['text'].apply(text_cleaning)\n",
        "test_data['cleaned'] = test_data['text'].apply(text_cleaning)\n",
        "\n",
        "\n",
        "## Data samples after cleaning\n",
        "print(\"Data samples after cleaning:\\n\")\n",
        "for i in range(10):\n",
        "  print(\"Original Data:===\\n\",train_data.text[i],\"\\nCleaned Data:===\\n\",train_data.cleaned[i],)"
      ],
      "execution_count": null,
      "outputs": []
    },
    {
      "cell_type": "code",
      "metadata": {
        "colab": {
          "base_uri": "https://localhost:8080/"
        },
        "id": "Jz22UC4AD3Fn",
        "outputId": "35a51d44-d90a-409f-8e1f-f37c115d73a4"
      },
      "source": [
        "valid_data['cleaned'].shape"
      ],
      "execution_count": null,
      "outputs": [
        {
          "output_type": "execute_result",
          "data": {
            "text/plain": [
              "(2843,)"
            ]
          },
          "metadata": {
            "tags": []
          },
          "execution_count": 97
        }
      ]
    },
    {
      "cell_type": "markdown",
      "metadata": {
        "id": "PvzIXvkpD3Fo"
      },
      "source": [
        "## Data Statistics"
      ]
    },
    {
      "cell_type": "code",
      "metadata": {
        "colab": {
          "base_uri": "https://localhost:8080/"
        },
        "id": "0H-U1IP9UHTQ",
        "outputId": "83349f99-22a6-443b-8968-5b9bd9b8bf3e"
      },
      "source": [
        "train_data.columns"
      ],
      "execution_count": null,
      "outputs": [
        {
          "output_type": "execute_result",
          "data": {
            "text/plain": [
              "Index(['text', 'label', 'enc_label', 'cleaned', 'Not_offensive',\n",
              "       'Offensive_Targeted_Insult_Group',\n",
              "       'Offensive_Targeted_Insult_Individual',\n",
              "       'Offensive_Targeted_Insult_Other', 'Offensive_Untargetede',\n",
              "       'not-Kannada'],\n",
              "      dtype='object')"
            ]
          },
          "metadata": {
            "tags": []
          },
          "execution_count": 14
        }
      ]
    },
    {
      "cell_type": "code",
      "metadata": {
        "id": "ETaaMghBD3Fo"
      },
      "source": [
        "def char_length(row):\n",
        "    return len(row.split())"
      ],
      "execution_count": null,
      "outputs": []
    },
    {
      "cell_type": "code",
      "metadata": {
        "id": "2EEhwUQvD3Fp"
      },
      "source": [
        "lables = ['Not_offensive',\n",
        "       'Offensive_Targeted_Insult_Group',\n",
        "       'Offensive_Targeted_Insult_Individual',\n",
        "       'Offensive_Targeted_Insult_Other', 'Offensive_Untargetede',\n",
        "       'not-Kannada']\n",
        "\n",
        "# Count number of unique words in each set\n",
        "def dataset_statistics(dataset):\n",
        "  for l in lables:\n",
        "    word_list = [word.strip() for t in list(dataset[dataset[l]==1.0].cleaned) for word in t.strip().split()]\n",
        "    print(f\"\\nClass Name:--> {l} \") \n",
        "    print(\"Number of Words:{}\".format(len(word_list))) \n",
        "    print(\"Number of Unique Words:{}\".format(len(np.unique(word_list)))) \n",
        "    print(\"Maximum post length: {}\".format(max(dataset[dataset[l]==1.0].cleaned.apply(char_length))))\n",
        "    print(\"Average Words in texts: {}\".format(np.mean(dataset[dataset[l]==1.0].cleaned.apply(char_length))))\n",
        "    "
      ],
      "execution_count": null,
      "outputs": []
    },
    {
      "cell_type": "code",
      "metadata": {
        "colab": {
          "base_uri": "https://localhost:8080/"
        },
        "id": "7tsdqN2WD3Fp",
        "outputId": "b50018e5-2ad9-4bca-b3e9-375e741cc9e4"
      },
      "source": [
        "dataset_statistics(train_data)"
      ],
      "execution_count": null,
      "outputs": [
        {
          "output_type": "stream",
          "text": [
            "\n",
            "Class Name:--> Not_offensive \n",
            "Number of Words:27880\n",
            "Number of Unique Words:10299\n",
            "Maximum post length: 96\n",
            "Average Words in texts: 7.866817155756208\n",
            "\n",
            "Class Name:--> Offensive_Targeted_Insult_Group \n",
            "Number of Words:4334\n",
            "Number of Unique Words:2707\n",
            "Maximum post length: 92\n",
            "Average Words in texts: 13.173252279635259\n",
            "\n",
            "Class Name:--> Offensive_Targeted_Insult_Individual \n",
            "Number of Words:5706\n",
            "Number of Unique Words:3051\n",
            "Maximum post length: 64\n",
            "Average Words in texts: 11.716632443531827\n",
            "\n",
            "Class Name:--> Offensive_Targeted_Insult_Other \n",
            "Number of Words:1380\n",
            "Number of Unique Words:1012\n",
            "Maximum post length: 39\n",
            "Average Words in texts: 11.21951219512195\n",
            "\n",
            "Class Name:--> Offensive_Untargetede \n",
            "Number of Words:2190\n",
            "Number of Unique Words:1553\n",
            "Maximum post length: 78\n",
            "Average Words in texts: 10.330188679245284\n",
            "\n",
            "Class Name:--> not-Kannada \n",
            "Number of Words:6492\n",
            "Number of Unique Words:2169\n",
            "Maximum post length: 82\n",
            "Average Words in texts: 4.265440210249672\n"
          ],
          "name": "stdout"
        }
      ]
    },
    {
      "cell_type": "markdown",
      "metadata": {
        "id": "D2IgCBxAD3Fq"
      },
      "source": [
        "## Tweets length per class"
      ]
    },
    {
      "cell_type": "code",
      "metadata": {
        "id": "No14Q_eZD3Fq"
      },
      "source": [
        "def comments_length_per_class(dataset,set_name):\n",
        "  label = dataset[['Not_offensive',\n",
        "       'Offensive_Targeted_Insult_Group',\n",
        "       'Offensive_Targeted_Insult_Individual',\n",
        "       'Offensive_Targeted_Insult_Other', 'Offensive_Untargetede',\n",
        "       'not-Kannada']]\n",
        "  label = label.values\n",
        "  comment = dataset['cleaned']\n",
        "  comment = comment.values\n",
        "  y = np.zeros(label.shape)\n",
        "  for ix in range(comment.shape[0]):\n",
        "      l = len(comment[ix].split())\n",
        "      if label[ix][0] :\n",
        "          y[ix][0] = l\n",
        "      if label[ix][1] :\n",
        "          y[ix][1] = l\n",
        "  #color = ['red','green','blue','yellow','chartreuse'] \n",
        "  labelsplt = ['Not_offensive',\n",
        "       'Offensive_Targeted_Insult_Group',\n",
        "       'Offensive_Targeted_Insult_Individual',\n",
        "       'Offensive_Targeted_Insult_Other', 'Offensive_Untargetede',\n",
        "       'not-Kannada']\n",
        "  color = ['green','red','yellow']    \n",
        "  bins = [1,20,40,60,80]   \n",
        "  plt.figure(figsize=(5,3)) \n",
        "  #plt.title ('Tweets Length Distribution Per Class')\n",
        "  plt.hist(y,bins = bins,label = labelsplt,color = color)\n",
        "  plt.axis([0, 80, 0, 17000])\n",
        "  plt.xlabel('Length of texts')\n",
        "  plt.ylabel('Number of texts') \n",
        "  plt.legend()\n",
        "  #plt.savefig(path+'real-fake_no_title.png',dpi = 600,bbox_inches ='tight')\n",
        "  #plt.grid(True)\n",
        "  plt.show()"
      ],
      "execution_count": null,
      "outputs": []
    },
    {
      "cell_type": "markdown",
      "metadata": {
        "id": "SwL8EH78D3Fr"
      },
      "source": [
        "##Ktrain -BERT\n",
        "\n",
        "1. [Text Classification Using Transformers](https://nbviewer.jupyter.org/github/amaiya/ktrain/blob/master/tutorials/tutorial-A3-hugging_face_transformers.ipynb)\n",
        "\n",
        "2. [Related Article](https://towardsdatascience.com/text-classification-with-hugging-face-transformers-in-tensorflow-2-without-tears-ee50e4f3e7ed)\n",
        "\n",
        "3. [Ktrain](https://github.com/amaiya/ktrain)"
      ]
    },
    {
      "cell_type": "code",
      "metadata": {
        "id": "4mgG06EwD3Fr"
      },
      "source": [
        "pip install ktrain"
      ],
      "execution_count": null,
      "outputs": []
    },
    {
      "cell_type": "code",
      "metadata": {
        "id": "KTsVGIfED3Fr"
      },
      "source": [
        "%reload_ext autoreload\n",
        "%autoreload 2\n",
        "%matplotlib inline\n",
        "import os\n",
        "os.environ[\"CUDA_DEVICE_ORDER\"] = \"PCI_BUS_ID\"\n",
        "os.environ[\"CUDA_VISIBLE_DEVICES\"] = \"0\""
      ],
      "execution_count": null,
      "outputs": []
    },
    {
      "cell_type": "code",
      "metadata": {
        "id": "F2Q3VAyGD3Fs"
      },
      "source": [
        "import ktrain\n",
        "from ktrain import text"
      ],
      "execution_count": null,
      "outputs": []
    },
    {
      "cell_type": "code",
      "metadata": {
        "id": "KDjaqACPD3Fs",
        "colab": {
          "base_uri": "https://localhost:8080/",
          "height": 163
        },
        "outputId": "185f4d7e-982a-46d7-a32d-079e407976ba"
      },
      "source": [
        "train_data['label'].value_counts()"
      ],
      "execution_count": null,
      "outputs": [
        {
          "output_type": "error",
          "ename": "NameError",
          "evalue": "ignored",
          "traceback": [
            "\u001b[0;31m---------------------------------------------------------------------------\u001b[0m",
            "\u001b[0;31mNameError\u001b[0m                                 Traceback (most recent call last)",
            "\u001b[0;32m<ipython-input-7-c763f73f561c>\u001b[0m in \u001b[0;36m<module>\u001b[0;34m()\u001b[0m\n\u001b[0;32m----> 1\u001b[0;31m \u001b[0mtrain_data\u001b[0m\u001b[0;34m[\u001b[0m\u001b[0;34m'label'\u001b[0m\u001b[0;34m]\u001b[0m\u001b[0;34m.\u001b[0m\u001b[0mvalue_counts\u001b[0m\u001b[0;34m(\u001b[0m\u001b[0;34m)\u001b[0m\u001b[0;34m\u001b[0m\u001b[0;34m\u001b[0m\u001b[0m\n\u001b[0m",
            "\u001b[0;31mNameError\u001b[0m: name 'train_data' is not defined"
          ]
        }
      ]
    },
    {
      "cell_type": "code",
      "metadata": {
        "colab": {
          "base_uri": "https://localhost:8080/"
        },
        "id": "NI1UErV5D3Ft",
        "outputId": "6819983d-05ef-4a43-b0e2-529c7f1f5a05"
      },
      "source": [
        "valid_data['label'].value_counts()"
      ],
      "execution_count": null,
      "outputs": [
        {
          "output_type": "execute_result",
          "data": {
            "text/plain": [
              "Not_offensive                           426\n",
              "not-Kannada                             191\n",
              "Offensive_Targeted_Insult_Individual     66\n",
              "Offensive_Targeted_Insult_Group          45\n",
              "Offensive_Untargetede                    33\n",
              "Offensive_Targeted_Insult_Other          16\n",
              "Name: label, dtype: int64"
            ]
          },
          "metadata": {
            "tags": []
          },
          "execution_count": 20
        }
      ]
    },
    {
      "cell_type": "code",
      "metadata": {
        "id": "40Ha9IPND3Fu"
      },
      "source": [
        "categories = ['Not_offensive',\n",
        "       'Offensive_Targeted_Insult_Group',\n",
        "       'Offensive_Targeted_Insult_Individual',\n",
        "       'Offensive_Targeted_Insult_Other', 'Offensive_Untargetede',\n",
        "       'not-Kannada']"
      ],
      "execution_count": null,
      "outputs": []
    },
    {
      "cell_type": "code",
      "metadata": {
        "id": "HG20DggKD3Fu"
      },
      "source": [
        "X_train = train_data['text'].tolist()\n",
        "y_train = train_data['label'].tolist()\n",
        "\n",
        "X_valid = valid_data['text'].tolist()\n",
        "y_valid = valid_data['label'].tolist()\n",
        "\n",
        "X_test = test_data['text'].tolist()\n",
        "#y_test = test_data['label'].tolist()"
      ],
      "execution_count": null,
      "outputs": []
    },
    {
      "cell_type": "code",
      "metadata": {
        "id": "tslBAbuAFgq2"
      },
      "source": [
        "# 'bert-base-uncased'\n",
        "# 'bert-base-multilingual-cased'\n",
        "# 'distilbert-base-uncased'\n",
        "# 'ai4bharat/indic-bert'\n",
        "# 'albert-base-v2'\n",
        "# 'xlm-roberta-base'\n",
        "# 'xlnet-base-cased'\n"
      ],
      "execution_count": null,
      "outputs": []
    },
    {
      "cell_type": "code",
      "metadata": {
        "id": "01qULZeQD3Fv",
        "colab": {
          "base_uri": "https://localhost:8080/",
          "height": 66,
          "referenced_widgets": [
            "622228ef77304d27baf3533d30d99701",
            "1fff3c72a9744e558c27cbaa5aca999a",
            "a6e5ec9d461e413586a0042ecd9ffb68",
            "9fdf63e1d3cc49fb80b12368cd1cd587",
            "80fe591a0e9f4fcba3cfc4a4a3392d0f",
            "a97fb64554cf4558a412d5c4f8c9ce01",
            "24c2b702d799484183396245afce92c2",
            "a76ef6c228ee4fbe87e90d9252706af9"
          ]
        },
        "outputId": "86c723c1-c714-4bbb-94df-685d6d2ed08b"
      },
      "source": [
        "model_name = 'xlm-roberta-base'\n",
        "trans = text.Transformer(model_name,maxlen=50,class_names=categories)"
      ],
      "execution_count": null,
      "outputs": [
        {
          "output_type": "display_data",
          "data": {
            "application/vnd.jupyter.widget-view+json": {
              "model_id": "622228ef77304d27baf3533d30d99701",
              "version_minor": 0,
              "version_major": 2
            },
            "text/plain": [
              "HBox(children=(FloatProgress(value=0.0, description='Downloading', max=512.0, style=ProgressStyle(description_…"
            ]
          },
          "metadata": {
            "tags": []
          }
        },
        {
          "output_type": "stream",
          "text": [
            "\n"
          ],
          "name": "stdout"
        }
      ]
    },
    {
      "cell_type": "code",
      "metadata": {
        "colab": {
          "base_uri": "https://localhost:8080/",
          "height": 336,
          "referenced_widgets": [
            "bb17db701fe74ee6b04d8a5eef01fa6d",
            "f50a33cb411f492391bd38c87f84d407",
            "40ef2f8aa7e54f92b8bcb909b17f92b3",
            "cead1f1dad434f02986909e196dbf2f7",
            "cae7dcd99c874c7e8f7cb7f6c4f2c3b2",
            "574d4a8afc544881a11dbde450887436",
            "15088fbf8b03485d9c28bfa067816c15",
            "60d5a6a4b1b94b0fb0fc5e23d8cd9454",
            "168dfab2e72f4773827d2bca5da6a821",
            "85a4e95aa4364e7a9548a3323469ccab",
            "3a7cbf5ead7f479bade5fc07aaeff23e",
            "86d26430c6734d35948d3f3c3c643c3f",
            "22e3a9518e8c4b829f4c8b2b5a22012c",
            "6e676c54207f4ecba30a1e3cea5ce2db",
            "016f46d5ad014a6fa3e4a3cd884fd77d",
            "37817bbdee2a431ba51a6ee970597162"
          ]
        },
        "id": "OfNvrXJOD3Fv",
        "outputId": "c4c0af26-1d63-4146-a366-6d61bbecb248"
      },
      "source": [
        "train = trans.preprocess_train(X_train,y_train)\n",
        "valid = trans.preprocess_test(X_valid,y_valid)\n",
        "#test = trans.preprocess_test(X_test,y_test)\n"
      ],
      "execution_count": null,
      "outputs": [
        {
          "output_type": "stream",
          "text": [
            "preprocessing train...\n",
            "language: kn\n",
            "train sequence lengths:\n",
            "\tmean : 8\n",
            "\t95percentile : 21\n",
            "\t99percentile : 41\n"
          ],
          "name": "stdout"
        },
        {
          "output_type": "display_data",
          "data": {
            "application/vnd.jupyter.widget-view+json": {
              "model_id": "bb17db701fe74ee6b04d8a5eef01fa6d",
              "version_minor": 0,
              "version_major": 2
            },
            "text/plain": [
              "HBox(children=(FloatProgress(value=0.0, description='Downloading', max=512.0, style=ProgressStyle(description_…"
            ]
          },
          "metadata": {
            "tags": []
          }
        },
        {
          "output_type": "stream",
          "text": [
            "\n"
          ],
          "name": "stdout"
        },
        {
          "output_type": "display_data",
          "data": {
            "application/vnd.jupyter.widget-view+json": {
              "model_id": "168dfab2e72f4773827d2bca5da6a821",
              "version_minor": 0,
              "version_major": 2
            },
            "text/plain": [
              "HBox(children=(FloatProgress(value=0.0, description='Downloading', max=5069051.0, style=ProgressStyle(descript…"
            ]
          },
          "metadata": {
            "tags": []
          }
        },
        {
          "output_type": "stream",
          "text": [
            "\n"
          ],
          "name": "stdout"
        },
        {
          "output_type": "display_data",
          "data": {
            "text/html": [
              ""
            ],
            "text/plain": [
              "<IPython.core.display.HTML object>"
            ]
          },
          "metadata": {
            "tags": []
          }
        },
        {
          "output_type": "stream",
          "text": [
            "Is Multi-Label? False\n",
            "preprocessing test...\n",
            "language: kn\n",
            "test sequence lengths:\n",
            "\tmean : 8\n",
            "\t95percentile : 22\n",
            "\t99percentile : 44\n"
          ],
          "name": "stdout"
        },
        {
          "output_type": "display_data",
          "data": {
            "text/html": [
              ""
            ],
            "text/plain": [
              "<IPython.core.display.HTML object>"
            ]
          },
          "metadata": {
            "tags": []
          }
        }
      ]
    },
    {
      "cell_type": "code",
      "metadata": {
        "colab": {
          "base_uri": "https://localhost:8080/",
          "height": 66,
          "referenced_widgets": [
            "ddeb4082fa3e4540b6ece3114d3b8dd9",
            "ee016d5f9bfd46acb55d066c8f0c6263",
            "b6c89ab1ed644a51b6efdd408ad7743f",
            "30c8abe0b2d347ac8c52f3e9eb9f0614",
            "8e352e9d075848edb0580b48c76450a2",
            "c964982bd4a44c9296710eb1ebb74fc9",
            "6803db202e5d47768a9191ec5d7b6eef",
            "dcd5f71710124d4ab739f08551b30579"
          ]
        },
        "id": "ZuYZ0D-vD3Fw",
        "outputId": "56621503-c501-43c5-f57c-af2501a5d0d5"
      },
      "source": [
        "model = trans.get_classifier()"
      ],
      "execution_count": null,
      "outputs": [
        {
          "output_type": "display_data",
          "data": {
            "application/vnd.jupyter.widget-view+json": {
              "model_id": "ddeb4082fa3e4540b6ece3114d3b8dd9",
              "version_minor": 0,
              "version_major": 2
            },
            "text/plain": [
              "HBox(children=(FloatProgress(value=0.0, description='Downloading', max=1885418496.0, style=ProgressStyle(descr…"
            ]
          },
          "metadata": {
            "tags": []
          }
        },
        {
          "output_type": "stream",
          "text": [
            "\n"
          ],
          "name": "stdout"
        }
      ]
    },
    {
      "cell_type": "code",
      "metadata": {
        "id": "BzWfhl2aD3Fw"
      },
      "source": [
        "learner = ktrain.get_learner(model, train_data=train,val_data=valid, batch_size=12)"
      ],
      "execution_count": null,
      "outputs": []
    },
    {
      "cell_type": "code",
      "metadata": {
        "colab": {
          "base_uri": "https://localhost:8080/"
        },
        "id": "d2f9UBk-D3Fx",
        "outputId": "9975c8ca-7f89-4b02-c450-56da7d666cad"
      },
      "source": [
        "learner.lr_find(show_plot = True,max_epochs=10)"
      ],
      "execution_count": null,
      "outputs": [
        {
          "output_type": "stream",
          "text": [
            "simulating training for different learning rates... this may take a few moments...\n"
          ],
          "name": "stdout"
        }
      ]
    },
    {
      "cell_type": "code",
      "metadata": {
        "colab": {
          "base_uri": "https://localhost:8080/"
        },
        "id": "qs56sUXUD3Fx",
        "outputId": "10bad869-0be2-481d-ce44-3cdeb7c47ea7"
      },
      "source": [
        "from sklearn.utils import class_weight\n",
        "class_weights = class_weight.compute_class_weight('balanced'\n",
        "                                               ,np.unique(train_data['label'])\n",
        "                                               ,train_data['label'])\n",
        "\n",
        "weight = {i : class_weights[i] for i in range(6)}\n",
        "weight"
      ],
      "execution_count": null,
      "outputs": [
        {
          "output_type": "execute_result",
          "data": {
            "text/plain": [
              "{0: 0.29237208427389016,\n",
              " 1: 3.1494427558257345,\n",
              " 2: 2.1276522929500343,\n",
              " 3: 8.424119241192411,\n",
              " 4: 4.887578616352202,\n",
              " 5: 0.6807928164695576}"
            ]
          },
          "metadata": {
            "tags": []
          },
          "execution_count": 16
        }
      ]
    },
    {
      "cell_type": "code",
      "metadata": {
        "colab": {
          "base_uri": "https://localhost:8080/"
        },
        "id": "CfC_y5vnD3Fy",
        "outputId": "ae4dfd5b-5f4c-4787-db2a-f228a51ccb2b"
      },
      "source": [
        "learner.fit_onecycle(2e-5,20,class_weight = weight)  # 2e-5"
      ],
      "execution_count": null,
      "outputs": [
        {
          "output_type": "stream",
          "text": [
            "\n",
            "\n",
            "begin training using onecycle policy with max lr of 2e-05...\n",
            "Epoch 1/20\n",
            "519/519 [==============================] - 114s 171ms/step - loss: 1.7932 - accuracy: 0.1614 - val_loss: 1.6681 - val_accuracy: 0.3423\n",
            "Epoch 2/20\n",
            "519/519 [==============================] - 87s 164ms/step - loss: 1.6700 - accuracy: 0.3501 - val_loss: 1.6074 - val_accuracy: 0.3372\n",
            "Epoch 3/20\n",
            "519/519 [==============================] - 86s 163ms/step - loss: 1.5063 - accuracy: 0.4221 - val_loss: 1.4388 - val_accuracy: 0.4234\n",
            "Epoch 4/20\n",
            "519/519 [==============================] - 86s 163ms/step - loss: 1.4264 - accuracy: 0.4492 - val_loss: 1.2515 - val_accuracy: 0.5405\n",
            "Epoch 5/20\n",
            "519/519 [==============================] - 87s 164ms/step - loss: 1.4001 - accuracy: 0.5055 - val_loss: 1.2456 - val_accuracy: 0.5367\n",
            "Epoch 6/20\n",
            "519/519 [==============================] - 86s 163ms/step - loss: 1.3521 - accuracy: 0.5231 - val_loss: 1.0869 - val_accuracy: 0.5920\n",
            "Epoch 7/20\n",
            "519/519 [==============================] - 86s 163ms/step - loss: 1.2474 - accuracy: 0.5402 - val_loss: 1.0789 - val_accuracy: 0.6229\n",
            "Epoch 8/20\n",
            "519/519 [==============================] - 86s 163ms/step - loss: 1.1098 - accuracy: 0.5714 - val_loss: 1.1214 - val_accuracy: 0.5766\n",
            "Epoch 9/20\n",
            "519/519 [==============================] - 87s 164ms/step - loss: 1.0159 - accuracy: 0.5817 - val_loss: 1.2171 - val_accuracy: 0.5573\n",
            "Epoch 10/20\n",
            "519/519 [==============================] - 86s 163ms/step - loss: 0.8722 - accuracy: 0.6030 - val_loss: 1.2338 - val_accuracy: 0.5225\n",
            "Epoch 11/20\n",
            "519/519 [==============================] - 86s 163ms/step - loss: 0.7660 - accuracy: 0.6326 - val_loss: 1.3808 - val_accuracy: 0.5019\n",
            "Epoch 12/20\n",
            "519/519 [==============================] - 86s 163ms/step - loss: 0.6307 - accuracy: 0.6692 - val_loss: 1.1477 - val_accuracy: 0.6165\n",
            "Epoch 13/20\n",
            "519/519 [==============================] - 86s 164ms/step - loss: 0.5090 - accuracy: 0.7271 - val_loss: 1.1859 - val_accuracy: 0.6152\n",
            "Epoch 14/20\n",
            "519/519 [==============================] - 86s 163ms/step - loss: 0.3861 - accuracy: 0.7649 - val_loss: 1.1990 - val_accuracy: 0.6345\n",
            "Epoch 15/20\n",
            "519/519 [==============================] - 86s 163ms/step - loss: 0.2807 - accuracy: 0.8085 - val_loss: 1.2720 - val_accuracy: 0.6371\n",
            "Epoch 16/20\n",
            "519/519 [==============================] - 87s 164ms/step - loss: 0.2190 - accuracy: 0.8265 - val_loss: 1.2291 - val_accuracy: 0.6628\n",
            "Epoch 17/20\n",
            "519/519 [==============================] - 86s 162ms/step - loss: 0.2106 - accuracy: 0.8436 - val_loss: 1.2657 - val_accuracy: 0.6654\n",
            "Epoch 18/20\n",
            "519/519 [==============================] - 86s 162ms/step - loss: 0.1868 - accuracy: 0.8730 - val_loss: 1.2530 - val_accuracy: 0.6885\n",
            "Epoch 19/20\n",
            "519/519 [==============================] - 86s 163ms/step - loss: 0.1570 - accuracy: 0.8735 - val_loss: 1.2357 - val_accuracy: 0.6885\n",
            "Epoch 20/20\n",
            "519/519 [==============================] - 86s 163ms/step - loss: 0.1482 - accuracy: 0.8872 - val_loss: 1.2647 - val_accuracy: 0.6834\n"
          ],
          "name": "stdout"
        },
        {
          "output_type": "execute_result",
          "data": {
            "text/plain": [
              "<tensorflow.python.keras.callbacks.History at 0x7fd7063a6978>"
            ]
          },
          "metadata": {
            "tags": []
          },
          "execution_count": 17
        }
      ]
    },
    {
      "cell_type": "code",
      "metadata": {
        "colab": {
          "base_uri": "https://localhost:8080/"
        },
        "id": "l6K1e1VZD3Fy",
        "outputId": "7c05273b-51ff-43a2-e839-aec2b734cc09"
      },
      "source": [
        "learner.validate(class_names=categories)"
      ],
      "execution_count": null,
      "outputs": [
        {
          "output_type": "stream",
          "text": [
            "                                      precision    recall  f1-score   support\n",
            "\n",
            "                       Not_offensive       0.81      0.71      0.76       426\n",
            "     Offensive_Targeted_Insult_Group       0.38      0.33      0.35        45\n",
            "Offensive_Targeted_Insult_Individual       0.52      0.67      0.59        66\n",
            "     Offensive_Targeted_Insult_Other       0.09      0.06      0.07        16\n",
            "               Offensive_Untargetede       0.18      0.15      0.16        33\n",
            "                         not-Kannada       0.68      0.85      0.76       191\n",
            "\n",
            "                            accuracy                           0.68       777\n",
            "                           macro avg       0.44      0.46      0.45       777\n",
            "                        weighted avg       0.69      0.68      0.68       777\n",
            "\n"
          ],
          "name": "stdout"
        },
        {
          "output_type": "execute_result",
          "data": {
            "text/plain": [
              "array([[303,  17,  24,   5,  13,  64],\n",
              "       [ 14,  15,   6,   3,   4,   3],\n",
              "       [ 13,   3,  44,   0,   2,   4],\n",
              "       [  8,   2,   2,   1,   2,   1],\n",
              "       [ 14,   2,   6,   2,   5,   4],\n",
              "       [ 23,   1,   2,   0,   2, 163]])"
            ]
          },
          "metadata": {
            "tags": []
          },
          "execution_count": 18
        }
      ]
    },
    {
      "cell_type": "code",
      "metadata": {
        "id": "QThPLI2OD3Fz"
      },
      "source": [
        "predictor = ktrain.get_predictor(learner.model, preproc=trans)"
      ],
      "execution_count": null,
      "outputs": []
    },
    {
      "cell_type": "code",
      "metadata": {
        "id": "2jhbUx9iD3Fz"
      },
      "source": [
        "# Save and load the model\n",
        "predictor.save(folder_path+'Transformers_Models'+'/ta_indic-bert_predictor')"
      ],
      "execution_count": null,
      "outputs": []
    },
    {
      "cell_type": "code",
      "metadata": {
        "id": "Oy_beSCTD3Fz"
      },
      "source": [
        "predictor = ktrain.load_predictor(folder_path+'Transformers_Models'+'/ta_xlm-r_predictor')"
      ],
      "execution_count": null,
      "outputs": []
    },
    {
      "cell_type": "code",
      "metadata": {
        "id": "77QATpEXD3F0"
      },
      "source": [
        "y_pred = predictor.predict(X_test)\n",
        "y_pred"
      ],
      "execution_count": null,
      "outputs": []
    },
    {
      "cell_type": "code",
      "metadata": {
        "id": "PmMFoS8jD3F0"
      },
      "source": [
        "test_data['id'] = test_data.index+1"
      ],
      "execution_count": null,
      "outputs": []
    },
    {
      "cell_type": "code",
      "metadata": {
        "id": "boo8MZbQD3F0"
      },
      "source": [
        "run = pd.DataFrame(test_data['id'])\n",
        "run['text'] = test_data['text']\n",
        "run['label'] = y_pred\n",
        "run"
      ],
      "execution_count": null,
      "outputs": []
    },
    {
      "cell_type": "code",
      "metadata": {
        "colab": {
          "base_uri": "https://localhost:8080/"
        },
        "id": "PZDoDU4-RDM5",
        "outputId": "151cf55e-c237-4d4e-c80f-a8440d0f3046"
      },
      "source": [
        "run['label'].value_counts()"
      ],
      "execution_count": null,
      "outputs": [
        {
          "output_type": "execute_result",
          "data": {
            "text/plain": [
              "Not_offensive                           379\n",
              "not-Kannada                             230\n",
              "Offensive_Targeted_Insult_Individual     82\n",
              "Offensive_Targeted_Insult_Group          48\n",
              "Offensive_Untargetede                    32\n",
              "Offensive_Targeted_Insult_Other           7\n",
              "Name: label, dtype: int64"
            ]
          },
          "metadata": {
            "tags": []
          },
          "execution_count": 23
        }
      ]
    },
    {
      "cell_type": "code",
      "metadata": {
        "colab": {
          "base_uri": "https://localhost:8080/"
        },
        "id": "mepyqHAwNLJO",
        "outputId": "56f5ecd4-91ba-4ba6-df5a-df4275b2085a"
      },
      "source": [
        "run['label'].value_counts()"
      ],
      "execution_count": null,
      "outputs": [
        {
          "output_type": "execute_result",
          "data": {
            "text/plain": [
              "Non_hope_speech    1043\n",
              "Hope_speech         615\n",
              "not-Tamil           362\n",
              "Name: label, dtype: int64"
            ]
          },
          "metadata": {
            "tags": []
          },
          "execution_count": 75
        }
      ]
    },
    {
      "cell_type": "code",
      "metadata": {
        "id": "ttEKc_m6D3F1"
      },
      "source": [
        "run.to_csv(folder_path +'kannada_off_xlm-r_cw.csv',index = False)"
      ],
      "execution_count": null,
      "outputs": []
    },
    {
      "cell_type": "markdown",
      "metadata": {
        "id": "iBDyfsVtD3F1"
      },
      "source": [
        "##Machine Learning"
      ]
    },
    {
      "cell_type": "code",
      "metadata": {
        "id": "0mIY-d80D3F3"
      },
      "source": [
        "def print_metrices(true,pred):\n",
        "    print(confusion_matrix(true,pred))\n",
        "    print(classification_report(true,pred))\n",
        "    print(\"Accuracy : \",accuracy_score(true,pred))\n",
        "    print(\"Precison : \",precision_score(true,pred, average = 'weighted'))\n",
        "    print(\"Recall : \",recall_score(true,pred,  average = 'weighted'))\n",
        "    print(\"F1 : \",f1_score(true,pred,  average = 'weighted'))"
      ],
      "execution_count": null,
      "outputs": []
    },
    {
      "cell_type": "code",
      "metadata": {
        "colab": {
          "base_uri": "https://localhost:8080/"
        },
        "id": "Abz_JUbdD3F3",
        "outputId": "f147df1d-e424-4c1c-db49-42cb02059b11"
      },
      "source": [
        "## TF-IDF\n",
        "from sklearn.feature_extraction.text import TfidfVectorizer\n",
        "from sklearn import metrics\n",
        "#use_idf=True,tokenizer=lambda x: x.split()\n",
        "vectorizer = TfidfVectorizer(tokenizer=lambda x: x.split(),ngram_range=(1,2))\n",
        "vectorised_posts = vectorizer.fit_transform(train_data['cleaned'])\n",
        "vectorized_train_posts = vectorizer.transform(train_data['cleaned'])\n",
        "vectorized_valid_posts = vectorizer.transform(valid_data['cleaned'])\n",
        "vectorized_test_posts = vectorizer.transform(test_data['cleaned'])\n",
        "\n",
        "print(\"Feature Size: \", vectorized_train_posts.shape[1])\n",
        "#vectorizer.vocabulary_"
      ],
      "execution_count": null,
      "outputs": [
        {
          "output_type": "stream",
          "text": [
            "Feature Size:  50270\n"
          ],
          "name": "stdout"
        }
      ]
    },
    {
      "cell_type": "code",
      "metadata": {
        "colab": {
          "base_uri": "https://localhost:8080/"
        },
        "id": "OTBje4gXD3F4",
        "outputId": "b10c7306-5f10-4f3c-94cf-ac281a9ce2ca"
      },
      "source": [
        "vectorized_valid_posts.shape"
      ],
      "execution_count": null,
      "outputs": [
        {
          "output_type": "execute_result",
          "data": {
            "text/plain": [
              "(2843, 20798)"
            ]
          },
          "metadata": {
            "tags": []
          },
          "execution_count": 86
        }
      ]
    },
    {
      "cell_type": "code",
      "metadata": {
        "colab": {
          "base_uri": "https://localhost:8080/"
        },
        "id": "xTGfDCdQD3F4",
        "outputId": "424b15ff-490b-47a9-88e7-50a76c602850"
      },
      "source": [
        "valid_data['label'].value_counts()"
      ],
      "execution_count": null,
      "outputs": [
        {
          "output_type": "execute_result",
          "data": {
            "text/plain": [
              "Non_hope_speech    998\n",
              "Hope_speech        757\n",
              "not-Tamil          263\n",
              "Name: label, dtype: int64"
            ]
          },
          "metadata": {
            "tags": []
          },
          "execution_count": 94
        }
      ]
    },
    {
      "cell_type": "code",
      "metadata": {
        "id": "GBuG7TyiD3F5"
      },
      "source": [
        "labels = ['Not_offensive',\n",
        "       'Offensive_Targeted_Insult_Group',\n",
        "       'Offensive_Targeted_Insult_Individual',\n",
        "       'Offensive_Targeted_Insult_Other', 'Offensive_Untargetede',\n",
        "       'not-Kannada']\n",
        "def actual_label(row):\n",
        "    return labels[row]"
      ],
      "execution_count": null,
      "outputs": []
    },
    {
      "cell_type": "markdown",
      "metadata": {
        "id": "k-tabaxkD3F5"
      },
      "source": [
        "### Logistic Regression"
      ]
    },
    {
      "cell_type": "code",
      "metadata": {
        "colab": {
          "base_uri": "https://localhost:8080/"
        },
        "id": "mrCrIl5CD3F5",
        "outputId": "1f3d2b99-d9cf-47f6-c547-5e63bfa42813"
      },
      "source": [
        "# After Tunning\n",
        "# Optimum C = 100 \n",
        "lr = LogisticRegression(class_weight='balanced')\n",
        "lr.fit(vectorized_train_posts,train_data['enc_label'])\n",
        "y_pred = lr.predict(vectorized_valid_posts)\n",
        "print_metrices(valid_data['enc_label'],y_pred)"
      ],
      "execution_count": null,
      "outputs": [
        {
          "output_type": "stream",
          "text": [
            "[[284  88  20   5  24   5]\n",
            " [ 27 156   3   2   2   1]\n",
            " [ 16   4  40   0   6   0]\n",
            " [ 13   8   2   4   6   0]\n",
            " [ 12   5   7   1  17   3]\n",
            " [  9   2   2   1   1   1]]\n",
            "              precision    recall  f1-score   support\n",
            "\n",
            "           0       0.79      0.67      0.72       426\n",
            "           1       0.59      0.82      0.69       191\n",
            "           2       0.54      0.61      0.57        66\n",
            "           3       0.31      0.12      0.17        33\n",
            "           4       0.30      0.38      0.34        45\n",
            "           5       0.10      0.06      0.08        16\n",
            "\n",
            "    accuracy                           0.65       777\n",
            "   macro avg       0.44      0.44      0.43       777\n",
            "weighted avg       0.66      0.65      0.64       777\n",
            "\n",
            "Accuracy :  0.646074646074646\n",
            "Precison :  0.6557512816636518\n",
            "Recall :  0.646074646074646\n",
            "F1 :  0.6416329147600306\n"
          ],
          "name": "stdout"
        }
      ]
    },
    {
      "cell_type": "code",
      "metadata": {
        "id": "8hUlB7PSD3F5"
      },
      "source": [
        "test_pred = lr.predict(vectorized_test_posts).tolist()\n",
        "test_data['id'] = test_data.index + 1"
      ],
      "execution_count": null,
      "outputs": []
    },
    {
      "cell_type": "code",
      "metadata": {
        "id": "ysasx_EQD3F6"
      },
      "source": [
        "run = pd.DataFrame(test_data['id'])\n",
        "run['text'] = test_data['text']\n",
        "run['label'] = test_pred\n",
        "run['label'] = run['label'].apply(actual_label)\n",
        "run "
      ],
      "execution_count": null,
      "outputs": []
    },
    {
      "cell_type": "code",
      "metadata": {
        "colab": {
          "base_uri": "https://localhost:8080/"
        },
        "id": "cexmV6ChSEs6",
        "outputId": "26792bd1-93ea-45f1-bb43-7d6835053fd8"
      },
      "source": [
        "run['label'].value_counts()"
      ],
      "execution_count": null,
      "outputs": [
        {
          "output_type": "execute_result",
          "data": {
            "text/plain": [
              "Not_offensive                           354\n",
              "Offensive_Targeted_Insult_Group         252\n",
              "Offensive_Targeted_Insult_Individual     84\n",
              "Offensive_Untargetede                    58\n",
              "Offensive_Targeted_Insult_Other          19\n",
              "not-Kannada                              11\n",
              "Name: label, dtype: int64"
            ]
          },
          "metadata": {
            "tags": []
          },
          "execution_count": 20
        }
      ]
    },
    {
      "cell_type": "code",
      "metadata": {
        "id": "i6Mgx0IxD3F6"
      },
      "source": [
        "run.to_csv(folder_path +'kannada_off_lr.csv',index = False)"
      ],
      "execution_count": null,
      "outputs": []
    },
    {
      "cell_type": "markdown",
      "metadata": {
        "id": "qXMPKgx-D3F6"
      },
      "source": [
        "### SVM"
      ]
    },
    {
      "cell_type": "code",
      "metadata": {
        "colab": {
          "base_uri": "https://localhost:8080/"
        },
        "id": "mpHwlejHD3F6",
        "outputId": "4721dead-b222-46a7-8bd0-df7142ed1fd9"
      },
      "source": [
        "## SVM\n",
        "from sklearn.svm import SVC\n",
        "svc =  SVC(C = 5, kernel='linear' ,random_state=1234,class_weight='balanced')\n",
        "svc.fit(vectorized_train_posts,train_data['enc_label'])\n",
        "y_pred = svc.predict(vectorized_valid_posts)\n",
        "print_metrices(valid_data['enc_label'],y_pred)"
      ],
      "execution_count": null,
      "outputs": [
        {
          "output_type": "stream",
          "text": [
            "[[328  74   9   5   8   2]\n",
            " [ 29 158   2   1   0   1]\n",
            " [ 27   6  31   1   1   0]\n",
            " [ 19   5   3   3   3   0]\n",
            " [ 24   7   4   2   8   0]\n",
            " [ 11   1   2   0   2   0]]\n",
            "              precision    recall  f1-score   support\n",
            "\n",
            "           0       0.75      0.77      0.76       426\n",
            "           1       0.63      0.83      0.71       191\n",
            "           2       0.61      0.47      0.53        66\n",
            "           3       0.25      0.09      0.13        33\n",
            "           4       0.36      0.18      0.24        45\n",
            "           5       0.00      0.00      0.00        16\n",
            "\n",
            "    accuracy                           0.68       777\n",
            "   macro avg       0.43      0.39      0.40       777\n",
            "weighted avg       0.65      0.68      0.66       777\n",
            "\n",
            "Accuracy :  0.6795366795366795\n",
            "Precison :  0.6486178349418379\n",
            "Recall :  0.6795366795366795\n",
            "F1 :  0.6565213748708043\n"
          ],
          "name": "stdout"
        }
      ]
    },
    {
      "cell_type": "code",
      "metadata": {
        "id": "u83FhfHKD3F7"
      },
      "source": [
        "test_pred = svc.predict(vectorized_test_posts).tolist()\n",
        "test_data['id'] = test_data.index + 1"
      ],
      "execution_count": null,
      "outputs": []
    },
    {
      "cell_type": "code",
      "metadata": {
        "id": "S_PWLuWYD3F7"
      },
      "source": [
        "run = pd.DataFrame(test_data['id'])\n",
        "run['text'] = test_data['text']\n",
        "run['label'] = test_pred\n",
        "run['label'] = run['label'].apply(actual_label)\n",
        "run "
      ],
      "execution_count": null,
      "outputs": []
    },
    {
      "cell_type": "code",
      "metadata": {
        "colab": {
          "base_uri": "https://localhost:8080/"
        },
        "id": "orjVZYBPD3F7",
        "outputId": "a0c309bb-a152-4002-e444-4d958cd19470"
      },
      "source": [
        "run['label'].value_counts()"
      ],
      "execution_count": null,
      "outputs": [
        {
          "output_type": "execute_result",
          "data": {
            "text/plain": [
              "Not_offensive                           423\n",
              "Offensive_Targeted_Insult_Group         250\n",
              "Offensive_Targeted_Insult_Individual     67\n",
              "Offensive_Untargetede                    23\n",
              "Offensive_Targeted_Insult_Other          11\n",
              "not-Kannada                               4\n",
              "Name: label, dtype: int64"
            ]
          },
          "metadata": {
            "tags": []
          },
          "execution_count": 90
        }
      ]
    },
    {
      "cell_type": "code",
      "metadata": {
        "id": "mb9DpL0oD3F8"
      },
      "source": [
        "run.to_csv(folder_path +'kannada_off_svm.csv',index = False)"
      ],
      "execution_count": null,
      "outputs": []
    },
    {
      "cell_type": "markdown",
      "metadata": {
        "id": "wy9gPm9LD3F8"
      },
      "source": [
        "### Ensemble Appraoch (Majority Voting)"
      ]
    },
    {
      "cell_type": "code",
      "metadata": {
        "colab": {
          "base_uri": "https://localhost:8080/"
        },
        "id": "5VKbYDxqD3F8",
        "outputId": "d421dc30-9293-48a3-b283-38caa6d4d720"
      },
      "source": [
        "\n",
        "LogReg_clf = LogisticRegression(class_weight='balanced')\n",
        "DTree_clf = DecisionTreeClassifier(class_weight='balanced')\n",
        "rt_clf =   RandomForestClassifier(class_weight='balanced')\n",
        "SVC_clf = SVC(C = 5,class_weight='balanced')\n",
        "\n",
        "\n",
        "voting_clf = VotingClassifier(estimators=[('SVC', SVC_clf), ('DTree', DTree_clf), ('LogReg', LogReg_clf),('RF', rt_clf)], voting='hard')\n",
        "voting_clf.fit(vectorized_train_posts, train_data['enc_label'])\n",
        "preds = voting_clf.predict(vectorized_valid_posts)\n",
        "print_metrices(valid_data['enc_label'], preds)\n"
      ],
      "execution_count": null,
      "outputs": [
        {
          "output_type": "stream",
          "text": [
            "[[354  64   2   0   4   2]\n",
            " [ 58 131   1   0   1   0]\n",
            " [ 33   6  27   0   0   0]\n",
            " [ 28   2   1   2   0   0]\n",
            " [ 31   4   3   1   6   0]\n",
            " [ 13   1   1   0   1   0]]\n",
            "              precision    recall  f1-score   support\n",
            "\n",
            "           0       0.68      0.83      0.75       426\n",
            "           1       0.63      0.69      0.66       191\n",
            "           2       0.77      0.41      0.53        66\n",
            "           3       0.67      0.06      0.11        33\n",
            "           4       0.50      0.13      0.21        45\n",
            "           5       0.00      0.00      0.00        16\n",
            "\n",
            "    accuracy                           0.67       777\n",
            "   macro avg       0.54      0.35      0.38       777\n",
            "weighted avg       0.65      0.67      0.64       777\n",
            "\n",
            "Accuracy :  0.6692406692406693\n",
            "Precison :  0.6530219783639236\n",
            "Recall :  0.6692406692406693\n",
            "F1 :  0.6353730222099685\n"
          ],
          "name": "stdout"
        }
      ]
    },
    {
      "cell_type": "code",
      "metadata": {
        "id": "h2V7NL0yD3F9"
      },
      "source": [
        "test_pred = voting_clf.predict(vectorized_test_posts).tolist()\n",
        "test_data['id'] = test_data.index + 1"
      ],
      "execution_count": null,
      "outputs": []
    },
    {
      "cell_type": "code",
      "metadata": {
        "colab": {
          "base_uri": "https://localhost:8080/",
          "height": 407
        },
        "id": "C5s7kDzfD3F9",
        "outputId": "ac3791bb-e747-431d-d1d4-30f6ba1badb3"
      },
      "source": [
        "run = pd.DataFrame(test_data['id'])\n",
        "run['text'] = test_data['text']\n",
        "run['label'] = test_pred\n",
        "run['label'] = run['label'].apply(actual_label)\n",
        "run "
      ],
      "execution_count": null,
      "outputs": [
        {
          "output_type": "execute_result",
          "data": {
            "text/html": [
              "<div>\n",
              "<style scoped>\n",
              "    .dataframe tbody tr th:only-of-type {\n",
              "        vertical-align: middle;\n",
              "    }\n",
              "\n",
              "    .dataframe tbody tr th {\n",
              "        vertical-align: top;\n",
              "    }\n",
              "\n",
              "    .dataframe thead th {\n",
              "        text-align: right;\n",
              "    }\n",
              "</style>\n",
              "<table border=\"1\" class=\"dataframe\">\n",
              "  <thead>\n",
              "    <tr style=\"text-align: right;\">\n",
              "      <th></th>\n",
              "      <th>id</th>\n",
              "      <th>text</th>\n",
              "      <th>label</th>\n",
              "    </tr>\n",
              "  </thead>\n",
              "  <tbody>\n",
              "    <tr>\n",
              "      <th>0</th>\n",
              "      <td>1</td>\n",
              "      <td>ಜೈ ಮೋರಿ ಜೈ ರೋಗಿ ಇಸ್ಲಾಂ ಸಾಯಿಸಿ ಇದೆ ಇವರ ಗುರಿ</td>\n",
              "      <td>Not_offensive</td>\n",
              "    </tr>\n",
              "    <tr>\n",
              "      <th>1</th>\n",
              "      <td>2</td>\n",
              "      <td>Anna nim e vedio nodinu mathe chaina apps use ...</td>\n",
              "      <td>Not_offensive</td>\n",
              "    </tr>\n",
              "    <tr>\n",
              "      <th>2</th>\n",
              "      <td>3</td>\n",
              "      <td>Super anna yenu thappila yela sari agi hellidi...</td>\n",
              "      <td>Not_offensive</td>\n",
              "    </tr>\n",
              "    <tr>\n",
              "      <th>3</th>\n",
              "      <td>4</td>\n",
              "      <td>Super sir super super super super</td>\n",
              "      <td>Offensive_Targeted_Insult_Group</td>\n",
              "    </tr>\n",
              "    <tr>\n",
              "      <th>4</th>\n",
              "      <td>5</td>\n",
              "      <td>AGT-KELU (KANNADA RAP 2019)</td>\n",
              "      <td>Not_offensive</td>\n",
              "    </tr>\n",
              "    <tr>\n",
              "      <th>...</th>\n",
              "      <td>...</td>\n",
              "      <td>...</td>\n",
              "      <td>...</td>\n",
              "    </tr>\n",
              "    <tr>\n",
              "      <th>773</th>\n",
              "      <td>774</td>\n",
              "      <td>Startup start maadalu capacity growth maadalu ...</td>\n",
              "      <td>Not_offensive</td>\n",
              "    </tr>\n",
              "    <tr>\n",
              "      <th>774</th>\n",
              "      <td>775</td>\n",
              "      <td>Rashmika idanna nodi thi*a urkimbeku🤣🤣🤣🤣🤣</td>\n",
              "      <td>Not_offensive</td>\n",
              "    </tr>\n",
              "    <tr>\n",
              "      <th>775</th>\n",
              "      <td>776</td>\n",
              "      <td>I love you sir</td>\n",
              "      <td>Offensive_Targeted_Insult_Group</td>\n",
              "    </tr>\n",
              "    <tr>\n",
              "      <th>776</th>\n",
              "      <td>777</td>\n",
              "      <td>ನೋಡ್ತಾ ಹೋದ್ರೆ ಸಾವಿರಾರು lyrical video ಗಳು</td>\n",
              "      <td>Not_offensive</td>\n",
              "    </tr>\n",
              "    <tr>\n",
              "      <th>777</th>\n",
              "      <td>778</td>\n",
              "      <td>ಸಖತ್ ಟ್ರೋಲ್ ಬ್ರದರ್ nಬ್ರೊ ಈ ಗೇಮ್ ನೇಮ್ ಹೇಳಿ</td>\n",
              "      <td>Not_offensive</td>\n",
              "    </tr>\n",
              "  </tbody>\n",
              "</table>\n",
              "<p>778 rows × 3 columns</p>\n",
              "</div>"
            ],
            "text/plain": [
              "      id  ...                            label\n",
              "0      1  ...                    Not_offensive\n",
              "1      2  ...                    Not_offensive\n",
              "2      3  ...                    Not_offensive\n",
              "3      4  ...  Offensive_Targeted_Insult_Group\n",
              "4      5  ...                    Not_offensive\n",
              "..   ...  ...                              ...\n",
              "773  774  ...                    Not_offensive\n",
              "774  775  ...                    Not_offensive\n",
              "775  776  ...  Offensive_Targeted_Insult_Group\n",
              "776  777  ...                    Not_offensive\n",
              "777  778  ...                    Not_offensive\n",
              "\n",
              "[778 rows x 3 columns]"
            ]
          },
          "metadata": {
            "tags": []
          },
          "execution_count": 95
        }
      ]
    },
    {
      "cell_type": "code",
      "metadata": {
        "colab": {
          "base_uri": "https://localhost:8080/"
        },
        "id": "J-X-RutiTO7A",
        "outputId": "4c8f52b2-7aca-44fc-f6a1-e96898d130de"
      },
      "source": [
        "run['label'].value_counts()"
      ],
      "execution_count": null,
      "outputs": [
        {
          "output_type": "execute_result",
          "data": {
            "text/plain": [
              "Not_offensive                           510\n",
              "Offensive_Targeted_Insult_Group         205\n",
              "Offensive_Targeted_Insult_Individual     46\n",
              "Offensive_Untargetede                    11\n",
              "Offensive_Targeted_Insult_Other           4\n",
              "not-Kannada                               2\n",
              "Name: label, dtype: int64"
            ]
          },
          "metadata": {
            "tags": []
          },
          "execution_count": 77
        }
      ]
    },
    {
      "cell_type": "code",
      "metadata": {
        "id": "Fup96AasD3F9"
      },
      "source": [
        "run.to_csv(folder_path +'kannada_off_voting.csv',index = False)"
      ],
      "execution_count": null,
      "outputs": []
    },
    {
      "cell_type": "markdown",
      "metadata": {
        "id": "0IEdBr7JD3F9"
      },
      "source": [
        "##Deep Learning"
      ]
    },
    {
      "cell_type": "code",
      "metadata": {
        "colab": {
          "base_uri": "https://localhost:8080/"
        },
        "id": "De3XnijmD3F-",
        "outputId": "fb534fef-2578-4675-da31-2abe0be09d76"
      },
      "source": [
        "import tensorflow as tf\n",
        "from tensorflow import keras\n",
        "from tensorflow.keras.preprocessing.sequence import pad_sequences\n",
        "from tensorflow.keras.preprocessing.text import Tokenizer\n",
        "from tensorflow.keras import regularizers\n",
        "from tensorflow.keras.layers import LSTM,GRU\n",
        "from tensorflow.keras.models import load_model\n",
        "print(\"Tensorflow Version:--\",tf.version.VERSION)\n",
        "print(\"Keras Version:---\",keras.__version__)"
      ],
      "execution_count": null,
      "outputs": [
        {
          "output_type": "stream",
          "text": [
            "Tensorflow Version:-- 2.4.0\n",
            "Keras Version:--- 2.4.0\n"
          ],
          "name": "stdout"
        }
      ]
    },
    {
      "cell_type": "markdown",
      "metadata": {
        "id": "O9pX6dY0D3F-"
      },
      "source": [
        "###Tokenization"
      ]
    },
    {
      "cell_type": "code",
      "metadata": {
        "id": "VfI2efzHD3F-"
      },
      "source": [
        "tokenizer = Tokenizer(num_words = 10000,filters='!\"#$%&()*+,-./:;<=>?@[\\\\]^_`{|}~\\t\\n-', \n",
        "                      split=' ', char_level=False, oov_token='<oov>', document_count=0)\n",
        "tokenizer.fit_on_texts(train_data['text'])  \n",
        "vocab_size = len(tokenizer.word_index)+1"
      ],
      "execution_count": null,
      "outputs": []
    },
    {
      "cell_type": "code",
      "metadata": {
        "colab": {
          "base_uri": "https://localhost:8080/"
        },
        "id": "64ymCQh8D3F_",
        "outputId": "0ac01ef3-7600-44c9-c939-0270940e4abb"
      },
      "source": [
        "print(vocab_size)"
      ],
      "execution_count": null,
      "outputs": [
        {
          "output_type": "stream",
          "text": [
            "15801\n"
          ],
          "name": "stdout"
        }
      ]
    },
    {
      "cell_type": "code",
      "metadata": {
        "colab": {
          "base_uri": "https://localhost:8080/"
        },
        "id": "zHazlfy2D3F_",
        "outputId": "239b9f40-26d8-4bba-fc42-00bf76ed3902"
      },
      "source": [
        "max_len = 50\n",
        "# Training Sequences\n",
        "train_sequences = tokenizer.texts_to_sequences(train_data['text'])\n",
        "print(len(tokenizer.word_index))\n",
        "train_pad_sequences =  keras.preprocessing.sequence.pad_sequences(train_sequences, value=0.0, padding='post', maxlen= max_len)\n",
        "print(\"Number of Training Sequences :\" ,train_pad_sequences.shape)\n",
        "\n",
        "# Validation Sequences\n",
        "validation_sequences = tokenizer.texts_to_sequences(valid_data['text'])\n",
        "validation_pad_sequences =  keras.preprocessing.sequence.pad_sequences(validation_sequences, value=0.0, padding='post', maxlen= max_len)\n",
        "print(\"Number of Validation Sequences :\" ,validation_pad_sequences.shape)"
      ],
      "execution_count": null,
      "outputs": [
        {
          "output_type": "stream",
          "text": [
            "15800\n",
            "Number of Training Sequences : (6217, 50)\n",
            "Number of Validation Sequences : (777, 50)\n"
          ],
          "name": "stdout"
        }
      ]
    },
    {
      "cell_type": "code",
      "metadata": {
        "colab": {
          "base_uri": "https://localhost:8080/"
        },
        "id": "UcwGECxLD3F_",
        "outputId": "df013ad1-94aa-47bc-a0b9-8374c1c34dd2"
      },
      "source": [
        "# Test Sequences\n",
        "test_sequences = tokenizer.texts_to_sequences(test_data['text'])\n",
        "test_pad_sequences =  keras.preprocessing.sequence.pad_sequences(test_sequences, value=0.0, padding='post', maxlen= max_len)\n",
        "print(\"Number of Test Sequences :\" ,test_pad_sequences.shape)"
      ],
      "execution_count": null,
      "outputs": [
        {
          "output_type": "stream",
          "text": [
            "Number of Test Sequences : (778, 50)\n"
          ],
          "name": "stdout"
        }
      ]
    },
    {
      "cell_type": "code",
      "metadata": {
        "id": "kwb1hXR8D3GA"
      },
      "source": [
        "from sklearn.utils import class_weight\n",
        "class_weights = class_weight.compute_class_weight('balanced'\n",
        "                                               ,np.unique(train_data['enc_label'])\n",
        "                                               ,train_data['enc_label'])\n",
        "\n",
        "weight = {i : class_weights[i] for i in range(6)}"
      ],
      "execution_count": null,
      "outputs": []
    },
    {
      "cell_type": "code",
      "metadata": {
        "colab": {
          "base_uri": "https://localhost:8080/"
        },
        "id": "Kpdb_3GED3GA",
        "outputId": "ba94067c-3e00-4f71-c89c-f14f16c8d17e"
      },
      "source": [
        "weight"
      ],
      "execution_count": null,
      "outputs": [
        {
          "output_type": "execute_result",
          "data": {
            "text/plain": [
              "{0: 0.4600590921300027, 1: 1.7114308553157473, 2: 4.131210805595755}"
            ]
          },
          "metadata": {
            "tags": []
          },
          "execution_count": 169
        }
      ]
    },
    {
      "cell_type": "code",
      "metadata": {
        "colab": {
          "base_uri": "https://localhost:8080/"
        },
        "id": "De2_mhjmD3GA",
        "outputId": "0e30b080-9571-46d4-94b2-ef5a29fa12a2"
      },
      "source": [
        "num_classes = 6\n",
        "\n",
        "accuracy_threshold = 0.99\n",
        "\n",
        "class myCallback(keras.callbacks.Callback):\n",
        "  def on_epoch_end(self, epoch, logs={}):\n",
        "      if(logs.get('accuracy')>accuracy_threshold):\n",
        "        print(\"\\nReached %2.2f%% accuracy so we will stop trianing\" % (accuracy_threshold*100))\n",
        "        self.model.stop_training = True\n",
        "\n",
        "acc_callback = myCallback()\n",
        "# Saved the Best Model\n",
        "filepath = folder_path+\"ka_BiLSTMModel.h5\"\n",
        "checkpoint = keras.callbacks.ModelCheckpoint(filepath, monitor='val_accuracy', verbose=2, save_best_only=True, \n",
        "                                             save_weights_only=False, mode='max')\n",
        "# callback list\n",
        "callback_list = [acc_callback, checkpoint] \n",
        "model = tf.keras.models.Sequential([\n",
        "tf.keras.layers.Embedding(10000, 100, input_length = max_len),\n",
        "tf.keras.layers.Conv1D(128, 5, activation='relu'),\n",
        "tf.keras.layers.MaxPooling1D(5),\n",
        "tf.keras.layers.Bidirectional(LSTM(units = 128,return_sequences=True,dropout = 0.2)),\n",
        "tf.keras.layers.Flatten(),\n",
        "tf.keras.layers.Dense(6 , activation='softmax')])\n",
        "\n",
        "model.summary()\n"
      ],
      "execution_count": null,
      "outputs": [
        {
          "output_type": "stream",
          "text": [
            "Model: \"sequential_6\"\n",
            "_________________________________________________________________\n",
            "Layer (type)                 Output Shape              Param #   \n",
            "=================================================================\n",
            "embedding_6 (Embedding)      (None, 50, 100)           1000000   \n",
            "_________________________________________________________________\n",
            "conv1d (Conv1D)              (None, 46, 128)           64128     \n",
            "_________________________________________________________________\n",
            "max_pooling1d (MaxPooling1D) (None, 9, 128)            0         \n",
            "_________________________________________________________________\n",
            "bidirectional_6 (Bidirection (None, 9, 256)            263168    \n",
            "_________________________________________________________________\n",
            "flatten_6 (Flatten)          (None, 2304)              0         \n",
            "_________________________________________________________________\n",
            "dense_6 (Dense)              (None, 6)                 13830     \n",
            "=================================================================\n",
            "Total params: 1,341,126\n",
            "Trainable params: 1,341,126\n",
            "Non-trainable params: 0\n",
            "_________________________________________________________________\n"
          ],
          "name": "stdout"
        }
      ]
    },
    {
      "cell_type": "code",
      "metadata": {
        "colab": {
          "base_uri": "https://localhost:8080/"
        },
        "id": "YcAquoAnD3GB",
        "outputId": "977bdb4a-5ebd-4146-a6fb-3343cf270e98"
      },
      "source": [
        "model.compile(optimizer=keras.optimizers.Adam(learning_rate=0.001),\n",
        "    loss='sparse_categorical_crossentropy',\n",
        "    metrics=['accuracy'])\n",
        "   \n",
        "history = model.fit(train_pad_sequences,\n",
        "    train_data['enc_label'],\n",
        "    epochs=30,\n",
        "    batch_size = 32,\n",
        "    validation_split = 0.2,\n",
        "    verbose =1,\n",
        "    callbacks = callback_list,\n",
        "    class_weight = weight)"
      ],
      "execution_count": null,
      "outputs": [
        {
          "output_type": "stream",
          "text": [
            "Epoch 1/30\n",
            "156/156 [==============================] - 6s 17ms/step - loss: 1.7722 - accuracy: 0.1741 - val_loss: 1.4656 - val_accuracy: 0.3794\n",
            "\n",
            "Epoch 00001: val_accuracy improved from -inf to 0.37942, saving model to /content/drive/MyDrive/Colab Notebooks/NLP Projects/EACL 2021- Shared Tasks/Offensive Language/ka_BiLSTMModel.h5\n",
            "Epoch 2/30\n",
            "156/156 [==============================] - 2s 11ms/step - loss: 1.3050 - accuracy: 0.4788 - val_loss: 1.5005 - val_accuracy: 0.4574\n",
            "\n",
            "Epoch 00002: val_accuracy improved from 0.37942 to 0.45740, saving model to /content/drive/MyDrive/Colab Notebooks/NLP Projects/EACL 2021- Shared Tasks/Offensive Language/ka_BiLSTMModel.h5\n",
            "Epoch 3/30\n",
            "156/156 [==============================] - 2s 11ms/step - loss: 1.0581 - accuracy: 0.6426 - val_loss: 1.5496 - val_accuracy: 0.4638\n",
            "\n",
            "Epoch 00003: val_accuracy improved from 0.45740 to 0.46383, saving model to /content/drive/MyDrive/Colab Notebooks/NLP Projects/EACL 2021- Shared Tasks/Offensive Language/ka_BiLSTMModel.h5\n",
            "Epoch 4/30\n",
            "156/156 [==============================] - 2s 12ms/step - loss: 0.7126 - accuracy: 0.7400 - val_loss: 1.8084 - val_accuracy: 0.4172\n",
            "\n",
            "Epoch 00004: val_accuracy did not improve from 0.46383\n",
            "Epoch 5/30\n",
            "156/156 [==============================] - 2s 11ms/step - loss: 0.3130 - accuracy: 0.8267 - val_loss: 1.4523 - val_accuracy: 0.6206\n",
            "\n",
            "Epoch 00005: val_accuracy improved from 0.46383 to 0.62058, saving model to /content/drive/MyDrive/Colab Notebooks/NLP Projects/EACL 2021- Shared Tasks/Offensive Language/ka_BiLSTMModel.h5\n",
            "Epoch 6/30\n",
            "156/156 [==============================] - 2s 12ms/step - loss: 0.1848 - accuracy: 0.9181 - val_loss: 1.5398 - val_accuracy: 0.6318\n",
            "\n",
            "Epoch 00006: val_accuracy improved from 0.62058 to 0.63183, saving model to /content/drive/MyDrive/Colab Notebooks/NLP Projects/EACL 2021- Shared Tasks/Offensive Language/ka_BiLSTMModel.h5\n",
            "Epoch 7/30\n",
            "156/156 [==============================] - 2s 12ms/step - loss: 0.1175 - accuracy: 0.9327 - val_loss: 1.9413 - val_accuracy: 0.5756\n",
            "\n",
            "Epoch 00007: val_accuracy did not improve from 0.63183\n",
            "Epoch 8/30\n",
            "156/156 [==============================] - 2s 12ms/step - loss: 0.0718 - accuracy: 0.9584 - val_loss: 1.7590 - val_accuracy: 0.6278\n",
            "\n",
            "Epoch 00008: val_accuracy did not improve from 0.63183\n",
            "Epoch 9/30\n",
            "156/156 [==============================] - 2s 11ms/step - loss: 0.0915 - accuracy: 0.9556 - val_loss: 1.6234 - val_accuracy: 0.6535\n",
            "\n",
            "Epoch 00009: val_accuracy improved from 0.63183 to 0.65354, saving model to /content/drive/MyDrive/Colab Notebooks/NLP Projects/EACL 2021- Shared Tasks/Offensive Language/ka_BiLSTMModel.h5\n",
            "Epoch 10/30\n",
            "156/156 [==============================] - 2s 11ms/step - loss: 0.0603 - accuracy: 0.9652 - val_loss: 1.7933 - val_accuracy: 0.6535\n",
            "\n",
            "Epoch 00010: val_accuracy did not improve from 0.65354\n",
            "Epoch 11/30\n",
            "156/156 [==============================] - 2s 11ms/step - loss: 0.0605 - accuracy: 0.9630 - val_loss: 1.8787 - val_accuracy: 0.6777\n",
            "\n",
            "Epoch 00011: val_accuracy improved from 0.65354 to 0.67765, saving model to /content/drive/MyDrive/Colab Notebooks/NLP Projects/EACL 2021- Shared Tasks/Offensive Language/ka_BiLSTMModel.h5\n",
            "Epoch 12/30\n",
            "156/156 [==============================] - 2s 12ms/step - loss: 0.0610 - accuracy: 0.9727 - val_loss: 1.7906 - val_accuracy: 0.6423\n",
            "\n",
            "Epoch 00012: val_accuracy did not improve from 0.67765\n",
            "Epoch 13/30\n",
            "156/156 [==============================] - 2s 12ms/step - loss: 0.0587 - accuracy: 0.9634 - val_loss: 1.7865 - val_accuracy: 0.6519\n",
            "\n",
            "Epoch 00013: val_accuracy did not improve from 0.67765\n",
            "Epoch 14/30\n",
            "156/156 [==============================] - 2s 12ms/step - loss: 0.0590 - accuracy: 0.9688 - val_loss: 1.8725 - val_accuracy: 0.6383\n",
            "\n",
            "Epoch 00014: val_accuracy did not improve from 0.67765\n",
            "Epoch 15/30\n",
            "156/156 [==============================] - 2s 12ms/step - loss: 0.0851 - accuracy: 0.9442 - val_loss: 1.8945 - val_accuracy: 0.6568\n",
            "\n",
            "Epoch 00015: val_accuracy did not improve from 0.67765\n",
            "Epoch 16/30\n",
            "156/156 [==============================] - 2s 12ms/step - loss: 0.0530 - accuracy: 0.9710 - val_loss: 1.9917 - val_accuracy: 0.6511\n",
            "\n",
            "Epoch 00016: val_accuracy did not improve from 0.67765\n",
            "Epoch 17/30\n",
            "156/156 [==============================] - 2s 12ms/step - loss: 0.0412 - accuracy: 0.9760 - val_loss: 2.1550 - val_accuracy: 0.6527\n",
            "\n",
            "Epoch 00017: val_accuracy did not improve from 0.67765\n",
            "Epoch 18/30\n",
            "156/156 [==============================] - 2s 11ms/step - loss: 0.0807 - accuracy: 0.9525 - val_loss: 2.3723 - val_accuracy: 0.6109\n",
            "\n",
            "Epoch 00018: val_accuracy did not improve from 0.67765\n",
            "Epoch 19/30\n",
            "156/156 [==============================] - 2s 13ms/step - loss: 0.0965 - accuracy: 0.9610 - val_loss: 2.0703 - val_accuracy: 0.6608\n",
            "\n",
            "Epoch 00019: val_accuracy did not improve from 0.67765\n",
            "Epoch 20/30\n",
            "156/156 [==============================] - 2s 12ms/step - loss: 0.0514 - accuracy: 0.9727 - val_loss: 2.3509 - val_accuracy: 0.6326\n",
            "\n",
            "Epoch 00020: val_accuracy did not improve from 0.67765\n",
            "Epoch 21/30\n",
            "156/156 [==============================] - 2s 12ms/step - loss: 0.0459 - accuracy: 0.9666 - val_loss: 2.2766 - val_accuracy: 0.6093\n",
            "\n",
            "Epoch 00021: val_accuracy did not improve from 0.67765\n",
            "Epoch 22/30\n",
            "156/156 [==============================] - 2s 12ms/step - loss: 0.0399 - accuracy: 0.9664 - val_loss: 2.1563 - val_accuracy: 0.6584\n",
            "\n",
            "Epoch 00022: val_accuracy did not improve from 0.67765\n",
            "Epoch 23/30\n",
            "156/156 [==============================] - 2s 12ms/step - loss: 0.0399 - accuracy: 0.9754 - val_loss: 2.4286 - val_accuracy: 0.6584\n",
            "\n",
            "Epoch 00023: val_accuracy did not improve from 0.67765\n",
            "Epoch 24/30\n",
            "156/156 [==============================] - 2s 12ms/step - loss: 0.0387 - accuracy: 0.9744 - val_loss: 2.2926 - val_accuracy: 0.6543\n",
            "\n",
            "Epoch 00024: val_accuracy did not improve from 0.67765\n",
            "Epoch 25/30\n",
            "156/156 [==============================] - 2s 12ms/step - loss: 0.0272 - accuracy: 0.9792 - val_loss: 2.3204 - val_accuracy: 0.6359\n",
            "\n",
            "Epoch 00025: val_accuracy did not improve from 0.67765\n",
            "Epoch 26/30\n",
            "156/156 [==============================] - 2s 12ms/step - loss: 0.0365 - accuracy: 0.9790 - val_loss: 2.3611 - val_accuracy: 0.6487\n",
            "\n",
            "Epoch 00026: val_accuracy did not improve from 0.67765\n",
            "Epoch 27/30\n",
            "156/156 [==============================] - 2s 12ms/step - loss: 0.0348 - accuracy: 0.9756 - val_loss: 2.4338 - val_accuracy: 0.6680\n",
            "\n",
            "Epoch 00027: val_accuracy did not improve from 0.67765\n",
            "Epoch 28/30\n",
            "156/156 [==============================] - 2s 11ms/step - loss: 0.0411 - accuracy: 0.9745 - val_loss: 2.4988 - val_accuracy: 0.6672\n",
            "\n",
            "Epoch 00028: val_accuracy did not improve from 0.67765\n",
            "Epoch 29/30\n",
            "156/156 [==============================] - 2s 12ms/step - loss: 0.0351 - accuracy: 0.9757 - val_loss: 2.5724 - val_accuracy: 0.6238\n",
            "\n",
            "Epoch 00029: val_accuracy did not improve from 0.67765\n",
            "Epoch 30/30\n",
            "156/156 [==============================] - 2s 11ms/step - loss: 0.0324 - accuracy: 0.9757 - val_loss: 2.3593 - val_accuracy: 0.6350\n",
            "\n",
            "Epoch 00030: val_accuracy did not improve from 0.67765\n"
          ],
          "name": "stdout"
        }
      ]
    },
    {
      "cell_type": "code",
      "metadata": {
        "colab": {
          "base_uri": "https://localhost:8080/"
        },
        "id": "T_0AXAwmD3GB",
        "outputId": "9edb2dc4-eacd-4272-b37f-5a879f628397"
      },
      "source": [
        "# Load the saved model\n",
        "model = load_model(folder_path+'ka_BiLSTMModel.h5')\n",
        "# prediction\n",
        "y_pred = np.argmax(model.predict(validation_pad_sequences), axis=-1)\n",
        "print_metrices(valid_data['enc_label'],y_pred)\n"
      ],
      "execution_count": null,
      "outputs": [
        {
          "output_type": "stream",
          "text": [
            "[[311  69  16  12  13   5]\n",
            " [ 44 143   2   1   1   0]\n",
            " [ 18   4  34   3   7   0]\n",
            " [ 19   4   4   4   2   0]\n",
            " [ 20   6   9   1   7   2]\n",
            " [  8   1   1   3   2   1]]\n",
            "              precision    recall  f1-score   support\n",
            "\n",
            "           0       0.74      0.73      0.74       426\n",
            "           1       0.63      0.75      0.68       191\n",
            "           2       0.52      0.52      0.52        66\n",
            "           3       0.17      0.12      0.14        33\n",
            "           4       0.22      0.16      0.18        45\n",
            "           5       0.12      0.06      0.08        16\n",
            "\n",
            "    accuracy                           0.64       777\n",
            "   macro avg       0.40      0.39      0.39       777\n",
            "weighted avg       0.63      0.64      0.63       777\n",
            "\n",
            "Accuracy :  0.6435006435006435\n",
            "Precison :  0.6269088713589973\n",
            "Recall :  0.6435006435006435\n",
            "F1 :  0.6332517564320476\n"
          ],
          "name": "stdout"
        }
      ]
    },
    {
      "cell_type": "markdown",
      "metadata": {
        "id": "v2t83vL4D3GB"
      },
      "source": [
        "### Test Set Prediction"
      ]
    },
    {
      "cell_type": "code",
      "metadata": {
        "id": "JtV3DTL4D3GB"
      },
      "source": [
        "test_pred = np.argmax(model.predict(test_pad_sequences), axis=-1).tolist()"
      ],
      "execution_count": null,
      "outputs": []
    },
    {
      "cell_type": "code",
      "metadata": {
        "id": "aoBZpFsBD3GC"
      },
      "source": [
        "\n",
        "test_data['id'] = test_data.index + 1\n",
        "run = pd.DataFrame(test_data['id'])\n",
        "run['text'] = test_data['text']\n",
        "run['label'] = test_pred\n",
        "run['label'] = run['label'].apply(actual_label)\n",
        "run "
      ],
      "execution_count": null,
      "outputs": []
    },
    {
      "cell_type": "code",
      "metadata": {
        "id": "tK6kRJKyjBg5"
      },
      "source": [
        "run['label'].value_counts()"
      ],
      "execution_count": null,
      "outputs": []
    },
    {
      "cell_type": "code",
      "metadata": {
        "id": "oZ70ASlAD3GC"
      },
      "source": [
        "run.to_csv(folder_path +'kannada_bilstm.csv',index = False)"
      ],
      "execution_count": null,
      "outputs": []
    },
    {
      "cell_type": "markdown",
      "metadata": {
        "id": "bviffYuSD3GC"
      },
      "source": [
        "##Pretrained Word Embedding (Fasttext)"
      ]
    },
    {
      "cell_type": "code",
      "metadata": {
        "id": "cMaiyzxfD3GC"
      },
      "source": [
        "from urllib.request import urlopen\n",
        "import gzip\n",
        "\n",
        "# get the vectors\n",
        "file = gzip.open(urlopen('https://dl.fbaipublicfiles.com/fasttext/vectors-crawl/cc.kn.300.vec.gz'))"
      ],
      "execution_count": null,
      "outputs": []
    },
    {
      "cell_type": "code",
      "metadata": {
        "id": "gv6GffTrD3GD"
      },
      "source": [
        "tokenizer = Tokenizer(num_words = 10000,filters='!\"#$%&()*+,-./:;<=>?@[\\\\]^_`{|}~\\t\\n-', \n",
        "                      split=' ', char_level=False, oov_token='<oov>', document_count=0)\n",
        "tokenizer.fit_on_texts(train_data['text'])  \n",
        "word_index = tokenizer.word_index\n",
        "vocab_size = len(word_index )+1"
      ],
      "execution_count": null,
      "outputs": []
    },
    {
      "cell_type": "code",
      "metadata": {
        "id": "gy-3YhSHD3GD"
      },
      "source": [
        "vocab_and_vectors = {}\n",
        "# put words as dict indexes and vectors as words values\n",
        "for line in file:\n",
        "  values = line.split()\n",
        "  word = values [0].decode('utf-8')\n",
        "  vector = np.asarray(values[1:], dtype='float32')\n",
        "  vocab_and_vectors[word] = vector"
      ],
      "execution_count": null,
      "outputs": []
    },
    {
      "cell_type": "code",
      "metadata": {
        "id": "hxrkJZ75D3GD"
      },
      "source": [
        "embedding_matrix = np.zeros((vocab_size, 300))\n",
        "for word, i in word_index.items():\n",
        "  embedding_vector = vocab_and_vectors.get(word)\n",
        "  # words that cannot be found will be set to 0\n",
        "  if embedding_vector is not None:\n",
        "    embedding_matrix[i] = embedding_vector"
      ],
      "execution_count": null,
      "outputs": []
    },
    {
      "cell_type": "code",
      "metadata": {
        "colab": {
          "base_uri": "https://localhost:8080/"
        },
        "id": "ExOaxMGvD3GD",
        "outputId": "c13f2040-9967-4a2b-e73d-5aaeb2151c76"
      },
      "source": [
        "max_len = 50\n",
        "# Training Sequences\n",
        "train_sequences = tokenizer.texts_to_sequences(train_data['text'])\n",
        "print(len(tokenizer.word_index))\n",
        "train_pad_sequences =  keras.preprocessing.sequence.pad_sequences(train_sequences, value=0.0, padding='post', maxlen= max_len)\n",
        "print(\"Number of Training Sequences :\" ,train_pad_sequences.shape)\n",
        "\n",
        "# Validation Sequences\n",
        "validation_sequences = tokenizer.texts_to_sequences(valid_data['text'])\n",
        "validation_pad_sequences =  keras.preprocessing.sequence.pad_sequences(validation_sequences, value=0.0, padding='post', maxlen= max_len)\n",
        "print(\"Number of Validation Sequences :\" ,validation_pad_sequences.shape)"
      ],
      "execution_count": null,
      "outputs": [
        {
          "output_type": "stream",
          "text": [
            "15800\n",
            "Number of Training Sequences : (6217, 50)\n",
            "Number of Validation Sequences : (777, 50)\n"
          ],
          "name": "stdout"
        }
      ]
    },
    {
      "cell_type": "code",
      "metadata": {
        "colab": {
          "base_uri": "https://localhost:8080/"
        },
        "id": "Uf4LWpaoD3GE",
        "outputId": "9da25cdf-4c02-4680-a84f-b3f2b1ceba2a"
      },
      "source": [
        "# Test Sequences\n",
        "test_sequences = tokenizer.texts_to_sequences(test_data['text'])\n",
        "test_pad_sequences =  keras.preprocessing.sequence.pad_sequences(test_sequences, value=0.0, padding='post', maxlen= max_len)\n",
        "print(\"Number of Test Sequences :\" ,test_pad_sequences.shape)"
      ],
      "execution_count": null,
      "outputs": [
        {
          "output_type": "stream",
          "text": [
            "Number of Test Sequences : (778, 50)\n"
          ],
          "name": "stdout"
        }
      ]
    },
    {
      "cell_type": "code",
      "metadata": {
        "id": "BxfL-01hD3GE"
      },
      "source": [
        "from sklearn.utils import class_weight\n",
        "class_weights = class_weight.compute_class_weight('balanced'\n",
        "                                               ,np.unique(train_data['enc_label'])\n",
        "                                               ,train_data['enc_label'])\n",
        "\n",
        "weight = {i : class_weights[i] for i in range(6)}"
      ],
      "execution_count": null,
      "outputs": []
    },
    {
      "cell_type": "markdown",
      "metadata": {
        "id": "HVIUqWwPD3GE"
      },
      "source": [
        "#### Model Defination"
      ]
    },
    {
      "cell_type": "code",
      "metadata": {
        "colab": {
          "base_uri": "https://localhost:8080/"
        },
        "id": "AU3QpbIsD3GF",
        "outputId": "d403372e-546d-4505-d27e-12b933fc81fe"
      },
      "source": [
        "num_classes = 6\n",
        "\n",
        "accuracy_threshold = 0.99\n",
        "\n",
        "class myCallback(keras.callbacks.Callback):\n",
        "  def on_epoch_end(self, epoch, logs={}):\n",
        "      if(logs.get('accuracy')>accuracy_threshold):\n",
        "        print(\"\\nReached %2.2f%% accuracy so we will stop trianing\" % (accuracy_threshold*100))\n",
        "        self.model.stop_training = True\n",
        "\n",
        "acc_callback = myCallback()\n",
        "# Saved the Best Model\n",
        "filepath = folder_path+\"prt_ka_BiLSTMModel.h5\"\n",
        "checkpoint = keras.callbacks.ModelCheckpoint(filepath, monitor='val_accuracy', verbose=2, save_best_only=True, \n",
        "                                             save_weights_only=False, mode='max')\n",
        "# callback list\n",
        "callback_list = [acc_callback, checkpoint] \n",
        "model = tf.keras.models.Sequential([\n",
        "tf.keras.layers.Embedding(vocab_size, 300,weights=[embedding_matrix],trainable=False, input_length = max_len),\n",
        "#tf.keras.layers.Conv1D(128, 5, activation='relu'),\n",
        "#tf.keras.layers.MaxPooling1D(5),\n",
        "tf.keras.layers.Bidirectional(LSTM(units = 128,return_sequences=True,dropout = 0.2)),\n",
        "tf.keras.layers.Flatten(),\n",
        "tf.keras.layers.Dense(6 , activation='softmax')])\n",
        "\n",
        "model.summary()\n"
      ],
      "execution_count": null,
      "outputs": [
        {
          "output_type": "stream",
          "text": [
            "Model: \"sequential_11\"\n",
            "_________________________________________________________________\n",
            "Layer (type)                 Output Shape              Param #   \n",
            "=================================================================\n",
            "embedding_11 (Embedding)     (None, 50, 300)           4740300   \n",
            "_________________________________________________________________\n",
            "bidirectional_11 (Bidirectio (None, 50, 256)           439296    \n",
            "_________________________________________________________________\n",
            "flatten_11 (Flatten)         (None, 12800)             0         \n",
            "_________________________________________________________________\n",
            "dense_11 (Dense)             (None, 6)                 76806     \n",
            "=================================================================\n",
            "Total params: 5,256,402\n",
            "Trainable params: 516,102\n",
            "Non-trainable params: 4,740,300\n",
            "_________________________________________________________________\n"
          ],
          "name": "stdout"
        }
      ]
    },
    {
      "cell_type": "code",
      "metadata": {
        "colab": {
          "base_uri": "https://localhost:8080/"
        },
        "id": "Du9TMOq0D3GF",
        "outputId": "dced5286-f932-4ef4-ade0-4e03d464b39b"
      },
      "source": [
        "model.compile(optimizer=keras.optimizers.Adam(learning_rate=0.001),\n",
        "    loss='sparse_categorical_crossentropy',\n",
        "    metrics=['accuracy'])\n",
        "   \n",
        "history = model.fit(train_pad_sequences,\n",
        "    train_data['enc_label'],\n",
        "    epochs=200,\n",
        "    batch_size = 32,\n",
        "    validation_split = 0.2,\n",
        "    verbose =1,\n",
        "    callbacks = callback_list,\n",
        "    class_weight = weight)"
      ],
      "execution_count": null,
      "outputs": [
        {
          "output_type": "stream",
          "text": [
            "Epoch 1/200\n",
            "156/156 [==============================] - 5s 14ms/step - loss: 1.7353 - accuracy: 0.2806 - val_loss: 1.4433 - val_accuracy: 0.5233\n",
            "\n",
            "Epoch 00001: val_accuracy improved from -inf to 0.52331, saving model to /content/drive/MyDrive/Colab Notebooks/NLP Projects/EACL 2021- Shared Tasks/Offensive Language/prt_ka_BiLSTMModel.h5\n",
            "Epoch 2/200\n",
            "156/156 [==============================] - 1s 9ms/step - loss: 1.5182 - accuracy: 0.4828 - val_loss: 1.4906 - val_accuracy: 0.4477\n",
            "\n",
            "Epoch 00002: val_accuracy did not improve from 0.52331\n",
            "Epoch 3/200\n",
            "156/156 [==============================] - 1s 9ms/step - loss: 1.4555 - accuracy: 0.4900 - val_loss: 1.3849 - val_accuracy: 0.5048\n",
            "\n",
            "Epoch 00003: val_accuracy did not improve from 0.52331\n",
            "Epoch 4/200\n",
            "156/156 [==============================] - 1s 9ms/step - loss: 1.3616 - accuracy: 0.5139 - val_loss: 1.2885 - val_accuracy: 0.5474\n",
            "\n",
            "Epoch 00004: val_accuracy improved from 0.52331 to 0.54743, saving model to /content/drive/MyDrive/Colab Notebooks/NLP Projects/EACL 2021- Shared Tasks/Offensive Language/prt_ka_BiLSTMModel.h5\n",
            "Epoch 5/200\n",
            "156/156 [==============================] - 1s 9ms/step - loss: 1.1983 - accuracy: 0.5421 - val_loss: 1.4129 - val_accuracy: 0.4928\n",
            "\n",
            "Epoch 00005: val_accuracy did not improve from 0.54743\n",
            "Epoch 6/200\n",
            "156/156 [==============================] - 1s 9ms/step - loss: 1.1289 - accuracy: 0.5583 - val_loss: 1.4246 - val_accuracy: 0.4494\n",
            "\n",
            "Epoch 00006: val_accuracy did not improve from 0.54743\n",
            "Epoch 7/200\n",
            "156/156 [==============================] - 1s 9ms/step - loss: 1.0194 - accuracy: 0.5430 - val_loss: 1.3220 - val_accuracy: 0.5016\n",
            "\n",
            "Epoch 00007: val_accuracy did not improve from 0.54743\n",
            "Epoch 8/200\n",
            "156/156 [==============================] - 2s 12ms/step - loss: 0.9512 - accuracy: 0.5919 - val_loss: 1.4651 - val_accuracy: 0.4445\n",
            "\n",
            "Epoch 00008: val_accuracy did not improve from 0.54743\n",
            "Epoch 9/200\n",
            "156/156 [==============================] - 1s 9ms/step - loss: 0.9186 - accuracy: 0.5771 - val_loss: 1.4725 - val_accuracy: 0.4469\n",
            "\n",
            "Epoch 00009: val_accuracy did not improve from 0.54743\n",
            "Epoch 10/200\n",
            "156/156 [==============================] - 1s 9ms/step - loss: 0.8694 - accuracy: 0.6004 - val_loss: 1.4000 - val_accuracy: 0.4775\n",
            "\n",
            "Epoch 00010: val_accuracy did not improve from 0.54743\n",
            "Epoch 11/200\n",
            "156/156 [==============================] - 1s 9ms/step - loss: 0.9099 - accuracy: 0.5847 - val_loss: 1.3149 - val_accuracy: 0.5402\n",
            "\n",
            "Epoch 00011: val_accuracy did not improve from 0.54743\n",
            "Epoch 12/200\n",
            "156/156 [==============================] - 1s 9ms/step - loss: 0.7931 - accuracy: 0.6158 - val_loss: 1.5156 - val_accuracy: 0.4646\n",
            "\n",
            "Epoch 00012: val_accuracy did not improve from 0.54743\n",
            "Epoch 13/200\n",
            "156/156 [==============================] - 1s 9ms/step - loss: 0.7947 - accuracy: 0.6147 - val_loss: 1.5950 - val_accuracy: 0.4445\n",
            "\n",
            "Epoch 00013: val_accuracy did not improve from 0.54743\n",
            "Epoch 14/200\n",
            "156/156 [==============================] - 1s 9ms/step - loss: 0.7180 - accuracy: 0.6220 - val_loss: 1.4383 - val_accuracy: 0.4960\n",
            "\n",
            "Epoch 00014: val_accuracy did not improve from 0.54743\n",
            "Epoch 15/200\n",
            "156/156 [==============================] - 1s 9ms/step - loss: 0.6805 - accuracy: 0.6253 - val_loss: 1.5132 - val_accuracy: 0.4719\n",
            "\n",
            "Epoch 00015: val_accuracy did not improve from 0.54743\n",
            "Epoch 16/200\n",
            "156/156 [==============================] - 1s 9ms/step - loss: 0.6625 - accuracy: 0.6370 - val_loss: 1.3635 - val_accuracy: 0.5177\n",
            "\n",
            "Epoch 00016: val_accuracy did not improve from 0.54743\n",
            "Epoch 17/200\n",
            "156/156 [==============================] - 1s 9ms/step - loss: 0.6357 - accuracy: 0.6633 - val_loss: 1.5454 - val_accuracy: 0.4711\n",
            "\n",
            "Epoch 00017: val_accuracy did not improve from 0.54743\n",
            "Epoch 18/200\n",
            "156/156 [==============================] - 1s 9ms/step - loss: 0.6243 - accuracy: 0.6534 - val_loss: 1.4195 - val_accuracy: 0.5474\n",
            "\n",
            "Epoch 00018: val_accuracy did not improve from 0.54743\n",
            "Epoch 19/200\n",
            "156/156 [==============================] - 1s 9ms/step - loss: 0.5874 - accuracy: 0.6732 - val_loss: 1.3840 - val_accuracy: 0.5016\n",
            "\n",
            "Epoch 00019: val_accuracy did not improve from 0.54743\n",
            "Epoch 20/200\n",
            "156/156 [==============================] - 1s 9ms/step - loss: 0.6701 - accuracy: 0.6344 - val_loss: 1.3760 - val_accuracy: 0.5643\n",
            "\n",
            "Epoch 00020: val_accuracy improved from 0.54743 to 0.56431, saving model to /content/drive/MyDrive/Colab Notebooks/NLP Projects/EACL 2021- Shared Tasks/Offensive Language/prt_ka_BiLSTMModel.h5\n",
            "Epoch 21/200\n",
            "156/156 [==============================] - 1s 9ms/step - loss: 0.5541 - accuracy: 0.6832 - val_loss: 1.4500 - val_accuracy: 0.5201\n",
            "\n",
            "Epoch 00021: val_accuracy did not improve from 0.56431\n",
            "Epoch 22/200\n",
            "156/156 [==============================] - 1s 9ms/step - loss: 0.5495 - accuracy: 0.6853 - val_loss: 1.3669 - val_accuracy: 0.5828\n",
            "\n",
            "Epoch 00022: val_accuracy improved from 0.56431 to 0.58280, saving model to /content/drive/MyDrive/Colab Notebooks/NLP Projects/EACL 2021- Shared Tasks/Offensive Language/prt_ka_BiLSTMModel.h5\n",
            "Epoch 23/200\n",
            "156/156 [==============================] - 1s 9ms/step - loss: 0.5017 - accuracy: 0.6978 - val_loss: 1.4366 - val_accuracy: 0.5772\n",
            "\n",
            "Epoch 00023: val_accuracy did not improve from 0.58280\n",
            "Epoch 24/200\n",
            "156/156 [==============================] - 1s 9ms/step - loss: 0.4734 - accuracy: 0.7249 - val_loss: 1.5555 - val_accuracy: 0.5113\n",
            "\n",
            "Epoch 00024: val_accuracy did not improve from 0.58280\n",
            "Epoch 25/200\n",
            "156/156 [==============================] - 1s 9ms/step - loss: 0.4673 - accuracy: 0.7198 - val_loss: 1.5433 - val_accuracy: 0.5113\n",
            "\n",
            "Epoch 00025: val_accuracy did not improve from 0.58280\n",
            "Epoch 26/200\n",
            "156/156 [==============================] - 1s 10ms/step - loss: 0.4802 - accuracy: 0.7138 - val_loss: 1.5177 - val_accuracy: 0.5273\n",
            "\n",
            "Epoch 00026: val_accuracy did not improve from 0.58280\n",
            "Epoch 27/200\n",
            "156/156 [==============================] - 2s 10ms/step - loss: 0.4663 - accuracy: 0.7250 - val_loss: 1.5625 - val_accuracy: 0.5330\n",
            "\n",
            "Epoch 00027: val_accuracy did not improve from 0.58280\n",
            "Epoch 28/200\n",
            "156/156 [==============================] - 2s 10ms/step - loss: 0.4490 - accuracy: 0.7151 - val_loss: 1.5710 - val_accuracy: 0.5579\n",
            "\n",
            "Epoch 00028: val_accuracy did not improve from 0.58280\n",
            "Epoch 29/200\n",
            "156/156 [==============================] - 2s 10ms/step - loss: 0.4422 - accuracy: 0.7284 - val_loss: 1.5558 - val_accuracy: 0.5273\n",
            "\n",
            "Epoch 00029: val_accuracy did not improve from 0.58280\n",
            "Epoch 30/200\n",
            "156/156 [==============================] - 2s 10ms/step - loss: 0.4271 - accuracy: 0.7367 - val_loss: 1.4441 - val_accuracy: 0.5563\n",
            "\n",
            "Epoch 00030: val_accuracy did not improve from 0.58280\n",
            "Epoch 31/200\n",
            "156/156 [==============================] - 2s 10ms/step - loss: 0.4169 - accuracy: 0.7450 - val_loss: 1.6039 - val_accuracy: 0.5201\n",
            "\n",
            "Epoch 00031: val_accuracy did not improve from 0.58280\n",
            "Epoch 32/200\n",
            "156/156 [==============================] - 2s 10ms/step - loss: 0.4146 - accuracy: 0.7471 - val_loss: 1.4128 - val_accuracy: 0.6013\n",
            "\n",
            "Epoch 00032: val_accuracy improved from 0.58280 to 0.60129, saving model to /content/drive/MyDrive/Colab Notebooks/NLP Projects/EACL 2021- Shared Tasks/Offensive Language/prt_ka_BiLSTMModel.h5\n",
            "Epoch 33/200\n",
            "156/156 [==============================] - 1s 9ms/step - loss: 0.3917 - accuracy: 0.7582 - val_loss: 1.6468 - val_accuracy: 0.5410\n",
            "\n",
            "Epoch 00033: val_accuracy did not improve from 0.60129\n",
            "Epoch 34/200\n",
            "156/156 [==============================] - 1s 9ms/step - loss: 0.4076 - accuracy: 0.7361 - val_loss: 1.5209 - val_accuracy: 0.5756\n",
            "\n",
            "Epoch 00034: val_accuracy did not improve from 0.60129\n",
            "Epoch 35/200\n",
            "156/156 [==============================] - 1s 9ms/step - loss: 0.3813 - accuracy: 0.7652 - val_loss: 1.6296 - val_accuracy: 0.5426\n",
            "\n",
            "Epoch 00035: val_accuracy did not improve from 0.60129\n",
            "Epoch 36/200\n",
            "156/156 [==============================] - 1s 9ms/step - loss: 0.3872 - accuracy: 0.7680 - val_loss: 1.5112 - val_accuracy: 0.5949\n",
            "\n",
            "Epoch 00036: val_accuracy did not improve from 0.60129\n",
            "Epoch 37/200\n",
            "156/156 [==============================] - 1s 9ms/step - loss: 0.3424 - accuracy: 0.7800 - val_loss: 1.4819 - val_accuracy: 0.6262\n",
            "\n",
            "Epoch 00037: val_accuracy improved from 0.60129 to 0.62621, saving model to /content/drive/MyDrive/Colab Notebooks/NLP Projects/EACL 2021- Shared Tasks/Offensive Language/prt_ka_BiLSTMModel.h5\n",
            "Epoch 38/200\n",
            "156/156 [==============================] - 1s 9ms/step - loss: 0.3390 - accuracy: 0.7855 - val_loss: 1.5719 - val_accuracy: 0.5868\n",
            "\n",
            "Epoch 00038: val_accuracy did not improve from 0.62621\n",
            "Epoch 39/200\n",
            "156/156 [==============================] - 1s 9ms/step - loss: 0.3706 - accuracy: 0.7676 - val_loss: 1.5418 - val_accuracy: 0.5997\n",
            "\n",
            "Epoch 00039: val_accuracy did not improve from 0.62621\n",
            "Epoch 40/200\n",
            "156/156 [==============================] - 1s 9ms/step - loss: 0.3385 - accuracy: 0.7807 - val_loss: 1.5602 - val_accuracy: 0.5732\n",
            "\n",
            "Epoch 00040: val_accuracy did not improve from 0.62621\n",
            "Epoch 41/200\n",
            "156/156 [==============================] - 1s 9ms/step - loss: 0.3315 - accuracy: 0.7857 - val_loss: 1.6041 - val_accuracy: 0.6021\n",
            "\n",
            "Epoch 00041: val_accuracy did not improve from 0.62621\n",
            "Epoch 42/200\n",
            "156/156 [==============================] - 1s 9ms/step - loss: 0.2935 - accuracy: 0.8098 - val_loss: 1.6815 - val_accuracy: 0.5772\n",
            "\n",
            "Epoch 00042: val_accuracy did not improve from 0.62621\n",
            "Epoch 43/200\n",
            "156/156 [==============================] - 1s 9ms/step - loss: 0.3000 - accuracy: 0.7866 - val_loss: 1.6747 - val_accuracy: 0.5723\n",
            "\n",
            "Epoch 00043: val_accuracy did not improve from 0.62621\n",
            "Epoch 44/200\n",
            "156/156 [==============================] - 1s 9ms/step - loss: 0.3244 - accuracy: 0.7843 - val_loss: 1.7472 - val_accuracy: 0.5683\n",
            "\n",
            "Epoch 00044: val_accuracy did not improve from 0.62621\n",
            "Epoch 45/200\n",
            "156/156 [==============================] - 1s 9ms/step - loss: 0.2887 - accuracy: 0.7987 - val_loss: 1.6553 - val_accuracy: 0.6093\n",
            "\n",
            "Epoch 00045: val_accuracy did not improve from 0.62621\n",
            "Epoch 46/200\n",
            "156/156 [==============================] - 1s 9ms/step - loss: 0.3160 - accuracy: 0.8162 - val_loss: 1.7427 - val_accuracy: 0.5892\n",
            "\n",
            "Epoch 00046: val_accuracy did not improve from 0.62621\n",
            "Epoch 47/200\n",
            "156/156 [==============================] - 1s 9ms/step - loss: 0.3182 - accuracy: 0.7918 - val_loss: 1.7057 - val_accuracy: 0.5699\n",
            "\n",
            "Epoch 00047: val_accuracy did not improve from 0.62621\n",
            "Epoch 48/200\n",
            "156/156 [==============================] - 1s 9ms/step - loss: 0.3100 - accuracy: 0.8088 - val_loss: 1.6770 - val_accuracy: 0.5997\n",
            "\n",
            "Epoch 00048: val_accuracy did not improve from 0.62621\n",
            "Epoch 49/200\n",
            "156/156 [==============================] - 1s 9ms/step - loss: 0.2785 - accuracy: 0.8152 - val_loss: 1.7261 - val_accuracy: 0.5764\n",
            "\n",
            "Epoch 00049: val_accuracy did not improve from 0.62621\n",
            "Epoch 50/200\n",
            "156/156 [==============================] - 1s 9ms/step - loss: 0.2749 - accuracy: 0.8111 - val_loss: 1.7159 - val_accuracy: 0.5732\n",
            "\n",
            "Epoch 00050: val_accuracy did not improve from 0.62621\n",
            "Epoch 51/200\n",
            "156/156 [==============================] - 1s 9ms/step - loss: 0.2631 - accuracy: 0.8160 - val_loss: 1.7155 - val_accuracy: 0.5989\n",
            "\n",
            "Epoch 00051: val_accuracy did not improve from 0.62621\n",
            "Epoch 52/200\n",
            "156/156 [==============================] - 1s 9ms/step - loss: 0.2643 - accuracy: 0.8280 - val_loss: 1.7445 - val_accuracy: 0.5555\n",
            "\n",
            "Epoch 00052: val_accuracy did not improve from 0.62621\n",
            "Epoch 53/200\n",
            "156/156 [==============================] - 1s 9ms/step - loss: 0.2842 - accuracy: 0.8179 - val_loss: 1.6260 - val_accuracy: 0.6101\n",
            "\n",
            "Epoch 00053: val_accuracy did not improve from 0.62621\n",
            "Epoch 54/200\n",
            "156/156 [==============================] - 2s 10ms/step - loss: 0.2696 - accuracy: 0.8274 - val_loss: 1.7513 - val_accuracy: 0.5876\n",
            "\n",
            "Epoch 00054: val_accuracy did not improve from 0.62621\n",
            "Epoch 55/200\n",
            "156/156 [==============================] - 1s 9ms/step - loss: 0.2638 - accuracy: 0.8235 - val_loss: 1.7942 - val_accuracy: 0.5884\n",
            "\n",
            "Epoch 00055: val_accuracy did not improve from 0.62621\n",
            "Epoch 56/200\n",
            "156/156 [==============================] - 1s 9ms/step - loss: 0.3061 - accuracy: 0.8074 - val_loss: 1.7378 - val_accuracy: 0.5691\n",
            "\n",
            "Epoch 00056: val_accuracy did not improve from 0.62621\n",
            "Epoch 57/200\n",
            "156/156 [==============================] - 1s 9ms/step - loss: 0.2464 - accuracy: 0.8247 - val_loss: 1.7044 - val_accuracy: 0.6117\n",
            "\n",
            "Epoch 00057: val_accuracy did not improve from 0.62621\n",
            "Epoch 58/200\n",
            "156/156 [==============================] - 1s 9ms/step - loss: 0.2530 - accuracy: 0.8294 - val_loss: 1.7497 - val_accuracy: 0.6021\n",
            "\n",
            "Epoch 00058: val_accuracy did not improve from 0.62621\n",
            "Epoch 59/200\n",
            "156/156 [==============================] - 1s 9ms/step - loss: 0.2235 - accuracy: 0.8492 - val_loss: 1.8265 - val_accuracy: 0.5916\n",
            "\n",
            "Epoch 00059: val_accuracy did not improve from 0.62621\n",
            "Epoch 60/200\n",
            "156/156 [==============================] - 1s 9ms/step - loss: 0.2449 - accuracy: 0.8419 - val_loss: 1.8942 - val_accuracy: 0.5788\n",
            "\n",
            "Epoch 00060: val_accuracy did not improve from 0.62621\n",
            "Epoch 61/200\n",
            "156/156 [==============================] - 1s 9ms/step - loss: 0.2187 - accuracy: 0.8359 - val_loss: 1.8295 - val_accuracy: 0.5957\n",
            "\n",
            "Epoch 00061: val_accuracy did not improve from 0.62621\n",
            "Epoch 62/200\n",
            "156/156 [==============================] - 1s 9ms/step - loss: 0.2366 - accuracy: 0.8399 - val_loss: 1.8575 - val_accuracy: 0.6045\n",
            "\n",
            "Epoch 00062: val_accuracy did not improve from 0.62621\n",
            "Epoch 63/200\n",
            "156/156 [==============================] - 1s 9ms/step - loss: 0.2330 - accuracy: 0.8438 - val_loss: 2.1005 - val_accuracy: 0.5571\n",
            "\n",
            "Epoch 00063: val_accuracy did not improve from 0.62621\n",
            "Epoch 64/200\n",
            "156/156 [==============================] - 1s 9ms/step - loss: 0.2255 - accuracy: 0.8452 - val_loss: 1.8869 - val_accuracy: 0.5876\n",
            "\n",
            "Epoch 00064: val_accuracy did not improve from 0.62621\n",
            "Epoch 65/200\n",
            "156/156 [==============================] - 1s 9ms/step - loss: 0.2185 - accuracy: 0.8613 - val_loss: 1.9335 - val_accuracy: 0.5941\n",
            "\n",
            "Epoch 00065: val_accuracy did not improve from 0.62621\n",
            "Epoch 66/200\n",
            "156/156 [==============================] - 1s 9ms/step - loss: 0.2226 - accuracy: 0.8511 - val_loss: 1.9121 - val_accuracy: 0.5900\n",
            "\n",
            "Epoch 00066: val_accuracy did not improve from 0.62621\n",
            "Epoch 67/200\n",
            "156/156 [==============================] - 1s 9ms/step - loss: 0.2205 - accuracy: 0.8549 - val_loss: 1.9878 - val_accuracy: 0.6101\n",
            "\n",
            "Epoch 00067: val_accuracy did not improve from 0.62621\n",
            "Epoch 68/200\n",
            "156/156 [==============================] - 1s 9ms/step - loss: 0.2241 - accuracy: 0.8529 - val_loss: 1.9958 - val_accuracy: 0.5973\n",
            "\n",
            "Epoch 00068: val_accuracy did not improve from 0.62621\n",
            "Epoch 69/200\n",
            "156/156 [==============================] - 1s 9ms/step - loss: 0.2249 - accuracy: 0.8673 - val_loss: 1.9326 - val_accuracy: 0.5997\n",
            "\n",
            "Epoch 00069: val_accuracy did not improve from 0.62621\n",
            "Epoch 70/200\n",
            "156/156 [==============================] - 1s 9ms/step - loss: 0.2007 - accuracy: 0.8635 - val_loss: 2.0080 - val_accuracy: 0.6013\n",
            "\n",
            "Epoch 00070: val_accuracy did not improve from 0.62621\n",
            "Epoch 71/200\n",
            "156/156 [==============================] - 1s 9ms/step - loss: 0.2178 - accuracy: 0.8613 - val_loss: 2.0316 - val_accuracy: 0.5788\n",
            "\n",
            "Epoch 00071: val_accuracy did not improve from 0.62621\n",
            "Epoch 72/200\n",
            "156/156 [==============================] - 1s 9ms/step - loss: 0.1914 - accuracy: 0.8784 - val_loss: 1.9898 - val_accuracy: 0.5997\n",
            "\n",
            "Epoch 00072: val_accuracy did not improve from 0.62621\n",
            "Epoch 73/200\n",
            "156/156 [==============================] - 1s 9ms/step - loss: 0.1835 - accuracy: 0.8762 - val_loss: 2.0406 - val_accuracy: 0.6037\n",
            "\n",
            "Epoch 00073: val_accuracy did not improve from 0.62621\n",
            "Epoch 74/200\n",
            "156/156 [==============================] - 1s 9ms/step - loss: 0.1823 - accuracy: 0.8729 - val_loss: 2.0065 - val_accuracy: 0.5924\n",
            "\n",
            "Epoch 00074: val_accuracy did not improve from 0.62621\n",
            "Epoch 75/200\n",
            "156/156 [==============================] - 1s 9ms/step - loss: 0.2242 - accuracy: 0.8773 - val_loss: 1.8688 - val_accuracy: 0.6166\n",
            "\n",
            "Epoch 00075: val_accuracy did not improve from 0.62621\n",
            "Epoch 76/200\n",
            "156/156 [==============================] - 1s 9ms/step - loss: 0.1913 - accuracy: 0.8783 - val_loss: 2.0311 - val_accuracy: 0.6166\n",
            "\n",
            "Epoch 00076: val_accuracy did not improve from 0.62621\n",
            "Epoch 77/200\n",
            "156/156 [==============================] - 1s 9ms/step - loss: 0.2038 - accuracy: 0.8762 - val_loss: 2.0767 - val_accuracy: 0.5924\n",
            "\n",
            "Epoch 00077: val_accuracy did not improve from 0.62621\n",
            "Epoch 78/200\n",
            "156/156 [==============================] - 1s 9ms/step - loss: 0.1843 - accuracy: 0.8734 - val_loss: 1.8210 - val_accuracy: 0.6214\n",
            "\n",
            "Epoch 00078: val_accuracy did not improve from 0.62621\n",
            "Epoch 79/200\n",
            "156/156 [==============================] - 1s 10ms/step - loss: 0.1989 - accuracy: 0.8670 - val_loss: 1.9809 - val_accuracy: 0.6109\n",
            "\n",
            "Epoch 00079: val_accuracy did not improve from 0.62621\n",
            "Epoch 80/200\n",
            "156/156 [==============================] - 1s 9ms/step - loss: 0.1949 - accuracy: 0.8751 - val_loss: 1.9886 - val_accuracy: 0.5892\n",
            "\n",
            "Epoch 00080: val_accuracy did not improve from 0.62621\n",
            "Epoch 81/200\n",
            "156/156 [==============================] - 1s 9ms/step - loss: 0.1847 - accuracy: 0.8815 - val_loss: 1.9490 - val_accuracy: 0.5989\n",
            "\n",
            "Epoch 00081: val_accuracy did not improve from 0.62621\n",
            "Epoch 82/200\n",
            "156/156 [==============================] - 1s 9ms/step - loss: 0.1788 - accuracy: 0.8696 - val_loss: 1.9199 - val_accuracy: 0.6383\n",
            "\n",
            "Epoch 00082: val_accuracy improved from 0.62621 to 0.63826, saving model to /content/drive/MyDrive/Colab Notebooks/NLP Projects/EACL 2021- Shared Tasks/Offensive Language/prt_ka_BiLSTMModel.h5\n",
            "Epoch 83/200\n",
            "156/156 [==============================] - 1s 9ms/step - loss: 0.1460 - accuracy: 0.8976 - val_loss: 1.9769 - val_accuracy: 0.6125\n",
            "\n",
            "Epoch 00083: val_accuracy did not improve from 0.63826\n",
            "Epoch 84/200\n",
            "156/156 [==============================] - 1s 9ms/step - loss: 0.1541 - accuracy: 0.8852 - val_loss: 2.0381 - val_accuracy: 0.6037\n",
            "\n",
            "Epoch 00084: val_accuracy did not improve from 0.63826\n",
            "Epoch 85/200\n",
            "156/156 [==============================] - 1s 9ms/step - loss: 0.1741 - accuracy: 0.8776 - val_loss: 2.0642 - val_accuracy: 0.6061\n",
            "\n",
            "Epoch 00085: val_accuracy did not improve from 0.63826\n",
            "Epoch 86/200\n",
            "156/156 [==============================] - 1s 9ms/step - loss: 0.1561 - accuracy: 0.8930 - val_loss: 2.1154 - val_accuracy: 0.5916\n",
            "\n",
            "Epoch 00086: val_accuracy did not improve from 0.63826\n",
            "Epoch 87/200\n",
            "156/156 [==============================] - 1s 9ms/step - loss: 0.1577 - accuracy: 0.8936 - val_loss: 2.1380 - val_accuracy: 0.6117\n",
            "\n",
            "Epoch 00087: val_accuracy did not improve from 0.63826\n",
            "Epoch 88/200\n",
            "156/156 [==============================] - 1s 9ms/step - loss: 0.1558 - accuracy: 0.8814 - val_loss: 2.1864 - val_accuracy: 0.6262\n",
            "\n",
            "Epoch 00088: val_accuracy did not improve from 0.63826\n",
            "Epoch 89/200\n",
            "156/156 [==============================] - 1s 9ms/step - loss: 0.1486 - accuracy: 0.9130 - val_loss: 2.1023 - val_accuracy: 0.6158\n",
            "\n",
            "Epoch 00089: val_accuracy did not improve from 0.63826\n",
            "Epoch 90/200\n",
            "156/156 [==============================] - 1s 9ms/step - loss: 0.1587 - accuracy: 0.8976 - val_loss: 2.1016 - val_accuracy: 0.5989\n",
            "\n",
            "Epoch 00090: val_accuracy did not improve from 0.63826\n",
            "Epoch 91/200\n",
            "156/156 [==============================] - 1s 9ms/step - loss: 0.1790 - accuracy: 0.8849 - val_loss: 2.0777 - val_accuracy: 0.5997\n",
            "\n",
            "Epoch 00091: val_accuracy did not improve from 0.63826\n",
            "Epoch 92/200\n",
            "156/156 [==============================] - 1s 9ms/step - loss: 0.1606 - accuracy: 0.9056 - val_loss: 2.1579 - val_accuracy: 0.6174\n",
            "\n",
            "Epoch 00092: val_accuracy did not improve from 0.63826\n",
            "Epoch 93/200\n",
            "156/156 [==============================] - 1s 9ms/step - loss: 0.1555 - accuracy: 0.8999 - val_loss: 2.1792 - val_accuracy: 0.6214\n",
            "\n",
            "Epoch 00093: val_accuracy did not improve from 0.63826\n",
            "Epoch 94/200\n",
            "156/156 [==============================] - 1s 9ms/step - loss: 0.1581 - accuracy: 0.8971 - val_loss: 2.2260 - val_accuracy: 0.6270\n",
            "\n",
            "Epoch 00094: val_accuracy did not improve from 0.63826\n",
            "Epoch 95/200\n",
            "156/156 [==============================] - 1s 9ms/step - loss: 0.1317 - accuracy: 0.9096 - val_loss: 2.3012 - val_accuracy: 0.6053\n",
            "\n",
            "Epoch 00095: val_accuracy did not improve from 0.63826\n",
            "Epoch 96/200\n",
            "156/156 [==============================] - 1s 9ms/step - loss: 0.1505 - accuracy: 0.9027 - val_loss: 2.2578 - val_accuracy: 0.6174\n",
            "\n",
            "Epoch 00096: val_accuracy did not improve from 0.63826\n",
            "Epoch 97/200\n",
            "156/156 [==============================] - 1s 9ms/step - loss: 0.1488 - accuracy: 0.9106 - val_loss: 2.2374 - val_accuracy: 0.5748\n",
            "\n",
            "Epoch 00097: val_accuracy did not improve from 0.63826\n",
            "Epoch 98/200\n",
            "156/156 [==============================] - 2s 10ms/step - loss: 0.2121 - accuracy: 0.8758 - val_loss: 1.9211 - val_accuracy: 0.6190\n",
            "\n",
            "Epoch 00098: val_accuracy did not improve from 0.63826\n",
            "Epoch 99/200\n",
            "156/156 [==============================] - 1s 10ms/step - loss: 0.1747 - accuracy: 0.8956 - val_loss: 2.0902 - val_accuracy: 0.6294\n",
            "\n",
            "Epoch 00099: val_accuracy did not improve from 0.63826\n",
            "Epoch 100/200\n",
            "156/156 [==============================] - 1s 10ms/step - loss: 0.1366 - accuracy: 0.9021 - val_loss: 2.1408 - val_accuracy: 0.6029\n",
            "\n",
            "Epoch 00100: val_accuracy did not improve from 0.63826\n",
            "Epoch 101/200\n",
            "156/156 [==============================] - 2s 10ms/step - loss: 0.1555 - accuracy: 0.8909 - val_loss: 2.1435 - val_accuracy: 0.6150\n",
            "\n",
            "Epoch 00101: val_accuracy did not improve from 0.63826\n",
            "Epoch 102/200\n",
            "156/156 [==============================] - 1s 10ms/step - loss: 0.1361 - accuracy: 0.9120 - val_loss: 2.1508 - val_accuracy: 0.6262\n",
            "\n",
            "Epoch 00102: val_accuracy did not improve from 0.63826\n",
            "Epoch 103/200\n",
            "156/156 [==============================] - 1s 9ms/step - loss: 0.1363 - accuracy: 0.9146 - val_loss: 2.1942 - val_accuracy: 0.6174\n",
            "\n",
            "Epoch 00103: val_accuracy did not improve from 0.63826\n",
            "Epoch 104/200\n",
            "156/156 [==============================] - 1s 9ms/step - loss: 0.1300 - accuracy: 0.9083 - val_loss: 2.2152 - val_accuracy: 0.6302\n",
            "\n",
            "Epoch 00104: val_accuracy did not improve from 0.63826\n",
            "Epoch 105/200\n",
            "156/156 [==============================] - 1s 9ms/step - loss: 0.1502 - accuracy: 0.9168 - val_loss: 2.2262 - val_accuracy: 0.6061\n",
            "\n",
            "Epoch 00105: val_accuracy did not improve from 0.63826\n",
            "Epoch 106/200\n",
            "156/156 [==============================] - 1s 9ms/step - loss: 0.1563 - accuracy: 0.9038 - val_loss: 2.2299 - val_accuracy: 0.6190\n",
            "\n",
            "Epoch 00106: val_accuracy did not improve from 0.63826\n",
            "Epoch 107/200\n",
            "156/156 [==============================] - 1s 9ms/step - loss: 0.1262 - accuracy: 0.9138 - val_loss: 2.2481 - val_accuracy: 0.6222\n",
            "\n",
            "Epoch 00107: val_accuracy did not improve from 0.63826\n",
            "Epoch 108/200\n",
            "156/156 [==============================] - 1s 9ms/step - loss: 0.1406 - accuracy: 0.9179 - val_loss: 2.2123 - val_accuracy: 0.6141\n",
            "\n",
            "Epoch 00108: val_accuracy did not improve from 0.63826\n",
            "Epoch 109/200\n",
            "156/156 [==============================] - 1s 9ms/step - loss: 0.1286 - accuracy: 0.9129 - val_loss: 2.1857 - val_accuracy: 0.6350\n",
            "\n",
            "Epoch 00109: val_accuracy did not improve from 0.63826\n",
            "Epoch 110/200\n",
            "156/156 [==============================] - 1s 9ms/step - loss: 0.1312 - accuracy: 0.9109 - val_loss: 2.1882 - val_accuracy: 0.6222\n",
            "\n",
            "Epoch 00110: val_accuracy did not improve from 0.63826\n",
            "Epoch 111/200\n",
            "156/156 [==============================] - 1s 9ms/step - loss: 0.1350 - accuracy: 0.9152 - val_loss: 2.1572 - val_accuracy: 0.6150\n",
            "\n",
            "Epoch 00111: val_accuracy did not improve from 0.63826\n",
            "Epoch 112/200\n",
            "156/156 [==============================] - 1s 9ms/step - loss: 0.1261 - accuracy: 0.9197 - val_loss: 2.2389 - val_accuracy: 0.6117\n",
            "\n",
            "Epoch 00112: val_accuracy did not improve from 0.63826\n",
            "Epoch 113/200\n",
            "156/156 [==============================] - 1s 9ms/step - loss: 0.1334 - accuracy: 0.9136 - val_loss: 2.2087 - val_accuracy: 0.6182\n",
            "\n",
            "Epoch 00113: val_accuracy did not improve from 0.63826\n",
            "Epoch 114/200\n",
            "156/156 [==============================] - 1s 9ms/step - loss: 0.1295 - accuracy: 0.9136 - val_loss: 2.2731 - val_accuracy: 0.6318\n",
            "\n",
            "Epoch 00114: val_accuracy did not improve from 0.63826\n",
            "Epoch 115/200\n",
            "156/156 [==============================] - 1s 9ms/step - loss: 0.1208 - accuracy: 0.9177 - val_loss: 2.1958 - val_accuracy: 0.6222\n",
            "\n",
            "Epoch 00115: val_accuracy did not improve from 0.63826\n",
            "Epoch 116/200\n",
            "156/156 [==============================] - 1s 10ms/step - loss: 0.1199 - accuracy: 0.9231 - val_loss: 2.3574 - val_accuracy: 0.6069\n",
            "\n",
            "Epoch 00116: val_accuracy did not improve from 0.63826\n",
            "Epoch 117/200\n",
            "156/156 [==============================] - 1s 9ms/step - loss: 0.1395 - accuracy: 0.9114 - val_loss: 2.2367 - val_accuracy: 0.6141\n",
            "\n",
            "Epoch 00117: val_accuracy did not improve from 0.63826\n",
            "Epoch 118/200\n",
            "156/156 [==============================] - 1s 9ms/step - loss: 0.1182 - accuracy: 0.9173 - val_loss: 2.2491 - val_accuracy: 0.6447\n",
            "\n",
            "Epoch 00118: val_accuracy improved from 0.63826 to 0.64469, saving model to /content/drive/MyDrive/Colab Notebooks/NLP Projects/EACL 2021- Shared Tasks/Offensive Language/prt_ka_BiLSTMModel.h5\n",
            "Epoch 119/200\n",
            "156/156 [==============================] - 1s 9ms/step - loss: 0.1260 - accuracy: 0.9179 - val_loss: 2.3647 - val_accuracy: 0.6141\n",
            "\n",
            "Epoch 00119: val_accuracy did not improve from 0.64469\n",
            "Epoch 120/200\n",
            "156/156 [==============================] - 1s 9ms/step - loss: 0.1262 - accuracy: 0.9126 - val_loss: 2.3062 - val_accuracy: 0.6342\n",
            "\n",
            "Epoch 00120: val_accuracy did not improve from 0.64469\n",
            "Epoch 121/200\n",
            "156/156 [==============================] - 1s 9ms/step - loss: 0.1142 - accuracy: 0.9214 - val_loss: 2.3677 - val_accuracy: 0.6141\n",
            "\n",
            "Epoch 00121: val_accuracy did not improve from 0.64469\n",
            "Epoch 122/200\n",
            "156/156 [==============================] - 1s 9ms/step - loss: 0.1296 - accuracy: 0.9161 - val_loss: 2.4832 - val_accuracy: 0.6318\n",
            "\n",
            "Epoch 00122: val_accuracy did not improve from 0.64469\n",
            "Epoch 123/200\n",
            "156/156 [==============================] - 1s 9ms/step - loss: 0.1126 - accuracy: 0.9323 - val_loss: 2.4208 - val_accuracy: 0.6182\n",
            "\n",
            "Epoch 00123: val_accuracy did not improve from 0.64469\n",
            "Epoch 124/200\n",
            "156/156 [==============================] - 1s 9ms/step - loss: 0.1229 - accuracy: 0.9207 - val_loss: 2.3063 - val_accuracy: 0.6342\n",
            "\n",
            "Epoch 00124: val_accuracy did not improve from 0.64469\n",
            "Epoch 125/200\n",
            "156/156 [==============================] - 1s 9ms/step - loss: 0.1373 - accuracy: 0.9124 - val_loss: 2.1531 - val_accuracy: 0.5989\n",
            "\n",
            "Epoch 00125: val_accuracy did not improve from 0.64469\n",
            "Epoch 126/200\n",
            "156/156 [==============================] - 1s 9ms/step - loss: 0.1712 - accuracy: 0.8835 - val_loss: 2.2435 - val_accuracy: 0.6222\n",
            "\n",
            "Epoch 00126: val_accuracy did not improve from 0.64469\n",
            "Epoch 127/200\n",
            "156/156 [==============================] - 1s 9ms/step - loss: 0.1331 - accuracy: 0.9199 - val_loss: 2.2280 - val_accuracy: 0.6085\n",
            "\n",
            "Epoch 00127: val_accuracy did not improve from 0.64469\n",
            "Epoch 128/200\n",
            "156/156 [==============================] - 1s 9ms/step - loss: 0.1100 - accuracy: 0.9198 - val_loss: 2.2281 - val_accuracy: 0.6125\n",
            "\n",
            "Epoch 00128: val_accuracy did not improve from 0.64469\n",
            "Epoch 129/200\n",
            "156/156 [==============================] - 1s 9ms/step - loss: 0.1392 - accuracy: 0.9142 - val_loss: 2.2777 - val_accuracy: 0.6093\n",
            "\n",
            "Epoch 00129: val_accuracy did not improve from 0.64469\n",
            "Epoch 130/200\n",
            "156/156 [==============================] - 1s 9ms/step - loss: 0.1173 - accuracy: 0.9228 - val_loss: 2.3362 - val_accuracy: 0.6334\n",
            "\n",
            "Epoch 00130: val_accuracy did not improve from 0.64469\n",
            "Epoch 131/200\n",
            "156/156 [==============================] - 1s 9ms/step - loss: 0.1231 - accuracy: 0.9224 - val_loss: 2.3981 - val_accuracy: 0.6318\n",
            "\n",
            "Epoch 00131: val_accuracy did not improve from 0.64469\n",
            "Epoch 132/200\n",
            "156/156 [==============================] - 1s 9ms/step - loss: 0.1037 - accuracy: 0.9369 - val_loss: 2.3804 - val_accuracy: 0.6085\n",
            "\n",
            "Epoch 00132: val_accuracy did not improve from 0.64469\n",
            "Epoch 133/200\n",
            "156/156 [==============================] - 1s 9ms/step - loss: 0.1161 - accuracy: 0.9268 - val_loss: 2.4228 - val_accuracy: 0.6133\n",
            "\n",
            "Epoch 00133: val_accuracy did not improve from 0.64469\n",
            "Epoch 134/200\n",
            "156/156 [==============================] - 1s 9ms/step - loss: 0.1162 - accuracy: 0.9193 - val_loss: 2.4976 - val_accuracy: 0.6318\n",
            "\n",
            "Epoch 00134: val_accuracy did not improve from 0.64469\n",
            "Epoch 135/200\n",
            "156/156 [==============================] - 1s 9ms/step - loss: 0.1118 - accuracy: 0.9239 - val_loss: 2.4990 - val_accuracy: 0.6375\n",
            "\n",
            "Epoch 00135: val_accuracy did not improve from 0.64469\n",
            "Epoch 136/200\n",
            "156/156 [==============================] - 1s 9ms/step - loss: 0.1002 - accuracy: 0.9324 - val_loss: 2.4705 - val_accuracy: 0.6246\n",
            "\n",
            "Epoch 00136: val_accuracy did not improve from 0.64469\n",
            "Epoch 137/200\n",
            "156/156 [==============================] - 1s 9ms/step - loss: 0.1201 - accuracy: 0.9182 - val_loss: 2.4038 - val_accuracy: 0.6608\n",
            "\n",
            "Epoch 00137: val_accuracy improved from 0.64469 to 0.66077, saving model to /content/drive/MyDrive/Colab Notebooks/NLP Projects/EACL 2021- Shared Tasks/Offensive Language/prt_ka_BiLSTMModel.h5\n",
            "Epoch 138/200\n",
            "156/156 [==============================] - 1s 9ms/step - loss: 0.0973 - accuracy: 0.9293 - val_loss: 2.5481 - val_accuracy: 0.6214\n",
            "\n",
            "Epoch 00138: val_accuracy did not improve from 0.66077\n",
            "Epoch 139/200\n",
            "156/156 [==============================] - 1s 9ms/step - loss: 0.1079 - accuracy: 0.9237 - val_loss: 2.6259 - val_accuracy: 0.6125\n",
            "\n",
            "Epoch 00139: val_accuracy did not improve from 0.66077\n",
            "Epoch 140/200\n",
            "156/156 [==============================] - 1s 9ms/step - loss: 0.1208 - accuracy: 0.9223 - val_loss: 2.5901 - val_accuracy: 0.6238\n",
            "\n",
            "Epoch 00140: val_accuracy did not improve from 0.66077\n",
            "Epoch 141/200\n",
            "156/156 [==============================] - 1s 9ms/step - loss: 0.1131 - accuracy: 0.9235 - val_loss: 2.5330 - val_accuracy: 0.6222\n",
            "\n",
            "Epoch 00141: val_accuracy did not improve from 0.66077\n",
            "Epoch 142/200\n",
            "156/156 [==============================] - 1s 9ms/step - loss: 0.1286 - accuracy: 0.9233 - val_loss: 2.5042 - val_accuracy: 0.6415\n",
            "\n",
            "Epoch 00142: val_accuracy did not improve from 0.66077\n",
            "Epoch 143/200\n",
            "156/156 [==============================] - 1s 9ms/step - loss: 0.1113 - accuracy: 0.9314 - val_loss: 2.4856 - val_accuracy: 0.6471\n",
            "\n",
            "Epoch 00143: val_accuracy did not improve from 0.66077\n",
            "Epoch 144/200\n",
            "156/156 [==============================] - 2s 10ms/step - loss: 0.1082 - accuracy: 0.9350 - val_loss: 2.5202 - val_accuracy: 0.6487\n",
            "\n",
            "Epoch 00144: val_accuracy did not improve from 0.66077\n",
            "Epoch 145/200\n",
            "156/156 [==============================] - 1s 10ms/step - loss: 0.1025 - accuracy: 0.9355 - val_loss: 2.6142 - val_accuracy: 0.6005\n",
            "\n",
            "Epoch 00145: val_accuracy did not improve from 0.66077\n",
            "Epoch 146/200\n",
            "156/156 [==============================] - 1s 9ms/step - loss: 0.0955 - accuracy: 0.9311 - val_loss: 2.4835 - val_accuracy: 0.6367\n",
            "\n",
            "Epoch 00146: val_accuracy did not improve from 0.66077\n",
            "Epoch 147/200\n",
            "156/156 [==============================] - 1s 9ms/step - loss: 0.0928 - accuracy: 0.9398 - val_loss: 2.4850 - val_accuracy: 0.6286\n",
            "\n",
            "Epoch 00147: val_accuracy did not improve from 0.66077\n",
            "Epoch 148/200\n",
            "156/156 [==============================] - 1s 9ms/step - loss: 0.1227 - accuracy: 0.9187 - val_loss: 2.6074 - val_accuracy: 0.6455\n",
            "\n",
            "Epoch 00148: val_accuracy did not improve from 0.66077\n",
            "Epoch 149/200\n",
            "156/156 [==============================] - 1s 9ms/step - loss: 0.1450 - accuracy: 0.9215 - val_loss: 2.4016 - val_accuracy: 0.6399\n",
            "\n",
            "Epoch 00149: val_accuracy did not improve from 0.66077\n",
            "Epoch 150/200\n",
            "156/156 [==============================] - 1s 9ms/step - loss: 0.0915 - accuracy: 0.9457 - val_loss: 2.4329 - val_accuracy: 0.6262\n",
            "\n",
            "Epoch 00150: val_accuracy did not improve from 0.66077\n",
            "Epoch 151/200\n",
            "156/156 [==============================] - 1s 9ms/step - loss: 0.1119 - accuracy: 0.9255 - val_loss: 2.4227 - val_accuracy: 0.6246\n",
            "\n",
            "Epoch 00151: val_accuracy did not improve from 0.66077\n",
            "Epoch 152/200\n",
            "156/156 [==============================] - 1s 9ms/step - loss: 0.1109 - accuracy: 0.9318 - val_loss: 2.5499 - val_accuracy: 0.6174\n",
            "\n",
            "Epoch 00152: val_accuracy did not improve from 0.66077\n",
            "Epoch 153/200\n",
            "156/156 [==============================] - 1s 9ms/step - loss: 0.1220 - accuracy: 0.9207 - val_loss: 2.5019 - val_accuracy: 0.6375\n",
            "\n",
            "Epoch 00153: val_accuracy did not improve from 0.66077\n",
            "Epoch 154/200\n",
            "156/156 [==============================] - 1s 9ms/step - loss: 0.1008 - accuracy: 0.9342 - val_loss: 2.5478 - val_accuracy: 0.6190\n",
            "\n",
            "Epoch 00154: val_accuracy did not improve from 0.66077\n",
            "Epoch 155/200\n",
            "156/156 [==============================] - 1s 9ms/step - loss: 0.1096 - accuracy: 0.9297 - val_loss: 2.5898 - val_accuracy: 0.6117\n",
            "\n",
            "Epoch 00155: val_accuracy did not improve from 0.66077\n",
            "Epoch 156/200\n",
            "156/156 [==============================] - 1s 9ms/step - loss: 0.1161 - accuracy: 0.9226 - val_loss: 2.3784 - val_accuracy: 0.6447\n",
            "\n",
            "Epoch 00156: val_accuracy did not improve from 0.66077\n",
            "Epoch 157/200\n",
            "156/156 [==============================] - 1s 9ms/step - loss: 0.0885 - accuracy: 0.9362 - val_loss: 2.4779 - val_accuracy: 0.6278\n",
            "\n",
            "Epoch 00157: val_accuracy did not improve from 0.66077\n",
            "Epoch 158/200\n",
            "156/156 [==============================] - 1s 9ms/step - loss: 0.1034 - accuracy: 0.9367 - val_loss: 2.4804 - val_accuracy: 0.6375\n",
            "\n",
            "Epoch 00158: val_accuracy did not improve from 0.66077\n",
            "Epoch 159/200\n",
            "156/156 [==============================] - 1s 9ms/step - loss: 0.0945 - accuracy: 0.9454 - val_loss: 2.5884 - val_accuracy: 0.6318\n",
            "\n",
            "Epoch 00159: val_accuracy did not improve from 0.66077\n",
            "Epoch 160/200\n",
            "156/156 [==============================] - 1s 9ms/step - loss: 0.0925 - accuracy: 0.9386 - val_loss: 2.6568 - val_accuracy: 0.6342\n",
            "\n",
            "Epoch 00160: val_accuracy did not improve from 0.66077\n",
            "Epoch 161/200\n",
            "156/156 [==============================] - 1s 9ms/step - loss: 0.0973 - accuracy: 0.9365 - val_loss: 2.7027 - val_accuracy: 0.6334\n",
            "\n",
            "Epoch 00161: val_accuracy did not improve from 0.66077\n",
            "Epoch 162/200\n",
            "156/156 [==============================] - 1s 9ms/step - loss: 0.1139 - accuracy: 0.9310 - val_loss: 2.3774 - val_accuracy: 0.6334\n",
            "\n",
            "Epoch 00162: val_accuracy did not improve from 0.66077\n",
            "Epoch 163/200\n",
            "156/156 [==============================] - 1s 9ms/step - loss: 0.1089 - accuracy: 0.9271 - val_loss: 2.4858 - val_accuracy: 0.6214\n",
            "\n",
            "Epoch 00163: val_accuracy did not improve from 0.66077\n",
            "Epoch 164/200\n",
            "156/156 [==============================] - 1s 9ms/step - loss: 0.1080 - accuracy: 0.9287 - val_loss: 2.5013 - val_accuracy: 0.6455\n",
            "\n",
            "Epoch 00164: val_accuracy did not improve from 0.66077\n",
            "Epoch 165/200\n",
            "156/156 [==============================] - 1s 9ms/step - loss: 0.0948 - accuracy: 0.9440 - val_loss: 2.6768 - val_accuracy: 0.6318\n",
            "\n",
            "Epoch 00165: val_accuracy did not improve from 0.66077\n",
            "Epoch 166/200\n",
            "156/156 [==============================] - 1s 9ms/step - loss: 0.1286 - accuracy: 0.9282 - val_loss: 2.4115 - val_accuracy: 0.6431\n",
            "\n",
            "Epoch 00166: val_accuracy did not improve from 0.66077\n",
            "Epoch 167/200\n",
            "156/156 [==============================] - 1s 9ms/step - loss: 0.0970 - accuracy: 0.9309 - val_loss: 2.4534 - val_accuracy: 0.6270\n",
            "\n",
            "Epoch 00167: val_accuracy did not improve from 0.66077\n",
            "Epoch 168/200\n",
            "156/156 [==============================] - 1s 10ms/step - loss: 0.1055 - accuracy: 0.9330 - val_loss: 2.4468 - val_accuracy: 0.6367\n",
            "\n",
            "Epoch 00168: val_accuracy did not improve from 0.66077\n",
            "Epoch 169/200\n",
            "156/156 [==============================] - 1s 9ms/step - loss: 0.0976 - accuracy: 0.9350 - val_loss: 2.4581 - val_accuracy: 0.6431\n",
            "\n",
            "Epoch 00169: val_accuracy did not improve from 0.66077\n",
            "Epoch 170/200\n",
            "156/156 [==============================] - 1s 10ms/step - loss: 0.1025 - accuracy: 0.9409 - val_loss: 2.4390 - val_accuracy: 0.6286\n",
            "\n",
            "Epoch 00170: val_accuracy did not improve from 0.66077\n",
            "Epoch 171/200\n",
            "156/156 [==============================] - 1s 9ms/step - loss: 0.1186 - accuracy: 0.9299 - val_loss: 2.3276 - val_accuracy: 0.6310\n",
            "\n",
            "Epoch 00171: val_accuracy did not improve from 0.66077\n",
            "Epoch 172/200\n",
            "156/156 [==============================] - 1s 9ms/step - loss: 0.0982 - accuracy: 0.9285 - val_loss: 2.4581 - val_accuracy: 0.6286\n",
            "\n",
            "Epoch 00172: val_accuracy did not improve from 0.66077\n",
            "Epoch 173/200\n",
            "156/156 [==============================] - 1s 9ms/step - loss: 0.0831 - accuracy: 0.9383 - val_loss: 2.5584 - val_accuracy: 0.6117\n",
            "\n",
            "Epoch 00173: val_accuracy did not improve from 0.66077\n",
            "Epoch 174/200\n",
            "156/156 [==============================] - 1s 9ms/step - loss: 0.0849 - accuracy: 0.9385 - val_loss: 2.5435 - val_accuracy: 0.6133\n",
            "\n",
            "Epoch 00174: val_accuracy did not improve from 0.66077\n",
            "Epoch 175/200\n",
            "156/156 [==============================] - 1s 9ms/step - loss: 0.0963 - accuracy: 0.9305 - val_loss: 2.6638 - val_accuracy: 0.6286\n",
            "\n",
            "Epoch 00175: val_accuracy did not improve from 0.66077\n",
            "Epoch 176/200\n",
            "156/156 [==============================] - 1s 9ms/step - loss: 0.0944 - accuracy: 0.9375 - val_loss: 2.6178 - val_accuracy: 0.6415\n",
            "\n",
            "Epoch 00176: val_accuracy did not improve from 0.66077\n",
            "Epoch 177/200\n",
            "156/156 [==============================] - 1s 9ms/step - loss: 0.0790 - accuracy: 0.9435 - val_loss: 2.5787 - val_accuracy: 0.6471\n",
            "\n",
            "Epoch 00177: val_accuracy did not improve from 0.66077\n",
            "Epoch 178/200\n",
            "156/156 [==============================] - 1s 9ms/step - loss: 0.0857 - accuracy: 0.9490 - val_loss: 2.5775 - val_accuracy: 0.6270\n",
            "\n",
            "Epoch 00178: val_accuracy did not improve from 0.66077\n",
            "Epoch 179/200\n",
            "156/156 [==============================] - 1s 9ms/step - loss: 0.1262 - accuracy: 0.9259 - val_loss: 2.5333 - val_accuracy: 0.6367\n",
            "\n",
            "Epoch 00179: val_accuracy did not improve from 0.66077\n",
            "Epoch 180/200\n",
            "156/156 [==============================] - 1s 9ms/step - loss: 0.0925 - accuracy: 0.9363 - val_loss: 2.4438 - val_accuracy: 0.6214\n",
            "\n",
            "Epoch 00180: val_accuracy did not improve from 0.66077\n",
            "Epoch 181/200\n",
            "156/156 [==============================] - 1s 9ms/step - loss: 0.1058 - accuracy: 0.9283 - val_loss: 2.5814 - val_accuracy: 0.6101\n",
            "\n",
            "Epoch 00181: val_accuracy did not improve from 0.66077\n",
            "Epoch 182/200\n",
            "156/156 [==============================] - 1s 9ms/step - loss: 0.0902 - accuracy: 0.9440 - val_loss: 2.5883 - val_accuracy: 0.6423\n",
            "\n",
            "Epoch 00182: val_accuracy did not improve from 0.66077\n",
            "Epoch 183/200\n",
            "156/156 [==============================] - 1s 9ms/step - loss: 0.0972 - accuracy: 0.9371 - val_loss: 2.5185 - val_accuracy: 0.6350\n",
            "\n",
            "Epoch 00183: val_accuracy did not improve from 0.66077\n",
            "Epoch 184/200\n",
            "156/156 [==============================] - 1s 9ms/step - loss: 0.0932 - accuracy: 0.9409 - val_loss: 2.5165 - val_accuracy: 0.6085\n",
            "\n",
            "Epoch 00184: val_accuracy did not improve from 0.66077\n",
            "Epoch 185/200\n",
            "156/156 [==============================] - 1s 9ms/step - loss: 0.1021 - accuracy: 0.9355 - val_loss: 2.5203 - val_accuracy: 0.6206\n",
            "\n",
            "Epoch 00185: val_accuracy did not improve from 0.66077\n",
            "Epoch 186/200\n",
            "156/156 [==============================] - 1s 9ms/step - loss: 0.0912 - accuracy: 0.9342 - val_loss: 2.6067 - val_accuracy: 0.6391\n",
            "\n",
            "Epoch 00186: val_accuracy did not improve from 0.66077\n",
            "Epoch 187/200\n",
            "156/156 [==============================] - 1s 9ms/step - loss: 0.0859 - accuracy: 0.9503 - val_loss: 2.6408 - val_accuracy: 0.6238\n",
            "\n",
            "Epoch 00187: val_accuracy did not improve from 0.66077\n",
            "Epoch 188/200\n",
            "156/156 [==============================] - 2s 10ms/step - loss: 0.0850 - accuracy: 0.9401 - val_loss: 2.6311 - val_accuracy: 0.6350\n",
            "\n",
            "Epoch 00188: val_accuracy did not improve from 0.66077\n",
            "Epoch 189/200\n",
            "156/156 [==============================] - 1s 9ms/step - loss: 0.0874 - accuracy: 0.9464 - val_loss: 2.6005 - val_accuracy: 0.6254\n",
            "\n",
            "Epoch 00189: val_accuracy did not improve from 0.66077\n",
            "Epoch 190/200\n",
            "156/156 [==============================] - 1s 9ms/step - loss: 0.0968 - accuracy: 0.9377 - val_loss: 2.7025 - val_accuracy: 0.6318\n",
            "\n",
            "Epoch 00190: val_accuracy did not improve from 0.66077\n",
            "Epoch 191/200\n",
            "156/156 [==============================] - 1s 9ms/step - loss: 0.0861 - accuracy: 0.9442 - val_loss: 2.6815 - val_accuracy: 0.6294\n",
            "\n",
            "Epoch 00191: val_accuracy did not improve from 0.66077\n",
            "Epoch 192/200\n",
            "156/156 [==============================] - 1s 9ms/step - loss: 0.0891 - accuracy: 0.9455 - val_loss: 2.6439 - val_accuracy: 0.6141\n",
            "\n",
            "Epoch 00192: val_accuracy did not improve from 0.66077\n",
            "Epoch 193/200\n",
            "156/156 [==============================] - 1s 9ms/step - loss: 0.0828 - accuracy: 0.9421 - val_loss: 2.6723 - val_accuracy: 0.6286\n",
            "\n",
            "Epoch 00193: val_accuracy did not improve from 0.66077\n",
            "Epoch 194/200\n",
            "156/156 [==============================] - 1s 9ms/step - loss: 0.0839 - accuracy: 0.9420 - val_loss: 2.5735 - val_accuracy: 0.6262\n",
            "\n",
            "Epoch 00194: val_accuracy did not improve from 0.66077\n",
            "Epoch 195/200\n",
            "156/156 [==============================] - 1s 9ms/step - loss: 0.1099 - accuracy: 0.9400 - val_loss: 2.5751 - val_accuracy: 0.6021\n",
            "\n",
            "Epoch 00195: val_accuracy did not improve from 0.66077\n",
            "Epoch 196/200\n",
            "156/156 [==============================] - 1s 9ms/step - loss: 0.1006 - accuracy: 0.9287 - val_loss: 2.5990 - val_accuracy: 0.6334\n",
            "\n",
            "Epoch 00196: val_accuracy did not improve from 0.66077\n",
            "Epoch 197/200\n",
            "156/156 [==============================] - 1s 9ms/step - loss: 0.0790 - accuracy: 0.9492 - val_loss: 2.6974 - val_accuracy: 0.6190\n",
            "\n",
            "Epoch 00197: val_accuracy did not improve from 0.66077\n",
            "Epoch 198/200\n",
            "156/156 [==============================] - 1s 9ms/step - loss: 0.0814 - accuracy: 0.9442 - val_loss: 2.8796 - val_accuracy: 0.6222\n",
            "\n",
            "Epoch 00198: val_accuracy did not improve from 0.66077\n",
            "Epoch 199/200\n",
            "156/156 [==============================] - 1s 9ms/step - loss: 0.1072 - accuracy: 0.9416 - val_loss: 2.7216 - val_accuracy: 0.6286\n",
            "\n",
            "Epoch 00199: val_accuracy did not improve from 0.66077\n",
            "Epoch 200/200\n",
            "156/156 [==============================] - 1s 9ms/step - loss: 0.0977 - accuracy: 0.9396 - val_loss: 2.6153 - val_accuracy: 0.6415\n",
            "\n",
            "Epoch 00200: val_accuracy did not improve from 0.66077\n"
          ],
          "name": "stdout"
        }
      ]
    },
    {
      "cell_type": "code",
      "metadata": {
        "colab": {
          "base_uri": "https://localhost:8080/"
        },
        "id": "Clb5OD53D3GG",
        "outputId": "a1e43231-6d47-4318-8f05-04c9dc1fb3e2"
      },
      "source": [
        "# Load the saved model\n",
        "model = load_model(folder_path+'prt_ka_BiLSTMModel.h5')\n",
        "# prediction\n",
        "y_pred = np.argmax(model.predict(validation_pad_sequences), axis=-1)\n",
        "print_metrices(valid_data['enc_label'],y_pred)\n"
      ],
      "execution_count": null,
      "outputs": [
        {
          "output_type": "stream",
          "text": [
            "[[318  72  14  11   9   2]\n",
            " [ 49 133   4   1   4   0]\n",
            " [ 17   7  28   4   8   2]\n",
            " [ 18   8   2   1   1   3]\n",
            " [ 23   4   4   2   7   5]\n",
            " [  9   2   1   1   1   2]]\n",
            "              precision    recall  f1-score   support\n",
            "\n",
            "           0       0.73      0.75      0.74       426\n",
            "           1       0.59      0.70      0.64       191\n",
            "           2       0.53      0.42      0.47        66\n",
            "           3       0.05      0.03      0.04        33\n",
            "           4       0.23      0.16      0.19        45\n",
            "           5       0.14      0.12      0.13        16\n",
            "\n",
            "    accuracy                           0.63       777\n",
            "   macro avg       0.38      0.36      0.37       777\n",
            "weighted avg       0.61      0.63      0.62       777\n",
            "\n",
            "Accuracy :  0.6293436293436293\n",
            "Precison :  0.6098385360736153\n",
            "Recall :  0.6293436293436293\n",
            "F1 :  0.6173954064380499\n"
          ],
          "name": "stdout"
        }
      ]
    },
    {
      "cell_type": "code",
      "metadata": {
        "id": "oMorNls_D3GG"
      },
      "source": [
        "test_pred = np.argmax(model.predict(test_pad_sequences), axis=-1).tolist()"
      ],
      "execution_count": null,
      "outputs": []
    },
    {
      "cell_type": "code",
      "metadata": {
        "colab": {
          "base_uri": "https://localhost:8080/",
          "height": 407
        },
        "id": "mvvL4k3HD3GG",
        "outputId": "6208622e-2f01-4c7b-c3ac-9780c4d5e95c"
      },
      "source": [
        "test_data['id'] = test_data.index + 1\n",
        "run = pd.DataFrame(test_data['id'])\n",
        "run['text'] = test_data['text']\n",
        "run['label'] = test_pred\n",
        "run['label'] = run['label'].apply(actual_label)\n",
        "run \n"
      ],
      "execution_count": null,
      "outputs": [
        {
          "output_type": "execute_result",
          "data": {
            "text/html": [
              "<div>\n",
              "<style scoped>\n",
              "    .dataframe tbody tr th:only-of-type {\n",
              "        vertical-align: middle;\n",
              "    }\n",
              "\n",
              "    .dataframe tbody tr th {\n",
              "        vertical-align: top;\n",
              "    }\n",
              "\n",
              "    .dataframe thead th {\n",
              "        text-align: right;\n",
              "    }\n",
              "</style>\n",
              "<table border=\"1\" class=\"dataframe\">\n",
              "  <thead>\n",
              "    <tr style=\"text-align: right;\">\n",
              "      <th></th>\n",
              "      <th>id</th>\n",
              "      <th>text</th>\n",
              "      <th>label</th>\n",
              "    </tr>\n",
              "  </thead>\n",
              "  <tbody>\n",
              "    <tr>\n",
              "      <th>0</th>\n",
              "      <td>1</td>\n",
              "      <td>ಜೈ ಮೋರಿ ಜೈ ರೋಗಿ ಇಸ್ಲಾಂ ಸಾಯಿಸಿ ಇದೆ ಇವರ ಗುರಿ</td>\n",
              "      <td>Not_offensive</td>\n",
              "    </tr>\n",
              "    <tr>\n",
              "      <th>1</th>\n",
              "      <td>2</td>\n",
              "      <td>Anna nim e vedio nodinu mathe chaina apps use ...</td>\n",
              "      <td>Offensive_Untargetede</td>\n",
              "    </tr>\n",
              "    <tr>\n",
              "      <th>2</th>\n",
              "      <td>3</td>\n",
              "      <td>Super anna yenu thappila yela sari agi hellidi...</td>\n",
              "      <td>Not_offensive</td>\n",
              "    </tr>\n",
              "    <tr>\n",
              "      <th>3</th>\n",
              "      <td>4</td>\n",
              "      <td>Super sir super super super super</td>\n",
              "      <td>Not_offensive</td>\n",
              "    </tr>\n",
              "    <tr>\n",
              "      <th>4</th>\n",
              "      <td>5</td>\n",
              "      <td>AGT-KELU (KANNADA RAP 2019)</td>\n",
              "      <td>Not_offensive</td>\n",
              "    </tr>\n",
              "    <tr>\n",
              "      <th>...</th>\n",
              "      <td>...</td>\n",
              "      <td>...</td>\n",
              "      <td>...</td>\n",
              "    </tr>\n",
              "    <tr>\n",
              "      <th>773</th>\n",
              "      <td>774</td>\n",
              "      <td>Startup start maadalu capacity growth maadalu ...</td>\n",
              "      <td>Not_offensive</td>\n",
              "    </tr>\n",
              "    <tr>\n",
              "      <th>774</th>\n",
              "      <td>775</td>\n",
              "      <td>Rashmika idanna nodi thi*a urkimbeku🤣🤣🤣🤣🤣</td>\n",
              "      <td>Not_offensive</td>\n",
              "    </tr>\n",
              "    <tr>\n",
              "      <th>775</th>\n",
              "      <td>776</td>\n",
              "      <td>I love you sir</td>\n",
              "      <td>Offensive_Targeted_Insult_Group</td>\n",
              "    </tr>\n",
              "    <tr>\n",
              "      <th>776</th>\n",
              "      <td>777</td>\n",
              "      <td>ನೋಡ್ತಾ ಹೋದ್ರೆ ಸಾವಿರಾರು lyrical video ಗಳು</td>\n",
              "      <td>Offensive_Targeted_Insult_Other</td>\n",
              "    </tr>\n",
              "    <tr>\n",
              "      <th>777</th>\n",
              "      <td>778</td>\n",
              "      <td>ಸಖತ್ ಟ್ರೋಲ್ ಬ್ರದರ್ nಬ್ರೊ ಈ ಗೇಮ್ ನೇಮ್ ಹೇಳಿ</td>\n",
              "      <td>Not_offensive</td>\n",
              "    </tr>\n",
              "  </tbody>\n",
              "</table>\n",
              "<p>778 rows × 3 columns</p>\n",
              "</div>"
            ],
            "text/plain": [
              "      id  ...                            label\n",
              "0      1  ...                    Not_offensive\n",
              "1      2  ...            Offensive_Untargetede\n",
              "2      3  ...                    Not_offensive\n",
              "3      4  ...                    Not_offensive\n",
              "4      5  ...                    Not_offensive\n",
              "..   ...  ...                              ...\n",
              "773  774  ...                    Not_offensive\n",
              "774  775  ...                    Not_offensive\n",
              "775  776  ...  Offensive_Targeted_Insult_Group\n",
              "776  777  ...  Offensive_Targeted_Insult_Other\n",
              "777  778  ...                    Not_offensive\n",
              "\n",
              "[778 rows x 3 columns]"
            ]
          },
          "metadata": {
            "tags": []
          },
          "execution_count": 68
        }
      ]
    },
    {
      "cell_type": "code",
      "metadata": {
        "id": "Q6qsEpJ3D3GH"
      },
      "source": [
        "run.to_csv(folder_path +'kannada_bilstm+fasttext.csv',index = False)"
      ],
      "execution_count": null,
      "outputs": []
    },
    {
      "cell_type": "markdown",
      "metadata": {
        "id": "AvGJ1r_O-xwb"
      },
      "source": [
        "# Attention"
      ]
    },
    {
      "cell_type": "code",
      "metadata": {
        "id": "eVNxboa8-z07"
      },
      "source": [
        "import tensorflow as tf\n",
        "import tensorflow.keras as keras\n",
        "from tensorflow.keras.preprocessing.text import Tokenizer\n",
        "from tensorflow.keras.preprocessing.sequence import pad_sequences\n",
        "from tensorflow.keras.layers import Concatenate, Dense, Input, LSTM, Embedding, Dropout, Activation, GRU, Flatten\n",
        "from tensorflow.keras.layers import Bidirectional, GlobalMaxPool1D\n",
        "from tensorflow.keras.models import Model, Sequential\n",
        "from tensorflow.keras.layers import Convolution1D\n",
        "from tensorflow.keras import initializers, regularizers, constraints, optimizers, layers\n",
        "from tensorflow.keras.layers import Add, BatchNormalization, Activation, Dropout"
      ],
      "execution_count": null,
      "outputs": []
    },
    {
      "cell_type": "code",
      "metadata": {
        "id": "WZ5gXY9p_Fqt"
      },
      "source": [
        "MAX_FEATURES = 10000\n",
        "EMBED_SIZE = 128\n",
        "tokenizer = Tokenizer(num_words=MAX_FEATURES)\n",
        "tokenizer.fit_on_texts(train_data['cleaned'])\n",
        "list_tokenized_train = tokenizer.texts_to_sequences(train_data['cleaned'])\n",
        "list_tokenized_val = tokenizer.texts_to_sequences(valid_data['cleaned'])  \n",
        "list_tokenized_test = tokenizer.texts_to_sequences(test_data['cleaned'])  \n",
        "RNN_CELL_SIZE = 100\n",
        "  \n",
        "MAX_LEN = 200  \n",
        "X_train = pad_sequences(list_tokenized_train, maxlen=MAX_LEN)\n",
        "y_train = train_data['enc_label']\n",
        "X_val = pad_sequences(list_tokenized_val, maxlen=MAX_LEN)\n",
        "y_val = valid_data['enc_label']\n",
        "X_test = pad_sequences(list_tokenized_test, maxlen=MAX_LEN)"
      ],
      "execution_count": null,
      "outputs": []
    },
    {
      "cell_type": "code",
      "metadata": {
        "id": "u_w6ncZJ_hyx"
      },
      "source": [
        "class Attention(tf.keras.Model):\n",
        "    def __init__(self, units):\n",
        "        super(Attention, self).__init__()\n",
        "        self.W1 = tf.keras.layers.Dense(units)\n",
        "        self.W2 = tf.keras.layers.Dense(units)\n",
        "        self.V = tf.keras.layers.Dense(1)\n",
        "\n",
        "    def call(self, features, hidden):\n",
        "        # hidden shape == (batch_size, hidden size)\n",
        "        # hidden_with_time_axis shape == (batch_size, 1, hidden size)\n",
        "        # we are doing this to perform addition to calculate the score\n",
        "        hidden_with_time_axis = tf.expand_dims(hidden, 1)\n",
        "          \n",
        "        # score shape == (batch_size, max_length, 1)\n",
        "        # we get 1 at the last axis because we are applying score to self.V\n",
        "        # the shape of the tensor before applying self.V is (batch_size, max_length, units)\n",
        "        score = tf.nn.tanh(\n",
        "            self.W1(features) + self.W2(hidden_with_time_axis))\n",
        "        # attention_weights shape == (batch_size, max_length, 1)\n",
        "        attention_weights = tf.nn.softmax(self.V(score), axis=1)\n",
        "          \n",
        "        # context_vector shape after sum == (batch_size, hidden_size)\n",
        "        context_vector = attention_weights * features\n",
        "        context_vector = tf.reduce_sum(context_vector, axis=1)\n",
        "        return context_vector, attention_weights"
      ],
      "execution_count": null,
      "outputs": []
    },
    {
      "cell_type": "code",
      "metadata": {
        "id": "4AEKC3Bq_j0y"
      },
      "source": [
        "sequence_input = Input(shape=(MAX_LEN,), dtype=\"int32\")\n",
        "embedded_sequences = Embedding(MAX_FEATURES, EMBED_SIZE)(sequence_input)"
      ],
      "execution_count": null,
      "outputs": []
    },
    {
      "cell_type": "code",
      "metadata": {
        "id": "slERwAyFAiDZ"
      },
      "source": [
        "#conv = Convolution1D(128,5,activation='relu')(embedded_sequences)\n",
        "#pol = GlobalMaxPool1D()(conv)\n",
        "\n",
        "lstm = Bidirectional(LSTM(64, return_sequences = True), name=\"bi_lstm_0\")(embedded_sequences)\n",
        "\n",
        "# Getting our LSTM outputs\n",
        "(lstm, forward_h, forward_c, backward_h, backward_c) = Bidirectional(LSTM(64, return_sequences=True, return_state=True), name=\"bi_lstm_1\")(lstm)"
      ],
      "execution_count": null,
      "outputs": []
    },
    {
      "cell_type": "code",
      "metadata": {
        "id": "cX7RylTDApBD"
      },
      "source": [
        "state_h = Concatenate()([forward_h, backward_h])\n",
        "state_c = Concatenate()([forward_c, backward_c])\n",
        "context_vector, attention_weights = Attention(20)(lstm, state_h)\n",
        "dense1 = Dense(20, activation=\"relu\")(context_vector)\n",
        "dropout = Dropout(0.1)(dense1)\n",
        "output = Dense(6, activation=\"softmax\")(dropout)\n",
        "  \n",
        "model = keras.Model(inputs=sequence_input, outputs=output)"
      ],
      "execution_count": null,
      "outputs": []
    },
    {
      "cell_type": "code",
      "metadata": {
        "colab": {
          "base_uri": "https://localhost:8080/"
        },
        "id": "iT6OhIeOAuzd",
        "outputId": "e87b994f-9171-4864-a721-28cc042f222b"
      },
      "source": [
        "# summarize layers\n",
        "print(model.summary())"
      ],
      "execution_count": null,
      "outputs": [
        {
          "output_type": "stream",
          "text": [
            "Model: \"model\"\n",
            "__________________________________________________________________________________________________\n",
            "Layer (type)                    Output Shape         Param #     Connected to                     \n",
            "==================================================================================================\n",
            "input_1 (InputLayer)            [(None, 200)]        0                                            \n",
            "__________________________________________________________________________________________________\n",
            "embedding (Embedding)           (None, 200, 128)     2560000     input_1[0][0]                    \n",
            "__________________________________________________________________________________________________\n",
            "bi_lstm_0 (Bidirectional)       (None, 200, 128)     98816       embedding[0][0]                  \n",
            "__________________________________________________________________________________________________\n",
            "bi_lstm_1 (Bidirectional)       [(None, 200, 128), ( 98816       bi_lstm_0[0][0]                  \n",
            "__________________________________________________________________________________________________\n",
            "concatenate (Concatenate)       (None, 128)          0           bi_lstm_1[0][1]                  \n",
            "                                                                 bi_lstm_1[0][3]                  \n",
            "__________________________________________________________________________________________________\n",
            "attention (Attention)           ((None, 128), (None, 5181        bi_lstm_1[0][0]                  \n",
            "                                                                 concatenate[0][0]                \n",
            "__________________________________________________________________________________________________\n",
            "dense_3 (Dense)                 (None, 20)           2580        attention[0][0]                  \n",
            "__________________________________________________________________________________________________\n",
            "dropout (Dropout)               (None, 20)           0           dense_3[0][0]                    \n",
            "__________________________________________________________________________________________________\n",
            "dense_4 (Dense)                 (None, 6)            126         dropout[0][0]                    \n",
            "==================================================================================================\n",
            "Total params: 2,765,519\n",
            "Trainable params: 2,765,519\n",
            "Non-trainable params: 0\n",
            "__________________________________________________________________________________________________\n",
            "None\n"
          ],
          "name": "stdout"
        }
      ]
    },
    {
      "cell_type": "code",
      "metadata": {
        "id": "q_oQoA29AzHq"
      },
      "source": [
        "keras.utils.plot_model(model, show_shapes=True, dpi=90)"
      ],
      "execution_count": null,
      "outputs": []
    },
    {
      "cell_type": "code",
      "metadata": {
        "id": "7ETcEWKXA45N"
      },
      "source": [
        "model.compile(loss='sparse_categorical_crossentropy',\n",
        "              optimizer= keras.optimizers.Adam(learning_rate = 0.001),\n",
        "              metrics=['accuracy'])"
      ],
      "execution_count": null,
      "outputs": []
    },
    {
      "cell_type": "code",
      "metadata": {
        "id": "g6vJ1uwsA-jG"
      },
      "source": [
        "BATCH_SIZE = 64\n",
        "EPOCHS = 4\n",
        "history = model.fit(X_train,y_train,\n",
        "                    batch_size=BATCH_SIZE,\n",
        "                    epochs=EPOCHS,\n",
        "                    validation_split=0.10)"
      ],
      "execution_count": null,
      "outputs": []
    },
    {
      "cell_type": "code",
      "metadata": {
        "id": "MChwHWGlBLEa",
        "colab": {
          "base_uri": "https://localhost:8080/"
        },
        "outputId": "ca0ac2cf-286c-465e-9558-133ad3c39183"
      },
      "source": [
        "prediction = np.argmax(model.predict(X_val),axis = -1)\n",
        "print_metrices(valid_data['enc_label'],prediction)"
      ],
      "execution_count": null,
      "outputs": [
        {
          "output_type": "stream",
          "text": [
            "[[314  79   7   2  24   0]\n",
            " [ 31 155   2   1   2   0]\n",
            " [ 14   5  31   4  12   0]\n",
            " [ 15   8   1   0   9   0]\n",
            " [ 18   8   2   0  17   0]\n",
            " [  6   3   2   0   5   0]]\n",
            "              precision    recall  f1-score   support\n",
            "\n",
            "           0       0.79      0.74      0.76       426\n",
            "           1       0.60      0.81      0.69       191\n",
            "           2       0.69      0.47      0.56        66\n",
            "           3       0.00      0.00      0.00        33\n",
            "           4       0.25      0.38      0.30        45\n",
            "           5       0.00      0.00      0.00        16\n",
            "\n",
            "    accuracy                           0.67       777\n",
            "   macro avg       0.39      0.40      0.38       777\n",
            "weighted avg       0.65      0.67      0.65       777\n",
            "\n",
            "Accuracy :  0.6653796653796654\n",
            "Precison :  0.6530143339320671\n",
            "Recall :  0.6653796653796654\n",
            "F1 :  0.6522865437098034\n"
          ],
          "name": "stdout"
        }
      ]
    },
    {
      "cell_type": "code",
      "metadata": {
        "colab": {
          "base_uri": "https://localhost:8080/",
          "height": 407
        },
        "id": "Pdlot32KEuVd",
        "outputId": "ecefbeb7-4572-47f5-ef17-6d38cfee809e"
      },
      "source": [
        "test_pred = np.argmax(model.predict(X_test), axis=-1).tolist()\n",
        "test_data['id'] = test_data.index + 1\n",
        "run = pd.DataFrame(test_data['id'])\n",
        "run['text'] = test_data['text']\n",
        "run['label'] = test_pred\n",
        "run['label'] = run['label'].apply(actual_label)\n",
        "run "
      ],
      "execution_count": null,
      "outputs": [
        {
          "output_type": "execute_result",
          "data": {
            "text/html": [
              "<div>\n",
              "<style scoped>\n",
              "    .dataframe tbody tr th:only-of-type {\n",
              "        vertical-align: middle;\n",
              "    }\n",
              "\n",
              "    .dataframe tbody tr th {\n",
              "        vertical-align: top;\n",
              "    }\n",
              "\n",
              "    .dataframe thead th {\n",
              "        text-align: right;\n",
              "    }\n",
              "</style>\n",
              "<table border=\"1\" class=\"dataframe\">\n",
              "  <thead>\n",
              "    <tr style=\"text-align: right;\">\n",
              "      <th></th>\n",
              "      <th>id</th>\n",
              "      <th>text</th>\n",
              "      <th>label</th>\n",
              "    </tr>\n",
              "  </thead>\n",
              "  <tbody>\n",
              "    <tr>\n",
              "      <th>0</th>\n",
              "      <td>1</td>\n",
              "      <td>ಜೈ ಮೋರಿ ಜೈ ರೋಗಿ ಇಸ್ಲಾಂ ಸಾಯಿಸಿ ಇದೆ ಇವರ ಗುರಿ</td>\n",
              "      <td>Not_offensive</td>\n",
              "    </tr>\n",
              "    <tr>\n",
              "      <th>1</th>\n",
              "      <td>2</td>\n",
              "      <td>Anna nim e vedio nodinu mathe chaina apps use ...</td>\n",
              "      <td>Offensive_Untargetede</td>\n",
              "    </tr>\n",
              "    <tr>\n",
              "      <th>2</th>\n",
              "      <td>3</td>\n",
              "      <td>Super anna yenu thappila yela sari agi hellidi...</td>\n",
              "      <td>Not_offensive</td>\n",
              "    </tr>\n",
              "    <tr>\n",
              "      <th>3</th>\n",
              "      <td>4</td>\n",
              "      <td>Super sir super super super super</td>\n",
              "      <td>Not_offensive</td>\n",
              "    </tr>\n",
              "    <tr>\n",
              "      <th>4</th>\n",
              "      <td>5</td>\n",
              "      <td>AGT-KELU (KANNADA RAP 2019)</td>\n",
              "      <td>Not_offensive</td>\n",
              "    </tr>\n",
              "    <tr>\n",
              "      <th>...</th>\n",
              "      <td>...</td>\n",
              "      <td>...</td>\n",
              "      <td>...</td>\n",
              "    </tr>\n",
              "    <tr>\n",
              "      <th>773</th>\n",
              "      <td>774</td>\n",
              "      <td>Startup start maadalu capacity growth maadalu ...</td>\n",
              "      <td>Not_offensive</td>\n",
              "    </tr>\n",
              "    <tr>\n",
              "      <th>774</th>\n",
              "      <td>775</td>\n",
              "      <td>Rashmika idanna nodi thi*a urkimbeku🤣🤣🤣🤣🤣</td>\n",
              "      <td>Not_offensive</td>\n",
              "    </tr>\n",
              "    <tr>\n",
              "      <th>775</th>\n",
              "      <td>776</td>\n",
              "      <td>I love you sir</td>\n",
              "      <td>Offensive_Targeted_Insult_Group</td>\n",
              "    </tr>\n",
              "    <tr>\n",
              "      <th>776</th>\n",
              "      <td>777</td>\n",
              "      <td>ನೋಡ್ತಾ ಹೋದ್ರೆ ಸಾವಿರಾರು lyrical video ಗಳು</td>\n",
              "      <td>Not_offensive</td>\n",
              "    </tr>\n",
              "    <tr>\n",
              "      <th>777</th>\n",
              "      <td>778</td>\n",
              "      <td>ಸಖತ್ ಟ್ರೋಲ್ ಬ್ರದರ್ nಬ್ರೊ ಈ ಗೇಮ್ ನೇಮ್ ಹೇಳಿ</td>\n",
              "      <td>Not_offensive</td>\n",
              "    </tr>\n",
              "  </tbody>\n",
              "</table>\n",
              "<p>778 rows × 3 columns</p>\n",
              "</div>"
            ],
            "text/plain": [
              "      id  ...                            label\n",
              "0      1  ...                    Not_offensive\n",
              "1      2  ...            Offensive_Untargetede\n",
              "2      3  ...                    Not_offensive\n",
              "3      4  ...                    Not_offensive\n",
              "4      5  ...                    Not_offensive\n",
              "..   ...  ...                              ...\n",
              "773  774  ...                    Not_offensive\n",
              "774  775  ...                    Not_offensive\n",
              "775  776  ...  Offensive_Targeted_Insult_Group\n",
              "776  777  ...                    Not_offensive\n",
              "777  778  ...                    Not_offensive\n",
              "\n",
              "[778 rows x 3 columns]"
            ]
          },
          "metadata": {
            "tags": []
          },
          "execution_count": 44
        }
      ]
    },
    {
      "cell_type": "code",
      "metadata": {
        "id": "UWaqpTNHTBJZ"
      },
      "source": [
        "run.to_csv(folder_path +'kannada_off_lstm+attn.csv',index = False)"
      ],
      "execution_count": null,
      "outputs": []
    }
  ]
}
