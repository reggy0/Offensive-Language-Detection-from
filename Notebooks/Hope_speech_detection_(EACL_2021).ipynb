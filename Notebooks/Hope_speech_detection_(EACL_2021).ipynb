{
  "nbformat": 4,
  "nbformat_minor": 0,
  "metadata": {
    "accelerator": "GPU",
    "colab": {
      "name": "Hope_speech_detection (EACL-2021).ipynb",
      "provenance": [],
      "collapsed_sections": [],
      "toc_visible": true,
      "machine_shape": "hm",
      "include_colab_link": true
    },
    "kernelspec": {
      "display_name": "Python 3",
      "name": "python3"
    },
    "widgets": {
      "application/vnd.jupyter.widget-state+json": {
        "316e57fd6c25495ea63941e114151377": {
          "model_module": "@jupyter-widgets/controls",
          "model_name": "HBoxModel",
          "state": {
            "_view_name": "HBoxView",
            "_dom_classes": [],
            "_model_name": "HBoxModel",
            "_view_module": "@jupyter-widgets/controls",
            "_model_module_version": "1.5.0",
            "_view_count": null,
            "_view_module_version": "1.5.0",
            "box_style": "",
            "layout": "IPY_MODEL_19e57327384a4a72baefb7443e8ff326",
            "_model_module": "@jupyter-widgets/controls",
            "children": [
              "IPY_MODEL_7c24c51e235540af8eb2064f4e2025d1",
              "IPY_MODEL_5634ec4a9de44db68dd9b3cd305a75fd"
            ]
          }
        },
        "19e57327384a4a72baefb7443e8ff326": {
          "model_module": "@jupyter-widgets/base",
          "model_name": "LayoutModel",
          "state": {
            "_view_name": "LayoutView",
            "grid_template_rows": null,
            "right": null,
            "justify_content": null,
            "_view_module": "@jupyter-widgets/base",
            "overflow": null,
            "_model_module_version": "1.2.0",
            "_view_count": null,
            "flex_flow": null,
            "width": null,
            "min_width": null,
            "border": null,
            "align_items": null,
            "bottom": null,
            "_model_module": "@jupyter-widgets/base",
            "top": null,
            "grid_column": null,
            "overflow_y": null,
            "overflow_x": null,
            "grid_auto_flow": null,
            "grid_area": null,
            "grid_template_columns": null,
            "flex": null,
            "_model_name": "LayoutModel",
            "justify_items": null,
            "grid_row": null,
            "max_height": null,
            "align_content": null,
            "visibility": null,
            "align_self": null,
            "height": null,
            "min_height": null,
            "padding": null,
            "grid_auto_rows": null,
            "grid_gap": null,
            "max_width": null,
            "order": null,
            "_view_module_version": "1.2.0",
            "grid_template_areas": null,
            "object_position": null,
            "object_fit": null,
            "grid_auto_columns": null,
            "margin": null,
            "display": null,
            "left": null
          }
        },
        "7c24c51e235540af8eb2064f4e2025d1": {
          "model_module": "@jupyter-widgets/controls",
          "model_name": "FloatProgressModel",
          "state": {
            "_view_name": "ProgressView",
            "style": "IPY_MODEL_d45df140fd924236b68abb22646781e4",
            "_dom_classes": [],
            "description": "Downloading: 100%",
            "_model_name": "FloatProgressModel",
            "bar_style": "success",
            "max": 798011,
            "_view_module": "@jupyter-widgets/controls",
            "_model_module_version": "1.5.0",
            "value": 798011,
            "_view_count": null,
            "_view_module_version": "1.5.0",
            "orientation": "horizontal",
            "min": 0,
            "description_tooltip": null,
            "_model_module": "@jupyter-widgets/controls",
            "layout": "IPY_MODEL_d91ce6429fb64213ad496a346556d934"
          }
        },
        "5634ec4a9de44db68dd9b3cd305a75fd": {
          "model_module": "@jupyter-widgets/controls",
          "model_name": "HTMLModel",
          "state": {
            "_view_name": "HTMLView",
            "style": "IPY_MODEL_9831aa00e2cf45959c3bba72ee95b5b7",
            "_dom_classes": [],
            "description": "",
            "_model_name": "HTMLModel",
            "placeholder": "​",
            "_view_module": "@jupyter-widgets/controls",
            "_model_module_version": "1.5.0",
            "value": " 798k/798k [00:00&lt;00:00, 1.11MB/s]",
            "_view_count": null,
            "_view_module_version": "1.5.0",
            "description_tooltip": null,
            "_model_module": "@jupyter-widgets/controls",
            "layout": "IPY_MODEL_dc46363e64554f3a96ca220e1d6c9c4a"
          }
        },
        "d45df140fd924236b68abb22646781e4": {
          "model_module": "@jupyter-widgets/controls",
          "model_name": "ProgressStyleModel",
          "state": {
            "_view_name": "StyleView",
            "_model_name": "ProgressStyleModel",
            "description_width": "initial",
            "_view_module": "@jupyter-widgets/base",
            "_model_module_version": "1.5.0",
            "_view_count": null,
            "_view_module_version": "1.2.0",
            "bar_color": null,
            "_model_module": "@jupyter-widgets/controls"
          }
        },
        "d91ce6429fb64213ad496a346556d934": {
          "model_module": "@jupyter-widgets/base",
          "model_name": "LayoutModel",
          "state": {
            "_view_name": "LayoutView",
            "grid_template_rows": null,
            "right": null,
            "justify_content": null,
            "_view_module": "@jupyter-widgets/base",
            "overflow": null,
            "_model_module_version": "1.2.0",
            "_view_count": null,
            "flex_flow": null,
            "width": null,
            "min_width": null,
            "border": null,
            "align_items": null,
            "bottom": null,
            "_model_module": "@jupyter-widgets/base",
            "top": null,
            "grid_column": null,
            "overflow_y": null,
            "overflow_x": null,
            "grid_auto_flow": null,
            "grid_area": null,
            "grid_template_columns": null,
            "flex": null,
            "_model_name": "LayoutModel",
            "justify_items": null,
            "grid_row": null,
            "max_height": null,
            "align_content": null,
            "visibility": null,
            "align_self": null,
            "height": null,
            "min_height": null,
            "padding": null,
            "grid_auto_rows": null,
            "grid_gap": null,
            "max_width": null,
            "order": null,
            "_view_module_version": "1.2.0",
            "grid_template_areas": null,
            "object_position": null,
            "object_fit": null,
            "grid_auto_columns": null,
            "margin": null,
            "display": null,
            "left": null
          }
        },
        "9831aa00e2cf45959c3bba72ee95b5b7": {
          "model_module": "@jupyter-widgets/controls",
          "model_name": "DescriptionStyleModel",
          "state": {
            "_view_name": "StyleView",
            "_model_name": "DescriptionStyleModel",
            "description_width": "",
            "_view_module": "@jupyter-widgets/base",
            "_model_module_version": "1.5.0",
            "_view_count": null,
            "_view_module_version": "1.2.0",
            "_model_module": "@jupyter-widgets/controls"
          }
        },
        "dc46363e64554f3a96ca220e1d6c9c4a": {
          "model_module": "@jupyter-widgets/base",
          "model_name": "LayoutModel",
          "state": {
            "_view_name": "LayoutView",
            "grid_template_rows": null,
            "right": null,
            "justify_content": null,
            "_view_module": "@jupyter-widgets/base",
            "overflow": null,
            "_model_module_version": "1.2.0",
            "_view_count": null,
            "flex_flow": null,
            "width": null,
            "min_width": null,
            "border": null,
            "align_items": null,
            "bottom": null,
            "_model_module": "@jupyter-widgets/base",
            "top": null,
            "grid_column": null,
            "overflow_y": null,
            "overflow_x": null,
            "grid_auto_flow": null,
            "grid_area": null,
            "grid_template_columns": null,
            "flex": null,
            "_model_name": "LayoutModel",
            "justify_items": null,
            "grid_row": null,
            "max_height": null,
            "align_content": null,
            "visibility": null,
            "align_self": null,
            "height": null,
            "min_height": null,
            "padding": null,
            "grid_auto_rows": null,
            "grid_gap": null,
            "max_width": null,
            "order": null,
            "_view_module_version": "1.2.0",
            "grid_template_areas": null,
            "object_position": null,
            "object_fit": null,
            "grid_auto_columns": null,
            "margin": null,
            "display": null,
            "left": null
          }
        },
        "34c33f0e257d4abf82b7779dd74afb80": {
          "model_module": "@jupyter-widgets/controls",
          "model_name": "HBoxModel",
          "state": {
            "_view_name": "HBoxView",
            "_dom_classes": [],
            "_model_name": "HBoxModel",
            "_view_module": "@jupyter-widgets/controls",
            "_model_module_version": "1.5.0",
            "_view_count": null,
            "_view_module_version": "1.5.0",
            "box_style": "",
            "layout": "IPY_MODEL_051fbed3469544f2921f92cfb2ef91b8",
            "_model_module": "@jupyter-widgets/controls",
            "children": [
              "IPY_MODEL_3f9ff39d93d447129a2f1a9606fd4a55",
              "IPY_MODEL_44b4fd3ea4ea421b99976e1939070481"
            ]
          }
        },
        "051fbed3469544f2921f92cfb2ef91b8": {
          "model_module": "@jupyter-widgets/base",
          "model_name": "LayoutModel",
          "state": {
            "_view_name": "LayoutView",
            "grid_template_rows": null,
            "right": null,
            "justify_content": null,
            "_view_module": "@jupyter-widgets/base",
            "overflow": null,
            "_model_module_version": "1.2.0",
            "_view_count": null,
            "flex_flow": null,
            "width": null,
            "min_width": null,
            "border": null,
            "align_items": null,
            "bottom": null,
            "_model_module": "@jupyter-widgets/base",
            "top": null,
            "grid_column": null,
            "overflow_y": null,
            "overflow_x": null,
            "grid_auto_flow": null,
            "grid_area": null,
            "grid_template_columns": null,
            "flex": null,
            "_model_name": "LayoutModel",
            "justify_items": null,
            "grid_row": null,
            "max_height": null,
            "align_content": null,
            "visibility": null,
            "align_self": null,
            "height": null,
            "min_height": null,
            "padding": null,
            "grid_auto_rows": null,
            "grid_gap": null,
            "max_width": null,
            "order": null,
            "_view_module_version": "1.2.0",
            "grid_template_areas": null,
            "object_position": null,
            "object_fit": null,
            "grid_auto_columns": null,
            "margin": null,
            "display": null,
            "left": null
          }
        },
        "3f9ff39d93d447129a2f1a9606fd4a55": {
          "model_module": "@jupyter-widgets/controls",
          "model_name": "FloatProgressModel",
          "state": {
            "_view_name": "ProgressView",
            "style": "IPY_MODEL_e77317ec251746079e1895264588f7f5",
            "_dom_classes": [],
            "description": "Downloading: 100%",
            "_model_name": "FloatProgressModel",
            "bar_style": "success",
            "max": 565485600,
            "_view_module": "@jupyter-widgets/controls",
            "_model_module_version": "1.5.0",
            "value": 565485600,
            "_view_count": null,
            "_view_module_version": "1.5.0",
            "orientation": "horizontal",
            "min": 0,
            "description_tooltip": null,
            "_model_module": "@jupyter-widgets/controls",
            "layout": "IPY_MODEL_c8fdc040b07f4892b23ba012106906b4"
          }
        },
        "44b4fd3ea4ea421b99976e1939070481": {
          "model_module": "@jupyter-widgets/controls",
          "model_name": "HTMLModel",
          "state": {
            "_view_name": "HTMLView",
            "style": "IPY_MODEL_b6ef191d447a4da0b3f0da47de434cd9",
            "_dom_classes": [],
            "description": "",
            "_model_name": "HTMLModel",
            "placeholder": "​",
            "_view_module": "@jupyter-widgets/controls",
            "_model_module_version": "1.5.0",
            "value": " 565M/565M [00:07&lt;00:00, 73.2MB/s]",
            "_view_count": null,
            "_view_module_version": "1.5.0",
            "description_tooltip": null,
            "_model_module": "@jupyter-widgets/controls",
            "layout": "IPY_MODEL_5216cf59410843eda73f3060c34b622d"
          }
        },
        "e77317ec251746079e1895264588f7f5": {
          "model_module": "@jupyter-widgets/controls",
          "model_name": "ProgressStyleModel",
          "state": {
            "_view_name": "StyleView",
            "_model_name": "ProgressStyleModel",
            "description_width": "initial",
            "_view_module": "@jupyter-widgets/base",
            "_model_module_version": "1.5.0",
            "_view_count": null,
            "_view_module_version": "1.2.0",
            "bar_color": null,
            "_model_module": "@jupyter-widgets/controls"
          }
        },
        "c8fdc040b07f4892b23ba012106906b4": {
          "model_module": "@jupyter-widgets/base",
          "model_name": "LayoutModel",
          "state": {
            "_view_name": "LayoutView",
            "grid_template_rows": null,
            "right": null,
            "justify_content": null,
            "_view_module": "@jupyter-widgets/base",
            "overflow": null,
            "_model_module_version": "1.2.0",
            "_view_count": null,
            "flex_flow": null,
            "width": null,
            "min_width": null,
            "border": null,
            "align_items": null,
            "bottom": null,
            "_model_module": "@jupyter-widgets/base",
            "top": null,
            "grid_column": null,
            "overflow_y": null,
            "overflow_x": null,
            "grid_auto_flow": null,
            "grid_area": null,
            "grid_template_columns": null,
            "flex": null,
            "_model_name": "LayoutModel",
            "justify_items": null,
            "grid_row": null,
            "max_height": null,
            "align_content": null,
            "visibility": null,
            "align_self": null,
            "height": null,
            "min_height": null,
            "padding": null,
            "grid_auto_rows": null,
            "grid_gap": null,
            "max_width": null,
            "order": null,
            "_view_module_version": "1.2.0",
            "grid_template_areas": null,
            "object_position": null,
            "object_fit": null,
            "grid_auto_columns": null,
            "margin": null,
            "display": null,
            "left": null
          }
        },
        "b6ef191d447a4da0b3f0da47de434cd9": {
          "model_module": "@jupyter-widgets/controls",
          "model_name": "DescriptionStyleModel",
          "state": {
            "_view_name": "StyleView",
            "_model_name": "DescriptionStyleModel",
            "description_width": "",
            "_view_module": "@jupyter-widgets/base",
            "_model_module_version": "1.5.0",
            "_view_count": null,
            "_view_module_version": "1.2.0",
            "_model_module": "@jupyter-widgets/controls"
          }
        },
        "5216cf59410843eda73f3060c34b622d": {
          "model_module": "@jupyter-widgets/base",
          "model_name": "LayoutModel",
          "state": {
            "_view_name": "LayoutView",
            "grid_template_rows": null,
            "right": null,
            "justify_content": null,
            "_view_module": "@jupyter-widgets/base",
            "overflow": null,
            "_model_module_version": "1.2.0",
            "_view_count": null,
            "flex_flow": null,
            "width": null,
            "min_width": null,
            "border": null,
            "align_items": null,
            "bottom": null,
            "_model_module": "@jupyter-widgets/base",
            "top": null,
            "grid_column": null,
            "overflow_y": null,
            "overflow_x": null,
            "grid_auto_flow": null,
            "grid_area": null,
            "grid_template_columns": null,
            "flex": null,
            "_model_name": "LayoutModel",
            "justify_items": null,
            "grid_row": null,
            "max_height": null,
            "align_content": null,
            "visibility": null,
            "align_self": null,
            "height": null,
            "min_height": null,
            "padding": null,
            "grid_auto_rows": null,
            "grid_gap": null,
            "max_width": null,
            "order": null,
            "_view_module_version": "1.2.0",
            "grid_template_areas": null,
            "object_position": null,
            "object_fit": null,
            "grid_auto_columns": null,
            "margin": null,
            "display": null,
            "left": null
          }
        },
        "b6887b9669374168895f6919ead02823": {
          "model_module": "@jupyter-widgets/controls",
          "model_name": "HBoxModel",
          "state": {
            "_view_name": "HBoxView",
            "_dom_classes": [],
            "_model_name": "HBoxModel",
            "_view_module": "@jupyter-widgets/controls",
            "_model_module_version": "1.5.0",
            "_view_count": null,
            "_view_module_version": "1.5.0",
            "box_style": "",
            "layout": "IPY_MODEL_d241e8c9c74a4398b9031580f7ed3ee9",
            "_model_module": "@jupyter-widgets/controls",
            "children": [
              "IPY_MODEL_c80da948098043e5b21fd385bcc62478",
              "IPY_MODEL_c861bd2cf4c540ccaeb4fb5cc0aaa95f"
            ]
          }
        },
        "d241e8c9c74a4398b9031580f7ed3ee9": {
          "model_module": "@jupyter-widgets/base",
          "model_name": "LayoutModel",
          "state": {
            "_view_name": "LayoutView",
            "grid_template_rows": null,
            "right": null,
            "justify_content": null,
            "_view_module": "@jupyter-widgets/base",
            "overflow": null,
            "_model_module_version": "1.2.0",
            "_view_count": null,
            "flex_flow": null,
            "width": null,
            "min_width": null,
            "border": null,
            "align_items": null,
            "bottom": null,
            "_model_module": "@jupyter-widgets/base",
            "top": null,
            "grid_column": null,
            "overflow_y": null,
            "overflow_x": null,
            "grid_auto_flow": null,
            "grid_area": null,
            "grid_template_columns": null,
            "flex": null,
            "_model_name": "LayoutModel",
            "justify_items": null,
            "grid_row": null,
            "max_height": null,
            "align_content": null,
            "visibility": null,
            "align_self": null,
            "height": null,
            "min_height": null,
            "padding": null,
            "grid_auto_rows": null,
            "grid_gap": null,
            "max_width": null,
            "order": null,
            "_view_module_version": "1.2.0",
            "grid_template_areas": null,
            "object_position": null,
            "object_fit": null,
            "grid_auto_columns": null,
            "margin": null,
            "display": null,
            "left": null
          }
        },
        "c80da948098043e5b21fd385bcc62478": {
          "model_module": "@jupyter-widgets/controls",
          "model_name": "FloatProgressModel",
          "state": {
            "_view_name": "ProgressView",
            "style": "IPY_MODEL_6beb3b72de7243e794366fcc841f34b0",
            "_dom_classes": [],
            "description": "Downloading: 100%",
            "_model_name": "FloatProgressModel",
            "bar_style": "success",
            "max": 760,
            "_view_module": "@jupyter-widgets/controls",
            "_model_module_version": "1.5.0",
            "value": 760,
            "_view_count": null,
            "_view_module_version": "1.5.0",
            "orientation": "horizontal",
            "min": 0,
            "description_tooltip": null,
            "_model_module": "@jupyter-widgets/controls",
            "layout": "IPY_MODEL_8779c3fd5bf9482eb04ecf009e09cbef"
          }
        },
        "c861bd2cf4c540ccaeb4fb5cc0aaa95f": {
          "model_module": "@jupyter-widgets/controls",
          "model_name": "HTMLModel",
          "state": {
            "_view_name": "HTMLView",
            "style": "IPY_MODEL_3aecb1ee62af456c9a9c686be1ec5186",
            "_dom_classes": [],
            "description": "",
            "_model_name": "HTMLModel",
            "placeholder": "​",
            "_view_module": "@jupyter-widgets/controls",
            "_model_module_version": "1.5.0",
            "value": " 760/760 [00:04&lt;00:00, 156B/s]",
            "_view_count": null,
            "_view_module_version": "1.5.0",
            "description_tooltip": null,
            "_model_module": "@jupyter-widgets/controls",
            "layout": "IPY_MODEL_7b21ea9b7f3e43fd9ebd2bd29f30a264"
          }
        },
        "6beb3b72de7243e794366fcc841f34b0": {
          "model_module": "@jupyter-widgets/controls",
          "model_name": "ProgressStyleModel",
          "state": {
            "_view_name": "StyleView",
            "_model_name": "ProgressStyleModel",
            "description_width": "initial",
            "_view_module": "@jupyter-widgets/base",
            "_model_module_version": "1.5.0",
            "_view_count": null,
            "_view_module_version": "1.2.0",
            "bar_color": null,
            "_model_module": "@jupyter-widgets/controls"
          }
        },
        "8779c3fd5bf9482eb04ecf009e09cbef": {
          "model_module": "@jupyter-widgets/base",
          "model_name": "LayoutModel",
          "state": {
            "_view_name": "LayoutView",
            "grid_template_rows": null,
            "right": null,
            "justify_content": null,
            "_view_module": "@jupyter-widgets/base",
            "overflow": null,
            "_model_module_version": "1.2.0",
            "_view_count": null,
            "flex_flow": null,
            "width": null,
            "min_width": null,
            "border": null,
            "align_items": null,
            "bottom": null,
            "_model_module": "@jupyter-widgets/base",
            "top": null,
            "grid_column": null,
            "overflow_y": null,
            "overflow_x": null,
            "grid_auto_flow": null,
            "grid_area": null,
            "grid_template_columns": null,
            "flex": null,
            "_model_name": "LayoutModel",
            "justify_items": null,
            "grid_row": null,
            "max_height": null,
            "align_content": null,
            "visibility": null,
            "align_self": null,
            "height": null,
            "min_height": null,
            "padding": null,
            "grid_auto_rows": null,
            "grid_gap": null,
            "max_width": null,
            "order": null,
            "_view_module_version": "1.2.0",
            "grid_template_areas": null,
            "object_position": null,
            "object_fit": null,
            "grid_auto_columns": null,
            "margin": null,
            "display": null,
            "left": null
          }
        },
        "3aecb1ee62af456c9a9c686be1ec5186": {
          "model_module": "@jupyter-widgets/controls",
          "model_name": "DescriptionStyleModel",
          "state": {
            "_view_name": "StyleView",
            "_model_name": "DescriptionStyleModel",
            "description_width": "",
            "_view_module": "@jupyter-widgets/base",
            "_model_module_version": "1.5.0",
            "_view_count": null,
            "_view_module_version": "1.2.0",
            "_model_module": "@jupyter-widgets/controls"
          }
        },
        "7b21ea9b7f3e43fd9ebd2bd29f30a264": {
          "model_module": "@jupyter-widgets/base",
          "model_name": "LayoutModel",
          "state": {
            "_view_name": "LayoutView",
            "grid_template_rows": null,
            "right": null,
            "justify_content": null,
            "_view_module": "@jupyter-widgets/base",
            "overflow": null,
            "_model_module_version": "1.2.0",
            "_view_count": null,
            "flex_flow": null,
            "width": null,
            "min_width": null,
            "border": null,
            "align_items": null,
            "bottom": null,
            "_model_module": "@jupyter-widgets/base",
            "top": null,
            "grid_column": null,
            "overflow_y": null,
            "overflow_x": null,
            "grid_auto_flow": null,
            "grid_area": null,
            "grid_template_columns": null,
            "flex": null,
            "_model_name": "LayoutModel",
            "justify_items": null,
            "grid_row": null,
            "max_height": null,
            "align_content": null,
            "visibility": null,
            "align_self": null,
            "height": null,
            "min_height": null,
            "padding": null,
            "grid_auto_rows": null,
            "grid_gap": null,
            "max_width": null,
            "order": null,
            "_view_module_version": "1.2.0",
            "grid_template_areas": null,
            "object_position": null,
            "object_fit": null,
            "grid_auto_columns": null,
            "margin": null,
            "display": null,
            "left": null
          }
        },
        "5c9708b9c029490a9e9d4a95b5ccc71b": {
          "model_module": "@jupyter-widgets/controls",
          "model_name": "HBoxModel",
          "state": {
            "_view_name": "HBoxView",
            "_dom_classes": [],
            "_model_name": "HBoxModel",
            "_view_module": "@jupyter-widgets/controls",
            "_model_module_version": "1.5.0",
            "_view_count": null,
            "_view_module_version": "1.5.0",
            "box_style": "",
            "layout": "IPY_MODEL_eec8c99c50e14ef2a961905ef400f7f1",
            "_model_module": "@jupyter-widgets/controls",
            "children": [
              "IPY_MODEL_76f7439718aa4187beeab879294926f9",
              "IPY_MODEL_c9b888aeba5b4165a0c521d736f22ba4"
            ]
          }
        },
        "eec8c99c50e14ef2a961905ef400f7f1": {
          "model_module": "@jupyter-widgets/base",
          "model_name": "LayoutModel",
          "state": {
            "_view_name": "LayoutView",
            "grid_template_rows": null,
            "right": null,
            "justify_content": null,
            "_view_module": "@jupyter-widgets/base",
            "overflow": null,
            "_model_module_version": "1.2.0",
            "_view_count": null,
            "flex_flow": null,
            "width": null,
            "min_width": null,
            "border": null,
            "align_items": null,
            "bottom": null,
            "_model_module": "@jupyter-widgets/base",
            "top": null,
            "grid_column": null,
            "overflow_y": null,
            "overflow_x": null,
            "grid_auto_flow": null,
            "grid_area": null,
            "grid_template_columns": null,
            "flex": null,
            "_model_name": "LayoutModel",
            "justify_items": null,
            "grid_row": null,
            "max_height": null,
            "align_content": null,
            "visibility": null,
            "align_self": null,
            "height": null,
            "min_height": null,
            "padding": null,
            "grid_auto_rows": null,
            "grid_gap": null,
            "max_width": null,
            "order": null,
            "_view_module_version": "1.2.0",
            "grid_template_areas": null,
            "object_position": null,
            "object_fit": null,
            "grid_auto_columns": null,
            "margin": null,
            "display": null,
            "left": null
          }
        },
        "76f7439718aa4187beeab879294926f9": {
          "model_module": "@jupyter-widgets/controls",
          "model_name": "FloatProgressModel",
          "state": {
            "_view_name": "ProgressView",
            "style": "IPY_MODEL_76365d2e487842f4b2d36aa19ee2b698",
            "_dom_classes": [],
            "description": "Downloading: 100%",
            "_model_name": "FloatProgressModel",
            "bar_style": "success",
            "max": 798011,
            "_view_module": "@jupyter-widgets/controls",
            "_model_module_version": "1.5.0",
            "value": 798011,
            "_view_count": null,
            "_view_module_version": "1.5.0",
            "orientation": "horizontal",
            "min": 0,
            "description_tooltip": null,
            "_model_module": "@jupyter-widgets/controls",
            "layout": "IPY_MODEL_d9ced7415a7f47808f496edaf3619000"
          }
        },
        "c9b888aeba5b4165a0c521d736f22ba4": {
          "model_module": "@jupyter-widgets/controls",
          "model_name": "HTMLModel",
          "state": {
            "_view_name": "HTMLView",
            "style": "IPY_MODEL_bda3c8c840cc4224837c7641dc0985ce",
            "_dom_classes": [],
            "description": "",
            "_model_name": "HTMLModel",
            "placeholder": "​",
            "_view_module": "@jupyter-widgets/controls",
            "_model_module_version": "1.5.0",
            "value": " 798k/798k [00:00&lt;00:00, 1.29MB/s]",
            "_view_count": null,
            "_view_module_version": "1.5.0",
            "description_tooltip": null,
            "_model_module": "@jupyter-widgets/controls",
            "layout": "IPY_MODEL_954ec06c763f4efcbe6f32194ffdfb2f"
          }
        },
        "76365d2e487842f4b2d36aa19ee2b698": {
          "model_module": "@jupyter-widgets/controls",
          "model_name": "ProgressStyleModel",
          "state": {
            "_view_name": "StyleView",
            "_model_name": "ProgressStyleModel",
            "description_width": "initial",
            "_view_module": "@jupyter-widgets/base",
            "_model_module_version": "1.5.0",
            "_view_count": null,
            "_view_module_version": "1.2.0",
            "bar_color": null,
            "_model_module": "@jupyter-widgets/controls"
          }
        },
        "d9ced7415a7f47808f496edaf3619000": {
          "model_module": "@jupyter-widgets/base",
          "model_name": "LayoutModel",
          "state": {
            "_view_name": "LayoutView",
            "grid_template_rows": null,
            "right": null,
            "justify_content": null,
            "_view_module": "@jupyter-widgets/base",
            "overflow": null,
            "_model_module_version": "1.2.0",
            "_view_count": null,
            "flex_flow": null,
            "width": null,
            "min_width": null,
            "border": null,
            "align_items": null,
            "bottom": null,
            "_model_module": "@jupyter-widgets/base",
            "top": null,
            "grid_column": null,
            "overflow_y": null,
            "overflow_x": null,
            "grid_auto_flow": null,
            "grid_area": null,
            "grid_template_columns": null,
            "flex": null,
            "_model_name": "LayoutModel",
            "justify_items": null,
            "grid_row": null,
            "max_height": null,
            "align_content": null,
            "visibility": null,
            "align_self": null,
            "height": null,
            "min_height": null,
            "padding": null,
            "grid_auto_rows": null,
            "grid_gap": null,
            "max_width": null,
            "order": null,
            "_view_module_version": "1.2.0",
            "grid_template_areas": null,
            "object_position": null,
            "object_fit": null,
            "grid_auto_columns": null,
            "margin": null,
            "display": null,
            "left": null
          }
        },
        "bda3c8c840cc4224837c7641dc0985ce": {
          "model_module": "@jupyter-widgets/controls",
          "model_name": "DescriptionStyleModel",
          "state": {
            "_view_name": "StyleView",
            "_model_name": "DescriptionStyleModel",
            "description_width": "",
            "_view_module": "@jupyter-widgets/base",
            "_model_module_version": "1.5.0",
            "_view_count": null,
            "_view_module_version": "1.2.0",
            "_model_module": "@jupyter-widgets/controls"
          }
        },
        "954ec06c763f4efcbe6f32194ffdfb2f": {
          "model_module": "@jupyter-widgets/base",
          "model_name": "LayoutModel",
          "state": {
            "_view_name": "LayoutView",
            "grid_template_rows": null,
            "right": null,
            "justify_content": null,
            "_view_module": "@jupyter-widgets/base",
            "overflow": null,
            "_model_module_version": "1.2.0",
            "_view_count": null,
            "flex_flow": null,
            "width": null,
            "min_width": null,
            "border": null,
            "align_items": null,
            "bottom": null,
            "_model_module": "@jupyter-widgets/base",
            "top": null,
            "grid_column": null,
            "overflow_y": null,
            "overflow_x": null,
            "grid_auto_flow": null,
            "grid_area": null,
            "grid_template_columns": null,
            "flex": null,
            "_model_name": "LayoutModel",
            "justify_items": null,
            "grid_row": null,
            "max_height": null,
            "align_content": null,
            "visibility": null,
            "align_self": null,
            "height": null,
            "min_height": null,
            "padding": null,
            "grid_auto_rows": null,
            "grid_gap": null,
            "max_width": null,
            "order": null,
            "_view_module_version": "1.2.0",
            "grid_template_areas": null,
            "object_position": null,
            "object_fit": null,
            "grid_auto_columns": null,
            "margin": null,
            "display": null,
            "left": null
          }
        },
        "744f4e326e4c4807b022d7970580a404": {
          "model_module": "@jupyter-widgets/controls",
          "model_name": "HBoxModel",
          "state": {
            "_view_name": "HBoxView",
            "_dom_classes": [],
            "_model_name": "HBoxModel",
            "_view_module": "@jupyter-widgets/controls",
            "_model_module_version": "1.5.0",
            "_view_count": null,
            "_view_module_version": "1.5.0",
            "box_style": "",
            "layout": "IPY_MODEL_be6e5a66dcc649ab9cc7f33c52b88fa8",
            "_model_module": "@jupyter-widgets/controls",
            "children": [
              "IPY_MODEL_12a331252dd54afd8fb3d1886223b336",
              "IPY_MODEL_47a116ee30774491bf652cc7c23211c6"
            ]
          }
        },
        "be6e5a66dcc649ab9cc7f33c52b88fa8": {
          "model_module": "@jupyter-widgets/base",
          "model_name": "LayoutModel",
          "state": {
            "_view_name": "LayoutView",
            "grid_template_rows": null,
            "right": null,
            "justify_content": null,
            "_view_module": "@jupyter-widgets/base",
            "overflow": null,
            "_model_module_version": "1.2.0",
            "_view_count": null,
            "flex_flow": null,
            "width": null,
            "min_width": null,
            "border": null,
            "align_items": null,
            "bottom": null,
            "_model_module": "@jupyter-widgets/base",
            "top": null,
            "grid_column": null,
            "overflow_y": null,
            "overflow_x": null,
            "grid_auto_flow": null,
            "grid_area": null,
            "grid_template_columns": null,
            "flex": null,
            "_model_name": "LayoutModel",
            "justify_items": null,
            "grid_row": null,
            "max_height": null,
            "align_content": null,
            "visibility": null,
            "align_self": null,
            "height": null,
            "min_height": null,
            "padding": null,
            "grid_auto_rows": null,
            "grid_gap": null,
            "max_width": null,
            "order": null,
            "_view_module_version": "1.2.0",
            "grid_template_areas": null,
            "object_position": null,
            "object_fit": null,
            "grid_auto_columns": null,
            "margin": null,
            "display": null,
            "left": null
          }
        },
        "12a331252dd54afd8fb3d1886223b336": {
          "model_module": "@jupyter-widgets/controls",
          "model_name": "FloatProgressModel",
          "state": {
            "_view_name": "ProgressView",
            "style": "IPY_MODEL_7100cd9fe6eb4d5990f2f443d1a00267",
            "_dom_classes": [],
            "description": "Downloading: 100%",
            "_model_name": "FloatProgressModel",
            "bar_style": "success",
            "max": 565485600,
            "_view_module": "@jupyter-widgets/controls",
            "_model_module_version": "1.5.0",
            "value": 565485600,
            "_view_count": null,
            "_view_module_version": "1.5.0",
            "orientation": "horizontal",
            "min": 0,
            "description_tooltip": null,
            "_model_module": "@jupyter-widgets/controls",
            "layout": "IPY_MODEL_03ad40104b0b40288b3820670a9bbe9c"
          }
        },
        "47a116ee30774491bf652cc7c23211c6": {
          "model_module": "@jupyter-widgets/controls",
          "model_name": "HTMLModel",
          "state": {
            "_view_name": "HTMLView",
            "style": "IPY_MODEL_335b416a4a2f43778960cdbd6ab87b36",
            "_dom_classes": [],
            "description": "",
            "_model_name": "HTMLModel",
            "placeholder": "​",
            "_view_module": "@jupyter-widgets/controls",
            "_model_module_version": "1.5.0",
            "value": " 565M/565M [00:41&lt;00:00, 13.5MB/s]",
            "_view_count": null,
            "_view_module_version": "1.5.0",
            "description_tooltip": null,
            "_model_module": "@jupyter-widgets/controls",
            "layout": "IPY_MODEL_29961f623c0c4b7aa02f1f509e25d9be"
          }
        },
        "7100cd9fe6eb4d5990f2f443d1a00267": {
          "model_module": "@jupyter-widgets/controls",
          "model_name": "ProgressStyleModel",
          "state": {
            "_view_name": "StyleView",
            "_model_name": "ProgressStyleModel",
            "description_width": "initial",
            "_view_module": "@jupyter-widgets/base",
            "_model_module_version": "1.5.0",
            "_view_count": null,
            "_view_module_version": "1.2.0",
            "bar_color": null,
            "_model_module": "@jupyter-widgets/controls"
          }
        },
        "03ad40104b0b40288b3820670a9bbe9c": {
          "model_module": "@jupyter-widgets/base",
          "model_name": "LayoutModel",
          "state": {
            "_view_name": "LayoutView",
            "grid_template_rows": null,
            "right": null,
            "justify_content": null,
            "_view_module": "@jupyter-widgets/base",
            "overflow": null,
            "_model_module_version": "1.2.0",
            "_view_count": null,
            "flex_flow": null,
            "width": null,
            "min_width": null,
            "border": null,
            "align_items": null,
            "bottom": null,
            "_model_module": "@jupyter-widgets/base",
            "top": null,
            "grid_column": null,
            "overflow_y": null,
            "overflow_x": null,
            "grid_auto_flow": null,
            "grid_area": null,
            "grid_template_columns": null,
            "flex": null,
            "_model_name": "LayoutModel",
            "justify_items": null,
            "grid_row": null,
            "max_height": null,
            "align_content": null,
            "visibility": null,
            "align_self": null,
            "height": null,
            "min_height": null,
            "padding": null,
            "grid_auto_rows": null,
            "grid_gap": null,
            "max_width": null,
            "order": null,
            "_view_module_version": "1.2.0",
            "grid_template_areas": null,
            "object_position": null,
            "object_fit": null,
            "grid_auto_columns": null,
            "margin": null,
            "display": null,
            "left": null
          }
        },
        "335b416a4a2f43778960cdbd6ab87b36": {
          "model_module": "@jupyter-widgets/controls",
          "model_name": "DescriptionStyleModel",
          "state": {
            "_view_name": "StyleView",
            "_model_name": "DescriptionStyleModel",
            "description_width": "",
            "_view_module": "@jupyter-widgets/base",
            "_model_module_version": "1.5.0",
            "_view_count": null,
            "_view_module_version": "1.2.0",
            "_model_module": "@jupyter-widgets/controls"
          }
        },
        "29961f623c0c4b7aa02f1f509e25d9be": {
          "model_module": "@jupyter-widgets/base",
          "model_name": "LayoutModel",
          "state": {
            "_view_name": "LayoutView",
            "grid_template_rows": null,
            "right": null,
            "justify_content": null,
            "_view_module": "@jupyter-widgets/base",
            "overflow": null,
            "_model_module_version": "1.2.0",
            "_view_count": null,
            "flex_flow": null,
            "width": null,
            "min_width": null,
            "border": null,
            "align_items": null,
            "bottom": null,
            "_model_module": "@jupyter-widgets/base",
            "top": null,
            "grid_column": null,
            "overflow_y": null,
            "overflow_x": null,
            "grid_auto_flow": null,
            "grid_area": null,
            "grid_template_columns": null,
            "flex": null,
            "_model_name": "LayoutModel",
            "justify_items": null,
            "grid_row": null,
            "max_height": null,
            "align_content": null,
            "visibility": null,
            "align_self": null,
            "height": null,
            "min_height": null,
            "padding": null,
            "grid_auto_rows": null,
            "grid_gap": null,
            "max_width": null,
            "order": null,
            "_view_module_version": "1.2.0",
            "grid_template_areas": null,
            "object_position": null,
            "object_fit": null,
            "grid_auto_columns": null,
            "margin": null,
            "display": null,
            "left": null
          }
        },
        "2e9e712951b347bd90a6e7427332475a": {
          "model_module": "@jupyter-widgets/controls",
          "model_name": "HBoxModel",
          "state": {
            "_view_name": "HBoxView",
            "_dom_classes": [],
            "_model_name": "HBoxModel",
            "_view_module": "@jupyter-widgets/controls",
            "_model_module_version": "1.5.0",
            "_view_count": null,
            "_view_module_version": "1.5.0",
            "box_style": "",
            "layout": "IPY_MODEL_80cacc01b11b4fc6aff61d94cad5b71f",
            "_model_module": "@jupyter-widgets/controls",
            "children": [
              "IPY_MODEL_2a8977828a954f1eb0792ff9a40fc44b",
              "IPY_MODEL_8fb00ecc5760440e955285210a0b328a"
            ]
          }
        },
        "80cacc01b11b4fc6aff61d94cad5b71f": {
          "model_module": "@jupyter-widgets/base",
          "model_name": "LayoutModel",
          "state": {
            "_view_name": "LayoutView",
            "grid_template_rows": null,
            "right": null,
            "justify_content": null,
            "_view_module": "@jupyter-widgets/base",
            "overflow": null,
            "_model_module_version": "1.2.0",
            "_view_count": null,
            "flex_flow": null,
            "width": null,
            "min_width": null,
            "border": null,
            "align_items": null,
            "bottom": null,
            "_model_module": "@jupyter-widgets/base",
            "top": null,
            "grid_column": null,
            "overflow_y": null,
            "overflow_x": null,
            "grid_auto_flow": null,
            "grid_area": null,
            "grid_template_columns": null,
            "flex": null,
            "_model_name": "LayoutModel",
            "justify_items": null,
            "grid_row": null,
            "max_height": null,
            "align_content": null,
            "visibility": null,
            "align_self": null,
            "height": null,
            "min_height": null,
            "padding": null,
            "grid_auto_rows": null,
            "grid_gap": null,
            "max_width": null,
            "order": null,
            "_view_module_version": "1.2.0",
            "grid_template_areas": null,
            "object_position": null,
            "object_fit": null,
            "grid_auto_columns": null,
            "margin": null,
            "display": null,
            "left": null
          }
        },
        "2a8977828a954f1eb0792ff9a40fc44b": {
          "model_module": "@jupyter-widgets/controls",
          "model_name": "FloatProgressModel",
          "state": {
            "_view_name": "ProgressView",
            "style": "IPY_MODEL_0fb94f5d569b47d88673eb3789b615e1",
            "_dom_classes": [],
            "description": "Downloading: 100%",
            "_model_name": "FloatProgressModel",
            "bar_style": "success",
            "max": 507,
            "_view_module": "@jupyter-widgets/controls",
            "_model_module_version": "1.5.0",
            "value": 507,
            "_view_count": null,
            "_view_module_version": "1.5.0",
            "orientation": "horizontal",
            "min": 0,
            "description_tooltip": null,
            "_model_module": "@jupyter-widgets/controls",
            "layout": "IPY_MODEL_c7d28dfe74494bf6adc85774065a4b42"
          }
        },
        "8fb00ecc5760440e955285210a0b328a": {
          "model_module": "@jupyter-widgets/controls",
          "model_name": "HTMLModel",
          "state": {
            "_view_name": "HTMLView",
            "style": "IPY_MODEL_57f1d10afba745a19d54fea8bd1f44cf",
            "_dom_classes": [],
            "description": "",
            "_model_name": "HTMLModel",
            "placeholder": "​",
            "_view_module": "@jupyter-widgets/controls",
            "_model_module_version": "1.5.0",
            "value": " 507/507 [00:05&lt;00:00, 89.0B/s]",
            "_view_count": null,
            "_view_module_version": "1.5.0",
            "description_tooltip": null,
            "_model_module": "@jupyter-widgets/controls",
            "layout": "IPY_MODEL_e0a442e59bed446f933c91363e701e22"
          }
        },
        "0fb94f5d569b47d88673eb3789b615e1": {
          "model_module": "@jupyter-widgets/controls",
          "model_name": "ProgressStyleModel",
          "state": {
            "_view_name": "StyleView",
            "_model_name": "ProgressStyleModel",
            "description_width": "initial",
            "_view_module": "@jupyter-widgets/base",
            "_model_module_version": "1.5.0",
            "_view_count": null,
            "_view_module_version": "1.2.0",
            "bar_color": null,
            "_model_module": "@jupyter-widgets/controls"
          }
        },
        "c7d28dfe74494bf6adc85774065a4b42": {
          "model_module": "@jupyter-widgets/base",
          "model_name": "LayoutModel",
          "state": {
            "_view_name": "LayoutView",
            "grid_template_rows": null,
            "right": null,
            "justify_content": null,
            "_view_module": "@jupyter-widgets/base",
            "overflow": null,
            "_model_module_version": "1.2.0",
            "_view_count": null,
            "flex_flow": null,
            "width": null,
            "min_width": null,
            "border": null,
            "align_items": null,
            "bottom": null,
            "_model_module": "@jupyter-widgets/base",
            "top": null,
            "grid_column": null,
            "overflow_y": null,
            "overflow_x": null,
            "grid_auto_flow": null,
            "grid_area": null,
            "grid_template_columns": null,
            "flex": null,
            "_model_name": "LayoutModel",
            "justify_items": null,
            "grid_row": null,
            "max_height": null,
            "align_content": null,
            "visibility": null,
            "align_self": null,
            "height": null,
            "min_height": null,
            "padding": null,
            "grid_auto_rows": null,
            "grid_gap": null,
            "max_width": null,
            "order": null,
            "_view_module_version": "1.2.0",
            "grid_template_areas": null,
            "object_position": null,
            "object_fit": null,
            "grid_auto_columns": null,
            "margin": null,
            "display": null,
            "left": null
          }
        },
        "57f1d10afba745a19d54fea8bd1f44cf": {
          "model_module": "@jupyter-widgets/controls",
          "model_name": "DescriptionStyleModel",
          "state": {
            "_view_name": "StyleView",
            "_model_name": "DescriptionStyleModel",
            "description_width": "",
            "_view_module": "@jupyter-widgets/base",
            "_model_module_version": "1.5.0",
            "_view_count": null,
            "_view_module_version": "1.2.0",
            "_model_module": "@jupyter-widgets/controls"
          }
        },
        "e0a442e59bed446f933c91363e701e22": {
          "model_module": "@jupyter-widgets/base",
          "model_name": "LayoutModel",
          "state": {
            "_view_name": "LayoutView",
            "grid_template_rows": null,
            "right": null,
            "justify_content": null,
            "_view_module": "@jupyter-widgets/base",
            "overflow": null,
            "_model_module_version": "1.2.0",
            "_view_count": null,
            "flex_flow": null,
            "width": null,
            "min_width": null,
            "border": null,
            "align_items": null,
            "bottom": null,
            "_model_module": "@jupyter-widgets/base",
            "top": null,
            "grid_column": null,
            "overflow_y": null,
            "overflow_x": null,
            "grid_auto_flow": null,
            "grid_area": null,
            "grid_template_columns": null,
            "flex": null,
            "_model_name": "LayoutModel",
            "justify_items": null,
            "grid_row": null,
            "max_height": null,
            "align_content": null,
            "visibility": null,
            "align_self": null,
            "height": null,
            "min_height": null,
            "padding": null,
            "grid_auto_rows": null,
            "grid_gap": null,
            "max_width": null,
            "order": null,
            "_view_module_version": "1.2.0",
            "grid_template_areas": null,
            "object_position": null,
            "object_fit": null,
            "grid_auto_columns": null,
            "margin": null,
            "display": null,
            "left": null
          }
        },
        "fd4b92e273ab4a788e075047e9f8a378": {
          "model_module": "@jupyter-widgets/controls",
          "model_name": "HBoxModel",
          "state": {
            "_view_name": "HBoxView",
            "_dom_classes": [],
            "_model_name": "HBoxModel",
            "_view_module": "@jupyter-widgets/controls",
            "_model_module_version": "1.5.0",
            "_view_count": null,
            "_view_module_version": "1.5.0",
            "box_style": "",
            "layout": "IPY_MODEL_19c5bbb1952745c68493388e78ddd7a6",
            "_model_module": "@jupyter-widgets/controls",
            "children": [
              "IPY_MODEL_decc5143ef04496c884e656a42b39d24",
              "IPY_MODEL_68cbcec2dc6a421e82d0d32ffbfa3a3a"
            ]
          }
        },
        "19c5bbb1952745c68493388e78ddd7a6": {
          "model_module": "@jupyter-widgets/base",
          "model_name": "LayoutModel",
          "state": {
            "_view_name": "LayoutView",
            "grid_template_rows": null,
            "right": null,
            "justify_content": null,
            "_view_module": "@jupyter-widgets/base",
            "overflow": null,
            "_model_module_version": "1.2.0",
            "_view_count": null,
            "flex_flow": null,
            "width": null,
            "min_width": null,
            "border": null,
            "align_items": null,
            "bottom": null,
            "_model_module": "@jupyter-widgets/base",
            "top": null,
            "grid_column": null,
            "overflow_y": null,
            "overflow_x": null,
            "grid_auto_flow": null,
            "grid_area": null,
            "grid_template_columns": null,
            "flex": null,
            "_model_name": "LayoutModel",
            "justify_items": null,
            "grid_row": null,
            "max_height": null,
            "align_content": null,
            "visibility": null,
            "align_self": null,
            "height": null,
            "min_height": null,
            "padding": null,
            "grid_auto_rows": null,
            "grid_gap": null,
            "max_width": null,
            "order": null,
            "_view_module_version": "1.2.0",
            "grid_template_areas": null,
            "object_position": null,
            "object_fit": null,
            "grid_auto_columns": null,
            "margin": null,
            "display": null,
            "left": null
          }
        },
        "decc5143ef04496c884e656a42b39d24": {
          "model_module": "@jupyter-widgets/controls",
          "model_name": "FloatProgressModel",
          "state": {
            "_view_name": "ProgressView",
            "style": "IPY_MODEL_3146b35dd0664cbb829d5cb56d8b689b",
            "_dom_classes": [],
            "description": "Downloading: 100%",
            "_model_name": "FloatProgressModel",
            "bar_style": "success",
            "max": 5646064,
            "_view_module": "@jupyter-widgets/controls",
            "_model_module_version": "1.5.0",
            "value": 5646064,
            "_view_count": null,
            "_view_module_version": "1.5.0",
            "orientation": "horizontal",
            "min": 0,
            "description_tooltip": null,
            "_model_module": "@jupyter-widgets/controls",
            "layout": "IPY_MODEL_dbfc1ad1f787477d9edcfb051ed858f2"
          }
        },
        "68cbcec2dc6a421e82d0d32ffbfa3a3a": {
          "model_module": "@jupyter-widgets/controls",
          "model_name": "HTMLModel",
          "state": {
            "_view_name": "HTMLView",
            "style": "IPY_MODEL_1be57af00f324eb180e483373b52c19c",
            "_dom_classes": [],
            "description": "",
            "_model_name": "HTMLModel",
            "placeholder": "​",
            "_view_module": "@jupyter-widgets/controls",
            "_model_module_version": "1.5.0",
            "value": " 5.65M/5.65M [00:02&lt;00:00, 2.34MB/s]",
            "_view_count": null,
            "_view_module_version": "1.5.0",
            "description_tooltip": null,
            "_model_module": "@jupyter-widgets/controls",
            "layout": "IPY_MODEL_b110ce9719b04e2c9a6ba98cb32017b6"
          }
        },
        "3146b35dd0664cbb829d5cb56d8b689b": {
          "model_module": "@jupyter-widgets/controls",
          "model_name": "ProgressStyleModel",
          "state": {
            "_view_name": "StyleView",
            "_model_name": "ProgressStyleModel",
            "description_width": "initial",
            "_view_module": "@jupyter-widgets/base",
            "_model_module_version": "1.5.0",
            "_view_count": null,
            "_view_module_version": "1.2.0",
            "bar_color": null,
            "_model_module": "@jupyter-widgets/controls"
          }
        },
        "dbfc1ad1f787477d9edcfb051ed858f2": {
          "model_module": "@jupyter-widgets/base",
          "model_name": "LayoutModel",
          "state": {
            "_view_name": "LayoutView",
            "grid_template_rows": null,
            "right": null,
            "justify_content": null,
            "_view_module": "@jupyter-widgets/base",
            "overflow": null,
            "_model_module_version": "1.2.0",
            "_view_count": null,
            "flex_flow": null,
            "width": null,
            "min_width": null,
            "border": null,
            "align_items": null,
            "bottom": null,
            "_model_module": "@jupyter-widgets/base",
            "top": null,
            "grid_column": null,
            "overflow_y": null,
            "overflow_x": null,
            "grid_auto_flow": null,
            "grid_area": null,
            "grid_template_columns": null,
            "flex": null,
            "_model_name": "LayoutModel",
            "justify_items": null,
            "grid_row": null,
            "max_height": null,
            "align_content": null,
            "visibility": null,
            "align_self": null,
            "height": null,
            "min_height": null,
            "padding": null,
            "grid_auto_rows": null,
            "grid_gap": null,
            "max_width": null,
            "order": null,
            "_view_module_version": "1.2.0",
            "grid_template_areas": null,
            "object_position": null,
            "object_fit": null,
            "grid_auto_columns": null,
            "margin": null,
            "display": null,
            "left": null
          }
        },
        "1be57af00f324eb180e483373b52c19c": {
          "model_module": "@jupyter-widgets/controls",
          "model_name": "DescriptionStyleModel",
          "state": {
            "_view_name": "StyleView",
            "_model_name": "DescriptionStyleModel",
            "description_width": "",
            "_view_module": "@jupyter-widgets/base",
            "_model_module_version": "1.5.0",
            "_view_count": null,
            "_view_module_version": "1.2.0",
            "_model_module": "@jupyter-widgets/controls"
          }
        },
        "b110ce9719b04e2c9a6ba98cb32017b6": {
          "model_module": "@jupyter-widgets/base",
          "model_name": "LayoutModel",
          "state": {
            "_view_name": "LayoutView",
            "grid_template_rows": null,
            "right": null,
            "justify_content": null,
            "_view_module": "@jupyter-widgets/base",
            "overflow": null,
            "_model_module_version": "1.2.0",
            "_view_count": null,
            "flex_flow": null,
            "width": null,
            "min_width": null,
            "border": null,
            "align_items": null,
            "bottom": null,
            "_model_module": "@jupyter-widgets/base",
            "top": null,
            "grid_column": null,
            "overflow_y": null,
            "overflow_x": null,
            "grid_auto_flow": null,
            "grid_area": null,
            "grid_template_columns": null,
            "flex": null,
            "_model_name": "LayoutModel",
            "justify_items": null,
            "grid_row": null,
            "max_height": null,
            "align_content": null,
            "visibility": null,
            "align_self": null,
            "height": null,
            "min_height": null,
            "padding": null,
            "grid_auto_rows": null,
            "grid_gap": null,
            "max_width": null,
            "order": null,
            "_view_module_version": "1.2.0",
            "grid_template_areas": null,
            "object_position": null,
            "object_fit": null,
            "grid_auto_columns": null,
            "margin": null,
            "display": null,
            "left": null
          }
        },
        "51a80146728e4fa6a3b4ead28842d766": {
          "model_module": "@jupyter-widgets/controls",
          "model_name": "HBoxModel",
          "state": {
            "_view_name": "HBoxView",
            "_dom_classes": [],
            "_model_name": "HBoxModel",
            "_view_module": "@jupyter-widgets/controls",
            "_model_module_version": "1.5.0",
            "_view_count": null,
            "_view_module_version": "1.5.0",
            "box_style": "",
            "layout": "IPY_MODEL_43b0a333b9af4502a78f0c06c434b6f3",
            "_model_module": "@jupyter-widgets/controls",
            "children": [
              "IPY_MODEL_dbb212374f814a0284c55325b9ab3c23",
              "IPY_MODEL_fffcfc527e8644688173a8b8e2da7840"
            ]
          }
        },
        "43b0a333b9af4502a78f0c06c434b6f3": {
          "model_module": "@jupyter-widgets/base",
          "model_name": "LayoutModel",
          "state": {
            "_view_name": "LayoutView",
            "grid_template_rows": null,
            "right": null,
            "justify_content": null,
            "_view_module": "@jupyter-widgets/base",
            "overflow": null,
            "_model_module_version": "1.2.0",
            "_view_count": null,
            "flex_flow": null,
            "width": null,
            "min_width": null,
            "border": null,
            "align_items": null,
            "bottom": null,
            "_model_module": "@jupyter-widgets/base",
            "top": null,
            "grid_column": null,
            "overflow_y": null,
            "overflow_x": null,
            "grid_auto_flow": null,
            "grid_area": null,
            "grid_template_columns": null,
            "flex": null,
            "_model_name": "LayoutModel",
            "justify_items": null,
            "grid_row": null,
            "max_height": null,
            "align_content": null,
            "visibility": null,
            "align_self": null,
            "height": null,
            "min_height": null,
            "padding": null,
            "grid_auto_rows": null,
            "grid_gap": null,
            "max_width": null,
            "order": null,
            "_view_module_version": "1.2.0",
            "grid_template_areas": null,
            "object_position": null,
            "object_fit": null,
            "grid_auto_columns": null,
            "margin": null,
            "display": null,
            "left": null
          }
        },
        "dbb212374f814a0284c55325b9ab3c23": {
          "model_module": "@jupyter-widgets/controls",
          "model_name": "FloatProgressModel",
          "state": {
            "_view_name": "ProgressView",
            "style": "IPY_MODEL_b051b37d2c464ab59ac061986d146841",
            "_dom_classes": [],
            "description": "Downloading: 100%",
            "_model_name": "FloatProgressModel",
            "bar_style": "success",
            "max": 134982446,
            "_view_module": "@jupyter-widgets/controls",
            "_model_module_version": "1.5.0",
            "value": 134982446,
            "_view_count": null,
            "_view_module_version": "1.5.0",
            "orientation": "horizontal",
            "min": 0,
            "description_tooltip": null,
            "_model_module": "@jupyter-widgets/controls",
            "layout": "IPY_MODEL_cf9561773d6a4c69b1d9f503a4a4e82e"
          }
        },
        "fffcfc527e8644688173a8b8e2da7840": {
          "model_module": "@jupyter-widgets/controls",
          "model_name": "HTMLModel",
          "state": {
            "_view_name": "HTMLView",
            "style": "IPY_MODEL_5fd3c20f916e49919be4a301afbc5cc9",
            "_dom_classes": [],
            "description": "",
            "_model_name": "HTMLModel",
            "placeholder": "​",
            "_view_module": "@jupyter-widgets/controls",
            "_model_module_version": "1.5.0",
            "value": " 135M/135M [00:02&lt;00:00, 52.6MB/s]",
            "_view_count": null,
            "_view_module_version": "1.5.0",
            "description_tooltip": null,
            "_model_module": "@jupyter-widgets/controls",
            "layout": "IPY_MODEL_a9a224c086b64080be4f5a55da125c34"
          }
        },
        "b051b37d2c464ab59ac061986d146841": {
          "model_module": "@jupyter-widgets/controls",
          "model_name": "ProgressStyleModel",
          "state": {
            "_view_name": "StyleView",
            "_model_name": "ProgressStyleModel",
            "description_width": "initial",
            "_view_module": "@jupyter-widgets/base",
            "_model_module_version": "1.5.0",
            "_view_count": null,
            "_view_module_version": "1.2.0",
            "bar_color": null,
            "_model_module": "@jupyter-widgets/controls"
          }
        },
        "cf9561773d6a4c69b1d9f503a4a4e82e": {
          "model_module": "@jupyter-widgets/base",
          "model_name": "LayoutModel",
          "state": {
            "_view_name": "LayoutView",
            "grid_template_rows": null,
            "right": null,
            "justify_content": null,
            "_view_module": "@jupyter-widgets/base",
            "overflow": null,
            "_model_module_version": "1.2.0",
            "_view_count": null,
            "flex_flow": null,
            "width": null,
            "min_width": null,
            "border": null,
            "align_items": null,
            "bottom": null,
            "_model_module": "@jupyter-widgets/base",
            "top": null,
            "grid_column": null,
            "overflow_y": null,
            "overflow_x": null,
            "grid_auto_flow": null,
            "grid_area": null,
            "grid_template_columns": null,
            "flex": null,
            "_model_name": "LayoutModel",
            "justify_items": null,
            "grid_row": null,
            "max_height": null,
            "align_content": null,
            "visibility": null,
            "align_self": null,
            "height": null,
            "min_height": null,
            "padding": null,
            "grid_auto_rows": null,
            "grid_gap": null,
            "max_width": null,
            "order": null,
            "_view_module_version": "1.2.0",
            "grid_template_areas": null,
            "object_position": null,
            "object_fit": null,
            "grid_auto_columns": null,
            "margin": null,
            "display": null,
            "left": null
          }
        },
        "5fd3c20f916e49919be4a301afbc5cc9": {
          "model_module": "@jupyter-widgets/controls",
          "model_name": "DescriptionStyleModel",
          "state": {
            "_view_name": "StyleView",
            "_model_name": "DescriptionStyleModel",
            "description_width": "",
            "_view_module": "@jupyter-widgets/base",
            "_model_module_version": "1.5.0",
            "_view_count": null,
            "_view_module_version": "1.2.0",
            "_model_module": "@jupyter-widgets/controls"
          }
        },
        "a9a224c086b64080be4f5a55da125c34": {
          "model_module": "@jupyter-widgets/base",
          "model_name": "LayoutModel",
          "state": {
            "_view_name": "LayoutView",
            "grid_template_rows": null,
            "right": null,
            "justify_content": null,
            "_view_module": "@jupyter-widgets/base",
            "overflow": null,
            "_model_module_version": "1.2.0",
            "_view_count": null,
            "flex_flow": null,
            "width": null,
            "min_width": null,
            "border": null,
            "align_items": null,
            "bottom": null,
            "_model_module": "@jupyter-widgets/base",
            "top": null,
            "grid_column": null,
            "overflow_y": null,
            "overflow_x": null,
            "grid_auto_flow": null,
            "grid_area": null,
            "grid_template_columns": null,
            "flex": null,
            "_model_name": "LayoutModel",
            "justify_items": null,
            "grid_row": null,
            "max_height": null,
            "align_content": null,
            "visibility": null,
            "align_self": null,
            "height": null,
            "min_height": null,
            "padding": null,
            "grid_auto_rows": null,
            "grid_gap": null,
            "max_width": null,
            "order": null,
            "_view_module_version": "1.2.0",
            "grid_template_areas": null,
            "object_position": null,
            "object_fit": null,
            "grid_auto_columns": null,
            "margin": null,
            "display": null,
            "left": null
          }
        }
      }
    }
  },
  "cells": [
    {
      "cell_type": "markdown",
      "metadata": {
        "id": "view-in-github",
        "colab_type": "text"
      },
      "source": [
        "<a href=\"https://colab.research.google.com/github/eftekhar-hossain/CUET_NLP-EACL_2021/blob/main/Hope_speech_detection_(EACL_2021).ipynb\" target=\"_parent\"><img src=\"https://colab.research.google.com/assets/colab-badge.svg\" alt=\"Open In Colab\"/></a>"
      ]
    },
    {
      "cell_type": "code",
      "metadata": {
        "colab": {
          "base_uri": "https://localhost:8080/"
        },
        "id": "W22pgNdhtl9w",
        "outputId": "0108e5d5-cd2c-420d-9a8e-239d644e06ae"
      },
      "source": [
        "from google.colab import drive\n",
        "drive.mount('/content/drive')"
      ],
      "execution_count": null,
      "outputs": [
        {
          "output_type": "stream",
          "text": [
            "Mounted at /content/drive\n"
          ],
          "name": "stdout"
        }
      ]
    },
    {
      "cell_type": "markdown",
      "metadata": {
        "id": "3RGfBZxTtw-Q"
      },
      "source": [
        "## Libraries"
      ]
    },
    {
      "cell_type": "code",
      "metadata": {
        "colab": {
          "base_uri": "https://localhost:8080/"
        },
        "id": "-5Vq3O8ytuHT",
        "outputId": "ac97a7ad-3b1c-42f9-cc38-8a683e026b93"
      },
      "source": [
        "%%time\n",
        "import os\n",
        "from glob import glob\n",
        "import numpy as np\n",
        "import matplotlib.pyplot as plt\n",
        "%matplotlib inline\n",
        "import pandas as pd\n",
        "import seaborn as sns\n",
        "import re\n",
        "import nltk\n",
        "import json\n",
        "from sklearn.preprocessing import MultiLabelBinarizer\n",
        "from sklearn.metrics import confusion_matrix\n",
        "from sklearn.metrics import classification_report \n",
        "from sklearn.model_selection import train_test_split\n",
        "from sklearn.linear_model import LogisticRegression\n",
        "from sklearn.tree import DecisionTreeClassifier\n",
        "from sklearn.ensemble import RandomForestClassifier\n",
        "from sklearn.linear_model import SGDClassifier\n",
        "from sklearn.naive_bayes import MultinomialNB\n",
        "from sklearn.ensemble import VotingClassifier\n",
        "from sklearn.ensemble import BaggingClassifier\n",
        "from sklearn.ensemble import AdaBoostClassifier, RandomForestClassifier, ExtraTreesClassifier\n",
        "from sklearn.svm import SVC\n",
        "from sklearn.metrics import accuracy_score,precision_score,recall_score,f1_score,roc_auc_score\n",
        "from sklearn.metrics import average_precision_score,roc_auc_score, roc_curve, precision_recall_curve\n",
        "from sklearn.preprocessing import LabelEncoder\n",
        "from sklearn.feature_extraction.text import TfidfVectorizer\n",
        "np.random.seed(42)\n",
        "import nltk\n",
        "nltk.download('punkt')\n",
        "from nltk.corpus import stopwords\n",
        "from nltk.tokenize import word_tokenize\n",
        "from nltk.tokenize import ToktokTokenizer\n",
        "import nltk, string, re, spacy,unicodedata, random\n",
        "from bs4 import BeautifulSoup\n",
        "import warnings\n",
        "warnings.filterwarnings('ignore')\n",
        "### Pretrained Word Embeddings\n",
        "pretrained_path = \"/content/drive/MyDrive/Colab Notebooks/PreTrained Wordembeddings/\"\n",
        "dataset_path = \"/content/drive/MyDrive/Colab Notebooks/NLP Projects/EACL 2021- Shared Tasks/Hope Speech/Dataset/\"\n",
        "folder_path = \"/content/drive/MyDrive/Colab Notebooks/NLP Projects/EACL 2021- Shared Tasks/Hope Speech/\""
      ],
      "execution_count": null,
      "outputs": [
        {
          "output_type": "stream",
          "text": [
            "[nltk_data] Downloading package punkt to /root/nltk_data...\n",
            "[nltk_data]   Unzipping tokenizers/punkt.zip.\n",
            "CPU times: user 1.43 s, sys: 638 ms, total: 2.06 s\n",
            "Wall time: 5.71 s\n"
          ],
          "name": "stdout"
        }
      ]
    },
    {
      "cell_type": "markdown",
      "metadata": {
        "id": "--DoUyA6RTqr"
      },
      "source": [
        "# English Dataset "
      ]
    },
    {
      "cell_type": "code",
      "metadata": {
        "colab": {
          "base_uri": "https://localhost:8080/"
        },
        "id": "uSbF0MyuQ7eY",
        "outputId": "791ae93f-a654-499d-bf1a-7901fd47b29f"
      },
      "source": [
        "%%time\n",
        "train_data = pd.read_csv(dataset_path + \"english_hope_train.csv\",delimiter='\\t',header = None)\n",
        "valid_data = pd.read_csv(dataset_path + \"english_hope_dev.csv\",delimiter='\\t',header = None)\n",
        "test_data = pd.read_csv(dataset_path + \"english_hope_test.csv\",delimiter='\\t',header = None)"
      ],
      "execution_count": null,
      "outputs": [
        {
          "output_type": "stream",
          "text": [
            "CPU times: user 48.8 ms, sys: 17.8 ms, total: 66.6 ms\n",
            "Wall time: 3.54 s\n"
          ],
          "name": "stdout"
        }
      ]
    },
    {
      "cell_type": "code",
      "metadata": {
        "id": "TH0vUxuWKnpK"
      },
      "source": [
        "train_data = train_data.drop(columns=2)\n",
        "train_data = train_data.rename(columns={0:'text',1:'label'})\n",
        "valid_data = valid_data.drop(columns=2)\n",
        "valid_data = valid_data.rename(columns={0:'text',1:'label'})\n",
        "test_data = test_data.rename(columns={0:'text'})"
      ],
      "execution_count": null,
      "outputs": []
    },
    {
      "cell_type": "code",
      "metadata": {
        "id": "u6VETpldasP4"
      },
      "source": [
        "train_data['enc_label'] = train_data['label'].replace({'Non_hope_speech':0, 'Hope_speech':1,'not-English':2})\n",
        "valid_data['enc_label'] = valid_data['label'].replace({'Non_hope_speech':0, 'Hope_speech':1,'not-English':2})"
      ],
      "execution_count": null,
      "outputs": []
    },
    {
      "cell_type": "code",
      "metadata": {
        "id": "XrgHJ9SILI1y"
      },
      "source": [
        "train_data"
      ],
      "execution_count": null,
      "outputs": []
    },
    {
      "cell_type": "code",
      "metadata": {
        "id": "NFJ8nlGOKCpd"
      },
      "source": [
        "train_data['text'].tolist()"
      ],
      "execution_count": null,
      "outputs": []
    },
    {
      "cell_type": "code",
      "metadata": {
        "colab": {
          "base_uri": "https://localhost:8080/"
        },
        "id": "9TfIkWutmRU2",
        "outputId": "d2f95bf8-21b4-417b-dfd1-c5b01fd939d1"
      },
      "source": [
        "train_data['enc_label'].value_counts()"
      ],
      "execution_count": null,
      "outputs": [
        {
          "output_type": "execute_result",
          "data": {
            "text/plain": [
              "0    20778\n",
              "1     1962\n",
              "2       22\n",
              "Name: enc_label, dtype: int64"
            ]
          },
          "metadata": {
            "tags": []
          },
          "execution_count": 6
        }
      ]
    },
    {
      "cell_type": "code",
      "metadata": {
        "colab": {
          "base_uri": "https://localhost:8080/"
        },
        "id": "WPfTo7b4Laft",
        "outputId": "a803c55e-e9d8-4734-849e-c33e3df3d9bd"
      },
      "source": [
        "valid_data['enc_label'].value_counts()"
      ],
      "execution_count": null,
      "outputs": [
        {
          "output_type": "execute_result",
          "data": {
            "text/plain": [
              "0    2569\n",
              "1     272\n",
              "2       2\n",
              "Name: enc_label, dtype: int64"
            ]
          },
          "metadata": {
            "tags": []
          },
          "execution_count": 7
        }
      ]
    },
    {
      "cell_type": "code",
      "metadata": {
        "colab": {
          "base_uri": "https://localhost:8080/"
        },
        "id": "2MvUxuK8RePu",
        "outputId": "21ddb519-35af-45d5-cd19-b93c1c1ce881"
      },
      "source": [
        "print(\"Size of the training data ==> \", train_data.shape)\n",
        "print(\"Size of the validation data ==>\", valid_data.shape)\n",
        "print(\"Size of the Test data ==>\", test_data.shape)"
      ],
      "execution_count": null,
      "outputs": [
        {
          "output_type": "stream",
          "text": [
            "Size of the training data ==>  (22762, 3)\n",
            "Size of the validation data ==> (2843, 3)\n",
            "Size of the Test data ==> (2846, 1)\n"
          ],
          "name": "stdout"
        }
      ]
    },
    {
      "cell_type": "markdown",
      "metadata": {
        "id": "XTK4XFXfjxLJ"
      },
      "source": [
        "## One Hot Encoding"
      ]
    },
    {
      "cell_type": "code",
      "metadata": {
        "id": "65uobCUfiwSq"
      },
      "source": [
        "import pandas as pd\n",
        "from sklearn.preprocessing import OneHotEncoder"
      ],
      "execution_count": null,
      "outputs": []
    },
    {
      "cell_type": "code",
      "metadata": {
        "id": "fiq_DHChi0UV"
      },
      "source": [
        "encoder=OneHotEncoder(sparse=False)\n",
        "\n",
        "encoded_labels = pd.DataFrame (encoder.fit_transform(train_data[['label']]))\n",
        "\n",
        "encoded_labels .columns = encoder.get_feature_names(['label'])\n",
        "\n",
        "train_data= pd.concat([train_data, encoded_labels ], axis=1)"
      ],
      "execution_count": null,
      "outputs": []
    },
    {
      "cell_type": "code",
      "metadata": {
        "id": "gML6kds4jS3R",
        "colab": {
          "base_uri": "https://localhost:8080/",
          "height": 459
        },
        "outputId": "53f70aef-27aa-4640-e1cd-543191ba24b2"
      },
      "source": [
        "train_data = train_data.rename(columns={'label_Hope_speech':'Hope_speech','label_Non_hope_speech':'Non_hope_speech',\n",
        "                                        'label_not-English':'not-English'})\n",
        "train_data"
      ],
      "execution_count": null,
      "outputs": [
        {
          "output_type": "execute_result",
          "data": {
            "text/html": [
              "<div>\n",
              "<style scoped>\n",
              "    .dataframe tbody tr th:only-of-type {\n",
              "        vertical-align: middle;\n",
              "    }\n",
              "\n",
              "    .dataframe tbody tr th {\n",
              "        vertical-align: top;\n",
              "    }\n",
              "\n",
              "    .dataframe thead th {\n",
              "        text-align: right;\n",
              "    }\n",
              "</style>\n",
              "<table border=\"1\" class=\"dataframe\">\n",
              "  <thead>\n",
              "    <tr style=\"text-align: right;\">\n",
              "      <th></th>\n",
              "      <th>text</th>\n",
              "      <th>label</th>\n",
              "      <th>enc_label</th>\n",
              "      <th>Hope_speech</th>\n",
              "      <th>Non_hope_speech</th>\n",
              "      <th>not-English</th>\n",
              "    </tr>\n",
              "  </thead>\n",
              "  <tbody>\n",
              "    <tr>\n",
              "      <th>0</th>\n",
              "      <td>these tiktoks radiate gay chaotic energy and i...</td>\n",
              "      <td>Non_hope_speech</td>\n",
              "      <td>0</td>\n",
              "      <td>0.0</td>\n",
              "      <td>1.0</td>\n",
              "      <td>0.0</td>\n",
              "    </tr>\n",
              "    <tr>\n",
              "      <th>1</th>\n",
              "      <td>@Champions Again He got killed for using false...</td>\n",
              "      <td>Non_hope_speech</td>\n",
              "      <td>0</td>\n",
              "      <td>0.0</td>\n",
              "      <td>1.0</td>\n",
              "      <td>0.0</td>\n",
              "    </tr>\n",
              "    <tr>\n",
              "      <th>2</th>\n",
              "      <td>It's not that all lives don't matter</td>\n",
              "      <td>Non_hope_speech</td>\n",
              "      <td>0</td>\n",
              "      <td>0.0</td>\n",
              "      <td>1.0</td>\n",
              "      <td>0.0</td>\n",
              "    </tr>\n",
              "    <tr>\n",
              "      <th>3</th>\n",
              "      <td>Is it really that difficult to understand? Bla...</td>\n",
              "      <td>Non_hope_speech</td>\n",
              "      <td>0</td>\n",
              "      <td>0.0</td>\n",
              "      <td>1.0</td>\n",
              "      <td>0.0</td>\n",
              "    </tr>\n",
              "    <tr>\n",
              "      <th>4</th>\n",
              "      <td>Whenever we say black isn't that racists?  Why...</td>\n",
              "      <td>Non_hope_speech</td>\n",
              "      <td>0</td>\n",
              "      <td>0.0</td>\n",
              "      <td>1.0</td>\n",
              "      <td>0.0</td>\n",
              "    </tr>\n",
              "    <tr>\n",
              "      <th>...</th>\n",
              "      <td>...</td>\n",
              "      <td>...</td>\n",
              "      <td>...</td>\n",
              "      <td>...</td>\n",
              "      <td>...</td>\n",
              "      <td>...</td>\n",
              "    </tr>\n",
              "    <tr>\n",
              "      <th>22757</th>\n",
              "      <td>It's a load of bollocks every life matters sim...</td>\n",
              "      <td>Non_hope_speech</td>\n",
              "      <td>0</td>\n",
              "      <td>0.0</td>\n",
              "      <td>1.0</td>\n",
              "      <td>0.0</td>\n",
              "    </tr>\n",
              "    <tr>\n",
              "      <th>22758</th>\n",
              "      <td>no say it because all lives matter! deku would...</td>\n",
              "      <td>Non_hope_speech</td>\n",
              "      <td>0</td>\n",
              "      <td>0.0</td>\n",
              "      <td>1.0</td>\n",
              "      <td>0.0</td>\n",
              "    </tr>\n",
              "    <tr>\n",
              "      <th>22759</th>\n",
              "      <td>God says her life matters</td>\n",
              "      <td>Non_hope_speech</td>\n",
              "      <td>0</td>\n",
              "      <td>0.0</td>\n",
              "      <td>1.0</td>\n",
              "      <td>0.0</td>\n",
              "    </tr>\n",
              "    <tr>\n",
              "      <th>22760</th>\n",
              "      <td>This video is just shit. A bunch of whiny ass ...</td>\n",
              "      <td>Non_hope_speech</td>\n",
              "      <td>0</td>\n",
              "      <td>0.0</td>\n",
              "      <td>1.0</td>\n",
              "      <td>0.0</td>\n",
              "    </tr>\n",
              "    <tr>\n",
              "      <th>22761</th>\n",
              "      <td>Mc Fortnut2821 she did 4 months ago in west ch...</td>\n",
              "      <td>Non_hope_speech</td>\n",
              "      <td>0</td>\n",
              "      <td>0.0</td>\n",
              "      <td>1.0</td>\n",
              "      <td>0.0</td>\n",
              "    </tr>\n",
              "  </tbody>\n",
              "</table>\n",
              "<p>22762 rows × 6 columns</p>\n",
              "</div>"
            ],
            "text/plain": [
              "                                                    text  ... not-English\n",
              "0      these tiktoks radiate gay chaotic energy and i...  ...         0.0\n",
              "1      @Champions Again He got killed for using false...  ...         0.0\n",
              "2                   It's not that all lives don't matter  ...         0.0\n",
              "3      Is it really that difficult to understand? Bla...  ...         0.0\n",
              "4      Whenever we say black isn't that racists?  Why...  ...         0.0\n",
              "...                                                  ...  ...         ...\n",
              "22757  It's a load of bollocks every life matters sim...  ...         0.0\n",
              "22758  no say it because all lives matter! deku would...  ...         0.0\n",
              "22759                          God says her life matters  ...         0.0\n",
              "22760  This video is just shit. A bunch of whiny ass ...  ...         0.0\n",
              "22761  Mc Fortnut2821 she did 4 months ago in west ch...  ...         0.0\n",
              "\n",
              "[22762 rows x 6 columns]"
            ]
          },
          "metadata": {
            "tags": []
          },
          "execution_count": 270
        }
      ]
    },
    {
      "cell_type": "markdown",
      "metadata": {
        "id": "BTBBSPxAMtWF"
      },
      "source": [
        "## Cleaning"
      ]
    },
    {
      "cell_type": "code",
      "metadata": {
        "id": "w7lEBJuYfZzY"
      },
      "source": [
        "'''\n",
        "Text Cleaning\n",
        "'''\n",
        "def text_cleaning(row):\n",
        "  # to remove HTML tags\n",
        "  text = BeautifulSoup(row, 'html.parser').get_text()\n",
        "  d = re.sub(r'(https|http)?:\\/\\/(\\w|\\.|\\/|\\?|\\=|\\&|\\%)*\\b', '', text, flags=re.MULTILINE) #This line is for removing url\n",
        "  post = d.replace('\\n', '')\n",
        "  post = post.replace('—', ' ')\n",
        "  # to remove accented characters\n",
        "  new_text = unicodedata.normalize('NFKD', post).encode('ascii', 'ignore').decode('utf-8', 'ignore')\n",
        "  # to remove special characters and numbers\n",
        "  # define the pattern to keep\n",
        "  #pat = r'[^a-zA-z0-9.,!?/:;\\\"\\'\\s]' \n",
        "  #text = re.sub(pat, '', new_text)\n",
        "  #to remove punctuation\n",
        "  text = ''.join([c for c in text if c not in string.punctuation])\n",
        "  # to remove special characters\n",
        "  pattern = r'^\\s*|\\s\\s*'\n",
        "  text = re.sub(pattern, ' ', text).strip()\n",
        "  # convert into lower case\n",
        "  text = text.lower() \n",
        "  # Stopword Removing\n",
        "  tokenizer = ToktokTokenizer()\n",
        "  # convert sentence into token of words\n",
        "  tokens = tokenizer.tokenize(text)\n",
        "  tokens = [token.strip() for token in tokens]\n",
        "  # check in lowercase \n",
        "  #t = [token for token in tokens if token.lower() not in stopword_list]\n",
        "  #text = ' '.join(t) \n",
        "  # Stemming\n",
        "  #t = [stemming.stem(token) for token in tokens ]\n",
        "  #text = ' '.join(t) \n",
        "\n",
        "  return text\n",
        "\n"
      ],
      "execution_count": null,
      "outputs": []
    },
    {
      "cell_type": "code",
      "metadata": {
        "id": "_K13k7oBgBHm",
        "colab": {
          "base_uri": "https://localhost:8080/"
        },
        "outputId": "1c5a5ec8-9bd3-4bb6-c672-e7e3778069be"
      },
      "source": [
        "#removing URLs and Punctuations\n",
        "#train_data['cleaned'] = train_data['tweet'].apply(remove_url)\n",
        "#Removing punctuations\n",
        "train_data['cleaned'] = train_data['text'].apply(text_cleaning)\n",
        "valid_data['cleaned'] = valid_data['text'].apply(text_cleaning)\n",
        "test_data['cleaned'] = test_data['text'].apply(text_cleaning)\n",
        "\n",
        "\n",
        "## Data samples after cleaning\n",
        "print(\"Data samples after cleaning:\\n\")\n",
        "for i in range(10):\n",
        "  print(\"Original Data:===\\n\",train_data.text[i],\"\\nCleaned Data:===\\n\",train_data.cleaned[i],)"
      ],
      "execution_count": null,
      "outputs": [
        {
          "output_type": "stream",
          "text": [
            "Data samples after cleaning:\n",
            "\n",
            "Original Data:===\n",
            " these tiktoks radiate gay chaotic energy and i love it \n",
            "Cleaned Data:===\n",
            " these tiktoks radiate gay chaotic energy and i love it\n",
            "Original Data:===\n",
            " @Champions Again He got killed for using false money \n",
            "Cleaned Data:===\n",
            " champions again he got killed for using false money\n",
            "Original Data:===\n",
            " It's not that all lives don't matter \n",
            "Cleaned Data:===\n",
            " its not that all lives dont matter\n",
            "Original Data:===\n",
            " Is it really that difficult to understand? Black lives matter and all lives matter are not mutually exclusive. They are both true as general statements. So are white lives matter and asian lives matter. Black lives matter in this context is simply the name of a movement against the strangely high rate of police violence on black people and the statement is referring to those who behave like and treat black people as if they dont matter. For example \n",
            "Cleaned Data:===\n",
            " is it really that difficult to understand black lives matter and all lives matter are not mutually exclusive they are both true as general statements so are white lives matter and asian lives matter black lives matter in this context is simply the name of a movement against the strangely high rate of police violence on black people and the statement is referring to those who behave like and treat black people as if they dont matter for example\n",
            "Original Data:===\n",
            " Whenever we say black isn't that racists?  Why don't just say Americans. \n",
            "Cleaned Data:===\n",
            " whenever we say black isnt that racists why dont just say americans\n",
            "Original Data:===\n",
            " Ros The Boss u don’t know that she’s actually lgbtq tho so.... \n",
            "Cleaned Data:===\n",
            " ros the boss u don’t know that she’s actually lgbtq tho so\n",
            "Original Data:===\n",
            " That was funny at the end when Larry said 'What are we arguing about then'. haha but that said \n",
            "Cleaned Data:===\n",
            " that was funny at the end when larry said what are we arguing about then haha but that said\n",
            "Original Data:===\n",
            " She saves lives with her music. \n",
            "Cleaned Data:===\n",
            " she saves lives with her music\n",
            "Original Data:===\n",
            " There were a lot of Samoans in my Army unit \n",
            "Cleaned Data:===\n",
            " there were a lot of samoans in my army unit\n",
            "Original Data:===\n",
            " Network Engineer here- 23 and currently working as an instructor teaching men and women looking to be in IT =] Next I want to teach at a University! \n",
            "Cleaned Data:===\n",
            " network engineer here 23 and currently working as an instructor teaching men and women looking to be in it next i want to teach at a university\n"
          ],
          "name": "stdout"
        }
      ]
    },
    {
      "cell_type": "code",
      "metadata": {
        "colab": {
          "base_uri": "https://localhost:8080/"
        },
        "id": "IiR_GFR6beGK",
        "outputId": "35a51d44-d90a-409f-8e1f-f37c115d73a4"
      },
      "source": [
        "valid_data['cleaned'].shape"
      ],
      "execution_count": null,
      "outputs": [
        {
          "output_type": "execute_result",
          "data": {
            "text/plain": [
              "(2843,)"
            ]
          },
          "metadata": {
            "tags": []
          },
          "execution_count": 97
        }
      ]
    },
    {
      "cell_type": "markdown",
      "metadata": {
        "id": "18fS4grzgl34"
      },
      "source": [
        "## Data Statistics"
      ]
    },
    {
      "cell_type": "code",
      "metadata": {
        "id": "4i1QXObtglD9"
      },
      "source": [
        "def char_length(row):\n",
        "    return len(row.split())"
      ],
      "execution_count": null,
      "outputs": []
    },
    {
      "cell_type": "code",
      "metadata": {
        "id": "wV6WYK5lg1Kj"
      },
      "source": [
        "lables = ['Hope_speech', 'Non_hope_speech','not-English']\n",
        "\n",
        "# Count number of unique words in each set\n",
        "def dataset_statistics(dataset):\n",
        "  for l in lables:\n",
        "    word_list = [word.strip() for t in list(dataset[dataset[l]==1.0].cleaned) for word in t.strip().split()]\n",
        "    print(f\"\\nClass Name:--> {l} \") \n",
        "    print(\"Number of Words:{}\".format(len(word_list))) \n",
        "    print(\"Number of Unique Words:{}\".format(len(np.unique(word_list)))) \n",
        "    print(\"Maximum post length: {}\".format(max(dataset[dataset[l]==1.0].cleaned.apply(char_length))))\n",
        "    print(\"Average Words in texts: {}\".format(np.mean(dataset[dataset[l]==1.0].cleaned.apply(char_length))))\n",
        "    "
      ],
      "execution_count": null,
      "outputs": []
    },
    {
      "cell_type": "code",
      "metadata": {
        "colab": {
          "base_uri": "https://localhost:8080/"
        },
        "id": "tjHq1Xshk6kp",
        "outputId": "3fa59c95-cb1f-484b-dc59-08ca4cbc330c"
      },
      "source": [
        "dataset_statistics(OH_X_train)"
      ],
      "execution_count": null,
      "outputs": [
        {
          "output_type": "stream",
          "text": [
            "\n",
            "Class Name:--> Hope_speech \n",
            "Number of Words:49210\n",
            "Number of Unique Words:4811\n",
            "Maximum post length: 197\n",
            "Average Words in texts: 25.081549439347604\n",
            "\n",
            "Class Name:--> Non_hope_speech \n",
            "Number of Words:317854\n",
            "Number of Unique Words:19740\n",
            "Maximum post length: 191\n",
            "Average Words in texts: 15.297622485321012\n",
            "\n",
            "Class Name:--> not-English \n",
            "Number of Words:325\n",
            "Number of Unique Words:239\n",
            "Maximum post length: 47\n",
            "Average Words in texts: 14.772727272727273\n"
          ],
          "name": "stdout"
        }
      ]
    },
    {
      "cell_type": "markdown",
      "metadata": {
        "id": "U0XSSvE0laRF"
      },
      "source": [
        "## Tweets length per class"
      ]
    },
    {
      "cell_type": "code",
      "metadata": {
        "id": "fKF_L3wUlbTu"
      },
      "source": [
        "def comments_length_per_class(dataset,set_name):\n",
        "  label = dataset[['Hope_speech', 'Non_hope_speech','not-English']]\n",
        "  label = label.values\n",
        "  comment = dataset['cleaned']\n",
        "  comment = comment.values\n",
        "  y = np.zeros(label.shape)\n",
        "  for ix in range(comment.shape[0]):\n",
        "      l = len(comment[ix].split())\n",
        "      if label[ix][0] :\n",
        "          y[ix][0] = l\n",
        "      if label[ix][1] :\n",
        "          y[ix][1] = l\n",
        "  #color = ['red','green','blue','yellow','chartreuse'] \n",
        "  labelsplt = ['Hope_speech', 'Non_hope_speech','not-English']\n",
        "  color = ['green','red','yellow']    \n",
        "  bins = [1,20,40,60,80]   \n",
        "  plt.figure(figsize=(5,3)) \n",
        "  #plt.title ('Tweets Length Distribution Per Class')\n",
        "  plt.hist(y,bins = bins,label = labelsplt,color = color)\n",
        "  plt.axis([0, 80, 0, 17000])\n",
        "  plt.xlabel('Length of texts')\n",
        "  plt.ylabel('Number of texts') \n",
        "  plt.legend()\n",
        "  #plt.savefig(path+'real-fake_no_title.png',dpi = 600,bbox_inches ='tight')\n",
        "  #plt.grid(True)\n",
        "  plt.show()"
      ],
      "execution_count": null,
      "outputs": []
    },
    {
      "cell_type": "code",
      "metadata": {
        "colab": {
          "base_uri": "https://localhost:8080/",
          "height": 225
        },
        "id": "xLQ1Ur8imPUo",
        "outputId": "5c00e770-0312-4e95-accd-5cce790a10c1"
      },
      "source": [
        "comments_length_per_class(OH_X_train,'Training')"
      ],
      "execution_count": null,
      "outputs": [
        {
          "output_type": "display_data",
          "data": {
            "image/png": "[encoded data removed]",
            "text/plain": [
              "<Figure size 360x216 with 1 Axes>"
            ]
          },
          "metadata": {
            "tags": [],
            "needs_background": "light"
          }
        }
      ]
    },
    {
      "cell_type": "markdown",
      "metadata": {
        "id": "NK_3w_XBWwsi"
      },
      "source": [
        "##Ktrain -BERT\n",
        "\n",
        "1. [Text Classification Using Transformers](https://nbviewer.jupyter.org/github/amaiya/ktrain/blob/master/tutorials/tutorial-A3-hugging_face_transformers.ipynb)\n",
        "\n",
        "2. [Related Article](https://towardsdatascience.com/text-classification-with-hugging-face-transformers-in-tensorflow-2-without-tears-ee50e4f3e7ed)\n",
        "\n",
        "3. [Ktrain](https://github.com/amaiya/ktrain)"
      ]
    },
    {
      "cell_type": "code",
      "metadata": {
        "id": "zNs9BhqZWzGI"
      },
      "source": [
        "pip install ktrain"
      ],
      "execution_count": null,
      "outputs": []
    },
    {
      "cell_type": "code",
      "metadata": {
        "id": "UaoB6ezlX7TX"
      },
      "source": [
        "%reload_ext autoreload\n",
        "%autoreload 2\n",
        "%matplotlib inline\n",
        "import os\n",
        "os.environ[\"CUDA_DEVICE_ORDER\"] = \"PCI_BUS_ID\"\n",
        "os.environ[\"CUDA_VISIBLE_DEVICES\"] = \"0\""
      ],
      "execution_count": null,
      "outputs": []
    },
    {
      "cell_type": "code",
      "metadata": {
        "id": "Hp4TYcYBYg2X"
      },
      "source": [
        "import ktrain\n",
        "from ktrain import text"
      ],
      "execution_count": null,
      "outputs": []
    },
    {
      "cell_type": "code",
      "metadata": {
        "colab": {
          "base_uri": "https://localhost:8080/"
        },
        "id": "AWgAjwzGaA8m",
        "outputId": "289779ee-ca5e-4d11-eb0c-340e160413d5"
      },
      "source": [
        "train_data['label'].value_counts()"
      ],
      "execution_count": null,
      "outputs": [
        {
          "output_type": "execute_result",
          "data": {
            "text/plain": [
              "Non_hope_speech    20778\n",
              "Hope_speech         1962\n",
              "not-English           22\n",
              "Name: label, dtype: int64"
            ]
          },
          "metadata": {
            "tags": []
          },
          "execution_count": 30
        }
      ]
    },
    {
      "cell_type": "code",
      "metadata": {
        "colab": {
          "base_uri": "https://localhost:8080/"
        },
        "id": "l0zeYGHvVJNQ",
        "outputId": "570659bb-00ff-4b97-8c37-70a8cc838e0c"
      },
      "source": [
        "valid_data['label'].value_counts()"
      ],
      "execution_count": null,
      "outputs": [
        {
          "output_type": "execute_result",
          "data": {
            "text/plain": [
              "Non_hope_speech    2569\n",
              "Hope_speech         272\n",
              "not-English           2\n",
              "Name: label, dtype: int64"
            ]
          },
          "metadata": {
            "tags": []
          },
          "execution_count": 55
        }
      ]
    },
    {
      "cell_type": "code",
      "metadata": {
        "id": "GLyjsx4gYvxH"
      },
      "source": [
        "categories = ['Hope_speech','Non_hope_speech','not-English']"
      ],
      "execution_count": null,
      "outputs": []
    },
    {
      "cell_type": "code",
      "metadata": {
        "id": "-4HGz1jYZHId"
      },
      "source": [
        "X_train = train_data['text'].tolist()\n",
        "y_train = train_data['label'].tolist()\n",
        "\n",
        "X_valid = valid_data['text'].tolist()\n",
        "y_valid = valid_data['label'].tolist()\n",
        "\n",
        "X_test = test_data['text'].tolist()\n",
        "#y_test = test_data['label'].tolist()"
      ],
      "execution_count": null,
      "outputs": []
    },
    {
      "cell_type": "code",
      "metadata": {
        "id": "1gZnpqzW8uyY"
      },
      "source": [
        "# 'bert-base-uncased'\n",
        "# 'bert-base-multilingual-cased'\n",
        "# 'distilbert-base-uncased'\n",
        "# 'albert-base-v2'\n",
        "# 'roberta-base'\n",
        "# 'xlm-roberta-base'\n",
        "# 'xlnet-base-cased'\n"
      ],
      "execution_count": null,
      "outputs": []
    },
    {
      "cell_type": "code",
      "metadata": {
        "id": "TiovCPiuZbMw"
      },
      "source": [
        "model_name = 'xlnet-base-cased'\n",
        "trans = text.Transformer(model_name,maxlen=100,class_names=categories)"
      ],
      "execution_count": null,
      "outputs": []
    },
    {
      "cell_type": "code",
      "metadata": {
        "colab": {
          "base_uri": "https://localhost:8080/",
          "height": 304,
          "referenced_widgets": [
            "316e57fd6c25495ea63941e114151377",
            "19e57327384a4a72baefb7443e8ff326",
            "7c24c51e235540af8eb2064f4e2025d1",
            "5634ec4a9de44db68dd9b3cd305a75fd",
            "d45df140fd924236b68abb22646781e4",
            "d91ce6429fb64213ad496a346556d934",
            "9831aa00e2cf45959c3bba72ee95b5b7",
            "dc46363e64554f3a96ca220e1d6c9c4a"
          ]
        },
        "id": "eD8q8WsUaTEV",
        "outputId": "2f186daa-cabc-4f00-d5ee-6dc7c0fe3ea8"
      },
      "source": [
        "train = trans.preprocess_train(X_train,y_train)\n",
        "valid = trans.preprocess_test(X_valid,y_valid)\n",
        "#test = trans.preprocess_test(X_test,y_test)\n"
      ],
      "execution_count": null,
      "outputs": [
        {
          "output_type": "stream",
          "text": [
            "preprocessing train...\n",
            "language: en\n",
            "train sequence lengths:\n",
            "\tmean : 16\n",
            "\t95percentile : 45\n",
            "\t99percentile : 85\n"
          ],
          "name": "stdout"
        },
        {
          "output_type": "display_data",
          "data": {
            "application/vnd.jupyter.widget-view+json": {
              "model_id": "316e57fd6c25495ea63941e114151377",
              "version_minor": 0,
              "version_major": 2
            },
            "text/plain": [
              "HBox(children=(FloatProgress(value=0.0, description='Downloading', max=798011.0, style=ProgressStyle(descripti…"
            ]
          },
          "metadata": {
            "tags": []
          }
        },
        {
          "output_type": "stream",
          "text": [
            "\n"
          ],
          "name": "stdout"
        },
        {
          "output_type": "display_data",
          "data": {
            "text/html": [
              ""
            ],
            "text/plain": [
              "<IPython.core.display.HTML object>"
            ]
          },
          "metadata": {
            "tags": []
          }
        },
        {
          "output_type": "stream",
          "text": [
            "Is Multi-Label? False\n",
            "preprocessing test...\n",
            "language: en\n",
            "test sequence lengths:\n",
            "\tmean : 16\n",
            "\t95percentile : 44\n",
            "\t99percentile : 83\n"
          ],
          "name": "stdout"
        },
        {
          "output_type": "display_data",
          "data": {
            "text/html": [
              ""
            ],
            "text/plain": [
              "<IPython.core.display.HTML object>"
            ]
          },
          "metadata": {
            "tags": []
          }
        }
      ]
    },
    {
      "cell_type": "code",
      "metadata": {
        "id": "7LJsU69na9vf",
        "colab": {
          "base_uri": "https://localhost:8080/",
          "height": 67,
          "referenced_widgets": [
            "34c33f0e257d4abf82b7779dd74afb80",
            "051fbed3469544f2921f92cfb2ef91b8",
            "3f9ff39d93d447129a2f1a9606fd4a55",
            "44b4fd3ea4ea421b99976e1939070481",
            "e77317ec251746079e1895264588f7f5",
            "c8fdc040b07f4892b23ba012106906b4",
            "b6ef191d447a4da0b3f0da47de434cd9",
            "5216cf59410843eda73f3060c34b622d"
          ]
        },
        "outputId": "bcca5b87-eb60-4a84-fc4f-62fc295f5609"
      },
      "source": [
        "model = trans.get_classifier()"
      ],
      "execution_count": null,
      "outputs": [
        {
          "output_type": "display_data",
          "data": {
            "application/vnd.jupyter.widget-view+json": {
              "model_id": "34c33f0e257d4abf82b7779dd74afb80",
              "version_minor": 0,
              "version_major": 2
            },
            "text/plain": [
              "HBox(children=(FloatProgress(value=0.0, description='Downloading', max=565485600.0, style=ProgressStyle(descri…"
            ]
          },
          "metadata": {
            "tags": []
          }
        },
        {
          "output_type": "stream",
          "text": [
            "\n"
          ],
          "name": "stdout"
        }
      ]
    },
    {
      "cell_type": "code",
      "metadata": {
        "id": "29ZEKw4KbCST"
      },
      "source": [
        "learner = ktrain.get_learner(model, train_data=train,val_data=valid, batch_size=12)"
      ],
      "execution_count": null,
      "outputs": []
    },
    {
      "cell_type": "code",
      "metadata": {
        "id": "WTZgIo9zbUQJ",
        "colab": {
          "base_uri": "https://localhost:8080/"
        },
        "outputId": "9975c8ca-7f89-4b02-c450-56da7d666cad"
      },
      "source": [
        "learner.lr_find(show_plot = True,max_epochs=10)"
      ],
      "execution_count": null,
      "outputs": [
        {
          "output_type": "stream",
          "text": [
            "simulating training for different learning rates... this may take a few moments...\n"
          ],
          "name": "stdout"
        }
      ]
    },
    {
      "cell_type": "code",
      "metadata": {
        "id": "HuruNAjypteg"
      },
      "source": [
        "# roberta -----> 2e-5"
      ],
      "execution_count": null,
      "outputs": []
    },
    {
      "cell_type": "code",
      "metadata": {
        "id": "I3GtXXJabhTC",
        "colab": {
          "base_uri": "https://localhost:8080/"
        },
        "outputId": "3ab72d80-9aa1-4ffb-c494-81f4e04cf275"
      },
      "source": [
        "learner.fit_onecycle(2e-5,4)  # 2e-5"
      ],
      "execution_count": null,
      "outputs": [
        {
          "output_type": "stream",
          "text": [
            "\n",
            "\n",
            "begin training using onecycle policy with max lr of 2e-05...\n",
            "Epoch 1/4\n",
            "1897/1897 [==============================] - 440s 221ms/step - loss: 0.3254 - accuracy: 0.8921 - val_loss: 0.2166 - val_accuracy: 0.9156\n",
            "Epoch 2/4\n",
            "1897/1897 [==============================] - 421s 220ms/step - loss: 0.1880 - accuracy: 0.9302 - val_loss: 0.1946 - val_accuracy: 0.9251\n",
            "Epoch 3/4\n",
            "1897/1897 [==============================] - 421s 220ms/step - loss: 0.1458 - accuracy: 0.9457 - val_loss: 0.2078 - val_accuracy: 0.9195\n",
            "Epoch 4/4\n",
            "1897/1897 [==============================] - 421s 220ms/step - loss: 0.0839 - accuracy: 0.9670 - val_loss: 0.2213 - val_accuracy: 0.9254\n"
          ],
          "name": "stdout"
        },
        {
          "output_type": "execute_result",
          "data": {
            "text/plain": [
              "<tensorflow.python.keras.callbacks.History at 0x7f1fac96e6a0>"
            ]
          },
          "metadata": {
            "tags": []
          },
          "execution_count": 61
        }
      ]
    },
    {
      "cell_type": "code",
      "metadata": {
        "colab": {
          "base_uri": "https://localhost:8080/"
        },
        "id": "E539KiPKcmGQ",
        "outputId": "fcea3b53-cce5-4089-d727-a2b9b84f539d"
      },
      "source": [
        "learner.validate(class_names=categories)"
      ],
      "execution_count": null,
      "outputs": [
        {
          "output_type": "stream",
          "text": [
            "                 precision    recall  f1-score   support\n",
            "\n",
            "    Hope_speech       0.61      0.62      0.62       272\n",
            "Non_hope_speech       0.96      0.96      0.96      2569\n",
            "    not-English       0.00      0.00      0.00         2\n",
            "\n",
            "       accuracy                           0.93      2843\n",
            "      macro avg       0.52      0.53      0.53      2843\n",
            "   weighted avg       0.93      0.93      0.93      2843\n",
            "\n"
          ],
          "name": "stdout"
        },
        {
          "output_type": "execute_result",
          "data": {
            "text/plain": [
              "array([[ 169,  103,    0],\n",
              "       [ 107, 2462,    0],\n",
              "       [   0,    2,    0]])"
            ]
          },
          "metadata": {
            "tags": []
          },
          "execution_count": 62
        }
      ]
    },
    {
      "cell_type": "code",
      "metadata": {
        "id": "6WQiJCJiNpBQ"
      },
      "source": [
        "predictor = ktrain.get_predictor(learner.model, preproc=trans)"
      ],
      "execution_count": null,
      "outputs": []
    },
    {
      "cell_type": "code",
      "metadata": {
        "id": "bbN5u6hJdt88"
      },
      "source": [
        "# Save and load the model\n",
        "predictor.save(folder_path+'Transformers_Models'+'/en_xlnet_predictor')"
      ],
      "execution_count": null,
      "outputs": []
    },
    {
      "cell_type": "code",
      "metadata": {
        "id": "9hZt-1TDnmpp"
      },
      "source": [
        "predictor = ktrain.load_predictor(folder_path+'Transformers_Models'+'/ml_xlm-r_predictor')"
      ],
      "execution_count": null,
      "outputs": []
    },
    {
      "cell_type": "code",
      "metadata": {
        "id": "ulHcjrQiN8yR"
      },
      "source": [
        "y_pred = predictor.predict(X_test)\n",
        "y_pred"
      ],
      "execution_count": null,
      "outputs": []
    },
    {
      "cell_type": "code",
      "metadata": {
        "id": "YLLoTYtSSUuE"
      },
      "source": [
        "test_data['id'] = test_data.index+1\n"
      ],
      "execution_count": null,
      "outputs": []
    },
    {
      "cell_type": "code",
      "metadata": {
        "id": "I1-twJC6TvNP"
      },
      "source": [
        "run = pd.DataFrame(test_data['id'])\n",
        "run['text'] = test_data['text']\n",
        "run['label'] = y_pred\n",
        "run"
      ],
      "execution_count": null,
      "outputs": []
    },
    {
      "cell_type": "code",
      "metadata": {
        "id": "uJFoJD_9Oi0X"
      },
      "source": [
        "run.to_csv(folder_path +'english_xlnet.tsv',sep = '\\t',index = False)"
      ],
      "execution_count": null,
      "outputs": []
    },
    {
      "cell_type": "markdown",
      "metadata": {
        "id": "C5sfJRzPI7hD"
      },
      "source": [
        "##Machine Learning"
      ]
    },
    {
      "cell_type": "code",
      "metadata": {
        "id": "Qc403in7I-IV"
      },
      "source": [
        "def print_metrices(pred,true):\n",
        "    print(confusion_matrix(true,pred))\n",
        "    print(classification_report(true,pred,))\n",
        "    print(\"Accuracy : \",accuracy_score(pred,true))\n",
        "    print(\"Precison : \",precision_score(pred,true, average = 'weighted'))\n",
        "    print(\"Recall : \",recall_score(pred,true,  average = 'weighted'))\n",
        "    print(\"F1 : \",f1_score(pred,true,  average = 'weighted'))"
      ],
      "execution_count": null,
      "outputs": []
    },
    {
      "cell_type": "code",
      "metadata": {
        "colab": {
          "base_uri": "https://localhost:8080/"
        },
        "id": "lfyg_pWqJ0Gh",
        "outputId": "e4cbff64-269d-4bd9-f98f-0c97dfbcd7ed"
      },
      "source": [
        "## TF-IDF\n",
        "from sklearn.feature_extraction.text import TfidfVectorizer\n",
        "from sklearn import metrics\n",
        "#use_idf=True,tokenizer=lambda x: x.split()\n",
        "vectorizer = TfidfVectorizer(tokenizer=lambda x: x.split())\n",
        "vectorised_posts = vectorizer.fit_transform(train_data['text'])\n",
        "vectorized_train_posts = vectorizer.transform(train_data['text'])\n",
        "vectorized_valid_posts = vectorizer.transform(valid_data['text'])\n",
        "vectorized_test_posts = vectorizer.transform(test_data['text'])\n",
        "\n",
        "print(\"Feature Size: \", vectorized_train_posts.shape[1])\n",
        "#vectorizer.vocabulary_"
      ],
      "execution_count": null,
      "outputs": [
        {
          "output_type": "stream",
          "text": [
            "Feature Size:  30528\n"
          ],
          "name": "stdout"
        }
      ]
    },
    {
      "cell_type": "code",
      "metadata": {
        "colab": {
          "base_uri": "https://localhost:8080/"
        },
        "id": "qmcicn6RWf2s",
        "outputId": "1eab2f47-621f-4242-9602-98ec13c8524c"
      },
      "source": [
        "vectorized_valid_posts.shape"
      ],
      "execution_count": null,
      "outputs": [
        {
          "output_type": "execute_result",
          "data": {
            "text/plain": [
              "(2843, 30528)"
            ]
          },
          "metadata": {
            "tags": []
          },
          "execution_count": 274
        }
      ]
    },
    {
      "cell_type": "code",
      "metadata": {
        "colab": {
          "base_uri": "https://localhost:8080/"
        },
        "id": "o4oV_l2-QO8t",
        "outputId": "1fba8367-5668-4ea3-eb84-b2fe14caf279"
      },
      "source": [
        "valid_data['enc_label'].value_counts()"
      ],
      "execution_count": null,
      "outputs": [
        {
          "output_type": "execute_result",
          "data": {
            "text/plain": [
              "0    2569\n",
              "1     272\n",
              "2       2\n",
              "Name: enc_label, dtype: int64"
            ]
          },
          "metadata": {
            "tags": []
          },
          "execution_count": 15
        }
      ]
    },
    {
      "cell_type": "code",
      "metadata": {
        "id": "Tcqr_Mkvabtt"
      },
      "source": [
        "labels = ['Non_hope_speech','Hope_speech', 'not-English']\n",
        "def actual_label(row):\n",
        "    return labels[row]"
      ],
      "execution_count": null,
      "outputs": []
    },
    {
      "cell_type": "markdown",
      "metadata": {
        "id": "fPpcTikIUabS"
      },
      "source": [
        "###LR"
      ]
    },
    {
      "cell_type": "code",
      "metadata": {
        "colab": {
          "base_uri": "https://localhost:8080/"
        },
        "id": "oSGDM10iOSxR",
        "outputId": "0744f78c-1ac6-4788-e426-22c9f97b4cee"
      },
      "source": [
        "# After Tunning\n",
        "# Optimum C = 100 \n",
        "lr = LogisticRegression(class_weight='balanced',C =2)\n",
        "lr.fit(vectorized_train_posts,train_data['enc_label'])\n",
        "y_pred = lr.predict(vectorized_valid_posts)\n",
        "print_metrices(y_pred,valid_data['enc_label'])"
      ],
      "execution_count": null,
      "outputs": [
        {
          "output_type": "stream",
          "text": [
            "[[2235  332    2]\n",
            " [  60  212    0]\n",
            " [   2    0    0]]\n",
            "              precision    recall  f1-score   support\n",
            "\n",
            "           0       0.97      0.87      0.92      2569\n",
            "           1       0.39      0.78      0.52       272\n",
            "           2       0.00      0.00      0.00         2\n",
            "\n",
            "    accuracy                           0.86      2843\n",
            "   macro avg       0.45      0.55      0.48      2843\n",
            "weighted avg       0.92      0.86      0.88      2843\n",
            "\n",
            "Accuracy :  0.8607105170594442\n",
            "Precison :  0.8520447331456925\n",
            "Recall :  0.8607105170594442\n",
            "F1 :  0.8416231038255063\n"
          ],
          "name": "stdout"
        }
      ]
    },
    {
      "cell_type": "code",
      "metadata": {
        "id": "2TuzJomyY5IG"
      },
      "source": [
        "test_pred = lr.predict(vectorized_test_posts).tolist()\n",
        "test_data['id'] = test_data.index + 1"
      ],
      "execution_count": null,
      "outputs": []
    },
    {
      "cell_type": "code",
      "metadata": {
        "colab": {
          "base_uri": "https://localhost:8080/",
          "height": 407
        },
        "id": "i4Sr5XK_Z9-b",
        "outputId": "9a628319-27f1-4873-8d05-b3d99688c503"
      },
      "source": [
        "run = pd.DataFrame(test_data['id'])\n",
        "run['text'] = test_data['text']\n",
        "run['label'] = test_pred\n",
        "run['label'] = run['label'].apply(actual_label)\n",
        "run "
      ],
      "execution_count": null,
      "outputs": [
        {
          "output_type": "execute_result",
          "data": {
            "text/html": [
              "<div>\n",
              "<style scoped>\n",
              "    .dataframe tbody tr th:only-of-type {\n",
              "        vertical-align: middle;\n",
              "    }\n",
              "\n",
              "    .dataframe tbody tr th {\n",
              "        vertical-align: top;\n",
              "    }\n",
              "\n",
              "    .dataframe thead th {\n",
              "        text-align: right;\n",
              "    }\n",
              "</style>\n",
              "<table border=\"1\" class=\"dataframe\">\n",
              "  <thead>\n",
              "    <tr style=\"text-align: right;\">\n",
              "      <th></th>\n",
              "      <th>id</th>\n",
              "      <th>text</th>\n",
              "      <th>label</th>\n",
              "    </tr>\n",
              "  </thead>\n",
              "  <tbody>\n",
              "    <tr>\n",
              "      <th>0</th>\n",
              "      <td>1</td>\n",
              "      <td>What do you mean by the word sniped?</td>\n",
              "      <td>Non_hope_speech</td>\n",
              "    </tr>\n",
              "    <tr>\n",
              "      <th>1</th>\n",
              "      <td>2</td>\n",
              "      <td>I love this video!! I’m bisexual and it’s just...</td>\n",
              "      <td>Hope_speech</td>\n",
              "    </tr>\n",
              "    <tr>\n",
              "      <th>2</th>\n",
              "      <td>3</td>\n",
              "      <td>ya the irony but then i don't want to come off...</td>\n",
              "      <td>Non_hope_speech</td>\n",
              "    </tr>\n",
              "    <tr>\n",
              "      <th>3</th>\n",
              "      <td>4</td>\n",
              "      <td>A PERSON'S CHARACTER MATTERS. PERIOD!!</td>\n",
              "      <td>Non_hope_speech</td>\n",
              "    </tr>\n",
              "    <tr>\n",
              "      <th>4</th>\n",
              "      <td>5</td>\n",
              "      <td>@Blaster of Gasters</td>\n",
              "      <td>Non_hope_speech</td>\n",
              "    </tr>\n",
              "    <tr>\n",
              "      <th>...</th>\n",
              "      <td>...</td>\n",
              "      <td>...</td>\n",
              "      <td>...</td>\n",
              "    </tr>\n",
              "    <tr>\n",
              "      <th>2841</th>\n",
              "      <td>2842</td>\n",
              "      <td>+Ashrenneemakeup I think it's all a deliberate...</td>\n",
              "      <td>Non_hope_speech</td>\n",
              "    </tr>\n",
              "    <tr>\n",
              "      <th>2842</th>\n",
              "      <td>2843</td>\n",
              "      <td>Sheriff David Clarke. This guy is amazing.</td>\n",
              "      <td>Non_hope_speech</td>\n",
              "    </tr>\n",
              "    <tr>\n",
              "      <th>2843</th>\n",
              "      <td>2844</td>\n",
              "      <td>Abandorn Hope Situation</td>\n",
              "      <td>Non_hope_speech</td>\n",
              "    </tr>\n",
              "    <tr>\n",
              "      <th>2844</th>\n",
              "      <td>2845</td>\n",
              "      <td>Sheriff Clarke you are a person of such strong...</td>\n",
              "      <td>Non_hope_speech</td>\n",
              "    </tr>\n",
              "    <tr>\n",
              "      <th>2845</th>\n",
              "      <td>2846</td>\n",
              "      <td>Sanders has no room to talk. If there's one pe...</td>\n",
              "      <td>Non_hope_speech</td>\n",
              "    </tr>\n",
              "  </tbody>\n",
              "</table>\n",
              "<p>2846 rows × 3 columns</p>\n",
              "</div>"
            ],
            "text/plain": [
              "        id                                               text            label\n",
              "0        1               What do you mean by the word sniped?  Non_hope_speech\n",
              "1        2  I love this video!! I’m bisexual and it’s just...      Hope_speech\n",
              "2        3  ya the irony but then i don't want to come off...  Non_hope_speech\n",
              "3        4             A PERSON'S CHARACTER MATTERS. PERIOD!!  Non_hope_speech\n",
              "4        5                                @Blaster of Gasters  Non_hope_speech\n",
              "...    ...                                                ...              ...\n",
              "2841  2842  +Ashrenneemakeup I think it's all a deliberate...  Non_hope_speech\n",
              "2842  2843         Sheriff David Clarke. This guy is amazing.  Non_hope_speech\n",
              "2843  2844                            Abandorn Hope Situation  Non_hope_speech\n",
              "2844  2845  Sheriff Clarke you are a person of such strong...  Non_hope_speech\n",
              "2845  2846  Sanders has no room to talk. If there's one pe...  Non_hope_speech\n",
              "\n",
              "[2846 rows x 3 columns]"
            ]
          },
          "metadata": {
            "tags": []
          },
          "execution_count": 99
        }
      ]
    },
    {
      "cell_type": "code",
      "metadata": {
        "id": "ECDhJfh6cL8f"
      },
      "source": [
        "run.to_csv(folder_path +'english_lr.tsv',sep = '\\t',index = False)"
      ],
      "execution_count": null,
      "outputs": []
    },
    {
      "cell_type": "markdown",
      "metadata": {
        "id": "ebdGBQu0UdXL"
      },
      "source": [
        "###SVM"
      ]
    },
    {
      "cell_type": "code",
      "metadata": {
        "colab": {
          "base_uri": "https://localhost:8080/"
        },
        "id": "OGh7KDdRPd06",
        "outputId": "8c1cb6b3-a1fd-42c8-f60f-a660eb870c7c"
      },
      "source": [
        "## SVM\n",
        "from sklearn.svm import SVC\n",
        "svc =  SVC(kernel='linear' ,C= 10,random_state=1234,class_weight='balanced')\n",
        "svc.fit(vectorized_train_posts,train_data['enc_label'])\n",
        "y_pred = svc.predict(vectorized_valid_posts)\n",
        "print_metrices(y_pred,valid_data['enc_label'])"
      ],
      "execution_count": null,
      "outputs": [
        {
          "output_type": "stream",
          "text": [
            "[[2320  241    8]\n",
            " [  77  194    1]\n",
            " [   1    0    1]]\n",
            "              precision    recall  f1-score   support\n",
            "\n",
            "           0       0.97      0.90      0.93      2569\n",
            "           1       0.45      0.71      0.55       272\n",
            "           2       0.10      0.50      0.17         2\n",
            "\n",
            "    accuracy                           0.88      2843\n",
            "   macro avg       0.50      0.71      0.55      2843\n",
            "weighted avg       0.92      0.88      0.90      2843\n",
            "\n",
            "Accuracy :  0.8846289131199437\n",
            "Precison :  0.8726104489300899\n",
            "Recall :  0.8846289131199437\n",
            "F1 :  0.8725017701857507\n"
          ],
          "name": "stdout"
        }
      ]
    },
    {
      "cell_type": "code",
      "metadata": {
        "id": "gHhDysIpdwHE"
      },
      "source": [
        "test_pred = svc.predict(vectorized_test_posts).tolist()\n",
        "test_data['id'] = test_data.index + 1"
      ],
      "execution_count": null,
      "outputs": []
    },
    {
      "cell_type": "code",
      "metadata": {
        "colab": {
          "base_uri": "https://localhost:8080/",
          "height": 407
        },
        "id": "UitzjiNaY3PA",
        "outputId": "14bf65ab-70bd-44a2-8d8f-6112789ce217"
      },
      "source": [
        "run = pd.DataFrame(test_data['id'])\n",
        "run['text'] = test_data['text']\n",
        "run['label'] = test_pred\n",
        "run['label'] = run['label'].apply(actual_label)\n",
        "run "
      ],
      "execution_count": null,
      "outputs": [
        {
          "output_type": "execute_result",
          "data": {
            "text/html": [
              "<div>\n",
              "<style scoped>\n",
              "    .dataframe tbody tr th:only-of-type {\n",
              "        vertical-align: middle;\n",
              "    }\n",
              "\n",
              "    .dataframe tbody tr th {\n",
              "        vertical-align: top;\n",
              "    }\n",
              "\n",
              "    .dataframe thead th {\n",
              "        text-align: right;\n",
              "    }\n",
              "</style>\n",
              "<table border=\"1\" class=\"dataframe\">\n",
              "  <thead>\n",
              "    <tr style=\"text-align: right;\">\n",
              "      <th></th>\n",
              "      <th>id</th>\n",
              "      <th>text</th>\n",
              "      <th>label</th>\n",
              "    </tr>\n",
              "  </thead>\n",
              "  <tbody>\n",
              "    <tr>\n",
              "      <th>0</th>\n",
              "      <td>1</td>\n",
              "      <td>What do you mean by the word sniped?</td>\n",
              "      <td>Non_hope_speech</td>\n",
              "    </tr>\n",
              "    <tr>\n",
              "      <th>1</th>\n",
              "      <td>2</td>\n",
              "      <td>I love this video!! I’m bisexual and it’s just...</td>\n",
              "      <td>Hope_speech</td>\n",
              "    </tr>\n",
              "    <tr>\n",
              "      <th>2</th>\n",
              "      <td>3</td>\n",
              "      <td>ya the irony but then i don't want to come off...</td>\n",
              "      <td>Non_hope_speech</td>\n",
              "    </tr>\n",
              "    <tr>\n",
              "      <th>3</th>\n",
              "      <td>4</td>\n",
              "      <td>A PERSON'S CHARACTER MATTERS. PERIOD!!</td>\n",
              "      <td>Non_hope_speech</td>\n",
              "    </tr>\n",
              "    <tr>\n",
              "      <th>4</th>\n",
              "      <td>5</td>\n",
              "      <td>@Blaster of Gasters</td>\n",
              "      <td>Non_hope_speech</td>\n",
              "    </tr>\n",
              "    <tr>\n",
              "      <th>...</th>\n",
              "      <td>...</td>\n",
              "      <td>...</td>\n",
              "      <td>...</td>\n",
              "    </tr>\n",
              "    <tr>\n",
              "      <th>2841</th>\n",
              "      <td>2842</td>\n",
              "      <td>+Ashrenneemakeup I think it's all a deliberate...</td>\n",
              "      <td>Non_hope_speech</td>\n",
              "    </tr>\n",
              "    <tr>\n",
              "      <th>2842</th>\n",
              "      <td>2843</td>\n",
              "      <td>Sheriff David Clarke. This guy is amazing.</td>\n",
              "      <td>Non_hope_speech</td>\n",
              "    </tr>\n",
              "    <tr>\n",
              "      <th>2843</th>\n",
              "      <td>2844</td>\n",
              "      <td>Abandorn Hope Situation</td>\n",
              "      <td>Non_hope_speech</td>\n",
              "    </tr>\n",
              "    <tr>\n",
              "      <th>2844</th>\n",
              "      <td>2845</td>\n",
              "      <td>Sheriff Clarke you are a person of such strong...</td>\n",
              "      <td>Non_hope_speech</td>\n",
              "    </tr>\n",
              "    <tr>\n",
              "      <th>2845</th>\n",
              "      <td>2846</td>\n",
              "      <td>Sanders has no room to talk. If there's one pe...</td>\n",
              "      <td>Non_hope_speech</td>\n",
              "    </tr>\n",
              "  </tbody>\n",
              "</table>\n",
              "<p>2846 rows × 3 columns</p>\n",
              "</div>"
            ],
            "text/plain": [
              "        id                                               text            label\n",
              "0        1               What do you mean by the word sniped?  Non_hope_speech\n",
              "1        2  I love this video!! I’m bisexual and it’s just...      Hope_speech\n",
              "2        3  ya the irony but then i don't want to come off...  Non_hope_speech\n",
              "3        4             A PERSON'S CHARACTER MATTERS. PERIOD!!  Non_hope_speech\n",
              "4        5                                @Blaster of Gasters  Non_hope_speech\n",
              "...    ...                                                ...              ...\n",
              "2841  2842  +Ashrenneemakeup I think it's all a deliberate...  Non_hope_speech\n",
              "2842  2843         Sheriff David Clarke. This guy is amazing.  Non_hope_speech\n",
              "2843  2844                            Abandorn Hope Situation  Non_hope_speech\n",
              "2844  2845  Sheriff Clarke you are a person of such strong...  Non_hope_speech\n",
              "2845  2846  Sanders has no room to talk. If there's one pe...  Non_hope_speech\n",
              "\n",
              "[2846 rows x 3 columns]"
            ]
          },
          "metadata": {
            "tags": []
          },
          "execution_count": 103
        }
      ]
    },
    {
      "cell_type": "code",
      "metadata": {
        "id": "cZzUGXTbeVPM"
      },
      "source": [
        "run.to_csv(folder_path +'english_svm.tsv',sep = '\\t',index = False)"
      ],
      "execution_count": null,
      "outputs": []
    },
    {
      "cell_type": "markdown",
      "metadata": {
        "id": "lExxwweUT8dq"
      },
      "source": [
        "###Ensemble Approach()"
      ]
    },
    {
      "cell_type": "code",
      "metadata": {
        "id": "-CKk1VIMVB0B"
      },
      "source": [
        "LogReg_clf = LogisticRegression(class_weight='balanced')\n",
        "DTree_clf = DecisionTreeClassifier(class_weight='balanced')\n",
        "rt_clf =   RandomForestClassifier(class_weight='balanced')\n",
        "SVC_clf = SVC(class_weight='balanced')\n",
        "\n",
        "\n",
        "voting_clf = VotingClassifier(estimators=[('SVC', SVC_clf), ('DTree', DTree_clf), ('LogReg', LogReg_clf),('RF', rt_clf)], voting='hard')\n",
        "voting_clf.fit(vectorized_train_posts, train_data['enc_label'])\n",
        "preds = voting_clf.predict(vectorized_valid_posts)\n",
        "\n"
      ],
      "execution_count": null,
      "outputs": []
    },
    {
      "cell_type": "code",
      "metadata": {
        "colab": {
          "base_uri": "https://localhost:8080/"
        },
        "id": "7_J90GJlbdn0",
        "outputId": "c177726f-0c2a-4e1f-c8e0-b5d5b099f692"
      },
      "source": [
        "print_metrices(preds,valid_data['enc_label'])"
      ],
      "execution_count": null,
      "outputs": [
        {
          "output_type": "stream",
          "text": [
            "[[2523   46    0]\n",
            " [ 194   78    0]\n",
            " [   2    0    0]]\n",
            "              precision    recall  f1-score   support\n",
            "\n",
            "           0       0.93      0.98      0.95      2569\n",
            "           1       0.63      0.29      0.39       272\n",
            "           2       0.00      0.00      0.00         2\n",
            "\n",
            "    accuracy                           0.91      2843\n",
            "   macro avg       0.52      0.42      0.45      2843\n",
            "weighted avg       0.90      0.91      0.90      2843\n",
            "\n",
            "Accuracy :  0.9148786493141048\n",
            "Precison :  0.9517667792969009\n",
            "Recall :  0.9148786493141048\n",
            "F1 :  0.9297981657764133\n"
          ],
          "name": "stdout"
        }
      ]
    },
    {
      "cell_type": "code",
      "metadata": {
        "id": "z5_jkWB7cjYO"
      },
      "source": [
        "test_pred = voting_clf.predict(vectorized_test_posts).tolist()\n",
        "test_data['id'] = test_data.index + 1"
      ],
      "execution_count": null,
      "outputs": []
    },
    {
      "cell_type": "code",
      "metadata": {
        "id": "zmaV5r-8cw6Q"
      },
      "source": [
        "run = pd.DataFrame(test_data['id'])\n",
        "run['text'] = test_data['text']\n",
        "run['label'] = test_pred\n",
        "run['label'] = run['label'].apply(actual_label)\n",
        "run "
      ],
      "execution_count": null,
      "outputs": []
    },
    {
      "cell_type": "code",
      "metadata": {
        "id": "H8OGFtalc6je"
      },
      "source": [
        "run.to_csv(folder_path +'english_voting.tsv',sep = '\\t',index = False)"
      ],
      "execution_count": null,
      "outputs": []
    },
    {
      "cell_type": "markdown",
      "metadata": {
        "id": "1AJyuIwIgxii"
      },
      "source": [
        "##Deep Learning"
      ]
    },
    {
      "cell_type": "code",
      "metadata": {
        "id": "i5TpNyugpd1D",
        "colab": {
          "base_uri": "https://localhost:8080/"
        },
        "outputId": "c78b11dc-4d55-4c2b-b08a-13f3853b299a"
      },
      "source": [
        "import tensorflow as tf\n",
        "from tensorflow import keras\n",
        "from tensorflow.keras.preprocessing.sequence import pad_sequences\n",
        "from tensorflow.keras.preprocessing.text import Tokenizer\n",
        "from tensorflow.keras import regularizers\n",
        "from tensorflow.keras.layers import LSTM,GRU\n",
        "from tensorflow.keras.models import load_model\n",
        "print(\"Tensorflow Version:--\",tf.version.VERSION)\n",
        "print(\"Keras Version:---\",keras.__version__)"
      ],
      "execution_count": null,
      "outputs": [
        {
          "output_type": "stream",
          "text": [
            "Tensorflow Version:-- 2.4.0\n",
            "Keras Version:--- 2.4.0\n"
          ],
          "name": "stdout"
        }
      ]
    },
    {
      "cell_type": "markdown",
      "metadata": {
        "id": "CXf5We5KPE-X"
      },
      "source": [
        "###Tokenization"
      ]
    },
    {
      "cell_type": "code",
      "metadata": {
        "id": "5kyFGfjdPHEy"
      },
      "source": [
        "tokenizer = Tokenizer(num_words = 1000,filters='!\"#$%&()*+,-./:;<=>?@[\\\\]^_`{|}~\\t\\n-', \n",
        "                      split=' ', char_level=False, oov_token='<oov>', document_count=0)\n",
        "tokenizer.fit_on_texts(train_data['text'])  \n",
        "word_index = tokenizer.word_index\n",
        "vocab_size = len(word_index)+1"
      ],
      "execution_count": null,
      "outputs": []
    },
    {
      "cell_type": "code",
      "metadata": {
        "colab": {
          "base_uri": "https://localhost:8080/"
        },
        "id": "-YVS-R9RPVdf",
        "outputId": "196de5bd-c5a4-49c8-c4c9-8e707ff726a4"
      },
      "source": [
        "print(vocab_size)"
      ],
      "execution_count": null,
      "outputs": [
        {
          "output_type": "stream",
          "text": [
            "20458\n"
          ],
          "name": "stdout"
        }
      ]
    },
    {
      "cell_type": "code",
      "metadata": {
        "colab": {
          "base_uri": "https://localhost:8080/"
        },
        "id": "7vLiDPxWPY21",
        "outputId": "89f704cb-64fa-472d-938d-987c0813ae09"
      },
      "source": [
        "max_len = 100\n",
        "# Training Sequences\n",
        "train_sequences = tokenizer.texts_to_sequences(train_data['text'])\n",
        "print(len(tokenizer.word_index))\n",
        "train_pad_sequences =  keras.preprocessing.sequence.pad_sequences(train_sequences, value=0.0, padding='post', maxlen= max_len)\n",
        "print(\"Number of Training Sequences :\" ,train_pad_sequences.shape)\n",
        "\n",
        "# Validation Sequences\n",
        "validation_sequences = tokenizer.texts_to_sequences(valid_data['text'])\n",
        "validation_pad_sequences =  keras.preprocessing.sequence.pad_sequences(validation_sequences, value=0.0, padding='post', maxlen= max_len)\n",
        "print(\"Number of Validation Sequences :\" ,validation_pad_sequences.shape)"
      ],
      "execution_count": null,
      "outputs": [
        {
          "output_type": "stream",
          "text": [
            "20457\n",
            "Number of Training Sequences : (22762, 100)\n",
            "Number of Validation Sequences : (2843, 100)\n"
          ],
          "name": "stdout"
        }
      ]
    },
    {
      "cell_type": "code",
      "metadata": {
        "colab": {
          "base_uri": "https://localhost:8080/"
        },
        "id": "khkBl8tcPsqW",
        "outputId": "919daa46-f3de-4b9e-ebef-6e74ec1ed214"
      },
      "source": [
        "# Test Sequences\n",
        "test_sequences = tokenizer.texts_to_sequences(test_data['text'])\n",
        "test_pad_sequences =  keras.preprocessing.sequence.pad_sequences(test_sequences, value=0.0, padding='post', maxlen= max_len)\n",
        "print(\"Number of Test Sequences :\" ,test_pad_sequences.shape)"
      ],
      "execution_count": null,
      "outputs": [
        {
          "output_type": "stream",
          "text": [
            "Number of Test Sequences : (2846, 100)\n"
          ],
          "name": "stdout"
        }
      ]
    },
    {
      "cell_type": "code",
      "metadata": {
        "id": "bnX012TgR_NQ"
      },
      "source": [
        "from sklearn.utils import class_weight\n",
        "class_weights = class_weight.compute_class_weight('balanced'\n",
        "                                               ,np.unique(train_data['enc_label'])\n",
        "                                               ,train_data['enc_label'])\n",
        "\n",
        "weight = {i : class_weights[i] for i in range(3)}"
      ],
      "execution_count": null,
      "outputs": []
    },
    {
      "cell_type": "code",
      "metadata": {
        "colab": {
          "base_uri": "https://localhost:8080/"
        },
        "id": "syh-qxHeSI2E",
        "outputId": "a3a20804-5111-42ac-b5f0-1654482b5930"
      },
      "source": [
        "weight"
      ],
      "execution_count": null,
      "outputs": [
        {
          "output_type": "execute_result",
          "data": {
            "text/plain": [
              "{0: 0.36516186992652483, 1: 3.867142371729528, 2: 344.8787878787879}"
            ]
          },
          "metadata": {
            "tags": []
          },
          "execution_count": 113
        }
      ]
    },
    {
      "cell_type": "code",
      "metadata": {
        "colab": {
          "base_uri": "https://localhost:8080/"
        },
        "id": "4aOqjsp_P8ux",
        "outputId": "2ae2f0b1-10bd-4f7b-8b91-f72cd429a558"
      },
      "source": [
        "num_classes = 3\n",
        "\n",
        "accuracy_threshold = 0.99\n",
        "\n",
        "class myCallback(keras.callbacks.Callback):\n",
        "  def on_epoch_end(self, epoch, logs={}):\n",
        "      if(logs.get('accuracy')>accuracy_threshold):\n",
        "        print(\"\\nReached %2.2f%% accuracy so we will stop trianing\" % (accuracy_threshold*100))\n",
        "        self.model.stop_training = True\n",
        "\n",
        "acc_callback = myCallback()\n",
        "# Saved the Best Model\n",
        "filepath = folder_path+\"BiLSTMModel.h5\"\n",
        "checkpoint = keras.callbacks.ModelCheckpoint(filepath, monitor='val_accuracy', verbose=2, save_best_only=True, \n",
        "                                             save_weights_only=False, mode='max')\n",
        "# callback list\n",
        "callback_list = [acc_callback, checkpoint] \n",
        "model = tf.keras.models.Sequential([\n",
        "tf.keras.layers.Embedding(vocab_size, 100, input_length = max_len),\n",
        "tf.keras.layers.Conv1D(128, 5, activation='relu'),\n",
        "tf.keras.layers.MaxPooling1D(5),\n",
        "tf.keras.layers.Bidirectional(LSTM(units = 32,return_sequences=True,dropout = 0.2)),\n",
        "tf.keras.layers.Flatten(),\n",
        "tf.keras.layers.Dense(3 , activation='softmax')])\n",
        "\n",
        "model.summary()\n"
      ],
      "execution_count": null,
      "outputs": [
        {
          "output_type": "stream",
          "text": [
            "Model: \"sequential_2\"\n",
            "_________________________________________________________________\n",
            "Layer (type)                 Output Shape              Param #   \n",
            "=================================================================\n",
            "embedding_2 (Embedding)      (None, 100, 100)          2045800   \n",
            "_________________________________________________________________\n",
            "conv1d_2 (Conv1D)            (None, 96, 128)           64128     \n",
            "_________________________________________________________________\n",
            "max_pooling1d_2 (MaxPooling1 (None, 19, 128)           0         \n",
            "_________________________________________________________________\n",
            "bidirectional (Bidirectional (None, 19, 64)            41216     \n",
            "_________________________________________________________________\n",
            "flatten_2 (Flatten)          (None, 1216)              0         \n",
            "_________________________________________________________________\n",
            "dense_2 (Dense)              (None, 3)                 3651      \n",
            "=================================================================\n",
            "Total params: 2,154,795\n",
            "Trainable params: 2,154,795\n",
            "Non-trainable params: 0\n",
            "_________________________________________________________________\n"
          ],
          "name": "stdout"
        }
      ]
    },
    {
      "cell_type": "code",
      "metadata": {
        "colab": {
          "base_uri": "https://localhost:8080/"
        },
        "id": "6as2S3GlQKqe",
        "outputId": "a12eea25-66da-46cd-bdd9-cda5705ecd47"
      },
      "source": [
        "model.compile(optimizer=keras.optimizers.Adam(learning_rate=0.001),\n",
        "    loss='sparse_categorical_crossentropy',\n",
        "    metrics=['accuracy'])\n",
        "   \n",
        "history = model.fit(train_pad_sequences,\n",
        "    train_data['enc_label'],\n",
        "    epochs=15,\n",
        "    batch_size = 32,\n",
        "    validation_split = 0.2,\n",
        "    verbose =1,\n",
        "    callbacks = callback_list,\n",
        "    class_weight = weight)"
      ],
      "execution_count": null,
      "outputs": [
        {
          "output_type": "stream",
          "text": [
            "Epoch 1/15\n",
            "570/570 [==============================] - 13s 18ms/step - loss: 1.7178 - accuracy: 0.3890 - val_loss: 1.6411 - val_accuracy: 0.0503\n",
            "\n",
            "Epoch 00001: val_accuracy improved from -inf to 0.05030, saving model to /content/drive/MyDrive/Colab Notebooks/NLP Projects/EACL 2021- Shared Tasks/Hope Speech/BiLSTMModel.h5\n",
            "Epoch 2/15\n",
            "570/570 [==============================] - 10s 17ms/step - loss: 0.8324 - accuracy: 0.4058 - val_loss: 0.5610 - val_accuracy: 0.7628\n",
            "\n",
            "Epoch 00002: val_accuracy improved from 0.05030 to 0.76279, saving model to /content/drive/MyDrive/Colab Notebooks/NLP Projects/EACL 2021- Shared Tasks/Hope Speech/BiLSTMModel.h5\n",
            "Epoch 3/15\n",
            "570/570 [==============================] - 10s 17ms/step - loss: 0.4860 - accuracy: 0.7205 - val_loss: 0.5596 - val_accuracy: 0.7718\n",
            "\n",
            "Epoch 00003: val_accuracy improved from 0.76279 to 0.77180, saving model to /content/drive/MyDrive/Colab Notebooks/NLP Projects/EACL 2021- Shared Tasks/Hope Speech/BiLSTMModel.h5\n",
            "Epoch 4/15\n",
            "570/570 [==============================] - 10s 17ms/step - loss: 0.1989 - accuracy: 0.8733 - val_loss: 0.4712 - val_accuracy: 0.8190\n",
            "\n",
            "Epoch 00004: val_accuracy improved from 0.77180 to 0.81902, saving model to /content/drive/MyDrive/Colab Notebooks/NLP Projects/EACL 2021- Shared Tasks/Hope Speech/BiLSTMModel.h5\n",
            "Epoch 5/15\n",
            "570/570 [==============================] - 9s 16ms/step - loss: 0.1540 - accuracy: 0.9007 - val_loss: 0.3826 - val_accuracy: 0.8638\n",
            "\n",
            "Epoch 00005: val_accuracy improved from 0.81902 to 0.86383, saving model to /content/drive/MyDrive/Colab Notebooks/NLP Projects/EACL 2021- Shared Tasks/Hope Speech/BiLSTMModel.h5\n",
            "Epoch 6/15\n",
            "570/570 [==============================] - 9s 16ms/step - loss: 0.1140 - accuracy: 0.9257 - val_loss: 0.5450 - val_accuracy: 0.8072\n",
            "\n",
            "Epoch 00006: val_accuracy did not improve from 0.86383\n",
            "Epoch 7/15\n",
            "570/570 [==============================] - 9s 16ms/step - loss: 0.1310 - accuracy: 0.9040 - val_loss: 0.4347 - val_accuracy: 0.8693\n",
            "\n",
            "Epoch 00007: val_accuracy improved from 0.86383 to 0.86932, saving model to /content/drive/MyDrive/Colab Notebooks/NLP Projects/EACL 2021- Shared Tasks/Hope Speech/BiLSTMModel.h5\n",
            "Epoch 8/15\n",
            "570/570 [==============================] - 9s 16ms/step - loss: 0.0722 - accuracy: 0.9544 - val_loss: 0.5393 - val_accuracy: 0.8485\n",
            "\n",
            "Epoch 00008: val_accuracy did not improve from 0.86932\n",
            "Epoch 9/15\n",
            "570/570 [==============================] - 9s 16ms/step - loss: 0.0582 - accuracy: 0.9629 - val_loss: 0.5395 - val_accuracy: 0.8704\n",
            "\n",
            "Epoch 00009: val_accuracy improved from 0.86932 to 0.87042, saving model to /content/drive/MyDrive/Colab Notebooks/NLP Projects/EACL 2021- Shared Tasks/Hope Speech/BiLSTMModel.h5\n",
            "Epoch 10/15\n",
            "570/570 [==============================] - 9s 16ms/step - loss: 0.0492 - accuracy: 0.9702 - val_loss: 0.5345 - val_accuracy: 0.8790\n",
            "\n",
            "Epoch 00010: val_accuracy improved from 0.87042 to 0.87898, saving model to /content/drive/MyDrive/Colab Notebooks/NLP Projects/EACL 2021- Shared Tasks/Hope Speech/BiLSTMModel.h5\n",
            "Epoch 11/15\n",
            "570/570 [==============================] - 9s 16ms/step - loss: 0.0421 - accuracy: 0.9744 - val_loss: 0.5885 - val_accuracy: 0.8733\n",
            "\n",
            "Epoch 00011: val_accuracy did not improve from 0.87898\n",
            "Epoch 12/15\n",
            "570/570 [==============================] - 9s 16ms/step - loss: 0.0397 - accuracy: 0.9760 - val_loss: 0.6287 - val_accuracy: 0.8544\n",
            "\n",
            "Epoch 00012: val_accuracy did not improve from 0.87898\n",
            "Epoch 13/15\n",
            "570/570 [==============================] - 9s 16ms/step - loss: 0.3283 - accuracy: 0.9244 - val_loss: 0.7779 - val_accuracy: 0.7885\n",
            "\n",
            "Epoch 00013: val_accuracy did not improve from 0.87898\n",
            "Epoch 14/15\n",
            "570/570 [==============================] - 9s 16ms/step - loss: 0.1233 - accuracy: 0.9544 - val_loss: 0.5681 - val_accuracy: 0.8522\n",
            "\n",
            "Epoch 00014: val_accuracy did not improve from 0.87898\n",
            "Epoch 15/15\n",
            "570/570 [==============================] - 9s 16ms/step - loss: 0.0742 - accuracy: 0.9573 - val_loss: 0.6339 - val_accuracy: 0.8636\n",
            "\n",
            "Epoch 00015: val_accuracy did not improve from 0.87898\n"
          ],
          "name": "stdout"
        }
      ]
    },
    {
      "cell_type": "code",
      "metadata": {
        "colab": {
          "base_uri": "https://localhost:8080/"
        },
        "id": "o9qscQW0Qwyi",
        "outputId": "736c04f3-9347-4c30-9058-6f713b21b7e8"
      },
      "source": [
        "# Load the saved model\n",
        "model = load_model(folder_path+'BiLSTMModel.h5')\n",
        "# prediction\n",
        "y_pred = np.argmax(model.predict(validation_pad_sequences), axis=-1)\n",
        "\n",
        "print(\"F1-Score:\",f1_score(valid_data['enc_label'],y_pred,average = 'weighted')*100)\n",
        "print(\"Accuracy:\",accuracy_score(valid_data['enc_label'],y_pred)*100)"
      ],
      "execution_count": null,
      "outputs": [
        {
          "output_type": "stream",
          "text": [
            "F1-Score: 89.95109787894442\n",
            "Accuracy: 89.51811466760464\n"
          ],
          "name": "stdout"
        }
      ]
    },
    {
      "cell_type": "code",
      "metadata": {
        "colab": {
          "base_uri": "https://localhost:8080/"
        },
        "id": "qoGa_8AQRM6d",
        "outputId": "b74d75e1-aebb-4573-9b3e-b6c9cc3e3936"
      },
      "source": [
        "from sklearn.metrics import classification_report\n",
        "\n",
        "#Show precision and recall per genre\n",
        "print(classification_report(valid_data['enc_label'], y_pred, target_names=['Non_hope_speech','Hope_speech','not-English']))"
      ],
      "execution_count": null,
      "outputs": [
        {
          "output_type": "stream",
          "text": [
            "                 precision    recall  f1-score   support\n",
            "\n",
            "Non_hope_speech       0.95      0.93      0.94      2569\n",
            "    Hope_speech       0.47      0.56      0.51       272\n",
            "    not-English       0.00      0.00      0.00         2\n",
            "\n",
            "       accuracy                           0.90      2843\n",
            "      macro avg       0.47      0.50      0.48      2843\n",
            "   weighted avg       0.90      0.90      0.90      2843\n",
            "\n"
          ],
          "name": "stdout"
        }
      ]
    },
    {
      "cell_type": "code",
      "metadata": {
        "colab": {
          "base_uri": "https://localhost:8080/"
        },
        "id": "_mgkAXGVRiKi",
        "outputId": "129a0335-ea6c-42a1-9e3a-bbe6c182066e"
      },
      "source": [
        "confusion_matrix(y_true=valid_data['enc_label'], y_pred=y_pred)"
      ],
      "execution_count": null,
      "outputs": [
        {
          "output_type": "execute_result",
          "data": {
            "text/plain": [
              "array([[2392,  174,    3],\n",
              "       [ 119,  153,    0],\n",
              "       [   2,    0,    0]])"
            ]
          },
          "metadata": {
            "tags": []
          },
          "execution_count": 28
        }
      ]
    },
    {
      "cell_type": "markdown",
      "metadata": {
        "id": "sEWrIcO1b9_e"
      },
      "source": [
        "### Test Set Prediction"
      ]
    },
    {
      "cell_type": "code",
      "metadata": {
        "id": "sAqBgbWjbsCd"
      },
      "source": [
        "test_pred = np.argmax(model.predict(test_pad_sequences), axis=-1).tolist()\n",
        "test_pred"
      ],
      "execution_count": null,
      "outputs": []
    },
    {
      "cell_type": "code",
      "metadata": {
        "id": "5D0g-swwcFaw"
      },
      "source": [
        "test_data['id'] = test_data.index + 1\n",
        "run = pd.DataFrame(test_data['id'])\n",
        "run['text'] = test_data['text']\n",
        "run['label'] = test_pred\n",
        "run['label'] = run['label'].apply(actual_label)\n",
        "run "
      ],
      "execution_count": null,
      "outputs": []
    },
    {
      "cell_type": "code",
      "metadata": {
        "id": "B7XdPCZncdBl"
      },
      "source": [
        "run.to_csv(folder_path +'english_cnn+bilstm.tsv',sep = '\\t',index = False)"
      ],
      "execution_count": null,
      "outputs": []
    },
    {
      "cell_type": "markdown",
      "metadata": {
        "id": "Yes-jndhdBiE"
      },
      "source": [
        "##Pretrained Embedding"
      ]
    },
    {
      "cell_type": "code",
      "metadata": {
        "id": "jAcmiVc4dExB"
      },
      "source": [
        "from urllib.request import urlopen\n",
        "import gzip\n",
        "\n",
        "# get the vectors\n",
        "file = gzip.open(urlopen('https://dl.fbaipublicfiles.com/fasttext/vectors-crawl/cc.en.300.vec.gz'))"
      ],
      "execution_count": null,
      "outputs": []
    },
    {
      "cell_type": "code",
      "metadata": {
        "id": "eYWbt5l4dnbh"
      },
      "source": [
        "vocab_and_vectors = {}\n",
        "# put words as dict indexes and vectors as words values\n",
        "for line in file:\n",
        "  values = line.split()\n",
        "  word = values [0].decode('utf-8')\n",
        "  vector = np.asarray(values[1:], dtype='float32')\n",
        "  vocab_and_vectors[word] = vector"
      ],
      "execution_count": null,
      "outputs": []
    },
    {
      "cell_type": "code",
      "metadata": {
        "id": "VT5mMnIUeamd"
      },
      "source": [
        "embedding_matrix = np.zeros((vocab_size, 300))\n",
        "for word, i in word_index.items():\n",
        "  embedding_vector = vocab_and_vectors.get(word)\n",
        "  # words that cannot be found will be set to 0\n",
        "  if embedding_vector is not None:\n",
        "    embedding_matrix[i] = embedding_vector"
      ],
      "execution_count": null,
      "outputs": []
    },
    {
      "cell_type": "markdown",
      "metadata": {
        "id": "sHauacrrgpgU"
      },
      "source": [
        "###Model Defination"
      ]
    },
    {
      "cell_type": "code",
      "metadata": {
        "colab": {
          "base_uri": "https://localhost:8080/"
        },
        "id": "sts-Fhj4fikw",
        "outputId": "ac6291f7-0737-4ff6-cf94-8bf11f65fa22"
      },
      "source": [
        "num_classes = 3\n",
        "\n",
        "accuracy_threshold = 0.99\n",
        "\n",
        "class myCallback(keras.callbacks.Callback):\n",
        "  def on_epoch_end(self, epoch, logs={}):\n",
        "      if(logs.get('accuracy')>accuracy_threshold):\n",
        "        print(\"\\nReached %2.2f%% accuracy so we will stop trianing\" % (accuracy_threshold*100))\n",
        "        self.model.stop_training = True\n",
        "\n",
        "acc_callback = myCallback()\n",
        "# Saved the Best Model\n",
        "filepath = folder_path+\"prt_en-BiLSTMModel.h5\"\n",
        "checkpoint = keras.callbacks.ModelCheckpoint(filepath, monitor='val_accuracy', verbose=2, save_best_only=True, \n",
        "                                             save_weights_only=False, mode='max')\n",
        "# callback list\n",
        "callback_list = [acc_callback, checkpoint] \n",
        "model = tf.keras.models.Sequential([\n",
        "tf.keras.layers.Embedding(vocab_size, 300,weights=[embedding_matrix],trainable=False, input_length = max_len),\n",
        "tf.keras.layers.Conv1D(128, 5, activation='relu'),\n",
        "tf.keras.layers.MaxPooling1D(5),\n",
        "tf.keras.layers.Bidirectional(LSTM(units = 200,return_sequences=True,dropout = 0.2)),\n",
        "tf.keras.layers.Flatten(),\n",
        "tf.keras.layers.Dense(3 , activation='softmax')])\n",
        "\n",
        "model.summary()\n"
      ],
      "execution_count": null,
      "outputs": [
        {
          "output_type": "stream",
          "text": [
            "Model: \"sequential_4\"\n",
            "_________________________________________________________________\n",
            "Layer (type)                 Output Shape              Param #   \n",
            "=================================================================\n",
            "embedding_4 (Embedding)      (None, 100, 300)          6137400   \n",
            "_________________________________________________________________\n",
            "conv1d_4 (Conv1D)            (None, 96, 128)           192128    \n",
            "_________________________________________________________________\n",
            "max_pooling1d_4 (MaxPooling1 (None, 19, 128)           0         \n",
            "_________________________________________________________________\n",
            "bidirectional_4 (Bidirection (None, 19, 400)           526400    \n",
            "_________________________________________________________________\n",
            "flatten_4 (Flatten)          (None, 7600)              0         \n",
            "_________________________________________________________________\n",
            "dense_4 (Dense)              (None, 3)                 22803     \n",
            "=================================================================\n",
            "Total params: 6,878,731\n",
            "Trainable params: 741,331\n",
            "Non-trainable params: 6,137,400\n",
            "_________________________________________________________________\n"
          ],
          "name": "stdout"
        }
      ]
    },
    {
      "cell_type": "code",
      "metadata": {
        "colab": {
          "base_uri": "https://localhost:8080/"
        },
        "id": "ENpZL7LIf5Pu",
        "outputId": "91232ffe-d41e-4717-8177-652310e0e845"
      },
      "source": [
        "model.compile(optimizer=keras.optimizers.Adam(learning_rate=0.001),\n",
        "    loss='sparse_categorical_crossentropy',\n",
        "    metrics=['accuracy'])\n",
        "   \n",
        "history = model.fit(train_pad_sequences,\n",
        "    train_data['enc_label'],\n",
        "    epochs=50,\n",
        "    batch_size = 32,\n",
        "    validation_split = 0.2,\n",
        "    verbose =1,\n",
        "    callbacks = callback_list,\n",
        "    class_weight = weight)"
      ],
      "execution_count": null,
      "outputs": [
        {
          "output_type": "stream",
          "text": [
            "Epoch 1/50\n",
            "570/570 [==============================] - 10s 12ms/step - loss: 1.5966 - accuracy: 0.5262 - val_loss: 0.6540 - val_accuracy: 0.8078\n",
            "\n",
            "Epoch 00001: val_accuracy improved from -inf to 0.80782, saving model to /content/drive/MyDrive/Colab Notebooks/NLP Projects/EACL 2021- Shared Tasks/Hope Speech/prt_en-BiLSTMModel.h5\n",
            "Epoch 2/50\n",
            "570/570 [==============================] - 6s 10ms/step - loss: 1.3839 - accuracy: 0.5100 - val_loss: 0.7115 - val_accuracy: 0.7424\n",
            "\n",
            "Epoch 00002: val_accuracy did not improve from 0.80782\n",
            "Epoch 3/50\n",
            "570/570 [==============================] - 6s 10ms/step - loss: 0.9799 - accuracy: 0.4783 - val_loss: 0.8549 - val_accuracy: 0.5322\n",
            "\n",
            "Epoch 00003: val_accuracy did not improve from 0.80782\n",
            "Epoch 4/50\n",
            "570/570 [==============================] - 6s 10ms/step - loss: 0.6723 - accuracy: 0.6041 - val_loss: 0.8454 - val_accuracy: 0.6503\n",
            "\n",
            "Epoch 00004: val_accuracy did not improve from 0.80782\n",
            "Epoch 5/50\n",
            "570/570 [==============================] - 6s 10ms/step - loss: 0.7184 - accuracy: 0.6414 - val_loss: 0.5486 - val_accuracy: 0.7470\n",
            "\n",
            "Epoch 00005: val_accuracy did not improve from 0.80782\n",
            "Epoch 6/50\n",
            "570/570 [==============================] - 6s 10ms/step - loss: 0.4219 - accuracy: 0.7145 - val_loss: 0.6325 - val_accuracy: 0.7169\n",
            "\n",
            "Epoch 00006: val_accuracy did not improve from 0.80782\n",
            "Epoch 7/50\n",
            "570/570 [==============================] - 6s 10ms/step - loss: 0.3296 - accuracy: 0.7699 - val_loss: 0.7247 - val_accuracy: 0.6510\n",
            "\n",
            "Epoch 00007: val_accuracy did not improve from 0.80782\n",
            "Epoch 8/50\n",
            "570/570 [==============================] - 6s 10ms/step - loss: 0.3252 - accuracy: 0.7621 - val_loss: 1.2931 - val_accuracy: 0.4494\n",
            "\n",
            "Epoch 00008: val_accuracy did not improve from 0.80782\n",
            "Epoch 9/50\n",
            "570/570 [==============================] - 6s 10ms/step - loss: 0.4120 - accuracy: 0.7069 - val_loss: 0.5153 - val_accuracy: 0.7760\n",
            "\n",
            "Epoch 00009: val_accuracy did not improve from 0.80782\n",
            "Epoch 10/50\n",
            "570/570 [==============================] - 6s 10ms/step - loss: 0.2544 - accuracy: 0.8366 - val_loss: 0.7473 - val_accuracy: 0.6877\n",
            "\n",
            "Epoch 00010: val_accuracy did not improve from 0.80782\n",
            "Epoch 11/50\n",
            "570/570 [==============================] - 6s 10ms/step - loss: 0.2355 - accuracy: 0.8421 - val_loss: 0.5191 - val_accuracy: 0.7812\n",
            "\n",
            "Epoch 00011: val_accuracy did not improve from 0.80782\n",
            "Epoch 12/50\n",
            "570/570 [==============================] - 6s 10ms/step - loss: 0.1887 - accuracy: 0.8702 - val_loss: 0.4519 - val_accuracy: 0.8105\n",
            "\n",
            "Epoch 00012: val_accuracy improved from 0.80782 to 0.81045, saving model to /content/drive/MyDrive/Colab Notebooks/NLP Projects/EACL 2021- Shared Tasks/Hope Speech/prt_en-BiLSTMModel.h5\n",
            "Epoch 13/50\n",
            "570/570 [==============================] - 6s 10ms/step - loss: 0.1816 - accuracy: 0.8837 - val_loss: 0.9558 - val_accuracy: 0.6418\n",
            "\n",
            "Epoch 00013: val_accuracy did not improve from 0.81045\n",
            "Epoch 14/50\n",
            "570/570 [==============================] - 6s 10ms/step - loss: 0.1994 - accuracy: 0.8655 - val_loss: 0.4439 - val_accuracy: 0.8430\n",
            "\n",
            "Epoch 00014: val_accuracy improved from 0.81045 to 0.84296, saving model to /content/drive/MyDrive/Colab Notebooks/NLP Projects/EACL 2021- Shared Tasks/Hope Speech/prt_en-BiLSTMModel.h5\n",
            "Epoch 15/50\n",
            "570/570 [==============================] - 6s 10ms/step - loss: 0.1405 - accuracy: 0.9051 - val_loss: 0.4588 - val_accuracy: 0.8315\n",
            "\n",
            "Epoch 00015: val_accuracy did not improve from 0.84296\n",
            "Epoch 16/50\n",
            "570/570 [==============================] - 6s 10ms/step - loss: 0.1225 - accuracy: 0.9209 - val_loss: 0.4627 - val_accuracy: 0.8445\n",
            "\n",
            "Epoch 00016: val_accuracy improved from 0.84296 to 0.84450, saving model to /content/drive/MyDrive/Colab Notebooks/NLP Projects/EACL 2021- Shared Tasks/Hope Speech/prt_en-BiLSTMModel.h5\n",
            "Epoch 17/50\n",
            "570/570 [==============================] - 6s 10ms/step - loss: 0.1240 - accuracy: 0.9219 - val_loss: 0.4231 - val_accuracy: 0.8553\n",
            "\n",
            "Epoch 00017: val_accuracy improved from 0.84450 to 0.85526, saving model to /content/drive/MyDrive/Colab Notebooks/NLP Projects/EACL 2021- Shared Tasks/Hope Speech/prt_en-BiLSTMModel.h5\n",
            "Epoch 18/50\n",
            "570/570 [==============================] - 6s 10ms/step - loss: 0.1085 - accuracy: 0.9309 - val_loss: 0.4911 - val_accuracy: 0.8458\n",
            "\n",
            "Epoch 00018: val_accuracy did not improve from 0.85526\n",
            "Epoch 19/50\n",
            "570/570 [==============================] - 6s 10ms/step - loss: 0.0986 - accuracy: 0.9381 - val_loss: 0.8873 - val_accuracy: 0.7331\n",
            "\n",
            "Epoch 00019: val_accuracy did not improve from 0.85526\n",
            "Epoch 20/50\n",
            "570/570 [==============================] - 6s 10ms/step - loss: 0.1412 - accuracy: 0.9065 - val_loss: 0.5456 - val_accuracy: 0.8416\n",
            "\n",
            "Epoch 00020: val_accuracy did not improve from 0.85526\n",
            "Epoch 21/50\n",
            "570/570 [==============================] - 6s 10ms/step - loss: 0.0936 - accuracy: 0.9454 - val_loss: 0.4605 - val_accuracy: 0.8658\n",
            "\n",
            "Epoch 00021: val_accuracy improved from 0.85526 to 0.86580, saving model to /content/drive/MyDrive/Colab Notebooks/NLP Projects/EACL 2021- Shared Tasks/Hope Speech/prt_en-BiLSTMModel.h5\n",
            "Epoch 22/50\n",
            "570/570 [==============================] - 6s 10ms/step - loss: 0.0745 - accuracy: 0.9540 - val_loss: 0.5000 - val_accuracy: 0.8526\n",
            "\n",
            "Epoch 00022: val_accuracy did not improve from 0.86580\n",
            "Epoch 23/50\n",
            "570/570 [==============================] - 6s 10ms/step - loss: 0.0750 - accuracy: 0.9523 - val_loss: 0.5190 - val_accuracy: 0.8498\n",
            "\n",
            "Epoch 00023: val_accuracy did not improve from 0.86580\n",
            "Epoch 24/50\n",
            "570/570 [==============================] - 6s 10ms/step - loss: 0.0770 - accuracy: 0.9511 - val_loss: 0.4886 - val_accuracy: 0.8922\n",
            "\n",
            "Epoch 00024: val_accuracy improved from 0.86580 to 0.89216, saving model to /content/drive/MyDrive/Colab Notebooks/NLP Projects/EACL 2021- Shared Tasks/Hope Speech/prt_en-BiLSTMModel.h5\n",
            "Epoch 25/50\n",
            "570/570 [==============================] - 6s 11ms/step - loss: 0.0907 - accuracy: 0.9621 - val_loss: 0.4977 - val_accuracy: 0.8974\n",
            "\n",
            "Epoch 00025: val_accuracy improved from 0.89216 to 0.89743, saving model to /content/drive/MyDrive/Colab Notebooks/NLP Projects/EACL 2021- Shared Tasks/Hope Speech/prt_en-BiLSTMModel.h5\n",
            "Epoch 26/50\n",
            "570/570 [==============================] - 6s 10ms/step - loss: 0.0747 - accuracy: 0.9575 - val_loss: 0.5411 - val_accuracy: 0.8588\n",
            "\n",
            "Epoch 00026: val_accuracy did not improve from 0.89743\n",
            "Epoch 27/50\n",
            "570/570 [==============================] - 6s 11ms/step - loss: 0.0761 - accuracy: 0.9695 - val_loss: 0.5619 - val_accuracy: 0.8531\n",
            "\n",
            "Epoch 00027: val_accuracy did not improve from 0.89743\n",
            "Epoch 28/50\n",
            "570/570 [==============================] - 6s 11ms/step - loss: 0.0965 - accuracy: 0.9599 - val_loss: 0.5171 - val_accuracy: 0.8777\n",
            "\n",
            "Epoch 00028: val_accuracy did not improve from 0.89743\n",
            "Epoch 29/50\n",
            "570/570 [==============================] - 6s 10ms/step - loss: 0.0681 - accuracy: 0.9606 - val_loss: 0.5198 - val_accuracy: 0.8919\n",
            "\n",
            "Epoch 00029: val_accuracy did not improve from 0.89743\n",
            "Epoch 30/50\n",
            "570/570 [==============================] - 6s 10ms/step - loss: 0.0489 - accuracy: 0.9731 - val_loss: 0.5984 - val_accuracy: 0.8533\n",
            "\n",
            "Epoch 00030: val_accuracy did not improve from 0.89743\n",
            "Epoch 31/50\n",
            "570/570 [==============================] - 6s 10ms/step - loss: 0.0682 - accuracy: 0.9651 - val_loss: 0.5827 - val_accuracy: 0.8671\n",
            "\n",
            "Epoch 00031: val_accuracy did not improve from 0.89743\n",
            "Epoch 32/50\n",
            "570/570 [==============================] - 6s 10ms/step - loss: 0.3676 - accuracy: 0.8974 - val_loss: 0.5002 - val_accuracy: 0.8737\n",
            "\n",
            "Epoch 00032: val_accuracy did not improve from 0.89743\n",
            "Epoch 33/50\n",
            "570/570 [==============================] - 6s 10ms/step - loss: 0.0936 - accuracy: 0.9512 - val_loss: 0.5833 - val_accuracy: 0.8548\n",
            "\n",
            "Epoch 00033: val_accuracy did not improve from 0.89743\n",
            "Epoch 34/50\n",
            "570/570 [==============================] - 6s 10ms/step - loss: 0.0568 - accuracy: 0.9689 - val_loss: 0.5965 - val_accuracy: 0.8908\n",
            "\n",
            "Epoch 00034: val_accuracy did not improve from 0.89743\n",
            "Epoch 35/50\n",
            "570/570 [==============================] - 6s 10ms/step - loss: 0.0492 - accuracy: 0.9738 - val_loss: 0.5778 - val_accuracy: 0.8827\n",
            "\n",
            "Epoch 00035: val_accuracy did not improve from 0.89743\n",
            "Epoch 36/50\n",
            "570/570 [==============================] - 6s 10ms/step - loss: 0.0444 - accuracy: 0.9743 - val_loss: 0.5940 - val_accuracy: 0.8930\n",
            "\n",
            "Epoch 00036: val_accuracy did not improve from 0.89743\n",
            "Epoch 37/50\n",
            "570/570 [==============================] - 6s 10ms/step - loss: 0.0409 - accuracy: 0.9793 - val_loss: 0.7527 - val_accuracy: 0.8456\n",
            "\n",
            "Epoch 00037: val_accuracy did not improve from 0.89743\n",
            "Epoch 38/50\n",
            "570/570 [==============================] - 6s 10ms/step - loss: 0.0426 - accuracy: 0.9746 - val_loss: 0.6620 - val_accuracy: 0.8948\n",
            "\n",
            "Epoch 00038: val_accuracy did not improve from 0.89743\n",
            "Epoch 39/50\n",
            "570/570 [==============================] - 6s 10ms/step - loss: 0.0381 - accuracy: 0.9820 - val_loss: 0.6299 - val_accuracy: 0.8849\n",
            "\n",
            "Epoch 00039: val_accuracy did not improve from 0.89743\n",
            "Epoch 40/50\n",
            "570/570 [==============================] - 6s 10ms/step - loss: 0.0449 - accuracy: 0.9778 - val_loss: 0.6460 - val_accuracy: 0.8948\n",
            "\n",
            "Epoch 00040: val_accuracy did not improve from 0.89743\n",
            "Epoch 41/50\n",
            "570/570 [==============================] - 6s 10ms/step - loss: 0.0454 - accuracy: 0.9775 - val_loss: 0.6472 - val_accuracy: 0.8803\n",
            "\n",
            "Epoch 00041: val_accuracy did not improve from 0.89743\n",
            "Epoch 42/50\n",
            "570/570 [==============================] - 6s 10ms/step - loss: 0.0427 - accuracy: 0.9746 - val_loss: 0.6181 - val_accuracy: 0.8915\n",
            "\n",
            "Epoch 00042: val_accuracy did not improve from 0.89743\n",
            "Epoch 43/50\n",
            "570/570 [==============================] - 6s 10ms/step - loss: 0.0758 - accuracy: 0.9695 - val_loss: 0.6232 - val_accuracy: 0.8720\n",
            "\n",
            "Epoch 00043: val_accuracy did not improve from 0.89743\n",
            "Epoch 44/50\n",
            "570/570 [==============================] - 6s 10ms/step - loss: 0.0474 - accuracy: 0.9734 - val_loss: 0.6380 - val_accuracy: 0.8821\n",
            "\n",
            "Epoch 00044: val_accuracy did not improve from 0.89743\n",
            "Epoch 45/50\n",
            "570/570 [==============================] - 6s 10ms/step - loss: 0.0367 - accuracy: 0.9797 - val_loss: 0.6819 - val_accuracy: 0.8572\n",
            "\n",
            "Epoch 00045: val_accuracy did not improve from 0.89743\n",
            "Epoch 46/50\n",
            "570/570 [==============================] - 6s 10ms/step - loss: 0.0430 - accuracy: 0.9764 - val_loss: 0.6791 - val_accuracy: 0.8660\n",
            "\n",
            "Epoch 00046: val_accuracy did not improve from 0.89743\n",
            "Epoch 47/50\n",
            "570/570 [==============================] - 6s 10ms/step - loss: 0.0428 - accuracy: 0.9796 - val_loss: 0.6645 - val_accuracy: 0.8816\n",
            "\n",
            "Epoch 00047: val_accuracy did not improve from 0.89743\n",
            "Epoch 48/50\n",
            "570/570 [==============================] - 6s 10ms/step - loss: 0.0666 - accuracy: 0.9661 - val_loss: 0.8384 - val_accuracy: 0.8432\n",
            "\n",
            "Epoch 00048: val_accuracy did not improve from 0.89743\n",
            "Epoch 49/50\n",
            "570/570 [==============================] - 6s 10ms/step - loss: 0.0504 - accuracy: 0.9718 - val_loss: 0.6814 - val_accuracy: 0.8687\n",
            "\n",
            "Epoch 00049: val_accuracy did not improve from 0.89743\n",
            "Epoch 50/50\n",
            "570/570 [==============================] - 6s 10ms/step - loss: 0.0267 - accuracy: 0.9859 - val_loss: 0.6659 - val_accuracy: 0.8880\n",
            "\n",
            "Epoch 00050: val_accuracy did not improve from 0.89743\n"
          ],
          "name": "stdout"
        }
      ]
    },
    {
      "cell_type": "code",
      "metadata": {
        "colab": {
          "base_uri": "https://localhost:8080/"
        },
        "id": "TgrSeRfGiAod",
        "outputId": "0023fa79-6ddd-4393-e5e3-28ac498782b5"
      },
      "source": [
        "# Load the saved model\n",
        "model = load_model(folder_path+'prt_en-BiLSTMModel.h5')\n",
        "# prediction\n",
        "y_pred = np.argmax(model.predict(validation_pad_sequences), axis=-1)\n",
        "print_metrices(y_pred,valid_data['enc_label'])\n"
      ],
      "execution_count": null,
      "outputs": [
        {
          "output_type": "stream",
          "text": [
            "[[2446  116    7]\n",
            " [ 150  121    1]\n",
            " [   1    0    1]]\n",
            "              precision    recall  f1-score   support\n",
            "\n",
            "           0       0.94      0.95      0.95      2569\n",
            "           1       0.51      0.44      0.48       272\n",
            "           2       0.11      0.50      0.18         2\n",
            "\n",
            "    accuracy                           0.90      2843\n",
            "   macro avg       0.52      0.63      0.53      2843\n",
            "weighted avg       0.90      0.90      0.90      2843\n",
            "\n",
            "Accuracy :  0.9032711924023918\n",
            "Precison :  0.9084029361954916\n",
            "Recall :  0.9032711924023918\n",
            "F1 :  0.9052316498257138\n"
          ],
          "name": "stdout"
        }
      ]
    },
    {
      "cell_type": "code",
      "metadata": {
        "id": "7AVKKkQ6jrxJ"
      },
      "source": [
        "test_pred = np.argmax(model.predict(test_pad_sequences), axis=-1).tolist()\n",
        "test_pred"
      ],
      "execution_count": null,
      "outputs": []
    },
    {
      "cell_type": "code",
      "metadata": {
        "id": "ZsEJYlejjy4W"
      },
      "source": [
        "test_data['id'] = test_data.index + 1\n",
        "run = pd.DataFrame(test_data['id'])\n",
        "run['text'] = test_data['text']\n",
        "run['label'] = test_pred\n",
        "run['label'] = run['label'].apply(actual_label)\n",
        "run "
      ],
      "execution_count": null,
      "outputs": []
    },
    {
      "cell_type": "code",
      "metadata": {
        "id": "bnnMrEvDj8u_"
      },
      "source": [
        "run.to_csv(folder_path +'english_cnn+bilstm+fasttext.tsv',sep = '\\t',index = False)"
      ],
      "execution_count": null,
      "outputs": []
    },
    {
      "cell_type": "markdown",
      "metadata": {
        "id": "nEx5y_hd5jz4"
      },
      "source": [
        "# Malaylam Dataset "
      ]
    },
    {
      "cell_type": "code",
      "metadata": {
        "colab": {
          "base_uri": "https://localhost:8080/"
        },
        "id": "MA7sCQIq5jz6",
        "outputId": "d37eef14-6a22-4287-9fe2-3a265fc80620"
      },
      "source": [
        "%%time\n",
        "train_data = pd.read_csv(dataset_path + \"malayalam_hope_train.csv\",delimiter='\\t',header = None)\n",
        "valid_data = pd.read_csv(dataset_path + \"malayalam_hope_dev.csv\",delimiter='\\t',header = None)\n",
        "test_data = pd.read_csv(dataset_path + \"malayalam_hope_test.csv\",delimiter='\\t',header = None)"
      ],
      "execution_count": null,
      "outputs": [
        {
          "output_type": "stream",
          "text": [
            "CPU times: user 38.8 ms, sys: 15.2 ms, total: 54 ms\n",
            "Wall time: 2.82 s\n"
          ],
          "name": "stdout"
        }
      ]
    },
    {
      "cell_type": "code",
      "metadata": {
        "id": "BTF67Kxl6oIv"
      },
      "source": [
        "test_data"
      ],
      "execution_count": null,
      "outputs": []
    },
    {
      "cell_type": "code",
      "metadata": {
        "id": "VWg7xsse5jz7"
      },
      "source": [
        "train_data = train_data.drop(columns=2)\n",
        "train_data = train_data.rename(columns={0:'text',1:'label'})\n",
        "valid_data = valid_data.drop(columns=2)\n",
        "valid_data = valid_data.rename(columns={0:'text',1:'label'})\n",
        "test_data = test_data.rename(columns={0:'text'})"
      ],
      "execution_count": null,
      "outputs": []
    },
    {
      "cell_type": "code",
      "metadata": {
        "id": "aromaY7U5jz8"
      },
      "source": [
        "train_data['enc_label'] = train_data['label'].replace({'Non_hope_speech':0, 'Hope_speech':1,'not-malayalam':2})\n",
        "valid_data['enc_label'] = valid_data['label'].replace({'Non_hope_speech':0, 'Hope_speech':1,'not-malayalam':2})"
      ],
      "execution_count": null,
      "outputs": []
    },
    {
      "cell_type": "code",
      "metadata": {
        "id": "lWsqKIUu5jz8"
      },
      "source": [
        "train_data"
      ],
      "execution_count": null,
      "outputs": []
    },
    {
      "cell_type": "code",
      "metadata": {
        "id": "bHhVGuZC5jz9"
      },
      "source": [
        "train_data['text'].tolist()"
      ],
      "execution_count": null,
      "outputs": []
    },
    {
      "cell_type": "code",
      "metadata": {
        "colab": {
          "base_uri": "https://localhost:8080/"
        },
        "id": "5avB-UT95jz-",
        "outputId": "82fc7fe4-a04e-4ccb-c7af-40eff5ed1d6e"
      },
      "source": [
        "train_data['enc_label'].value_counts()"
      ],
      "execution_count": null,
      "outputs": [
        {
          "output_type": "execute_result",
          "data": {
            "text/plain": [
              "0    6205\n",
              "1    1668\n",
              "2     691\n",
              "Name: enc_label, dtype: int64"
            ]
          },
          "metadata": {
            "tags": []
          },
          "execution_count": 8
        }
      ]
    },
    {
      "cell_type": "code",
      "metadata": {
        "colab": {
          "base_uri": "https://localhost:8080/"
        },
        "id": "iRWQ71955jz_",
        "outputId": "cec8b2ea-a470-46aa-c822-f15b91057b50"
      },
      "source": [
        "valid_data['enc_label'].value_counts()"
      ],
      "execution_count": null,
      "outputs": [
        {
          "output_type": "execute_result",
          "data": {
            "text/plain": [
              "0    784\n",
              "1    190\n",
              "2     96\n",
              "Name: enc_label, dtype: int64"
            ]
          },
          "metadata": {
            "tags": []
          },
          "execution_count": 9
        }
      ]
    },
    {
      "cell_type": "code",
      "metadata": {
        "colab": {
          "base_uri": "https://localhost:8080/"
        },
        "id": "TZd6Bfhg5jz_",
        "outputId": "1c181f86-871e-4bfc-f1dc-587a3b9b7885"
      },
      "source": [
        "print(\"Size of the training data ==> \", train_data.shape)\n",
        "print(\"Size of the validation data ==>\", valid_data.shape)\n",
        "print(\"Size of the Test data ==>\", test_data.shape)"
      ],
      "execution_count": null,
      "outputs": [
        {
          "output_type": "stream",
          "text": [
            "Size of the training data ==>  (8564, 3)\n",
            "Size of the validation data ==> (1070, 3)\n",
            "Size of the Test data ==> (1071, 1)\n"
          ],
          "name": "stdout"
        }
      ]
    },
    {
      "cell_type": "markdown",
      "metadata": {
        "id": "GT5ZJUtQ5j0A"
      },
      "source": [
        "## One Hot Encoding"
      ]
    },
    {
      "cell_type": "code",
      "metadata": {
        "id": "_QNf7eTG5j0A"
      },
      "source": [
        "import pandas as pd\n",
        "from sklearn.preprocessing import OneHotEncoder"
      ],
      "execution_count": null,
      "outputs": []
    },
    {
      "cell_type": "code",
      "metadata": {
        "id": "-ZCuxD8V5j0B"
      },
      "source": [
        "encoder=OneHotEncoder(sparse=False)\n",
        "\n",
        "encoded_labels = pd.DataFrame (encoder.fit_transform(train_data[['label']]))\n",
        "\n",
        "encoded_labels .columns = encoder.get_feature_names(['label'])\n",
        "\n",
        "train_data= pd.concat([train_data, encoded_labels ], axis=1)"
      ],
      "execution_count": null,
      "outputs": []
    },
    {
      "cell_type": "code",
      "metadata": {
        "id": "3OsooT245j0B"
      },
      "source": [
        "train_data = train_data.rename(columns={'label_Hope_speech':'Hope_speech','label_Non_hope_speech':'Non_hope_speech',\n",
        "                                        'label_not-malayalam':'not-malayalam'})\n",
        "train_data"
      ],
      "execution_count": null,
      "outputs": []
    },
    {
      "cell_type": "markdown",
      "metadata": {
        "id": "4k-zEqP85j0C"
      },
      "source": [
        "## Cleaning"
      ]
    },
    {
      "cell_type": "code",
      "metadata": {
        "id": "_f9lhcKC5j0C"
      },
      "source": [
        "'''\n",
        "Text Cleaning\n",
        "'''\n",
        "def text_cleaning(row):\n",
        "  # to remove HTML tags\n",
        "  text = BeautifulSoup(row, 'html.parser').get_text()\n",
        "  d = re.sub(r'(https|http)?:\\/\\/(\\w|\\.|\\/|\\?|\\=|\\&|\\%)*\\b', '', text, flags=re.MULTILINE) #This line is for removing url\n",
        "  post = d.replace('\\n', '')\n",
        "  post = post.replace('—', ' ')\n",
        "  # to remove accented characters\n",
        "  new_text = unicodedata.normalize('NFKD', post).encode('ascii', 'ignore').decode('utf-8', 'ignore')\n",
        "  # to remove special characters and numbers\n",
        "  # define the pattern to keep\n",
        "  #pat = r'[^a-zA-z0-9.,!?/:;\\\"\\'\\s]' \n",
        "  #text = re.sub(pat, '', new_text)\n",
        "  #to remove punctuation\n",
        "  text = ''.join([c for c in text if c not in string.punctuation])\n",
        "  # to remove special characters\n",
        "  pattern = r'^\\s*|\\s\\s*'\n",
        "  text = re.sub(pattern, ' ', text).strip()\n",
        "  # convert into lower case\n",
        "  text = text.lower() \n",
        "  # Stopword Removing\n",
        "  tokenizer = ToktokTokenizer()\n",
        "  # convert sentence into token of words\n",
        "  tokens = tokenizer.tokenize(text)\n",
        "  tokens = [token.strip() for token in tokens]\n",
        "  # check in lowercase \n",
        "  #t = [token for token in tokens if token.lower() not in stopword_list]\n",
        "  #text = ' '.join(t) \n",
        "  # Stemming\n",
        "  #t = [stemming.stem(token) for token in tokens ]\n",
        "  #text = ' '.join(t) \n",
        "\n",
        "  return text\n",
        "\n"
      ],
      "execution_count": null,
      "outputs": []
    },
    {
      "cell_type": "code",
      "metadata": {
        "colab": {
          "base_uri": "https://localhost:8080/"
        },
        "id": "mH5l-uWX5j0D",
        "outputId": "ca3fb054-5acd-4f17-c34a-f35eba0db7a4"
      },
      "source": [
        "#removing URLs and Punctuations\n",
        "#train_data['cleaned'] = train_data['tweet'].apply(remove_url)\n",
        "#Removing punctuations\n",
        "train_data['cleaned'] = train_data['text'].apply(text_cleaning)\n",
        "valid_data['cleaned'] = valid_data['text'].apply(text_cleaning)\n",
        "test_data['cleaned'] = test_data['text'].apply(text_cleaning)\n",
        "\n",
        "\n",
        "## Data samples after cleaning\n",
        "print(\"Data samples after cleaning:\\n\")\n",
        "for i in range(10):\n",
        "  print(\"Original Data:===\\n\",train_data.text[i],\"\\nCleaned Data:===\\n\",train_data.cleaned[i],)"
      ],
      "execution_count": null,
      "outputs": [
        {
          "output_type": "stream",
          "text": [
            "Data samples after cleaning:\n",
            "\n",
            "Original Data:===\n",
            " @arya s nair may be athile karthikayude charctr bisexual ayirikkum \n",
            "Cleaned Data:===\n",
            " arya s nair may be athile karthikayude charctr bisexual ayirikkum\n",
            "Original Data:===\n",
            " വാങ്ങിയത് എന്ത് കുന്തം ആയാലും കളയാൻ പറ്റില്ലല്ലോ ഇനി വാങ്ങാതിരിക്കാൻ ശ്രദ്ധിക്കുക Jai India \n",
            "Cleaned Data:===\n",
            " വാങ്ങിയത് എന്ത് കുന്തം ആയാലും കളയാൻ പറ്റില്ലല്ലോ ഇനി വാങ്ങാതിരിക്കാൻ ശ്രദ്ധിക്കുക jai india\n",
            "Original Data:===\n",
            " മാറുമറയ്ക്കാൻ നടത്തിയ സമരം ഒരു previlege issue  ആയിരുന്നു...അത് ഈ വിഷയവുമായി കമ്പയർ ചെയ്യാൻ പറ്റില്ല.താങ്കൾ പറഞ്ഞത് തെറ്റാണ്.സാധാരണ വേഷം അണിഞ്ഞാൽ പോലും നോക്കി കൊല്ലുന്ന നാട്ടുകാർ ഉള്ളയിടത്തു ഫെമിനിസത്തിന് വസ്ത്രത്തെക്കുറിച്ചു  സംസാരിക്കേണ്ടി തന്നെ വരും... \n",
            "Cleaned Data:===\n",
            " മാറുമറയ്ക്കാൻ നടത്തിയ സമരം ഒരു previlege issue ആയിരുന്നുഅത് ഈ വിഷയവുമായി കമ്പയർ ചെയ്യാൻ പറ്റില്ലതാങ്കൾ പറഞ്ഞത് തെറ്റാണ്സാധാരണ വേഷം അണിഞ്ഞാൽ പോലും നോക്കി കൊല്ലുന്ന നാട്ടുകാർ ഉള്ളയിടത്തു ഫെമിനിസത്തിന് വസ്ത്രത്തെക്കുറിച്ചു സംസാരിക്കേണ്ടി തന്നെ വരും\n",
            "Original Data:===\n",
            " ഇഷാനെ കൂടുതല് കെട്ടിപിടിക്കേണ്ട ഞങ്ങൾക്കറിയാം ഇഷാന്  സൂര്യയോട് ഇച്ചിരി കൊഞ്ചൽ കൂടുതലാണെന്ന് \n",
            "Cleaned Data:===\n",
            " ഇഷാനെ കൂടുതല് കെട്ടിപിടിക്കേണ്ട ഞങ്ങൾക്കറിയാം ഇഷാന് സൂര്യയോട് ഇച്ചിരി കൊഞ്ചൽ കൂടുതലാണെന്ന്\n",
            "Original Data:===\n",
            " ഇന്ത്യ ഇസ്‌ലാമിക രാജ്യമല്ല.. ഇന്ത്യൻ ഭരണഘടന മാത്രമേ ഇന്ത്യൻ പൗരന്മാർ നോക്കേണ്ടതുളൂ.  ഇന്ത്യൻ നിയമ പ്രകാരം പ്രായപൂർത്തിയായ രണ്ടുപേർക്ക് പരസ്പരം സമ്മതത്തോടെ ഒന്നിച്ചു കഴിയാൻ ഒരു തടസവും ഇല്ല. \n",
            "Cleaned Data:===\n",
            " ഇന്ത്യ ഇസ്‌ലാമിക രാജ്യമല്ല ഇന്ത്യൻ ഭരണഘടന മാത്രമേ ഇന്ത്യൻ പൗരന്മാർ നോക്കേണ്ടതുളൂ ഇന്ത്യൻ നിയമ പ്രകാരം പ്രായപൂർത്തിയായ രണ്ടുപേർക്ക് പരസ്പരം സമ്മതത്തോടെ ഒന്നിച്ചു കഴിയാൻ ഒരു തടസവും ഇല്ല\n",
            "Original Data:===\n",
            " Xenderin pakaram okke entha ubayokhikkuka \n",
            "Cleaned Data:===\n",
            " xenderin pakaram okke entha ubayokhikkuka\n",
            "Original Data:===\n",
            " ചൈനയുടെ കാര്യം അവര് നോക്കട്ടെ.. nഇന്ത്യയിൽ പെട്രോളിന് ദിവസവും വിലക്കുട്ടി കൊണ്ടിരിക്കുകയാണ് അതിനെതിരെ പ്രതികരിക്കാൻ നോക്.... \n",
            "Cleaned Data:===\n",
            " ചൈനയുടെ കാര്യം അവര് നോക്കട്ടെ nഇന്ത്യയിൽ പെട്രോളിന് ദിവസവും വിലക്കുട്ടി കൊണ്ടിരിക്കുകയാണ് അതിനെതിരെ പ്രതികരിക്കാൻ നോക്\n",
            "Original Data:===\n",
            " @Akhil Dev സോറി ഇപ്പഴാ മനസിലായത് \n",
            "Cleaned Data:===\n",
            " akhil dev സോറി ഇപ്പഴാ മനസിലായത്\n",
            "Original Data:===\n",
            " നിങ്ങൾക് നല്ലത് വരും..... \n",
            "Cleaned Data:===\n",
            " നിങ്ങൾക് നല്ലത് വരും\n",
            "Original Data:===\n",
            " ഇതിന്റയൊക്കെ റേറ്റിംഗ് കൊറക്കാൻ vellaa വഴിയുണ്ടോ nTick tock ne കിട്ടിയതുപോലെ \n",
            "Cleaned Data:===\n",
            " ഇതിന്റയൊക്കെ റേറ്റിംഗ് കൊറക്കാൻ vellaa വഴിയുണ്ടോ ntick tock ne കിട്ടിയതുപോലെ\n"
          ],
          "name": "stdout"
        }
      ]
    },
    {
      "cell_type": "code",
      "metadata": {
        "colab": {
          "base_uri": "https://localhost:8080/"
        },
        "id": "fHeDYWEL5j0D",
        "outputId": "35a51d44-d90a-409f-8e1f-f37c115d73a4"
      },
      "source": [
        "valid_data['cleaned'].shape"
      ],
      "execution_count": null,
      "outputs": [
        {
          "output_type": "execute_result",
          "data": {
            "text/plain": [
              "(2843,)"
            ]
          },
          "metadata": {
            "tags": []
          },
          "execution_count": 97
        }
      ]
    },
    {
      "cell_type": "markdown",
      "metadata": {
        "id": "Gk37oS215j0E"
      },
      "source": [
        "## Data Statistics"
      ]
    },
    {
      "cell_type": "code",
      "metadata": {
        "id": "gwd-WgU-5j0E"
      },
      "source": [
        "def char_length(row):\n",
        "    return len(row.split())"
      ],
      "execution_count": null,
      "outputs": []
    },
    {
      "cell_type": "code",
      "metadata": {
        "id": "ixkIr27W5j0F"
      },
      "source": [
        "lables = ['Hope_speech', 'Non_hope_speech','not-malayalam']\n",
        "\n",
        "# Count number of unique words in each set\n",
        "def dataset_statistics(dataset):\n",
        "  for l in lables:\n",
        "    word_list = [word.strip() for t in list(dataset[dataset[l]==1.0].cleaned) for word in t.strip().split()]\n",
        "    print(f\"\\nClass Name:--> {l} \") \n",
        "    print(\"Number of Words:{}\".format(len(word_list))) \n",
        "    print(\"Number of Unique Words:{}\".format(len(np.unique(word_list)))) \n",
        "    print(\"Maximum post length: {}\".format(max(dataset[dataset[l]==1.0].cleaned.apply(char_length))))\n",
        "    print(\"Average Words in texts: {}\".format(np.mean(dataset[dataset[l]==1.0].cleaned.apply(char_length))))\n",
        "    "
      ],
      "execution_count": null,
      "outputs": []
    },
    {
      "cell_type": "code",
      "metadata": {
        "id": "rhz4Lfzt8caP"
      },
      "source": [
        "train_data"
      ],
      "execution_count": null,
      "outputs": []
    },
    {
      "cell_type": "code",
      "metadata": {
        "colab": {
          "base_uri": "https://localhost:8080/"
        },
        "id": "K-cSSNa55j0F",
        "outputId": "e8f547e5-3dc7-4444-bac5-9ce5cb63afc8"
      },
      "source": [
        "dataset_statistics(train_data)"
      ],
      "execution_count": null,
      "outputs": [
        {
          "output_type": "stream",
          "text": [
            "\n",
            "Class Name:--> Hope_speech \n",
            "Number of Words:25144\n",
            "Number of Unique Words:11827\n",
            "Maximum post length: 96\n",
            "Average Words in texts: 15.074340527577938\n",
            "\n",
            "Class Name:--> Non_hope_speech \n",
            "Number of Words:60313\n",
            "Number of Unique Words:24607\n",
            "Maximum post length: 95\n",
            "Average Words in texts: 9.72006446414182\n",
            "\n",
            "Class Name:--> not-malayalam \n",
            "Number of Words:2644\n",
            "Number of Unique Words:1040\n",
            "Maximum post length: 35\n",
            "Average Words in texts: 3.8263386396526773\n"
          ],
          "name": "stdout"
        }
      ]
    },
    {
      "cell_type": "markdown",
      "metadata": {
        "id": "HlbmP2vr5j0G"
      },
      "source": [
        "## Tweets length per class"
      ]
    },
    {
      "cell_type": "code",
      "metadata": {
        "id": "aO9bpAaY5j0G"
      },
      "source": [
        "def comments_length_per_class(dataset,set_name):\n",
        "  label = dataset[['Hope_speech', 'Non_hope_speech','not-malayalam']]\n",
        "  label = label.values\n",
        "  comment = dataset['cleaned']\n",
        "  comment = comment.values\n",
        "  y = np.zeros(label.shape)\n",
        "  for ix in range(comment.shape[0]):\n",
        "      l = len(comment[ix].split())\n",
        "      if label[ix][0] :\n",
        "          y[ix][0] = l\n",
        "      if label[ix][1] :\n",
        "          y[ix][1] = l\n",
        "  #color = ['red','green','blue','yellow','chartreuse'] \n",
        "  labelsplt = ['Hope_speech', 'Non_hope_speech','not-malayalam']\n",
        "  color = ['green','red','yellow']    \n",
        "  bins = [1,20,40,60,80]   \n",
        "  plt.figure(figsize=(5,3)) \n",
        "  #plt.title ('Tweets Length Distribution Per Class')\n",
        "  plt.hist(y,bins = bins,label = labelsplt,color = color)\n",
        "  plt.axis([0, 80, 0, 17000])\n",
        "  plt.xlabel('Length of texts')\n",
        "  plt.ylabel('Number of texts') \n",
        "  plt.legend()\n",
        "  #plt.savefig(path+'real-fake_no_title.png',dpi = 600,bbox_inches ='tight')\n",
        "  #plt.grid(True)\n",
        "  plt.show()"
      ],
      "execution_count": null,
      "outputs": []
    },
    {
      "cell_type": "code",
      "metadata": {
        "colab": {
          "base_uri": "https://localhost:8080/",
          "height": 225
        },
        "id": "MjWnQYa_5j0H",
        "outputId": "5c00e770-0312-4e95-accd-5cce790a10c1"
      },
      "source": [
        "comments_length_per_class(OH_X_train,'Training')"
      ],
      "execution_count": null,
      "outputs": [
        {
          "output_type": "display_data",
          "data": {
            "image/png": "[encoded data removed]",
            "text/plain": [
              "<Figure size 360x216 with 1 Axes>"
            ]
          },
          "metadata": {
            "tags": [],
            "needs_background": "light"
          }
        }
      ]
    },
    {
      "cell_type": "markdown",
      "metadata": {
        "id": "eDhJ_ulc5j0H"
      },
      "source": [
        "##Ktrain -BERT\n",
        "\n",
        "1. [Text Classification Using Transformers](https://nbviewer.jupyter.org/github/amaiya/ktrain/blob/master/tutorials/tutorial-A3-hugging_face_transformers.ipynb)\n",
        "\n",
        "2. [Related Article](https://towardsdatascience.com/text-classification-with-hugging-face-transformers-in-tensorflow-2-without-tears-ee50e4f3e7ed)\n",
        "\n",
        "3. [Ktrain](https://github.com/amaiya/ktrain)"
      ]
    },
    {
      "cell_type": "code",
      "metadata": {
        "id": "SavvuaBm5j0I"
      },
      "source": [
        "pip install ktrain"
      ],
      "execution_count": null,
      "outputs": []
    },
    {
      "cell_type": "code",
      "metadata": {
        "id": "titrxsEE5j0I"
      },
      "source": [
        "%reload_ext autoreload\n",
        "%autoreload 2\n",
        "%matplotlib inline\n",
        "import os\n",
        "os.environ[\"CUDA_DEVICE_ORDER\"] = \"PCI_BUS_ID\"\n",
        "os.environ[\"CUDA_VISIBLE_DEVICES\"] = \"0\""
      ],
      "execution_count": null,
      "outputs": []
    },
    {
      "cell_type": "code",
      "metadata": {
        "id": "gSD43daT5j0I"
      },
      "source": [
        "import ktrain\n",
        "from ktrain import text"
      ],
      "execution_count": null,
      "outputs": []
    },
    {
      "cell_type": "code",
      "metadata": {
        "colab": {
          "base_uri": "https://localhost:8080/"
        },
        "id": "8Zyob8h45j0J",
        "outputId": "8f658ab2-f45b-4175-f542-ab6ddeec1a0d"
      },
      "source": [
        "train_data['label'].value_counts()"
      ],
      "execution_count": null,
      "outputs": [
        {
          "output_type": "execute_result",
          "data": {
            "text/plain": [
              "Non_hope_speech    6205\n",
              "Hope_speech        1668\n",
              "not-malayalam       691\n",
              "Name: label, dtype: int64"
            ]
          },
          "metadata": {
            "tags": []
          },
          "execution_count": 45
        }
      ]
    },
    {
      "cell_type": "code",
      "metadata": {
        "colab": {
          "base_uri": "https://localhost:8080/"
        },
        "id": "SskDgTc75j0J",
        "outputId": "e75d4db3-a7ab-4476-b6bc-134d89db47f1"
      },
      "source": [
        "valid_data['label'].value_counts()"
      ],
      "execution_count": null,
      "outputs": [
        {
          "output_type": "execute_result",
          "data": {
            "text/plain": [
              "Non_hope_speech    784\n",
              "Hope_speech        190\n",
              "not-malayalam       96\n",
              "Name: label, dtype: int64"
            ]
          },
          "metadata": {
            "tags": []
          },
          "execution_count": 16
        }
      ]
    },
    {
      "cell_type": "code",
      "metadata": {
        "id": "KMhmXN0u5j0K"
      },
      "source": [
        "categories = ['Hope_speech','Non_hope_speech','not-malayalam']"
      ],
      "execution_count": null,
      "outputs": []
    },
    {
      "cell_type": "code",
      "metadata": {
        "id": "0YcKPdU05j0K"
      },
      "source": [
        "X_train = train_data['text'].tolist()\n",
        "y_train = train_data['label'].tolist()\n",
        "\n",
        "X_valid = valid_data['text'].tolist()\n",
        "y_valid = valid_data['label'].tolist()\n",
        "\n",
        "X_test = test_data['text'].tolist()\n",
        "#y_test = test_data['label'].tolist()"
      ],
      "execution_count": null,
      "outputs": []
    },
    {
      "cell_type": "code",
      "metadata": {
        "id": "V4QSMWzg5j0M"
      },
      "source": [
        "# 'bert-base-uncased'\n",
        "# 'bert-base-multilingual-cased'\n",
        "# 'distilbert-base-uncased'\n",
        "# 'ai4bharat/indic-bert'\n",
        "# 'albert-base-v2'\n",
        "# 'xlm-roberta-base'\n",
        "# 'xlnet-base-cased'\n"
      ],
      "execution_count": null,
      "outputs": []
    },
    {
      "cell_type": "code",
      "metadata": {
        "colab": {
          "base_uri": "https://localhost:8080/",
          "height": 67,
          "referenced_widgets": [
            "b6887b9669374168895f6919ead02823",
            "d241e8c9c74a4398b9031580f7ed3ee9",
            "c80da948098043e5b21fd385bcc62478",
            "c861bd2cf4c540ccaeb4fb5cc0aaa95f",
            "6beb3b72de7243e794366fcc841f34b0",
            "8779c3fd5bf9482eb04ecf009e09cbef",
            "3aecb1ee62af456c9a9c686be1ec5186",
            "7b21ea9b7f3e43fd9ebd2bd29f30a264"
          ]
        },
        "id": "vaFGPCb45j0M",
        "outputId": "a014af14-7ccb-4330-ec64-b7fbf2608edc"
      },
      "source": [
        "model_name = 'xlnet-base-cased'\n",
        "trans = text.Transformer(model_name,maxlen=80,class_names=categories)"
      ],
      "execution_count": null,
      "outputs": [
        {
          "output_type": "display_data",
          "data": {
            "application/vnd.jupyter.widget-view+json": {
              "model_id": "b6887b9669374168895f6919ead02823",
              "version_minor": 0,
              "version_major": 2
            },
            "text/plain": [
              "HBox(children=(FloatProgress(value=0.0, description='Downloading', max=760.0, style=ProgressStyle(description_…"
            ]
          },
          "metadata": {
            "tags": []
          }
        },
        {
          "output_type": "stream",
          "text": [
            "\n"
          ],
          "name": "stdout"
        }
      ]
    },
    {
      "cell_type": "code",
      "metadata": {
        "colab": {
          "base_uri": "https://localhost:8080/",
          "height": 304,
          "referenced_widgets": [
            "5c9708b9c029490a9e9d4a95b5ccc71b",
            "eec8c99c50e14ef2a961905ef400f7f1",
            "76f7439718aa4187beeab879294926f9",
            "c9b888aeba5b4165a0c521d736f22ba4",
            "76365d2e487842f4b2d36aa19ee2b698",
            "d9ced7415a7f47808f496edaf3619000",
            "bda3c8c840cc4224837c7641dc0985ce",
            "954ec06c763f4efcbe6f32194ffdfb2f"
          ]
        },
        "id": "5RF8qowF5j0N",
        "outputId": "3b71fbe1-3109-491a-ad2d-291cc6464dc3"
      },
      "source": [
        "train = trans.preprocess_train(X_train,y_train)\n",
        "valid = trans.preprocess_test(X_valid,y_valid)\n",
        "#test = trans.preprocess_test(X_test,y_test)\n"
      ],
      "execution_count": null,
      "outputs": [
        {
          "output_type": "stream",
          "text": [
            "preprocessing train...\n",
            "language: ml\n",
            "train sequence lengths:\n",
            "\tmean : 10\n",
            "\t95percentile : 31\n",
            "\t99percentile : 54\n"
          ],
          "name": "stdout"
        },
        {
          "output_type": "display_data",
          "data": {
            "application/vnd.jupyter.widget-view+json": {
              "model_id": "5c9708b9c029490a9e9d4a95b5ccc71b",
              "version_minor": 0,
              "version_major": 2
            },
            "text/plain": [
              "HBox(children=(FloatProgress(value=0.0, description='Downloading', max=798011.0, style=ProgressStyle(descripti…"
            ]
          },
          "metadata": {
            "tags": []
          }
        },
        {
          "output_type": "stream",
          "text": [
            "\n"
          ],
          "name": "stdout"
        },
        {
          "output_type": "display_data",
          "data": {
            "text/html": [
              ""
            ],
            "text/plain": [
              "<IPython.core.display.HTML object>"
            ]
          },
          "metadata": {
            "tags": []
          }
        },
        {
          "output_type": "stream",
          "text": [
            "Is Multi-Label? False\n",
            "preprocessing test...\n",
            "language: ml\n",
            "test sequence lengths:\n",
            "\tmean : 10\n",
            "\t95percentile : 30\n",
            "\t99percentile : 51\n"
          ],
          "name": "stdout"
        },
        {
          "output_type": "display_data",
          "data": {
            "text/html": [
              ""
            ],
            "text/plain": [
              "<IPython.core.display.HTML object>"
            ]
          },
          "metadata": {
            "tags": []
          }
        }
      ]
    },
    {
      "cell_type": "code",
      "metadata": {
        "colab": {
          "base_uri": "https://localhost:8080/",
          "height": 67,
          "referenced_widgets": [
            "744f4e326e4c4807b022d7970580a404",
            "be6e5a66dcc649ab9cc7f33c52b88fa8",
            "12a331252dd54afd8fb3d1886223b336",
            "47a116ee30774491bf652cc7c23211c6",
            "7100cd9fe6eb4d5990f2f443d1a00267",
            "03ad40104b0b40288b3820670a9bbe9c",
            "335b416a4a2f43778960cdbd6ab87b36",
            "29961f623c0c4b7aa02f1f509e25d9be"
          ]
        },
        "id": "VzL-41wy5j0N",
        "outputId": "5f6bbdd1-71be-4c09-a4a8-061f363f0517"
      },
      "source": [
        "model = trans.get_classifier()"
      ],
      "execution_count": null,
      "outputs": [
        {
          "output_type": "display_data",
          "data": {
            "application/vnd.jupyter.widget-view+json": {
              "model_id": "744f4e326e4c4807b022d7970580a404",
              "version_minor": 0,
              "version_major": 2
            },
            "text/plain": [
              "HBox(children=(FloatProgress(value=0.0, description='Downloading', max=565485600.0, style=ProgressStyle(descri…"
            ]
          },
          "metadata": {
            "tags": []
          }
        },
        {
          "output_type": "stream",
          "text": [
            "\n"
          ],
          "name": "stdout"
        }
      ]
    },
    {
      "cell_type": "code",
      "metadata": {
        "id": "0JcHqHUy5j0O"
      },
      "source": [
        "learner = ktrain.get_learner(model, train_data=train,val_data=valid, batch_size=12)"
      ],
      "execution_count": null,
      "outputs": []
    },
    {
      "cell_type": "code",
      "metadata": {
        "colab": {
          "base_uri": "https://localhost:8080/"
        },
        "id": "iNrexAhH5j0O",
        "outputId": "9975c8ca-7f89-4b02-c450-56da7d666cad"
      },
      "source": [
        "learner.lr_find(show_plot = True,max_epochs=10)"
      ],
      "execution_count": null,
      "outputs": [
        {
          "output_type": "stream",
          "text": [
            "simulating training for different learning rates... this may take a few moments...\n"
          ],
          "name": "stdout"
        }
      ]
    },
    {
      "cell_type": "code",
      "metadata": {
        "colab": {
          "base_uri": "https://localhost:8080/"
        },
        "id": "1vG8uJlSA1sK",
        "outputId": "33be0060-97fb-4bef-b21b-877817b1241d"
      },
      "source": [
        "from sklearn.utils import class_weight\n",
        "class_weights = class_weight.compute_class_weight('balanced'\n",
        "                                               ,np.unique(y_train)\n",
        "                                               ,y_train)\n",
        "\n",
        "weight = {i : class_weights[i] for i in range(3)}\n",
        "weight"
      ],
      "execution_count": null,
      "outputs": [
        {
          "output_type": "execute_result",
          "data": {
            "text/plain": [
              "{0: 1.7114308553157473, 1: 0.4600590921300027, 2: 4.131210805595755}"
            ]
          },
          "metadata": {
            "tags": []
          },
          "execution_count": 88
        }
      ]
    },
    {
      "cell_type": "code",
      "metadata": {
        "colab": {
          "base_uri": "https://localhost:8080/"
        },
        "id": "qpXzOL325j0P",
        "outputId": "2d6abc77-0370-43c2-bac2-89c3fca7aab7"
      },
      "source": [
        "learner.fit_onecycle(2e-5,4)  # 2e-5"
      ],
      "execution_count": null,
      "outputs": [
        {
          "output_type": "stream",
          "text": [
            "\n",
            "\n",
            "begin training using onecycle policy with max lr of 2e-05...\n",
            "Epoch 1/4\n",
            "714/714 [==============================] - 158s 187ms/step - loss: 0.7005 - accuracy: 0.7265 - val_loss: 0.5173 - val_accuracy: 0.7981\n",
            "Epoch 2/4\n",
            "714/714 [==============================] - 133s 183ms/step - loss: 0.5213 - accuracy: 0.7803 - val_loss: 0.4627 - val_accuracy: 0.8140\n",
            "Epoch 3/4\n",
            "714/714 [==============================] - 132s 182ms/step - loss: 0.4574 - accuracy: 0.7991 - val_loss: 0.4892 - val_accuracy: 0.8056\n",
            "Epoch 4/4\n",
            "714/714 [==============================] - 133s 183ms/step - loss: 0.3801 - accuracy: 0.8353 - val_loss: 0.5028 - val_accuracy: 0.8075\n"
          ],
          "name": "stdout"
        },
        {
          "output_type": "execute_result",
          "data": {
            "text/plain": [
              "<tensorflow.python.keras.callbacks.History at 0x7f28665a8518>"
            ]
          },
          "metadata": {
            "tags": []
          },
          "execution_count": 22
        }
      ]
    },
    {
      "cell_type": "code",
      "metadata": {
        "colab": {
          "base_uri": "https://localhost:8080/"
        },
        "id": "9D4TZNWu5j0P",
        "outputId": "f8dea868-1819-43ad-9ac3-dae7a4f702bc"
      },
      "source": [
        "learner.validate(class_names=categories)"
      ],
      "execution_count": null,
      "outputs": [
        {
          "output_type": "stream",
          "text": [
            "                 precision    recall  f1-score   support\n",
            "\n",
            "    Hope_speech       0.56      0.39      0.46       190\n",
            "Non_hope_speech       0.84      0.92      0.88       784\n",
            "  not-malayalam       0.84      0.72      0.78        96\n",
            "\n",
            "       accuracy                           0.81      1070\n",
            "      macro avg       0.75      0.68      0.70      1070\n",
            "   weighted avg       0.79      0.81      0.80      1070\n",
            "\n"
          ],
          "name": "stdout"
        },
        {
          "output_type": "execute_result",
          "data": {
            "text/plain": [
              "array([[ 74, 114,   2],\n",
              "       [ 52, 721,  11],\n",
              "       [  6,  21,  69]])"
            ]
          },
          "metadata": {
            "tags": []
          },
          "execution_count": 23
        }
      ]
    },
    {
      "cell_type": "code",
      "metadata": {
        "id": "shRnhvhU5j0Q"
      },
      "source": [
        "predictor = ktrain.get_predictor(learner.model, preproc=trans)"
      ],
      "execution_count": null,
      "outputs": []
    },
    {
      "cell_type": "code",
      "metadata": {
        "id": "YnQmts_15j0R"
      },
      "source": [
        "# Save and load the model\n",
        "predictor.save(folder_path+'Transformers_Models'+'/ml_xlnet_predictor')\n"
      ],
      "execution_count": null,
      "outputs": []
    },
    {
      "cell_type": "code",
      "metadata": {
        "id": "pvuOffQzXvLt"
      },
      "source": [
        "predictor = ktrain.load_predictor(folder_path+'Transformers_Models'+'/ml_xlm-r_predictor')"
      ],
      "execution_count": null,
      "outputs": []
    },
    {
      "cell_type": "code",
      "metadata": {
        "id": "LpZwyzKl5j0S"
      },
      "source": [
        "y_pred = predictor.predict(X_test)\n",
        "y_pred"
      ],
      "execution_count": null,
      "outputs": []
    },
    {
      "cell_type": "code",
      "metadata": {
        "id": "DlweX0yG5j0T"
      },
      "source": [
        "test_data['id'] = test_data.index+1"
      ],
      "execution_count": null,
      "outputs": []
    },
    {
      "cell_type": "code",
      "metadata": {
        "id": "g6fyhMih5j0T"
      },
      "source": [
        "run = pd.DataFrame(test_data['id'])\n",
        "run['text'] = test_data['text']\n",
        "run['label'] = y_pred\n",
        "run"
      ],
      "execution_count": null,
      "outputs": []
    },
    {
      "cell_type": "code",
      "metadata": {
        "id": "f2yHOGiu5j0T"
      },
      "source": [
        "run.to_csv(folder_path +'malayalam_xlnet.tsv',sep = '\\t',index = False)"
      ],
      "execution_count": null,
      "outputs": []
    },
    {
      "cell_type": "markdown",
      "metadata": {
        "id": "JLH5SfbL5j0U"
      },
      "source": [
        "##Machine Learning"
      ]
    },
    {
      "cell_type": "code",
      "metadata": {
        "id": "4z5cbE275j0U"
      },
      "source": [
        "def print_metrices(pred,true):\n",
        "    print(confusion_matrix(true,pred))\n",
        "    print(classification_report(true,pred,))\n",
        "    print(\"Accuracy : \",accuracy_score(pred,true))\n",
        "    print(\"Precison : \",precision_score(pred,true, average = 'weighted'))\n",
        "    print(\"Recall : \",recall_score(pred,true,  average = 'weighted'))\n",
        "    print(\"F1 : \",f1_score(pred,true,  average = 'weighted'))"
      ],
      "execution_count": null,
      "outputs": []
    },
    {
      "cell_type": "code",
      "metadata": {
        "colab": {
          "base_uri": "https://localhost:8080/"
        },
        "id": "oSDfrpdp5j0X",
        "outputId": "55d1c669-0545-4399-c0c5-2a771a217dc3"
      },
      "source": [
        "## TF-IDF\n",
        "from sklearn.feature_extraction.text import TfidfVectorizer\n",
        "from sklearn import metrics\n",
        "#use_idf=True,tokenizer=lambda x: x.split()\n",
        "vectorizer = TfidfVectorizer(tokenizer=lambda x: x.split())\n",
        "vectorised_posts = vectorizer.fit_transform(train_data['text'])\n",
        "vectorized_train_posts = vectorizer.transform(train_data['text'])\n",
        "vectorized_valid_posts = vectorizer.transform(valid_data['text'])\n",
        "vectorized_test_posts = vectorizer.transform(test_data['text'])\n",
        "\n",
        "print(\"Feature Size: \", vectorized_train_posts.shape[1])\n",
        "#vectorizer.vocabulary_"
      ],
      "execution_count": null,
      "outputs": [
        {
          "output_type": "stream",
          "text": [
            "Feature Size:  35631\n"
          ],
          "name": "stdout"
        }
      ]
    },
    {
      "cell_type": "code",
      "metadata": {
        "colab": {
          "base_uri": "https://localhost:8080/"
        },
        "id": "lg0HJXw65j0Y",
        "outputId": "b10c7306-5f10-4f3c-94cf-ac281a9ce2ca"
      },
      "source": [
        "vectorized_valid_posts.shape"
      ],
      "execution_count": null,
      "outputs": [
        {
          "output_type": "execute_result",
          "data": {
            "text/plain": [
              "(2843, 20798)"
            ]
          },
          "metadata": {
            "tags": []
          },
          "execution_count": 86
        }
      ]
    },
    {
      "cell_type": "code",
      "metadata": {
        "colab": {
          "base_uri": "https://localhost:8080/"
        },
        "id": "ybY3X2s65j0Y",
        "outputId": "be38ea5a-f81a-464d-92df-42aaecad703d"
      },
      "source": [
        "valid_data['label'].value_counts()"
      ],
      "execution_count": null,
      "outputs": [
        {
          "output_type": "execute_result",
          "data": {
            "text/plain": [
              "Non_hope_speech    2569\n",
              "Hope_speech         272\n",
              "not-English           2\n",
              "Name: label, dtype: int64"
            ]
          },
          "metadata": {
            "tags": []
          },
          "execution_count": 56
        }
      ]
    },
    {
      "cell_type": "code",
      "metadata": {
        "id": "EJVfyq9o5j0Z"
      },
      "source": [
        "labels = ['Non_hope_speech','Hope_speech', 'not-malayalam']\n",
        "def actual_label(row):\n",
        "    return labels[row]"
      ],
      "execution_count": null,
      "outputs": []
    },
    {
      "cell_type": "markdown",
      "metadata": {
        "id": "ilK0ABMUx1y4"
      },
      "source": [
        "### Logistic Regression"
      ]
    },
    {
      "cell_type": "code",
      "metadata": {
        "colab": {
          "base_uri": "https://localhost:8080/"
        },
        "id": "yAah06GQ5j0Z",
        "outputId": "17c17b11-9fe0-4c6f-ef1b-25b7f74fa893"
      },
      "source": [
        "# After Tunning\n",
        "# Optimum C = 100 \n",
        "lr = LogisticRegression(class_weight='balanced',C =1)\n",
        "lr.fit(vectorized_train_posts,train_data['enc_label'])\n",
        "y_pred = lr.predict(vectorized_valid_posts)\n",
        "print_metrices(y_pred,valid_data['enc_label'])"
      ],
      "execution_count": null,
      "outputs": [
        {
          "output_type": "stream",
          "text": [
            "[[647  98  39]\n",
            " [ 58 118  14]\n",
            " [ 20   3  73]]\n",
            "              precision    recall  f1-score   support\n",
            "\n",
            "           0       0.89      0.83      0.86       784\n",
            "           1       0.54      0.62      0.58       190\n",
            "           2       0.58      0.76      0.66        96\n",
            "\n",
            "    accuracy                           0.78      1070\n",
            "   macro avg       0.67      0.74      0.70      1070\n",
            "weighted avg       0.80      0.78      0.79      1070\n",
            "\n",
            "Accuracy :  0.7831775700934579\n",
            "Precison :  0.7758252105564312\n",
            "Recall :  0.7831775700934579\n",
            "F1 :  0.7765745118472753\n"
          ],
          "name": "stdout"
        }
      ]
    },
    {
      "cell_type": "code",
      "metadata": {
        "id": "GNYaiBe45j0Z"
      },
      "source": [
        "test_pred = lr.predict(vectorized_test_posts).tolist()\n",
        "test_data['id'] = test_data.index + 1"
      ],
      "execution_count": null,
      "outputs": []
    },
    {
      "cell_type": "code",
      "metadata": {
        "colab": {
          "base_uri": "https://localhost:8080/",
          "height": 407
        },
        "id": "IsXFr3JS5j0a",
        "outputId": "3871bd2c-9cc8-4f1c-a2e8-068b9d7a9352"
      },
      "source": [
        "run = pd.DataFrame(test_data['id'])\n",
        "run['text'] = test_data['text']\n",
        "run['label'] = test_pred\n",
        "run['label'] = run['label'].apply(actual_label)\n",
        "run "
      ],
      "execution_count": null,
      "outputs": [
        {
          "output_type": "execute_result",
          "data": {
            "text/html": [
              "<div>\n",
              "<style scoped>\n",
              "    .dataframe tbody tr th:only-of-type {\n",
              "        vertical-align: middle;\n",
              "    }\n",
              "\n",
              "    .dataframe tbody tr th {\n",
              "        vertical-align: top;\n",
              "    }\n",
              "\n",
              "    .dataframe thead th {\n",
              "        text-align: right;\n",
              "    }\n",
              "</style>\n",
              "<table border=\"1\" class=\"dataframe\">\n",
              "  <thead>\n",
              "    <tr style=\"text-align: right;\">\n",
              "      <th></th>\n",
              "      <th>id</th>\n",
              "      <th>text</th>\n",
              "      <th>label</th>\n",
              "    </tr>\n",
              "  </thead>\n",
              "  <tbody>\n",
              "    <tr>\n",
              "      <th>0</th>\n",
              "      <td>1</td>\n",
              "      <td>അതെ അണപൊട്ടി ഒഴുകുകയാണ്</td>\n",
              "      <td>Non_hope_speech</td>\n",
              "    </tr>\n",
              "    <tr>\n",
              "      <th>1</th>\n",
              "      <td>2</td>\n",
              "      <td>കെവിൻ avde pettupoyi🤣🤣🤣</td>\n",
              "      <td>Non_hope_speech</td>\n",
              "    </tr>\n",
              "    <tr>\n",
              "      <th>2</th>\n",
              "      <td>3</td>\n",
              "      <td>@my voice ullup illa daaa tayoli ath kond alle...</td>\n",
              "      <td>Non_hope_speech</td>\n",
              "    </tr>\n",
              "    <tr>\n",
              "      <th>3</th>\n",
              "      <td>4</td>\n",
              "      <td>@Albin Baiju</td>\n",
              "      <td>Non_hope_speech</td>\n",
              "    </tr>\n",
              "    <tr>\n",
              "      <th>4</th>\n",
              "      <td>5</td>\n",
              "      <td>I respect you..</td>\n",
              "      <td>not-malayalam</td>\n",
              "    </tr>\n",
              "    <tr>\n",
              "      <th>...</th>\n",
              "      <td>...</td>\n",
              "      <td>...</td>\n",
              "      <td>...</td>\n",
              "    </tr>\n",
              "    <tr>\n",
              "      <th>1066</th>\n",
              "      <td>1067</td>\n",
              "      <td>ചേട്ടാ അതിന് ഇവിടെ ആരാണ് ഇന്ത്യൻ മൊബൈൽ റിവ്യൂ ...</td>\n",
              "      <td>Non_hope_speech</td>\n",
              "    </tr>\n",
              "    <tr>\n",
              "      <th>1067</th>\n",
              "      <td>1068</td>\n",
              "      <td>@surya ishaan</td>\n",
              "      <td>not-malayalam</td>\n",
              "    </tr>\n",
              "    <tr>\n",
              "      <th>1068</th>\n",
              "      <td>1069</td>\n",
              "      <td>ഏതാണ് ആ മൂലയിൽ ഇരിക്കുന്ന അപ്പൂപ്പൻ</td>\n",
              "      <td>Non_hope_speech</td>\n",
              "    </tr>\n",
              "    <tr>\n",
              "      <th>1069</th>\n",
              "      <td>1070</td>\n",
              "      <td>ഏതാ ആ ചൊമന്ന ടി ഷർട്ടിന് മേൽ കോട്ടിട്ട വവ്വാൽ...</td>\n",
              "      <td>Non_hope_speech</td>\n",
              "    </tr>\n",
              "    <tr>\n",
              "      <th>1070</th>\n",
              "      <td>1071</td>\n",
              "      <td>Poorru  angodu chellu</td>\n",
              "      <td>Non_hope_speech</td>\n",
              "    </tr>\n",
              "  </tbody>\n",
              "</table>\n",
              "<p>1071 rows × 3 columns</p>\n",
              "</div>"
            ],
            "text/plain": [
              "        id                                               text            label\n",
              "0        1                            അതെ അണപൊട്ടി ഒഴുകുകയാണ്  Non_hope_speech\n",
              "1        2                            കെവിൻ avde pettupoyi🤣🤣🤣  Non_hope_speech\n",
              "2        3  @my voice ullup illa daaa tayoli ath kond alle...  Non_hope_speech\n",
              "3        4                                       @Albin Baiju  Non_hope_speech\n",
              "4        5                                    I respect you..    not-malayalam\n",
              "...    ...                                                ...              ...\n",
              "1066  1067  ചേട്ടാ അതിന് ഇവിടെ ആരാണ് ഇന്ത്യൻ മൊബൈൽ റിവ്യൂ ...  Non_hope_speech\n",
              "1067  1068                                      @surya ishaan    not-malayalam\n",
              "1068  1069                ഏതാണ് ആ മൂലയിൽ ഇരിക്കുന്ന അപ്പൂപ്പൻ  Non_hope_speech\n",
              "1069  1070   ഏതാ ആ ചൊമന്ന ടി ഷർട്ടിന് മേൽ കോട്ടിട്ട വവ്വാൽ...  Non_hope_speech\n",
              "1070  1071                              Poorru  angodu chellu  Non_hope_speech\n",
              "\n",
              "[1071 rows x 3 columns]"
            ]
          },
          "metadata": {
            "tags": []
          },
          "execution_count": 135
        }
      ]
    },
    {
      "cell_type": "code",
      "metadata": {
        "id": "wctd2gvq5j0a"
      },
      "source": [
        "run.to_csv(folder_path +'malayalam_lr.tsv',sep = '\\t',index = False)"
      ],
      "execution_count": null,
      "outputs": []
    },
    {
      "cell_type": "markdown",
      "metadata": {
        "id": "iHhUORa_yFaZ"
      },
      "source": [
        "### SVM"
      ]
    },
    {
      "cell_type": "code",
      "metadata": {
        "colab": {
          "base_uri": "https://localhost:8080/"
        },
        "id": "YQvn8JMl5j0a",
        "outputId": "0f0d071c-e3b3-4b03-8120-2d3141706022"
      },
      "source": [
        "## SVM\n",
        "from sklearn.svm import SVC\n",
        "svc =  SVC(kernel='linear' ,random_state=1234,class_weight='balanced')\n",
        "svc.fit(vectorized_train_posts,train_data['enc_label'])\n",
        "y_pred = svc.predict(vectorized_valid_posts)\n",
        "print_metrices(y_pred,valid_data['enc_label'])"
      ],
      "execution_count": null,
      "outputs": [
        {
          "output_type": "stream",
          "text": [
            "[[649 103  32]\n",
            " [ 66 108  16]\n",
            " [ 24   4  68]]\n",
            "              precision    recall  f1-score   support\n",
            "\n",
            "           0       0.88      0.83      0.85       784\n",
            "           1       0.50      0.57      0.53       190\n",
            "           2       0.59      0.71      0.64        96\n",
            "\n",
            "    accuracy                           0.77      1070\n",
            "   macro avg       0.66      0.70      0.68      1070\n",
            "weighted avg       0.79      0.77      0.78      1070\n",
            "\n",
            "Accuracy :  0.7710280373831776\n",
            "Precison :  0.7627345023105159\n",
            "Recall :  0.7710280373831776\n",
            "F1 :  0.765332516376666\n"
          ],
          "name": "stdout"
        }
      ]
    },
    {
      "cell_type": "code",
      "metadata": {
        "id": "AafeB09b5j0b"
      },
      "source": [
        "test_pred = svc.predict(vectorized_test_posts).tolist()\n",
        "test_data['id'] = test_data.index + 1"
      ],
      "execution_count": null,
      "outputs": []
    },
    {
      "cell_type": "code",
      "metadata": {
        "colab": {
          "base_uri": "https://localhost:8080/",
          "height": 407
        },
        "id": "MAZAxlI55j0b",
        "outputId": "33190eb0-95e3-4835-ae16-e28d9fe6e348"
      },
      "source": [
        "run = pd.DataFrame(test_data['id'])\n",
        "run['text'] = test_data['text']\n",
        "run['label'] = test_pred\n",
        "run['label'] = run['label'].apply(actual_label)\n",
        "run "
      ],
      "execution_count": null,
      "outputs": [
        {
          "output_type": "execute_result",
          "data": {
            "text/html": [
              "<div>\n",
              "<style scoped>\n",
              "    .dataframe tbody tr th:only-of-type {\n",
              "        vertical-align: middle;\n",
              "    }\n",
              "\n",
              "    .dataframe tbody tr th {\n",
              "        vertical-align: top;\n",
              "    }\n",
              "\n",
              "    .dataframe thead th {\n",
              "        text-align: right;\n",
              "    }\n",
              "</style>\n",
              "<table border=\"1\" class=\"dataframe\">\n",
              "  <thead>\n",
              "    <tr style=\"text-align: right;\">\n",
              "      <th></th>\n",
              "      <th>id</th>\n",
              "      <th>text</th>\n",
              "      <th>label</th>\n",
              "    </tr>\n",
              "  </thead>\n",
              "  <tbody>\n",
              "    <tr>\n",
              "      <th>0</th>\n",
              "      <td>1</td>\n",
              "      <td>അതെ അണപൊട്ടി ഒഴുകുകയാണ്</td>\n",
              "      <td>Non_hope_speech</td>\n",
              "    </tr>\n",
              "    <tr>\n",
              "      <th>1</th>\n",
              "      <td>2</td>\n",
              "      <td>കെവിൻ avde pettupoyi🤣🤣🤣</td>\n",
              "      <td>Non_hope_speech</td>\n",
              "    </tr>\n",
              "    <tr>\n",
              "      <th>2</th>\n",
              "      <td>3</td>\n",
              "      <td>@my voice ullup illa daaa tayoli ath kond alle...</td>\n",
              "      <td>Non_hope_speech</td>\n",
              "    </tr>\n",
              "    <tr>\n",
              "      <th>3</th>\n",
              "      <td>4</td>\n",
              "      <td>@Albin Baiju</td>\n",
              "      <td>Non_hope_speech</td>\n",
              "    </tr>\n",
              "    <tr>\n",
              "      <th>4</th>\n",
              "      <td>5</td>\n",
              "      <td>I respect you..</td>\n",
              "      <td>not-malayalam</td>\n",
              "    </tr>\n",
              "    <tr>\n",
              "      <th>...</th>\n",
              "      <td>...</td>\n",
              "      <td>...</td>\n",
              "      <td>...</td>\n",
              "    </tr>\n",
              "    <tr>\n",
              "      <th>1066</th>\n",
              "      <td>1067</td>\n",
              "      <td>ചേട്ടാ അതിന് ഇവിടെ ആരാണ് ഇന്ത്യൻ മൊബൈൽ റിവ്യൂ ...</td>\n",
              "      <td>Non_hope_speech</td>\n",
              "    </tr>\n",
              "    <tr>\n",
              "      <th>1067</th>\n",
              "      <td>1068</td>\n",
              "      <td>@surya ishaan</td>\n",
              "      <td>not-malayalam</td>\n",
              "    </tr>\n",
              "    <tr>\n",
              "      <th>1068</th>\n",
              "      <td>1069</td>\n",
              "      <td>ഏതാണ് ആ മൂലയിൽ ഇരിക്കുന്ന അപ്പൂപ്പൻ</td>\n",
              "      <td>Non_hope_speech</td>\n",
              "    </tr>\n",
              "    <tr>\n",
              "      <th>1069</th>\n",
              "      <td>1070</td>\n",
              "      <td>ഏതാ ആ ചൊമന്ന ടി ഷർട്ടിന് മേൽ കോട്ടിട്ട വവ്വാൽ...</td>\n",
              "      <td>Non_hope_speech</td>\n",
              "    </tr>\n",
              "    <tr>\n",
              "      <th>1070</th>\n",
              "      <td>1071</td>\n",
              "      <td>Poorru  angodu chellu</td>\n",
              "      <td>Non_hope_speech</td>\n",
              "    </tr>\n",
              "  </tbody>\n",
              "</table>\n",
              "<p>1071 rows × 3 columns</p>\n",
              "</div>"
            ],
            "text/plain": [
              "        id                                               text            label\n",
              "0        1                            അതെ അണപൊട്ടി ഒഴുകുകയാണ്  Non_hope_speech\n",
              "1        2                            കെവിൻ avde pettupoyi🤣🤣🤣  Non_hope_speech\n",
              "2        3  @my voice ullup illa daaa tayoli ath kond alle...  Non_hope_speech\n",
              "3        4                                       @Albin Baiju  Non_hope_speech\n",
              "4        5                                    I respect you..    not-malayalam\n",
              "...    ...                                                ...              ...\n",
              "1066  1067  ചേട്ടാ അതിന് ഇവിടെ ആരാണ് ഇന്ത്യൻ മൊബൈൽ റിവ്യൂ ...  Non_hope_speech\n",
              "1067  1068                                      @surya ishaan    not-malayalam\n",
              "1068  1069                ഏതാണ് ആ മൂലയിൽ ഇരിക്കുന്ന അപ്പൂപ്പൻ  Non_hope_speech\n",
              "1069  1070   ഏതാ ആ ചൊമന്ന ടി ഷർട്ടിന് മേൽ കോട്ടിട്ട വവ്വാൽ...  Non_hope_speech\n",
              "1070  1071                              Poorru  angodu chellu  Non_hope_speech\n",
              "\n",
              "[1071 rows x 3 columns]"
            ]
          },
          "metadata": {
            "tags": []
          },
          "execution_count": 140
        }
      ]
    },
    {
      "cell_type": "code",
      "metadata": {
        "colab": {
          "base_uri": "https://localhost:8080/"
        },
        "id": "3kI_zTSA4LoN",
        "outputId": "770cf6ba-0b6e-4fd9-8df3-e94748b3c2be"
      },
      "source": [
        "run['label'].value_counts()"
      ],
      "execution_count": null,
      "outputs": [
        {
          "output_type": "execute_result",
          "data": {
            "text/plain": [
              "Non_hope_speech    732\n",
              "Hope_speech        225\n",
              "not-malayalam      114\n",
              "Name: label, dtype: int64"
            ]
          },
          "metadata": {
            "tags": []
          },
          "execution_count": 141
        }
      ]
    },
    {
      "cell_type": "code",
      "metadata": {
        "id": "XnNipbnG5j0b"
      },
      "source": [
        "run.to_csv(folder_path +'malayalam_svm.tsv',sep = '\\t',index = False)"
      ],
      "execution_count": null,
      "outputs": []
    },
    {
      "cell_type": "markdown",
      "metadata": {
        "id": "YMCJd1G3yH3V"
      },
      "source": [
        "### Ensemble Appraoch (Majority Voting)"
      ]
    },
    {
      "cell_type": "code",
      "metadata": {
        "colab": {
          "base_uri": "https://localhost:8080/"
        },
        "id": "hr9ugX5zyKvZ",
        "outputId": "19cf95e9-c982-45de-d2bb-a58ad4f91fb6"
      },
      "source": [
        "\n",
        "LogReg_clf = LogisticRegression(class_weight='balanced')\n",
        "DTree_clf = DecisionTreeClassifier(class_weight='balanced')\n",
        "rt_clf =   RandomForestClassifier(class_weight='balanced')\n",
        "SVC_clf = SVC(C = 5,class_weight='balanced')\n",
        "\n",
        "\n",
        "voting_clf = VotingClassifier(estimators=[('SVC', SVC_clf), ('DTree', DTree_clf), ('LogReg', LogReg_clf),('RF', rt_clf)], voting='hard')\n",
        "voting_clf.fit(vectorized_train_posts, train_data['enc_label'])\n",
        "preds = voting_clf.predict(vectorized_valid_posts)\n",
        "print_metrices(valid_data['enc_label'], preds)\n"
      ],
      "execution_count": null,
      "outputs": [
        {
          "output_type": "stream",
          "text": [
            "[[742 122  29]\n",
            " [ 21  60   3]\n",
            " [ 21   8  64]]\n",
            "              precision    recall  f1-score   support\n",
            "\n",
            "           0       0.95      0.83      0.88       893\n",
            "           1       0.32      0.71      0.44        84\n",
            "           2       0.67      0.69      0.68        93\n",
            "\n",
            "    accuracy                           0.81      1070\n",
            "   macro avg       0.64      0.74      0.67      1070\n",
            "weighted avg       0.87      0.81      0.83      1070\n",
            "\n",
            "Accuracy :  0.8093457943925234\n",
            "Precison :  0.7973924606190232\n",
            "Recall :  0.8093457943925234\n",
            "F1 :  0.7869156674129253\n"
          ],
          "name": "stdout"
        }
      ]
    },
    {
      "cell_type": "code",
      "metadata": {
        "id": "GuZRIIiU5EmO"
      },
      "source": [
        "test_pred = voting_clf.predict(vectorized_test_posts).tolist()\n",
        "test_data['id'] = test_data.index + 1"
      ],
      "execution_count": null,
      "outputs": []
    },
    {
      "cell_type": "code",
      "metadata": {
        "colab": {
          "base_uri": "https://localhost:8080/",
          "height": 407
        },
        "id": "8mz9I3gf5ZNq",
        "outputId": "b44c2d3e-887a-4df8-946d-843844cba0c3"
      },
      "source": [
        "run = pd.DataFrame(test_data['id'])\n",
        "run['text'] = test_data['text']\n",
        "run['label'] = test_pred\n",
        "run['label'] = run['label'].apply(actual_label)\n",
        "run "
      ],
      "execution_count": null,
      "outputs": [
        {
          "output_type": "execute_result",
          "data": {
            "text/html": [
              "<div>\n",
              "<style scoped>\n",
              "    .dataframe tbody tr th:only-of-type {\n",
              "        vertical-align: middle;\n",
              "    }\n",
              "\n",
              "    .dataframe tbody tr th {\n",
              "        vertical-align: top;\n",
              "    }\n",
              "\n",
              "    .dataframe thead th {\n",
              "        text-align: right;\n",
              "    }\n",
              "</style>\n",
              "<table border=\"1\" class=\"dataframe\">\n",
              "  <thead>\n",
              "    <tr style=\"text-align: right;\">\n",
              "      <th></th>\n",
              "      <th>id</th>\n",
              "      <th>text</th>\n",
              "      <th>label</th>\n",
              "    </tr>\n",
              "  </thead>\n",
              "  <tbody>\n",
              "    <tr>\n",
              "      <th>0</th>\n",
              "      <td>1</td>\n",
              "      <td>അതെ അണപൊട്ടി ഒഴുകുകയാണ്</td>\n",
              "      <td>Non_hope_speech</td>\n",
              "    </tr>\n",
              "    <tr>\n",
              "      <th>1</th>\n",
              "      <td>2</td>\n",
              "      <td>കെവിൻ avde pettupoyi🤣🤣🤣</td>\n",
              "      <td>Non_hope_speech</td>\n",
              "    </tr>\n",
              "    <tr>\n",
              "      <th>2</th>\n",
              "      <td>3</td>\n",
              "      <td>@my voice ullup illa daaa tayoli ath kond alle...</td>\n",
              "      <td>Non_hope_speech</td>\n",
              "    </tr>\n",
              "    <tr>\n",
              "      <th>3</th>\n",
              "      <td>4</td>\n",
              "      <td>@Albin Baiju</td>\n",
              "      <td>Non_hope_speech</td>\n",
              "    </tr>\n",
              "    <tr>\n",
              "      <th>4</th>\n",
              "      <td>5</td>\n",
              "      <td>I respect you..</td>\n",
              "      <td>not-malayalam</td>\n",
              "    </tr>\n",
              "    <tr>\n",
              "      <th>...</th>\n",
              "      <td>...</td>\n",
              "      <td>...</td>\n",
              "      <td>...</td>\n",
              "    </tr>\n",
              "    <tr>\n",
              "      <th>1066</th>\n",
              "      <td>1067</td>\n",
              "      <td>ചേട്ടാ അതിന് ഇവിടെ ആരാണ് ഇന്ത്യൻ മൊബൈൽ റിവ്യൂ ...</td>\n",
              "      <td>Non_hope_speech</td>\n",
              "    </tr>\n",
              "    <tr>\n",
              "      <th>1067</th>\n",
              "      <td>1068</td>\n",
              "      <td>@surya ishaan</td>\n",
              "      <td>not-malayalam</td>\n",
              "    </tr>\n",
              "    <tr>\n",
              "      <th>1068</th>\n",
              "      <td>1069</td>\n",
              "      <td>ഏതാണ് ആ മൂലയിൽ ഇരിക്കുന്ന അപ്പൂപ്പൻ</td>\n",
              "      <td>Non_hope_speech</td>\n",
              "    </tr>\n",
              "    <tr>\n",
              "      <th>1069</th>\n",
              "      <td>1070</td>\n",
              "      <td>ഏതാ ആ ചൊമന്ന ടി ഷർട്ടിന് മേൽ കോട്ടിട്ട വവ്വാൽ...</td>\n",
              "      <td>Non_hope_speech</td>\n",
              "    </tr>\n",
              "    <tr>\n",
              "      <th>1070</th>\n",
              "      <td>1071</td>\n",
              "      <td>Poorru  angodu chellu</td>\n",
              "      <td>Non_hope_speech</td>\n",
              "    </tr>\n",
              "  </tbody>\n",
              "</table>\n",
              "<p>1071 rows × 3 columns</p>\n",
              "</div>"
            ],
            "text/plain": [
              "        id                                               text            label\n",
              "0        1                            അതെ അണപൊട്ടി ഒഴുകുകയാണ്  Non_hope_speech\n",
              "1        2                            കെവിൻ avde pettupoyi🤣🤣🤣  Non_hope_speech\n",
              "2        3  @my voice ullup illa daaa tayoli ath kond alle...  Non_hope_speech\n",
              "3        4                                       @Albin Baiju  Non_hope_speech\n",
              "4        5                                    I respect you..    not-malayalam\n",
              "...    ...                                                ...              ...\n",
              "1066  1067  ചേട്ടാ അതിന് ഇവിടെ ആരാണ് ഇന്ത്യൻ മൊബൈൽ റിവ്യൂ ...  Non_hope_speech\n",
              "1067  1068                                      @surya ishaan    not-malayalam\n",
              "1068  1069                ഏതാണ് ആ മൂലയിൽ ഇരിക്കുന്ന അപ്പൂപ്പൻ  Non_hope_speech\n",
              "1069  1070   ഏതാ ആ ചൊമന്ന ടി ഷർട്ടിന് മേൽ കോട്ടിട്ട വവ്വാൽ...  Non_hope_speech\n",
              "1070  1071                              Poorru  angodu chellu  Non_hope_speech\n",
              "\n",
              "[1071 rows x 3 columns]"
            ]
          },
          "metadata": {
            "tags": []
          },
          "execution_count": 146
        }
      ]
    },
    {
      "cell_type": "code",
      "metadata": {
        "id": "a3KraTbp5eHB"
      },
      "source": [
        "run.to_csv(folder_path +'malayalam_voting.tsv',sep = '\\t',index = False)"
      ],
      "execution_count": null,
      "outputs": []
    },
    {
      "cell_type": "markdown",
      "metadata": {
        "id": "RazOzsyM5j0c"
      },
      "source": [
        "##Deep Learning"
      ]
    },
    {
      "cell_type": "code",
      "metadata": {
        "colab": {
          "base_uri": "https://localhost:8080/"
        },
        "id": "YMGWSL9M5j0c",
        "outputId": "3c3c7ca9-b299-4739-c63c-b88daaf58d90"
      },
      "source": [
        "import tensorflow as tf\n",
        "from tensorflow import keras\n",
        "from tensorflow.keras.preprocessing.sequence import pad_sequences\n",
        "from tensorflow.keras.preprocessing.text import Tokenizer\n",
        "from tensorflow.keras import regularizers\n",
        "from tensorflow.keras.layers import LSTM,GRU\n",
        "from tensorflow.keras.models import load_model\n",
        "print(\"Tensorflow Version:--\",tf.version.VERSION)\n",
        "print(\"Keras Version:---\",keras.__version__)"
      ],
      "execution_count": null,
      "outputs": [
        {
          "output_type": "stream",
          "text": [
            "Tensorflow Version:-- 2.4.0\n",
            "Keras Version:--- 2.4.0\n"
          ],
          "name": "stdout"
        }
      ]
    },
    {
      "cell_type": "markdown",
      "metadata": {
        "id": "BeKaLLXs5j0c"
      },
      "source": [
        "###Tokenization"
      ]
    },
    {
      "cell_type": "code",
      "metadata": {
        "id": "0zLqmKVR5j0d"
      },
      "source": [
        "tokenizer = Tokenizer(num_words = 10000,filters='!\"#$%&()*+,-./:;<=>?@[\\\\]^_`{|}~\\t\\n-', \n",
        "                      split=' ', char_level=False, oov_token='<oov>', document_count=0)\n",
        "tokenizer.fit_on_texts(train_data['text'])  \n",
        "vocab_size = len(tokenizer.word_index)+1"
      ],
      "execution_count": null,
      "outputs": []
    },
    {
      "cell_type": "code",
      "metadata": {
        "colab": {
          "base_uri": "https://localhost:8080/"
        },
        "id": "bi3qgrR-5j0d",
        "outputId": "3795d449-2019-4dc2-ff77-e3013d03948c"
      },
      "source": [
        "print(vocab_size)"
      ],
      "execution_count": null,
      "outputs": [
        {
          "output_type": "stream",
          "text": [
            "32113\n"
          ],
          "name": "stdout"
        }
      ]
    },
    {
      "cell_type": "code",
      "metadata": {
        "colab": {
          "base_uri": "https://localhost:8080/"
        },
        "id": "vTtNAzs35j0d",
        "outputId": "57302038-b280-4333-f68a-e256d2923ca2"
      },
      "source": [
        "max_len = 100\n",
        "# Training Sequences\n",
        "train_sequences = tokenizer.texts_to_sequences(train_data['text'])\n",
        "print(len(tokenizer.word_index))\n",
        "train_pad_sequences =  keras.preprocessing.sequence.pad_sequences(train_sequences, value=0.0, padding='post', maxlen= max_len)\n",
        "print(\"Number of Training Sequences :\" ,train_pad_sequences.shape)\n",
        "\n",
        "# Validation Sequences\n",
        "validation_sequences = tokenizer.texts_to_sequences(valid_data['text'])\n",
        "validation_pad_sequences =  keras.preprocessing.sequence.pad_sequences(validation_sequences, value=0.0, padding='post', maxlen= max_len)\n",
        "print(\"Number of Validation Sequences :\" ,validation_pad_sequences.shape)"
      ],
      "execution_count": null,
      "outputs": [
        {
          "output_type": "stream",
          "text": [
            "32112\n",
            "Number of Training Sequences : (8564, 100)\n",
            "Number of Validation Sequences : (1070, 100)\n"
          ],
          "name": "stdout"
        }
      ]
    },
    {
      "cell_type": "code",
      "metadata": {
        "colab": {
          "base_uri": "https://localhost:8080/"
        },
        "id": "LBgHv9GE5j0e",
        "outputId": "bd2dc593-a39c-4cde-c92c-9bffeaff8718"
      },
      "source": [
        "# Test Sequences\n",
        "test_sequences = tokenizer.texts_to_sequences(test_data['text'])\n",
        "test_pad_sequences =  keras.preprocessing.sequence.pad_sequences(test_sequences, value=0.0, padding='post', maxlen= max_len)\n",
        "print(\"Number of Test Sequences :\" ,test_pad_sequences.shape)"
      ],
      "execution_count": null,
      "outputs": [
        {
          "output_type": "stream",
          "text": [
            "Number of Test Sequences : (1071, 100)\n"
          ],
          "name": "stdout"
        }
      ]
    },
    {
      "cell_type": "code",
      "metadata": {
        "id": "asyckOEV5j0e"
      },
      "source": [
        "from sklearn.utils import class_weight\n",
        "class_weights = class_weight.compute_class_weight('balanced'\n",
        "                                               ,np.unique(train_data['enc_label'])\n",
        "                                               ,train_data['enc_label'])\n",
        "\n",
        "weight = {i : class_weights[i] for i in range(3)}"
      ],
      "execution_count": null,
      "outputs": []
    },
    {
      "cell_type": "code",
      "metadata": {
        "colab": {
          "base_uri": "https://localhost:8080/"
        },
        "id": "PGW1N23s5j0e",
        "outputId": "ba94067c-3e00-4f71-c89c-f14f16c8d17e"
      },
      "source": [
        "weight"
      ],
      "execution_count": null,
      "outputs": [
        {
          "output_type": "execute_result",
          "data": {
            "text/plain": [
              "{0: 0.4600590921300027, 1: 1.7114308553157473, 2: 4.131210805595755}"
            ]
          },
          "metadata": {
            "tags": []
          },
          "execution_count": 169
        }
      ]
    },
    {
      "cell_type": "code",
      "metadata": {
        "colab": {
          "base_uri": "https://localhost:8080/"
        },
        "id": "Z7cfxG0U5j0f",
        "outputId": "c570e295-d69c-439f-f35d-1196586b10ca"
      },
      "source": [
        "num_classes = 3\n",
        "\n",
        "accuracy_threshold = 0.99\n",
        "\n",
        "class myCallback(keras.callbacks.Callback):\n",
        "  def on_epoch_end(self, epoch, logs={}):\n",
        "      if(logs.get('accuracy')>accuracy_threshold):\n",
        "        print(\"\\nReached %2.2f%% accuracy so we will stop trianing\" % (accuracy_threshold*100))\n",
        "        self.model.stop_training = True\n",
        "\n",
        "acc_callback = myCallback()\n",
        "# Saved the Best Model\n",
        "filepath = folder_path+\"ml_BiLSTMModel.h5\"\n",
        "checkpoint = keras.callbacks.ModelCheckpoint(filepath, monitor='val_accuracy', verbose=2, save_best_only=True, \n",
        "                                             save_weights_only=False, mode='max')\n",
        "# callback list\n",
        "callback_list = [acc_callback, checkpoint] \n",
        "model = tf.keras.models.Sequential([\n",
        "tf.keras.layers.Embedding(10000, 100, input_length = max_len),\n",
        "#tf.keras.layers.Conv1D(128, 5, activation='relu'),\n",
        "#tf.keras.layers.MaxPooling1D(5),\n",
        "tf.keras.layers.Bidirectional(LSTM(units = 32,return_sequences=True,dropout = 0.2)),\n",
        "tf.keras.layers.Flatten(),\n",
        "tf.keras.layers.Dense(3 , activation='softmax')])\n",
        "\n",
        "model.summary()\n"
      ],
      "execution_count": null,
      "outputs": [
        {
          "output_type": "stream",
          "text": [
            "Model: \"sequential_7\"\n",
            "_________________________________________________________________\n",
            "Layer (type)                 Output Shape              Param #   \n",
            "=================================================================\n",
            "embedding_7 (Embedding)      (None, 100, 100)          1000000   \n",
            "_________________________________________________________________\n",
            "bidirectional_7 (Bidirection (None, 100, 64)           34048     \n",
            "_________________________________________________________________\n",
            "flatten_7 (Flatten)          (None, 6400)              0         \n",
            "_________________________________________________________________\n",
            "dense_7 (Dense)              (None, 3)                 19203     \n",
            "=================================================================\n",
            "Total params: 1,053,251\n",
            "Trainable params: 1,053,251\n",
            "Non-trainable params: 0\n",
            "_________________________________________________________________\n"
          ],
          "name": "stdout"
        }
      ]
    },
    {
      "cell_type": "code",
      "metadata": {
        "colab": {
          "base_uri": "https://localhost:8080/"
        },
        "id": "RQjB-Ilx5j0f",
        "outputId": "385cde8e-a6a9-4b08-d3ab-636ef4648f65"
      },
      "source": [
        "model.compile(optimizer=keras.optimizers.Adam(learning_rate=0.001),\n",
        "    loss='sparse_categorical_crossentropy',\n",
        "    metrics=['accuracy'])\n",
        "   \n",
        "history = model.fit(train_pad_sequences,\n",
        "    train_data['enc_label'],\n",
        "    epochs=15,\n",
        "    batch_size = 32,\n",
        "    validation_split = 0.2,\n",
        "    verbose =1,\n",
        "    callbacks = callback_list,\n",
        "    class_weight = weight)"
      ],
      "execution_count": null,
      "outputs": [
        {
          "output_type": "stream",
          "text": [
            "Epoch 1/15\n",
            "215/215 [==============================] - 6s 18ms/step - loss: 0.9236 - accuracy: 0.4016 - val_loss: 0.5601 - val_accuracy: 0.7881\n",
            "\n",
            "Epoch 00001: val_accuracy improved from -inf to 0.78809, saving model to /content/drive/MyDrive/Colab Notebooks/NLP Projects/EACL 2021- Shared Tasks/Hope Speech/ml_BiLSTMModel.h5\n",
            "Epoch 2/15\n",
            "215/215 [==============================] - 3s 15ms/step - loss: 0.3830 - accuracy: 0.8074 - val_loss: 0.6073 - val_accuracy: 0.7437\n",
            "\n",
            "Epoch 00002: val_accuracy did not improve from 0.78809\n",
            "Epoch 3/15\n",
            "215/215 [==============================] - 3s 15ms/step - loss: 0.1565 - accuracy: 0.9346 - val_loss: 0.7306 - val_accuracy: 0.7402\n",
            "\n",
            "Epoch 00003: val_accuracy did not improve from 0.78809\n",
            "Epoch 4/15\n",
            "215/215 [==============================] - 3s 15ms/step - loss: 0.0928 - accuracy: 0.9620 - val_loss: 0.8218 - val_accuracy: 0.7770\n",
            "\n",
            "Epoch 00004: val_accuracy did not improve from 0.78809\n",
            "Epoch 5/15\n",
            "215/215 [==============================] - 3s 15ms/step - loss: 0.0603 - accuracy: 0.9782 - val_loss: 1.0376 - val_accuracy: 0.7513\n",
            "\n",
            "Epoch 00005: val_accuracy did not improve from 0.78809\n",
            "Epoch 6/15\n",
            "215/215 [==============================] - 3s 15ms/step - loss: 0.0526 - accuracy: 0.9774 - val_loss: 1.1414 - val_accuracy: 0.7420\n",
            "\n",
            "Epoch 00006: val_accuracy did not improve from 0.78809\n",
            "Epoch 7/15\n",
            "215/215 [==============================] - 3s 15ms/step - loss: 0.0505 - accuracy: 0.9818 - val_loss: 1.1752 - val_accuracy: 0.7840\n",
            "\n",
            "Epoch 00007: val_accuracy did not improve from 0.78809\n",
            "Epoch 8/15\n",
            "215/215 [==============================] - 3s 15ms/step - loss: 0.0480 - accuracy: 0.9856 - val_loss: 1.2450 - val_accuracy: 0.7682\n",
            "\n",
            "Epoch 00008: val_accuracy did not improve from 0.78809\n",
            "Epoch 9/15\n",
            "215/215 [==============================] - 3s 15ms/step - loss: 0.0521 - accuracy: 0.9825 - val_loss: 1.3058 - val_accuracy: 0.7548\n",
            "\n",
            "Epoch 00009: val_accuracy did not improve from 0.78809\n",
            "Epoch 10/15\n",
            "215/215 [==============================] - 3s 15ms/step - loss: 0.0414 - accuracy: 0.9839 - val_loss: 1.2729 - val_accuracy: 0.7519\n",
            "\n",
            "Epoch 00010: val_accuracy did not improve from 0.78809\n",
            "Epoch 11/15\n",
            "215/215 [==============================] - 3s 15ms/step - loss: 0.0363 - accuracy: 0.9854 - val_loss: 1.4317 - val_accuracy: 0.7572\n",
            "\n",
            "Epoch 00011: val_accuracy did not improve from 0.78809\n",
            "Epoch 12/15\n",
            "215/215 [==============================] - 3s 15ms/step - loss: 0.0387 - accuracy: 0.9853 - val_loss: 1.3429 - val_accuracy: 0.7665\n",
            "\n",
            "Epoch 00012: val_accuracy did not improve from 0.78809\n",
            "Epoch 13/15\n",
            "215/215 [==============================] - 3s 15ms/step - loss: 0.0482 - accuracy: 0.9819 - val_loss: 1.4029 - val_accuracy: 0.7350\n",
            "\n",
            "Epoch 00013: val_accuracy did not improve from 0.78809\n",
            "Epoch 14/15\n",
            "215/215 [==============================] - 3s 15ms/step - loss: 0.0396 - accuracy: 0.9871 - val_loss: 1.3621 - val_accuracy: 0.7618\n",
            "\n",
            "Epoch 00014: val_accuracy did not improve from 0.78809\n",
            "Epoch 15/15\n",
            "215/215 [==============================] - 3s 15ms/step - loss: 0.0422 - accuracy: 0.9862 - val_loss: 1.5058 - val_accuracy: 0.7507\n",
            "\n",
            "Epoch 00015: val_accuracy did not improve from 0.78809\n"
          ],
          "name": "stdout"
        }
      ]
    },
    {
      "cell_type": "code",
      "metadata": {
        "colab": {
          "base_uri": "https://localhost:8080/"
        },
        "id": "BiIYJ8d75j0f",
        "outputId": "49ec9303-4b66-46d4-8bff-cd95b5bc92ea"
      },
      "source": [
        "# Load the saved model\n",
        "model = load_model(folder_path+'ml_BiLSTMModel.h5')\n",
        "# prediction\n",
        "y_pred = np.argmax(model.predict(validation_pad_sequences), axis=-1)\n",
        "print_metrices(valid_data['enc_label'],y_pred)\n"
      ],
      "execution_count": null,
      "outputs": [
        {
          "output_type": "stream",
          "text": [
            "[[698 108  13]\n",
            " [ 27  70   0]\n",
            " [ 59  12  83]]\n",
            "              precision    recall  f1-score   support\n",
            "\n",
            "           0       0.89      0.85      0.87       819\n",
            "           1       0.37      0.72      0.49        97\n",
            "           2       0.86      0.54      0.66       154\n",
            "\n",
            "    accuracy                           0.80      1070\n",
            "   macro avg       0.71      0.70      0.67      1070\n",
            "weighted avg       0.84      0.80      0.81      1070\n",
            "\n",
            "Accuracy :  0.7953271028037383\n",
            "Precison :  0.8009575719374351\n",
            "Recall :  0.7953271028037383\n",
            "F1 :  0.7842866842586721\n"
          ],
          "name": "stdout"
        }
      ]
    },
    {
      "cell_type": "markdown",
      "metadata": {
        "id": "TJHlxYQX5j0g"
      },
      "source": [
        "### Test Set Prediction"
      ]
    },
    {
      "cell_type": "code",
      "metadata": {
        "id": "wl8m9TGF5j0h"
      },
      "source": [
        "test_pred = np.argmax(model.predict(test_pad_sequences), axis=-1).tolist()\n",
        "test_pred"
      ],
      "execution_count": null,
      "outputs": []
    },
    {
      "cell_type": "code",
      "metadata": {
        "id": "iE1S2Qtb5j0h"
      },
      "source": [
        "test_data['id'] = test_data.index + 1\n",
        "run = pd.DataFrame(test_data['id'])\n",
        "run['text'] = test_data['text']\n",
        "run['label'] = test_pred\n",
        "run['label'] = run['label'].apply(actual_label)\n",
        "run "
      ],
      "execution_count": null,
      "outputs": []
    },
    {
      "cell_type": "code",
      "metadata": {
        "id": "Q0UX6NBR5j0h"
      },
      "source": [
        "run.to_csv(folder_path +'malayalam_cnn+bilstm.tsv',sep = '\\t',index = False)"
      ],
      "execution_count": null,
      "outputs": []
    },
    {
      "cell_type": "markdown",
      "metadata": {
        "id": "g5xzpO-OLJmU"
      },
      "source": [
        "##Pretrained Word Embedding (Fasttext)"
      ]
    },
    {
      "cell_type": "code",
      "metadata": {
        "id": "6WXPy-wlNO1r"
      },
      "source": [
        "from urllib.request import urlopen\n",
        "import gzip\n",
        "\n",
        "# get the vectors\n",
        "file = gzip.open(urlopen('https://dl.fbaipublicfiles.com/fasttext/vectors-crawl/cc.ml.300.vec.gz'))"
      ],
      "execution_count": null,
      "outputs": []
    },
    {
      "cell_type": "code",
      "metadata": {
        "id": "XCxzGVFhTi9V"
      },
      "source": [
        "tokenizer = Tokenizer(num_words = 30000,filters='!\"#$%&()*+,-./:;<=>?@[\\\\]^_`{|}~\\t\\n-', \n",
        "                      split=' ', char_level=False, oov_token='<oov>', document_count=0)\n",
        "tokenizer.fit_on_texts(train_data['text'])  \n",
        "word_index = tokenizer.word_index\n",
        "vocab_size = len(word_index )+1"
      ],
      "execution_count": null,
      "outputs": []
    },
    {
      "cell_type": "code",
      "metadata": {
        "id": "iuqeUe2lNkEr"
      },
      "source": [
        "vocab_and_vectors = {}\n",
        "# put words as dict indexes and vectors as words values\n",
        "for line in file:\n",
        "  values = line.split()\n",
        "  word = values [0].decode('utf-8')\n",
        "  vector = np.asarray(values[1:], dtype='float32')\n",
        "  vocab_and_vectors[word] = vector"
      ],
      "execution_count": null,
      "outputs": []
    },
    {
      "cell_type": "code",
      "metadata": {
        "id": "QGNh555jNmcY"
      },
      "source": [
        "embedding_matrix = np.zeros((vocab_size, 300))\n",
        "for word, i in word_index.items():\n",
        "  embedding_vector = vocab_and_vectors.get(word)\n",
        "  # words that cannot be found will be set to 0\n",
        "  if embedding_vector is not None:\n",
        "    embedding_matrix[i] = embedding_vector"
      ],
      "execution_count": null,
      "outputs": []
    },
    {
      "cell_type": "code",
      "metadata": {
        "colab": {
          "base_uri": "https://localhost:8080/"
        },
        "id": "Q7FtAhL6Lee1",
        "outputId": "7f781c15-5373-46d8-b606-e6adfe8d6dac"
      },
      "source": [
        "max_len = 100\n",
        "# Training Sequences\n",
        "train_sequences = tokenizer.texts_to_sequences(train_data['text'])\n",
        "print(len(tokenizer.word_index))\n",
        "train_pad_sequences =  keras.preprocessing.sequence.pad_sequences(train_sequences, value=0.0, padding='post', maxlen= max_len)\n",
        "print(\"Number of Training Sequences :\" ,train_pad_sequences.shape)\n",
        "\n",
        "# Validation Sequences\n",
        "validation_sequences = tokenizer.texts_to_sequences(valid_data['text'])\n",
        "validation_pad_sequences =  keras.preprocessing.sequence.pad_sequences(validation_sequences, value=0.0, padding='post', maxlen= max_len)\n",
        "print(\"Number of Validation Sequences :\" ,validation_pad_sequences.shape)"
      ],
      "execution_count": null,
      "outputs": [
        {
          "output_type": "stream",
          "text": [
            "32112\n",
            "Number of Training Sequences : (8564, 100)\n",
            "Number of Validation Sequences : (1070, 100)\n"
          ],
          "name": "stdout"
        }
      ]
    },
    {
      "cell_type": "code",
      "metadata": {
        "colab": {
          "base_uri": "https://localhost:8080/"
        },
        "id": "Gyg3KMmLLfad",
        "outputId": "20697191-953c-4b64-84bb-4565fe066eae"
      },
      "source": [
        "# Test Sequences\n",
        "test_sequences = tokenizer.texts_to_sequences(test_data['text'])\n",
        "test_pad_sequences =  keras.preprocessing.sequence.pad_sequences(test_sequences, value=0.0, padding='post', maxlen= max_len)\n",
        "print(\"Number of Test Sequences :\" ,test_pad_sequences.shape)"
      ],
      "execution_count": null,
      "outputs": [
        {
          "output_type": "stream",
          "text": [
            "Number of Test Sequences : (1071, 100)\n"
          ],
          "name": "stdout"
        }
      ]
    },
    {
      "cell_type": "code",
      "metadata": {
        "id": "ZDWWTEyrLlwg"
      },
      "source": [
        "from sklearn.utils import class_weight\n",
        "class_weights = class_weight.compute_class_weight('balanced'\n",
        "                                               ,np.unique(train_data['enc_label'])\n",
        "                                               ,train_data['enc_label'])\n",
        "\n",
        "weight = {i : class_weights[i] for i in range(3)}"
      ],
      "execution_count": null,
      "outputs": []
    },
    {
      "cell_type": "markdown",
      "metadata": {
        "id": "ZjpNj-UzLqNF"
      },
      "source": [
        "#### Model Defination"
      ]
    },
    {
      "cell_type": "code",
      "metadata": {
        "colab": {
          "base_uri": "https://localhost:8080/"
        },
        "id": "5-jh6iM_LorH",
        "outputId": "6ab8c237-9e65-43b7-af90-52ed57698585"
      },
      "source": [
        "num_classes = 3\n",
        "\n",
        "accuracy_threshold = 0.99\n",
        "\n",
        "class myCallback(keras.callbacks.Callback):\n",
        "  def on_epoch_end(self, epoch, logs={}):\n",
        "      if(logs.get('accuracy')>accuracy_threshold):\n",
        "        print(\"\\nReached %2.2f%% accuracy so we will stop trianing\" % (accuracy_threshold*100))\n",
        "        self.model.stop_training = True\n",
        "\n",
        "acc_callback = myCallback()\n",
        "# Saved the Best Model\n",
        "filepath = folder_path+\"prt_BiLSTMModel.h5\"\n",
        "checkpoint = keras.callbacks.ModelCheckpoint(filepath, monitor='val_accuracy', verbose=2, save_best_only=True, \n",
        "                                             save_weights_only=False, mode='max')\n",
        "# callback list\n",
        "callback_list = [acc_callback, checkpoint] \n",
        "model = tf.keras.models.Sequential([\n",
        "tf.keras.layers.Embedding(vocab_size, 300,weights=[embedding_matrix],trainable=False, input_length = max_len),\n",
        "tf.keras.layers.Conv1D(128, 5, activation='relu'),\n",
        "tf.keras.layers.MaxPooling1D(5),\n",
        "tf.keras.layers.Bidirectional(LSTM(units = 128,return_sequences=True,dropout = 0.2)),\n",
        "tf.keras.layers.Flatten(),\n",
        "tf.keras.layers.Dense(3 , activation='softmax')])\n",
        "\n",
        "model.summary()\n"
      ],
      "execution_count": null,
      "outputs": [
        {
          "output_type": "stream",
          "text": [
            "Model: \"sequential_12\"\n",
            "_________________________________________________________________\n",
            "Layer (type)                 Output Shape              Param #   \n",
            "=================================================================\n",
            "embedding_12 (Embedding)     (None, 100, 300)          9633900   \n",
            "_________________________________________________________________\n",
            "conv1d_6 (Conv1D)            (None, 96, 128)           192128    \n",
            "_________________________________________________________________\n",
            "max_pooling1d_6 (MaxPooling1 (None, 19, 128)           0         \n",
            "_________________________________________________________________\n",
            "bidirectional_12 (Bidirectio (None, 19, 256)           263168    \n",
            "_________________________________________________________________\n",
            "flatten_12 (Flatten)         (None, 4864)              0         \n",
            "_________________________________________________________________\n",
            "dense_12 (Dense)             (None, 3)                 14595     \n",
            "=================================================================\n",
            "Total params: 10,103,791\n",
            "Trainable params: 469,891\n",
            "Non-trainable params: 9,633,900\n",
            "_________________________________________________________________\n"
          ],
          "name": "stdout"
        }
      ]
    },
    {
      "cell_type": "code",
      "metadata": {
        "colab": {
          "base_uri": "https://localhost:8080/"
        },
        "id": "cTxxLkVmLvbB",
        "outputId": "296f679a-2304-4619-918d-d2afe4ef42a5"
      },
      "source": [
        "model.compile(optimizer=keras.optimizers.Adam(learning_rate=0.001),\n",
        "    loss='sparse_categorical_crossentropy',\n",
        "    metrics=['accuracy'])\n",
        "   \n",
        "history = model.fit(train_pad_sequences,\n",
        "    train_data['enc_label'],\n",
        "    epochs=25,\n",
        "    batch_size = 32,\n",
        "    validation_split = 0.2,\n",
        "    verbose =1,\n",
        "    callbacks = callback_list,\n",
        "    class_weight = weight)"
      ],
      "execution_count": null,
      "outputs": [
        {
          "output_type": "stream",
          "text": [
            "Epoch 1/25\n",
            "215/215 [==============================] - 5s 11ms/step - loss: 0.7971 - accuracy: 0.5380 - val_loss: 0.8328 - val_accuracy: 0.5470\n",
            "\n",
            "Epoch 00001: val_accuracy improved from -inf to 0.54699, saving model to /content/drive/MyDrive/Colab Notebooks/NLP Projects/EACL 2021- Shared Tasks/Hope Speech/prt_BiLSTMModel.h5\n",
            "Epoch 2/25\n",
            "215/215 [==============================] - 2s 8ms/step - loss: 0.5291 - accuracy: 0.6920 - val_loss: 0.5700 - val_accuracy: 0.7601\n",
            "\n",
            "Epoch 00002: val_accuracy improved from 0.54699 to 0.76007, saving model to /content/drive/MyDrive/Colab Notebooks/NLP Projects/EACL 2021- Shared Tasks/Hope Speech/prt_BiLSTMModel.h5\n",
            "Epoch 3/25\n",
            "215/215 [==============================] - 2s 7ms/step - loss: 0.4509 - accuracy: 0.7544 - val_loss: 0.6219 - val_accuracy: 0.7262\n",
            "\n",
            "Epoch 00003: val_accuracy did not improve from 0.76007\n",
            "Epoch 4/25\n",
            "215/215 [==============================] - 2s 7ms/step - loss: 0.3883 - accuracy: 0.7653 - val_loss: 0.6683 - val_accuracy: 0.7034\n",
            "\n",
            "Epoch 00004: val_accuracy did not improve from 0.76007\n",
            "Epoch 5/25\n",
            "215/215 [==============================] - 2s 7ms/step - loss: 0.3374 - accuracy: 0.8269 - val_loss: 0.6107 - val_accuracy: 0.7712\n",
            "\n",
            "Epoch 00005: val_accuracy improved from 0.76007 to 0.77116, saving model to /content/drive/MyDrive/Colab Notebooks/NLP Projects/EACL 2021- Shared Tasks/Hope Speech/prt_BiLSTMModel.h5\n",
            "Epoch 6/25\n",
            "215/215 [==============================] - 2s 7ms/step - loss: 0.2493 - accuracy: 0.8691 - val_loss: 0.6816 - val_accuracy: 0.7513\n",
            "\n",
            "Epoch 00006: val_accuracy did not improve from 0.77116\n",
            "Epoch 7/25\n",
            "215/215 [==============================] - 2s 7ms/step - loss: 0.2076 - accuracy: 0.8987 - val_loss: 0.7016 - val_accuracy: 0.7741\n",
            "\n",
            "Epoch 00007: val_accuracy improved from 0.77116 to 0.77408, saving model to /content/drive/MyDrive/Colab Notebooks/NLP Projects/EACL 2021- Shared Tasks/Hope Speech/prt_BiLSTMModel.h5\n",
            "Epoch 8/25\n",
            "215/215 [==============================] - 2s 8ms/step - loss: 0.1742 - accuracy: 0.9152 - val_loss: 0.7404 - val_accuracy: 0.7846\n",
            "\n",
            "Epoch 00008: val_accuracy improved from 0.77408 to 0.78459, saving model to /content/drive/MyDrive/Colab Notebooks/NLP Projects/EACL 2021- Shared Tasks/Hope Speech/prt_BiLSTMModel.h5\n",
            "Epoch 9/25\n",
            "215/215 [==============================] - 2s 7ms/step - loss: 0.1697 - accuracy: 0.9166 - val_loss: 0.7437 - val_accuracy: 0.7747\n",
            "\n",
            "Epoch 00009: val_accuracy did not improve from 0.78459\n",
            "Epoch 10/25\n",
            "215/215 [==============================] - 2s 7ms/step - loss: 0.1540 - accuracy: 0.9285 - val_loss: 0.7899 - val_accuracy: 0.7572\n",
            "\n",
            "Epoch 00010: val_accuracy did not improve from 0.78459\n",
            "Epoch 11/25\n",
            "215/215 [==============================] - 2s 7ms/step - loss: 0.1277 - accuracy: 0.9330 - val_loss: 0.8537 - val_accuracy: 0.7630\n",
            "\n",
            "Epoch 00011: val_accuracy did not improve from 0.78459\n",
            "Epoch 12/25\n",
            "215/215 [==============================] - 2s 7ms/step - loss: 0.1370 - accuracy: 0.9313 - val_loss: 0.8674 - val_accuracy: 0.7583\n",
            "\n",
            "Epoch 00012: val_accuracy did not improve from 0.78459\n",
            "Epoch 13/25\n",
            "215/215 [==============================] - 2s 7ms/step - loss: 0.1229 - accuracy: 0.9363 - val_loss: 0.9697 - val_accuracy: 0.7356\n",
            "\n",
            "Epoch 00013: val_accuracy did not improve from 0.78459\n",
            "Epoch 14/25\n",
            "215/215 [==============================] - 2s 7ms/step - loss: 0.1139 - accuracy: 0.9462 - val_loss: 1.0160 - val_accuracy: 0.7893\n",
            "\n",
            "Epoch 00014: val_accuracy improved from 0.78459 to 0.78926, saving model to /content/drive/MyDrive/Colab Notebooks/NLP Projects/EACL 2021- Shared Tasks/Hope Speech/prt_BiLSTMModel.h5\n",
            "Epoch 15/25\n",
            "215/215 [==============================] - 2s 7ms/step - loss: 0.0979 - accuracy: 0.9548 - val_loss: 1.0266 - val_accuracy: 0.7572\n",
            "\n",
            "Epoch 00015: val_accuracy did not improve from 0.78926\n",
            "Epoch 16/25\n",
            "215/215 [==============================] - 2s 7ms/step - loss: 0.0948 - accuracy: 0.9544 - val_loss: 1.1032 - val_accuracy: 0.7893\n",
            "\n",
            "Epoch 00016: val_accuracy did not improve from 0.78926\n",
            "Epoch 17/25\n",
            "215/215 [==============================] - 2s 7ms/step - loss: 0.0929 - accuracy: 0.9598 - val_loss: 1.0877 - val_accuracy: 0.7846\n",
            "\n",
            "Epoch 00017: val_accuracy did not improve from 0.78926\n",
            "Epoch 18/25\n",
            "215/215 [==============================] - 2s 7ms/step - loss: 0.0934 - accuracy: 0.9566 - val_loss: 0.9425 - val_accuracy: 0.7782\n",
            "\n",
            "Epoch 00018: val_accuracy did not improve from 0.78926\n",
            "Epoch 19/25\n",
            "215/215 [==============================] - 2s 7ms/step - loss: 0.0908 - accuracy: 0.9594 - val_loss: 1.0688 - val_accuracy: 0.7758\n",
            "\n",
            "Epoch 00019: val_accuracy did not improve from 0.78926\n",
            "Epoch 20/25\n",
            "215/215 [==============================] - 2s 8ms/step - loss: 0.1063 - accuracy: 0.9442 - val_loss: 1.1306 - val_accuracy: 0.7373\n",
            "\n",
            "Epoch 00020: val_accuracy did not improve from 0.78926\n",
            "Epoch 21/25\n",
            "215/215 [==============================] - 2s 7ms/step - loss: 0.0911 - accuracy: 0.9547 - val_loss: 1.3222 - val_accuracy: 0.7671\n",
            "\n",
            "Epoch 00021: val_accuracy did not improve from 0.78926\n",
            "Epoch 22/25\n",
            "215/215 [==============================] - 2s 7ms/step - loss: 0.0826 - accuracy: 0.9618 - val_loss: 1.4629 - val_accuracy: 0.7326\n",
            "\n",
            "Epoch 00022: val_accuracy did not improve from 0.78926\n",
            "Epoch 23/25\n",
            "215/215 [==============================] - 2s 7ms/step - loss: 0.1334 - accuracy: 0.9404 - val_loss: 1.1427 - val_accuracy: 0.7688\n",
            "\n",
            "Epoch 00023: val_accuracy did not improve from 0.78926\n",
            "Epoch 24/25\n",
            "215/215 [==============================] - 2s 7ms/step - loss: 0.0820 - accuracy: 0.9597 - val_loss: 1.2434 - val_accuracy: 0.7846\n",
            "\n",
            "Epoch 00024: val_accuracy did not improve from 0.78926\n",
            "Epoch 25/25\n",
            "215/215 [==============================] - 2s 7ms/step - loss: 0.0725 - accuracy: 0.9682 - val_loss: 1.2627 - val_accuracy: 0.7682\n",
            "\n",
            "Epoch 00025: val_accuracy did not improve from 0.78926\n"
          ],
          "name": "stdout"
        }
      ]
    },
    {
      "cell_type": "code",
      "metadata": {
        "colab": {
          "base_uri": "https://localhost:8080/"
        },
        "id": "FqcGyIPgRxDf",
        "outputId": "e0f07f4d-7011-4eef-8193-6c713a151248"
      },
      "source": [
        "# Load the saved model\n",
        "model = load_model(folder_path+'prt_BiLSTMModel.h5')\n",
        "# prediction\n",
        "y_pred = np.argmax(model.predict(validation_pad_sequences), axis=-1)\n",
        "print_metrices(valid_data['enc_label'],y_pred)\n"
      ],
      "execution_count": null,
      "outputs": [
        {
          "output_type": "stream",
          "text": [
            "[[660  99  16]\n",
            " [ 63  79   6]\n",
            " [ 61  12  74]]\n",
            "              precision    recall  f1-score   support\n",
            "\n",
            "           0       0.84      0.85      0.85       775\n",
            "           1       0.42      0.53      0.47       148\n",
            "           2       0.77      0.50      0.61       147\n",
            "\n",
            "    accuracy                           0.76      1070\n",
            "   macro avg       0.68      0.63      0.64      1070\n",
            "weighted avg       0.77      0.76      0.76      1070\n",
            "\n",
            "Accuracy :  0.7598130841121495\n",
            "Precison :  0.7639345473459777\n",
            "Recall :  0.7598130841121495\n",
            "F1 :  0.7580334939734004\n"
          ],
          "name": "stdout"
        }
      ]
    },
    {
      "cell_type": "code",
      "metadata": {
        "id": "S2ka0hgqTOnq"
      },
      "source": [
        "test_pred = np.argmax(model.predict(test_pad_sequences), axis=-1).tolist()\n",
        "test_pred"
      ],
      "execution_count": null,
      "outputs": []
    },
    {
      "cell_type": "code",
      "metadata": {
        "id": "OjFB39pSTFjA"
      },
      "source": [
        "test_data['id'] = test_data.index + 1\n",
        "run = pd.DataFrame(test_data['id'])\n",
        "run['text'] = test_data['text']\n",
        "run['label'] = test_pred\n",
        "run['label'] = run['label'].apply(actual_label)\n",
        "run \n"
      ],
      "execution_count": null,
      "outputs": []
    },
    {
      "cell_type": "code",
      "metadata": {
        "id": "I3KusxYGTREr"
      },
      "source": [
        "run.to_csv(folder_path +'malayalam_cnn+bilstm+fasttext.tsv',sep = '\\t',index = False)"
      ],
      "execution_count": null,
      "outputs": []
    },
    {
      "cell_type": "code",
      "metadata": {
        "id": "vWAJLTzyD2fH"
      },
      "source": [
        ""
      ],
      "execution_count": null,
      "outputs": []
    },
    {
      "cell_type": "markdown",
      "metadata": {
        "id": "b5RDRp3fD3FR"
      },
      "source": [
        "# Tamil Dataset "
      ]
    },
    {
      "cell_type": "code",
      "metadata": {
        "colab": {
          "base_uri": "https://localhost:8080/"
        },
        "id": "VSmTmMfND3FT",
        "outputId": "e27abe7a-6fb1-4677-e303-062ef1dce5b0"
      },
      "source": [
        "%%time\n",
        "train_data = pd.read_csv(dataset_path + \"tamil_hope_first_train.csv\",delimiter='\\t',header = None)\n",
        "valid_data = pd.read_csv(dataset_path + \"tamil_hope_first_dev.csv\",delimiter='\\t',header = None)\n",
        "test_data = pd.read_csv(dataset_path + \"tamil_hope_test.csv\",delimiter='\\t',header = None)"
      ],
      "execution_count": null,
      "outputs": [
        {
          "output_type": "stream",
          "text": [
            "CPU times: user 39.6 ms, sys: 3.9 ms, total: 43.5 ms\n",
            "Wall time: 66.8 ms\n"
          ],
          "name": "stdout"
        }
      ]
    },
    {
      "cell_type": "code",
      "metadata": {
        "id": "dq8gjpapD3FX"
      },
      "source": [
        "test_data"
      ],
      "execution_count": null,
      "outputs": []
    },
    {
      "cell_type": "code",
      "metadata": {
        "id": "PzZpmQCUD3FY"
      },
      "source": [
        "train_data = train_data.drop(columns=2)\n",
        "train_data = train_data.rename(columns={0:'text',1:'label'})\n",
        "valid_data = valid_data.drop(columns=2)\n",
        "valid_data = valid_data.rename(columns={0:'text',1:'label'})\n",
        "test_data = test_data.rename(columns={0:'text'})"
      ],
      "execution_count": null,
      "outputs": []
    },
    {
      "cell_type": "code",
      "metadata": {
        "id": "9hHhW5MeD3Fa"
      },
      "source": [
        "train_data['enc_label'] = train_data['label'].replace({'Non_hope_speech':0, 'Hope_speech':1,'not-Tamil':2})\n",
        "valid_data['enc_label'] = valid_data['label'].replace({'Non_hope_speech':0, 'Hope_speech':1,'not-Tamil':2})"
      ],
      "execution_count": null,
      "outputs": []
    },
    {
      "cell_type": "code",
      "metadata": {
        "id": "P-AOBKrMD3Fb"
      },
      "source": [
        "train_data"
      ],
      "execution_count": null,
      "outputs": []
    },
    {
      "cell_type": "code",
      "metadata": {
        "id": "zefNJEAHD3Fc"
      },
      "source": [
        "train_data['text'].tolist()"
      ],
      "execution_count": null,
      "outputs": []
    },
    {
      "cell_type": "code",
      "metadata": {
        "colab": {
          "base_uri": "https://localhost:8080/"
        },
        "id": "FzSAACuBD3Fd",
        "outputId": "b71656eb-c01d-48a0-f2fe-4e6d262459d3"
      },
      "source": [
        "train_data['enc_label'].value_counts()"
      ],
      "execution_count": null,
      "outputs": [
        {
          "output_type": "execute_result",
          "data": {
            "text/plain": [
              "0    7872\n",
              "1    6327\n",
              "2    1961\n",
              "Name: enc_label, dtype: int64"
            ]
          },
          "metadata": {
            "tags": []
          },
          "execution_count": 37
        }
      ]
    },
    {
      "cell_type": "code",
      "metadata": {
        "colab": {
          "base_uri": "https://localhost:8080/"
        },
        "id": "8C-KY5asD3Fe",
        "outputId": "2dd666e8-d086-4334-9af5-2e0d14aa022b"
      },
      "source": [
        "valid_data['enc_label'].value_counts()"
      ],
      "execution_count": null,
      "outputs": [
        {
          "output_type": "execute_result",
          "data": {
            "text/plain": [
              "0    998\n",
              "1    757\n",
              "2    263\n",
              "Name: enc_label, dtype: int64"
            ]
          },
          "metadata": {
            "tags": []
          },
          "execution_count": 38
        }
      ]
    },
    {
      "cell_type": "code",
      "metadata": {
        "colab": {
          "base_uri": "https://localhost:8080/"
        },
        "id": "WSRgGgolD3Fg",
        "outputId": "c8f81c7a-3e89-4d98-f764-80e86372f53f"
      },
      "source": [
        "print(\"Size of the training data ==> \", train_data.shape)\n",
        "print(\"Size of the validation data ==>\", valid_data.shape)\n",
        "print(\"Size of the Test data ==>\", test_data.shape)"
      ],
      "execution_count": null,
      "outputs": [
        {
          "output_type": "stream",
          "text": [
            "Size of the training data ==>  (16160, 3)\n",
            "Size of the validation data ==> (2018, 3)\n",
            "Size of the Test data ==> (2020, 1)\n"
          ],
          "name": "stdout"
        }
      ]
    },
    {
      "cell_type": "markdown",
      "metadata": {
        "id": "0RT7INF1D3Fh"
      },
      "source": [
        "## One Hot Encoding"
      ]
    },
    {
      "cell_type": "code",
      "metadata": {
        "id": "jdZhShf9D3Fi"
      },
      "source": [
        "import pandas as pd\n",
        "from sklearn.preprocessing import OneHotEncoder"
      ],
      "execution_count": null,
      "outputs": []
    },
    {
      "cell_type": "code",
      "metadata": {
        "id": "GSOFjE7GD3Fj"
      },
      "source": [
        "encoder=OneHotEncoder(sparse=False)\n",
        "\n",
        "encoded_labels = pd.DataFrame (encoder.fit_transform(train_data[['label']]))\n",
        "\n",
        "encoded_labels .columns = encoder.get_feature_names(['label'])\n",
        "\n",
        "train_data= pd.concat([train_data, encoded_labels ], axis=1)"
      ],
      "execution_count": null,
      "outputs": []
    },
    {
      "cell_type": "code",
      "metadata": {
        "id": "TQMHlutUD3Fk"
      },
      "source": [
        "train_data = train_data.rename(columns={'label_Hope_speech':'Hope_speech','label_Non_hope_speech':'Non_hope_speech',\n",
        "                                        'label_not-Tamil':'not-Tamil'})\n",
        "train_data"
      ],
      "execution_count": null,
      "outputs": []
    },
    {
      "cell_type": "markdown",
      "metadata": {
        "id": "c__rlUF3D3Fl"
      },
      "source": [
        "## Cleaning"
      ]
    },
    {
      "cell_type": "code",
      "metadata": {
        "id": "kam2V5U3D3Fm"
      },
      "source": [
        "'''\n",
        "Text Cleaning\n",
        "'''\n",
        "def text_cleaning(row):\n",
        "  # to remove HTML tags\n",
        "  text = BeautifulSoup(row, 'html.parser').get_text()\n",
        "  d = re.sub(r'(https|http)?:\\/\\/(\\w|\\.|\\/|\\?|\\=|\\&|\\%)*\\b', '', text, flags=re.MULTILINE) #This line is for removing url\n",
        "  post = d.replace('\\n', '')\n",
        "  post = post.replace('—', ' ')\n",
        "  # to remove accented characters\n",
        "  new_text = unicodedata.normalize('NFKD', post).encode('ascii', 'ignore').decode('utf-8', 'ignore')\n",
        "  # to remove special characters and numbers\n",
        "  # define the pattern to keep\n",
        "  #pat = r'[^a-zA-z0-9.,!?/:;\\\"\\'\\s]' \n",
        "  #text = re.sub(pat, '', new_text)\n",
        "  #to remove punctuation\n",
        "  text = ''.join([c for c in text if c not in string.punctuation])\n",
        "  # to remove special characters\n",
        "  pattern = r'^\\s*|\\s\\s*'\n",
        "  text = re.sub(pattern, ' ', text).strip()\n",
        "  # convert into lower case\n",
        "  text = text.lower() \n",
        "  # Stopword Removing\n",
        "  tokenizer = ToktokTokenizer()\n",
        "  # convert sentence into token of words\n",
        "  tokens = tokenizer.tokenize(text)\n",
        "  tokens = [token.strip() for token in tokens]\n",
        "  # check in lowercase \n",
        "  #t = [token for token in tokens if token.lower() not in stopword_list]\n",
        "  #text = ' '.join(t) \n",
        "  # Stemming\n",
        "  #t = [stemming.stem(token) for token in tokens ]\n",
        "  #text = ' '.join(t) \n",
        "\n",
        "  return text\n",
        "\n"
      ],
      "execution_count": null,
      "outputs": []
    },
    {
      "cell_type": "code",
      "metadata": {
        "colab": {
          "base_uri": "https://localhost:8080/"
        },
        "id": "ei7uqZ61D3Fn",
        "outputId": "4c6dc213-f44c-45f1-e4cf-ae26106d10c9"
      },
      "source": [
        "#removing URLs and Punctuations\n",
        "#train_data['cleaned'] = train_data['tweet'].apply(remove_url)\n",
        "#Removing punctuations\n",
        "train_data['cleaned'] = train_data['text'].apply(text_cleaning)\n",
        "valid_data['cleaned'] = valid_data['text'].apply(text_cleaning)\n",
        "test_data['cleaned'] = test_data['text'].apply(text_cleaning)\n",
        "\n",
        "\n",
        "## Data samples after cleaning\n",
        "print(\"Data samples after cleaning:\\n\")\n",
        "for i in range(10):\n",
        "  print(\"Original Data:===\\n\",train_data.text[i],\"\\nCleaned Data:===\\n\",train_data.cleaned[i],)"
      ],
      "execution_count": null,
      "outputs": [
        {
          "output_type": "stream",
          "text": [
            "Data samples after cleaning:\n",
            "\n",
            "Original Data:===\n",
            " Realme india product \n",
            "Cleaned Data:===\n",
            " realme india product\n",
            "Original Data:===\n",
            " I also don't have tiktok hello and allnBut I'm using xiaomi \n",
            "Cleaned Data:===\n",
            " i also dont have tiktok hello and allnbut im using xiaomi\n",
            "Original Data:===\n",
            " Thalaivare..neengale inum one plus mobile vachurukinga...adha udachurunga \n",
            "Cleaned Data:===\n",
            " thalaivareneengale inum one plus mobile vachurukingaadha udachurunga\n",
            "Original Data:===\n",
            " Annee varanda thondai.. corona virus affect pannum.. neenga pathukonga. Pause koduth pasuga anne. Thondaya varanda vidadhinga \n",
            "Cleaned Data:===\n",
            " annee varanda thondai corona virus affect pannum neenga pathukonga pause koduth pasuga anne thondaya varanda vidadhinga\n",
            "Original Data:===\n",
            " 5views but 18likes \n",
            "Cleaned Data:===\n",
            " 5views but 18likes\n",
            "Original Data:===\n",
            " China phone vakathiga inu evanga ellam tiktok la video poduravagal nChina  Phone vendam but China apps maittum use pannuvaga \n",
            "Cleaned Data:===\n",
            " china phone vakathiga inu evanga ellam tiktok la video poduravagal nchina phone vendam but china apps maittum use pannuvaga\n",
            "Original Data:===\n",
            " Cisco webex meetings bro \n",
            "Cleaned Data:===\n",
            " cisco webex meetings bro\n",
            "Original Data:===\n",
            " Yaaru madan gowriyaa ban panrenu sonnaaru? Yaarukita solringa \n",
            "Cleaned Data:===\n",
            " yaaru madan gowriyaa ban panrenu sonnaaru yaarukita solringa\n",
            "Original Data:===\n",
            " Sabaash semma aarambam \n",
            "Cleaned Data:===\n",
            " sabaash semma aarambam\n",
            "Original Data:===\n",
            " modiji group all no 1 proker group. stupid guy. \n",
            "Cleaned Data:===\n",
            " modiji group all no 1 proker group stupid guy\n"
          ],
          "name": "stdout"
        }
      ]
    },
    {
      "cell_type": "code",
      "metadata": {
        "colab": {
          "base_uri": "https://localhost:8080/"
        },
        "id": "Jz22UC4AD3Fn",
        "outputId": "35a51d44-d90a-409f-8e1f-f37c115d73a4"
      },
      "source": [
        "valid_data['cleaned'].shape"
      ],
      "execution_count": null,
      "outputs": [
        {
          "output_type": "execute_result",
          "data": {
            "text/plain": [
              "(2843,)"
            ]
          },
          "metadata": {
            "tags": []
          },
          "execution_count": 97
        }
      ]
    },
    {
      "cell_type": "markdown",
      "metadata": {
        "id": "PvzIXvkpD3Fo"
      },
      "source": [
        "## Data Statistics"
      ]
    },
    {
      "cell_type": "code",
      "metadata": {
        "id": "ETaaMghBD3Fo"
      },
      "source": [
        "def char_length(row):\n",
        "    return len(row.split())"
      ],
      "execution_count": null,
      "outputs": []
    },
    {
      "cell_type": "code",
      "metadata": {
        "id": "2EEhwUQvD3Fp"
      },
      "source": [
        "lables = ['Hope_speech', 'Non_hope_speech','not-Tamil']\n",
        "\n",
        "# Count number of unique words in each set\n",
        "def dataset_statistics(dataset):\n",
        "  for l in lables:\n",
        "    word_list = [word.strip() for t in list(dataset[dataset[l]==1.0].cleaned) for word in t.strip().split()]\n",
        "    print(f\"\\nClass Name:--> {l} \") \n",
        "    print(\"Number of Words:{}\".format(len(word_list))) \n",
        "    print(\"Number of Unique Words:{}\".format(len(np.unique(word_list)))) \n",
        "    print(\"Maximum post length: {}\".format(max(dataset[dataset[l]==1.0].cleaned.apply(char_length))))\n",
        "    print(\"Average Words in texts: {}\".format(np.mean(dataset[dataset[l]==1.0].cleaned.apply(char_length))))\n",
        "    "
      ],
      "execution_count": null,
      "outputs": []
    },
    {
      "cell_type": "code",
      "metadata": {
        "id": "B_rz3W8sD3Fp"
      },
      "source": [
        "train_data"
      ],
      "execution_count": null,
      "outputs": []
    },
    {
      "cell_type": "code",
      "metadata": {
        "colab": {
          "base_uri": "https://localhost:8080/"
        },
        "id": "7tsdqN2WD3Fp",
        "outputId": "e1f2c031-75cc-46a6-82f4-86e85648e03b"
      },
      "source": [
        "dataset_statistics(train_data)"
      ],
      "execution_count": null,
      "outputs": [
        {
          "output_type": "stream",
          "text": [
            "\n",
            "Class Name:--> Hope_speech \n",
            "Number of Words:56000\n",
            "Number of Unique Words:17274\n",
            "Maximum post length: 193\n",
            "Average Words in texts: 8.850956219377272\n",
            "\n",
            "Class Name:--> Non_hope_speech \n",
            "Number of Words:76302\n",
            "Number of Unique Words:23977\n",
            "Maximum post length: 176\n",
            "Average Words in texts: 9.692835365853659\n",
            "\n",
            "Class Name:--> not-Tamil \n",
            "Number of Words:7309\n",
            "Number of Unique Words:2093\n",
            "Maximum post length: 48\n",
            "Average Words in texts: 3.727180010198878\n"
          ],
          "name": "stdout"
        }
      ]
    },
    {
      "cell_type": "markdown",
      "metadata": {
        "id": "D2IgCBxAD3Fq"
      },
      "source": [
        "## Tweets length per class"
      ]
    },
    {
      "cell_type": "code",
      "metadata": {
        "id": "No14Q_eZD3Fq"
      },
      "source": [
        "def comments_length_per_class(dataset,set_name):\n",
        "  label = dataset[['Hope_speech', 'Non_hope_speech','not-Tamil']]\n",
        "  label = label.values\n",
        "  comment = dataset['cleaned']\n",
        "  comment = comment.values\n",
        "  y = np.zeros(label.shape)\n",
        "  for ix in range(comment.shape[0]):\n",
        "      l = len(comment[ix].split())\n",
        "      if label[ix][0] :\n",
        "          y[ix][0] = l\n",
        "      if label[ix][1] :\n",
        "          y[ix][1] = l\n",
        "  #color = ['red','green','blue','yellow','chartreuse'] \n",
        "  labelsplt = ['Hope_speech', 'Non_hope_speech','not-Tamil']\n",
        "  color = ['green','red','yellow']    \n",
        "  bins = [1,20,40,60,80]   \n",
        "  plt.figure(figsize=(5,3)) \n",
        "  #plt.title ('Tweets Length Distribution Per Class')\n",
        "  plt.hist(y,bins = bins,label = labelsplt,color = color)\n",
        "  plt.axis([0, 80, 0, 17000])\n",
        "  plt.xlabel('Length of texts')\n",
        "  plt.ylabel('Number of texts') \n",
        "  plt.legend()\n",
        "  #plt.savefig(path+'real-fake_no_title.png',dpi = 600,bbox_inches ='tight')\n",
        "  #plt.grid(True)\n",
        "  plt.show()"
      ],
      "execution_count": null,
      "outputs": []
    },
    {
      "cell_type": "markdown",
      "metadata": {
        "id": "SwL8EH78D3Fr"
      },
      "source": [
        "##Ktrain -BERT\n",
        "\n",
        "1. [Text Classification Using Transformers](https://nbviewer.jupyter.org/github/amaiya/ktrain/blob/master/tutorials/tutorial-A3-hugging_face_transformers.ipynb)\n",
        "\n",
        "2. [Related Article](https://towardsdatascience.com/text-classification-with-hugging-face-transformers-in-tensorflow-2-without-tears-ee50e4f3e7ed)\n",
        "\n",
        "3. [Ktrain](https://github.com/amaiya/ktrain)"
      ]
    },
    {
      "cell_type": "code",
      "metadata": {
        "id": "4mgG06EwD3Fr"
      },
      "source": [
        "pip install ktrain"
      ],
      "execution_count": null,
      "outputs": []
    },
    {
      "cell_type": "code",
      "metadata": {
        "id": "KTsVGIfED3Fr"
      },
      "source": [
        "%reload_ext autoreload\n",
        "%autoreload 2\n",
        "%matplotlib inline\n",
        "import os\n",
        "os.environ[\"CUDA_DEVICE_ORDER\"] = \"PCI_BUS_ID\"\n",
        "os.environ[\"CUDA_VISIBLE_DEVICES\"] = \"0\""
      ],
      "execution_count": null,
      "outputs": []
    },
    {
      "cell_type": "code",
      "metadata": {
        "id": "F2Q3VAyGD3Fs"
      },
      "source": [
        "import ktrain\n",
        "from ktrain import text"
      ],
      "execution_count": null,
      "outputs": []
    },
    {
      "cell_type": "code",
      "metadata": {
        "colab": {
          "base_uri": "https://localhost:8080/"
        },
        "id": "KDjaqACPD3Fs",
        "outputId": "1db8fbb4-4b75-4a06-8147-ca27fedfa46e"
      },
      "source": [
        "train_data['label'].value_counts()"
      ],
      "execution_count": null,
      "outputs": [
        {
          "output_type": "execute_result",
          "data": {
            "text/plain": [
              "Non_hope_speech    7872\n",
              "Hope_speech        6327\n",
              "not-Tamil          1961\n",
              "Name: label, dtype: int64"
            ]
          },
          "metadata": {
            "tags": []
          },
          "execution_count": 54
        }
      ]
    },
    {
      "cell_type": "code",
      "metadata": {
        "colab": {
          "base_uri": "https://localhost:8080/"
        },
        "id": "NI1UErV5D3Ft",
        "outputId": "a69f2ccc-6235-4d6a-9363-50cdbf5bfbbf"
      },
      "source": [
        "valid_data['label'].value_counts()"
      ],
      "execution_count": null,
      "outputs": [
        {
          "output_type": "execute_result",
          "data": {
            "text/plain": [
              "Non_hope_speech    998\n",
              "Hope_speech        757\n",
              "not-Tamil          263\n",
              "Name: label, dtype: int64"
            ]
          },
          "metadata": {
            "tags": []
          },
          "execution_count": 55
        }
      ]
    },
    {
      "cell_type": "code",
      "metadata": {
        "id": "40Ha9IPND3Fu"
      },
      "source": [
        "categories = ['Hope_speech','Non_hope_speech','not-Tamil']"
      ],
      "execution_count": null,
      "outputs": []
    },
    {
      "cell_type": "code",
      "metadata": {
        "id": "HG20DggKD3Fu"
      },
      "source": [
        "X_train = train_data['text'].tolist()\n",
        "y_train = train_data['label'].tolist()\n",
        "\n",
        "X_valid = valid_data['text'].tolist()\n",
        "y_valid = valid_data['label'].tolist()\n",
        "\n",
        "X_test = test_data['text'].tolist()\n",
        "#y_test = test_data['label'].tolist()"
      ],
      "execution_count": null,
      "outputs": []
    },
    {
      "cell_type": "code",
      "metadata": {
        "id": "tslBAbuAFgq2"
      },
      "source": [
        "# 'bert-base-uncased'\n",
        "# 'bert-base-multilingual-cased'\n",
        "# 'distilbert-base-uncased'\n",
        "# 'ai4bharat/indic-bert'\n",
        "# 'albert-base-v2'\n",
        "# 'xlm-roberta-base'\n",
        "# 'xlnet-base-cased'\n"
      ],
      "execution_count": null,
      "outputs": []
    },
    {
      "cell_type": "code",
      "metadata": {
        "colab": {
          "base_uri": "https://localhost:8080/",
          "height": 67,
          "referenced_widgets": [
            "2e9e712951b347bd90a6e7427332475a",
            "80cacc01b11b4fc6aff61d94cad5b71f",
            "2a8977828a954f1eb0792ff9a40fc44b",
            "8fb00ecc5760440e955285210a0b328a",
            "0fb94f5d569b47d88673eb3789b615e1",
            "c7d28dfe74494bf6adc85774065a4b42",
            "57f1d10afba745a19d54fea8bd1f44cf",
            "e0a442e59bed446f933c91363e701e22"
          ]
        },
        "id": "01qULZeQD3Fv",
        "outputId": "72feed22-9b32-4507-8f4d-b5168e18acf7"
      },
      "source": [
        "model_name = 'ai4bharat/indic-bert'\n",
        "trans = text.Transformer(model_name,maxlen=50,class_names=categories)"
      ],
      "execution_count": null,
      "outputs": [
        {
          "output_type": "display_data",
          "data": {
            "application/vnd.jupyter.widget-view+json": {
              "model_id": "2e9e712951b347bd90a6e7427332475a",
              "version_minor": 0,
              "version_major": 2
            },
            "text/plain": [
              "HBox(children=(FloatProgress(value=0.0, description='Downloading', max=507.0, style=ProgressStyle(description_…"
            ]
          },
          "metadata": {
            "tags": []
          }
        },
        {
          "output_type": "stream",
          "text": [
            "\n"
          ],
          "name": "stdout"
        }
      ]
    },
    {
      "cell_type": "code",
      "metadata": {
        "colab": {
          "base_uri": "https://localhost:8080/",
          "height": 304,
          "referenced_widgets": [
            "fd4b92e273ab4a788e075047e9f8a378",
            "19c5bbb1952745c68493388e78ddd7a6",
            "decc5143ef04496c884e656a42b39d24",
            "68cbcec2dc6a421e82d0d32ffbfa3a3a",
            "3146b35dd0664cbb829d5cb56d8b689b",
            "dbfc1ad1f787477d9edcfb051ed858f2",
            "1be57af00f324eb180e483373b52c19c",
            "b110ce9719b04e2c9a6ba98cb32017b6"
          ]
        },
        "id": "OfNvrXJOD3Fv",
        "outputId": "e74534ea-4db3-4d4e-981c-d130278ae781"
      },
      "source": [
        "train = trans.preprocess_train(X_train,y_train)\n",
        "valid = trans.preprocess_test(X_valid,y_valid)\n",
        "#test = trans.preprocess_test(X_test,y_test)\n"
      ],
      "execution_count": null,
      "outputs": [
        {
          "output_type": "stream",
          "text": [
            "preprocessing train...\n",
            "language: ta\n",
            "train sequence lengths:\n",
            "\tmean : 9\n",
            "\t95percentile : 23\n",
            "\t99percentile : 46\n"
          ],
          "name": "stdout"
        },
        {
          "output_type": "display_data",
          "data": {
            "application/vnd.jupyter.widget-view+json": {
              "model_id": "fd4b92e273ab4a788e075047e9f8a378",
              "version_minor": 0,
              "version_major": 2
            },
            "text/plain": [
              "HBox(children=(FloatProgress(value=0.0, description='Downloading', max=5646064.0, style=ProgressStyle(descript…"
            ]
          },
          "metadata": {
            "tags": []
          }
        },
        {
          "output_type": "stream",
          "text": [
            "\n"
          ],
          "name": "stdout"
        },
        {
          "output_type": "display_data",
          "data": {
            "text/html": [
              ""
            ],
            "text/plain": [
              "<IPython.core.display.HTML object>"
            ]
          },
          "metadata": {
            "tags": []
          }
        },
        {
          "output_type": "stream",
          "text": [
            "Is Multi-Label? False\n",
            "preprocessing test...\n",
            "language: ta\n",
            "test sequence lengths:\n",
            "\tmean : 9\n",
            "\t95percentile : 24\n",
            "\t99percentile : 48\n"
          ],
          "name": "stdout"
        },
        {
          "output_type": "display_data",
          "data": {
            "text/html": [
              ""
            ],
            "text/plain": [
              "<IPython.core.display.HTML object>"
            ]
          },
          "metadata": {
            "tags": []
          }
        }
      ]
    },
    {
      "cell_type": "code",
      "metadata": {
        "colab": {
          "base_uri": "https://localhost:8080/",
          "height": 85,
          "referenced_widgets": [
            "51a80146728e4fa6a3b4ead28842d766",
            "43b0a333b9af4502a78f0c06c434b6f3",
            "dbb212374f814a0284c55325b9ab3c23",
            "fffcfc527e8644688173a8b8e2da7840",
            "b051b37d2c464ab59ac061986d146841",
            "cf9561773d6a4c69b1d9f503a4a4e82e",
            "5fd3c20f916e49919be4a301afbc5cc9",
            "a9a224c086b64080be4f5a55da125c34"
          ]
        },
        "id": "ZuYZ0D-vD3Fw",
        "outputId": "c851a3aa-0706-4a3f-bf43-7e2b3ba19bb2"
      },
      "source": [
        "model = trans.get_classifier()"
      ],
      "execution_count": null,
      "outputs": [
        {
          "output_type": "stream",
          "text": [
            "404 Client Error: Not Found for url: https://huggingface.co/ai4bharat/indic-bert/resolve/main/tf_model.h5\n"
          ],
          "name": "stderr"
        },
        {
          "output_type": "display_data",
          "data": {
            "application/vnd.jupyter.widget-view+json": {
              "model_id": "51a80146728e4fa6a3b4ead28842d766",
              "version_minor": 0,
              "version_major": 2
            },
            "text/plain": [
              "HBox(children=(FloatProgress(value=0.0, description='Downloading', max=134982446.0, style=ProgressStyle(descri…"
            ]
          },
          "metadata": {
            "tags": []
          }
        },
        {
          "output_type": "stream",
          "text": [
            "\n"
          ],
          "name": "stdout"
        }
      ]
    },
    {
      "cell_type": "code",
      "metadata": {
        "id": "BzWfhl2aD3Fw"
      },
      "source": [
        "learner = ktrain.get_learner(model, train_data=train,val_data=valid, batch_size=12)"
      ],
      "execution_count": null,
      "outputs": []
    },
    {
      "cell_type": "code",
      "metadata": {
        "colab": {
          "base_uri": "https://localhost:8080/"
        },
        "id": "d2f9UBk-D3Fx",
        "outputId": "9975c8ca-7f89-4b02-c450-56da7d666cad"
      },
      "source": [
        "learner.lr_find(show_plot = True,max_epochs=10)"
      ],
      "execution_count": null,
      "outputs": [
        {
          "output_type": "stream",
          "text": [
            "simulating training for different learning rates... this may take a few moments...\n"
          ],
          "name": "stdout"
        }
      ]
    },
    {
      "cell_type": "code",
      "metadata": {
        "colab": {
          "base_uri": "https://localhost:8080/"
        },
        "id": "qs56sUXUD3Fx",
        "outputId": "33be0060-97fb-4bef-b21b-877817b1241d"
      },
      "source": [
        "from sklearn.utils import class_weight\n",
        "class_weights = class_weight.compute_class_weight('balanced'\n",
        "                                               ,np.unique(y_train)\n",
        "                                               ,y_train)\n",
        "\n",
        "weight = {i : class_weights[i] for i in range(3)}\n",
        "weight"
      ],
      "execution_count": null,
      "outputs": [
        {
          "output_type": "execute_result",
          "data": {
            "text/plain": [
              "{0: 1.7114308553157473, 1: 0.4600590921300027, 2: 4.131210805595755}"
            ]
          },
          "metadata": {
            "tags": []
          },
          "execution_count": 88
        }
      ]
    },
    {
      "cell_type": "code",
      "metadata": {
        "colab": {
          "base_uri": "https://localhost:8080/"
        },
        "id": "CfC_y5vnD3Fy",
        "outputId": "20f38090-5fb3-46f8-981c-53e52a2fb784"
      },
      "source": [
        "learner.fit_onecycle(2e-5,5)  # 2e-5"
      ],
      "execution_count": null,
      "outputs": [
        {
          "output_type": "stream",
          "text": [
            "\n",
            "\n",
            "begin training using onecycle policy with max lr of 2e-05...\n",
            "Epoch 1/5\n",
            "1347/1347 [==============================] - 184s 119ms/step - loss: 0.9426 - accuracy: 0.4779 - val_loss: 0.8204 - val_accuracy: 0.5535\n",
            "Epoch 2/5\n",
            "1347/1347 [==============================] - 160s 116ms/step - loss: 0.8060 - accuracy: 0.5561 - val_loss: 0.7879 - val_accuracy: 0.5842\n",
            "Epoch 3/5\n",
            "1347/1347 [==============================] - 160s 116ms/step - loss: 0.7772 - accuracy: 0.5831 - val_loss: 0.7829 - val_accuracy: 0.6001\n",
            "Epoch 4/5\n",
            "1347/1347 [==============================] - 160s 116ms/step - loss: 0.7251 - accuracy: 0.6318 - val_loss: 0.7711 - val_accuracy: 0.6095\n",
            "Epoch 5/5\n",
            "1347/1347 [==============================] - 160s 116ms/step - loss: 0.6566 - accuracy: 0.6840 - val_loss: 0.7708 - val_accuracy: 0.6234\n"
          ],
          "name": "stdout"
        },
        {
          "output_type": "execute_result",
          "data": {
            "text/plain": [
              "<tensorflow.python.keras.callbacks.History at 0x7f2441fe4860>"
            ]
          },
          "metadata": {
            "tags": []
          },
          "execution_count": 170
        }
      ]
    },
    {
      "cell_type": "code",
      "metadata": {
        "colab": {
          "base_uri": "https://localhost:8080/"
        },
        "id": "l6K1e1VZD3Fy",
        "outputId": "7eeaaffb-6b86-42dc-baaf-b39f90775df3"
      },
      "source": [
        "learner.validate(class_names=categories)"
      ],
      "execution_count": null,
      "outputs": [
        {
          "output_type": "stream",
          "text": [
            "                 precision    recall  f1-score   support\n",
            "\n",
            "    Hope_speech       0.60      0.43      0.50       757\n",
            "Non_hope_speech       0.65      0.73      0.69       998\n",
            "      not-Tamil       0.57      0.78      0.66       263\n",
            "\n",
            "       accuracy                           0.62      2018\n",
            "      macro avg       0.61      0.65      0.62      2018\n",
            "   weighted avg       0.62      0.62      0.61      2018\n",
            "\n"
          ],
          "name": "stdout"
        },
        {
          "output_type": "execute_result",
          "data": {
            "text/plain": [
              "array([[328, 355,  74],\n",
              "       [193, 725,  80],\n",
              "       [ 27,  31, 205]])"
            ]
          },
          "metadata": {
            "tags": []
          },
          "execution_count": 171
        }
      ]
    },
    {
      "cell_type": "code",
      "metadata": {
        "id": "QThPLI2OD3Fz"
      },
      "source": [
        "predictor = ktrain.get_predictor(learner.model, preproc=trans)"
      ],
      "execution_count": null,
      "outputs": []
    },
    {
      "cell_type": "code",
      "metadata": {
        "id": "2jhbUx9iD3Fz"
      },
      "source": [
        "# Save and load the model\n",
        "predictor.save(folder_path+'Transformers_Models'+'/ta_indic-bert_predictor')\n"
      ],
      "execution_count": null,
      "outputs": []
    },
    {
      "cell_type": "code",
      "metadata": {
        "id": "Oy_beSCTD3Fz"
      },
      "source": [
        "predictor = ktrain.load_predictor(folder_path+'Transformers_Models'+'/ta_xlm-r_predictor')"
      ],
      "execution_count": null,
      "outputs": []
    },
    {
      "cell_type": "code",
      "metadata": {
        "id": "77QATpEXD3F0"
      },
      "source": [
        "y_pred = predictor.predict(X_test)\n",
        "y_pred"
      ],
      "execution_count": null,
      "outputs": []
    },
    {
      "cell_type": "code",
      "metadata": {
        "id": "PmMFoS8jD3F0"
      },
      "source": [
        "test_data['id'] = test_data.index+1"
      ],
      "execution_count": null,
      "outputs": []
    },
    {
      "cell_type": "code",
      "metadata": {
        "id": "boo8MZbQD3F0"
      },
      "source": [
        "run = pd.DataFrame(test_data['id'])\n",
        "run['text'] = test_data['text']\n",
        "run['label'] = y_pred\n",
        "run"
      ],
      "execution_count": null,
      "outputs": []
    },
    {
      "cell_type": "code",
      "metadata": {
        "colab": {
          "base_uri": "https://localhost:8080/"
        },
        "id": "PZDoDU4-RDM5",
        "outputId": "a4e5f39d-0ad6-4b46-9e89-87fcbc00bc89"
      },
      "source": [
        "run['label'].value_counts()"
      ],
      "execution_count": null,
      "outputs": [
        {
          "output_type": "execute_result",
          "data": {
            "text/plain": [
              "Non_hope_speech    1142\n",
              "Hope_speech         524\n",
              "not-Tamil           354\n",
              "Name: label, dtype: int64"
            ]
          },
          "metadata": {
            "tags": []
          },
          "execution_count": 177
        }
      ]
    },
    {
      "cell_type": "code",
      "metadata": {
        "colab": {
          "base_uri": "https://localhost:8080/"
        },
        "id": "mepyqHAwNLJO",
        "outputId": "56f5ecd4-91ba-4ba6-df5a-df4275b2085a"
      },
      "source": [
        "run['label'].value_counts()"
      ],
      "execution_count": null,
      "outputs": [
        {
          "output_type": "execute_result",
          "data": {
            "text/plain": [
              "Non_hope_speech    1043\n",
              "Hope_speech         615\n",
              "not-Tamil           362\n",
              "Name: label, dtype: int64"
            ]
          },
          "metadata": {
            "tags": []
          },
          "execution_count": 75
        }
      ]
    },
    {
      "cell_type": "code",
      "metadata": {
        "id": "ttEKc_m6D3F1"
      },
      "source": [
        "run.to_csv(folder_path +'tamil_indic-bert.tsv',sep = '\\t',index = False)"
      ],
      "execution_count": null,
      "outputs": []
    },
    {
      "cell_type": "markdown",
      "metadata": {
        "id": "iBDyfsVtD3F1"
      },
      "source": [
        "##Machine Learning"
      ]
    },
    {
      "cell_type": "code",
      "metadata": {
        "id": "0mIY-d80D3F3"
      },
      "source": [
        "def print_metrices(pred,true):\n",
        "    print(confusion_matrix(true,pred))\n",
        "    print(classification_report(true,pred,))\n",
        "    print(\"Accuracy : \",accuracy_score(pred,true))\n",
        "    print(\"Precison : \",precision_score(pred,true, average = 'weighted'))\n",
        "    print(\"Recall : \",recall_score(pred,true,  average = 'weighted'))\n",
        "    print(\"F1 : \",f1_score(pred,true,  average = 'weighted'))"
      ],
      "execution_count": null,
      "outputs": []
    },
    {
      "cell_type": "code",
      "metadata": {
        "colab": {
          "base_uri": "https://localhost:8080/"
        },
        "id": "Abz_JUbdD3F3",
        "outputId": "ccf3d4fd-1010-4ccc-e31c-ec419ef3686c"
      },
      "source": [
        "## TF-IDF\n",
        "from sklearn.feature_extraction.text import TfidfVectorizer\n",
        "from sklearn import metrics\n",
        "#use_idf=True,tokenizer=lambda x: x.split()\n",
        "vectorizer = TfidfVectorizer(tokenizer=lambda x: x.split())\n",
        "vectorised_posts = vectorizer.fit_transform(train_data['cleaned'])\n",
        "vectorized_train_posts = vectorizer.transform(train_data['cleaned'])\n",
        "vectorized_valid_posts = vectorizer.transform(valid_data['cleaned'])\n",
        "vectorized_test_posts = vectorizer.transform(test_data['cleaned'])\n",
        "\n",
        "print(\"Feature Size: \", vectorized_train_posts.shape[1])\n",
        "#vectorizer.vocabulary_"
      ],
      "execution_count": null,
      "outputs": [
        {
          "output_type": "stream",
          "text": [
            "Feature Size:  35435\n"
          ],
          "name": "stdout"
        }
      ]
    },
    {
      "cell_type": "code",
      "metadata": {
        "colab": {
          "base_uri": "https://localhost:8080/"
        },
        "id": "OTBje4gXD3F4",
        "outputId": "b10c7306-5f10-4f3c-94cf-ac281a9ce2ca"
      },
      "source": [
        "vectorized_valid_posts.shape"
      ],
      "execution_count": null,
      "outputs": [
        {
          "output_type": "execute_result",
          "data": {
            "text/plain": [
              "(2843, 20798)"
            ]
          },
          "metadata": {
            "tags": []
          },
          "execution_count": 86
        }
      ]
    },
    {
      "cell_type": "code",
      "metadata": {
        "colab": {
          "base_uri": "https://localhost:8080/"
        },
        "id": "xTGfDCdQD3F4",
        "outputId": "424b15ff-490b-47a9-88e7-50a76c602850"
      },
      "source": [
        "valid_data['label'].value_counts()"
      ],
      "execution_count": null,
      "outputs": [
        {
          "output_type": "execute_result",
          "data": {
            "text/plain": [
              "Non_hope_speech    998\n",
              "Hope_speech        757\n",
              "not-Tamil          263\n",
              "Name: label, dtype: int64"
            ]
          },
          "metadata": {
            "tags": []
          },
          "execution_count": 94
        }
      ]
    },
    {
      "cell_type": "code",
      "metadata": {
        "id": "GBuG7TyiD3F5"
      },
      "source": [
        "labels = ['Non_hope_speech','Hope_speech', 'not-Tamil']\n",
        "def actual_label(row):\n",
        "    return labels[row]"
      ],
      "execution_count": null,
      "outputs": []
    },
    {
      "cell_type": "markdown",
      "metadata": {
        "id": "k-tabaxkD3F5"
      },
      "source": [
        "### Logistic Regression"
      ]
    },
    {
      "cell_type": "code",
      "metadata": {
        "colab": {
          "base_uri": "https://localhost:8080/"
        },
        "id": "mrCrIl5CD3F5",
        "outputId": "1e54c195-d596-49ca-b78c-8c6a330bc43a"
      },
      "source": [
        "# After Tunning\n",
        "# Optimum C = 100 \n",
        "lr = LogisticRegression(class_weight='balanced',C =5)\n",
        "lr.fit(vectorized_train_posts,train_data['enc_label'])\n",
        "y_pred = lr.predict(vectorized_valid_posts)\n",
        "print_metrices(y_pred,valid_data['enc_label'])"
      ],
      "execution_count": null,
      "outputs": [
        {
          "output_type": "stream",
          "text": [
            "[[633 259 106]\n",
            " [274 374 109]\n",
            " [ 41  36 186]]\n",
            "              precision    recall  f1-score   support\n",
            "\n",
            "           0       0.67      0.63      0.65       998\n",
            "           1       0.56      0.49      0.52       757\n",
            "           2       0.46      0.71      0.56       263\n",
            "\n",
            "    accuracy                           0.59      2018\n",
            "   macro avg       0.56      0.61      0.58      2018\n",
            "weighted avg       0.60      0.59      0.59      2018\n",
            "\n",
            "Accuracy :  0.591179385530228\n",
            "Precison :  0.6022827794304015\n",
            "Recall :  0.591179385530228\n",
            "F1 :  0.5908387269846901\n"
          ],
          "name": "stdout"
        }
      ]
    },
    {
      "cell_type": "code",
      "metadata": {
        "id": "8hUlB7PSD3F5"
      },
      "source": [
        "test_pred = lr.predict(vectorized_test_posts).tolist()\n",
        "test_data['id'] = test_data.index + 1"
      ],
      "execution_count": null,
      "outputs": []
    },
    {
      "cell_type": "code",
      "metadata": {
        "colab": {
          "base_uri": "https://localhost:8080/",
          "height": 407
        },
        "id": "ysasx_EQD3F6",
        "outputId": "91186919-e709-4e4d-beae-5e7e113f5845"
      },
      "source": [
        "run = pd.DataFrame(test_data['id'])\n",
        "run['text'] = test_data['text']\n",
        "run['label'] = test_pred\n",
        "run['label'] = run['label'].apply(actual_label)\n",
        "run "
      ],
      "execution_count": null,
      "outputs": [
        {
          "output_type": "execute_result",
          "data": {
            "text/html": [
              "<div>\n",
              "<style scoped>\n",
              "    .dataframe tbody tr th:only-of-type {\n",
              "        vertical-align: middle;\n",
              "    }\n",
              "\n",
              "    .dataframe tbody tr th {\n",
              "        vertical-align: top;\n",
              "    }\n",
              "\n",
              "    .dataframe thead th {\n",
              "        text-align: right;\n",
              "    }\n",
              "</style>\n",
              "<table border=\"1\" class=\"dataframe\">\n",
              "  <thead>\n",
              "    <tr style=\"text-align: right;\">\n",
              "      <th></th>\n",
              "      <th>id</th>\n",
              "      <th>text</th>\n",
              "      <th>label</th>\n",
              "    </tr>\n",
              "  </thead>\n",
              "  <tbody>\n",
              "    <tr>\n",
              "      <th>0</th>\n",
              "      <td>1</td>\n",
              "      <td>Konjam methuva pesuninganna nalarukum bro...</td>\n",
              "      <td>Non_hope_speech</td>\n",
              "    </tr>\n",
              "    <tr>\n",
              "      <th>1</th>\n",
              "      <td>2</td>\n",
              "      <td>Sema bro............. தமிழன் என்று சொல்லடா தலை...</td>\n",
              "      <td>Non_hope_speech</td>\n",
              "    </tr>\n",
              "    <tr>\n",
              "      <th>2</th>\n",
              "      <td>3</td>\n",
              "      <td>9.52 mg bro  plz crrt pannunga bro</td>\n",
              "      <td>Hope_speech</td>\n",
              "    </tr>\n",
              "    <tr>\n",
              "      <th>3</th>\n",
              "      <td>4</td>\n",
              "      <td>Superb anna</td>\n",
              "      <td>Hope_speech</td>\n",
              "    </tr>\n",
              "    <tr>\n",
              "      <th>4</th>\n",
              "      <td>5</td>\n",
              "      <td>Central Government kitta irunthu neraiya fund ...</td>\n",
              "      <td>Non_hope_speech</td>\n",
              "    </tr>\n",
              "    <tr>\n",
              "      <th>...</th>\n",
              "      <td>...</td>\n",
              "      <td>...</td>\n",
              "      <td>...</td>\n",
              "    </tr>\n",
              "    <tr>\n",
              "      <th>2015</th>\n",
              "      <td>2016</td>\n",
              "      <td>Solunga bro parvala</td>\n",
              "      <td>Non_hope_speech</td>\n",
              "    </tr>\n",
              "    <tr>\n",
              "      <th>2016</th>\n",
              "      <td>2017</td>\n",
              "      <td>Madangowri anna 9.53s  time note pannunga Indi...</td>\n",
              "      <td>Non_hope_speech</td>\n",
              "    </tr>\n",
              "    <tr>\n",
              "      <th>2017</th>\n",
              "      <td>2018</td>\n",
              "      <td>Enna nadu vanthu vaccine kudaka matadragalo an...</td>\n",
              "      <td>Hope_speech</td>\n",
              "    </tr>\n",
              "    <tr>\n",
              "      <th>2018</th>\n",
              "      <td>2019</td>\n",
              "      <td>Yes..ipdii thaan avangaluku bathil kudukanu......</td>\n",
              "      <td>Hope_speech</td>\n",
              "    </tr>\n",
              "    <tr>\n",
              "      <th>2019</th>\n",
              "      <td>2020</td>\n",
              "      <td>No views .. but 390 likes 🤣... MG squad</td>\n",
              "      <td>not-Tamil</td>\n",
              "    </tr>\n",
              "  </tbody>\n",
              "</table>\n",
              "<p>2020 rows × 3 columns</p>\n",
              "</div>"
            ],
            "text/plain": [
              "        id                                               text            label\n",
              "0        1       Konjam methuva pesuninganna nalarukum bro...  Non_hope_speech\n",
              "1        2  Sema bro............. தமிழன் என்று சொல்லடா தலை...  Non_hope_speech\n",
              "2        3                 9.52 mg bro  plz crrt pannunga bro      Hope_speech\n",
              "3        4                                        Superb anna      Hope_speech\n",
              "4        5  Central Government kitta irunthu neraiya fund ...  Non_hope_speech\n",
              "...    ...                                                ...              ...\n",
              "2015  2016                                Solunga bro parvala  Non_hope_speech\n",
              "2016  2017  Madangowri anna 9.53s  time note pannunga Indi...  Non_hope_speech\n",
              "2017  2018  Enna nadu vanthu vaccine kudaka matadragalo an...      Hope_speech\n",
              "2018  2019  Yes..ipdii thaan avangaluku bathil kudukanu......      Hope_speech\n",
              "2019  2020            No views .. but 390 likes 🤣... MG squad        not-Tamil\n",
              "\n",
              "[2020 rows x 3 columns]"
            ]
          },
          "metadata": {
            "tags": []
          },
          "execution_count": 98
        }
      ]
    },
    {
      "cell_type": "code",
      "metadata": {
        "colab": {
          "base_uri": "https://localhost:8080/"
        },
        "id": "cexmV6ChSEs6",
        "outputId": "714adb84-2aa7-4f37-cd78-48fbd1547653"
      },
      "source": [
        "run['label'].value_counts()"
      ],
      "execution_count": null,
      "outputs": [
        {
          "output_type": "execute_result",
          "data": {
            "text/plain": [
              "Non_hope_speech    945\n",
              "Hope_speech        691\n",
              "not-Tamil          384\n",
              "Name: label, dtype: int64"
            ]
          },
          "metadata": {
            "tags": []
          },
          "execution_count": 103
        }
      ]
    },
    {
      "cell_type": "code",
      "metadata": {
        "id": "i6Mgx0IxD3F6"
      },
      "source": [
        "run.to_csv(folder_path +'tamil_lr.tsv',sep = '\\t',index = False)"
      ],
      "execution_count": null,
      "outputs": []
    },
    {
      "cell_type": "markdown",
      "metadata": {
        "id": "qXMPKgx-D3F6"
      },
      "source": [
        "### SVM"
      ]
    },
    {
      "cell_type": "code",
      "metadata": {
        "colab": {
          "base_uri": "https://localhost:8080/"
        },
        "id": "mpHwlejHD3F6",
        "outputId": "8913f33a-be8c-4cc5-c3d6-42633b4b6cb6"
      },
      "source": [
        "## SVM\n",
        "from sklearn.svm import SVC\n",
        "svc =  SVC(C= 0.5, kernel='linear' ,random_state=1234,class_weight='balanced')\n",
        "svc.fit(vectorized_train_posts,train_data['enc_label'])\n",
        "y_pred = svc.predict(vectorized_valid_posts)\n",
        "print_metrices(y_pred,valid_data['enc_label'])"
      ],
      "execution_count": null,
      "outputs": [
        {
          "output_type": "stream",
          "text": [
            "[[688 191 119]\n",
            " [324 309 124]\n",
            " [ 43  25 195]]\n",
            "              precision    recall  f1-score   support\n",
            "\n",
            "           0       0.65      0.69      0.67       998\n",
            "           1       0.59      0.41      0.48       757\n",
            "           2       0.45      0.74      0.56       263\n",
            "\n",
            "    accuracy                           0.59      2018\n",
            "   macro avg       0.56      0.61      0.57      2018\n",
            "weighted avg       0.60      0.59      0.58      2018\n",
            "\n",
            "Accuracy :  0.5906838453914767\n",
            "Precison :  0.6275259211045525\n",
            "Recall :  0.5906838453914767\n",
            "F1 :  0.5965626273420619\n"
          ],
          "name": "stdout"
        }
      ]
    },
    {
      "cell_type": "code",
      "metadata": {
        "id": "u83FhfHKD3F7"
      },
      "source": [
        "test_pred = svc.predict(vectorized_test_posts).tolist()\n",
        "test_data['id'] = test_data.index + 1"
      ],
      "execution_count": null,
      "outputs": []
    },
    {
      "cell_type": "code",
      "metadata": {
        "colab": {
          "base_uri": "https://localhost:8080/",
          "height": 407
        },
        "id": "S_PWLuWYD3F7",
        "outputId": "99975ce8-d8bf-44aa-ac5e-2d73fb7d2d8a"
      },
      "source": [
        "run = pd.DataFrame(test_data['id'])\n",
        "run['text'] = test_data['text']\n",
        "run['label'] = test_pred\n",
        "run['label'] = run['label'].apply(actual_label)\n",
        "run "
      ],
      "execution_count": null,
      "outputs": [
        {
          "output_type": "execute_result",
          "data": {
            "text/html": [
              "<div>\n",
              "<style scoped>\n",
              "    .dataframe tbody tr th:only-of-type {\n",
              "        vertical-align: middle;\n",
              "    }\n",
              "\n",
              "    .dataframe tbody tr th {\n",
              "        vertical-align: top;\n",
              "    }\n",
              "\n",
              "    .dataframe thead th {\n",
              "        text-align: right;\n",
              "    }\n",
              "</style>\n",
              "<table border=\"1\" class=\"dataframe\">\n",
              "  <thead>\n",
              "    <tr style=\"text-align: right;\">\n",
              "      <th></th>\n",
              "      <th>id</th>\n",
              "      <th>text</th>\n",
              "      <th>label</th>\n",
              "    </tr>\n",
              "  </thead>\n",
              "  <tbody>\n",
              "    <tr>\n",
              "      <th>0</th>\n",
              "      <td>1</td>\n",
              "      <td>Konjam methuva pesuninganna nalarukum bro...</td>\n",
              "      <td>Non_hope_speech</td>\n",
              "    </tr>\n",
              "    <tr>\n",
              "      <th>1</th>\n",
              "      <td>2</td>\n",
              "      <td>Sema bro............. தமிழன் என்று சொல்லடா தலை...</td>\n",
              "      <td>Non_hope_speech</td>\n",
              "    </tr>\n",
              "    <tr>\n",
              "      <th>2</th>\n",
              "      <td>3</td>\n",
              "      <td>9.52 mg bro  plz crrt pannunga bro</td>\n",
              "      <td>Hope_speech</td>\n",
              "    </tr>\n",
              "    <tr>\n",
              "      <th>3</th>\n",
              "      <td>4</td>\n",
              "      <td>Superb anna</td>\n",
              "      <td>Hope_speech</td>\n",
              "    </tr>\n",
              "    <tr>\n",
              "      <th>4</th>\n",
              "      <td>5</td>\n",
              "      <td>Central Government kitta irunthu neraiya fund ...</td>\n",
              "      <td>Non_hope_speech</td>\n",
              "    </tr>\n",
              "    <tr>\n",
              "      <th>...</th>\n",
              "      <td>...</td>\n",
              "      <td>...</td>\n",
              "      <td>...</td>\n",
              "    </tr>\n",
              "    <tr>\n",
              "      <th>2015</th>\n",
              "      <td>2016</td>\n",
              "      <td>Solunga bro parvala</td>\n",
              "      <td>Non_hope_speech</td>\n",
              "    </tr>\n",
              "    <tr>\n",
              "      <th>2016</th>\n",
              "      <td>2017</td>\n",
              "      <td>Madangowri anna 9.53s  time note pannunga Indi...</td>\n",
              "      <td>Hope_speech</td>\n",
              "    </tr>\n",
              "    <tr>\n",
              "      <th>2017</th>\n",
              "      <td>2018</td>\n",
              "      <td>Enna nadu vanthu vaccine kudaka matadragalo an...</td>\n",
              "      <td>Non_hope_speech</td>\n",
              "    </tr>\n",
              "    <tr>\n",
              "      <th>2018</th>\n",
              "      <td>2019</td>\n",
              "      <td>Yes..ipdii thaan avangaluku bathil kudukanu......</td>\n",
              "      <td>Hope_speech</td>\n",
              "    </tr>\n",
              "    <tr>\n",
              "      <th>2019</th>\n",
              "      <td>2020</td>\n",
              "      <td>No views .. but 390 likes 🤣... MG squad</td>\n",
              "      <td>not-Tamil</td>\n",
              "    </tr>\n",
              "  </tbody>\n",
              "</table>\n",
              "<p>2020 rows × 3 columns</p>\n",
              "</div>"
            ],
            "text/plain": [
              "        id                                               text            label\n",
              "0        1       Konjam methuva pesuninganna nalarukum bro...  Non_hope_speech\n",
              "1        2  Sema bro............. தமிழன் என்று சொல்லடா தலை...  Non_hope_speech\n",
              "2        3                 9.52 mg bro  plz crrt pannunga bro      Hope_speech\n",
              "3        4                                        Superb anna      Hope_speech\n",
              "4        5  Central Government kitta irunthu neraiya fund ...  Non_hope_speech\n",
              "...    ...                                                ...              ...\n",
              "2015  2016                                Solunga bro parvala  Non_hope_speech\n",
              "2016  2017  Madangowri anna 9.53s  time note pannunga Indi...      Hope_speech\n",
              "2017  2018  Enna nadu vanthu vaccine kudaka matadragalo an...  Non_hope_speech\n",
              "2018  2019  Yes..ipdii thaan avangaluku bathil kudukanu......      Hope_speech\n",
              "2019  2020            No views .. but 390 likes 🤣... MG squad        not-Tamil\n",
              "\n",
              "[2020 rows x 3 columns]"
            ]
          },
          "metadata": {
            "tags": []
          },
          "execution_count": 105
        }
      ]
    },
    {
      "cell_type": "code",
      "metadata": {
        "colab": {
          "base_uri": "https://localhost:8080/"
        },
        "id": "orjVZYBPD3F7",
        "outputId": "01fc0d0b-703d-42e3-f1f9-6dfe6625cf40"
      },
      "source": [
        "run['label'].value_counts()"
      ],
      "execution_count": null,
      "outputs": [
        {
          "output_type": "execute_result",
          "data": {
            "text/plain": [
              "Non_hope_speech    1068\n",
              "Hope_speech         534\n",
              "not-Tamil           418\n",
              "Name: label, dtype: int64"
            ]
          },
          "metadata": {
            "tags": []
          },
          "execution_count": 106
        }
      ]
    },
    {
      "cell_type": "code",
      "metadata": {
        "id": "mb9DpL0oD3F8"
      },
      "source": [
        "run.to_csv(folder_path +'tamil_svm.tsv',sep = '\\t',index = False)"
      ],
      "execution_count": null,
      "outputs": []
    },
    {
      "cell_type": "markdown",
      "metadata": {
        "id": "wy9gPm9LD3F8"
      },
      "source": [
        "### Ensemble Appraoch (Majority Voting)"
      ]
    },
    {
      "cell_type": "code",
      "metadata": {
        "colab": {
          "base_uri": "https://localhost:8080/"
        },
        "id": "5VKbYDxqD3F8",
        "outputId": "81ce6c43-5cbb-449a-9810-cc656c718e12"
      },
      "source": [
        "\n",
        "LogReg_clf = LogisticRegression(class_weight='balanced')\n",
        "DTree_clf = DecisionTreeClassifier(class_weight='balanced')\n",
        "rt_clf =   RandomForestClassifier(class_weight='balanced')\n",
        "SVC_clf = SVC(C = 5,class_weight='balanced')\n",
        "\n",
        "\n",
        "voting_clf = VotingClassifier(estimators=[('SVC', SVC_clf), ('DTree', DTree_clf), ('LogReg', LogReg_clf),('RF', rt_clf)], voting='hard')\n",
        "voting_clf.fit(vectorized_train_posts, train_data['enc_label'])\n",
        "preds = voting_clf.predict(vectorized_valid_posts)\n",
        "print_metrices(valid_data['enc_label'], preds)\n"
      ],
      "execution_count": null,
      "outputs": [
        {
          "output_type": "stream",
          "text": [
            "[[743 359  57]\n",
            " [189 319  52]\n",
            " [ 66  79 154]]\n",
            "              precision    recall  f1-score   support\n",
            "\n",
            "           0       0.74      0.64      0.69      1159\n",
            "           1       0.42      0.57      0.48       560\n",
            "           2       0.59      0.52      0.55       299\n",
            "\n",
            "    accuracy                           0.60      2018\n",
            "   macro avg       0.58      0.58      0.57      2018\n",
            "weighted avg       0.63      0.60      0.61      2018\n",
            "\n",
            "Accuracy :  0.6025768087215064\n",
            "Precison :  0.5978521233378331\n",
            "Recall :  0.6025768087215064\n",
            "F1 :  0.5938523133298137\n"
          ],
          "name": "stdout"
        }
      ]
    },
    {
      "cell_type": "code",
      "metadata": {
        "id": "h2V7NL0yD3F9"
      },
      "source": [
        "test_pred = voting_clf.predict(vectorized_test_posts).tolist()\n",
        "test_data['id'] = test_data.index + 1"
      ],
      "execution_count": null,
      "outputs": []
    },
    {
      "cell_type": "code",
      "metadata": {
        "colab": {
          "base_uri": "https://localhost:8080/",
          "height": 407
        },
        "id": "C5s7kDzfD3F9",
        "outputId": "3c56e3e4-77be-484c-8510-4ae0ca02ec34"
      },
      "source": [
        "run = pd.DataFrame(test_data['id'])\n",
        "run['text'] = test_data['text']\n",
        "run['label'] = test_pred\n",
        "run['label'] = run['label'].apply(actual_label)\n",
        "run "
      ],
      "execution_count": null,
      "outputs": [
        {
          "output_type": "execute_result",
          "data": {
            "text/html": [
              "<div>\n",
              "<style scoped>\n",
              "    .dataframe tbody tr th:only-of-type {\n",
              "        vertical-align: middle;\n",
              "    }\n",
              "\n",
              "    .dataframe tbody tr th {\n",
              "        vertical-align: top;\n",
              "    }\n",
              "\n",
              "    .dataframe thead th {\n",
              "        text-align: right;\n",
              "    }\n",
              "</style>\n",
              "<table border=\"1\" class=\"dataframe\">\n",
              "  <thead>\n",
              "    <tr style=\"text-align: right;\">\n",
              "      <th></th>\n",
              "      <th>id</th>\n",
              "      <th>text</th>\n",
              "      <th>label</th>\n",
              "    </tr>\n",
              "  </thead>\n",
              "  <tbody>\n",
              "    <tr>\n",
              "      <th>0</th>\n",
              "      <td>1</td>\n",
              "      <td>Konjam methuva pesuninganna nalarukum bro...</td>\n",
              "      <td>Non_hope_speech</td>\n",
              "    </tr>\n",
              "    <tr>\n",
              "      <th>1</th>\n",
              "      <td>2</td>\n",
              "      <td>Sema bro............. தமிழன் என்று சொல்லடா தலை...</td>\n",
              "      <td>Non_hope_speech</td>\n",
              "    </tr>\n",
              "    <tr>\n",
              "      <th>2</th>\n",
              "      <td>3</td>\n",
              "      <td>9.52 mg bro  plz crrt pannunga bro</td>\n",
              "      <td>Hope_speech</td>\n",
              "    </tr>\n",
              "    <tr>\n",
              "      <th>3</th>\n",
              "      <td>4</td>\n",
              "      <td>Superb anna</td>\n",
              "      <td>Hope_speech</td>\n",
              "    </tr>\n",
              "    <tr>\n",
              "      <th>4</th>\n",
              "      <td>5</td>\n",
              "      <td>Central Government kitta irunthu neraiya fund ...</td>\n",
              "      <td>Non_hope_speech</td>\n",
              "    </tr>\n",
              "    <tr>\n",
              "      <th>...</th>\n",
              "      <td>...</td>\n",
              "      <td>...</td>\n",
              "      <td>...</td>\n",
              "    </tr>\n",
              "    <tr>\n",
              "      <th>2015</th>\n",
              "      <td>2016</td>\n",
              "      <td>Solunga bro parvala</td>\n",
              "      <td>Non_hope_speech</td>\n",
              "    </tr>\n",
              "    <tr>\n",
              "      <th>2016</th>\n",
              "      <td>2017</td>\n",
              "      <td>Madangowri anna 9.53s  time note pannunga Indi...</td>\n",
              "      <td>Non_hope_speech</td>\n",
              "    </tr>\n",
              "    <tr>\n",
              "      <th>2017</th>\n",
              "      <td>2018</td>\n",
              "      <td>Enna nadu vanthu vaccine kudaka matadragalo an...</td>\n",
              "      <td>Non_hope_speech</td>\n",
              "    </tr>\n",
              "    <tr>\n",
              "      <th>2018</th>\n",
              "      <td>2019</td>\n",
              "      <td>Yes..ipdii thaan avangaluku bathil kudukanu......</td>\n",
              "      <td>Non_hope_speech</td>\n",
              "    </tr>\n",
              "    <tr>\n",
              "      <th>2019</th>\n",
              "      <td>2020</td>\n",
              "      <td>No views .. but 390 likes 🤣... MG squad</td>\n",
              "      <td>not-Tamil</td>\n",
              "    </tr>\n",
              "  </tbody>\n",
              "</table>\n",
              "<p>2020 rows × 3 columns</p>\n",
              "</div>"
            ],
            "text/plain": [
              "        id                                               text            label\n",
              "0        1       Konjam methuva pesuninganna nalarukum bro...  Non_hope_speech\n",
              "1        2  Sema bro............. தமிழன் என்று சொல்லடா தலை...  Non_hope_speech\n",
              "2        3                 9.52 mg bro  plz crrt pannunga bro      Hope_speech\n",
              "3        4                                        Superb anna      Hope_speech\n",
              "4        5  Central Government kitta irunthu neraiya fund ...  Non_hope_speech\n",
              "...    ...                                                ...              ...\n",
              "2015  2016                                Solunga bro parvala  Non_hope_speech\n",
              "2016  2017  Madangowri anna 9.53s  time note pannunga Indi...  Non_hope_speech\n",
              "2017  2018  Enna nadu vanthu vaccine kudaka matadragalo an...  Non_hope_speech\n",
              "2018  2019  Yes..ipdii thaan avangaluku bathil kudukanu......  Non_hope_speech\n",
              "2019  2020            No views .. but 390 likes 🤣... MG squad        not-Tamil\n",
              "\n",
              "[2020 rows x 3 columns]"
            ]
          },
          "metadata": {
            "tags": []
          },
          "execution_count": 110
        }
      ]
    },
    {
      "cell_type": "code",
      "metadata": {
        "colab": {
          "base_uri": "https://localhost:8080/"
        },
        "id": "J-X-RutiTO7A",
        "outputId": "31a32b6b-d765-4256-e877-8044164baa8e"
      },
      "source": [
        "run['label'].value_counts()"
      ],
      "execution_count": null,
      "outputs": [
        {
          "output_type": "execute_result",
          "data": {
            "text/plain": [
              "Non_hope_speech    1162\n",
              "Hope_speech         560\n",
              "not-Tamil           298\n",
              "Name: label, dtype: int64"
            ]
          },
          "metadata": {
            "tags": []
          },
          "execution_count": 111
        }
      ]
    },
    {
      "cell_type": "code",
      "metadata": {
        "id": "Fup96AasD3F9"
      },
      "source": [
        "run.to_csv(folder_path +'tamil_voting.tsv',sep = '\\t',index = False)"
      ],
      "execution_count": null,
      "outputs": []
    },
    {
      "cell_type": "markdown",
      "metadata": {
        "id": "0IEdBr7JD3F9"
      },
      "source": [
        "##Deep Learning"
      ]
    },
    {
      "cell_type": "code",
      "metadata": {
        "colab": {
          "base_uri": "https://localhost:8080/"
        },
        "id": "De3XnijmD3F-",
        "outputId": "631a3be9-335e-415e-9b4a-b500eb4a5496"
      },
      "source": [
        "import tensorflow as tf\n",
        "from tensorflow import keras\n",
        "from tensorflow.keras.preprocessing.sequence import pad_sequences\n",
        "from tensorflow.keras.preprocessing.text import Tokenizer\n",
        "from tensorflow.keras import regularizers\n",
        "from tensorflow.keras.layers import LSTM,GRU\n",
        "from tensorflow.keras.models import load_model\n",
        "print(\"Tensorflow Version:--\",tf.version.VERSION)\n",
        "print(\"Keras Version:---\",keras.__version__)"
      ],
      "execution_count": null,
      "outputs": [
        {
          "output_type": "stream",
          "text": [
            "Tensorflow Version:-- 2.4.0\n",
            "Keras Version:--- 2.4.0\n"
          ],
          "name": "stdout"
        }
      ]
    },
    {
      "cell_type": "markdown",
      "metadata": {
        "id": "O9pX6dY0D3F-"
      },
      "source": [
        "###Tokenization"
      ]
    },
    {
      "cell_type": "code",
      "metadata": {
        "id": "VfI2efzHD3F-"
      },
      "source": [
        "tokenizer = Tokenizer(num_words = 10000,filters='!\"#$%&()*+,-./:;<=>?@[\\\\]^_`{|}~\\t\\n-', \n",
        "                      split=' ', char_level=False, oov_token='<oov>', document_count=0)\n",
        "tokenizer.fit_on_texts(train_data['text'])  \n",
        "vocab_size = len(tokenizer.word_index)+1"
      ],
      "execution_count": null,
      "outputs": []
    },
    {
      "cell_type": "code",
      "metadata": {
        "colab": {
          "base_uri": "https://localhost:8080/"
        },
        "id": "64ymCQh8D3F_",
        "outputId": "e47bdf40-976c-4343-fbe6-c6be27028d93"
      },
      "source": [
        "print(vocab_size)"
      ],
      "execution_count": null,
      "outputs": [
        {
          "output_type": "stream",
          "text": [
            "34626\n"
          ],
          "name": "stdout"
        }
      ]
    },
    {
      "cell_type": "code",
      "metadata": {
        "colab": {
          "base_uri": "https://localhost:8080/"
        },
        "id": "zHazlfy2D3F_",
        "outputId": "64fc4af4-24eb-4614-8165-7479d94d4fb1"
      },
      "source": [
        "max_len = 50\n",
        "# Training Sequences\n",
        "train_sequences = tokenizer.texts_to_sequences(train_data['text'])\n",
        "print(len(tokenizer.word_index))\n",
        "train_pad_sequences =  keras.preprocessing.sequence.pad_sequences(train_sequences, value=0.0, padding='post', maxlen= max_len)\n",
        "print(\"Number of Training Sequences :\" ,train_pad_sequences.shape)\n",
        "\n",
        "# Validation Sequences\n",
        "validation_sequences = tokenizer.texts_to_sequences(valid_data['text'])\n",
        "validation_pad_sequences =  keras.preprocessing.sequence.pad_sequences(validation_sequences, value=0.0, padding='post', maxlen= max_len)\n",
        "print(\"Number of Validation Sequences :\" ,validation_pad_sequences.shape)"
      ],
      "execution_count": null,
      "outputs": [
        {
          "output_type": "stream",
          "text": [
            "34625\n",
            "Number of Training Sequences : (16160, 50)\n",
            "Number of Validation Sequences : (2018, 50)\n"
          ],
          "name": "stdout"
        }
      ]
    },
    {
      "cell_type": "code",
      "metadata": {
        "colab": {
          "base_uri": "https://localhost:8080/"
        },
        "id": "UcwGECxLD3F_",
        "outputId": "ad842b39-863d-421c-8a47-697f1c8de942"
      },
      "source": [
        "# Test Sequences\n",
        "test_sequences = tokenizer.texts_to_sequences(test_data['text'])\n",
        "test_pad_sequences =  keras.preprocessing.sequence.pad_sequences(test_sequences, value=0.0, padding='post', maxlen= max_len)\n",
        "print(\"Number of Test Sequences :\" ,test_pad_sequences.shape)"
      ],
      "execution_count": null,
      "outputs": [
        {
          "output_type": "stream",
          "text": [
            "Number of Test Sequences : (2020, 50)\n"
          ],
          "name": "stdout"
        }
      ]
    },
    {
      "cell_type": "code",
      "metadata": {
        "id": "kwb1hXR8D3GA"
      },
      "source": [
        "from sklearn.utils import class_weight\n",
        "class_weights = class_weight.compute_class_weight('balanced'\n",
        "                                               ,np.unique(train_data['enc_label'])\n",
        "                                               ,train_data['enc_label'])\n",
        "\n",
        "weight = {i : class_weights[i] for i in range(3)}"
      ],
      "execution_count": null,
      "outputs": []
    },
    {
      "cell_type": "code",
      "metadata": {
        "colab": {
          "base_uri": "https://localhost:8080/"
        },
        "id": "Kpdb_3GED3GA",
        "outputId": "ba94067c-3e00-4f71-c89c-f14f16c8d17e"
      },
      "source": [
        "weight"
      ],
      "execution_count": null,
      "outputs": [
        {
          "output_type": "execute_result",
          "data": {
            "text/plain": [
              "{0: 0.4600590921300027, 1: 1.7114308553157473, 2: 4.131210805595755}"
            ]
          },
          "metadata": {
            "tags": []
          },
          "execution_count": 169
        }
      ]
    },
    {
      "cell_type": "code",
      "metadata": {
        "colab": {
          "base_uri": "https://localhost:8080/"
        },
        "id": "De2_mhjmD3GA",
        "outputId": "2623a776-a632-44ef-dcba-d604173ab4a8"
      },
      "source": [
        "num_classes = 3\n",
        "\n",
        "accuracy_threshold = 0.99\n",
        "\n",
        "class myCallback(keras.callbacks.Callback):\n",
        "  def on_epoch_end(self, epoch, logs={}):\n",
        "      if(logs.get('accuracy')>accuracy_threshold):\n",
        "        print(\"\\nReached %2.2f%% accuracy so we will stop trianing\" % (accuracy_threshold*100))\n",
        "        self.model.stop_training = True\n",
        "\n",
        "acc_callback = myCallback()\n",
        "# Saved the Best Model\n",
        "filepath = folder_path+\"ta_BiLSTMModel.h5\"\n",
        "checkpoint = keras.callbacks.ModelCheckpoint(filepath, monitor='val_accuracy', verbose=2, save_best_only=True, \n",
        "                                             save_weights_only=False, mode='max')\n",
        "# callback list\n",
        "callback_list = [acc_callback, checkpoint] \n",
        "model = tf.keras.models.Sequential([\n",
        "tf.keras.layers.Embedding(10000, 100, input_length = max_len),\n",
        "#tf.keras.layers.Conv1D(128, 5, activation='relu'),\n",
        "#tf.keras.layers.MaxPooling1D(5),\n",
        "tf.keras.layers.Bidirectional(LSTM(units = 128,return_sequences=True,dropout = 0.2)),\n",
        "tf.keras.layers.Flatten(),\n",
        "tf.keras.layers.Dense(3 , activation='softmax')])\n",
        "\n",
        "model.summary()\n"
      ],
      "execution_count": null,
      "outputs": [
        {
          "output_type": "stream",
          "text": [
            "Model: \"sequential_5\"\n",
            "_________________________________________________________________\n",
            "Layer (type)                 Output Shape              Param #   \n",
            "=================================================================\n",
            "embedding_5 (Embedding)      (None, 50, 100)           1000000   \n",
            "_________________________________________________________________\n",
            "bidirectional_5 (Bidirection (None, 50, 256)           234496    \n",
            "_________________________________________________________________\n",
            "flatten_5 (Flatten)          (None, 12800)             0         \n",
            "_________________________________________________________________\n",
            "dense_5 (Dense)              (None, 3)                 38403     \n",
            "=================================================================\n",
            "Total params: 1,272,899\n",
            "Trainable params: 1,272,899\n",
            "Non-trainable params: 0\n",
            "_________________________________________________________________\n"
          ],
          "name": "stdout"
        }
      ]
    },
    {
      "cell_type": "code",
      "metadata": {
        "colab": {
          "base_uri": "https://localhost:8080/"
        },
        "id": "YcAquoAnD3GB",
        "outputId": "ccda2ba7-abd1-4d6a-9013-8478715b401f"
      },
      "source": [
        "model.compile(optimizer=keras.optimizers.Adam(learning_rate=0.001),\n",
        "    loss='sparse_categorical_crossentropy',\n",
        "    metrics=['accuracy'])\n",
        "   \n",
        "history = model.fit(train_pad_sequences,\n",
        "    train_data['enc_label'],\n",
        "    epochs=15,\n",
        "    batch_size = 32,\n",
        "    validation_split = 0.2,\n",
        "    verbose =1,\n",
        "    callbacks = callback_list,\n",
        "    class_weight = weight)"
      ],
      "execution_count": null,
      "outputs": [
        {
          "output_type": "stream",
          "text": [
            "Epoch 1/15\n",
            "404/404 [==============================] - 10s 18ms/step - loss: 0.8987 - accuracy: 0.4638 - val_loss: 0.8331 - val_accuracy: 0.5566\n",
            "\n",
            "Epoch 00001: val_accuracy improved from -inf to 0.55662, saving model to /content/drive/MyDrive/Colab Notebooks/NLP Projects/EACL 2021- Shared Tasks/Hope Speech/ta_BiLSTMModel.h5\n",
            "Epoch 2/15\n",
            "404/404 [==============================] - 6s 15ms/step - loss: 0.6334 - accuracy: 0.6715 - val_loss: 0.8411 - val_accuracy: 0.5492\n",
            "\n",
            "Epoch 00002: val_accuracy did not improve from 0.55662\n",
            "Epoch 3/15\n",
            "404/404 [==============================] - 6s 15ms/step - loss: 0.4793 - accuracy: 0.7600 - val_loss: 0.9767 - val_accuracy: 0.5551\n",
            "\n",
            "Epoch 00003: val_accuracy did not improve from 0.55662\n",
            "Epoch 4/15\n",
            "404/404 [==============================] - 6s 15ms/step - loss: 0.3748 - accuracy: 0.8268 - val_loss: 1.0901 - val_accuracy: 0.5579\n",
            "\n",
            "Epoch 00004: val_accuracy improved from 0.55662 to 0.55786, saving model to /content/drive/MyDrive/Colab Notebooks/NLP Projects/EACL 2021- Shared Tasks/Hope Speech/ta_BiLSTMModel.h5\n",
            "Epoch 5/15\n",
            "404/404 [==============================] - 6s 15ms/step - loss: 0.3254 - accuracy: 0.8504 - val_loss: 1.3131 - val_accuracy: 0.5486\n",
            "\n",
            "Epoch 00005: val_accuracy did not improve from 0.55786\n",
            "Epoch 6/15\n",
            "404/404 [==============================] - 6s 15ms/step - loss: 0.2766 - accuracy: 0.8764 - val_loss: 1.5983 - val_accuracy: 0.5340\n",
            "\n",
            "Epoch 00006: val_accuracy did not improve from 0.55786\n",
            "Epoch 7/15\n",
            "404/404 [==============================] - 6s 15ms/step - loss: 0.2460 - accuracy: 0.8909 - val_loss: 1.7744 - val_accuracy: 0.5316\n",
            "\n",
            "Epoch 00007: val_accuracy did not improve from 0.55786\n",
            "Epoch 8/15\n",
            "404/404 [==============================] - 6s 15ms/step - loss: 0.2148 - accuracy: 0.9046 - val_loss: 1.8245 - val_accuracy: 0.5343\n",
            "\n",
            "Epoch 00008: val_accuracy did not improve from 0.55786\n",
            "Epoch 9/15\n",
            "404/404 [==============================] - 6s 15ms/step - loss: 0.1970 - accuracy: 0.9129 - val_loss: 1.9945 - val_accuracy: 0.5316\n",
            "\n",
            "Epoch 00009: val_accuracy did not improve from 0.55786\n",
            "Epoch 10/15\n",
            "404/404 [==============================] - 6s 15ms/step - loss: 0.1889 - accuracy: 0.9154 - val_loss: 2.3618 - val_accuracy: 0.5316\n",
            "\n",
            "Epoch 00010: val_accuracy did not improve from 0.55786\n",
            "Epoch 11/15\n",
            "404/404 [==============================] - 7s 17ms/step - loss: 0.1798 - accuracy: 0.9167 - val_loss: 2.2327 - val_accuracy: 0.5442\n",
            "\n",
            "Epoch 00011: val_accuracy did not improve from 0.55786\n",
            "Epoch 12/15\n",
            "404/404 [==============================] - 6s 16ms/step - loss: 0.1661 - accuracy: 0.9293 - val_loss: 2.6083 - val_accuracy: 0.5350\n",
            "\n",
            "Epoch 00012: val_accuracy did not improve from 0.55786\n",
            "Epoch 13/15\n",
            "404/404 [==============================] - 6s 15ms/step - loss: 0.1550 - accuracy: 0.9317 - val_loss: 2.6312 - val_accuracy: 0.5322\n",
            "\n",
            "Epoch 00013: val_accuracy did not improve from 0.55786\n",
            "Epoch 14/15\n",
            "404/404 [==============================] - 6s 15ms/step - loss: 0.1446 - accuracy: 0.9371 - val_loss: 2.6313 - val_accuracy: 0.5350\n",
            "\n",
            "Epoch 00014: val_accuracy did not improve from 0.55786\n",
            "Epoch 15/15\n",
            "404/404 [==============================] - 6s 15ms/step - loss: 0.1412 - accuracy: 0.9385 - val_loss: 3.0804 - val_accuracy: 0.5331\n",
            "\n",
            "Epoch 00015: val_accuracy did not improve from 0.55786\n"
          ],
          "name": "stdout"
        }
      ]
    },
    {
      "cell_type": "code",
      "metadata": {
        "colab": {
          "base_uri": "https://localhost:8080/"
        },
        "id": "T_0AXAwmD3GB",
        "outputId": "fbd3f116-e87d-441c-8b1c-c1101720f6c1"
      },
      "source": [
        "# Load the saved model\n",
        "model = load_model(folder_path+'ta_BiLSTMModel.h5')\n",
        "# prediction\n",
        "y_pred = np.argmax(model.predict(validation_pad_sequences), axis=-1)\n",
        "print_metrices(valid_data['enc_label'],y_pred)\n"
      ],
      "execution_count": null,
      "outputs": [
        {
          "output_type": "stream",
          "text": [
            "[[677 346  35]\n",
            " [208 302  27]\n",
            " [113 109 201]]\n",
            "              precision    recall  f1-score   support\n",
            "\n",
            "           0       0.68      0.64      0.66      1058\n",
            "           1       0.40      0.56      0.47       537\n",
            "           2       0.76      0.48      0.59       423\n",
            "\n",
            "    accuracy                           0.58      2018\n",
            "   macro avg       0.61      0.56      0.57      2018\n",
            "weighted avg       0.62      0.58      0.59      2018\n",
            "\n",
            "Accuracy :  0.5847373637264618\n",
            "Precison :  0.5893472900319755\n",
            "Recall :  0.5847373637264618\n",
            "F1 :  0.5771592625799004\n"
          ],
          "name": "stdout"
        }
      ]
    },
    {
      "cell_type": "markdown",
      "metadata": {
        "id": "v2t83vL4D3GB"
      },
      "source": [
        "### Test Set Prediction"
      ]
    },
    {
      "cell_type": "code",
      "metadata": {
        "id": "JtV3DTL4D3GB"
      },
      "source": [
        "test_pred = np.argmax(model.predict(test_pad_sequences), axis=-1).tolist()\n",
        "test_pred"
      ],
      "execution_count": null,
      "outputs": []
    },
    {
      "cell_type": "code",
      "metadata": {
        "id": "aoBZpFsBD3GC"
      },
      "source": [
        "test_data['id'] = test_data.index + 1\n",
        "run = pd.DataFrame(test_data['id'])\n",
        "run['text'] = test_data['text']\n",
        "run['label'] = test_pred\n",
        "run['label'] = run['label'].apply(actual_label)\n",
        "run "
      ],
      "execution_count": null,
      "outputs": []
    },
    {
      "cell_type": "code",
      "metadata": {
        "id": "oZ70ASlAD3GC"
      },
      "source": [
        "run.to_csv(folder_path +'tamil_cnn+bilstm.tsv',sep = '\\t',index = False)"
      ],
      "execution_count": null,
      "outputs": []
    },
    {
      "cell_type": "markdown",
      "metadata": {
        "id": "bviffYuSD3GC"
      },
      "source": [
        "##Pretrained Word Embedding (Fasttext)"
      ]
    },
    {
      "cell_type": "code",
      "metadata": {
        "id": "cMaiyzxfD3GC"
      },
      "source": [
        "from urllib.request import urlopen\n",
        "import gzip\n",
        "\n",
        "# get the vectors\n",
        "file = gzip.open(urlopen('https://dl.fbaipublicfiles.com/fasttext/vectors-crawl/cc.ta.300.vec.gz'))"
      ],
      "execution_count": null,
      "outputs": []
    },
    {
      "cell_type": "code",
      "metadata": {
        "id": "gv6GffTrD3GD"
      },
      "source": [
        "tokenizer = Tokenizer(num_words = 10000,filters='!\"#$%&()*+,-./:;<=>?@[\\\\]^_`{|}~\\t\\n-', \n",
        "                      split=' ', char_level=False, oov_token='<oov>', document_count=0)\n",
        "tokenizer.fit_on_texts(train_data['text'])  \n",
        "word_index = tokenizer.word_index\n",
        "vocab_size = len(word_index )+1"
      ],
      "execution_count": null,
      "outputs": []
    },
    {
      "cell_type": "code",
      "metadata": {
        "id": "gy-3YhSHD3GD"
      },
      "source": [
        "vocab_and_vectors = {}\n",
        "# put words as dict indexes and vectors as words values\n",
        "for line in file:\n",
        "  values = line.split()\n",
        "  word = values [0].decode('utf-8')\n",
        "  vector = np.asarray(values[1:], dtype='float32')\n",
        "  vocab_and_vectors[word] = vector"
      ],
      "execution_count": null,
      "outputs": []
    },
    {
      "cell_type": "code",
      "metadata": {
        "id": "hxrkJZ75D3GD"
      },
      "source": [
        "embedding_matrix = np.zeros((vocab_size, 300))\n",
        "for word, i in word_index.items():\n",
        "  embedding_vector = vocab_and_vectors.get(word)\n",
        "  # words that cannot be found will be set to 0\n",
        "  if embedding_vector is not None:\n",
        "    embedding_matrix[i] = embedding_vector"
      ],
      "execution_count": null,
      "outputs": []
    },
    {
      "cell_type": "code",
      "metadata": {
        "colab": {
          "base_uri": "https://localhost:8080/"
        },
        "id": "ExOaxMGvD3GD",
        "outputId": "f22565db-3e6e-42c1-e1f4-1ed3b281a9d1"
      },
      "source": [
        "max_len = 50\n",
        "# Training Sequences\n",
        "train_sequences = tokenizer.texts_to_sequences(train_data['text'])\n",
        "print(len(tokenizer.word_index))\n",
        "train_pad_sequences =  keras.preprocessing.sequence.pad_sequences(train_sequences, value=0.0, padding='post', maxlen= max_len)\n",
        "print(\"Number of Training Sequences :\" ,train_pad_sequences.shape)\n",
        "\n",
        "# Validation Sequences\n",
        "validation_sequences = tokenizer.texts_to_sequences(valid_data['text'])\n",
        "validation_pad_sequences =  keras.preprocessing.sequence.pad_sequences(validation_sequences, value=0.0, padding='post', maxlen= max_len)\n",
        "print(\"Number of Validation Sequences :\" ,validation_pad_sequences.shape)"
      ],
      "execution_count": null,
      "outputs": [
        {
          "output_type": "stream",
          "text": [
            "34625\n",
            "Number of Training Sequences : (16160, 50)\n",
            "Number of Validation Sequences : (2018, 50)\n"
          ],
          "name": "stdout"
        }
      ]
    },
    {
      "cell_type": "code",
      "metadata": {
        "colab": {
          "base_uri": "https://localhost:8080/"
        },
        "id": "Uf4LWpaoD3GE",
        "outputId": "8c639ec9-4914-4850-f992-e426501df0ee"
      },
      "source": [
        "# Test Sequences\n",
        "test_sequences = tokenizer.texts_to_sequences(test_data['text'])\n",
        "test_pad_sequences =  keras.preprocessing.sequence.pad_sequences(test_sequences, value=0.0, padding='post', maxlen= max_len)\n",
        "print(\"Number of Test Sequences :\" ,test_pad_sequences.shape)"
      ],
      "execution_count": null,
      "outputs": [
        {
          "output_type": "stream",
          "text": [
            "Number of Test Sequences : (2020, 50)\n"
          ],
          "name": "stdout"
        }
      ]
    },
    {
      "cell_type": "code",
      "metadata": {
        "id": "BxfL-01hD3GE"
      },
      "source": [
        "from sklearn.utils import class_weight\n",
        "class_weights = class_weight.compute_class_weight('balanced'\n",
        "                                               ,np.unique(train_data['enc_label'])\n",
        "                                               ,train_data['enc_label'])\n",
        "\n",
        "weight = {i : class_weights[i] for i in range(3)}"
      ],
      "execution_count": null,
      "outputs": []
    },
    {
      "cell_type": "markdown",
      "metadata": {
        "id": "HVIUqWwPD3GE"
      },
      "source": [
        "#### Model Defination"
      ]
    },
    {
      "cell_type": "code",
      "metadata": {
        "colab": {
          "base_uri": "https://localhost:8080/"
        },
        "id": "AU3QpbIsD3GF",
        "outputId": "07788298-5620-474e-cb25-3ecb4659fef8"
      },
      "source": [
        "num_classes = 3\n",
        "\n",
        "accuracy_threshold = 0.99\n",
        "\n",
        "class myCallback(keras.callbacks.Callback):\n",
        "  def on_epoch_end(self, epoch, logs={}):\n",
        "      if(logs.get('accuracy')>accuracy_threshold):\n",
        "        print(\"\\nReached %2.2f%% accuracy so we will stop trianing\" % (accuracy_threshold*100))\n",
        "        self.model.stop_training = True\n",
        "\n",
        "acc_callback = myCallback()\n",
        "# Saved the Best Model\n",
        "filepath = folder_path+\"prt_ta_BiLSTMModel.h5\"\n",
        "checkpoint = keras.callbacks.ModelCheckpoint(filepath, monitor='val_accuracy', verbose=2, save_best_only=True, \n",
        "                                             save_weights_only=False, mode='max')\n",
        "# callback list\n",
        "callback_list = [acc_callback, checkpoint] \n",
        "model = tf.keras.models.Sequential([\n",
        "tf.keras.layers.Embedding(vocab_size, 300,weights=[embedding_matrix],trainable=False, input_length = max_len),\n",
        "tf.keras.layers.Conv1D(128, 5, activation='relu'),\n",
        "tf.keras.layers.MaxPooling1D(5),\n",
        "tf.keras.layers.Bidirectional(LSTM(units = 128,return_sequences=True,dropout = 0.2)),\n",
        "tf.keras.layers.Flatten(),\n",
        "tf.keras.layers.Dense(3 , activation='softmax')])\n",
        "\n",
        "model.summary()\n"
      ],
      "execution_count": null,
      "outputs": [
        {
          "output_type": "stream",
          "text": [
            "Model: \"sequential_6\"\n",
            "_________________________________________________________________\n",
            "Layer (type)                 Output Shape              Param #   \n",
            "=================================================================\n",
            "embedding_6 (Embedding)      (None, 50, 300)           10387800  \n",
            "_________________________________________________________________\n",
            "conv1d_4 (Conv1D)            (None, 46, 128)           192128    \n",
            "_________________________________________________________________\n",
            "max_pooling1d_4 (MaxPooling1 (None, 9, 128)            0         \n",
            "_________________________________________________________________\n",
            "bidirectional_6 (Bidirection (None, 9, 256)            263168    \n",
            "_________________________________________________________________\n",
            "flatten_6 (Flatten)          (None, 2304)              0         \n",
            "_________________________________________________________________\n",
            "dense_6 (Dense)              (None, 3)                 6915      \n",
            "=================================================================\n",
            "Total params: 10,850,011\n",
            "Trainable params: 462,211\n",
            "Non-trainable params: 10,387,800\n",
            "_________________________________________________________________\n"
          ],
          "name": "stdout"
        }
      ]
    },
    {
      "cell_type": "code",
      "metadata": {
        "colab": {
          "base_uri": "https://localhost:8080/"
        },
        "id": "Du9TMOq0D3GF",
        "outputId": "8b6ce0bc-06a0-4a77-d5a9-f3df8547c887"
      },
      "source": [
        "model.compile(optimizer=keras.optimizers.Adam(learning_rate=0.001),\n",
        "    loss='sparse_categorical_crossentropy',\n",
        "    metrics=['accuracy'])\n",
        "   \n",
        "history = model.fit(train_pad_sequences,\n",
        "    train_data['enc_label'],\n",
        "    epochs=25,\n",
        "    batch_size = 32,\n",
        "    validation_split = 0.2,\n",
        "    verbose =1,\n",
        "    callbacks = callback_list,\n",
        "    class_weight = weight)"
      ],
      "execution_count": null,
      "outputs": [
        {
          "output_type": "stream",
          "text": [
            "Epoch 1/25\n",
            "404/404 [==============================] - 7s 11ms/step - loss: 0.8762 - accuracy: 0.4739 - val_loss: 0.8421 - val_accuracy: 0.5393\n",
            "\n",
            "Epoch 00001: val_accuracy improved from -inf to 0.53929, saving model to /content/drive/MyDrive/Colab Notebooks/NLP Projects/EACL 2021- Shared Tasks/Hope Speech/prt_ta_BiLSTMModel.h5\n",
            "Epoch 2/25\n",
            "404/404 [==============================] - 3s 8ms/step - loss: 0.7242 - accuracy: 0.5573 - val_loss: 0.8213 - val_accuracy: 0.5585\n",
            "\n",
            "Epoch 00002: val_accuracy improved from 0.53929 to 0.55848, saving model to /content/drive/MyDrive/Colab Notebooks/NLP Projects/EACL 2021- Shared Tasks/Hope Speech/prt_ta_BiLSTMModel.h5\n",
            "Epoch 3/25\n",
            "404/404 [==============================] - 3s 8ms/step - loss: 0.6759 - accuracy: 0.5931 - val_loss: 0.8565 - val_accuracy: 0.5415\n",
            "\n",
            "Epoch 00003: val_accuracy did not improve from 0.55848\n",
            "Epoch 4/25\n",
            "404/404 [==============================] - 3s 8ms/step - loss: 0.6393 - accuracy: 0.6259 - val_loss: 0.8070 - val_accuracy: 0.5854\n",
            "\n",
            "Epoch 00004: val_accuracy improved from 0.55848 to 0.58540, saving model to /content/drive/MyDrive/Colab Notebooks/NLP Projects/EACL 2021- Shared Tasks/Hope Speech/prt_ta_BiLSTMModel.h5\n",
            "Epoch 5/25\n",
            "404/404 [==============================] - 3s 8ms/step - loss: 0.6034 - accuracy: 0.6516 - val_loss: 0.8253 - val_accuracy: 0.5705\n",
            "\n",
            "Epoch 00005: val_accuracy did not improve from 0.58540\n",
            "Epoch 6/25\n",
            "404/404 [==============================] - 3s 8ms/step - loss: 0.5637 - accuracy: 0.6791 - val_loss: 0.8415 - val_accuracy: 0.5792\n",
            "\n",
            "Epoch 00006: val_accuracy did not improve from 0.58540\n",
            "Epoch 7/25\n",
            "404/404 [==============================] - 3s 8ms/step - loss: 0.5184 - accuracy: 0.7156 - val_loss: 0.9157 - val_accuracy: 0.5504\n",
            "\n",
            "Epoch 00007: val_accuracy did not improve from 0.58540\n",
            "Epoch 8/25\n",
            "404/404 [==============================] - 3s 8ms/step - loss: 0.4789 - accuracy: 0.7424 - val_loss: 0.9370 - val_accuracy: 0.5637\n",
            "\n",
            "Epoch 00008: val_accuracy did not improve from 0.58540\n",
            "Epoch 9/25\n",
            "404/404 [==============================] - 3s 8ms/step - loss: 0.4381 - accuracy: 0.7572 - val_loss: 0.9806 - val_accuracy: 0.5412\n",
            "\n",
            "Epoch 00009: val_accuracy did not improve from 0.58540\n",
            "Epoch 10/25\n",
            "404/404 [==============================] - 3s 8ms/step - loss: 0.4145 - accuracy: 0.7734 - val_loss: 1.0200 - val_accuracy: 0.5644\n",
            "\n",
            "Epoch 00010: val_accuracy did not improve from 0.58540\n",
            "Epoch 11/25\n",
            "404/404 [==============================] - 3s 8ms/step - loss: 0.3894 - accuracy: 0.7939 - val_loss: 1.1159 - val_accuracy: 0.5582\n",
            "\n",
            "Epoch 00011: val_accuracy did not improve from 0.58540\n",
            "Epoch 12/25\n",
            "404/404 [==============================] - 3s 8ms/step - loss: 0.3678 - accuracy: 0.8068 - val_loss: 1.0815 - val_accuracy: 0.5563\n",
            "\n",
            "Epoch 00012: val_accuracy did not improve from 0.58540\n",
            "Epoch 13/25\n",
            "404/404 [==============================] - 3s 8ms/step - loss: 0.3385 - accuracy: 0.8226 - val_loss: 1.1970 - val_accuracy: 0.5569\n",
            "\n",
            "Epoch 00013: val_accuracy did not improve from 0.58540\n",
            "Epoch 14/25\n",
            "404/404 [==============================] - 4s 9ms/step - loss: 0.3247 - accuracy: 0.8342 - val_loss: 1.2498 - val_accuracy: 0.5625\n",
            "\n",
            "Epoch 00014: val_accuracy did not improve from 0.58540\n",
            "Epoch 15/25\n",
            "404/404 [==============================] - 4s 9ms/step - loss: 0.3165 - accuracy: 0.8360 - val_loss: 1.4040 - val_accuracy: 0.5551\n",
            "\n",
            "Epoch 00015: val_accuracy did not improve from 0.58540\n",
            "Epoch 16/25\n",
            "404/404 [==============================] - 3s 8ms/step - loss: 0.2987 - accuracy: 0.8502 - val_loss: 1.3333 - val_accuracy: 0.5569\n",
            "\n",
            "Epoch 00016: val_accuracy did not improve from 0.58540\n",
            "Epoch 17/25\n",
            "404/404 [==============================] - 3s 8ms/step - loss: 0.2970 - accuracy: 0.8555 - val_loss: 1.3259 - val_accuracy: 0.5396\n",
            "\n",
            "Epoch 00017: val_accuracy did not improve from 0.58540\n",
            "Epoch 18/25\n",
            "404/404 [==============================] - 3s 8ms/step - loss: 0.2757 - accuracy: 0.8659 - val_loss: 1.3846 - val_accuracy: 0.5631\n",
            "\n",
            "Epoch 00018: val_accuracy did not improve from 0.58540\n",
            "Epoch 19/25\n",
            "404/404 [==============================] - 3s 8ms/step - loss: 0.2619 - accuracy: 0.8685 - val_loss: 1.3896 - val_accuracy: 0.5684\n",
            "\n",
            "Epoch 00019: val_accuracy did not improve from 0.58540\n",
            "Epoch 20/25\n",
            "404/404 [==============================] - 3s 8ms/step - loss: 0.2562 - accuracy: 0.8714 - val_loss: 1.4165 - val_accuracy: 0.5622\n",
            "\n",
            "Epoch 00020: val_accuracy did not improve from 0.58540\n",
            "Epoch 21/25\n",
            "404/404 [==============================] - 3s 8ms/step - loss: 0.2452 - accuracy: 0.8813 - val_loss: 1.4111 - val_accuracy: 0.5566\n",
            "\n",
            "Epoch 00021: val_accuracy did not improve from 0.58540\n",
            "Epoch 22/25\n",
            "404/404 [==============================] - 3s 8ms/step - loss: 0.2486 - accuracy: 0.8806 - val_loss: 1.5423 - val_accuracy: 0.5473\n",
            "\n",
            "Epoch 00022: val_accuracy did not improve from 0.58540\n",
            "Epoch 23/25\n",
            "404/404 [==============================] - 3s 8ms/step - loss: 0.2320 - accuracy: 0.8892 - val_loss: 1.4554 - val_accuracy: 0.5591\n",
            "\n",
            "Epoch 00023: val_accuracy did not improve from 0.58540\n",
            "Epoch 24/25\n",
            "404/404 [==============================] - 3s 8ms/step - loss: 0.2220 - accuracy: 0.8906 - val_loss: 1.5796 - val_accuracy: 0.5588\n",
            "\n",
            "Epoch 00024: val_accuracy did not improve from 0.58540\n",
            "Epoch 25/25\n",
            "404/404 [==============================] - 3s 8ms/step - loss: 0.2191 - accuracy: 0.8940 - val_loss: 1.6124 - val_accuracy: 0.5616\n",
            "\n",
            "Epoch 00025: val_accuracy did not improve from 0.58540\n"
          ],
          "name": "stdout"
        }
      ]
    },
    {
      "cell_type": "code",
      "metadata": {
        "colab": {
          "base_uri": "https://localhost:8080/"
        },
        "id": "Clb5OD53D3GG",
        "outputId": "838cd396-c42b-4a20-ac93-d008dbe1b82d"
      },
      "source": [
        "# Load the saved model\n",
        "model = load_model(folder_path+'prt_ta_BiLSTMModel.h5')\n",
        "# prediction\n",
        "y_pred = np.argmax(model.predict(validation_pad_sequences), axis=-1)\n",
        "print_metrices(valid_data['enc_label'],y_pred)\n"
      ],
      "execution_count": null,
      "outputs": [
        {
          "output_type": "stream",
          "text": [
            "[[691 372  31]\n",
            " [182 281  25]\n",
            " [125 104 207]]\n",
            "              precision    recall  f1-score   support\n",
            "\n",
            "           0       0.69      0.63      0.66      1094\n",
            "           1       0.37      0.58      0.45       488\n",
            "           2       0.79      0.47      0.59       436\n",
            "\n",
            "    accuracy                           0.58      2018\n",
            "   macro avg       0.62      0.56      0.57      2018\n",
            "weighted avg       0.64      0.58      0.60      2018\n",
            "\n",
            "Accuracy :  0.5842418235877106\n",
            "Precison :  0.5902497389800675\n",
            "Recall :  0.5842418235877106\n",
            "F1 :  0.5732274170185286\n"
          ],
          "name": "stdout"
        }
      ]
    },
    {
      "cell_type": "code",
      "metadata": {
        "id": "oMorNls_D3GG"
      },
      "source": [
        "test_pred = np.argmax(model.predict(test_pad_sequences), axis=-1).tolist()\n",
        "test_pred"
      ],
      "execution_count": null,
      "outputs": []
    },
    {
      "cell_type": "code",
      "metadata": {
        "colab": {
          "base_uri": "https://localhost:8080/",
          "height": 407
        },
        "id": "mvvL4k3HD3GG",
        "outputId": "82d43223-9e1f-4cc0-c327-7ea487a137a3"
      },
      "source": [
        "test_data['id'] = test_data.index + 1\n",
        "run = pd.DataFrame(test_data['id'])\n",
        "run['text'] = test_data['text']\n",
        "run['label'] = test_pred\n",
        "run['label'] = run['label'].apply(actual_label)\n",
        "run \n"
      ],
      "execution_count": null,
      "outputs": [
        {
          "output_type": "execute_result",
          "data": {
            "text/html": [
              "<div>\n",
              "<style scoped>\n",
              "    .dataframe tbody tr th:only-of-type {\n",
              "        vertical-align: middle;\n",
              "    }\n",
              "\n",
              "    .dataframe tbody tr th {\n",
              "        vertical-align: top;\n",
              "    }\n",
              "\n",
              "    .dataframe thead th {\n",
              "        text-align: right;\n",
              "    }\n",
              "</style>\n",
              "<table border=\"1\" class=\"dataframe\">\n",
              "  <thead>\n",
              "    <tr style=\"text-align: right;\">\n",
              "      <th></th>\n",
              "      <th>id</th>\n",
              "      <th>text</th>\n",
              "      <th>label</th>\n",
              "    </tr>\n",
              "  </thead>\n",
              "  <tbody>\n",
              "    <tr>\n",
              "      <th>0</th>\n",
              "      <td>1</td>\n",
              "      <td>Konjam methuva pesuninganna nalarukum bro...</td>\n",
              "      <td>Non_hope_speech</td>\n",
              "    </tr>\n",
              "    <tr>\n",
              "      <th>1</th>\n",
              "      <td>2</td>\n",
              "      <td>Sema bro............. தமிழன் என்று சொல்லடா தலை...</td>\n",
              "      <td>Hope_speech</td>\n",
              "    </tr>\n",
              "    <tr>\n",
              "      <th>2</th>\n",
              "      <td>3</td>\n",
              "      <td>9.52 mg bro  plz crrt pannunga bro</td>\n",
              "      <td>Hope_speech</td>\n",
              "    </tr>\n",
              "    <tr>\n",
              "      <th>3</th>\n",
              "      <td>4</td>\n",
              "      <td>Superb anna</td>\n",
              "      <td>Hope_speech</td>\n",
              "    </tr>\n",
              "    <tr>\n",
              "      <th>4</th>\n",
              "      <td>5</td>\n",
              "      <td>Central Government kitta irunthu neraiya fund ...</td>\n",
              "      <td>Non_hope_speech</td>\n",
              "    </tr>\n",
              "    <tr>\n",
              "      <th>...</th>\n",
              "      <td>...</td>\n",
              "      <td>...</td>\n",
              "      <td>...</td>\n",
              "    </tr>\n",
              "    <tr>\n",
              "      <th>2015</th>\n",
              "      <td>2016</td>\n",
              "      <td>Solunga bro parvala</td>\n",
              "      <td>not-Tamil</td>\n",
              "    </tr>\n",
              "    <tr>\n",
              "      <th>2016</th>\n",
              "      <td>2017</td>\n",
              "      <td>Madangowri anna 9.53s  time note pannunga Indi...</td>\n",
              "      <td>Hope_speech</td>\n",
              "    </tr>\n",
              "    <tr>\n",
              "      <th>2017</th>\n",
              "      <td>2018</td>\n",
              "      <td>Enna nadu vanthu vaccine kudaka matadragalo an...</td>\n",
              "      <td>Non_hope_speech</td>\n",
              "    </tr>\n",
              "    <tr>\n",
              "      <th>2018</th>\n",
              "      <td>2019</td>\n",
              "      <td>Yes..ipdii thaan avangaluku bathil kudukanu......</td>\n",
              "      <td>Non_hope_speech</td>\n",
              "    </tr>\n",
              "    <tr>\n",
              "      <th>2019</th>\n",
              "      <td>2020</td>\n",
              "      <td>No views .. but 390 likes 🤣... MG squad</td>\n",
              "      <td>Hope_speech</td>\n",
              "    </tr>\n",
              "  </tbody>\n",
              "</table>\n",
              "<p>2020 rows × 3 columns</p>\n",
              "</div>"
            ],
            "text/plain": [
              "        id                                               text            label\n",
              "0        1       Konjam methuva pesuninganna nalarukum bro...  Non_hope_speech\n",
              "1        2  Sema bro............. தமிழன் என்று சொல்லடா தலை...      Hope_speech\n",
              "2        3                 9.52 mg bro  plz crrt pannunga bro      Hope_speech\n",
              "3        4                                        Superb anna      Hope_speech\n",
              "4        5  Central Government kitta irunthu neraiya fund ...  Non_hope_speech\n",
              "...    ...                                                ...              ...\n",
              "2015  2016                                Solunga bro parvala        not-Tamil\n",
              "2016  2017  Madangowri anna 9.53s  time note pannunga Indi...      Hope_speech\n",
              "2017  2018  Enna nadu vanthu vaccine kudaka matadragalo an...  Non_hope_speech\n",
              "2018  2019  Yes..ipdii thaan avangaluku bathil kudukanu......  Non_hope_speech\n",
              "2019  2020            No views .. but 390 likes 🤣... MG squad      Hope_speech\n",
              "\n",
              "[2020 rows x 3 columns]"
            ]
          },
          "metadata": {
            "tags": []
          },
          "execution_count": 155
        }
      ]
    },
    {
      "cell_type": "code",
      "metadata": {
        "id": "Q6qsEpJ3D3GH"
      },
      "source": [
        "run.to_csv(folder_path +'tamil_cnn+bilstm+fasttext.tsv',sep = '\\t',index = False)"
      ],
      "execution_count": null,
      "outputs": []
    }
  ]
}
